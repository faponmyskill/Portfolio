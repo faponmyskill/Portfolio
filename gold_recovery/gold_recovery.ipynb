{
 "cells": [
  {
   "cell_type": "markdown",
   "metadata": {},
   "source": [
    "<div style=\"background: #cceeaa; padding: 5px; border: 1px solid green; border-radius: 5px;\">\n",
    "    <font color='green'> <b><u>КОММЕНТАРИЙ РЕВЬЮЕРА</u></b>\n",
    "\n",
    "Александр, доброго дня! рад приветствовать тебя) <br />\n",
    "<br />\n",
    "Меня зовут Николай Шавлюго. <br />И на этом этапе твоего движения к новой профессии от меня будут комментарии по написанному коду. <br />Чтобы меньше \"мусорить эфир\" и чтобы максимально наглядно отделяться от основного кода, есть предложение условиться в некоторых обозначениях:<br /> <br />\n",
    "<u><b>ТАКОЙ ШРИФТ</b></u> - всегда начало комментария <br />\n",
    "<font color='green'>такой шрифт</font> - комментарии о том, что всё ОК <br/>\n",
    "<font color='orange'>такой шрифт</font> - комментарии о том, что всё ОК по результату,<br> однако есть на что обратить внимание в плане применения техник, или есть способы сделать более короткий или быстрый код <br/>\n",
    "<font color='red'>такой шрифт</font> - комментарии о том, что есть критичный момент, влияющий на бизнес-результат проекта.<br/>\n",
    "</font><br /><br />\n",
    "<font color='green'>Моей целью является не \"уличить\" в не знании, а просто высказать сверху твоих знаний - свой опыт, что бы ты мог использовать его для своего дальнейшего успеха) И очень здорово будет, если тебе удастся задавать вопросы, да и вообще - всячески доставать меня, если я по каким-то причинам не приму проект:) При этом, из своего опыта скажу, хорошо и важно, когда переписка ревьюера и студента - сохраняется на следующие проекты и даже на будущую практическую деятельность.<br>\n",
    "<br> Я сразу же начал общаться на ты:) но если это не очень удобно, то дай знать)) <BR> В ПУТЬ!<br>"
   ]
  },
  {
   "cell_type": "markdown",
   "metadata": {
    "toc": true
   },
   "source": [
    "<h1>Содержание<span class=\"tocSkip\"></span></h1>\n",
    "<div class=\"toc\"><ul class=\"toc-item\"><li><span><a href=\"#Подготовка-данных\" data-toc-modified-id=\"Подготовка-данных-1\">Подготовка данных</a></span></li><li><span><a href=\"#Анализ-данных\" data-toc-modified-id=\"Анализ-данных-2\">Анализ данных</a></span></li><li><span><a href=\"#Модель\" data-toc-modified-id=\"Модель-3\">Модель</a></span></li><li><span><a href=\"#Чек-лист-готовности-проекта\" data-toc-modified-id=\"Чек-лист-готовности-проекта-4\">Чек-лист готовности проекта</a></span></li></ul></div>"
   ]
  },
  {
   "cell_type": "markdown",
   "metadata": {},
   "source": [
    "# Восстановление золота из руды"
   ]
  },
  {
   "cell_type": "markdown",
   "metadata": {},
   "source": [
    "Подготовьте прототип модели машинного обучения для «Цифры». Компания разрабатывает решения для эффективной работы промышленных предприятий.\n",
    "\n",
    "Модель должна предсказать коэффициент восстановления золота из золотосодержащей руды. Используйте данные с параметрами добычи и очистки. \n",
    "\n",
    "Модель поможет оптимизировать производство, чтобы не запускать предприятие с убыточными характеристиками.\n",
    "\n",
    "Вам нужно:\n",
    "\n",
    "1. Подготовить данные;\n",
    "2. Провести исследовательский анализ данных;\n",
    "3. Построить и обучить модель.\n",
    "\n",
    "Чтобы выполнить проект, обращайтесь к библиотекам *pandas*, *matplotlib* и *sklearn.* Вам поможет их документация."
   ]
  },
  {
   "cell_type": "markdown",
   "metadata": {},
   "source": [
    "## Подготовка данных"
   ]
  },
  {
   "cell_type": "markdown",
   "metadata": {},
   "source": [
    "    **Технологический процесс**\n",
    "    Rougher feed — исходное сырье\n",
    "    Rougher additions (или reagent additions) — флотационные реагенты: Xanthate, Sulphate, Depressant\n",
    "    Xanthate — ксантогенат (промотер, или активатор флотации);\n",
    "    Sulphate — сульфат (на данном производстве сульфид натрия);\n",
    "    Depressant — депрессант (силикат натрия).\n",
    "    Rougher process (англ. «грубый процесс») — флотация\n",
    "    Rougher tails — отвальные хвосты\n",
    "    Float banks — флотационная установка\n",
    "    Cleaner process — очистка\n",
    "    Rougher Au — черновой концентрат золота\n",
    "    Final Au — финальный концентрат золота\n",
    "    **Параметры этапов**\n",
    "    air amount — объём воздуха\n",
    "    fluid levels — уровень жидкости\n",
    "    feed size — размер гранул сырья\n",
    "    feed rate — скорость подачи"
   ]
  },
  {
   "cell_type": "markdown",
   "metadata": {},
   "source": [
    "**Наименование признаков**\n",
    "\n",
    "   **Наименование признаков должно быть такое:**\n",
    "   \n",
    "        [этап].[тип_параметра].[название_параметра]\n",
    "        Пример: rougher.input.feed_ag\n",
    "        \n",
    "   **Возможные значения для блока [этап]:**\n",
    "   \n",
    "        rougher — флотация\n",
    "        primary_cleaner — первичная очистка\n",
    "        secondary_cleaner — вторичная очистка\n",
    "        final — финальные характеристики\n",
    "        \n",
    "   **Возможные значения для блока [тип_параметра]:**\n",
    "   \n",
    "        input — параметры сырья\n",
    "        output — параметры продукта\n",
    "        state — параметры, характеризующие текущее состояние этапа\n",
    "        calculation — расчётные характеристики\n"
   ]
  },
  {
   "cell_type": "code",
   "execution_count": 1,
   "metadata": {},
   "outputs": [],
   "source": [
    "import pandas as pd\n",
    "import numpy as np\n",
    "\n",
    "from sklearn.metrics import mean_absolute_error\n",
    "from sklearn.ensemble import RandomForestRegressor\n",
    "from sklearn.tree import DecisionTreeRegressor\n",
    "from sklearn.model_selection import cross_val_score\n",
    "from sklearn.model_selection import GridSearchCV\n",
    "from sklearn.metrics import make_scorer\n",
    "from sklearn.dummy import DummyRegressor\n",
    "from sklearn.preprocessing import StandardScaler\n",
    "\n",
    "\n",
    "import seaborn as sns\n",
    "import matplotlib.pyplot as plt"
   ]
  },
  {
   "cell_type": "code",
   "execution_count": 2,
   "metadata": {},
   "outputs": [],
   "source": [
    "df_train = pd.read_csv(\"/datasets/gold_recovery_train_new.csv\") \n",
    "df_test = pd.read_csv(\"/datasets/gold_recovery_test_new.csv\")\n",
    "df_full = pd.read_csv(\"/datasets/gold_recovery_full_new.csv\")"
   ]
  },
  {
   "cell_type": "markdown",
   "metadata": {},
   "source": [
    "<div style=\"background: #cceeaa; padding: 5px; border: 1px solid green; border-radius: 5px;\">\n",
    "<font color='green'> \n",
    "<u>КОММЕНТАРИЙ РЕВЬЮЕРА</u>\n",
    "<font color='green'><br>ОК, данные на базе) (причём новые данные)"
   ]
  },
  {
   "cell_type": "code",
   "execution_count": 3,
   "metadata": {},
   "outputs": [
    {
     "name": "stdout",
     "output_type": "stream",
     "text": [
      "<class 'pandas.core.frame.DataFrame'>\n",
      "RangeIndex: 19439 entries, 0 to 19438\n",
      "Data columns (total 87 columns):\n",
      "date                                                  19439 non-null object\n",
      "final.output.concentrate_ag                           19438 non-null float64\n",
      "final.output.concentrate_pb                           19438 non-null float64\n",
      "final.output.concentrate_sol                          19228 non-null float64\n",
      "final.output.concentrate_au                           19439 non-null float64\n",
      "final.output.recovery                                 19439 non-null float64\n",
      "final.output.tail_ag                                  19438 non-null float64\n",
      "final.output.tail_pb                                  19338 non-null float64\n",
      "final.output.tail_sol                                 19433 non-null float64\n",
      "final.output.tail_au                                  19439 non-null float64\n",
      "primary_cleaner.input.sulfate                         19415 non-null float64\n",
      "primary_cleaner.input.depressant                      19402 non-null float64\n",
      "primary_cleaner.input.feed_size                       19439 non-null float64\n",
      "primary_cleaner.input.xanthate                        19335 non-null float64\n",
      "primary_cleaner.output.concentrate_ag                 19439 non-null float64\n",
      "primary_cleaner.output.concentrate_pb                 19323 non-null float64\n",
      "primary_cleaner.output.concentrate_sol                19069 non-null float64\n",
      "primary_cleaner.output.concentrate_au                 19439 non-null float64\n",
      "primary_cleaner.output.tail_ag                        19435 non-null float64\n",
      "primary_cleaner.output.tail_pb                        19418 non-null float64\n",
      "primary_cleaner.output.tail_sol                       19377 non-null float64\n",
      "primary_cleaner.output.tail_au                        19439 non-null float64\n",
      "primary_cleaner.state.floatbank8_a_air                19435 non-null float64\n",
      "primary_cleaner.state.floatbank8_a_level              19438 non-null float64\n",
      "primary_cleaner.state.floatbank8_b_air                19435 non-null float64\n",
      "primary_cleaner.state.floatbank8_b_level              19438 non-null float64\n",
      "primary_cleaner.state.floatbank8_c_air                19437 non-null float64\n",
      "primary_cleaner.state.floatbank8_c_level              19438 non-null float64\n",
      "primary_cleaner.state.floatbank8_d_air                19436 non-null float64\n",
      "primary_cleaner.state.floatbank8_d_level              19438 non-null float64\n",
      "rougher.calculation.sulfate_to_au_concentrate         19437 non-null float64\n",
      "rougher.calculation.floatbank10_sulfate_to_au_feed    19437 non-null float64\n",
      "rougher.calculation.floatbank11_sulfate_to_au_feed    19437 non-null float64\n",
      "rougher.calculation.au_pb_ratio                       19439 non-null float64\n",
      "rougher.input.feed_ag                                 19439 non-null float64\n",
      "rougher.input.feed_pb                                 19339 non-null float64\n",
      "rougher.input.feed_rate                               19428 non-null float64\n",
      "rougher.input.feed_size                               19294 non-null float64\n",
      "rougher.input.feed_sol                                19340 non-null float64\n",
      "rougher.input.feed_au                                 19439 non-null float64\n",
      "rougher.input.floatbank10_sulfate                     19405 non-null float64\n",
      "rougher.input.floatbank10_xanthate                    19431 non-null float64\n",
      "rougher.input.floatbank11_sulfate                     19395 non-null float64\n",
      "rougher.input.floatbank11_xanthate                    18986 non-null float64\n",
      "rougher.output.concentrate_ag                         19439 non-null float64\n",
      "rougher.output.concentrate_pb                         19439 non-null float64\n",
      "rougher.output.concentrate_sol                        19416 non-null float64\n",
      "rougher.output.concentrate_au                         19439 non-null float64\n",
      "rougher.output.recovery                               19439 non-null float64\n",
      "rougher.output.tail_ag                                19438 non-null float64\n",
      "rougher.output.tail_pb                                19439 non-null float64\n",
      "rougher.output.tail_sol                               19439 non-null float64\n",
      "rougher.output.tail_au                                19439 non-null float64\n",
      "rougher.state.floatbank10_a_air                       19438 non-null float64\n",
      "rougher.state.floatbank10_a_level                     19438 non-null float64\n",
      "rougher.state.floatbank10_b_air                       19438 non-null float64\n",
      "rougher.state.floatbank10_b_level                     19438 non-null float64\n",
      "rougher.state.floatbank10_c_air                       19438 non-null float64\n",
      "rougher.state.floatbank10_c_level                     19438 non-null float64\n",
      "rougher.state.floatbank10_d_air                       19439 non-null float64\n",
      "rougher.state.floatbank10_d_level                     19439 non-null float64\n",
      "rougher.state.floatbank10_e_air                       19003 non-null float64\n",
      "rougher.state.floatbank10_e_level                     19439 non-null float64\n",
      "rougher.state.floatbank10_f_air                       19439 non-null float64\n",
      "rougher.state.floatbank10_f_level                     19439 non-null float64\n",
      "secondary_cleaner.output.tail_ag                      19437 non-null float64\n",
      "secondary_cleaner.output.tail_pb                      19427 non-null float64\n",
      "secondary_cleaner.output.tail_sol                     17691 non-null float64\n",
      "secondary_cleaner.output.tail_au                      19439 non-null float64\n",
      "secondary_cleaner.state.floatbank2_a_air              19219 non-null float64\n",
      "secondary_cleaner.state.floatbank2_a_level            19438 non-null float64\n",
      "secondary_cleaner.state.floatbank2_b_air              19416 non-null float64\n",
      "secondary_cleaner.state.floatbank2_b_level            19438 non-null float64\n",
      "secondary_cleaner.state.floatbank3_a_air              19426 non-null float64\n",
      "secondary_cleaner.state.floatbank3_a_level            19438 non-null float64\n",
      "secondary_cleaner.state.floatbank3_b_air              19438 non-null float64\n",
      "secondary_cleaner.state.floatbank3_b_level            19438 non-null float64\n",
      "secondary_cleaner.state.floatbank4_a_air              19433 non-null float64\n",
      "secondary_cleaner.state.floatbank4_a_level            19438 non-null float64\n",
      "secondary_cleaner.state.floatbank4_b_air              19438 non-null float64\n",
      "secondary_cleaner.state.floatbank4_b_level            19438 non-null float64\n",
      "secondary_cleaner.state.floatbank5_a_air              19438 non-null float64\n",
      "secondary_cleaner.state.floatbank5_a_level            19438 non-null float64\n",
      "secondary_cleaner.state.floatbank5_b_air              19438 non-null float64\n",
      "secondary_cleaner.state.floatbank5_b_level            19438 non-null float64\n",
      "secondary_cleaner.state.floatbank6_a_air              19437 non-null float64\n",
      "secondary_cleaner.state.floatbank6_a_level            19438 non-null float64\n",
      "dtypes: float64(86), object(1)\n",
      "memory usage: 12.9+ MB\n"
     ]
    }
   ],
   "source": [
    "#посмотрим общую информацию и пропущенные значения на общей базе\n",
    "df_full.info()"
   ]
  },
  {
   "cell_type": "code",
   "execution_count": 4,
   "metadata": {},
   "outputs": [
    {
     "data": {
      "text/html": [
       "<div>\n",
       "<style scoped>\n",
       "    .dataframe tbody tr th:only-of-type {\n",
       "        vertical-align: middle;\n",
       "    }\n",
       "\n",
       "    .dataframe tbody tr th {\n",
       "        vertical-align: top;\n",
       "    }\n",
       "\n",
       "    .dataframe thead th {\n",
       "        text-align: right;\n",
       "    }\n",
       "</style>\n",
       "<table border=\"1\" class=\"dataframe\">\n",
       "  <thead>\n",
       "    <tr style=\"text-align: right;\">\n",
       "      <th></th>\n",
       "      <th>date</th>\n",
       "      <th>final.output.concentrate_ag</th>\n",
       "      <th>final.output.concentrate_pb</th>\n",
       "      <th>final.output.concentrate_sol</th>\n",
       "      <th>final.output.concentrate_au</th>\n",
       "      <th>final.output.recovery</th>\n",
       "      <th>final.output.tail_ag</th>\n",
       "      <th>final.output.tail_pb</th>\n",
       "      <th>final.output.tail_sol</th>\n",
       "      <th>final.output.tail_au</th>\n",
       "      <th>...</th>\n",
       "      <th>secondary_cleaner.state.floatbank4_a_air</th>\n",
       "      <th>secondary_cleaner.state.floatbank4_a_level</th>\n",
       "      <th>secondary_cleaner.state.floatbank4_b_air</th>\n",
       "      <th>secondary_cleaner.state.floatbank4_b_level</th>\n",
       "      <th>secondary_cleaner.state.floatbank5_a_air</th>\n",
       "      <th>secondary_cleaner.state.floatbank5_a_level</th>\n",
       "      <th>secondary_cleaner.state.floatbank5_b_air</th>\n",
       "      <th>secondary_cleaner.state.floatbank5_b_level</th>\n",
       "      <th>secondary_cleaner.state.floatbank6_a_air</th>\n",
       "      <th>secondary_cleaner.state.floatbank6_a_level</th>\n",
       "    </tr>\n",
       "  </thead>\n",
       "  <tbody>\n",
       "    <tr>\n",
       "      <td>47</td>\n",
       "      <td>2016-01-16 23:00:00</td>\n",
       "      <td>4.591462</td>\n",
       "      <td>10.628846</td>\n",
       "      <td>5.688961</td>\n",
       "      <td>46.663335</td>\n",
       "      <td>55.088448</td>\n",
       "      <td>10.694584</td>\n",
       "      <td>1.671644</td>\n",
       "      <td>17.910312</td>\n",
       "      <td>2.686782</td>\n",
       "      <td>...</td>\n",
       "      <td>13.997488</td>\n",
       "      <td>-551.224653</td>\n",
       "      <td>11.971272</td>\n",
       "      <td>-550.095619</td>\n",
       "      <td>9.981163</td>\n",
       "      <td>-502.869109</td>\n",
       "      <td>7.941184</td>\n",
       "      <td>-500.623610</td>\n",
       "      <td>12.018837</td>\n",
       "      <td>-600.916665</td>\n",
       "    </tr>\n",
       "    <tr>\n",
       "      <td>48</td>\n",
       "      <td>2016-01-17 00:00:00</td>\n",
       "      <td>5.296830</td>\n",
       "      <td>10.597469</td>\n",
       "      <td>NaN</td>\n",
       "      <td>44.015642</td>\n",
       "      <td>41.962008</td>\n",
       "      <td>11.975654</td>\n",
       "      <td>1.846558</td>\n",
       "      <td>8.138408</td>\n",
       "      <td>2.889469</td>\n",
       "      <td>...</td>\n",
       "      <td>14.006476</td>\n",
       "      <td>-549.388727</td>\n",
       "      <td>11.975967</td>\n",
       "      <td>-550.778624</td>\n",
       "      <td>9.989726</td>\n",
       "      <td>-499.607365</td>\n",
       "      <td>7.958252</td>\n",
       "      <td>-498.882560</td>\n",
       "      <td>11.967977</td>\n",
       "      <td>-599.440603</td>\n",
       "    </tr>\n",
       "    <tr>\n",
       "      <td>49</td>\n",
       "      <td>2016-01-17 02:00:00</td>\n",
       "      <td>8.162896</td>\n",
       "      <td>8.877528</td>\n",
       "      <td>NaN</td>\n",
       "      <td>40.715973</td>\n",
       "      <td>49.884856</td>\n",
       "      <td>10.381465</td>\n",
       "      <td>1.024030</td>\n",
       "      <td>12.974257</td>\n",
       "      <td>2.739224</td>\n",
       "      <td>...</td>\n",
       "      <td>13.984906</td>\n",
       "      <td>-550.563329</td>\n",
       "      <td>11.999730</td>\n",
       "      <td>-550.549773</td>\n",
       "      <td>9.941869</td>\n",
       "      <td>-503.282068</td>\n",
       "      <td>8.018850</td>\n",
       "      <td>-500.970716</td>\n",
       "      <td>11.991078</td>\n",
       "      <td>-598.475929</td>\n",
       "    </tr>\n",
       "    <tr>\n",
       "      <td>65</td>\n",
       "      <td>2016-01-17 19:00:00</td>\n",
       "      <td>5.976553</td>\n",
       "      <td>10.996561</td>\n",
       "      <td>NaN</td>\n",
       "      <td>43.523390</td>\n",
       "      <td>62.514075</td>\n",
       "      <td>11.439665</td>\n",
       "      <td>1.255373</td>\n",
       "      <td>9.235768</td>\n",
       "      <td>2.770570</td>\n",
       "      <td>...</td>\n",
       "      <td>14.000420</td>\n",
       "      <td>-550.369289</td>\n",
       "      <td>11.993860</td>\n",
       "      <td>-550.801872</td>\n",
       "      <td>10.019677</td>\n",
       "      <td>-502.134984</td>\n",
       "      <td>8.028135</td>\n",
       "      <td>-500.026321</td>\n",
       "      <td>11.999417</td>\n",
       "      <td>-601.306527</td>\n",
       "    </tr>\n",
       "    <tr>\n",
       "      <td>66</td>\n",
       "      <td>2016-01-17 20:00:00</td>\n",
       "      <td>5.849873</td>\n",
       "      <td>10.630010</td>\n",
       "      <td>NaN</td>\n",
       "      <td>43.582899</td>\n",
       "      <td>61.819261</td>\n",
       "      <td>11.415898</td>\n",
       "      <td>1.373004</td>\n",
       "      <td>9.696283</td>\n",
       "      <td>2.816412</td>\n",
       "      <td>...</td>\n",
       "      <td>14.017045</td>\n",
       "      <td>-549.905281</td>\n",
       "      <td>12.002873</td>\n",
       "      <td>-550.416734</td>\n",
       "      <td>9.960796</td>\n",
       "      <td>-497.271602</td>\n",
       "      <td>8.028384</td>\n",
       "      <td>-499.558407</td>\n",
       "      <td>11.978157</td>\n",
       "      <td>-598.788524</td>\n",
       "    </tr>\n",
       "    <tr>\n",
       "      <td>67</td>\n",
       "      <td>2016-01-17 21:00:00</td>\n",
       "      <td>5.608075</td>\n",
       "      <td>10.683667</td>\n",
       "      <td>NaN</td>\n",
       "      <td>44.966499</td>\n",
       "      <td>63.767242</td>\n",
       "      <td>11.462566</td>\n",
       "      <td>1.413849</td>\n",
       "      <td>10.764420</td>\n",
       "      <td>2.755172</td>\n",
       "      <td>...</td>\n",
       "      <td>14.038568</td>\n",
       "      <td>-549.818311</td>\n",
       "      <td>11.972607</td>\n",
       "      <td>-550.311739</td>\n",
       "      <td>10.074953</td>\n",
       "      <td>-500.657987</td>\n",
       "      <td>7.974807</td>\n",
       "      <td>-500.155945</td>\n",
       "      <td>11.985006</td>\n",
       "      <td>-600.107206</td>\n",
       "    </tr>\n",
       "    <tr>\n",
       "      <td>72</td>\n",
       "      <td>2016-01-18 02:00:00</td>\n",
       "      <td>4.537821</td>\n",
       "      <td>11.108789</td>\n",
       "      <td>4.964392</td>\n",
       "      <td>44.631736</td>\n",
       "      <td>72.825821</td>\n",
       "      <td>10.188482</td>\n",
       "      <td>1.410536</td>\n",
       "      <td>20.955075</td>\n",
       "      <td>2.238369</td>\n",
       "      <td>...</td>\n",
       "      <td>14.064474</td>\n",
       "      <td>-551.573603</td>\n",
       "      <td>11.974107</td>\n",
       "      <td>-550.699412</td>\n",
       "      <td>10.028196</td>\n",
       "      <td>-500.331171</td>\n",
       "      <td>8.072443</td>\n",
       "      <td>-499.359611</td>\n",
       "      <td>11.973959</td>\n",
       "      <td>-600.580952</td>\n",
       "    </tr>\n",
       "    <tr>\n",
       "      <td>96</td>\n",
       "      <td>2016-01-19 02:00:00</td>\n",
       "      <td>2.660271</td>\n",
       "      <td>6.020833</td>\n",
       "      <td>2.339234</td>\n",
       "      <td>27.097386</td>\n",
       "      <td>58.017871</td>\n",
       "      <td>5.640190</td>\n",
       "      <td>0.865842</td>\n",
       "      <td>7.574660</td>\n",
       "      <td>1.505868</td>\n",
       "      <td>...</td>\n",
       "      <td>13.947368</td>\n",
       "      <td>-703.993293</td>\n",
       "      <td>12.018188</td>\n",
       "      <td>-559.800324</td>\n",
       "      <td>9.999754</td>\n",
       "      <td>-512.673353</td>\n",
       "      <td>7.946763</td>\n",
       "      <td>-500.475471</td>\n",
       "      <td>11.963962</td>\n",
       "      <td>-607.847547</td>\n",
       "    </tr>\n",
       "    <tr>\n",
       "      <td>97</td>\n",
       "      <td>2016-01-20 16:00:00</td>\n",
       "      <td>6.641615</td>\n",
       "      <td>8.990178</td>\n",
       "      <td>NaN</td>\n",
       "      <td>44.161305</td>\n",
       "      <td>64.045287</td>\n",
       "      <td>12.460954</td>\n",
       "      <td>1.905541</td>\n",
       "      <td>4.360854</td>\n",
       "      <td>3.075640</td>\n",
       "      <td>...</td>\n",
       "      <td>13.977521</td>\n",
       "      <td>-550.386614</td>\n",
       "      <td>12.000013</td>\n",
       "      <td>-550.451984</td>\n",
       "      <td>9.963179</td>\n",
       "      <td>-500.873518</td>\n",
       "      <td>8.051530</td>\n",
       "      <td>-499.780601</td>\n",
       "      <td>11.956762</td>\n",
       "      <td>-599.938457</td>\n",
       "    </tr>\n",
       "    <tr>\n",
       "      <td>98</td>\n",
       "      <td>2016-01-20 17:00:00</td>\n",
       "      <td>6.583268</td>\n",
       "      <td>9.204989</td>\n",
       "      <td>NaN</td>\n",
       "      <td>44.480794</td>\n",
       "      <td>49.836467</td>\n",
       "      <td>12.312460</td>\n",
       "      <td>1.751168</td>\n",
       "      <td>3.777035</td>\n",
       "      <td>2.938621</td>\n",
       "      <td>...</td>\n",
       "      <td>14.055718</td>\n",
       "      <td>-549.694176</td>\n",
       "      <td>12.005398</td>\n",
       "      <td>-550.660760</td>\n",
       "      <td>10.019514</td>\n",
       "      <td>-501.677694</td>\n",
       "      <td>8.123011</td>\n",
       "      <td>-499.966297</td>\n",
       "      <td>11.995185</td>\n",
       "      <td>-601.176360</td>\n",
       "    </tr>\n",
       "  </tbody>\n",
       "</table>\n",
       "<p>10 rows × 87 columns</p>\n",
       "</div>"
      ],
      "text/plain": [
       "                   date  final.output.concentrate_ag  \\\n",
       "47  2016-01-16 23:00:00                     4.591462   \n",
       "48  2016-01-17 00:00:00                     5.296830   \n",
       "49  2016-01-17 02:00:00                     8.162896   \n",
       "65  2016-01-17 19:00:00                     5.976553   \n",
       "66  2016-01-17 20:00:00                     5.849873   \n",
       "67  2016-01-17 21:00:00                     5.608075   \n",
       "72  2016-01-18 02:00:00                     4.537821   \n",
       "96  2016-01-19 02:00:00                     2.660271   \n",
       "97  2016-01-20 16:00:00                     6.641615   \n",
       "98  2016-01-20 17:00:00                     6.583268   \n",
       "\n",
       "    final.output.concentrate_pb  final.output.concentrate_sol  \\\n",
       "47                    10.628846                      5.688961   \n",
       "48                    10.597469                           NaN   \n",
       "49                     8.877528                           NaN   \n",
       "65                    10.996561                           NaN   \n",
       "66                    10.630010                           NaN   \n",
       "67                    10.683667                           NaN   \n",
       "72                    11.108789                      4.964392   \n",
       "96                     6.020833                      2.339234   \n",
       "97                     8.990178                           NaN   \n",
       "98                     9.204989                           NaN   \n",
       "\n",
       "    final.output.concentrate_au  final.output.recovery  final.output.tail_ag  \\\n",
       "47                    46.663335              55.088448             10.694584   \n",
       "48                    44.015642              41.962008             11.975654   \n",
       "49                    40.715973              49.884856             10.381465   \n",
       "65                    43.523390              62.514075             11.439665   \n",
       "66                    43.582899              61.819261             11.415898   \n",
       "67                    44.966499              63.767242             11.462566   \n",
       "72                    44.631736              72.825821             10.188482   \n",
       "96                    27.097386              58.017871              5.640190   \n",
       "97                    44.161305              64.045287             12.460954   \n",
       "98                    44.480794              49.836467             12.312460   \n",
       "\n",
       "    final.output.tail_pb  final.output.tail_sol  final.output.tail_au  ...  \\\n",
       "47              1.671644              17.910312              2.686782  ...   \n",
       "48              1.846558               8.138408              2.889469  ...   \n",
       "49              1.024030              12.974257              2.739224  ...   \n",
       "65              1.255373               9.235768              2.770570  ...   \n",
       "66              1.373004               9.696283              2.816412  ...   \n",
       "67              1.413849              10.764420              2.755172  ...   \n",
       "72              1.410536              20.955075              2.238369  ...   \n",
       "96              0.865842               7.574660              1.505868  ...   \n",
       "97              1.905541               4.360854              3.075640  ...   \n",
       "98              1.751168               3.777035              2.938621  ...   \n",
       "\n",
       "    secondary_cleaner.state.floatbank4_a_air  \\\n",
       "47                                 13.997488   \n",
       "48                                 14.006476   \n",
       "49                                 13.984906   \n",
       "65                                 14.000420   \n",
       "66                                 14.017045   \n",
       "67                                 14.038568   \n",
       "72                                 14.064474   \n",
       "96                                 13.947368   \n",
       "97                                 13.977521   \n",
       "98                                 14.055718   \n",
       "\n",
       "    secondary_cleaner.state.floatbank4_a_level  \\\n",
       "47                                 -551.224653   \n",
       "48                                 -549.388727   \n",
       "49                                 -550.563329   \n",
       "65                                 -550.369289   \n",
       "66                                 -549.905281   \n",
       "67                                 -549.818311   \n",
       "72                                 -551.573603   \n",
       "96                                 -703.993293   \n",
       "97                                 -550.386614   \n",
       "98                                 -549.694176   \n",
       "\n",
       "    secondary_cleaner.state.floatbank4_b_air  \\\n",
       "47                                 11.971272   \n",
       "48                                 11.975967   \n",
       "49                                 11.999730   \n",
       "65                                 11.993860   \n",
       "66                                 12.002873   \n",
       "67                                 11.972607   \n",
       "72                                 11.974107   \n",
       "96                                 12.018188   \n",
       "97                                 12.000013   \n",
       "98                                 12.005398   \n",
       "\n",
       "    secondary_cleaner.state.floatbank4_b_level  \\\n",
       "47                                 -550.095619   \n",
       "48                                 -550.778624   \n",
       "49                                 -550.549773   \n",
       "65                                 -550.801872   \n",
       "66                                 -550.416734   \n",
       "67                                 -550.311739   \n",
       "72                                 -550.699412   \n",
       "96                                 -559.800324   \n",
       "97                                 -550.451984   \n",
       "98                                 -550.660760   \n",
       "\n",
       "    secondary_cleaner.state.floatbank5_a_air  \\\n",
       "47                                  9.981163   \n",
       "48                                  9.989726   \n",
       "49                                  9.941869   \n",
       "65                                 10.019677   \n",
       "66                                  9.960796   \n",
       "67                                 10.074953   \n",
       "72                                 10.028196   \n",
       "96                                  9.999754   \n",
       "97                                  9.963179   \n",
       "98                                 10.019514   \n",
       "\n",
       "    secondary_cleaner.state.floatbank5_a_level  \\\n",
       "47                                 -502.869109   \n",
       "48                                 -499.607365   \n",
       "49                                 -503.282068   \n",
       "65                                 -502.134984   \n",
       "66                                 -497.271602   \n",
       "67                                 -500.657987   \n",
       "72                                 -500.331171   \n",
       "96                                 -512.673353   \n",
       "97                                 -500.873518   \n",
       "98                                 -501.677694   \n",
       "\n",
       "    secondary_cleaner.state.floatbank5_b_air  \\\n",
       "47                                  7.941184   \n",
       "48                                  7.958252   \n",
       "49                                  8.018850   \n",
       "65                                  8.028135   \n",
       "66                                  8.028384   \n",
       "67                                  7.974807   \n",
       "72                                  8.072443   \n",
       "96                                  7.946763   \n",
       "97                                  8.051530   \n",
       "98                                  8.123011   \n",
       "\n",
       "    secondary_cleaner.state.floatbank5_b_level  \\\n",
       "47                                 -500.623610   \n",
       "48                                 -498.882560   \n",
       "49                                 -500.970716   \n",
       "65                                 -500.026321   \n",
       "66                                 -499.558407   \n",
       "67                                 -500.155945   \n",
       "72                                 -499.359611   \n",
       "96                                 -500.475471   \n",
       "97                                 -499.780601   \n",
       "98                                 -499.966297   \n",
       "\n",
       "    secondary_cleaner.state.floatbank6_a_air  \\\n",
       "47                                 12.018837   \n",
       "48                                 11.967977   \n",
       "49                                 11.991078   \n",
       "65                                 11.999417   \n",
       "66                                 11.978157   \n",
       "67                                 11.985006   \n",
       "72                                 11.973959   \n",
       "96                                 11.963962   \n",
       "97                                 11.956762   \n",
       "98                                 11.995185   \n",
       "\n",
       "    secondary_cleaner.state.floatbank6_a_level  \n",
       "47                                 -600.916665  \n",
       "48                                 -599.440603  \n",
       "49                                 -598.475929  \n",
       "65                                 -601.306527  \n",
       "66                                 -598.788524  \n",
       "67                                 -600.107206  \n",
       "72                                 -600.580952  \n",
       "96                                 -607.847547  \n",
       "97                                 -599.938457  \n",
       "98                                 -601.176360  \n",
       "\n",
       "[10 rows x 87 columns]"
      ]
     },
     "execution_count": 4,
     "metadata": {},
     "output_type": "execute_result"
    }
   ],
   "source": [
    "df_full[df_full.isna().any(axis = 1)].head(10)"
   ]
  },
  {
   "cell_type": "code",
   "execution_count": 5,
   "metadata": {},
   "outputs": [
    {
     "data": {
      "text/plain": [
       "date                                            0\n",
       "final.output.concentrate_ag                     1\n",
       "final.output.concentrate_pb                     1\n",
       "final.output.concentrate_sol                  211\n",
       "final.output.concentrate_au                     0\n",
       "                                             ... \n",
       "secondary_cleaner.state.floatbank5_a_level      1\n",
       "secondary_cleaner.state.floatbank5_b_air        1\n",
       "secondary_cleaner.state.floatbank5_b_level      1\n",
       "secondary_cleaner.state.floatbank6_a_air        2\n",
       "secondary_cleaner.state.floatbank6_a_level      1\n",
       "Length: 87, dtype: int64"
      ]
     },
     "execution_count": 5,
     "metadata": {},
     "output_type": "execute_result"
    }
   ],
   "source": [
    "df_full.isnull().sum()"
   ]
  },
  {
   "cell_type": "code",
   "execution_count": 6,
   "metadata": {},
   "outputs": [
    {
     "data": {
      "text/plain": [
       "0"
      ]
     },
     "execution_count": 6,
     "metadata": {},
     "output_type": "execute_result"
    }
   ],
   "source": [
    "df_full.duplicated().sum()"
   ]
  },
  {
   "cell_type": "code",
   "execution_count": 7,
   "metadata": {},
   "outputs": [
    {
     "data": {
      "text/plain": [
       "secondary_cleaner.output.tail_ag              18590\n",
       "secondary_cleaner.output.tail_sol             18590\n",
       "secondary_cleaner.output.tail_au              18590\n",
       "secondary_cleaner.output.tail_pb              18590\n",
       "rougher.output.concentrate_ag                 19045\n",
       "                                              ...  \n",
       "rougher.output.tail_pb                        19439\n",
       "rougher.output.tail_sol                       19439\n",
       "rougher.output.tail_au                        19439\n",
       "rougher.state.floatbank10_a_level             19439\n",
       "secondary_cleaner.state.floatbank6_a_level    19439\n",
       "Length: 87, dtype: int64"
      ]
     },
     "execution_count": 7,
     "metadata": {},
     "output_type": "execute_result"
    }
   ],
   "source": [
    "df_full.astype(bool).sum(axis=0).sort_values(ascending = True)"
   ]
  },
  {
   "cell_type": "markdown",
   "metadata": {},
   "source": [
    "Видим, что нулевых значений достаточно много, проверим пустые и сразу переведем столбец date в формат даты"
   ]
  },
  {
   "cell_type": "code",
   "execution_count": 8,
   "metadata": {},
   "outputs": [],
   "source": [
    "df_full[\"date\"] = pd.to_datetime(df_full[\"date\"])\n",
    "df_train[\"date\"] = pd.to_datetime(df_train[\"date\"])\n",
    "df_test[\"date\"] = pd.to_datetime(df_test[\"date\"])"
   ]
  },
  {
   "cell_type": "code",
   "execution_count": 9,
   "metadata": {},
   "outputs": [
    {
     "data": {
      "text/plain": [
       "date                                            0\n",
       "final.output.concentrate_ag                     1\n",
       "final.output.concentrate_pb                     1\n",
       "final.output.concentrate_sol                  211\n",
       "final.output.concentrate_au                     0\n",
       "                                             ... \n",
       "secondary_cleaner.state.floatbank5_a_level      1\n",
       "secondary_cleaner.state.floatbank5_b_air        1\n",
       "secondary_cleaner.state.floatbank5_b_level      1\n",
       "secondary_cleaner.state.floatbank6_a_air        2\n",
       "secondary_cleaner.state.floatbank6_a_level      1\n",
       "Length: 87, dtype: int64"
      ]
     },
     "execution_count": 9,
     "metadata": {},
     "output_type": "execute_result"
    }
   ],
   "source": [
    "df_full.isnull().sum()"
   ]
  },
  {
   "cell_type": "code",
   "execution_count": 10,
   "metadata": {},
   "outputs": [],
   "source": [
    "def fill_nan(data):\n",
    "    data = data.fillna(method = 'ffill')\n",
    "    return data"
   ]
  },
  {
   "cell_type": "code",
   "execution_count": 11,
   "metadata": {},
   "outputs": [],
   "source": [
    "#заполним пустые значения\n",
    "df_train = fill_nan(df_train)\n",
    "\n",
    "df_test = fill_nan(df_test)\n",
    "\n",
    "df_full = fill_nan(df_full)"
   ]
  },
  {
   "cell_type": "markdown",
   "metadata": {},
   "source": [
    "<div style=\"background: #cceeaa; padding: 5px; border: 1px solid green; border-radius: 5px;\">\n",
    "<font color='green'> \n",
    "<u>КОММЕНТАРИЙ РЕВЬЮЕРА</u>\n",
    "<font color='green'><br>\n",
    "ОК! Метод ffill или интерполяция - часто помогают в подобных проектах. Но нужно ещё иметь ввиду такой момент: у нас могут наблюдаться большие периоды с пропуском. И тогда данная подстановка не всегда будет адекватной. В этом случае, может быть, и удалить придётся.."
   ]
  },
  {
   "cell_type": "code",
   "execution_count": null,
   "metadata": {},
   "outputs": [],
   "source": []
  },
  {
   "cell_type": "markdown",
   "metadata": {},
   "source": [
    "Проверим, что эффективность обогащения рассчитана правильно. Вычислим её на обучающей выборке для признака rougher.output.recovery. И найдем MAE между расчётами и значением признака."
   ]
  },
  {
   "cell_type": "code",
   "execution_count": 12,
   "metadata": {},
   "outputs": [],
   "source": [
    "#эффективность обогащения\n",
    "#C — доля золота в концентрате после флотации/очистки;\n",
    "#F — доля золота в сырье/концентрате до флотации/очистки;\n",
    "#T — доля золота в отвальных хвостах после флотации/очистки.\n",
    "def recovery(C,F,T):\n",
    "    return ((C * (F - T))/(F * (C - T))) * 100\n",
    "    \n",
    "    "
   ]
  },
  {
   "attachments": {
    "image.png": {
     "image/png": "[encoded data removed]"
    }
   },
   "cell_type": "markdown",
   "metadata": {},
   "source": [
    "![image.png](attachment:image.png)"
   ]
  },
  {
   "cell_type": "code",
   "execution_count": 13,
   "metadata": {},
   "outputs": [
    {
     "data": {
      "text/plain": [
       "0"
      ]
     },
     "execution_count": 13,
     "metadata": {},
     "output_type": "execute_result"
    }
   ],
   "source": [
    "df_train['rougher.output.recovery'].isnull().sum()"
   ]
  },
  {
   "cell_type": "code",
   "execution_count": 14,
   "metadata": {},
   "outputs": [
    {
     "data": {
      "text/plain": [
       "13852"
      ]
     },
     "execution_count": 14,
     "metadata": {},
     "output_type": "execute_result"
    }
   ],
   "source": [
    "df_train['rougher.output.recovery'].astype(bool).sum(axis=0)"
   ]
  },
  {
   "cell_type": "code",
   "execution_count": 15,
   "metadata": {},
   "outputs": [
    {
     "name": "stdout",
     "output_type": "stream",
     "text": [
      "Совпадающих значений: 6671 из 14149\n",
      "MAE: 9.682896147825551e-15\n"
     ]
    }
   ],
   "source": [
    "c,f,t = df_train['rougher.output.concentrate_au'], df_train['rougher.input.feed_au'], df_train['rougher.output.tail_au']\n",
    "\n",
    "profit = recovery(c,f,t)\n",
    "correct_values = df_train['rougher.output.recovery'] == profit\n",
    "print('Совпадающих значений:', correct_values.sum(), 'из', df_train['rougher.output.recovery'].count())\n",
    "print('MAE:', mean_absolute_error(profit, df_train['rougher.output.recovery']))"
   ]
  },
  {
   "cell_type": "markdown",
   "metadata": {},
   "source": [
    "МАЕ достаточно низкий, а значит расчеты recovery произведены верно."
   ]
  },
  {
   "cell_type": "markdown",
   "metadata": {},
   "source": [
    "<div style=\"background: #cceeaa; padding: 5px; border: 1px solid green; border-radius: 5px;\">\n",
    "<font color='green'> \n",
    "<u>КОММЕНТАРИЙ РЕВЬЮЕРА</u>\n",
    "<font color='green'><br>\n",
    "Отлично, есть контакт)"
   ]
  },
  {
   "cell_type": "markdown",
   "metadata": {},
   "source": [
    "Общая база и тестовая выборка - отличаются по параметрам. Найдем признаки, недоступные в тестовой выборке."
   ]
  },
  {
   "cell_type": "code",
   "execution_count": 16,
   "metadata": {},
   "outputs": [
    {
     "data": {
      "text/plain": [
       "((87,), (53,))"
      ]
     },
     "execution_count": 16,
     "metadata": {},
     "output_type": "execute_result"
    }
   ],
   "source": [
    "df_train.columns.shape , df_test.columns.shape"
   ]
  },
  {
   "cell_type": "code",
   "execution_count": 17,
   "metadata": {},
   "outputs": [
    {
     "name": "stdout",
     "output_type": "stream",
     "text": [
      "<class 'pandas.core.frame.DataFrame'>\n",
      "RangeIndex: 14149 entries, 0 to 14148\n",
      "Data columns (total 87 columns):\n",
      "date                                                  14149 non-null datetime64[ns]\n",
      "final.output.concentrate_ag                           14149 non-null float64\n",
      "final.output.concentrate_pb                           14149 non-null float64\n",
      "final.output.concentrate_sol                          14149 non-null float64\n",
      "final.output.concentrate_au                           14149 non-null float64\n",
      "final.output.recovery                                 14149 non-null float64\n",
      "final.output.tail_ag                                  14149 non-null float64\n",
      "final.output.tail_pb                                  14149 non-null float64\n",
      "final.output.tail_sol                                 14149 non-null float64\n",
      "final.output.tail_au                                  14149 non-null float64\n",
      "primary_cleaner.input.sulfate                         14149 non-null float64\n",
      "primary_cleaner.input.depressant                      14149 non-null float64\n",
      "primary_cleaner.input.feed_size                       14149 non-null float64\n",
      "primary_cleaner.input.xanthate                        14149 non-null float64\n",
      "primary_cleaner.output.concentrate_ag                 14149 non-null float64\n",
      "primary_cleaner.output.concentrate_pb                 14149 non-null float64\n",
      "primary_cleaner.output.concentrate_sol                14149 non-null float64\n",
      "primary_cleaner.output.concentrate_au                 14149 non-null float64\n",
      "primary_cleaner.output.tail_ag                        14149 non-null float64\n",
      "primary_cleaner.output.tail_pb                        14149 non-null float64\n",
      "primary_cleaner.output.tail_sol                       14149 non-null float64\n",
      "primary_cleaner.output.tail_au                        14149 non-null float64\n",
      "primary_cleaner.state.floatbank8_a_air                14149 non-null float64\n",
      "primary_cleaner.state.floatbank8_a_level              14149 non-null float64\n",
      "primary_cleaner.state.floatbank8_b_air                14149 non-null float64\n",
      "primary_cleaner.state.floatbank8_b_level              14149 non-null float64\n",
      "primary_cleaner.state.floatbank8_c_air                14149 non-null float64\n",
      "primary_cleaner.state.floatbank8_c_level              14149 non-null float64\n",
      "primary_cleaner.state.floatbank8_d_air                14149 non-null float64\n",
      "primary_cleaner.state.floatbank8_d_level              14149 non-null float64\n",
      "rougher.calculation.sulfate_to_au_concentrate         14149 non-null float64\n",
      "rougher.calculation.floatbank10_sulfate_to_au_feed    14149 non-null float64\n",
      "rougher.calculation.floatbank11_sulfate_to_au_feed    14149 non-null float64\n",
      "rougher.calculation.au_pb_ratio                       14149 non-null float64\n",
      "rougher.input.feed_ag                                 14149 non-null float64\n",
      "rougher.input.feed_pb                                 14149 non-null float64\n",
      "rougher.input.feed_rate                               14149 non-null float64\n",
      "rougher.input.feed_size                               14149 non-null float64\n",
      "rougher.input.feed_sol                                14149 non-null float64\n",
      "rougher.input.feed_au                                 14149 non-null float64\n",
      "rougher.input.floatbank10_sulfate                     14149 non-null float64\n",
      "rougher.input.floatbank10_xanthate                    14149 non-null float64\n",
      "rougher.input.floatbank11_sulfate                     14149 non-null float64\n",
      "rougher.input.floatbank11_xanthate                    14149 non-null float64\n",
      "rougher.output.concentrate_ag                         14149 non-null float64\n",
      "rougher.output.concentrate_pb                         14149 non-null float64\n",
      "rougher.output.concentrate_sol                        14149 non-null float64\n",
      "rougher.output.concentrate_au                         14149 non-null float64\n",
      "rougher.output.recovery                               14149 non-null float64\n",
      "rougher.output.tail_ag                                14149 non-null float64\n",
      "rougher.output.tail_pb                                14149 non-null float64\n",
      "rougher.output.tail_sol                               14149 non-null float64\n",
      "rougher.output.tail_au                                14149 non-null float64\n",
      "rougher.state.floatbank10_a_air                       14149 non-null float64\n",
      "rougher.state.floatbank10_a_level                     14149 non-null float64\n",
      "rougher.state.floatbank10_b_air                       14149 non-null float64\n",
      "rougher.state.floatbank10_b_level                     14149 non-null float64\n",
      "rougher.state.floatbank10_c_air                       14149 non-null float64\n",
      "rougher.state.floatbank10_c_level                     14149 non-null float64\n",
      "rougher.state.floatbank10_d_air                       14149 non-null float64\n",
      "rougher.state.floatbank10_d_level                     14149 non-null float64\n",
      "rougher.state.floatbank10_e_air                       14149 non-null float64\n",
      "rougher.state.floatbank10_e_level                     14149 non-null float64\n",
      "rougher.state.floatbank10_f_air                       14149 non-null float64\n",
      "rougher.state.floatbank10_f_level                     14149 non-null float64\n",
      "secondary_cleaner.output.tail_ag                      14149 non-null float64\n",
      "secondary_cleaner.output.tail_pb                      14149 non-null float64\n",
      "secondary_cleaner.output.tail_sol                     14149 non-null float64\n",
      "secondary_cleaner.output.tail_au                      14149 non-null float64\n",
      "secondary_cleaner.state.floatbank2_a_air              14149 non-null float64\n",
      "secondary_cleaner.state.floatbank2_a_level            14149 non-null float64\n",
      "secondary_cleaner.state.floatbank2_b_air              14149 non-null float64\n",
      "secondary_cleaner.state.floatbank2_b_level            14149 non-null float64\n",
      "secondary_cleaner.state.floatbank3_a_air              14149 non-null float64\n",
      "secondary_cleaner.state.floatbank3_a_level            14149 non-null float64\n",
      "secondary_cleaner.state.floatbank3_b_air              14149 non-null float64\n",
      "secondary_cleaner.state.floatbank3_b_level            14149 non-null float64\n",
      "secondary_cleaner.state.floatbank4_a_air              14149 non-null float64\n",
      "secondary_cleaner.state.floatbank4_a_level            14149 non-null float64\n",
      "secondary_cleaner.state.floatbank4_b_air              14149 non-null float64\n",
      "secondary_cleaner.state.floatbank4_b_level            14149 non-null float64\n",
      "secondary_cleaner.state.floatbank5_a_air              14149 non-null float64\n",
      "secondary_cleaner.state.floatbank5_a_level            14149 non-null float64\n",
      "secondary_cleaner.state.floatbank5_b_air              14149 non-null float64\n",
      "secondary_cleaner.state.floatbank5_b_level            14149 non-null float64\n",
      "secondary_cleaner.state.floatbank6_a_air              14149 non-null float64\n",
      "secondary_cleaner.state.floatbank6_a_level            14149 non-null float64\n",
      "dtypes: datetime64[ns](1), float64(86)\n",
      "memory usage: 9.4 MB\n"
     ]
    }
   ],
   "source": [
    "df_train.info()"
   ]
  },
  {
   "cell_type": "code",
   "execution_count": 18,
   "metadata": {},
   "outputs": [
    {
     "data": {
      "text/plain": [
       "['final.output.concentrate_ag',\n",
       " 'final.output.concentrate_au',\n",
       " 'final.output.concentrate_pb',\n",
       " 'final.output.concentrate_sol',\n",
       " 'final.output.recovery',\n",
       " 'final.output.tail_ag',\n",
       " 'final.output.tail_au',\n",
       " 'final.output.tail_pb',\n",
       " 'final.output.tail_sol',\n",
       " 'primary_cleaner.output.concentrate_ag',\n",
       " 'primary_cleaner.output.concentrate_au',\n",
       " 'primary_cleaner.output.concentrate_pb',\n",
       " 'primary_cleaner.output.concentrate_sol',\n",
       " 'primary_cleaner.output.tail_ag',\n",
       " 'primary_cleaner.output.tail_au',\n",
       " 'primary_cleaner.output.tail_pb',\n",
       " 'primary_cleaner.output.tail_sol',\n",
       " 'rougher.calculation.au_pb_ratio',\n",
       " 'rougher.calculation.floatbank10_sulfate_to_au_feed',\n",
       " 'rougher.calculation.floatbank11_sulfate_to_au_feed',\n",
       " 'rougher.calculation.sulfate_to_au_concentrate',\n",
       " 'rougher.output.concentrate_ag',\n",
       " 'rougher.output.concentrate_au',\n",
       " 'rougher.output.concentrate_pb',\n",
       " 'rougher.output.concentrate_sol',\n",
       " 'rougher.output.recovery',\n",
       " 'rougher.output.tail_ag',\n",
       " 'rougher.output.tail_au',\n",
       " 'rougher.output.tail_pb',\n",
       " 'rougher.output.tail_sol',\n",
       " 'secondary_cleaner.output.tail_ag',\n",
       " 'secondary_cleaner.output.tail_au',\n",
       " 'secondary_cleaner.output.tail_pb',\n",
       " 'secondary_cleaner.output.tail_sol']"
      ]
     },
     "execution_count": 18,
     "metadata": {},
     "output_type": "execute_result"
    }
   ],
   "source": [
    "importnat_columns =  df_train.columns.difference(df_test.columns)\n",
    "importnat_columns.tolist()"
   ]
  },
  {
   "cell_type": "markdown",
   "metadata": {},
   "source": [
    "Проанализировав отсутствующие значения в тестовой выборке видим, что в ней не хватает столбцов со значениями характристики металлов на разных этапах обработки. На всех этапах отсутствует информация о хвостовых частях."
   ]
  },
  {
   "cell_type": "markdown",
   "metadata": {},
   "source": [
    "<div style=\"background: #cceeaa; padding: 5px; border: 1px solid green; border-radius: 5px;\">\n",
    "<font color='green'> \n",
    "<u>КОММЕНТАРИЙ РЕВЬЮЕРА</u>\n",
    "<font color='green'><br>\n",
    "В общем, да, \n",
    "В тестовой выборке недоступны некоторые расчетные (calculation) и выходные (output) характеристики процесса, т.к. их невозможно получить/измерить во время выполнения технологического процесса. "
   ]
  },
  {
   "cell_type": "markdown",
   "metadata": {},
   "source": [
    "## Анализ данных"
   ]
  },
  {
   "cell_type": "markdown",
   "metadata": {},
   "source": [
    "Посмотрим, как меняется концентрация металлов concentrate_(Au, Ag, Pb) на различных этапах очистки. Для этого построим графики для всех  этапов, включая исходные показатели сырья (input.feed): \n",
    "\n",
    "    rougher — флотация\n",
    "    primary_cleaner — первичная очистка\n",
    "    final — финальные характеристики"
   ]
  },
  {
   "cell_type": "code",
   "execution_count": 19,
   "metadata": {},
   "outputs": [],
   "source": [
    "au_concentrate = df_train[['rougher.input.feed_au','rougher.output.concentrate_au','primary_cleaner.output.concentrate_au','final.output.concentrate_au']]\n",
    "ag_concentrate = df_train[['rougher.input.feed_ag','rougher.output.concentrate_ag','primary_cleaner.output.concentrate_ag','final.output.concentrate_ag']]\n",
    "pb_concentrate = df_train[['rougher.input.feed_pb','rougher.output.concentrate_pb','primary_cleaner.output.concentrate_pb','final.output.concentrate_pb']]"
   ]
  },
  {
   "cell_type": "code",
   "execution_count": 20,
   "metadata": {},
   "outputs": [
    {
     "data": {
      "text/plain": [
       "<matplotlib.axes._subplots.AxesSubplot at 0x7fc5e0f5cd90>"
      ]
     },
     "execution_count": 20,
     "metadata": {},
     "output_type": "execute_result"
    },
    {
     "data": {
      "image/png": "[encoded data removed]",
      "text/plain": [
       "<Figure size 720x720 with 1 Axes>"
      ]
     },
     "metadata": {},
     "output_type": "display_data"
    }
   ],
   "source": [
    "sns.set(style=\"whitegrid\")\n",
    "sns.set_context(font_scale=1.5, rc={\"lines.linewidth\": 2.5})\n",
    "plt.subplots(figsize=(10, 10))\n",
    "sns.boxplot( linewidth=2.5, data=au_concentrate )"
   ]
  },
  {
   "cell_type": "code",
   "execution_count": 21,
   "metadata": {},
   "outputs": [],
   "source": [
    "def charts(data):\n",
    "    sns.set(style=\"whitegrid\")\n",
    "    sns.set_context(font_scale=1.5, rc={\"lines.linewidth\": 2.5})\n",
    "    plt.subplots(figsize=(10, 10))\n",
    "    plt.xticks(rotation=90)\n",
    "    return sns.boxplot( linewidth=2.5, data=data)"
   ]
  },
  {
   "cell_type": "code",
   "execution_count": 22,
   "metadata": {},
   "outputs": [
    {
     "name": "stdout",
     "output_type": "stream",
     "text": [
      "AxesSubplot(0.125,0.125;0.775x0.755) AxesSubplot(0.125,0.125;0.775x0.755) AxesSubplot(0.125,0.125;0.775x0.755)\n"
     ]
    },
    {
     "data": {
      "image/png": "[encoded data removed]",
      "text/plain": [
       "<Figure size 720x720 with 1 Axes>"
      ]
     },
     "metadata": {},
     "output_type": "display_data"
    },
    {
     "data": {
      "image/png": "[encoded data removed]",
      "text/plain": [
       "<Figure size 720x720 with 1 Axes>"
      ]
     },
     "metadata": {},
     "output_type": "display_data"
    },
    {
     "data": {
      "image/png": "[encoded data removed]",
      "text/plain": [
       "<Figure size 720x720 with 1 Axes>"
      ]
     },
     "metadata": {},
     "output_type": "display_data"
    }
   ],
   "source": [
    "print(charts(au_concentrate),charts(ag_concentrate),charts(pb_concentrate))"
   ]
  },
  {
   "cell_type": "markdown",
   "metadata": {},
   "source": [
    "    1) Анализируя концентрацию золота, можно заметить, что на каждом этапе очистки происходит плавномерное увеличение показателей, что приводит к максимальным показателям к финальному этапу.\n",
    "    2) При анализе концентрации серебра, видим, что наибольшее значение оно получает при флотации продукта.\n",
    "    3) При анализе концентрации свинца, видим, что значения после перового этапа сильно возрастают, по сравнению с сырым продуктом, но динамика резко замедляется и на последнем этапе не так заметна."
   ]
  },
  {
   "cell_type": "markdown",
   "metadata": {},
   "source": [
    "<div style=\"background: #cceeaa; padding: 5px; border: 1px solid green; border-radius: 5px;\">\n",
    "<font color='green'> \n",
    "<u>КОММЕНТАРИЙ РЕВЬЮЕРА</u>\n",
    "<font color='green'><br>\n",
    "КЛАССНО, удобный графический анализ. И видно, что золотишко растёт - и это хорошо, кому-то). Серебро падает - это логично, мы же производим золоот)<br>\n",
    "А свинец - побочное дитя химических реакций, поэтому не много увеличивается его содержание)"
   ]
  },
  {
   "cell_type": "markdown",
   "metadata": {},
   "source": [
    "Сравним распределения размеров гранул сырья на обучающей и тестовой выборках. Если распределения сильно отличаются друг от друга, оценка модели будет неправильной."
   ]
  },
  {
   "cell_type": "code",
   "execution_count": 23,
   "metadata": {},
   "outputs": [],
   "source": [
    "feed_size_train = df_train['rougher.input.feed_size']\n",
    "feed_size_test = df_test['rougher.input.feed_size']"
   ]
  },
  {
   "cell_type": "code",
   "execution_count": 24,
   "metadata": {},
   "outputs": [
    {
     "data": {
      "text/plain": [
       "count    14149.000000\n",
       "mean        60.239856\n",
       "std         23.005310\n",
       "min          9.659576\n",
       "25%         48.966751\n",
       "50%         55.269784\n",
       "75%         66.007526\n",
       "max        484.967466\n",
       "Name: rougher.input.feed_size, dtype: float64"
      ]
     },
     "execution_count": 24,
     "metadata": {},
     "output_type": "execute_result"
    }
   ],
   "source": [
    "feed_size_train.describe()"
   ]
  },
  {
   "cell_type": "code",
   "execution_count": 25,
   "metadata": {},
   "outputs": [
    {
     "data": {
      "text/plain": [
       "count    5856.000000\n",
       "mean       55.898866\n",
       "std        22.707969\n",
       "min         0.046369\n",
       "25%        43.852884\n",
       "50%        49.964796\n",
       "75%        61.628003\n",
       "max       477.445473\n",
       "Name: rougher.input.feed_size, dtype: float64"
      ]
     },
     "execution_count": 25,
     "metadata": {},
     "output_type": "execute_result"
    }
   ],
   "source": [
    "feed_size_test.describe()"
   ]
  },
  {
   "cell_type": "code",
   "execution_count": 26,
   "metadata": {},
   "outputs": [
    {
     "name": "stdout",
     "output_type": "stream",
     "text": [
      "AxesSubplot(0.125,0.125;0.775x0.755) AxesSubplot(0.125,0.125;0.775x0.755)\n"
     ]
    },
    {
     "data": {
      "image/png": "[encoded data removed]",
      "text/plain": [
       "<Figure size 720x720 with 1 Axes>"
      ]
     },
     "metadata": {},
     "output_type": "display_data"
    },
    {
     "data": {
      "image/png": "[encoded data removed]",
      "text/plain": [
       "<Figure size 720x720 with 1 Axes>"
      ]
     },
     "metadata": {},
     "output_type": "display_data"
    }
   ],
   "source": [
    "print(charts(feed_size_train), charts(feed_size_test))"
   ]
  },
  {
   "cell_type": "code",
   "execution_count": 27,
   "metadata": {},
   "outputs": [
    {
     "data": {
      "text/plain": [
       "(0, 100)"
      ]
     },
     "execution_count": 27,
     "metadata": {},
     "output_type": "execute_result"
    },
    {
     "data": {
      "image/png": "[encoded data removed]",
      "text/plain": [
       "<Figure size 720x720 with 1 Axes>"
      ]
     },
     "metadata": {},
     "output_type": "display_data"
    }
   ],
   "source": [
    "charts(feed_size_train)\n",
    "plt.ylim(0,100)"
   ]
  },
  {
   "cell_type": "code",
   "execution_count": 28,
   "metadata": {},
   "outputs": [
    {
     "data": {
      "text/plain": [
       "(0, 100)"
      ]
     },
     "execution_count": 28,
     "metadata": {},
     "output_type": "execute_result"
    },
    {
     "data": {
      "image/png": "[encoded data removed]",
      "text/plain": [
       "<Figure size 720x720 with 1 Axes>"
      ]
     },
     "metadata": {},
     "output_type": "display_data"
    }
   ],
   "source": [
    "charts(feed_size_test)\n",
    "plt.ylim(0,100)"
   ]
  },
  {
   "cell_type": "markdown",
   "metadata": {},
   "source": [
    "По данным графиков распределения и описательным показаниям видно, что тестовые и обучающие выборки примерно одинаковые.Видно, что усы распределяются практически одинаково, а показатели медиан 50 и 55 ~ близки друг к другу."
   ]
  },
  {
   "cell_type": "markdown",
   "metadata": {},
   "source": [
    "<div style=\"background: #cceeaa; padding: 5px; border: 1px solid green; border-radius: 5px;\">\n",
    "<font color='green'> \n",
    "<u>КОММЕНТАРИЙ РЕВЬЮЕРА</u>\n",
    "<font color='green'><br>\n",
    "ок, принято)"
   ]
  },
  {
   "cell_type": "markdown",
   "metadata": {},
   "source": [
    "**Исследуем суммарную концентрацию всех веществ на разных стадиях: в сырье, в черновом и финальном концентратах.**"
   ]
  },
  {
   "cell_type": "code",
   "execution_count": 29,
   "metadata": {},
   "outputs": [
    {
     "data": {
      "text/plain": [
       "<matplotlib.legend.Legend at 0x7fc5e109d290>"
      ]
     },
     "execution_count": 29,
     "metadata": {},
     "output_type": "execute_result"
    },
    {
     "data": {
      "image/png": "[encoded data removed]",
      "text/plain": [
       "<Figure size 1080x720 with 1 Axes>"
      ]
     },
     "metadata": {},
     "output_type": "display_data"
    }
   ],
   "source": [
    "df_concentrate = pd.DataFrame()\n",
    "\n",
    "df_concentrate['rougher_in_concentrate'] = df_train[['rougher.input.feed_au','rougher.input.feed_ag', 'rougher.input.feed_pb', 'rougher.input.feed_sol']].sum(axis=1)\n",
    "df_concentrate['rougher_out_concentrate'] = df_train[['rougher.output.concentrate_au','rougher.output.concentrate_ag', 'rougher.output.concentrate_pb', 'rougher.output.concentrate_sol']].sum(axis=1)\n",
    "df_concentrate['primary_concentrate'] = df_train[['primary_cleaner.output.concentrate_au','primary_cleaner.output.concentrate_ag', 'primary_cleaner.output.concentrate_pb', 'primary_cleaner.output.concentrate_sol']].sum(axis=1)\n",
    "df_concentrate['final_concentrate'] = df_train[['final.output.concentrate_au','final.output.concentrate_ag', 'final.output.concentrate_pb', 'final.output.concentrate_sol']].sum(axis=1)\n",
    "\n",
    "df_concentrate.plot(figsize = (15,10), sharey=True, linewidth=2, fontsize=14, stacked = False, kind = 'hist', alpha = 0.9, bins = 150).legend(loc=2, prop={'size': 20})\n",
    "\n"
   ]
  },
  {
   "cell_type": "markdown",
   "metadata": {},
   "source": [
    "Значения распределений концентрация примерно одинаковые и распределены нормально, однако на этапе \"primary_concentrate\" и, особенно, на \"final_concentrate\" заметен сильный выброс данных. Посмотрим на распределение показаний через boxplot. И сразу обратив внмание, что у нас очень большое количество 0 значений."
   ]
  },
  {
   "cell_type": "code",
   "execution_count": 30,
   "metadata": {},
   "outputs": [
    {
     "data": {
      "text/plain": [
       "<matplotlib.axes._subplots.AxesSubplot at 0x7fc5df73d550>"
      ]
     },
     "execution_count": 30,
     "metadata": {},
     "output_type": "execute_result"
    },
    {
     "data": {
      "image/png": "[encoded data removed]",
      "text/plain": [
       "<Figure size 720x360 with 1 Axes>"
      ]
     },
     "metadata": {},
     "output_type": "display_data"
    }
   ],
   "source": [
    "sns.set(style=\"whitegrid\")\n",
    "sns.set_context(font_scale=1.5, rc={\"lines.linewidth\": 2.5})\n",
    "plt.subplots(figsize=(10, 5))\n",
    "plt.xticks(rotation=90)\n",
    "sns.boxplot(orient=\"h\", linewidth=1, data=df_concentrate)"
   ]
  },
  {
   "cell_type": "markdown",
   "metadata": {},
   "source": [
    "На графике размаха сразу бросается в глаза большое количество выбросов по всем показаниям концентранции металлов, преимущественно в отрицательную сторону, близкую к нулю. Это не является аномалией, поскольку концентрация всегда разная, однако стоит обратить внимание на \"primary_concentrate\", у него гораздо больше низких показателей коэффициентов."
   ]
  },
  {
   "cell_type": "code",
   "execution_count": 31,
   "metadata": {},
   "outputs": [
    {
     "data": {
      "text/plain": [
       "((14149,), (14149,), (14149,), (14149,))"
      ]
     },
     "execution_count": 31,
     "metadata": {},
     "output_type": "execute_result"
    }
   ],
   "source": [
    "df_train['rougher.input.feed_au'].shape,df_train['primary_cleaner.output.concentrate_au'].shape,df_train['primary_cleaner.output.concentrate_ag'].shape,df_train['final.output.concentrate_au'].shape,"
   ]
  },
  {
   "cell_type": "code",
   "execution_count": 32,
   "metadata": {},
   "outputs": [],
   "source": [
    "#удалим нулевые показатели\n",
    "df_train = df_train.drop(index = df_train[df_train[\"rougher.input.feed_au\"] < 1].index,\n",
    "                               axis = 0)\n",
    "df_train = df_train.drop(index = df_train[df_train[\"rougher.input.feed_ag\"] < 1].index,\n",
    "                               axis = 0)\n",
    "df_train = df_train.drop(index = df_train[df_train[\"rougher.input.feed_pb\"] < 1].index,\n",
    "                               axis = 0)\n",
    "df_train = df_train.drop(index = df_train[df_train[\"rougher.input.feed_sol\"] < 1].index,\n",
    "                               axis = 0)\n",
    "\n",
    "\n",
    "df_train = df_train.drop(index = df_train[df_train[\"rougher.output.concentrate_au\"] < 1].index,\n",
    "                               axis = 0)\n",
    "df_train = df_train.drop(index = df_train[df_train[\"rougher.output.concentrate_ag\"] < 1].index,\n",
    "                               axis = 0)\n",
    "df_train = df_train.drop(index = df_train[df_train[\"rougher.output.concentrate_pb\"] < 1].index,\n",
    "                               axis = 0)\n",
    "df_train = df_train.drop(index = df_train[df_train[\"rougher.output.concentrate_sol\"] < 1].index,\n",
    "                               axis = 0)\n",
    "\n",
    "df_train = df_train.drop(index = df_train[df_train[\"primary_cleaner.output.concentrate_au\"] < 1].index,\n",
    "                               axis = 0)\n",
    "df_train = df_train.drop(index = df_train[df_train[\"primary_cleaner.output.concentrate_ag\"] < 1].index,\n",
    "                               axis = 0)\n",
    "df_train = df_train.drop(index = df_train[df_train[\"primary_cleaner.output.concentrate_pb\"] < 1].index,\n",
    "                               axis = 0)\n",
    "df_train = df_train.drop(index = df_train[df_train[\"primary_cleaner.output.concentrate_sol\"] < 1].index,\n",
    "                               axis = 0)\n",
    "\n",
    "df_train = df_train.drop(index = df_train[df_train[\"final.output.concentrate_au\"] < 1].index,\n",
    "                               axis = 0)\n",
    "df_train = df_train.drop(index = df_train[df_train[\"final.output.concentrate_ag\"] < 1].index,\n",
    "                               axis = 0)\n",
    "df_train = df_train.drop(index = df_train[df_train[\"final.output.concentrate_pb\"] < 1].index,\n",
    "                               axis = 0)\n",
    "df_train = df_train.drop(index = df_train[df_train[\"final.output.concentrate_sol\"] < 1].index,\n",
    "                               axis = 0)\n"
   ]
  },
  {
   "cell_type": "code",
   "execution_count": 33,
   "metadata": {},
   "outputs": [
    {
     "data": {
      "text/plain": [
       "(13304,)"
      ]
     },
     "execution_count": 33,
     "metadata": {},
     "output_type": "execute_result"
    }
   ],
   "source": [
    "df_train['final.output.concentrate_au'].shape"
   ]
  },
  {
   "cell_type": "code",
   "execution_count": 34,
   "metadata": {},
   "outputs": [
    {
     "data": {
      "text/plain": [
       "array([[<matplotlib.axes._subplots.AxesSubplot object at 0x7fc5df3fd150>,\n",
       "        <matplotlib.axes._subplots.AxesSubplot object at 0x7fc5df382610>],\n",
       "       [<matplotlib.axes._subplots.AxesSubplot object at 0x7fc5df393910>,\n",
       "        <matplotlib.axes._subplots.AxesSubplot object at 0x7fc5df340c10>]],\n",
       "      dtype=object)"
      ]
     },
     "execution_count": 34,
     "metadata": {},
     "output_type": "execute_result"
    },
    {
     "data": {
      "image/png": "[encoded data removed]",
      "text/plain": [
       "<Figure size 1440x720 with 4 Axes>"
      ]
     },
     "metadata": {},
     "output_type": "display_data"
    }
   ],
   "source": [
    "df_concentrate.hist(bins = 40,figsize = (20,10))"
   ]
  },
  {
   "cell_type": "markdown",
   "metadata": {},
   "source": [
    "Видим, что после очистки все графики распределены нормально. Никаких дополнительных отклонений нет и можно приступить к обучению модели. "
   ]
  },
  {
   "cell_type": "markdown",
   "metadata": {},
   "source": [
    "<div style=\"background: #cceeaa; padding: 5px; border: 1px solid green; border-radius: 5px;\">\n",
    "<font color='green'> \n",
    "<u>КОММЕНТАРИЙ РЕВЬЮЕРА</u>\n",
    "<font color='green'><br>\n",
    "ОК, отлично! Ещё пару строк по выбросам: в некоторых проектах - это важно, избавиться от выбросов<br>\n",
    "\n",
    "И вот если обратиться к нашему проекту:<br>\n",
    "1) Есть нулевые аномалии в суммарных концентрациях - и их надо \"убить\". Дело в том, что предполагается, что хоть грамм чего-нибудь но есть в руде. А если мы имеем ноль, значит большая вероятность неточности измерений.<br>\n",
    "    \n",
    "2)А вот с выбросами как в приниципе..<br>\n",
    "Тут на обсуждение: наша цель - предсказывать модель на реальных данных. И вот эти выбросы - это и есть реальная концентрация. И нам важно, чтобы модель умела и их тоже видеть и обрабатывать. Если их убрать из модели, то получится, что у нас она станет как бы искусственной. Т.е. будет работать только в небольших диапазонах - потому что обучалась только в них.<br>\n",
    "    \n",
    "Поэтому, тут так: выбросы - это не всегда то, от чего надо избавляться))) Ещё зависит от бизнес-задачи.<br>\n",
    "    \n",
    "Кстати<br>\n",
    "если говорить о теории выбросов с помощью графика \"ящик с усами\", то вот это интервал q3+-1.5*iqr говорит действильно о них самых<br>\n",
    "Но нет рекоммендаций к их удалению. Говорят так \"на усмотрение бизнеса\".<br>\n",
    "А вот если взять вот этот интервал q3+3*iqr:  то тут уж с очень высокой вероятность можно говорить о грубых выбросах."
   ]
  },
  {
   "cell_type": "markdown",
   "metadata": {},
   "source": [
    "## Модель"
   ]
  },
  {
   "cell_type": "markdown",
   "metadata": {},
   "source": [
    "Напишем функцию для вычисления итоговой sMAPE."
   ]
  },
  {
   "attachments": {
    "image.png": {
     "image/png": "[encoded data removed]"
    }
   },
   "cell_type": "markdown",
   "metadata": {},
   "source": [
    "![image.png](attachment:image.png)"
   ]
  },
  {
   "attachments": {
    "image-2.png": {
     "image/png": "[encoded data removed]"
    },
    "image-3.png": {
     "image/png": "[encoded data removed]"
    },
    "image-4.png": {
     "image/png": "[encoded data removed]"
    },
    "image.png": {
     "image/png": "[encoded data removed]"
    }
   },
   "cell_type": "markdown",
   "metadata": {},
   "source": [
    "Обозначения: \n",
    "![image.png](attachment:image.png)\n",
    "\n",
    "    Значение целевого признака для объекта с порядковым номером i в выборке, на которой измеряется качество.\n",
    "    \n",
    "![image-2.png](attachment:image-2.png)\n",
    "\n",
    "    Значение предсказания для объекта с порядковым номером i, например, в тестовой выборке.\n",
    "    \n",
    "![image-3.png](attachment:image-3.png)\n",
    "\n",
    "    Количество объектов в выборке.\n",
    "    \n",
    "![image-4.png](attachment:image-4.png)\n",
    "\n",
    "    Суммирование по всем объектам выборки (i меняется от 1 до N)."
   ]
  },
  {
   "cell_type": "code",
   "execution_count": 35,
   "metadata": {},
   "outputs": [],
   "source": [
    "def smape(df_true,df_pred):\n",
    "    smape = np.mean(abs(df_true - df_pred)/((abs(df_true)+abs(df_pred))/2))*100\n",
    "    return smape"
   ]
  },
  {
   "attachments": {
    "image.png": {
     "image/png": "[encoded data removed]"
    }
   },
   "cell_type": "markdown",
   "metadata": {},
   "source": [
    "Итоговая sMAPE:\n",
    "![image.png](attachment:image.png)"
   ]
  },
  {
   "cell_type": "code",
   "execution_count": 36,
   "metadata": {},
   "outputs": [],
   "source": [
    "def total_smape(smape_rougher,smape_final):\n",
    "    return (0.25*smape_rougher + 0.75*smape_final)"
   ]
  },
  {
   "cell_type": "markdown",
   "metadata": {},
   "source": [
    "Обучим разные модели и оценим их качество кросс-валидацией, постараясь найти лучшую модель для проверки на тестовой выборке."
   ]
  },
  {
   "cell_type": "code",
   "execution_count": 37,
   "metadata": {},
   "outputs": [],
   "source": [
    "#зададим новый параметр качества\n",
    "new_score = make_scorer(smape, greater_is_better=False)"
   ]
  },
  {
   "cell_type": "markdown",
   "metadata": {},
   "source": [
    "<div style=\"background: #cceeaa; padding: 5px; border: 1px solid green; border-radius: 5px;\">\n",
    "<font color='green'> \n",
    "<u>КОММЕНТАРИЙ РЕВЬЮЕРА</u>\n",
    "<font color='green'><br>С формулами - ОК."
   ]
  },
  {
   "cell_type": "code",
   "execution_count": 38,
   "metadata": {},
   "outputs": [
    {
     "data": {
      "text/html": [
       "<div>\n",
       "<style scoped>\n",
       "    .dataframe tbody tr th:only-of-type {\n",
       "        vertical-align: middle;\n",
       "    }\n",
       "\n",
       "    .dataframe tbody tr th {\n",
       "        vertical-align: top;\n",
       "    }\n",
       "\n",
       "    .dataframe thead th {\n",
       "        text-align: right;\n",
       "    }\n",
       "</style>\n",
       "<table border=\"1\" class=\"dataframe\">\n",
       "  <thead>\n",
       "    <tr style=\"text-align: right;\">\n",
       "      <th></th>\n",
       "      <th>final.output.concentrate_ag</th>\n",
       "      <th>final.output.concentrate_pb</th>\n",
       "      <th>final.output.concentrate_sol</th>\n",
       "      <th>final.output.concentrate_au</th>\n",
       "      <th>final.output.recovery</th>\n",
       "      <th>final.output.tail_ag</th>\n",
       "      <th>final.output.tail_pb</th>\n",
       "      <th>final.output.tail_sol</th>\n",
       "      <th>final.output.tail_au</th>\n",
       "      <th>primary_cleaner.input.sulfate</th>\n",
       "      <th>...</th>\n",
       "      <th>secondary_cleaner.state.floatbank4_a_air</th>\n",
       "      <th>secondary_cleaner.state.floatbank4_a_level</th>\n",
       "      <th>secondary_cleaner.state.floatbank4_b_air</th>\n",
       "      <th>secondary_cleaner.state.floatbank4_b_level</th>\n",
       "      <th>secondary_cleaner.state.floatbank5_a_air</th>\n",
       "      <th>secondary_cleaner.state.floatbank5_a_level</th>\n",
       "      <th>secondary_cleaner.state.floatbank5_b_air</th>\n",
       "      <th>secondary_cleaner.state.floatbank5_b_level</th>\n",
       "      <th>secondary_cleaner.state.floatbank6_a_air</th>\n",
       "      <th>secondary_cleaner.state.floatbank6_a_level</th>\n",
       "    </tr>\n",
       "  </thead>\n",
       "  <tbody>\n",
       "    <tr>\n",
       "      <td>0</td>\n",
       "      <td>0.678885</td>\n",
       "      <td>-0.226260</td>\n",
       "      <td>-1.350274</td>\n",
       "      <td>-0.551844</td>\n",
       "      <td>0.399834</td>\n",
       "      <td>0.342894</td>\n",
       "      <td>-1.790866</td>\n",
       "      <td>2.150709</td>\n",
       "      <td>-0.900653</td>\n",
       "      <td>-0.207244</td>\n",
       "      <td>...</td>\n",
       "      <td>-1.055586</td>\n",
       "      <td>-0.481022</td>\n",
       "      <td>-0.643167</td>\n",
       "      <td>-0.766065</td>\n",
       "      <td>-1.172671</td>\n",
       "      <td>-0.387520</td>\n",
       "      <td>-0.860680</td>\n",
       "      <td>-0.434104</td>\n",
       "      <td>-0.954373</td>\n",
       "      <td>-2.666066</td>\n",
       "    </tr>\n",
       "    <tr>\n",
       "      <td>1</td>\n",
       "      <td>0.659192</td>\n",
       "      <td>-0.172159</td>\n",
       "      <td>-1.440384</td>\n",
       "      <td>-0.413666</td>\n",
       "      <td>0.257567</td>\n",
       "      <td>0.365166</td>\n",
       "      <td>-1.757469</td>\n",
       "      <td>2.059700</td>\n",
       "      <td>-0.807803</td>\n",
       "      <td>-0.245561</td>\n",
       "      <td>...</td>\n",
       "      <td>-1.059933</td>\n",
       "      <td>-0.540123</td>\n",
       "      <td>-0.671452</td>\n",
       "      <td>-0.708292</td>\n",
       "      <td>-1.153207</td>\n",
       "      <td>-0.435895</td>\n",
       "      <td>-0.877146</td>\n",
       "      <td>-0.436932</td>\n",
       "      <td>-0.981003</td>\n",
       "      <td>-2.503098</td>\n",
       "    </tr>\n",
       "    <tr>\n",
       "      <td>2</td>\n",
       "      <td>0.679281</td>\n",
       "      <td>-0.004970</td>\n",
       "      <td>-1.394894</td>\n",
       "      <td>-0.425631</td>\n",
       "      <td>0.129276</td>\n",
       "      <td>0.384652</td>\n",
       "      <td>-1.730062</td>\n",
       "      <td>1.916104</td>\n",
       "      <td>-0.770384</td>\n",
       "      <td>-0.292959</td>\n",
       "      <td>...</td>\n",
       "      <td>-1.055908</td>\n",
       "      <td>-0.481667</td>\n",
       "      <td>-0.678599</td>\n",
       "      <td>-0.704909</td>\n",
       "      <td>-1.147782</td>\n",
       "      <td>-0.434833</td>\n",
       "      <td>-0.872094</td>\n",
       "      <td>-0.435289</td>\n",
       "      <td>-0.975727</td>\n",
       "      <td>-2.547244</td>\n",
       "    </tr>\n",
       "    <tr>\n",
       "      <td>3</td>\n",
       "      <td>0.673268</td>\n",
       "      <td>-0.166650</td>\n",
       "      <td>-1.584516</td>\n",
       "      <td>-0.416868</td>\n",
       "      <td>0.155062</td>\n",
       "      <td>0.347637</td>\n",
       "      <td>-1.803059</td>\n",
       "      <td>2.025399</td>\n",
       "      <td>-0.896452</td>\n",
       "      <td>-0.333551</td>\n",
       "      <td>...</td>\n",
       "      <td>-1.052103</td>\n",
       "      <td>-0.449059</td>\n",
       "      <td>-0.662172</td>\n",
       "      <td>-0.705939</td>\n",
       "      <td>-1.165008</td>\n",
       "      <td>-0.410707</td>\n",
       "      <td>-0.878435</td>\n",
       "      <td>-0.428632</td>\n",
       "      <td>-0.979750</td>\n",
       "      <td>-2.508722</td>\n",
       "    </tr>\n",
       "    <tr>\n",
       "      <td>4</td>\n",
       "      <td>0.749381</td>\n",
       "      <td>-0.053741</td>\n",
       "      <td>-1.555346</td>\n",
       "      <td>-0.394005</td>\n",
       "      <td>-0.003442</td>\n",
       "      <td>0.320208</td>\n",
       "      <td>-1.897951</td>\n",
       "      <td>2.022987</td>\n",
       "      <td>-1.000401</td>\n",
       "      <td>-0.445719</td>\n",
       "      <td>...</td>\n",
       "      <td>-1.053734</td>\n",
       "      <td>-0.429093</td>\n",
       "      <td>-0.670972</td>\n",
       "      <td>-0.703553</td>\n",
       "      <td>-1.172658</td>\n",
       "      <td>-0.475348</td>\n",
       "      <td>-0.892849</td>\n",
       "      <td>-0.431179</td>\n",
       "      <td>-0.981300</td>\n",
       "      <td>-2.549110</td>\n",
       "    </tr>\n",
       "  </tbody>\n",
       "</table>\n",
       "<p>5 rows × 86 columns</p>\n",
       "</div>"
      ],
      "text/plain": [
       "   final.output.concentrate_ag  final.output.concentrate_pb  \\\n",
       "0                     0.678885                    -0.226260   \n",
       "1                     0.659192                    -0.172159   \n",
       "2                     0.679281                    -0.004970   \n",
       "3                     0.673268                    -0.166650   \n",
       "4                     0.749381                    -0.053741   \n",
       "\n",
       "   final.output.concentrate_sol  final.output.concentrate_au  \\\n",
       "0                     -1.350274                    -0.551844   \n",
       "1                     -1.440384                    -0.413666   \n",
       "2                     -1.394894                    -0.425631   \n",
       "3                     -1.584516                    -0.416868   \n",
       "4                     -1.555346                    -0.394005   \n",
       "\n",
       "   final.output.recovery  final.output.tail_ag  final.output.tail_pb  \\\n",
       "0               0.399834              0.342894             -1.790866   \n",
       "1               0.257567              0.365166             -1.757469   \n",
       "2               0.129276              0.384652             -1.730062   \n",
       "3               0.155062              0.347637             -1.803059   \n",
       "4              -0.003442              0.320208             -1.897951   \n",
       "\n",
       "   final.output.tail_sol  final.output.tail_au  primary_cleaner.input.sulfate  \\\n",
       "0               2.150709             -0.900653                      -0.207244   \n",
       "1               2.059700             -0.807803                      -0.245561   \n",
       "2               1.916104             -0.770384                      -0.292959   \n",
       "3               2.025399             -0.896452                      -0.333551   \n",
       "4               2.022987             -1.000401                      -0.445719   \n",
       "\n",
       "   ...  secondary_cleaner.state.floatbank4_a_air  \\\n",
       "0  ...                                 -1.055586   \n",
       "1  ...                                 -1.059933   \n",
       "2  ...                                 -1.055908   \n",
       "3  ...                                 -1.052103   \n",
       "4  ...                                 -1.053734   \n",
       "\n",
       "   secondary_cleaner.state.floatbank4_a_level  \\\n",
       "0                                   -0.481022   \n",
       "1                                   -0.540123   \n",
       "2                                   -0.481667   \n",
       "3                                   -0.449059   \n",
       "4                                   -0.429093   \n",
       "\n",
       "   secondary_cleaner.state.floatbank4_b_air  \\\n",
       "0                                 -0.643167   \n",
       "1                                 -0.671452   \n",
       "2                                 -0.678599   \n",
       "3                                 -0.662172   \n",
       "4                                 -0.670972   \n",
       "\n",
       "   secondary_cleaner.state.floatbank4_b_level  \\\n",
       "0                                   -0.766065   \n",
       "1                                   -0.708292   \n",
       "2                                   -0.704909   \n",
       "3                                   -0.705939   \n",
       "4                                   -0.703553   \n",
       "\n",
       "   secondary_cleaner.state.floatbank5_a_air  \\\n",
       "0                                 -1.172671   \n",
       "1                                 -1.153207   \n",
       "2                                 -1.147782   \n",
       "3                                 -1.165008   \n",
       "4                                 -1.172658   \n",
       "\n",
       "   secondary_cleaner.state.floatbank5_a_level  \\\n",
       "0                                   -0.387520   \n",
       "1                                   -0.435895   \n",
       "2                                   -0.434833   \n",
       "3                                   -0.410707   \n",
       "4                                   -0.475348   \n",
       "\n",
       "   secondary_cleaner.state.floatbank5_b_air  \\\n",
       "0                                 -0.860680   \n",
       "1                                 -0.877146   \n",
       "2                                 -0.872094   \n",
       "3                                 -0.878435   \n",
       "4                                 -0.892849   \n",
       "\n",
       "   secondary_cleaner.state.floatbank5_b_level  \\\n",
       "0                                   -0.434104   \n",
       "1                                   -0.436932   \n",
       "2                                   -0.435289   \n",
       "3                                   -0.428632   \n",
       "4                                   -0.431179   \n",
       "\n",
       "   secondary_cleaner.state.floatbank6_a_air  \\\n",
       "0                                 -0.954373   \n",
       "1                                 -0.981003   \n",
       "2                                 -0.975727   \n",
       "3                                 -0.979750   \n",
       "4                                 -0.981300   \n",
       "\n",
       "   secondary_cleaner.state.floatbank6_a_level  \n",
       "0                                   -2.666066  \n",
       "1                                   -2.503098  \n",
       "2                                   -2.547244  \n",
       "3                                   -2.508722  \n",
       "4                                   -2.549110  \n",
       "\n",
       "[5 rows x 86 columns]"
      ]
     },
     "execution_count": 38,
     "metadata": {},
     "output_type": "execute_result"
    }
   ],
   "source": [
    "#удалим лишний столбец даты и промасштабируем\n",
    "\n",
    "df_train = df_train.drop('date', axis =1)\n",
    "\n",
    "scaler = StandardScaler() \n",
    "scaler.fit(df_train)\n",
    "trnsform_scaled = scaler.transform(df_train)\n",
    "\n",
    "# Определение датафрэйма признаков стандаризаций\n",
    "df_train_scaled = pd.DataFrame(trnsform_scaled, index=df_train.index , \n",
    "                               columns=df_train.columns )\n",
    "\n",
    "df_train_scaled.head()"
   ]
  },
  {
   "cell_type": "code",
   "execution_count": 39,
   "metadata": {},
   "outputs": [],
   "source": [
    "#зафиксируем значения для модели, удалив значения, отсутствующие в тестовой выборке\n",
    "features_train = df_train.drop(importnat_columns, axis = 1)\n",
    "target_train_rouger = df_train['rougher.output.recovery']\n",
    "target_train_final = df_train['final.output.recovery']\n"
   ]
  },
  {
   "cell_type": "code",
   "execution_count": 40,
   "metadata": {},
   "outputs": [
    {
     "data": {
      "text/plain": [
       "(13304, 52)"
      ]
     },
     "execution_count": 40,
     "metadata": {},
     "output_type": "execute_result"
    }
   ],
   "source": [
    "features_train.shape"
   ]
  },
  {
   "cell_type": "markdown",
   "metadata": {},
   "source": [
    "<div style=\"background: #cceeaa; padding: 5px; border: 1px solid green; border-radius: 5px;\">\n",
    "<font color='green'> \n",
    "<u>КОММЕНТАРИЙ РЕВЬЮЕРА</u>\n",
    "<font color='green'><br>ОК, это важно было сделать трайн таким же как тест по количеству столбцов."
   ]
  },
  {
   "cell_type": "code",
   "execution_count": 41,
   "metadata": {},
   "outputs": [],
   "source": [
    "param_RDR = {\"max_depth\":range(1,31,10), \"n_estimators\":range(1,10)}\n",
    "param_DTR = {\"max_depth\":range(1,31,10)}\n"
   ]
  },
  {
   "cell_type": "code",
   "execution_count": 42,
   "metadata": {},
   "outputs": [
    {
     "name": "stdout",
     "output_type": "stream",
     "text": [
      "Параметр глубины дерева лучшей модели: {'max_depth': 1}\n",
      "Лучший показатель sMape: -7.805078410961468\n"
     ]
    }
   ],
   "source": [
    "#rouger_DTR\n",
    "model_grid_rouger_DTR = GridSearchCV(DecisionTreeRegressor(random_state = 12345),param_DTR, cv = 5, scoring = new_score)\n",
    "\n",
    "rouger_DTR = model_grid_rouger_DTR.fit(features_train, target_train_rouger)\n",
    "\n",
    "print(\"Параметр глубины дерева лучшей модели: {}\".format(model_grid_rouger_DTR.best_params_))\n",
    "print(\"Лучший показатель sMape: {}\".format(rouger_DTR.best_score_))"
   ]
  },
  {
   "cell_type": "code",
   "execution_count": null,
   "metadata": {},
   "outputs": [],
   "source": []
  },
  {
   "cell_type": "code",
   "execution_count": 43,
   "metadata": {},
   "outputs": [
    {
     "name": "stdout",
     "output_type": "stream",
     "text": [
      "Параметр глубины дерева лучшей модели: {'max_depth': 1}\n",
      "Лучший показатель sMape: -9.200518884662483\n"
     ]
    }
   ],
   "source": [
    "#final_DTR\n",
    "model_grid_final_DTR = GridSearchCV(DecisionTreeRegressor(random_state = 12345),param_DTR, cv = 5, scoring = new_score)\n",
    "\n",
    "final_DTR = model_grid_final_DTR.fit(features_train, target_train_final)\n",
    "\n",
    "print(\"Параметр глубины дерева лучшей модели: {}\".format(model_grid_final_DTR.best_params_))\n",
    "print(\"Лучший показатель sMape: {}\".format(final_DTR.best_score_))"
   ]
  },
  {
   "cell_type": "code",
   "execution_count": 44,
   "metadata": {},
   "outputs": [
    {
     "name": "stdout",
     "output_type": "stream",
     "text": [
      "Параметр глубины дерева и количества лучшей модели: {'max_depth': 11, 'n_estimators': 9}\n",
      "Лучший показатель sMape: -6.794430565325073\n"
     ]
    }
   ],
   "source": [
    "#rouger_RDR\n",
    "model_grid_rouger_RDR = GridSearchCV(RandomForestRegressor(random_state = 12345),param_RDR, cv = 5, scoring = new_score)\n",
    "\n",
    "rouger_RDR = model_grid_rouger_RDR.fit(features_train, target_train_rouger)\n",
    "\n",
    "print(\"Параметр глубины дерева и количества лучшей модели: {}\".format(model_grid_rouger_RDR.best_params_))\n",
    "print(\"Лучший показатель sMape: {}\".format(rouger_RDR.best_score_))"
   ]
  },
  {
   "cell_type": "code",
   "execution_count": 45,
   "metadata": {},
   "outputs": [
    {
     "name": "stdout",
     "output_type": "stream",
     "text": [
      "Параметр глубины дерева и количества лучшей модели: {'max_depth': 1, 'n_estimators': 6}\n",
      "Лучший показатель sMape: -9.171194365746837\n"
     ]
    }
   ],
   "source": [
    "#final_RDR\n",
    "model_grid_final_RDR = GridSearchCV(RandomForestRegressor(random_state = 12345),param_RDR, cv = 5, scoring = new_score)\n",
    "\n",
    "final_RDR = model_grid_final_RDR.fit(features_train, target_train_final)\n",
    "\n",
    "print(\"Параметр глубины дерева и количества лучшей модели: {}\".format(model_grid_final_RDR.best_params_))\n",
    "print(\"Лучший показатель sMape: {}\".format(final_RDR.best_score_))"
   ]
  },
  {
   "cell_type": "markdown",
   "metadata": {},
   "source": [
    "По показателям модели видим, что лучше всего себя показывает RandomForestRegressor с показателями модели: {'max_depth': 11, 'n_estimators': 9} , поэтому возьмем их для расчета итоговой sMAPE:"
   ]
  },
  {
   "cell_type": "code",
   "execution_count": 46,
   "metadata": {},
   "outputs": [
    {
     "name": "stdout",
     "output_type": "stream",
     "text": [
      "Итоговая sMAPE RandomForestRegressor: -8.577003415641396\n",
      "Итоговая sMAPE DecisionTreeRegressor: -8.851658766237229\n"
     ]
    }
   ],
   "source": [
    "print('Итоговая sMAPE RandomForestRegressor:', total_smape(rouger_RDR.best_score_ , final_RDR.best_score_))\n",
    "print('Итоговая sMAPE DecisionTreeRegressor:', total_smape(rouger_DTR.best_score_ , final_DTR.best_score_))"
   ]
  },
  {
   "cell_type": "markdown",
   "metadata": {},
   "source": [
    "Проверим качество модели на тестовой выборке c данными лучших моделей, предварительно перетащив целевые столбцы по индексу из df_full:"
   ]
  },
  {
   "cell_type": "code",
   "execution_count": 43,
   "metadata": {},
   "outputs": [],
   "source": [
    "df_full_for_test = df_full[['date','rougher.output.recovery','final.output.recovery']]\n",
    "df_new_test = df_test.merge(df_full_for_test,  on='date', how='left')\n",
    "\n"
   ]
  },
  {
   "cell_type": "markdown",
   "metadata": {},
   "source": [
    "Видим, что не цепляется несколько значений, но относительно общей базы их немного ,поэтому можно удалить их"
   ]
  },
  {
   "cell_type": "code",
   "execution_count": 44,
   "metadata": {},
   "outputs": [],
   "source": [
    "df_new_test = df_new_test.dropna()"
   ]
  },
  {
   "cell_type": "code",
   "execution_count": null,
   "metadata": {},
   "outputs": [],
   "source": []
  },
  {
   "cell_type": "code",
   "execution_count": null,
   "metadata": {},
   "outputs": [],
   "source": []
  },
  {
   "cell_type": "code",
   "execution_count": 45,
   "metadata": {},
   "outputs": [],
   "source": [
    "df_new_test = df_new_test.drop('date', axis = 1)"
   ]
  },
  {
   "cell_type": "code",
   "execution_count": 46,
   "metadata": {},
   "outputs": [],
   "source": [
    "target_test_rougher = df_new_test['rougher.output.recovery']\n",
    "target_test_final = df_new_test['final.output.recovery']\n",
    "df_test = df_new_test.drop(['rougher.output.recovery','final.output.recovery'], axis = 1)"
   ]
  },
  {
   "cell_type": "code",
   "execution_count": null,
   "metadata": {},
   "outputs": [],
   "source": [
    "rougher_pred_test = model_grid_rouger_RDR.predict(df_test)\n",
    "final_pred_test = model_grid_final_RDR.predict(df_test)\n",
    "\n",
    "rougher_test_smape = smape(target_test_rougher,rougher_pred_test)\n",
    "final_test_smape = smape(target_test_final,final_pred_test)"
   ]
  },
  {
   "cell_type": "code",
   "execution_count": 52,
   "metadata": {},
   "outputs": [
    {
     "name": "stdout",
     "output_type": "stream",
     "text": [
      "sMAPE rouger тестовой выборки: 8.369081603722407\n",
      "sMAPE final тестовой выборки: 9.55820771553914\n",
      "Итоговая sMAPE тестовой выборки: 9.260926187584957\n"
     ]
    }
   ],
   "source": [
    "print('sMAPE rouger тестовой выборки:', rougher_test_smape)\n",
    "print('sMAPE final тестовой выборки:', final_test_smape)\n",
    "print('Итоговая sMAPE тестовой выборки:',total_smape(rougher_test_smape, final_test_smape))"
   ]
  },
  {
   "cell_type": "markdown",
   "metadata": {},
   "source": [
    "<div style=\"background: #cceeaa; padding: 5px; border: 1px solid green; border-radius: 5px;\">\n",
    "<font color='green'> \n",
    "    <b><u>КОММЕНТАРИЙ РЕВЬЮЕРА</u></b>\n",
    "<font color='green'><br>\n",
    "Александр, интересную работу ты провёл.<br>\n",
    "Понятно, логично, вдумчиво<br>\n",
    "Видна хорошая предвариателная работа с данными, уместный графический анализ, осмысленная аналитика и дельная модельная работа - многое удалось как надо)<br>\n",
    "    \n",
    "Метрика - достаточно низкая. И это хорошо.<br>\n",
    "вот только не понятно насколько))<br>\n",
    "По хорошему, здесь надо понять: наша модель предсказывает лучше, чем просто по среднему.<br>\n",
    "Например, в формулу метрики предиктом подставить медианные значения таргет-трайна). <br>\n",
    "Или использовать DummyRegression<br>\n",
    "<font color='red'>\n",
    "Покажи, пожалуйста, сравнение и вывод относительно константной модели)\n",
    "<font color='green'>    \n",
    "Спасибо)<br>\n",
    "БУДУ ЖДАТЬ КОММЕНТАРИЕВ!"
   ]
  },
  {
   "cell_type": "markdown",
   "metadata": {},
   "source": [
    "<div     style = 'color: #FFFFFF;\n",
    "    background-color: #3E94C9;\n",
    "    border-color: #d6e9c6; padding: 15px;\n",
    "    margin-bottom: 18px;\n",
    "    border: 1px solid transparent;\n",
    "    border-radius: 2px;'>\n",
    "<h2> Ответ исполнителя :<a class=\"tocSkip\"> </h2>\n",
    "\n",
    "Добавил. Я её сделал и удалил, потому что не было в условиях :) \n",
    "</div>"
   ]
  },
  {
   "cell_type": "code",
   "execution_count": 53,
   "metadata": {},
   "outputs": [
    {
     "data": {
      "text/plain": [
       "DummyRegressor(constant=None, quantile=None, strategy='median')"
      ]
     },
     "execution_count": 53,
     "metadata": {},
     "output_type": "execute_result"
    }
   ],
   "source": [
    "model_dummy = DummyRegressor(strategy=\"median\")\n",
    "\n",
    "model_dummy.fit(features_train, target_train_rouger)\n",
    "model_dummy.fit(features_train, target_train_final)"
   ]
  },
  {
   "cell_type": "code",
   "execution_count": null,
   "metadata": {},
   "outputs": [],
   "source": [
    "**************"
   ]
  },
  {
   "cell_type": "code",
   "execution_count": 55,
   "metadata": {},
   "outputs": [],
   "source": [
    "#model_dummy = DummyRegressor(strategy=\"median\")\n",
    "\n",
    "model_dummy1=DummyRegressor(strategy=\"median\").fit(features_train, target_train_rouger)\n",
    "model_dummy2=DummyRegressor(strategy=\"median\").fit(features_train, target_train_final)"
   ]
  },
  {
   "cell_type": "raw",
   "metadata": {},
   "source": [
    "*****************"
   ]
  },
  {
   "cell_type": "code",
   "execution_count": 56,
   "metadata": {},
   "outputs": [],
   "source": [
    "rougher_pred_dummy = model_dummy1.predict(df_test)\n",
    "final_pred_dummy = model_dummy2.predict(df_test)\n",
    "\n",
    "rougher_dummy_smape = smape(target_test_rougher,rougher_pred_dummy)\n",
    "final_dummy_smape = smape(target_test_final,final_pred_dummy)"
   ]
  },
  {
   "cell_type": "code",
   "execution_count": 57,
   "metadata": {},
   "outputs": [
    {
     "name": "stdout",
     "output_type": "stream",
     "text": [
      "sMAPE rouger тестовой выборки: 8.492344832688905\n",
      "sMAPE final тестовой выборки: 9.728793441471751\n",
      "Итоговая sMAPE тестовой выборки: 9.41968128927604\n"
     ]
    }
   ],
   "source": [
    "print('sMAPE rouger тестовой выборки:', rougher_dummy_smape)\n",
    "print('sMAPE final тестовой выборки:', final_dummy_smape)\n",
    "print('Итоговая sMAPE тестовой выборки:',total_smape(rougher_dummy_smape, final_dummy_smape))"
   ]
  },
  {
   "cell_type": "markdown",
   "metadata": {},
   "source": [
    "При тестировании модели фиктивных элементов можно обратить внимание на то, что основной показатель sMAPE ухудшился в несколько раз, преимущественно за счет sMAPE rouger, что сильно повлияло на итоговый оценку sMAPE тестовой выборки.  Это говорит о том, что наша модель работает лучше, чем константная модель."
   ]
  },
  {
   "cell_type": "markdown",
   "metadata": {},
   "source": [
    "<div style=\"background: #cceeaa; padding: 5px; border: 1px solid green; border-radius: 5px;\">\n",
    "<font color='green'> \n",
    "<u>КОММЕНТАРИЙ РЕВЬЮЕРА 2</u>\n",
    "<font color='green'><br>\n",
    "Привет, Александр. ОК, увидел твои доработки, спаисбо.<br>\n",
    "По константной: посмотри, пожалуйста код в ******. Там я чуть изменил запись самой модели - теперь всё ок считает)<br><br>\n",
    "    \n",
    "И видно, что разница средних метрик между нашей моедлью и константной - совсем не большая. Но тут сложно говорить кто лучше/хуже ...(по идее, если хотим точно выяснить - надо испрользовать проверку гипотез мз спринта 4, т.е. сраниваем средние с учётом разброса данных)\n",
    "На мой взгляд метрики - примерно одинаковые. И это допустимо в этом проекте). Что же тогда ещё для дальнейшего улучшения качества моделирования возможно сделать?<br>    \n",
    "\n",
    "Попробовал систематизировать:<br>\n",
    "1) качество данных на входе: ещё раз оценить аномалии, пропуски, соответствие физике (правдиво ли всё)<br>\n",
    "2) Работа с моделями:<br>\n",
    "- Генерация и поиск бизнес-факторов для моделирования: возможно что-то упустили, или придумать что-то гибридное из имеющихся факторов... В общем ещё раз пройтись по бизнес-цепочке процесса<br>\n",
    "- Подбор самих моделей. показателей самих моделей <br>\n",
    "- Подбор параметров выбранных показателей у выбранных моделей <br>\n",
    "    \n",
    "3)Плюс, есть же ещё параметры самого процесса: температура, скорость конвейера, сила удара чего-то там....<br> Они тоже могут помочь<br>\n",
    "4) ну и разобраться ещё раз с физическими и производственными процессами. ВОзможно приниципиально иное решение можно создать.<br> \n",
    "    \n",
    "В общем-то другого и нет. Только такие возможности.<br>\n",
    "Если углубится в так называемый \"Статистический анализ данных\" (SPC) - по сути это превариетльная подготовка данных в этом проекте, можно найти какое-нибудь решение<br>\n",
    "\n",
    "Но цель проекта достигнута:<br>\n",
    "1) пройдены важные этапы построения производственной модели<br>\n",
    "2) возникло много дополнительных вопросов))\n",
    "\n",
    "Спасибо за работу) УСПЕШНОГО ДАЛЬНЕЙШЕГО ОБУЧЕНИЯ!"
   ]
  },
  {
   "cell_type": "markdown",
   "metadata": {},
   "source": [
    "## Чек-лист готовности проекта"
   ]
  },
  {
   "cell_type": "markdown",
   "metadata": {},
   "source": [
    "- [x]  Jupyter Notebook открыт\n",
    "- [x]  Весь код выполняется без ошибок\n",
    "- [x]  Ячейки с кодом расположены в порядке выполнения\n",
    "- [x]  Выполнен шаг 1: данные подготовлены\n",
    "    - [x]  Проверена формула вычисления эффективности обогащения\n",
    "    - [x]  Проанализированы признаки, недоступные в тестовой выборке\n",
    "    - [x]  Проведена предобработка данных\n",
    "- [x]  Выполнен шаг 2: данные проанализированы\n",
    "    - [x]  Исследовано изменение концентрации элементов на каждом этапе\n",
    "    - [x]  Проанализированы распределения размеров гранул на обучающей и тестовой выборках\n",
    "    - [x]  Исследованы суммарные концентрации\n",
    "    - [x]  Проанализированы и обработаны аномальные значения\n",
    "- [x]  Выполнен шаг 3: построена модель прогнозирования\n",
    "    - [x]  Написана функция для вычисления итогового *sMAPE*\n",
    "    - [x]  Обучено и проверено несколько моделей\n",
    "    - [x]  Выбрана лучшая модель, её качество проверено на тестовой выборке"
   ]
  },
  {
   "cell_type": "code",
   "execution_count": null,
   "metadata": {},
   "outputs": [],
   "source": []
  }
 ],
 "metadata": {
  "ExecuteTimeLog": [
   {
    "duration": 351,
    "start_time": "2021-06-29T16:42:11.747Z"
   },
   {
    "duration": 263,
    "start_time": "2021-06-29T16:42:14.577Z"
   },
   {
    "duration": 737,
    "start_time": "2021-06-29T16:42:17.471Z"
   },
   {
    "duration": 4516,
    "start_time": "2021-06-29T16:42:18.856Z"
   },
   {
    "duration": 364,
    "start_time": "2021-06-29T16:42:23.374Z"
   },
   {
    "duration": 32,
    "start_time": "2021-06-29T16:43:44.755Z"
   },
   {
    "duration": 28,
    "start_time": "2021-06-29T17:10:36.568Z"
   },
   {
    "duration": 532,
    "start_time": "2021-06-29T19:58:38.448Z"
   },
   {
    "duration": 16,
    "start_time": "2021-06-29T19:58:54.365Z"
   },
   {
    "duration": 327,
    "start_time": "2021-06-29T20:00:31.471Z"
   },
   {
    "duration": 258,
    "start_time": "2021-06-29T20:01:26.432Z"
   },
   {
    "duration": 160,
    "start_time": "2021-06-29T20:01:34.345Z"
   },
   {
    "duration": 3,
    "start_time": "2021-06-30T18:19:32.982Z"
   },
   {
    "duration": 11,
    "start_time": "2021-06-30T18:19:38.817Z"
   },
   {
    "duration": 49,
    "start_time": "2021-06-30T18:19:50.506Z"
   },
   {
    "duration": 28,
    "start_time": "2021-06-30T18:23:04.739Z"
   },
   {
    "duration": 17,
    "start_time": "2021-06-30T18:23:19.721Z"
   },
   {
    "duration": 762,
    "start_time": "2021-06-30T18:23:32.671Z"
   },
   {
    "duration": 853,
    "start_time": "2021-06-30T18:23:33.435Z"
   },
   {
    "duration": 24,
    "start_time": "2021-06-30T18:23:34.302Z"
   },
   {
    "duration": 40,
    "start_time": "2021-06-30T18:23:34.329Z"
   },
   {
    "duration": 38,
    "start_time": "2021-06-30T18:23:34.372Z"
   },
   {
    "duration": 182,
    "start_time": "2021-06-30T18:23:34.412Z"
   },
   {
    "duration": 30,
    "start_time": "2021-06-30T18:23:34.596Z"
   },
   {
    "duration": 14,
    "start_time": "2021-06-30T18:23:34.629Z"
   },
   {
    "duration": 5,
    "start_time": "2021-06-30T18:23:34.645Z"
   },
   {
    "duration": 3,
    "start_time": "2021-06-30T18:24:44.360Z"
   },
   {
    "duration": 403,
    "start_time": "2021-06-30T18:25:00.695Z"
   },
   {
    "duration": 291,
    "start_time": "2021-06-30T18:25:17.231Z"
   },
   {
    "duration": 333,
    "start_time": "2021-06-30T18:25:21.369Z"
   },
   {
    "duration": 431,
    "start_time": "2021-06-30T18:25:52.340Z"
   },
   {
    "duration": 1266,
    "start_time": "2021-06-30T18:25:59.510Z"
   },
   {
    "duration": 3,
    "start_time": "2021-06-30T18:44:50.975Z"
   },
   {
    "duration": 14,
    "start_time": "2021-06-30T18:49:54.204Z"
   },
   {
    "duration": 268,
    "start_time": "2021-06-30T18:50:46.004Z"
   },
   {
    "duration": 15,
    "start_time": "2021-06-30T18:50:50.951Z"
   },
   {
    "duration": 15,
    "start_time": "2021-06-30T18:50:59.086Z"
   },
   {
    "duration": 739,
    "start_time": "2021-06-30T18:53:25.761Z"
   },
   {
    "duration": 867,
    "start_time": "2021-06-30T18:53:26.503Z"
   },
   {
    "duration": 35,
    "start_time": "2021-06-30T18:53:27.373Z"
   },
   {
    "duration": 39,
    "start_time": "2021-06-30T18:53:27.411Z"
   },
   {
    "duration": 13,
    "start_time": "2021-06-30T18:53:27.453Z"
   },
   {
    "duration": 189,
    "start_time": "2021-06-30T18:53:27.468Z"
   },
   {
    "duration": 16,
    "start_time": "2021-06-30T18:53:27.660Z"
   },
   {
    "duration": 4,
    "start_time": "2021-06-30T18:53:27.699Z"
   },
   {
    "duration": 23,
    "start_time": "2021-06-30T18:53:27.706Z"
   },
   {
    "duration": 4,
    "start_time": "2021-06-30T18:53:27.732Z"
   },
   {
    "duration": 426,
    "start_time": "2021-06-30T19:22:36.261Z"
   },
   {
    "duration": 287,
    "start_time": "2021-06-30T19:22:57.678Z"
   },
   {
    "duration": 307,
    "start_time": "2021-06-30T19:23:51.083Z"
   },
   {
    "duration": 261,
    "start_time": "2021-06-30T19:25:28.577Z"
   },
   {
    "duration": 376,
    "start_time": "2021-06-30T19:29:14.160Z"
   },
   {
    "duration": 268,
    "start_time": "2021-06-30T19:30:22.420Z"
   },
   {
    "duration": 317,
    "start_time": "2021-06-30T19:30:33.084Z"
   },
   {
    "duration": 6,
    "start_time": "2021-06-30T19:33:08.328Z"
   },
   {
    "duration": 7,
    "start_time": "2021-06-30T19:33:16.993Z"
   },
   {
    "duration": 5,
    "start_time": "2021-06-30T19:35:21.103Z"
   },
   {
    "duration": 312,
    "start_time": "2021-06-30T19:35:22.599Z"
   },
   {
    "duration": 7,
    "start_time": "2021-06-30T19:35:26.861Z"
   },
   {
    "duration": 11,
    "start_time": "2021-06-30T19:38:10.780Z"
   },
   {
    "duration": 8,
    "start_time": "2021-06-30T19:38:18.150Z"
   },
   {
    "duration": 7,
    "start_time": "2021-06-30T19:38:52.331Z"
   },
   {
    "duration": 8,
    "start_time": "2021-06-30T19:38:54.899Z"
   },
   {
    "duration": 10,
    "start_time": "2021-06-30T19:38:55.420Z"
   },
   {
    "duration": 10,
    "start_time": "2021-06-30T19:40:27.565Z"
   },
   {
    "duration": 296,
    "start_time": "2021-06-30T19:43:02.939Z"
   },
   {
    "duration": 17,
    "start_time": "2021-06-30T19:43:17.413Z"
   },
   {
    "duration": 557,
    "start_time": "2021-06-30T19:46:10.409Z"
   },
   {
    "duration": 320,
    "start_time": "2021-06-30T19:47:47.680Z"
   },
   {
    "duration": 290,
    "start_time": "2021-06-30T19:48:06.344Z"
   },
   {
    "duration": 15,
    "start_time": "2021-06-30T19:48:28.689Z"
   },
   {
    "duration": 12,
    "start_time": "2021-06-30T19:48:43.633Z"
   },
   {
    "duration": 14,
    "start_time": "2021-06-30T19:48:47.804Z"
   },
   {
    "duration": 14,
    "start_time": "2021-06-30T19:48:52.608Z"
   },
   {
    "duration": 12,
    "start_time": "2021-06-30T19:49:15.897Z"
   },
   {
    "duration": 13,
    "start_time": "2021-06-30T19:49:21.121Z"
   },
   {
    "duration": 6,
    "start_time": "2021-06-30T20:01:56.632Z"
   },
   {
    "duration": 6,
    "start_time": "2021-06-30T20:02:19.428Z"
   },
   {
    "duration": 8,
    "start_time": "2021-06-30T20:02:43.370Z"
   },
   {
    "duration": 7,
    "start_time": "2021-06-30T20:02:55.197Z"
   },
   {
    "duration": 279,
    "start_time": "2021-06-30T20:04:32.349Z"
   },
   {
    "duration": 7,
    "start_time": "2021-06-30T20:04:41.341Z"
   },
   {
    "duration": 6,
    "start_time": "2021-06-30T20:05:17.837Z"
   },
   {
    "duration": 268,
    "start_time": "2021-06-30T20:10:53.773Z"
   },
   {
    "duration": 260,
    "start_time": "2021-06-30T20:14:10.612Z"
   },
   {
    "duration": 280,
    "start_time": "2021-06-30T20:15:18.433Z"
   },
   {
    "duration": 318,
    "start_time": "2021-06-30T20:15:23.961Z"
   },
   {
    "duration": 293,
    "start_time": "2021-06-30T20:15:43.806Z"
   },
   {
    "duration": 267,
    "start_time": "2021-06-30T20:15:58.170Z"
   },
   {
    "duration": 287,
    "start_time": "2021-06-30T20:16:08.334Z"
   },
   {
    "duration": 358,
    "start_time": "2021-06-30T20:16:16.683Z"
   },
   {
    "duration": 273,
    "start_time": "2021-06-30T20:16:30.970Z"
   },
   {
    "duration": 368,
    "start_time": "2021-06-30T20:16:40.273Z"
   },
   {
    "duration": 297,
    "start_time": "2021-06-30T20:16:58.427Z"
   },
   {
    "duration": 5,
    "start_time": "2021-06-30T20:17:27.918Z"
   },
   {
    "duration": 283,
    "start_time": "2021-06-30T20:18:03.385Z"
   },
   {
    "duration": 281,
    "start_time": "2021-06-30T20:18:12.680Z"
   },
   {
    "duration": 286,
    "start_time": "2021-06-30T20:18:31.110Z"
   },
   {
    "duration": 274,
    "start_time": "2021-06-30T20:18:38.459Z"
   },
   {
    "duration": 8,
    "start_time": "2021-06-30T20:18:50.006Z"
   },
   {
    "duration": 7,
    "start_time": "2021-06-30T20:19:05.458Z"
   },
   {
    "duration": 6,
    "start_time": "2021-06-30T20:19:20.970Z"
   },
   {
    "duration": 105,
    "start_time": "2021-06-30T20:20:43.711Z"
   },
   {
    "duration": 99,
    "start_time": "2021-06-30T20:21:01.876Z"
   },
   {
    "duration": 398,
    "start_time": "2021-06-30T20:21:28.999Z"
   },
   {
    "duration": 411,
    "start_time": "2021-06-30T20:21:41.464Z"
   },
   {
    "duration": 418,
    "start_time": "2021-06-30T20:21:48.154Z"
   },
   {
    "duration": 100,
    "start_time": "2021-06-30T20:21:51.512Z"
   },
   {
    "duration": 539,
    "start_time": "2021-06-30T20:22:11.896Z"
   },
   {
    "duration": 6,
    "start_time": "2021-06-30T20:23:50.153Z"
   },
   {
    "duration": 6,
    "start_time": "2021-06-30T20:23:58.049Z"
   },
   {
    "duration": 20,
    "start_time": "2021-06-30T20:25:56.583Z"
   },
   {
    "duration": 19,
    "start_time": "2021-06-30T20:30:31.592Z"
   },
   {
    "duration": 15,
    "start_time": "2021-06-30T20:30:37.532Z"
   },
   {
    "duration": 7,
    "start_time": "2021-06-30T20:30:49.048Z"
   },
   {
    "duration": 22,
    "start_time": "2021-06-30T20:45:27.842Z"
   },
   {
    "duration": 5,
    "start_time": "2021-06-30T21:20:55.481Z"
   },
   {
    "duration": 309,
    "start_time": "2021-06-30T21:21:02.977Z"
   },
   {
    "duration": 300,
    "start_time": "2021-06-30T21:21:14.086Z"
   },
   {
    "duration": 5,
    "start_time": "2021-06-30T21:21:35.239Z"
   },
   {
    "duration": 283,
    "start_time": "2021-06-30T21:21:37.285Z"
   },
   {
    "duration": 8929,
    "start_time": "2021-06-30T21:26:14.604Z"
   },
   {
    "duration": -3433,
    "start_time": "2021-06-30T21:26:26.969Z"
   },
   {
    "duration": 7,
    "start_time": "2021-06-30T21:26:39.117Z"
   },
   {
    "duration": 14,
    "start_time": "2021-06-30T21:26:42.392Z"
   },
   {
    "duration": 21,
    "start_time": "2021-06-30T21:27:31.606Z"
   },
   {
    "duration": 9,
    "start_time": "2021-06-30T21:27:44.281Z"
   },
   {
    "duration": 395,
    "start_time": "2021-06-30T21:28:34.556Z"
   },
   {
    "duration": 303,
    "start_time": "2021-06-30T21:29:16.799Z"
   },
   {
    "duration": 6,
    "start_time": "2021-06-30T21:31:20.988Z"
   },
   {
    "duration": 329,
    "start_time": "2021-06-30T21:31:22.779Z"
   },
   {
    "duration": 7,
    "start_time": "2021-06-30T21:31:55.896Z"
   },
   {
    "duration": 325,
    "start_time": "2021-06-30T21:31:57.398Z"
   },
   {
    "duration": 571,
    "start_time": "2021-06-30T21:34:55.854Z"
   },
   {
    "duration": 386,
    "start_time": "2021-06-30T21:35:03.406Z"
   },
   {
    "duration": 448,
    "start_time": "2021-06-30T21:36:01.547Z"
   },
   {
    "duration": 694,
    "start_time": "2021-06-30T21:38:41.672Z"
   },
   {
    "duration": 339,
    "start_time": "2021-06-30T21:38:48.019Z"
   },
   {
    "duration": 487,
    "start_time": "2021-06-30T21:39:03.907Z"
   },
   {
    "duration": 95,
    "start_time": "2021-06-30T21:40:23.964Z"
   },
   {
    "duration": 332,
    "start_time": "2021-06-30T21:40:52.253Z"
   },
   {
    "duration": 319,
    "start_time": "2021-06-30T21:42:29.966Z"
   },
   {
    "duration": 1559,
    "start_time": "2021-06-30T21:43:02.581Z"
   },
   {
    "duration": 912,
    "start_time": "2021-06-30T21:43:04.143Z"
   },
   {
    "duration": 26,
    "start_time": "2021-06-30T21:43:05.058Z"
   },
   {
    "duration": 40,
    "start_time": "2021-06-30T21:43:05.100Z"
   },
   {
    "duration": 14,
    "start_time": "2021-06-30T21:43:05.143Z"
   },
   {
    "duration": 261,
    "start_time": "2021-06-30T21:43:05.159Z"
   },
   {
    "duration": 14,
    "start_time": "2021-06-30T21:43:05.423Z"
   },
   {
    "duration": 19,
    "start_time": "2021-06-30T21:43:05.441Z"
   },
   {
    "duration": 54,
    "start_time": "2021-06-30T21:43:05.463Z"
   },
   {
    "duration": 4,
    "start_time": "2021-06-30T21:43:05.520Z"
   },
   {
    "duration": 11,
    "start_time": "2021-06-30T21:43:05.526Z"
   },
   {
    "duration": 7,
    "start_time": "2021-06-30T21:43:05.540Z"
   },
   {
    "duration": 65,
    "start_time": "2021-06-30T21:43:05.549Z"
   },
   {
    "duration": 7,
    "start_time": "2021-06-30T21:43:05.617Z"
   },
   {
    "duration": 28,
    "start_time": "2021-06-30T21:43:05.626Z"
   },
   {
    "duration": 7,
    "start_time": "2021-06-30T21:43:05.657Z"
   },
   {
    "duration": 14,
    "start_time": "2021-06-30T21:43:05.706Z"
   },
   {
    "duration": 8,
    "start_time": "2021-06-30T21:43:05.724Z"
   },
   {
    "duration": 446,
    "start_time": "2021-06-30T21:43:05.736Z"
   },
   {
    "duration": -3449,
    "start_time": "2021-06-30T21:43:09.633Z"
   },
   {
    "duration": -3453,
    "start_time": "2021-06-30T21:43:09.639Z"
   },
   {
    "duration": -3455,
    "start_time": "2021-06-30T21:43:09.643Z"
   },
   {
    "duration": 304,
    "start_time": "2021-06-30T21:43:55.137Z"
   },
   {
    "duration": 441,
    "start_time": "2021-06-30T21:45:22.385Z"
   },
   {
    "duration": 566,
    "start_time": "2021-06-30T21:46:00.118Z"
   },
   {
    "duration": 379,
    "start_time": "2021-06-30T21:47:52.220Z"
   },
   {
    "duration": 399,
    "start_time": "2021-06-30T21:48:11.980Z"
   },
   {
    "duration": 312,
    "start_time": "2021-06-30T21:48:24.198Z"
   },
   {
    "duration": 363,
    "start_time": "2021-06-30T21:49:58.755Z"
   },
   {
    "duration": 669,
    "start_time": "2021-06-30T21:50:10.014Z"
   },
   {
    "duration": 685,
    "start_time": "2021-06-30T21:55:09.660Z"
   },
   {
    "duration": 676,
    "start_time": "2021-06-30T21:55:23.196Z"
   },
   {
    "duration": 450,
    "start_time": "2021-06-30T21:55:28.265Z"
   },
   {
    "duration": 679,
    "start_time": "2021-06-30T21:58:56.009Z"
   },
   {
    "duration": 366,
    "start_time": "2021-06-30T21:59:59.385Z"
   },
   {
    "duration": 289,
    "start_time": "2021-06-30T22:00:43.498Z"
   },
   {
    "duration": 14784,
    "start_time": "2021-06-30T22:02:50.504Z"
   },
   {
    "duration": 106,
    "start_time": "2021-06-30T22:03:07.220Z"
   },
   {
    "duration": 336,
    "start_time": "2021-06-30T22:03:11.891Z"
   },
   {
    "duration": 290,
    "start_time": "2021-06-30T22:03:19.700Z"
   },
   {
    "duration": 361,
    "start_time": "2021-06-30T22:03:34.144Z"
   },
   {
    "duration": 290,
    "start_time": "2021-06-30T22:04:07.720Z"
   },
   {
    "duration": 4,
    "start_time": "2021-06-30T22:04:37.052Z"
   },
   {
    "duration": 371,
    "start_time": "2021-06-30T22:04:43.100Z"
   },
   {
    "duration": 679,
    "start_time": "2021-06-30T22:04:53.941Z"
   },
   {
    "duration": 501,
    "start_time": "2021-06-30T22:05:11.566Z"
   },
   {
    "duration": 6,
    "start_time": "2021-06-30T22:07:55.399Z"
   },
   {
    "duration": 492,
    "start_time": "2021-06-30T22:08:05.913Z"
   },
   {
    "duration": 9,
    "start_time": "2021-06-30T22:09:31.773Z"
   },
   {
    "duration": 1489,
    "start_time": "2021-06-30T22:09:48.185Z"
   },
   {
    "duration": 1436,
    "start_time": "2021-06-30T22:10:22.131Z"
   },
   {
    "duration": 279,
    "start_time": "2021-06-30T22:24:52.190Z"
   },
   {
    "duration": 4,
    "start_time": "2021-06-30T22:26:22.924Z"
   },
   {
    "duration": 11,
    "start_time": "2021-06-30T22:27:03.043Z"
   },
   {
    "duration": 11,
    "start_time": "2021-06-30T22:27:17.279Z"
   },
   {
    "duration": 682,
    "start_time": "2021-06-30T22:28:37.534Z"
   },
   {
    "duration": 467,
    "start_time": "2021-06-30T22:32:19.924Z"
   },
   {
    "duration": 349,
    "start_time": "2021-06-30T22:32:48.683Z"
   },
   {
    "duration": 305,
    "start_time": "2021-06-30T22:58:11.539Z"
   },
   {
    "duration": 2256,
    "start_time": "2021-06-30T22:58:52.677Z"
   },
   {
    "duration": 958,
    "start_time": "2021-06-30T22:59:37.429Z"
   },
   {
    "duration": 413,
    "start_time": "2021-06-30T23:03:45.892Z"
   },
   {
    "duration": 8,
    "start_time": "2021-06-30T23:03:50.131Z"
   },
   {
    "duration": 6,
    "start_time": "2021-06-30T23:03:52.617Z"
   },
   {
    "duration": 6,
    "start_time": "2021-06-30T23:04:12.913Z"
   },
   {
    "duration": 20,
    "start_time": "2021-06-30T23:08:44.654Z"
   },
   {
    "duration": 303,
    "start_time": "2021-06-30T23:08:52.446Z"
   },
   {
    "duration": 16,
    "start_time": "2021-06-30T23:08:59.543Z"
   },
   {
    "duration": 284,
    "start_time": "2021-06-30T23:09:01.494Z"
   },
   {
    "duration": 6,
    "start_time": "2021-06-30T23:09:24.202Z"
   },
   {
    "duration": 979,
    "start_time": "2021-06-30T23:09:51.893Z"
   },
   {
    "duration": 353,
    "start_time": "2021-06-30T23:11:07.278Z"
   },
   {
    "duration": 18,
    "start_time": "2021-06-30T23:11:24.195Z"
   },
   {
    "duration": 311,
    "start_time": "2021-06-30T23:11:28.816Z"
   },
   {
    "duration": 2586,
    "start_time": "2021-06-30T23:20:36.074Z"
   },
   {
    "duration": 92,
    "start_time": "2021-06-30T23:25:31.355Z"
   },
   {
    "duration": 481,
    "start_time": "2021-06-30T23:25:39.594Z"
   },
   {
    "duration": 483,
    "start_time": "2021-06-30T23:25:45.977Z"
   },
   {
    "duration": 5,
    "start_time": "2021-06-30T23:31:50.203Z"
   },
   {
    "duration": 1455,
    "start_time": "2021-06-30T23:31:52.626Z"
   },
   {
    "duration": 1639,
    "start_time": "2021-06-30T23:32:07.703Z"
   },
   {
    "duration": 1859,
    "start_time": "2021-06-30T23:32:20.896Z"
   },
   {
    "duration": 5,
    "start_time": "2021-06-30T23:32:33.670Z"
   },
   {
    "duration": 2419,
    "start_time": "2021-06-30T23:32:35.828Z"
   },
   {
    "duration": 4,
    "start_time": "2021-06-30T23:32:46.775Z"
   },
   {
    "duration": 1477,
    "start_time": "2021-06-30T23:32:53.303Z"
   },
   {
    "duration": 322,
    "start_time": "2021-06-30T23:43:37.556Z"
   },
   {
    "duration": 794,
    "start_time": "2021-06-30T23:43:46.411Z"
   },
   {
    "duration": 815,
    "start_time": "2021-06-30T23:44:04.561Z"
   },
   {
    "duration": 823,
    "start_time": "2021-06-30T23:44:21.850Z"
   },
   {
    "duration": 1111,
    "start_time": "2021-06-30T23:46:40.151Z"
   },
   {
    "duration": 787,
    "start_time": "2021-06-30T23:46:56.685Z"
   },
   {
    "duration": 945,
    "start_time": "2021-06-30T23:48:31.724Z"
   },
   {
    "duration": 774,
    "start_time": "2021-06-30T23:48:39.099Z"
   },
   {
    "duration": 784,
    "start_time": "2021-06-30T23:51:03.620Z"
   },
   {
    "duration": 1838,
    "start_time": "2021-06-30T23:51:37.916Z"
   },
   {
    "duration": 3064,
    "start_time": "2021-06-30T23:51:50.308Z"
   },
   {
    "duration": 2685,
    "start_time": "2021-06-30T23:52:00.505Z"
   },
   {
    "duration": 516,
    "start_time": "2021-06-30T23:59:41.121Z"
   },
   {
    "duration": 586,
    "start_time": "2021-07-01T00:02:29.190Z"
   },
   {
    "duration": 590,
    "start_time": "2021-07-01T00:02:42.181Z"
   },
   {
    "duration": 505,
    "start_time": "2021-07-01T00:03:53.095Z"
   },
   {
    "duration": 311,
    "start_time": "2021-07-01T14:42:27.456Z"
   },
   {
    "duration": 1733,
    "start_time": "2021-07-01T14:42:33.062Z"
   },
   {
    "duration": 962,
    "start_time": "2021-07-01T14:42:34.797Z"
   },
   {
    "duration": 26,
    "start_time": "2021-07-01T14:42:35.765Z"
   },
   {
    "duration": 67,
    "start_time": "2021-07-01T14:42:35.793Z"
   },
   {
    "duration": 15,
    "start_time": "2021-07-01T14:42:35.863Z"
   },
   {
    "duration": 182,
    "start_time": "2021-07-01T14:42:35.880Z"
   },
   {
    "duration": 15,
    "start_time": "2021-07-01T14:42:36.066Z"
   },
   {
    "duration": 20,
    "start_time": "2021-07-01T14:42:36.084Z"
   },
   {
    "duration": 13,
    "start_time": "2021-07-01T14:42:36.106Z"
   },
   {
    "duration": 4,
    "start_time": "2021-07-01T14:42:36.156Z"
   },
   {
    "duration": 11,
    "start_time": "2021-07-01T14:42:36.162Z"
   },
   {
    "duration": 15,
    "start_time": "2021-07-01T14:42:36.176Z"
   },
   {
    "duration": 17,
    "start_time": "2021-07-01T14:42:36.193Z"
   },
   {
    "duration": 5,
    "start_time": "2021-07-01T14:42:36.212Z"
   },
   {
    "duration": 58,
    "start_time": "2021-07-01T14:42:36.219Z"
   },
   {
    "duration": 7,
    "start_time": "2021-07-01T14:42:36.279Z"
   },
   {
    "duration": 17,
    "start_time": "2021-07-01T14:42:36.288Z"
   },
   {
    "duration": 487,
    "start_time": "2021-07-01T14:42:36.308Z"
   },
   {
    "duration": 4,
    "start_time": "2021-07-01T14:42:36.797Z"
   },
   {
    "duration": 1441,
    "start_time": "2021-07-01T14:42:36.803Z"
   },
   {
    "duration": 4,
    "start_time": "2021-07-01T14:42:38.246Z"
   },
   {
    "duration": 10,
    "start_time": "2021-07-01T14:42:38.259Z"
   },
   {
    "duration": 10,
    "start_time": "2021-07-01T14:42:38.271Z"
   },
   {
    "duration": 686,
    "start_time": "2021-07-01T14:42:38.283Z"
   },
   {
    "duration": 358,
    "start_time": "2021-07-01T14:42:38.971Z"
   },
   {
    "duration": 421,
    "start_time": "2021-07-01T14:42:39.331Z"
   },
   {
    "duration": 2361,
    "start_time": "2021-07-01T14:42:39.754Z"
   },
   {
    "duration": 546,
    "start_time": "2021-07-01T14:42:42.118Z"
   },
   {
    "duration": 8,
    "start_time": "2021-07-01T14:42:42.666Z"
   },
   {
    "duration": 31,
    "start_time": "2021-07-01T15:03:46.688Z"
   },
   {
    "duration": 3018,
    "start_time": "2021-07-01T15:51:56.006Z"
   },
   {
    "duration": 439,
    "start_time": "2021-07-01T15:52:27.133Z"
   },
   {
    "duration": 1604,
    "start_time": "2021-07-01T15:53:18.529Z"
   },
   {
    "duration": 878,
    "start_time": "2021-07-01T15:53:20.135Z"
   },
   {
    "duration": 23,
    "start_time": "2021-07-01T15:53:21.016Z"
   },
   {
    "duration": 53,
    "start_time": "2021-07-01T15:53:21.042Z"
   },
   {
    "duration": 16,
    "start_time": "2021-07-01T15:53:21.098Z"
   },
   {
    "duration": 201,
    "start_time": "2021-07-01T15:53:21.116Z"
   },
   {
    "duration": 15,
    "start_time": "2021-07-01T15:53:21.320Z"
   },
   {
    "duration": 42,
    "start_time": "2021-07-01T15:53:21.338Z"
   },
   {
    "duration": 13,
    "start_time": "2021-07-01T15:53:21.383Z"
   },
   {
    "duration": 5,
    "start_time": "2021-07-01T15:53:21.399Z"
   },
   {
    "duration": 12,
    "start_time": "2021-07-01T15:53:21.407Z"
   },
   {
    "duration": 41,
    "start_time": "2021-07-01T15:53:21.421Z"
   },
   {
    "duration": 18,
    "start_time": "2021-07-01T15:53:21.466Z"
   },
   {
    "duration": 5,
    "start_time": "2021-07-01T15:53:21.486Z"
   },
   {
    "duration": 67,
    "start_time": "2021-07-01T15:53:21.494Z"
   },
   {
    "duration": 12,
    "start_time": "2021-07-01T15:53:21.564Z"
   },
   {
    "duration": 11,
    "start_time": "2021-07-01T15:53:21.579Z"
   },
   {
    "duration": 515,
    "start_time": "2021-07-01T15:53:21.592Z"
   },
   {
    "duration": 4,
    "start_time": "2021-07-01T15:53:22.110Z"
   },
   {
    "duration": 1564,
    "start_time": "2021-07-01T15:53:22.117Z"
   },
   {
    "duration": 6,
    "start_time": "2021-07-01T15:53:23.683Z"
   },
   {
    "duration": 14,
    "start_time": "2021-07-01T15:53:23.691Z"
   },
   {
    "duration": 47,
    "start_time": "2021-07-01T15:53:23.710Z"
   },
   {
    "duration": 728,
    "start_time": "2021-07-01T15:53:23.760Z"
   },
   {
    "duration": 374,
    "start_time": "2021-07-01T15:53:24.491Z"
   },
   {
    "duration": 535,
    "start_time": "2021-07-01T15:53:24.868Z"
   },
   {
    "duration": 2586,
    "start_time": "2021-07-01T15:53:25.406Z"
   },
   {
    "duration": 526,
    "start_time": "2021-07-01T15:53:27.994Z"
   },
   {
    "duration": 467,
    "start_time": "2021-07-01T15:53:28.523Z"
   },
   {
    "duration": -913,
    "start_time": "2021-07-01T15:53:29.906Z"
   },
   {
    "duration": 360,
    "start_time": "2021-07-01T15:54:32.740Z"
   },
   {
    "duration": 268,
    "start_time": "2021-07-01T15:55:46.510Z"
   },
   {
    "duration": 309,
    "start_time": "2021-07-01T15:56:32.035Z"
   },
   {
    "duration": 271,
    "start_time": "2021-07-01T15:56:48.944Z"
   },
   {
    "duration": 172,
    "start_time": "2021-07-01T16:00:55.393Z"
   },
   {
    "duration": 81,
    "start_time": "2021-07-01T16:06:46.384Z"
   },
   {
    "duration": 4,
    "start_time": "2021-07-01T16:07:04.260Z"
   },
   {
    "duration": 6544,
    "start_time": "2021-07-01T16:07:06.587Z"
   },
   {
    "duration": 4,
    "start_time": "2021-07-01T16:07:36.694Z"
   },
   {
    "duration": 1228,
    "start_time": "2021-07-01T16:07:39.062Z"
   },
   {
    "duration": 940,
    "start_time": "2021-07-01T16:08:26.388Z"
   },
   {
    "duration": 1466,
    "start_time": "2021-07-01T16:09:40.272Z"
   },
   {
    "duration": 905,
    "start_time": "2021-07-01T16:09:41.741Z"
   },
   {
    "duration": 28,
    "start_time": "2021-07-01T16:09:42.650Z"
   },
   {
    "duration": 37,
    "start_time": "2021-07-01T16:09:42.681Z"
   },
   {
    "duration": 48,
    "start_time": "2021-07-01T16:09:42.721Z"
   },
   {
    "duration": 187,
    "start_time": "2021-07-01T16:09:42.772Z"
   },
   {
    "duration": 14,
    "start_time": "2021-07-01T16:09:42.962Z"
   },
   {
    "duration": 20,
    "start_time": "2021-07-01T16:09:42.979Z"
   },
   {
    "duration": 20,
    "start_time": "2021-07-01T16:09:43.003Z"
   },
   {
    "duration": 31,
    "start_time": "2021-07-01T16:09:43.026Z"
   },
   {
    "duration": 23,
    "start_time": "2021-07-01T16:09:43.059Z"
   },
   {
    "duration": 15,
    "start_time": "2021-07-01T16:09:43.085Z"
   },
   {
    "duration": 18,
    "start_time": "2021-07-01T16:09:43.102Z"
   },
   {
    "duration": 6,
    "start_time": "2021-07-01T16:09:43.122Z"
   },
   {
    "duration": 43,
    "start_time": "2021-07-01T16:09:43.130Z"
   },
   {
    "duration": 7,
    "start_time": "2021-07-01T16:09:43.175Z"
   },
   {
    "duration": 10,
    "start_time": "2021-07-01T16:09:43.184Z"
   },
   {
    "duration": 494,
    "start_time": "2021-07-01T16:09:43.196Z"
   },
   {
    "duration": 5,
    "start_time": "2021-07-01T16:09:43.692Z"
   },
   {
    "duration": 1574,
    "start_time": "2021-07-01T16:09:43.700Z"
   },
   {
    "duration": 3,
    "start_time": "2021-07-01T16:09:45.277Z"
   },
   {
    "duration": 15,
    "start_time": "2021-07-01T16:09:45.283Z"
   },
   {
    "duration": 11,
    "start_time": "2021-07-01T16:09:45.300Z"
   },
   {
    "duration": 715,
    "start_time": "2021-07-01T16:09:45.313Z"
   },
   {
    "duration": 377,
    "start_time": "2021-07-01T16:09:46.030Z"
   },
   {
    "duration": 449,
    "start_time": "2021-07-01T16:09:46.409Z"
   },
   {
    "duration": 2460,
    "start_time": "2021-07-01T16:09:46.862Z"
   },
   {
    "duration": 492,
    "start_time": "2021-07-01T16:09:49.325Z"
   },
   {
    "duration": 752,
    "start_time": "2021-07-01T16:09:49.819Z"
   },
   {
    "duration": 439,
    "start_time": "2021-07-01T16:09:50.573Z"
   },
   {
    "duration": 311,
    "start_time": "2021-07-01T16:10:21.113Z"
   },
   {
    "duration": 6,
    "start_time": "2021-07-01T16:10:28.456Z"
   },
   {
    "duration": 1434,
    "start_time": "2021-07-01T16:10:47.877Z"
   },
   {
    "duration": 857,
    "start_time": "2021-07-01T16:10:49.314Z"
   },
   {
    "duration": 25,
    "start_time": "2021-07-01T16:10:50.174Z"
   },
   {
    "duration": 55,
    "start_time": "2021-07-01T16:10:50.202Z"
   },
   {
    "duration": 15,
    "start_time": "2021-07-01T16:10:50.259Z"
   },
   {
    "duration": 172,
    "start_time": "2021-07-01T16:10:50.276Z"
   },
   {
    "duration": 19,
    "start_time": "2021-07-01T16:10:50.450Z"
   },
   {
    "duration": 20,
    "start_time": "2021-07-01T16:10:50.472Z"
   },
   {
    "duration": 17,
    "start_time": "2021-07-01T16:10:50.495Z"
   },
   {
    "duration": 6,
    "start_time": "2021-07-01T16:10:50.515Z"
   },
   {
    "duration": 37,
    "start_time": "2021-07-01T16:10:50.523Z"
   },
   {
    "duration": 18,
    "start_time": "2021-07-01T16:10:50.562Z"
   },
   {
    "duration": 24,
    "start_time": "2021-07-01T16:10:50.582Z"
   },
   {
    "duration": 10,
    "start_time": "2021-07-01T16:10:50.608Z"
   },
   {
    "duration": 37,
    "start_time": "2021-07-01T16:10:50.620Z"
   },
   {
    "duration": 6,
    "start_time": "2021-07-01T16:10:50.659Z"
   },
   {
    "duration": 13,
    "start_time": "2021-07-01T16:10:50.667Z"
   },
   {
    "duration": 472,
    "start_time": "2021-07-01T16:10:50.683Z"
   },
   {
    "duration": 4,
    "start_time": "2021-07-01T16:10:51.158Z"
   },
   {
    "duration": 1469,
    "start_time": "2021-07-01T16:10:51.165Z"
   },
   {
    "duration": 4,
    "start_time": "2021-07-01T16:10:52.636Z"
   },
   {
    "duration": 21,
    "start_time": "2021-07-01T16:10:52.642Z"
   },
   {
    "duration": 9,
    "start_time": "2021-07-01T16:10:52.665Z"
   },
   {
    "duration": 691,
    "start_time": "2021-07-01T16:10:52.676Z"
   },
   {
    "duration": 352,
    "start_time": "2021-07-01T16:10:53.369Z"
   },
   {
    "duration": 418,
    "start_time": "2021-07-01T16:10:53.723Z"
   },
   {
    "duration": 2332,
    "start_time": "2021-07-01T16:10:54.145Z"
   },
   {
    "duration": 500,
    "start_time": "2021-07-01T16:10:56.480Z"
   },
   {
    "duration": 6,
    "start_time": "2021-07-01T16:10:56.984Z"
   },
   {
    "duration": 756,
    "start_time": "2021-07-01T16:10:56.993Z"
   },
   {
    "duration": 7,
    "start_time": "2021-07-01T16:10:57.752Z"
   },
   {
    "duration": 395,
    "start_time": "2021-07-01T16:10:57.762Z"
   },
   {
    "duration": 1412,
    "start_time": "2021-07-01T16:12:58.189Z"
   },
   {
    "duration": 866,
    "start_time": "2021-07-01T16:12:59.603Z"
   },
   {
    "duration": 26,
    "start_time": "2021-07-01T16:13:00.472Z"
   },
   {
    "duration": 42,
    "start_time": "2021-07-01T16:13:00.500Z"
   },
   {
    "duration": 14,
    "start_time": "2021-07-01T16:13:00.555Z"
   },
   {
    "duration": 178,
    "start_time": "2021-07-01T16:13:00.572Z"
   },
   {
    "duration": 16,
    "start_time": "2021-07-01T16:13:00.756Z"
   },
   {
    "duration": 35,
    "start_time": "2021-07-01T16:13:00.775Z"
   },
   {
    "duration": 26,
    "start_time": "2021-07-01T16:13:00.813Z"
   },
   {
    "duration": 4,
    "start_time": "2021-07-01T16:13:00.841Z"
   },
   {
    "duration": 15,
    "start_time": "2021-07-01T16:13:00.855Z"
   },
   {
    "duration": 19,
    "start_time": "2021-07-01T16:13:00.872Z"
   },
   {
    "duration": 22,
    "start_time": "2021-07-01T16:13:00.893Z"
   },
   {
    "duration": 5,
    "start_time": "2021-07-01T16:13:00.918Z"
   },
   {
    "duration": 35,
    "start_time": "2021-07-01T16:13:00.926Z"
   },
   {
    "duration": 7,
    "start_time": "2021-07-01T16:13:00.963Z"
   },
   {
    "duration": 15,
    "start_time": "2021-07-01T16:13:00.972Z"
   },
   {
    "duration": 500,
    "start_time": "2021-07-01T16:13:00.989Z"
   },
   {
    "duration": 5,
    "start_time": "2021-07-01T16:13:01.492Z"
   },
   {
    "duration": 1498,
    "start_time": "2021-07-01T16:13:01.499Z"
   },
   {
    "duration": 4,
    "start_time": "2021-07-01T16:13:02.999Z"
   },
   {
    "duration": 15,
    "start_time": "2021-07-01T16:13:03.005Z"
   },
   {
    "duration": 34,
    "start_time": "2021-07-01T16:13:03.024Z"
   },
   {
    "duration": 710,
    "start_time": "2021-07-01T16:13:03.061Z"
   },
   {
    "duration": 364,
    "start_time": "2021-07-01T16:13:03.774Z"
   },
   {
    "duration": 443,
    "start_time": "2021-07-01T16:13:04.141Z"
   },
   {
    "duration": 2454,
    "start_time": "2021-07-01T16:13:04.587Z"
   },
   {
    "duration": 514,
    "start_time": "2021-07-01T16:13:07.044Z"
   },
   {
    "duration": 5,
    "start_time": "2021-07-01T16:13:07.561Z"
   },
   {
    "duration": 3090,
    "start_time": "2021-07-01T16:13:07.569Z"
   },
   {
    "duration": 5,
    "start_time": "2021-07-01T16:13:10.662Z"
   },
   {
    "duration": 412,
    "start_time": "2021-07-01T16:13:10.670Z"
   },
   {
    "duration": 2389,
    "start_time": "2021-07-01T16:13:51.420Z"
   },
   {
    "duration": 2459,
    "start_time": "2021-07-01T16:14:10.381Z"
   },
   {
    "duration": 1419,
    "start_time": "2021-07-01T16:15:55.187Z"
   },
   {
    "duration": 861,
    "start_time": "2021-07-01T16:15:56.608Z"
   },
   {
    "duration": 24,
    "start_time": "2021-07-01T16:15:57.472Z"
   },
   {
    "duration": 33,
    "start_time": "2021-07-01T16:15:57.498Z"
   },
   {
    "duration": 35,
    "start_time": "2021-07-01T16:15:57.533Z"
   },
   {
    "duration": 171,
    "start_time": "2021-07-01T16:15:57.570Z"
   },
   {
    "duration": 23,
    "start_time": "2021-07-01T16:15:57.743Z"
   },
   {
    "duration": 21,
    "start_time": "2021-07-01T16:15:57.770Z"
   },
   {
    "duration": 14,
    "start_time": "2021-07-01T16:15:57.794Z"
   },
   {
    "duration": 4,
    "start_time": "2021-07-01T16:15:57.810Z"
   },
   {
    "duration": 43,
    "start_time": "2021-07-01T16:15:57.816Z"
   },
   {
    "duration": 6,
    "start_time": "2021-07-01T16:15:57.861Z"
   },
   {
    "duration": 18,
    "start_time": "2021-07-01T16:15:57.870Z"
   },
   {
    "duration": 4,
    "start_time": "2021-07-01T16:15:57.891Z"
   },
   {
    "duration": 27,
    "start_time": "2021-07-01T16:15:57.897Z"
   },
   {
    "duration": 6,
    "start_time": "2021-07-01T16:15:57.956Z"
   },
   {
    "duration": 11,
    "start_time": "2021-07-01T16:15:57.964Z"
   },
   {
    "duration": 571,
    "start_time": "2021-07-01T16:15:57.977Z"
   },
   {
    "duration": 9,
    "start_time": "2021-07-01T16:15:58.551Z"
   },
   {
    "duration": 1498,
    "start_time": "2021-07-01T16:15:58.562Z"
   },
   {
    "duration": 4,
    "start_time": "2021-07-01T16:16:00.063Z"
   },
   {
    "duration": 28,
    "start_time": "2021-07-01T16:16:00.069Z"
   },
   {
    "duration": 14,
    "start_time": "2021-07-01T16:16:00.104Z"
   },
   {
    "duration": 766,
    "start_time": "2021-07-01T16:16:00.121Z"
   },
   {
    "duration": 366,
    "start_time": "2021-07-01T16:16:00.889Z"
   },
   {
    "duration": 524,
    "start_time": "2021-07-01T16:16:01.258Z"
   },
   {
    "duration": 2504,
    "start_time": "2021-07-01T16:16:01.785Z"
   },
   {
    "duration": 516,
    "start_time": "2021-07-01T16:16:04.292Z"
   },
   {
    "duration": 7,
    "start_time": "2021-07-01T16:16:04.811Z"
   },
   {
    "duration": 2976,
    "start_time": "2021-07-01T16:16:04.821Z"
   },
   {
    "duration": 2320,
    "start_time": "2021-07-01T16:16:07.800Z"
   },
   {
    "duration": 429,
    "start_time": "2021-07-01T16:16:10.122Z"
   },
   {
    "duration": 2761,
    "start_time": "2021-07-01T16:16:54.247Z"
   },
   {
    "duration": 1447,
    "start_time": "2021-07-01T16:17:11.157Z"
   },
   {
    "duration": 891,
    "start_time": "2021-07-01T16:17:12.607Z"
   },
   {
    "duration": 53,
    "start_time": "2021-07-01T16:17:13.506Z"
   },
   {
    "duration": 41,
    "start_time": "2021-07-01T16:17:13.562Z"
   },
   {
    "duration": 14,
    "start_time": "2021-07-01T16:17:13.607Z"
   },
   {
    "duration": 245,
    "start_time": "2021-07-01T16:17:13.624Z"
   },
   {
    "duration": 16,
    "start_time": "2021-07-01T16:17:13.873Z"
   },
   {
    "duration": 22,
    "start_time": "2021-07-01T16:17:13.893Z"
   },
   {
    "duration": 42,
    "start_time": "2021-07-01T16:17:13.917Z"
   },
   {
    "duration": 4,
    "start_time": "2021-07-01T16:17:13.961Z"
   },
   {
    "duration": 12,
    "start_time": "2021-07-01T16:17:13.968Z"
   },
   {
    "duration": 8,
    "start_time": "2021-07-01T16:17:13.983Z"
   },
   {
    "duration": 17,
    "start_time": "2021-07-01T16:17:13.994Z"
   },
   {
    "duration": 6,
    "start_time": "2021-07-01T16:17:14.058Z"
   },
   {
    "duration": 34,
    "start_time": "2021-07-01T16:17:14.067Z"
   },
   {
    "duration": 8,
    "start_time": "2021-07-01T16:17:14.103Z"
   },
   {
    "duration": 10,
    "start_time": "2021-07-01T16:17:14.114Z"
   },
   {
    "duration": 482,
    "start_time": "2021-07-01T16:17:14.155Z"
   },
   {
    "duration": 5,
    "start_time": "2021-07-01T16:17:14.639Z"
   },
   {
    "duration": 1713,
    "start_time": "2021-07-01T16:17:14.657Z"
   },
   {
    "duration": 4,
    "start_time": "2021-07-01T16:17:16.372Z"
   },
   {
    "duration": 12,
    "start_time": "2021-07-01T16:17:16.382Z"
   },
   {
    "duration": 13,
    "start_time": "2021-07-01T16:17:16.398Z"
   },
   {
    "duration": 775,
    "start_time": "2021-07-01T16:17:16.414Z"
   },
   {
    "duration": 429,
    "start_time": "2021-07-01T16:17:17.193Z"
   },
   {
    "duration": 472,
    "start_time": "2021-07-01T16:17:17.625Z"
   },
   {
    "duration": 2330,
    "start_time": "2021-07-01T16:17:18.099Z"
   },
   {
    "duration": 485,
    "start_time": "2021-07-01T16:17:20.432Z"
   },
   {
    "duration": 7,
    "start_time": "2021-07-01T16:17:20.920Z"
   },
   {
    "duration": 3117,
    "start_time": "2021-07-01T16:17:20.929Z"
   },
   {
    "duration": 2639,
    "start_time": "2021-07-01T16:17:24.049Z"
   },
   {
    "duration": 373,
    "start_time": "2021-07-01T16:17:26.691Z"
   },
   {
    "duration": 8,
    "start_time": "2021-07-01T16:18:02.004Z"
   },
   {
    "duration": 1122,
    "start_time": "2021-07-02T13:28:57.085Z"
   },
   {
    "duration": 741,
    "start_time": "2021-07-02T13:28:58.209Z"
   },
   {
    "duration": 31,
    "start_time": "2021-07-02T13:28:58.954Z"
   },
   {
    "duration": 23,
    "start_time": "2021-07-02T13:28:58.986Z"
   },
   {
    "duration": 9,
    "start_time": "2021-07-02T13:28:59.011Z"
   },
   {
    "duration": 105,
    "start_time": "2021-07-02T13:28:59.021Z"
   },
   {
    "duration": 10,
    "start_time": "2021-07-02T13:28:59.129Z"
   },
   {
    "duration": 15,
    "start_time": "2021-07-02T13:28:59.142Z"
   },
   {
    "duration": 28,
    "start_time": "2021-07-02T13:28:59.158Z"
   },
   {
    "duration": 3,
    "start_time": "2021-07-02T13:28:59.187Z"
   },
   {
    "duration": 7,
    "start_time": "2021-07-02T13:28:59.192Z"
   },
   {
    "duration": 7,
    "start_time": "2021-07-02T13:28:59.200Z"
   },
   {
    "duration": 10,
    "start_time": "2021-07-02T13:28:59.208Z"
   },
   {
    "duration": 4,
    "start_time": "2021-07-02T13:28:59.220Z"
   },
   {
    "duration": 15,
    "start_time": "2021-07-02T13:28:59.226Z"
   },
   {
    "duration": 5,
    "start_time": "2021-07-02T13:28:59.242Z"
   },
   {
    "duration": 42,
    "start_time": "2021-07-02T13:28:59.248Z"
   },
   {
    "duration": 317,
    "start_time": "2021-07-02T13:28:59.291Z"
   },
   {
    "duration": 4,
    "start_time": "2021-07-02T13:28:59.609Z"
   },
   {
    "duration": 973,
    "start_time": "2021-07-02T13:28:59.614Z"
   },
   {
    "duration": 2,
    "start_time": "2021-07-02T13:29:00.589Z"
   },
   {
    "duration": 16,
    "start_time": "2021-07-02T13:29:00.594Z"
   },
   {
    "duration": 11,
    "start_time": "2021-07-02T13:29:00.611Z"
   },
   {
    "duration": 441,
    "start_time": "2021-07-02T13:29:00.624Z"
   },
   {
    "duration": 232,
    "start_time": "2021-07-02T13:29:01.067Z"
   },
   {
    "duration": 299,
    "start_time": "2021-07-02T13:29:01.301Z"
   },
   {
    "duration": 1513,
    "start_time": "2021-07-02T13:29:01.602Z"
   },
   {
    "duration": 324,
    "start_time": "2021-07-02T13:29:03.117Z"
   },
   {
    "duration": 4,
    "start_time": "2021-07-02T13:29:03.443Z"
   },
   {
    "duration": 91,
    "start_time": "2021-07-02T13:29:03.448Z"
   },
   {
    "duration": 4,
    "start_time": "2021-07-02T13:29:03.540Z"
   },
   {
    "duration": 1623,
    "start_time": "2021-07-02T13:29:03.546Z"
   },
   {
    "duration": 284,
    "start_time": "2021-07-02T13:29:05.171Z"
   },
   {
    "duration": 177,
    "start_time": "2021-07-02T14:05:38.380Z"
   },
   {
    "duration": 196,
    "start_time": "2021-07-02T14:06:04.664Z"
   },
   {
    "duration": 418,
    "start_time": "2021-07-02T14:06:09.955Z"
   },
   {
    "duration": 192,
    "start_time": "2021-07-02T14:06:23.060Z"
   },
   {
    "duration": 1291,
    "start_time": "2021-07-02T14:06:59.855Z"
   },
   {
    "duration": 1452,
    "start_time": "2021-07-02T14:07:11.750Z"
   },
   {
    "duration": 193,
    "start_time": "2021-07-02T15:16:03.144Z"
   },
   {
    "duration": 36,
    "start_time": "2021-07-02T15:17:35.623Z"
   },
   {
    "duration": 3,
    "start_time": "2021-07-02T15:30:05.085Z"
   },
   {
    "duration": 4,
    "start_time": "2021-07-02T15:30:20.237Z"
   },
   {
    "duration": 6,
    "start_time": "2021-07-02T15:34:06.771Z"
   },
   {
    "duration": 13,
    "start_time": "2021-07-02T16:01:16.380Z"
   },
   {
    "duration": 12,
    "start_time": "2021-07-02T16:02:25.911Z"
   },
   {
    "duration": 196,
    "start_time": "2021-07-02T16:12:54.484Z"
   },
   {
    "duration": 4,
    "start_time": "2021-07-02T16:13:58.530Z"
   },
   {
    "duration": 214,
    "start_time": "2021-07-02T16:14:15.578Z"
   },
   {
    "duration": 197,
    "start_time": "2021-07-02T16:14:22.107Z"
   },
   {
    "duration": 3,
    "start_time": "2021-07-02T16:14:28.700Z"
   },
   {
    "duration": 3,
    "start_time": "2021-07-02T16:14:30.289Z"
   },
   {
    "duration": 2,
    "start_time": "2021-07-02T16:14:33.482Z"
   },
   {
    "duration": 192,
    "start_time": "2021-07-02T16:23:59.633Z"
   },
   {
    "duration": 27,
    "start_time": "2021-07-02T16:24:07.905Z"
   },
   {
    "duration": 2,
    "start_time": "2021-07-02T16:37:28.534Z"
   },
   {
    "duration": 24,
    "start_time": "2021-07-02T16:39:34.835Z"
   },
   {
    "duration": 24,
    "start_time": "2021-07-02T16:39:48.861Z"
   },
   {
    "duration": 1098,
    "start_time": "2021-07-02T16:39:53.535Z"
   },
   {
    "duration": 738,
    "start_time": "2021-07-02T16:39:54.635Z"
   },
   {
    "duration": 17,
    "start_time": "2021-07-02T16:39:55.375Z"
   },
   {
    "duration": 28,
    "start_time": "2021-07-02T16:39:55.394Z"
   },
   {
    "duration": 9,
    "start_time": "2021-07-02T16:39:55.423Z"
   },
   {
    "duration": 113,
    "start_time": "2021-07-02T16:39:55.434Z"
   },
   {
    "duration": 11,
    "start_time": "2021-07-02T16:39:55.548Z"
   },
   {
    "duration": 25,
    "start_time": "2021-07-02T16:39:55.561Z"
   },
   {
    "duration": 9,
    "start_time": "2021-07-02T16:39:55.589Z"
   },
   {
    "duration": 2,
    "start_time": "2021-07-02T16:39:55.600Z"
   },
   {
    "duration": 26,
    "start_time": "2021-07-02T16:39:55.604Z"
   },
   {
    "duration": 3,
    "start_time": "2021-07-02T16:39:55.632Z"
   },
   {
    "duration": 6,
    "start_time": "2021-07-02T16:39:55.636Z"
   },
   {
    "duration": 5,
    "start_time": "2021-07-02T16:39:55.643Z"
   },
   {
    "duration": 38,
    "start_time": "2021-07-02T16:39:55.649Z"
   },
   {
    "duration": 3,
    "start_time": "2021-07-02T16:39:55.689Z"
   },
   {
    "duration": 15,
    "start_time": "2021-07-02T16:39:55.694Z"
   },
   {
    "duration": 4,
    "start_time": "2021-07-02T16:39:55.711Z"
   },
   {
    "duration": 7,
    "start_time": "2021-07-02T16:39:55.717Z"
   },
   {
    "duration": 336,
    "start_time": "2021-07-02T16:39:55.725Z"
   },
   {
    "duration": 3,
    "start_time": "2021-07-02T16:39:56.063Z"
   },
   {
    "duration": 937,
    "start_time": "2021-07-02T16:39:56.067Z"
   },
   {
    "duration": 3,
    "start_time": "2021-07-02T16:39:57.005Z"
   },
   {
    "duration": 13,
    "start_time": "2021-07-02T16:39:57.009Z"
   },
   {
    "duration": 7,
    "start_time": "2021-07-02T16:39:57.023Z"
   },
   {
    "duration": 446,
    "start_time": "2021-07-02T16:39:57.032Z"
   },
   {
    "duration": 301,
    "start_time": "2021-07-02T16:39:57.485Z"
   },
   {
    "duration": 224,
    "start_time": "2021-07-02T16:39:57.788Z"
   },
   {
    "duration": 1483,
    "start_time": "2021-07-02T16:39:58.014Z"
   },
   {
    "duration": 336,
    "start_time": "2021-07-02T16:39:59.499Z"
   },
   {
    "duration": 4,
    "start_time": "2021-07-02T16:39:59.837Z"
   },
   {
    "duration": 91,
    "start_time": "2021-07-02T16:39:59.842Z"
   },
   {
    "duration": 4,
    "start_time": "2021-07-02T16:39:59.935Z"
   },
   {
    "duration": 1485,
    "start_time": "2021-07-02T16:39:59.940Z"
   },
   {
    "duration": 3,
    "start_time": "2021-07-02T16:40:01.427Z"
   },
   {
    "duration": 17,
    "start_time": "2021-07-02T16:40:01.431Z"
   },
   {
    "duration": 13,
    "start_time": "2021-07-02T16:40:01.450Z"
   },
   {
    "duration": 20,
    "start_time": "2021-07-02T16:40:01.464Z"
   },
   {
    "duration": 6,
    "start_time": "2021-07-02T16:40:01.486Z"
   },
   {
    "duration": 18,
    "start_time": "2021-07-02T16:40:01.494Z"
   },
   {
    "duration": 338,
    "start_time": "2021-07-02T16:40:01.513Z"
   },
   {
    "duration": -1264,
    "start_time": "2021-07-02T16:40:03.116Z"
   },
   {
    "duration": -1263,
    "start_time": "2021-07-02T16:40:03.117Z"
   },
   {
    "duration": 220,
    "start_time": "2021-07-02T16:44:39.359Z"
   },
   {
    "duration": 4,
    "start_time": "2021-07-02T16:44:54.851Z"
   },
   {
    "duration": 294,
    "start_time": "2021-07-02T16:45:01.149Z"
   },
   {
    "duration": 45,
    "start_time": "2021-07-02T16:46:33.351Z"
   },
   {
    "duration": 188,
    "start_time": "2021-07-02T16:53:56.670Z"
   },
   {
    "duration": 187,
    "start_time": "2021-07-02T16:54:16.758Z"
   },
   {
    "duration": 1398,
    "start_time": "2021-07-02T16:54:27.467Z"
   },
   {
    "duration": 765,
    "start_time": "2021-07-02T16:54:28.867Z"
   },
   {
    "duration": 18,
    "start_time": "2021-07-02T16:54:29.637Z"
   },
   {
    "duration": 48,
    "start_time": "2021-07-02T16:54:29.656Z"
   },
   {
    "duration": 10,
    "start_time": "2021-07-02T16:54:29.706Z"
   },
   {
    "duration": 104,
    "start_time": "2021-07-02T16:54:29.718Z"
   },
   {
    "duration": 13,
    "start_time": "2021-07-02T16:54:29.825Z"
   },
   {
    "duration": 15,
    "start_time": "2021-07-02T16:54:29.840Z"
   },
   {
    "duration": 32,
    "start_time": "2021-07-02T16:54:29.857Z"
   },
   {
    "duration": 3,
    "start_time": "2021-07-02T16:54:29.890Z"
   },
   {
    "duration": 29,
    "start_time": "2021-07-02T16:54:29.894Z"
   },
   {
    "duration": 3,
    "start_time": "2021-07-02T16:54:29.925Z"
   },
   {
    "duration": 7,
    "start_time": "2021-07-02T16:54:29.930Z"
   },
   {
    "duration": 5,
    "start_time": "2021-07-02T16:54:29.938Z"
   },
   {
    "duration": 41,
    "start_time": "2021-07-02T16:54:29.945Z"
   },
   {
    "duration": 4,
    "start_time": "2021-07-02T16:54:29.988Z"
   },
   {
    "duration": 17,
    "start_time": "2021-07-02T16:54:29.993Z"
   },
   {
    "duration": 6,
    "start_time": "2021-07-02T16:54:30.012Z"
   },
   {
    "duration": 10,
    "start_time": "2021-07-02T16:54:30.019Z"
   },
   {
    "duration": 342,
    "start_time": "2021-07-02T16:54:30.031Z"
   },
   {
    "duration": 10,
    "start_time": "2021-07-02T16:54:30.375Z"
   },
   {
    "duration": 965,
    "start_time": "2021-07-02T16:54:30.389Z"
   },
   {
    "duration": 2,
    "start_time": "2021-07-02T16:54:31.357Z"
   },
   {
    "duration": 15,
    "start_time": "2021-07-02T16:54:31.361Z"
   },
   {
    "duration": 14,
    "start_time": "2021-07-02T16:54:31.378Z"
   },
   {
    "duration": 435,
    "start_time": "2021-07-02T16:54:31.394Z"
   },
   {
    "duration": 303,
    "start_time": "2021-07-02T16:54:31.831Z"
   },
   {
    "duration": 224,
    "start_time": "2021-07-02T16:54:32.136Z"
   },
   {
    "duration": 1488,
    "start_time": "2021-07-02T16:54:32.362Z"
   },
   {
    "duration": 373,
    "start_time": "2021-07-02T16:54:33.852Z"
   },
   {
    "duration": 18,
    "start_time": "2021-07-02T16:54:34.227Z"
   },
   {
    "duration": 98,
    "start_time": "2021-07-02T16:54:34.247Z"
   },
   {
    "duration": 4,
    "start_time": "2021-07-02T16:54:34.346Z"
   },
   {
    "duration": 1479,
    "start_time": "2021-07-02T16:54:34.351Z"
   },
   {
    "duration": 3,
    "start_time": "2021-07-02T16:54:35.831Z"
   },
   {
    "duration": 7,
    "start_time": "2021-07-02T16:54:35.836Z"
   },
   {
    "duration": 7,
    "start_time": "2021-07-02T16:54:35.845Z"
   },
   {
    "duration": 64,
    "start_time": "2021-07-02T16:54:35.854Z"
   },
   {
    "duration": 293,
    "start_time": "2021-07-02T16:54:35.919Z"
   },
   {
    "duration": -1308,
    "start_time": "2021-07-02T16:54:37.522Z"
   },
   {
    "duration": -1310,
    "start_time": "2021-07-02T16:54:37.525Z"
   },
   {
    "duration": -1316,
    "start_time": "2021-07-02T16:54:37.533Z"
   },
   {
    "duration": -1318,
    "start_time": "2021-07-02T16:54:37.536Z"
   },
   {
    "duration": 6,
    "start_time": "2021-07-02T16:56:04.623Z"
   },
   {
    "duration": 11,
    "start_time": "2021-07-02T16:56:28.146Z"
   },
   {
    "duration": 15,
    "start_time": "2021-07-02T16:57:24.070Z"
   },
   {
    "duration": 6,
    "start_time": "2021-07-02T17:02:55.203Z"
   },
   {
    "duration": 3,
    "start_time": "2021-07-02T17:03:02.506Z"
   },
   {
    "duration": 2,
    "start_time": "2021-07-02T17:03:09.545Z"
   },
   {
    "duration": 415,
    "start_time": "2021-07-02T19:50:53.560Z"
   },
   {
    "duration": 2055,
    "start_time": "2021-07-02T19:50:58.982Z"
   },
   {
    "duration": 1230,
    "start_time": "2021-07-02T19:51:01.040Z"
   },
   {
    "duration": 38,
    "start_time": "2021-07-02T19:51:02.274Z"
   },
   {
    "duration": 85,
    "start_time": "2021-07-02T19:51:02.315Z"
   },
   {
    "duration": 18,
    "start_time": "2021-07-02T19:51:02.403Z"
   },
   {
    "duration": 226,
    "start_time": "2021-07-02T19:51:02.424Z"
   },
   {
    "duration": 23,
    "start_time": "2021-07-02T19:51:02.653Z"
   },
   {
    "duration": 34,
    "start_time": "2021-07-02T19:51:02.681Z"
   },
   {
    "duration": 45,
    "start_time": "2021-07-02T19:51:02.719Z"
   },
   {
    "duration": 4,
    "start_time": "2021-07-02T19:51:02.767Z"
   },
   {
    "duration": 39,
    "start_time": "2021-07-02T19:51:02.774Z"
   },
   {
    "duration": 5,
    "start_time": "2021-07-02T19:51:02.816Z"
   },
   {
    "duration": 19,
    "start_time": "2021-07-02T19:51:02.823Z"
   },
   {
    "duration": 8,
    "start_time": "2021-07-02T19:51:02.863Z"
   },
   {
    "duration": 29,
    "start_time": "2021-07-02T19:51:02.873Z"
   },
   {
    "duration": 7,
    "start_time": "2021-07-02T19:51:02.905Z"
   },
   {
    "duration": 57,
    "start_time": "2021-07-02T19:51:02.915Z"
   },
   {
    "duration": 8,
    "start_time": "2021-07-02T19:51:02.976Z"
   },
   {
    "duration": 13,
    "start_time": "2021-07-02T19:51:02.987Z"
   },
   {
    "duration": 719,
    "start_time": "2021-07-02T19:51:03.003Z"
   },
   {
    "duration": 6,
    "start_time": "2021-07-02T19:51:03.725Z"
   },
   {
    "duration": 2189,
    "start_time": "2021-07-02T19:51:03.734Z"
   },
   {
    "duration": 5,
    "start_time": "2021-07-02T19:51:05.931Z"
   },
   {
    "duration": 31,
    "start_time": "2021-07-02T19:51:05.939Z"
   },
   {
    "duration": 11,
    "start_time": "2021-07-02T19:51:05.972Z"
   },
   {
    "duration": 756,
    "start_time": "2021-07-02T19:51:05.985Z"
   },
   {
    "duration": 450,
    "start_time": "2021-07-02T19:51:06.744Z"
   },
   {
    "duration": 376,
    "start_time": "2021-07-02T19:51:07.196Z"
   },
   {
    "duration": 2496,
    "start_time": "2021-07-02T19:51:07.575Z"
   },
   {
    "duration": 532,
    "start_time": "2021-07-02T19:51:10.074Z"
   },
   {
    "duration": 5,
    "start_time": "2021-07-02T19:51:10.609Z"
   },
   {
    "duration": 137,
    "start_time": "2021-07-02T19:51:10.617Z"
   },
   {
    "duration": 8,
    "start_time": "2021-07-02T19:51:10.756Z"
   },
   {
    "duration": 2461,
    "start_time": "2021-07-02T19:51:10.766Z"
   },
   {
    "duration": 4,
    "start_time": "2021-07-02T19:51:13.230Z"
   },
   {
    "duration": 5,
    "start_time": "2021-07-02T19:51:13.237Z"
   },
   {
    "duration": 4,
    "start_time": "2021-07-02T19:51:13.261Z"
   },
   {
    "duration": 94,
    "start_time": "2021-07-02T19:51:13.268Z"
   },
   {
    "duration": 8,
    "start_time": "2021-07-02T19:51:13.365Z"
   },
   {
    "duration": 6,
    "start_time": "2021-07-02T19:51:13.376Z"
   },
   {
    "duration": 3,
    "start_time": "2021-07-02T19:51:13.385Z"
   },
   {
    "duration": 678,
    "start_time": "2021-07-02T19:51:13.391Z"
   },
   {
    "duration": -888,
    "start_time": "2021-07-02T19:51:14.959Z"
   },
   {
    "duration": -888,
    "start_time": "2021-07-02T19:51:14.960Z"
   },
   {
    "duration": 4,
    "start_time": "2021-07-02T19:53:06.195Z"
   },
   {
    "duration": 825,
    "start_time": "2021-07-02T19:56:39.875Z"
   },
   {
    "duration": 4,
    "start_time": "2021-07-02T19:57:38.061Z"
   },
   {
    "duration": 935,
    "start_time": "2021-07-02T19:57:50.957Z"
   },
   {
    "duration": 2073,
    "start_time": "2021-07-02T19:59:42.563Z"
   },
   {
    "duration": 1238,
    "start_time": "2021-07-02T19:59:44.639Z"
   },
   {
    "duration": 38,
    "start_time": "2021-07-02T19:59:45.882Z"
   },
   {
    "duration": 87,
    "start_time": "2021-07-02T19:59:45.923Z"
   },
   {
    "duration": 17,
    "start_time": "2021-07-02T19:59:46.013Z"
   },
   {
    "duration": 187,
    "start_time": "2021-07-02T19:59:46.033Z"
   },
   {
    "duration": 15,
    "start_time": "2021-07-02T19:59:46.222Z"
   },
   {
    "duration": 37,
    "start_time": "2021-07-02T19:59:46.239Z"
   },
   {
    "duration": 16,
    "start_time": "2021-07-02T19:59:46.280Z"
   },
   {
    "duration": 3,
    "start_time": "2021-07-02T19:59:46.299Z"
   },
   {
    "duration": 37,
    "start_time": "2021-07-02T19:59:46.304Z"
   },
   {
    "duration": 4,
    "start_time": "2021-07-02T19:59:46.361Z"
   },
   {
    "duration": 9,
    "start_time": "2021-07-02T19:59:46.367Z"
   },
   {
    "duration": 12,
    "start_time": "2021-07-02T19:59:46.378Z"
   },
   {
    "duration": 26,
    "start_time": "2021-07-02T19:59:46.392Z"
   },
   {
    "duration": 5,
    "start_time": "2021-07-02T19:59:46.420Z"
   },
   {
    "duration": 57,
    "start_time": "2021-07-02T19:59:46.428Z"
   },
   {
    "duration": 6,
    "start_time": "2021-07-02T19:59:46.488Z"
   },
   {
    "duration": 11,
    "start_time": "2021-07-02T19:59:46.497Z"
   },
   {
    "duration": 497,
    "start_time": "2021-07-02T19:59:46.511Z"
   },
   {
    "duration": 5,
    "start_time": "2021-07-02T19:59:47.011Z"
   },
   {
    "duration": 1577,
    "start_time": "2021-07-02T19:59:47.018Z"
   },
   {
    "duration": 5,
    "start_time": "2021-07-02T19:59:48.597Z"
   },
   {
    "duration": 13,
    "start_time": "2021-07-02T19:59:48.604Z"
   },
   {
    "duration": 10,
    "start_time": "2021-07-02T19:59:48.620Z"
   },
   {
    "duration": 731,
    "start_time": "2021-07-02T19:59:48.663Z"
   },
   {
    "duration": 472,
    "start_time": "2021-07-02T19:59:49.399Z"
   },
   {
    "duration": 383,
    "start_time": "2021-07-02T19:59:49.874Z"
   },
   {
    "duration": 2480,
    "start_time": "2021-07-02T19:59:50.261Z"
   },
   {
    "duration": 522,
    "start_time": "2021-07-02T19:59:52.743Z"
   },
   {
    "duration": 6,
    "start_time": "2021-07-02T19:59:53.267Z"
   },
   {
    "duration": 144,
    "start_time": "2021-07-02T19:59:53.275Z"
   },
   {
    "duration": 5,
    "start_time": "2021-07-02T19:59:53.421Z"
   },
   {
    "duration": 2340,
    "start_time": "2021-07-02T19:59:53.429Z"
   },
   {
    "duration": 4,
    "start_time": "2021-07-02T19:59:55.771Z"
   },
   {
    "duration": 10,
    "start_time": "2021-07-02T19:59:55.777Z"
   },
   {
    "duration": 6,
    "start_time": "2021-07-02T19:59:55.790Z"
   },
   {
    "duration": 98,
    "start_time": "2021-07-02T19:59:55.798Z"
   },
   {
    "duration": 7,
    "start_time": "2021-07-02T19:59:55.899Z"
   },
   {
    "duration": 10,
    "start_time": "2021-07-02T19:59:55.908Z"
   },
   {
    "duration": 43069,
    "start_time": "2021-07-02T19:59:55.921Z"
   },
   {
    "duration": 525,
    "start_time": "2021-07-02T20:00:38.993Z"
   },
   {
    "duration": -906,
    "start_time": "2021-07-02T20:00:40.426Z"
   },
   {
    "duration": -911,
    "start_time": "2021-07-02T20:00:40.433Z"
   },
   {
    "duration": 4918,
    "start_time": "2021-07-02T20:09:32.383Z"
   },
   {
    "duration": 48402,
    "start_time": "2021-07-02T20:09:46.178Z"
   },
   {
    "duration": 4,
    "start_time": "2021-07-02T20:11:19.868Z"
   },
   {
    "duration": 1115171,
    "start_time": "2021-07-02T20:13:56.565Z"
   },
   {
    "duration": 1292239,
    "start_time": "2021-07-02T20:35:02.202Z"
   },
   {
    "duration": 369,
    "start_time": "2021-07-02T21:09:47.568Z"
   },
   {
    "duration": 344,
    "start_time": "2021-07-02T21:10:12.672Z"
   },
   {
    "duration": 332,
    "start_time": "2021-07-02T21:11:05.612Z"
   },
   {
    "duration": 349,
    "start_time": "2021-07-02T21:11:17.048Z"
   },
   {
    "duration": 377,
    "start_time": "2021-07-02T21:24:25.874Z"
   },
   {
    "duration": 424,
    "start_time": "2021-07-02T21:25:01.634Z"
   },
   {
    "duration": 362,
    "start_time": "2021-07-02T21:25:39.405Z"
   },
   {
    "duration": 42150,
    "start_time": "2021-07-02T21:25:52.465Z"
   },
   {
    "duration": 6,
    "start_time": "2021-07-02T21:26:46.436Z"
   },
   {
    "duration": 8464,
    "start_time": "2021-07-02T21:40:54.145Z"
   },
   {
    "duration": 24,
    "start_time": "2021-07-02T21:45:15.426Z"
   },
   {
    "duration": 16,
    "start_time": "2021-07-02T21:45:22.534Z"
   },
   {
    "duration": 395,
    "start_time": "2021-07-02T21:47:39.488Z"
   },
   {
    "duration": 30,
    "start_time": "2021-07-02T21:47:54.213Z"
   },
   {
    "duration": 9942,
    "start_time": "2021-07-02T21:49:33.495Z"
   },
   {
    "duration": 4,
    "start_time": "2021-07-02T21:49:47.447Z"
   },
   {
    "duration": 1603,
    "start_time": "2021-07-02T21:53:09.549Z"
   },
   {
    "duration": 886,
    "start_time": "2021-07-02T21:53:11.155Z"
   },
   {
    "duration": 38,
    "start_time": "2021-07-02T21:53:12.045Z"
   },
   {
    "duration": 44,
    "start_time": "2021-07-02T21:53:12.085Z"
   },
   {
    "duration": 38,
    "start_time": "2021-07-02T21:53:12.133Z"
   },
   {
    "duration": 175,
    "start_time": "2021-07-02T21:53:12.173Z"
   },
   {
    "duration": 22,
    "start_time": "2021-07-02T21:53:12.350Z"
   },
   {
    "duration": 22,
    "start_time": "2021-07-02T21:53:12.376Z"
   },
   {
    "duration": 17,
    "start_time": "2021-07-02T21:53:12.402Z"
   },
   {
    "duration": 4,
    "start_time": "2021-07-02T21:53:12.421Z"
   },
   {
    "duration": 60,
    "start_time": "2021-07-02T21:53:12.428Z"
   },
   {
    "duration": 5,
    "start_time": "2021-07-02T21:53:12.491Z"
   },
   {
    "duration": 18,
    "start_time": "2021-07-02T21:53:12.499Z"
   },
   {
    "duration": 9,
    "start_time": "2021-07-02T21:53:12.520Z"
   },
   {
    "duration": 15,
    "start_time": "2021-07-02T21:53:12.564Z"
   },
   {
    "duration": 6,
    "start_time": "2021-07-02T21:53:12.582Z"
   },
   {
    "duration": 36,
    "start_time": "2021-07-02T21:53:12.590Z"
   },
   {
    "duration": 7,
    "start_time": "2021-07-02T21:53:12.628Z"
   },
   {
    "duration": 9,
    "start_time": "2021-07-02T21:53:12.663Z"
   },
   {
    "duration": 527,
    "start_time": "2021-07-02T21:53:12.675Z"
   },
   {
    "duration": 4,
    "start_time": "2021-07-02T21:53:13.205Z"
   },
   {
    "duration": 1674,
    "start_time": "2021-07-02T21:53:13.213Z"
   },
   {
    "duration": 3,
    "start_time": "2021-07-02T21:53:14.895Z"
   },
   {
    "duration": 14,
    "start_time": "2021-07-02T21:53:14.903Z"
   },
   {
    "duration": 44,
    "start_time": "2021-07-02T21:53:14.919Z"
   },
   {
    "duration": 759,
    "start_time": "2021-07-02T21:53:14.965Z"
   },
   {
    "duration": 543,
    "start_time": "2021-07-02T21:53:15.726Z"
   },
   {
    "duration": 509,
    "start_time": "2021-07-02T21:53:16.273Z"
   },
   {
    "duration": 4017,
    "start_time": "2021-07-02T21:53:16.785Z"
   },
   {
    "duration": 886,
    "start_time": "2021-07-02T21:53:20.805Z"
   },
   {
    "duration": 9,
    "start_time": "2021-07-02T21:53:21.694Z"
   },
   {
    "duration": 184,
    "start_time": "2021-07-02T21:53:21.707Z"
   },
   {
    "duration": 7,
    "start_time": "2021-07-02T21:53:21.895Z"
   },
   {
    "duration": 2590,
    "start_time": "2021-07-02T21:53:21.905Z"
   },
   {
    "duration": 4,
    "start_time": "2021-07-02T21:53:24.498Z"
   },
   {
    "duration": 7,
    "start_time": "2021-07-02T21:53:24.504Z"
   },
   {
    "duration": 5,
    "start_time": "2021-07-02T21:53:24.513Z"
   },
   {
    "duration": 94,
    "start_time": "2021-07-02T21:53:24.521Z"
   },
   {
    "duration": 7,
    "start_time": "2021-07-02T21:53:24.618Z"
   },
   {
    "duration": 10,
    "start_time": "2021-07-02T21:53:24.627Z"
   },
   {
    "duration": 42251,
    "start_time": "2021-07-02T21:53:24.640Z"
   },
   {
    "duration": 48209,
    "start_time": "2021-07-02T21:54:06.894Z"
   },
   {
    "duration": 1106177,
    "start_time": "2021-07-02T21:54:55.106Z"
   },
   {
    "duration": 1316211,
    "start_time": "2021-07-02T22:13:21.285Z"
   },
   {
    "duration": 5,
    "start_time": "2021-07-02T22:35:17.499Z"
   },
   {
    "duration": 19,
    "start_time": "2021-07-02T22:35:17.508Z"
   },
   {
    "duration": 40,
    "start_time": "2021-07-02T22:35:17.530Z"
   },
   {
    "duration": 571,
    "start_time": "2021-07-02T22:35:17.574Z"
   },
   {
    "duration": -1376,
    "start_time": "2021-07-02T22:35:19.525Z"
   },
   {
    "duration": 429,
    "start_time": "2021-07-02T23:06:09.110Z"
   },
   {
    "duration": 17,
    "start_time": "2021-07-02T23:06:48.730Z"
   },
   {
    "duration": 383,
    "start_time": "2021-07-02T23:09:59.434Z"
   },
   {
    "duration": 38,
    "start_time": "2021-07-02T23:10:38.974Z"
   },
   {
    "duration": 13,
    "start_time": "2021-07-02T23:11:01.288Z"
   },
   {
    "duration": 45,
    "start_time": "2021-07-02T23:11:35.638Z"
   },
   {
    "duration": 18,
    "start_time": "2021-07-02T23:13:14.207Z"
   },
   {
    "duration": 323,
    "start_time": "2021-07-02T23:13:36.047Z"
   },
   {
    "duration": 7,
    "start_time": "2021-07-02T23:13:55.716Z"
   },
   {
    "duration": 10,
    "start_time": "2021-07-02T23:14:15.448Z"
   },
   {
    "duration": 9,
    "start_time": "2021-07-02T23:14:24.347Z"
   },
   {
    "duration": 9,
    "start_time": "2021-07-02T23:15:28.530Z"
   },
   {
    "duration": 21,
    "start_time": "2021-07-02T23:17:49.971Z"
   },
   {
    "duration": 8,
    "start_time": "2021-07-02T23:18:24.148Z"
   },
   {
    "duration": 7,
    "start_time": "2021-07-02T23:18:29.778Z"
   },
   {
    "duration": 6,
    "start_time": "2021-07-02T23:18:31.809Z"
   },
   {
    "duration": 332,
    "start_time": "2021-07-02T23:18:52.038Z"
   },
   {
    "duration": 1584,
    "start_time": "2021-07-02T23:19:02.215Z"
   },
   {
    "duration": 885,
    "start_time": "2021-07-02T23:19:03.801Z"
   },
   {
    "duration": 26,
    "start_time": "2021-07-02T23:19:04.689Z"
   },
   {
    "duration": 63,
    "start_time": "2021-07-02T23:19:04.718Z"
   },
   {
    "duration": 15,
    "start_time": "2021-07-02T23:19:04.784Z"
   },
   {
    "duration": 186,
    "start_time": "2021-07-02T23:19:04.802Z"
   },
   {
    "duration": 16,
    "start_time": "2021-07-02T23:19:04.990Z"
   },
   {
    "duration": 21,
    "start_time": "2021-07-02T23:19:05.010Z"
   },
   {
    "duration": 37,
    "start_time": "2021-07-02T23:19:05.034Z"
   },
   {
    "duration": 4,
    "start_time": "2021-07-02T23:19:05.074Z"
   },
   {
    "duration": 32,
    "start_time": "2021-07-02T23:19:05.080Z"
   },
   {
    "duration": 4,
    "start_time": "2021-07-02T23:19:05.114Z"
   },
   {
    "duration": 42,
    "start_time": "2021-07-02T23:19:05.121Z"
   },
   {
    "duration": 7,
    "start_time": "2021-07-02T23:19:05.166Z"
   },
   {
    "duration": 17,
    "start_time": "2021-07-02T23:19:05.175Z"
   },
   {
    "duration": 5,
    "start_time": "2021-07-02T23:19:05.195Z"
   },
   {
    "duration": 60,
    "start_time": "2021-07-02T23:19:05.202Z"
   },
   {
    "duration": 7,
    "start_time": "2021-07-02T23:19:05.264Z"
   },
   {
    "duration": 11,
    "start_time": "2021-07-02T23:19:05.273Z"
   },
   {
    "duration": 508,
    "start_time": "2021-07-02T23:19:05.286Z"
   },
   {
    "duration": 4,
    "start_time": "2021-07-02T23:19:05.797Z"
   },
   {
    "duration": 1518,
    "start_time": "2021-07-02T23:19:05.803Z"
   },
   {
    "duration": 4,
    "start_time": "2021-07-02T23:19:07.326Z"
   },
   {
    "duration": 30,
    "start_time": "2021-07-02T23:19:07.333Z"
   },
   {
    "duration": 10,
    "start_time": "2021-07-02T23:19:07.365Z"
   },
   {
    "duration": 991,
    "start_time": "2021-07-02T23:19:07.378Z"
   },
   {
    "duration": 585,
    "start_time": "2021-07-02T23:19:08.372Z"
   },
   {
    "duration": 483,
    "start_time": "2021-07-02T23:19:08.962Z"
   },
   {
    "duration": 3820,
    "start_time": "2021-07-02T23:19:09.449Z"
   },
   {
    "duration": 756,
    "start_time": "2021-07-02T23:19:13.273Z"
   },
   {
    "duration": 8,
    "start_time": "2021-07-02T23:19:14.032Z"
   },
   {
    "duration": 165,
    "start_time": "2021-07-02T23:19:14.043Z"
   },
   {
    "duration": 7,
    "start_time": "2021-07-02T23:19:14.211Z"
   },
   {
    "duration": 3530,
    "start_time": "2021-07-02T23:19:14.221Z"
   },
   {
    "duration": 12,
    "start_time": "2021-07-02T23:19:17.754Z"
   },
   {
    "duration": 8,
    "start_time": "2021-07-02T23:19:17.769Z"
   },
   {
    "duration": 5,
    "start_time": "2021-07-02T23:19:17.780Z"
   },
   {
    "duration": 117,
    "start_time": "2021-07-02T23:19:17.788Z"
   },
   {
    "duration": 8,
    "start_time": "2021-07-02T23:19:17.907Z"
   },
   {
    "duration": 6,
    "start_time": "2021-07-02T23:19:17.918Z"
   },
   {
    "duration": 50309,
    "start_time": "2021-07-02T23:19:17.927Z"
   },
   {
    "duration": 66691,
    "start_time": "2021-07-02T23:20:08.240Z"
   },
   {
    "duration": 1218339,
    "start_time": "2021-07-02T23:21:14.934Z"
   },
   {
    "duration": 1251661,
    "start_time": "2021-07-02T23:41:33.276Z"
   },
   {
    "duration": 5,
    "start_time": "2021-07-03T00:02:24.939Z"
   },
   {
    "duration": 27,
    "start_time": "2021-07-03T00:02:24.947Z"
   },
   {
    "duration": 9,
    "start_time": "2021-07-03T00:02:24.977Z"
   },
   {
    "duration": 6,
    "start_time": "2021-07-03T00:02:24.989Z"
   },
   {
    "duration": 7,
    "start_time": "2021-07-03T00:02:24.997Z"
   },
   {
    "duration": 591,
    "start_time": "2021-07-03T00:02:25.007Z"
   },
   {
    "duration": -1588,
    "start_time": "2021-07-03T00:02:27.189Z"
   },
   {
    "duration": 17,
    "start_time": "2021-07-03T00:14:42.871Z"
   },
   {
    "duration": 31,
    "start_time": "2021-07-03T00:14:53.289Z"
   },
   {
    "duration": 15,
    "start_time": "2021-07-03T00:15:18.147Z"
   },
   {
    "duration": 33,
    "start_time": "2021-07-03T00:15:23.442Z"
   },
   {
    "duration": 7,
    "start_time": "2021-07-03T00:15:26.391Z"
   },
   {
    "duration": 4,
    "start_time": "2021-07-03T00:15:28.694Z"
   },
   {
    "duration": 8,
    "start_time": "2021-07-03T00:24:17.823Z"
   },
   {
    "duration": 364,
    "start_time": "2021-07-03T00:24:25.956Z"
   },
   {
    "duration": 15,
    "start_time": "2021-07-03T00:24:31.863Z"
   },
   {
    "duration": 19,
    "start_time": "2021-07-03T00:27:52.605Z"
   },
   {
    "duration": 18,
    "start_time": "2021-07-03T00:49:17.195Z"
   },
   {
    "duration": 345,
    "start_time": "2021-07-03T00:49:33.547Z"
   },
   {
    "duration": 18,
    "start_time": "2021-07-03T00:49:49.683Z"
   },
   {
    "duration": 7,
    "start_time": "2021-07-03T00:49:52.927Z"
   },
   {
    "duration": 1514,
    "start_time": "2021-07-03T02:50:42.097Z"
   },
   {
    "duration": 933,
    "start_time": "2021-07-03T02:50:43.614Z"
   },
   {
    "duration": 28,
    "start_time": "2021-07-03T02:51:27.764Z"
   },
   {
    "duration": 47,
    "start_time": "2021-07-03T02:51:28.308Z"
   },
   {
    "duration": 15,
    "start_time": "2021-07-03T02:51:29.269Z"
   },
   {
    "duration": 172,
    "start_time": "2021-07-03T02:51:30.531Z"
   },
   {
    "duration": 16,
    "start_time": "2021-07-03T02:51:30.859Z"
   },
   {
    "duration": 24,
    "start_time": "2021-07-03T02:51:32.107Z"
   },
   {
    "duration": 14,
    "start_time": "2021-07-03T02:51:32.787Z"
   },
   {
    "duration": 4,
    "start_time": "2021-07-03T02:51:33.426Z"
   },
   {
    "duration": 25,
    "start_time": "2021-07-03T02:51:40.941Z"
   },
   {
    "duration": 5,
    "start_time": "2021-07-03T02:52:16.395Z"
   },
   {
    "duration": 6,
    "start_time": "2021-07-03T02:52:17.093Z"
   },
   {
    "duration": 7,
    "start_time": "2021-07-03T02:52:17.971Z"
   },
   {
    "duration": 14,
    "start_time": "2021-07-03T02:52:18.163Z"
   },
   {
    "duration": 6,
    "start_time": "2021-07-03T02:52:59.093Z"
   },
   {
    "duration": 24,
    "start_time": "2021-07-03T02:53:00.045Z"
   },
   {
    "duration": 7,
    "start_time": "2021-07-03T02:53:00.872Z"
   },
   {
    "duration": 9,
    "start_time": "2021-07-03T02:54:08.844Z"
   },
   {
    "duration": 469,
    "start_time": "2021-07-03T02:54:09.521Z"
   },
   {
    "duration": 5,
    "start_time": "2021-07-03T02:54:09.992Z"
   },
   {
    "duration": 1559,
    "start_time": "2021-07-03T02:54:10.163Z"
   },
   {
    "duration": 3,
    "start_time": "2021-07-03T02:54:57.177Z"
   },
   {
    "duration": 11,
    "start_time": "2021-07-03T02:54:57.403Z"
   },
   {
    "duration": 10,
    "start_time": "2021-07-03T02:54:57.590Z"
   },
   {
    "duration": 698,
    "start_time": "2021-07-03T02:54:58.508Z"
   },
   {
    "duration": 438,
    "start_time": "2021-07-03T02:54:59.208Z"
   },
   {
    "duration": 379,
    "start_time": "2021-07-03T02:54:59.649Z"
   },
   {
    "duration": 2538,
    "start_time": "2021-07-03T02:55:27.596Z"
   },
   {
    "duration": 533,
    "start_time": "2021-07-03T02:55:30.137Z"
   },
   {
    "duration": 5,
    "start_time": "2021-07-03T02:55:30.673Z"
   },
   {
    "duration": 143,
    "start_time": "2021-07-03T02:55:30.681Z"
   },
   {
    "duration": 5,
    "start_time": "2021-07-03T02:55:30.826Z"
   },
   {
    "duration": 2347,
    "start_time": "2021-07-03T02:55:30.834Z"
   },
   {
    "duration": 4,
    "start_time": "2021-07-03T02:56:22.612Z"
   },
   {
    "duration": 4,
    "start_time": "2021-07-03T02:56:23.892Z"
   },
   {
    "duration": 4,
    "start_time": "2021-07-03T02:56:28.307Z"
   },
   {
    "duration": 62,
    "start_time": "2021-07-03T02:57:07.563Z"
   },
   {
    "duration": 8,
    "start_time": "2021-07-03T02:57:08.636Z"
   },
   {
    "duration": 5,
    "start_time": "2021-07-03T02:58:24.956Z"
   },
   {
    "duration": 5,
    "start_time": "2021-07-03T02:59:18.996Z"
   },
   {
    "duration": 42064,
    "start_time": "2021-07-03T02:59:20.672Z"
   },
   {
    "duration": 48225,
    "start_time": "2021-07-03T03:00:26.613Z"
   },
   {
    "duration": 1100228,
    "start_time": "2021-07-03T03:01:14.841Z"
   },
   {
    "duration": 1273357,
    "start_time": "2021-07-03T03:19:35.072Z"
   },
   {
    "duration": 5,
    "start_time": "2021-07-03T03:40:48.432Z"
   },
   {
    "duration": 37,
    "start_time": "2021-07-03T03:40:48.439Z"
   },
   {
    "duration": 8,
    "start_time": "2021-07-03T03:40:48.479Z"
   },
   {
    "duration": 5,
    "start_time": "2021-07-03T03:40:48.490Z"
   },
   {
    "duration": 10,
    "start_time": "2021-07-03T03:40:48.498Z"
   },
   {
    "duration": 22,
    "start_time": "2021-07-03T03:40:48.511Z"
   },
   {
    "duration": 32,
    "start_time": "2021-07-03T03:40:48.535Z"
   },
   {
    "duration": 268,
    "start_time": "2021-07-03T14:18:16.709Z"
   },
   {
    "duration": 1108,
    "start_time": "2021-07-03T14:18:53.382Z"
   },
   {
    "duration": 707,
    "start_time": "2021-07-03T14:18:54.492Z"
   },
   {
    "duration": 14,
    "start_time": "2021-07-03T14:18:55.201Z"
   },
   {
    "duration": 40,
    "start_time": "2021-07-03T14:18:55.217Z"
   },
   {
    "duration": 10,
    "start_time": "2021-07-03T14:18:55.258Z"
   },
   {
    "duration": 107,
    "start_time": "2021-07-03T14:18:55.270Z"
   },
   {
    "duration": 9,
    "start_time": "2021-07-03T14:18:55.379Z"
   },
   {
    "duration": 12,
    "start_time": "2021-07-03T14:18:55.390Z"
   },
   {
    "duration": 8,
    "start_time": "2021-07-03T14:18:55.404Z"
   },
   {
    "duration": 3,
    "start_time": "2021-07-03T14:18:55.413Z"
   },
   {
    "duration": 23,
    "start_time": "2021-07-03T14:18:55.445Z"
   },
   {
    "duration": 3,
    "start_time": "2021-07-03T14:18:55.470Z"
   },
   {
    "duration": 11,
    "start_time": "2021-07-03T14:18:55.474Z"
   },
   {
    "duration": 12,
    "start_time": "2021-07-03T14:18:55.486Z"
   },
   {
    "duration": 15,
    "start_time": "2021-07-03T14:18:55.500Z"
   },
   {
    "duration": 3,
    "start_time": "2021-07-03T14:18:55.517Z"
   },
   {
    "duration": 18,
    "start_time": "2021-07-03T14:18:55.521Z"
   },
   {
    "duration": 7,
    "start_time": "2021-07-03T14:18:55.541Z"
   },
   {
    "duration": 12,
    "start_time": "2021-07-03T14:18:55.552Z"
   },
   {
    "duration": 289,
    "start_time": "2021-07-03T14:18:55.565Z"
   },
   {
    "duration": 4,
    "start_time": "2021-07-03T14:18:55.855Z"
   },
   {
    "duration": 892,
    "start_time": "2021-07-03T14:18:55.860Z"
   },
   {
    "duration": 4,
    "start_time": "2021-07-03T14:18:56.754Z"
   },
   {
    "duration": 14,
    "start_time": "2021-07-03T14:18:56.759Z"
   },
   {
    "duration": 8,
    "start_time": "2021-07-03T14:18:56.774Z"
   },
   {
    "duration": 401,
    "start_time": "2021-07-03T14:18:56.784Z"
   },
   {
    "duration": 257,
    "start_time": "2021-07-03T14:18:57.188Z"
   },
   {
    "duration": 199,
    "start_time": "2021-07-03T14:18:57.448Z"
   },
   {
    "duration": 1349,
    "start_time": "2021-07-03T14:18:57.649Z"
   },
   {
    "duration": 299,
    "start_time": "2021-07-03T14:18:59.000Z"
   },
   {
    "duration": 4,
    "start_time": "2021-07-03T14:18:59.300Z"
   },
   {
    "duration": 80,
    "start_time": "2021-07-03T14:18:59.306Z"
   },
   {
    "duration": 3,
    "start_time": "2021-07-03T14:18:59.388Z"
   },
   {
    "duration": 1302,
    "start_time": "2021-07-03T14:18:59.392Z"
   },
   {
    "duration": 3,
    "start_time": "2021-07-03T14:19:00.696Z"
   },
   {
    "duration": 12,
    "start_time": "2021-07-03T14:19:00.700Z"
   },
   {
    "duration": 10,
    "start_time": "2021-07-03T14:19:00.713Z"
   },
   {
    "duration": 65,
    "start_time": "2021-07-03T14:19:00.724Z"
   },
   {
    "duration": 5,
    "start_time": "2021-07-03T14:19:00.790Z"
   },
   {
    "duration": 15,
    "start_time": "2021-07-03T14:19:00.796Z"
   },
   {
    "duration": 13,
    "start_time": "2021-07-03T14:19:00.812Z"
   },
   {
    "duration": 6045,
    "start_time": "2021-07-03T14:19:00.826Z"
   },
   {
    "duration": 6350,
    "start_time": "2021-07-03T14:19:06.872Z"
   },
   {
    "duration": 168330,
    "start_time": "2021-07-03T14:19:13.223Z"
   },
   {
    "duration": 174877,
    "start_time": "2021-07-03T14:22:01.555Z"
   },
   {
    "duration": 5,
    "start_time": "2021-07-03T14:24:56.440Z"
   },
   {
    "duration": 18,
    "start_time": "2021-07-03T14:24:56.446Z"
   },
   {
    "duration": 6,
    "start_time": "2021-07-03T14:24:56.465Z"
   },
   {
    "duration": 4,
    "start_time": "2021-07-03T14:24:56.473Z"
   },
   {
    "duration": 11,
    "start_time": "2021-07-03T14:24:56.478Z"
   },
   {
    "duration": 25,
    "start_time": "2021-07-03T14:24:56.490Z"
   },
   {
    "duration": 5,
    "start_time": "2021-07-03T14:24:56.516Z"
   },
   {
    "duration": 13,
    "start_time": "2021-07-03T14:24:56.523Z"
   },
   {
    "duration": 24,
    "start_time": "2021-07-03T14:24:56.537Z"
   },
   {
    "duration": 11,
    "start_time": "2021-07-03T14:24:56.563Z"
   },
   {
    "duration": 1488,
    "start_time": "2021-07-03T17:45:27.005Z"
   },
   {
    "duration": 874,
    "start_time": "2021-07-03T17:45:28.496Z"
   },
   {
    "duration": 26,
    "start_time": "2021-07-03T17:45:29.374Z"
   },
   {
    "duration": 68,
    "start_time": "2021-07-03T17:45:29.403Z"
   },
   {
    "duration": 15,
    "start_time": "2021-07-03T17:45:29.473Z"
   },
   {
    "duration": 184,
    "start_time": "2021-07-03T17:45:29.490Z"
   },
   {
    "duration": 14,
    "start_time": "2021-07-03T17:45:29.677Z"
   },
   {
    "duration": 30,
    "start_time": "2021-07-03T17:45:29.694Z"
   },
   {
    "duration": 38,
    "start_time": "2021-07-03T17:45:29.727Z"
   },
   {
    "duration": 4,
    "start_time": "2021-07-03T17:45:29.768Z"
   },
   {
    "duration": 31,
    "start_time": "2021-07-03T17:45:29.774Z"
   },
   {
    "duration": 5,
    "start_time": "2021-07-03T17:45:29.955Z"
   },
   {
    "duration": 6,
    "start_time": "2021-07-03T17:45:30.319Z"
   },
   {
    "duration": 7,
    "start_time": "2021-07-03T17:45:30.509Z"
   },
   {
    "duration": 18,
    "start_time": "2021-07-03T17:45:30.721Z"
   },
   {
    "duration": 6,
    "start_time": "2021-07-03T17:45:31.679Z"
   },
   {
    "duration": 23,
    "start_time": "2021-07-03T17:45:32.246Z"
   },
   {
    "duration": 7,
    "start_time": "2021-07-03T17:45:32.402Z"
   },
   {
    "duration": 11,
    "start_time": "2021-07-03T17:45:33.530Z"
   },
   {
    "duration": 509,
    "start_time": "2021-07-03T17:45:33.961Z"
   },
   {
    "duration": 5,
    "start_time": "2021-07-03T17:45:34.472Z"
   },
   {
    "duration": 1548,
    "start_time": "2021-07-03T17:45:34.480Z"
   },
   {
    "duration": 3,
    "start_time": "2021-07-03T17:45:36.031Z"
   },
   {
    "duration": 28,
    "start_time": "2021-07-03T17:45:36.037Z"
   },
   {
    "duration": 13,
    "start_time": "2021-07-03T17:45:36.067Z"
   },
   {
    "duration": 710,
    "start_time": "2021-07-03T17:45:36.496Z"
   },
   {
    "duration": 435,
    "start_time": "2021-07-03T17:45:37.209Z"
   },
   {
    "duration": 364,
    "start_time": "2021-07-03T17:45:37.647Z"
   },
   {
    "duration": 2485,
    "start_time": "2021-07-03T17:45:39.183Z"
   },
   {
    "duration": 539,
    "start_time": "2021-07-03T17:45:41.671Z"
   },
   {
    "duration": 6,
    "start_time": "2021-07-03T17:45:42.213Z"
   },
   {
    "duration": 141,
    "start_time": "2021-07-03T17:45:42.221Z"
   },
   {
    "duration": 5,
    "start_time": "2021-07-03T17:45:42.364Z"
   },
   {
    "duration": 2580,
    "start_time": "2021-07-03T17:45:42.372Z"
   },
   {
    "duration": 4,
    "start_time": "2021-07-03T17:45:44.962Z"
   },
   {
    "duration": 3,
    "start_time": "2021-07-03T17:45:45.699Z"
   },
   {
    "duration": 4,
    "start_time": "2021-07-03T17:45:46.670Z"
   },
   {
    "duration": 64,
    "start_time": "2021-07-03T17:45:48.312Z"
   },
   {
    "duration": 9,
    "start_time": "2021-07-03T17:45:49.211Z"
   },
   {
    "duration": 5,
    "start_time": "2021-07-03T17:45:50.038Z"
   },
   {
    "duration": 4,
    "start_time": "2021-07-03T17:45:51.450Z"
   },
   {
    "duration": 527,
    "start_time": "2021-07-03T17:46:00.648Z"
   },
   {
    "duration": 17,
    "start_time": "2021-07-03T17:46:07.026Z"
   },
   {
    "duration": 12,
    "start_time": "2021-07-03T17:46:07.900Z"
   },
   {
    "duration": 6,
    "start_time": "2021-07-03T17:46:08.960Z"
   },
   {
    "duration": 7,
    "start_time": "2021-07-03T17:46:09.439Z"
   },
   {
    "duration": 333,
    "start_time": "2021-07-03T17:46:10.362Z"
   },
   {
    "duration": 6,
    "start_time": "2021-07-03T17:46:24.400Z"
   },
   {
    "duration": 9,
    "start_time": "2021-07-03T17:46:27.417Z"
   },
   {
    "duration": 6,
    "start_time": "2021-07-03T17:46:28.240Z"
   },
   {
    "duration": 7,
    "start_time": "2021-07-03T17:46:58.709Z"
   },
   {
    "duration": 108,
    "start_time": "2021-07-03T17:46:59.349Z"
   },
   {
    "duration": 10,
    "start_time": "2021-07-03T17:46:59.900Z"
   },
   {
    "duration": 5,
    "start_time": "2021-07-03T17:47:07.885Z"
   },
   {
    "duration": 7,
    "start_time": "2021-07-03T17:52:02.341Z"
   },
   {
    "duration": 9,
    "start_time": "2021-07-03T17:52:03.731Z"
   },
   {
    "duration": 7,
    "start_time": "2021-07-03T17:52:04.325Z"
   }
  ],
  "kernelspec": {
   "display_name": "Python 3 (ipykernel)",
   "language": "python",
   "name": "python3"
  },
  "language_info": {
   "codemirror_mode": {
    "name": "ipython",
    "version": 3
   },
   "file_extension": ".py",
   "mimetype": "text/x-python",
   "name": "python",
   "nbconvert_exporter": "python",
   "pygments_lexer": "ipython3",
   "version": "3.9.5"
  },
  "toc": {
   "base_numbering": 1,
   "nav_menu": {},
   "number_sections": false,
   "sideBar": true,
   "skip_h1_title": true,
   "title_cell": "Содержание",
   "title_sidebar": "Contents",
   "toc_cell": true,
   "toc_position": {
    "height": "calc(100% - 180px)",
    "left": "10px",
    "top": "150px",
    "width": "392px"
   },
   "toc_section_display": true,
   "toc_window_display": true
  }
 },
 "nbformat": 4,
 "nbformat_minor": 2
}
