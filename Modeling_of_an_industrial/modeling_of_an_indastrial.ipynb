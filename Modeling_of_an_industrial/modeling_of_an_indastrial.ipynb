{
 "cells": [
  {
   "cell_type": "markdown",
   "metadata": {},
   "source": [
    "<div style=\"background: #cceeaa; padding: 5px; border: 1px solid green; border-radius: 5px;\">\n",
    "<font color='green'> \n",
    "    <b><u>КОММЕНТАРИЙ РЕВЬЮЕРА</u></b>\n",
    "<font color='green'><br>\n",
    "<br />\n",
    "Александр, доброго дня! рад приветствовать тебя в финале) <br />\n",
    "Вот и он подобрался, поздравляю. Остался последний рывок в этом марафоне)<br>\n",
    "<br />    \n",
    "Несмотря на то, что проект не такой уж и простой как с позиции кода, так и в понимании процессов - <br />тебе удалось сдать его вовремя, это большой плюс для всех нас, спасибо:)<br />\n",
    "<br />\n",
    "Меня зовут Николай. <br />И на этом этапе Вашего движения к новой профессии от меня будут комментарии по написанному коду. <br />Чтобы меньше \"мусорить эфир\" и чтобы максимально наглядно отделяться от основного кода, есть предложение условиться в некоторых обозначениях:<br /> <br />\n",
    "<u><b>ТАКОЙ ШРИФТ</b></u> - всегда начало комментария <br />\n",
    "<font color='green'>такой шрифт</font> - комментарии о том, что всё ОК <br/>\n",
    "<font color='purple'>такой шрифт</font> - комментарии о том, что всё ОК по результату,<br> однако что есть ещё что-то или в коде или есть способы сделать более короткий или быстрый код <br/>\n",
    "<font color='red'>такой шрифт</font> - комментарии о том, что есть критичный момент, влияющий на бизнес-результат проекта.<br/>\n",
    "</font><br /><br />\n",
    "<font color='green'>Как и всегда в спринтах - ставлю своей целью максимально помочь. Поэтому, все мои комментарии - это только способ передать свой опыт для помощи в твоих достижениях."
   ]
  },
  {
   "cell_type": "markdown",
   "metadata": {},
   "source": [
    "# Исследовательский анализ данных промышленной задачи и построение модели, которая предскажет температуру стали"
   ]
  },
  {
   "cell_type": "markdown",
   "metadata": {},
   "source": [
    "## Описание задачи"
   ]
  },
  {
   "cell_type": "markdown",
   "metadata": {},
   "source": [
    "Чтобы оптимизировать производственные расходы, металлургический комбинат ООО «Так закаляем сталь» решил уменьшить потребление электроэнергии на этапе обработки стали. Вам предстоит построить модель, которая предскажет температуру стали."
   ]
  },
  {
   "cell_type": "markdown",
   "metadata": {},
   "source": [
    "## Описание этапа обработки\n",
    "\n",
    "Сталь обрабатывают в металлическом ковше вместимостью около 100 тонн. Чтобы ковш выдерживал высокие температуры, изнутри его облицовывают огнеупорным кирпичом. Расплавленную сталь заливают в ковш и подогревают до нужной температуры графитовыми электродами. Они установлены в крышке ковша. \n",
    "\n",
    "Из сплава выводится сера (десульфурация), добавлением примесей корректируется химический состав и отбираются пробы. Сталь легируют — изменяют её состав — подавая куски сплава из бункера для сыпучих материалов или проволоку через специальный трайб-аппарат (англ. tribe, «масса»).\n",
    "\n",
    "Перед тем как первый раз ввести легирующие добавки, измеряют температуру стали и производят её химический анализ. Потом температуру на несколько минут повышают, добавляют легирующие материалы и продувают сплав инертным газом. Затем его перемешивают и снова проводят измерения. Такой цикл повторяется до достижения целевого химического состава и оптимальной температуры плавки.\n",
    "\n",
    "Тогда расплавленная сталь отправляется на доводку металла или поступает в машину непрерывной разливки. Оттуда готовый продукт выходит в виде заготовок-слябов (англ. *slab*, «плита»).\n",
    "\n",
    "## Описание данных\n",
    "\n",
    "Данные состоят из файлов, полученных из разных источников:\n",
    "\n",
    "- `data_arc.csv` — данные об электродах;\n",
    "- `data_bulk.csv` — данные о подаче сыпучих материалов (объём);\n",
    "- `data_bulk_time.csv` *—* данные о подаче сыпучих материалов (время);\n",
    "- `data_gas.csv` — данные о продувке сплава газом;\n",
    "- `data_temp.csv` — результаты измерения температуры;\n",
    "- `data_wire.csv` — данные о проволочных материалах (объём);\n",
    "- `data_wire_time.csv` — данные о проволочных материалах (время)."
   ]
  },
  {
   "cell_type": "markdown",
   "metadata": {},
   "source": [
    "## Обозначенная метрика и критерии оценки"
   ]
  },
  {
   "cell_type": "markdown",
   "metadata": {},
   "source": [
    "Целевой признак: последняя измеренная температура.\n",
    "\n",
    "Метрика: MAE\n",
    "\n",
    "Критерии оценки:\n",
    "\n",
    "    MAE > 8.7 — 0 sp\n",
    "    7.6 < MAE ≤ 8.7 — 4 sp\n",
    "    6.8 < MAE ≤ 7.6 — 4.5 sp\n",
    "    6.3 < MAE ≤ 6.8 — 5 sp\n",
    "    6.0 < MAE ≤ 6.3 — 5.5 sp\n",
    "    MAE ≤ 6.0 — 6 sp"
   ]
  },
  {
   "cell_type": "markdown",
   "metadata": {},
   "source": [
    "## План работы"
   ]
  },
  {
   "cell_type": "markdown",
   "metadata": {},
   "source": [
    "    1) Ознакомиться с производственными особенностями и определить наибольшие факторы влияния на температуру плавления\n",
    "    2) Произвести изучение и предобработку полученных данных\n",
    "    3) Выявить аномалии и устранить их\n",
    "    4) Выявить дополнительные целевые признаки (помимо данных о результатах измерения температуры) и дополнить ими сводную таблицу\n",
    "    5) Обучить регресионную модель\n",
    "    6) Провести сравнение с константной моделью\n",
    "    7) Описать итоги"
   ]
  },
  {
   "cell_type": "markdown",
   "metadata": {},
   "source": [
    "## Изучение данных"
   ]
  },
  {
   "cell_type": "code",
   "execution_count": 1,
   "metadata": {},
   "outputs": [],
   "source": [
    "import pandas as pd\n",
    "import numpy as np\n",
    "import catboost\n",
    "import matplotlib.pyplot as plt\n",
    "import seaborn as sns\n",
    "\n",
    "from sklearn.model_selection import train_test_split , GridSearchCV\n",
    "from sklearn.dummy import DummyRegressor\n",
    "from sklearn.ensemble import RandomForestRegressor\n",
    "from lightgbm import LGBMRegressor\n",
    "from sklearn.metrics import mean_absolute_error\n",
    "from catboost import CatBoostRegressor\n",
    "from sklearn.model_selection import cross_val_score\n",
    "from sklearn.preprocessing import MinMaxScaler"
   ]
  },
  {
   "cell_type": "markdown",
   "metadata": {},
   "source": [
    "### Изучение данных об электродах - data_arc.csv"
   ]
  },
  {
   "cell_type": "code",
   "execution_count": 2,
   "metadata": {},
   "outputs": [
    {
     "name": "stdout",
     "output_type": "stream",
     "text": [
      "<class 'pandas.core.frame.DataFrame'>\n",
      "RangeIndex: 14876 entries, 0 to 14875\n",
      "Data columns (total 5 columns):\n",
      "key                     14876 non-null int64\n",
      "Начало нагрева дугой    14876 non-null object\n",
      "Конец нагрева дугой     14876 non-null object\n",
      "Активная мощность       14876 non-null float64\n",
      "Реактивная мощность     14876 non-null float64\n",
      "dtypes: float64(2), int64(1), object(2)\n",
      "memory usage: 581.2+ KB\n"
     ]
    }
   ],
   "source": [
    "data_arc = pd.read_csv('/datasets/final_steel/data_arc.csv')\n",
    "data_arc.info()"
   ]
  },
  {
   "cell_type": "code",
   "execution_count": 3,
   "metadata": {},
   "outputs": [
    {
     "data": {
      "text/html": [
       "<div>\n",
       "<style scoped>\n",
       "    .dataframe tbody tr th:only-of-type {\n",
       "        vertical-align: middle;\n",
       "    }\n",
       "\n",
       "    .dataframe tbody tr th {\n",
       "        vertical-align: top;\n",
       "    }\n",
       "\n",
       "    .dataframe thead th {\n",
       "        text-align: right;\n",
       "    }\n",
       "</style>\n",
       "<table border=\"1\" class=\"dataframe\">\n",
       "  <thead>\n",
       "    <tr style=\"text-align: right;\">\n",
       "      <th></th>\n",
       "      <th>key</th>\n",
       "      <th>Начало нагрева дугой</th>\n",
       "      <th>Конец нагрева дугой</th>\n",
       "      <th>Активная мощность</th>\n",
       "      <th>Реактивная мощность</th>\n",
       "    </tr>\n",
       "  </thead>\n",
       "  <tbody>\n",
       "    <tr>\n",
       "      <td>0</td>\n",
       "      <td>1</td>\n",
       "      <td>2019-05-03 11:02:14</td>\n",
       "      <td>2019-05-03 11:06:02</td>\n",
       "      <td>0.976059</td>\n",
       "      <td>0.687084</td>\n",
       "    </tr>\n",
       "    <tr>\n",
       "      <td>1</td>\n",
       "      <td>1</td>\n",
       "      <td>2019-05-03 11:07:28</td>\n",
       "      <td>2019-05-03 11:10:33</td>\n",
       "      <td>0.805607</td>\n",
       "      <td>0.520285</td>\n",
       "    </tr>\n",
       "    <tr>\n",
       "      <td>2</td>\n",
       "      <td>1</td>\n",
       "      <td>2019-05-03 11:11:44</td>\n",
       "      <td>2019-05-03 11:14:36</td>\n",
       "      <td>0.744363</td>\n",
       "      <td>0.498805</td>\n",
       "    </tr>\n",
       "    <tr>\n",
       "      <td>3</td>\n",
       "      <td>1</td>\n",
       "      <td>2019-05-03 11:18:14</td>\n",
       "      <td>2019-05-03 11:24:19</td>\n",
       "      <td>1.659363</td>\n",
       "      <td>1.062669</td>\n",
       "    </tr>\n",
       "    <tr>\n",
       "      <td>4</td>\n",
       "      <td>1</td>\n",
       "      <td>2019-05-03 11:26:09</td>\n",
       "      <td>2019-05-03 11:28:37</td>\n",
       "      <td>0.692755</td>\n",
       "      <td>0.414397</td>\n",
       "    </tr>\n",
       "  </tbody>\n",
       "</table>\n",
       "</div>"
      ],
      "text/plain": [
       "   key Начало нагрева дугой  Конец нагрева дугой  Активная мощность  \\\n",
       "0    1  2019-05-03 11:02:14  2019-05-03 11:06:02           0.976059   \n",
       "1    1  2019-05-03 11:07:28  2019-05-03 11:10:33           0.805607   \n",
       "2    1  2019-05-03 11:11:44  2019-05-03 11:14:36           0.744363   \n",
       "3    1  2019-05-03 11:18:14  2019-05-03 11:24:19           1.659363   \n",
       "4    1  2019-05-03 11:26:09  2019-05-03 11:28:37           0.692755   \n",
       "\n",
       "   Реактивная мощность  \n",
       "0             0.687084  \n",
       "1             0.520285  \n",
       "2             0.498805  \n",
       "3             1.062669  \n",
       "4             0.414397  "
      ]
     },
     "execution_count": 3,
     "metadata": {},
     "output_type": "execute_result"
    }
   ],
   "source": [
    "data_arc.head()"
   ]
  },
  {
   "cell_type": "markdown",
   "metadata": {},
   "source": [
    "По условию задачи мы знаем, что во всех файлах столбец key содержит номер партии. В файлах может быть несколько строк с одинаковым значением key: они соответствуют разным итерациям обработки. \n",
    "\n",
    "Из первых данных мы видим, что нагрев и его замеры происходит в несколько итераций, о чем свидетельствует key."
   ]
  },
  {
   "cell_type": "markdown",
   "metadata": {},
   "source": [
    "Посмотрим как распределяются значения Активной и Реактивной мощности"
   ]
  },
  {
   "cell_type": "code",
   "execution_count": 4,
   "metadata": {},
   "outputs": [
    {
     "data": {
      "text/plain": [
       "count    14876.000000\n",
       "mean         0.670441\n",
       "std          0.408159\n",
       "min          0.030002\n",
       "25%          0.395297\n",
       "50%          0.555517\n",
       "75%          0.857034\n",
       "max          3.731596\n",
       "Name: Активная мощность, dtype: float64"
      ]
     },
     "execution_count": 4,
     "metadata": {},
     "output_type": "execute_result"
    }
   ],
   "source": [
    "data_arc['Активная мощность'].describe()"
   ]
  },
  {
   "cell_type": "code",
   "execution_count": 5,
   "metadata": {},
   "outputs": [
    {
     "data": {
      "text/plain": [
       "<matplotlib.axes._subplots.AxesSubplot at 0x7f530a77fe90>"
      ]
     },
     "execution_count": 5,
     "metadata": {},
     "output_type": "execute_result"
    },
    {
     "data": {
      "image/png": "[encoded data removed]",
      "text/plain": [
       "<Figure size 1008x576 with 1 Axes>"
      ]
     },
     "metadata": {
      "needs_background": "light"
     },
     "output_type": "display_data"
    }
   ],
   "source": [
    "data_arc['Активная мощность'].hist(figsize = (14,8), bins = 70)"
   ]
  },
  {
   "cell_type": "code",
   "execution_count": 6,
   "metadata": {},
   "outputs": [
    {
     "data": {
      "text/plain": [
       "count    14876.000000\n",
       "mean         0.452592\n",
       "std          5.878702\n",
       "min       -715.504924\n",
       "25%          0.290991\n",
       "50%          0.415962\n",
       "75%          0.637371\n",
       "max          2.676388\n",
       "Name: Реактивная мощность, dtype: float64"
      ]
     },
     "execution_count": 6,
     "metadata": {},
     "output_type": "execute_result"
    }
   ],
   "source": [
    "data_arc['Реактивная мощность'].describe()"
   ]
  },
  {
   "cell_type": "markdown",
   "metadata": {},
   "source": [
    "По минимальному значению сразу видно, что на данных собираемых по реактивной мощности есть выброс. Реактивная мощность может быть как положительной величиной (если нагрузка имеет активно-индуктивный характер), так и отрицательной (если нагрузка имеет активно-ёмкостный характер), однако в нашем случае это единичное значение, к тому же больше похожее на ошибку (из-за величины отрицательного значения), которое можно сразу отбросить."
   ]
  },
  {
   "cell_type": "code",
   "execution_count": 7,
   "metadata": {},
   "outputs": [
    {
     "data": {
      "text/plain": [
       "<matplotlib.axes._subplots.AxesSubplot at 0x7f530a669450>"
      ]
     },
     "execution_count": 7,
     "metadata": {},
     "output_type": "execute_result"
    },
    {
     "data": {
      "image/png": "[encoded data removed]",
      "text/plain": [
       "<Figure size 1008x576 with 1 Axes>"
      ]
     },
     "metadata": {
      "needs_background": "light"
     },
     "output_type": "display_data"
    }
   ],
   "source": [
    "data_arc['Реактивная мощность'][data_arc['Реактивная мощность'] > 0].hist(figsize = (14,8), bins = 70)"
   ]
  },
  {
   "cell_type": "markdown",
   "metadata": {},
   "source": [
    "#### Вывод по изучению данных об электродах"
   ]
  },
  {
   "cell_type": "markdown",
   "metadata": {},
   "source": [
    "\n",
    "    1) Начало нагрева дугой и Конец нагрева дугой имеют тип  object - его стоит сменить на DateTime\n",
    "    2) Поскольку нагрев происходит в несколько итераций, можно вычислить суммарную длительность нагрева электродами\n",
    "    3) По имеющимся данным, мы так же можем вычислить полную мощность с использованием активной и реактивной мощности, а затем проверить на ошибки в данных.\n",
    "    4) В реактивной мощности сразу замечен выброс, который можно очистить, поскольку он один \n",
    "    5) По уникальным значениям key можно определить суммарную затраченную энергию на все итерации"
   ]
  },
  {
   "cell_type": "markdown",
   "metadata": {},
   "source": [
    "<div style=\"background: #cceeaa; padding: 5px; border: 1px solid green; border-radius: 5px;\">\n",
    "    <font color='green'> <b><u>КОММЕНТАРИЙ РЕВЬЮЕРА</u></b>\n",
    "</font>\n",
    "<font color='green'><br>ок"
   ]
  },
  {
   "cell_type": "raw",
   "metadata": {},
   "source": [
    "### Изучение данных о подаче сыпучих материалов - data_bulk.csv"
   ]
  },
  {
   "cell_type": "code",
   "execution_count": 8,
   "metadata": {},
   "outputs": [
    {
     "name": "stdout",
     "output_type": "stream",
     "text": [
      "<class 'pandas.core.frame.DataFrame'>\n",
      "RangeIndex: 3129 entries, 0 to 3128\n",
      "Data columns (total 16 columns):\n",
      "key        3129 non-null int64\n",
      "Bulk 1     252 non-null float64\n",
      "Bulk 2     22 non-null float64\n",
      "Bulk 3     1298 non-null float64\n",
      "Bulk 4     1014 non-null float64\n",
      "Bulk 5     77 non-null float64\n",
      "Bulk 6     576 non-null float64\n",
      "Bulk 7     25 non-null float64\n",
      "Bulk 8     1 non-null float64\n",
      "Bulk 9     19 non-null float64\n",
      "Bulk 10    176 non-null float64\n",
      "Bulk 11    177 non-null float64\n",
      "Bulk 12    2450 non-null float64\n",
      "Bulk 13    18 non-null float64\n",
      "Bulk 14    2806 non-null float64\n",
      "Bulk 15    2248 non-null float64\n",
      "dtypes: float64(15), int64(1)\n",
      "memory usage: 391.2 KB\n"
     ]
    }
   ],
   "source": [
    "data_bulk = pd.read_csv('/datasets/final_steel/data_bulk.csv')\n",
    "data_bulk.info()"
   ]
  },
  {
   "cell_type": "code",
   "execution_count": 9,
   "metadata": {},
   "outputs": [
    {
     "data": {
      "text/html": [
       "<div>\n",
       "<style scoped>\n",
       "    .dataframe tbody tr th:only-of-type {\n",
       "        vertical-align: middle;\n",
       "    }\n",
       "\n",
       "    .dataframe tbody tr th {\n",
       "        vertical-align: top;\n",
       "    }\n",
       "\n",
       "    .dataframe thead th {\n",
       "        text-align: right;\n",
       "    }\n",
       "</style>\n",
       "<table border=\"1\" class=\"dataframe\">\n",
       "  <thead>\n",
       "    <tr style=\"text-align: right;\">\n",
       "      <th></th>\n",
       "      <th>key</th>\n",
       "      <th>Bulk 1</th>\n",
       "      <th>Bulk 2</th>\n",
       "      <th>Bulk 3</th>\n",
       "      <th>Bulk 4</th>\n",
       "      <th>Bulk 5</th>\n",
       "      <th>Bulk 6</th>\n",
       "      <th>Bulk 7</th>\n",
       "      <th>Bulk 8</th>\n",
       "      <th>Bulk 9</th>\n",
       "      <th>Bulk 10</th>\n",
       "      <th>Bulk 11</th>\n",
       "      <th>Bulk 12</th>\n",
       "      <th>Bulk 13</th>\n",
       "      <th>Bulk 14</th>\n",
       "      <th>Bulk 15</th>\n",
       "    </tr>\n",
       "  </thead>\n",
       "  <tbody>\n",
       "    <tr>\n",
       "      <td>0</td>\n",
       "      <td>1</td>\n",
       "      <td>NaN</td>\n",
       "      <td>NaN</td>\n",
       "      <td>NaN</td>\n",
       "      <td>43.0</td>\n",
       "      <td>NaN</td>\n",
       "      <td>NaN</td>\n",
       "      <td>NaN</td>\n",
       "      <td>NaN</td>\n",
       "      <td>NaN</td>\n",
       "      <td>NaN</td>\n",
       "      <td>NaN</td>\n",
       "      <td>206.0</td>\n",
       "      <td>NaN</td>\n",
       "      <td>150.0</td>\n",
       "      <td>154.0</td>\n",
       "    </tr>\n",
       "    <tr>\n",
       "      <td>1</td>\n",
       "      <td>2</td>\n",
       "      <td>NaN</td>\n",
       "      <td>NaN</td>\n",
       "      <td>NaN</td>\n",
       "      <td>73.0</td>\n",
       "      <td>NaN</td>\n",
       "      <td>NaN</td>\n",
       "      <td>NaN</td>\n",
       "      <td>NaN</td>\n",
       "      <td>NaN</td>\n",
       "      <td>NaN</td>\n",
       "      <td>NaN</td>\n",
       "      <td>206.0</td>\n",
       "      <td>NaN</td>\n",
       "      <td>149.0</td>\n",
       "      <td>154.0</td>\n",
       "    </tr>\n",
       "    <tr>\n",
       "      <td>2</td>\n",
       "      <td>3</td>\n",
       "      <td>NaN</td>\n",
       "      <td>NaN</td>\n",
       "      <td>NaN</td>\n",
       "      <td>34.0</td>\n",
       "      <td>NaN</td>\n",
       "      <td>NaN</td>\n",
       "      <td>NaN</td>\n",
       "      <td>NaN</td>\n",
       "      <td>NaN</td>\n",
       "      <td>NaN</td>\n",
       "      <td>NaN</td>\n",
       "      <td>205.0</td>\n",
       "      <td>NaN</td>\n",
       "      <td>152.0</td>\n",
       "      <td>153.0</td>\n",
       "    </tr>\n",
       "    <tr>\n",
       "      <td>3</td>\n",
       "      <td>4</td>\n",
       "      <td>NaN</td>\n",
       "      <td>NaN</td>\n",
       "      <td>NaN</td>\n",
       "      <td>81.0</td>\n",
       "      <td>NaN</td>\n",
       "      <td>NaN</td>\n",
       "      <td>NaN</td>\n",
       "      <td>NaN</td>\n",
       "      <td>NaN</td>\n",
       "      <td>NaN</td>\n",
       "      <td>NaN</td>\n",
       "      <td>207.0</td>\n",
       "      <td>NaN</td>\n",
       "      <td>153.0</td>\n",
       "      <td>154.0</td>\n",
       "    </tr>\n",
       "    <tr>\n",
       "      <td>4</td>\n",
       "      <td>5</td>\n",
       "      <td>NaN</td>\n",
       "      <td>NaN</td>\n",
       "      <td>NaN</td>\n",
       "      <td>78.0</td>\n",
       "      <td>NaN</td>\n",
       "      <td>NaN</td>\n",
       "      <td>NaN</td>\n",
       "      <td>NaN</td>\n",
       "      <td>NaN</td>\n",
       "      <td>NaN</td>\n",
       "      <td>NaN</td>\n",
       "      <td>203.0</td>\n",
       "      <td>NaN</td>\n",
       "      <td>151.0</td>\n",
       "      <td>152.0</td>\n",
       "    </tr>\n",
       "  </tbody>\n",
       "</table>\n",
       "</div>"
      ],
      "text/plain": [
       "   key  Bulk 1  Bulk 2  Bulk 3  Bulk 4  Bulk 5  Bulk 6  Bulk 7  Bulk 8  \\\n",
       "0    1     NaN     NaN     NaN    43.0     NaN     NaN     NaN     NaN   \n",
       "1    2     NaN     NaN     NaN    73.0     NaN     NaN     NaN     NaN   \n",
       "2    3     NaN     NaN     NaN    34.0     NaN     NaN     NaN     NaN   \n",
       "3    4     NaN     NaN     NaN    81.0     NaN     NaN     NaN     NaN   \n",
       "4    5     NaN     NaN     NaN    78.0     NaN     NaN     NaN     NaN   \n",
       "\n",
       "   Bulk 9  Bulk 10  Bulk 11  Bulk 12  Bulk 13  Bulk 14  Bulk 15  \n",
       "0     NaN      NaN      NaN    206.0      NaN    150.0    154.0  \n",
       "1     NaN      NaN      NaN    206.0      NaN    149.0    154.0  \n",
       "2     NaN      NaN      NaN    205.0      NaN    152.0    153.0  \n",
       "3     NaN      NaN      NaN    207.0      NaN    153.0    154.0  \n",
       "4     NaN      NaN      NaN    203.0      NaN    151.0    152.0  "
      ]
     },
     "execution_count": 9,
     "metadata": {},
     "output_type": "execute_result"
    }
   ],
   "source": [
    "data_bulk.head()"
   ]
  },
  {
   "cell_type": "code",
   "execution_count": 10,
   "metadata": {},
   "outputs": [
    {
     "name": "stderr",
     "output_type": "stream",
     "text": [
      "/opt/conda/lib/python3.7/site-packages/numpy/core/_asarray.py:83: VisibleDeprecationWarning: Creating an ndarray from ragged nested sequences (which is a list-or-tuple of lists-or-tuples-or ndarrays with different lengths or shapes) is deprecated. If you meant to do this, you must specify 'dtype=object' when creating the ndarray\n",
      "  return array(a, dtype, copy=False, order=order)\n"
     ]
    },
    {
     "data": {
      "text/plain": [
       "<matplotlib.axes._subplots.AxesSubplot at 0x7f5309ea7590>"
      ]
     },
     "execution_count": 10,
     "metadata": {},
     "output_type": "execute_result"
    },
    {
     "data": {
      "image/png": "[encoded data removed]",
      "text/plain": [
       "<Figure size 1440x1008 with 1 Axes>"
      ]
     },
     "metadata": {
      "needs_background": "light"
     },
     "output_type": "display_data"
    }
   ],
   "source": [
    "data_bulk_boxplot = data_bulk.drop('key', 1)\n",
    "data_bulk_boxplot.boxplot(figsize = (20,14))\n"
   ]
  },
  {
   "cell_type": "code",
   "execution_count": 11,
   "metadata": {},
   "outputs": [
    {
     "data": {
      "image/png": "[encoded data removed]",
      "text/plain": [
       "<Figure size 1440x1008 with 1 Axes>"
      ]
     },
     "metadata": {
      "needs_background": "light"
     },
     "output_type": "display_data"
    }
   ],
   "source": [
    "data_bulk_boxplot.count().plot(kind='barh', figsize=(20,14));"
   ]
  },
  {
   "cell_type": "markdown",
   "metadata": {},
   "source": [
    "#### Изучение данных о подаче сыпучих материалов по времени - data_bulk_time.csv"
   ]
  },
  {
   "cell_type": "code",
   "execution_count": 12,
   "metadata": {},
   "outputs": [
    {
     "name": "stdout",
     "output_type": "stream",
     "text": [
      "<class 'pandas.core.frame.DataFrame'>\n",
      "RangeIndex: 3129 entries, 0 to 3128\n",
      "Data columns (total 16 columns):\n",
      "key        3129 non-null int64\n",
      "Bulk 1     252 non-null object\n",
      "Bulk 2     22 non-null object\n",
      "Bulk 3     1298 non-null object\n",
      "Bulk 4     1014 non-null object\n",
      "Bulk 5     77 non-null object\n",
      "Bulk 6     576 non-null object\n",
      "Bulk 7     25 non-null object\n",
      "Bulk 8     1 non-null object\n",
      "Bulk 9     19 non-null object\n",
      "Bulk 10    176 non-null object\n",
      "Bulk 11    177 non-null object\n",
      "Bulk 12    2450 non-null object\n",
      "Bulk 13    18 non-null object\n",
      "Bulk 14    2806 non-null object\n",
      "Bulk 15    2248 non-null object\n",
      "dtypes: int64(1), object(15)\n",
      "memory usage: 391.2+ KB\n"
     ]
    }
   ],
   "source": [
    "data_bulk_time = pd.read_csv('/datasets/final_steel/data_bulk_time.csv')\n",
    "data_bulk_time.info()"
   ]
  },
  {
   "cell_type": "code",
   "execution_count": 13,
   "metadata": {},
   "outputs": [
    {
     "data": {
      "text/html": [
       "<div>\n",
       "<style scoped>\n",
       "    .dataframe tbody tr th:only-of-type {\n",
       "        vertical-align: middle;\n",
       "    }\n",
       "\n",
       "    .dataframe tbody tr th {\n",
       "        vertical-align: top;\n",
       "    }\n",
       "\n",
       "    .dataframe thead th {\n",
       "        text-align: right;\n",
       "    }\n",
       "</style>\n",
       "<table border=\"1\" class=\"dataframe\">\n",
       "  <thead>\n",
       "    <tr style=\"text-align: right;\">\n",
       "      <th></th>\n",
       "      <th>key</th>\n",
       "      <th>Bulk 1</th>\n",
       "      <th>Bulk 2</th>\n",
       "      <th>Bulk 3</th>\n",
       "      <th>Bulk 4</th>\n",
       "      <th>Bulk 5</th>\n",
       "      <th>Bulk 6</th>\n",
       "      <th>Bulk 7</th>\n",
       "      <th>Bulk 8</th>\n",
       "      <th>Bulk 9</th>\n",
       "      <th>Bulk 10</th>\n",
       "      <th>Bulk 11</th>\n",
       "      <th>Bulk 12</th>\n",
       "      <th>Bulk 13</th>\n",
       "      <th>Bulk 14</th>\n",
       "      <th>Bulk 15</th>\n",
       "    </tr>\n",
       "  </thead>\n",
       "  <tbody>\n",
       "    <tr>\n",
       "      <td>0</td>\n",
       "      <td>1</td>\n",
       "      <td>NaN</td>\n",
       "      <td>NaN</td>\n",
       "      <td>NaN</td>\n",
       "      <td>2019-05-03 11:21:30</td>\n",
       "      <td>NaN</td>\n",
       "      <td>NaN</td>\n",
       "      <td>NaN</td>\n",
       "      <td>NaN</td>\n",
       "      <td>NaN</td>\n",
       "      <td>NaN</td>\n",
       "      <td>NaN</td>\n",
       "      <td>2019-05-03 11:03:52</td>\n",
       "      <td>NaN</td>\n",
       "      <td>2019-05-03 11:03:52</td>\n",
       "      <td>2019-05-03 11:03:52</td>\n",
       "    </tr>\n",
       "    <tr>\n",
       "      <td>1</td>\n",
       "      <td>2</td>\n",
       "      <td>NaN</td>\n",
       "      <td>NaN</td>\n",
       "      <td>NaN</td>\n",
       "      <td>2019-05-03 11:46:38</td>\n",
       "      <td>NaN</td>\n",
       "      <td>NaN</td>\n",
       "      <td>NaN</td>\n",
       "      <td>NaN</td>\n",
       "      <td>NaN</td>\n",
       "      <td>NaN</td>\n",
       "      <td>NaN</td>\n",
       "      <td>2019-05-03 11:40:20</td>\n",
       "      <td>NaN</td>\n",
       "      <td>2019-05-03 11:40:20</td>\n",
       "      <td>2019-05-03 11:40:20</td>\n",
       "    </tr>\n",
       "    <tr>\n",
       "      <td>2</td>\n",
       "      <td>3</td>\n",
       "      <td>NaN</td>\n",
       "      <td>NaN</td>\n",
       "      <td>NaN</td>\n",
       "      <td>2019-05-03 12:31:06</td>\n",
       "      <td>NaN</td>\n",
       "      <td>NaN</td>\n",
       "      <td>NaN</td>\n",
       "      <td>NaN</td>\n",
       "      <td>NaN</td>\n",
       "      <td>NaN</td>\n",
       "      <td>NaN</td>\n",
       "      <td>2019-05-03 12:09:40</td>\n",
       "      <td>NaN</td>\n",
       "      <td>2019-05-03 12:09:40</td>\n",
       "      <td>2019-05-03 12:09:40</td>\n",
       "    </tr>\n",
       "    <tr>\n",
       "      <td>3</td>\n",
       "      <td>4</td>\n",
       "      <td>NaN</td>\n",
       "      <td>NaN</td>\n",
       "      <td>NaN</td>\n",
       "      <td>2019-05-03 12:48:43</td>\n",
       "      <td>NaN</td>\n",
       "      <td>NaN</td>\n",
       "      <td>NaN</td>\n",
       "      <td>NaN</td>\n",
       "      <td>NaN</td>\n",
       "      <td>NaN</td>\n",
       "      <td>NaN</td>\n",
       "      <td>2019-05-03 12:41:24</td>\n",
       "      <td>NaN</td>\n",
       "      <td>2019-05-03 12:41:24</td>\n",
       "      <td>2019-05-03 12:41:24</td>\n",
       "    </tr>\n",
       "    <tr>\n",
       "      <td>4</td>\n",
       "      <td>5</td>\n",
       "      <td>NaN</td>\n",
       "      <td>NaN</td>\n",
       "      <td>NaN</td>\n",
       "      <td>2019-05-03 13:18:50</td>\n",
       "      <td>NaN</td>\n",
       "      <td>NaN</td>\n",
       "      <td>NaN</td>\n",
       "      <td>NaN</td>\n",
       "      <td>NaN</td>\n",
       "      <td>NaN</td>\n",
       "      <td>NaN</td>\n",
       "      <td>2019-05-03 13:12:56</td>\n",
       "      <td>NaN</td>\n",
       "      <td>2019-05-03 13:12:56</td>\n",
       "      <td>2019-05-03 13:12:56</td>\n",
       "    </tr>\n",
       "  </tbody>\n",
       "</table>\n",
       "</div>"
      ],
      "text/plain": [
       "   key Bulk 1 Bulk 2 Bulk 3               Bulk 4 Bulk 5 Bulk 6 Bulk 7 Bulk 8  \\\n",
       "0    1    NaN    NaN    NaN  2019-05-03 11:21:30    NaN    NaN    NaN    NaN   \n",
       "1    2    NaN    NaN    NaN  2019-05-03 11:46:38    NaN    NaN    NaN    NaN   \n",
       "2    3    NaN    NaN    NaN  2019-05-03 12:31:06    NaN    NaN    NaN    NaN   \n",
       "3    4    NaN    NaN    NaN  2019-05-03 12:48:43    NaN    NaN    NaN    NaN   \n",
       "4    5    NaN    NaN    NaN  2019-05-03 13:18:50    NaN    NaN    NaN    NaN   \n",
       "\n",
       "  Bulk 9 Bulk 10 Bulk 11              Bulk 12 Bulk 13              Bulk 14  \\\n",
       "0    NaN     NaN     NaN  2019-05-03 11:03:52     NaN  2019-05-03 11:03:52   \n",
       "1    NaN     NaN     NaN  2019-05-03 11:40:20     NaN  2019-05-03 11:40:20   \n",
       "2    NaN     NaN     NaN  2019-05-03 12:09:40     NaN  2019-05-03 12:09:40   \n",
       "3    NaN     NaN     NaN  2019-05-03 12:41:24     NaN  2019-05-03 12:41:24   \n",
       "4    NaN     NaN     NaN  2019-05-03 13:12:56     NaN  2019-05-03 13:12:56   \n",
       "\n",
       "               Bulk 15  \n",
       "0  2019-05-03 11:03:52  \n",
       "1  2019-05-03 11:40:20  \n",
       "2  2019-05-03 12:09:40  \n",
       "3  2019-05-03 12:41:24  \n",
       "4  2019-05-03 13:12:56  "
      ]
     },
     "execution_count": 13,
     "metadata": {},
     "output_type": "execute_result"
    }
   ],
   "source": [
    "data_bulk_time.head()"
   ]
  },
  {
   "cell_type": "markdown",
   "metadata": {},
   "source": [
    "#### Вывод по изучению данных о подаче сыпучих материалов"
   ]
  },
  {
   "cell_type": "markdown",
   "metadata": {},
   "source": [
    "    1) Значения подачи по времени требуют преобразования в формате datetime\n",
    "    2) Множество элентов в нулевых значениях, за счет редкого использования в подаче примесей"
   ]
  },
  {
   "cell_type": "markdown",
   "metadata": {},
   "source": [
    "<div style=\"background: #cceeaa; padding: 5px; border: 1px solid green; border-radius: 5px;\">\n",
    "    <font color='green'> <b><u>КОММЕНТАРИЙ РЕВЬЮЕРА</u></b>\n",
    "</font>\n",
    "<font color='green'><br>аналогично."
   ]
  },
  {
   "cell_type": "markdown",
   "metadata": {},
   "source": [
    "### Изучение данных о проволочных материалах - data_wire.csv"
   ]
  },
  {
   "cell_type": "code",
   "execution_count": 14,
   "metadata": {},
   "outputs": [
    {
     "name": "stdout",
     "output_type": "stream",
     "text": [
      "<class 'pandas.core.frame.DataFrame'>\n",
      "RangeIndex: 3081 entries, 0 to 3080\n",
      "Data columns (total 10 columns):\n",
      "key       3081 non-null int64\n",
      "Wire 1    3055 non-null float64\n",
      "Wire 2    1079 non-null float64\n",
      "Wire 3    63 non-null float64\n",
      "Wire 4    14 non-null float64\n",
      "Wire 5    1 non-null float64\n",
      "Wire 6    73 non-null float64\n",
      "Wire 7    11 non-null float64\n",
      "Wire 8    19 non-null float64\n",
      "Wire 9    29 non-null float64\n",
      "dtypes: float64(9), int64(1)\n",
      "memory usage: 240.8 KB\n"
     ]
    }
   ],
   "source": [
    "data_wire = pd.read_csv('/datasets/final_steel/data_wire.csv')\n",
    "data_wire.info()"
   ]
  },
  {
   "cell_type": "code",
   "execution_count": 15,
   "metadata": {},
   "outputs": [
    {
     "data": {
      "text/html": [
       "<div>\n",
       "<style scoped>\n",
       "    .dataframe tbody tr th:only-of-type {\n",
       "        vertical-align: middle;\n",
       "    }\n",
       "\n",
       "    .dataframe tbody tr th {\n",
       "        vertical-align: top;\n",
       "    }\n",
       "\n",
       "    .dataframe thead th {\n",
       "        text-align: right;\n",
       "    }\n",
       "</style>\n",
       "<table border=\"1\" class=\"dataframe\">\n",
       "  <thead>\n",
       "    <tr style=\"text-align: right;\">\n",
       "      <th></th>\n",
       "      <th>key</th>\n",
       "      <th>Wire 1</th>\n",
       "      <th>Wire 2</th>\n",
       "      <th>Wire 3</th>\n",
       "      <th>Wire 4</th>\n",
       "      <th>Wire 5</th>\n",
       "      <th>Wire 6</th>\n",
       "      <th>Wire 7</th>\n",
       "      <th>Wire 8</th>\n",
       "      <th>Wire 9</th>\n",
       "    </tr>\n",
       "  </thead>\n",
       "  <tbody>\n",
       "    <tr>\n",
       "      <td>0</td>\n",
       "      <td>1</td>\n",
       "      <td>60.059998</td>\n",
       "      <td>NaN</td>\n",
       "      <td>NaN</td>\n",
       "      <td>NaN</td>\n",
       "      <td>NaN</td>\n",
       "      <td>NaN</td>\n",
       "      <td>NaN</td>\n",
       "      <td>NaN</td>\n",
       "      <td>NaN</td>\n",
       "    </tr>\n",
       "    <tr>\n",
       "      <td>1</td>\n",
       "      <td>2</td>\n",
       "      <td>96.052315</td>\n",
       "      <td>NaN</td>\n",
       "      <td>NaN</td>\n",
       "      <td>NaN</td>\n",
       "      <td>NaN</td>\n",
       "      <td>NaN</td>\n",
       "      <td>NaN</td>\n",
       "      <td>NaN</td>\n",
       "      <td>NaN</td>\n",
       "    </tr>\n",
       "    <tr>\n",
       "      <td>2</td>\n",
       "      <td>3</td>\n",
       "      <td>91.160157</td>\n",
       "      <td>NaN</td>\n",
       "      <td>NaN</td>\n",
       "      <td>NaN</td>\n",
       "      <td>NaN</td>\n",
       "      <td>NaN</td>\n",
       "      <td>NaN</td>\n",
       "      <td>NaN</td>\n",
       "      <td>NaN</td>\n",
       "    </tr>\n",
       "    <tr>\n",
       "      <td>3</td>\n",
       "      <td>4</td>\n",
       "      <td>89.063515</td>\n",
       "      <td>NaN</td>\n",
       "      <td>NaN</td>\n",
       "      <td>NaN</td>\n",
       "      <td>NaN</td>\n",
       "      <td>NaN</td>\n",
       "      <td>NaN</td>\n",
       "      <td>NaN</td>\n",
       "      <td>NaN</td>\n",
       "    </tr>\n",
       "    <tr>\n",
       "      <td>4</td>\n",
       "      <td>5</td>\n",
       "      <td>89.238236</td>\n",
       "      <td>9.11456</td>\n",
       "      <td>NaN</td>\n",
       "      <td>NaN</td>\n",
       "      <td>NaN</td>\n",
       "      <td>NaN</td>\n",
       "      <td>NaN</td>\n",
       "      <td>NaN</td>\n",
       "      <td>NaN</td>\n",
       "    </tr>\n",
       "  </tbody>\n",
       "</table>\n",
       "</div>"
      ],
      "text/plain": [
       "   key     Wire 1   Wire 2  Wire 3  Wire 4  Wire 5  Wire 6  Wire 7  Wire 8  \\\n",
       "0    1  60.059998      NaN     NaN     NaN     NaN     NaN     NaN     NaN   \n",
       "1    2  96.052315      NaN     NaN     NaN     NaN     NaN     NaN     NaN   \n",
       "2    3  91.160157      NaN     NaN     NaN     NaN     NaN     NaN     NaN   \n",
       "3    4  89.063515      NaN     NaN     NaN     NaN     NaN     NaN     NaN   \n",
       "4    5  89.238236  9.11456     NaN     NaN     NaN     NaN     NaN     NaN   \n",
       "\n",
       "   Wire 9  \n",
       "0     NaN  \n",
       "1     NaN  \n",
       "2     NaN  \n",
       "3     NaN  \n",
       "4     NaN  "
      ]
     },
     "execution_count": 15,
     "metadata": {},
     "output_type": "execute_result"
    }
   ],
   "source": [
    "data_wire.head()"
   ]
  },
  {
   "cell_type": "code",
   "execution_count": 16,
   "metadata": {},
   "outputs": [
    {
     "data": {
      "text/html": [
       "<div>\n",
       "<style scoped>\n",
       "    .dataframe tbody tr th:only-of-type {\n",
       "        vertical-align: middle;\n",
       "    }\n",
       "\n",
       "    .dataframe tbody tr th {\n",
       "        vertical-align: top;\n",
       "    }\n",
       "\n",
       "    .dataframe thead th {\n",
       "        text-align: right;\n",
       "    }\n",
       "</style>\n",
       "<table border=\"1\" class=\"dataframe\">\n",
       "  <thead>\n",
       "    <tr style=\"text-align: right;\">\n",
       "      <th></th>\n",
       "      <th>key</th>\n",
       "      <th>Wire 1</th>\n",
       "      <th>Wire 2</th>\n",
       "      <th>Wire 3</th>\n",
       "      <th>Wire 4</th>\n",
       "      <th>Wire 5</th>\n",
       "      <th>Wire 6</th>\n",
       "      <th>Wire 7</th>\n",
       "      <th>Wire 8</th>\n",
       "      <th>Wire 9</th>\n",
       "    </tr>\n",
       "  </thead>\n",
       "  <tbody>\n",
       "    <tr>\n",
       "      <td>count</td>\n",
       "      <td>3081.000000</td>\n",
       "      <td>3055.000000</td>\n",
       "      <td>1079.000000</td>\n",
       "      <td>63.000000</td>\n",
       "      <td>14.000000</td>\n",
       "      <td>1.000</td>\n",
       "      <td>73.000000</td>\n",
       "      <td>11.000000</td>\n",
       "      <td>19.000000</td>\n",
       "      <td>29.000000</td>\n",
       "    </tr>\n",
       "    <tr>\n",
       "      <td>mean</td>\n",
       "      <td>1623.426485</td>\n",
       "      <td>100.895853</td>\n",
       "      <td>50.577323</td>\n",
       "      <td>189.482681</td>\n",
       "      <td>57.442841</td>\n",
       "      <td>15.132</td>\n",
       "      <td>48.016974</td>\n",
       "      <td>10.039007</td>\n",
       "      <td>53.625193</td>\n",
       "      <td>34.155752</td>\n",
       "    </tr>\n",
       "    <tr>\n",
       "      <td>std</td>\n",
       "      <td>932.996726</td>\n",
       "      <td>42.012518</td>\n",
       "      <td>39.320216</td>\n",
       "      <td>99.513444</td>\n",
       "      <td>28.824667</td>\n",
       "      <td>NaN</td>\n",
       "      <td>33.919845</td>\n",
       "      <td>8.610584</td>\n",
       "      <td>16.881728</td>\n",
       "      <td>19.931616</td>\n",
       "    </tr>\n",
       "    <tr>\n",
       "      <td>min</td>\n",
       "      <td>1.000000</td>\n",
       "      <td>1.918800</td>\n",
       "      <td>0.030160</td>\n",
       "      <td>0.144144</td>\n",
       "      <td>24.148801</td>\n",
       "      <td>15.132</td>\n",
       "      <td>0.034320</td>\n",
       "      <td>0.234208</td>\n",
       "      <td>45.076721</td>\n",
       "      <td>4.622800</td>\n",
       "    </tr>\n",
       "    <tr>\n",
       "      <td>25%</td>\n",
       "      <td>823.000000</td>\n",
       "      <td>72.115684</td>\n",
       "      <td>20.193680</td>\n",
       "      <td>95.135044</td>\n",
       "      <td>40.807002</td>\n",
       "      <td>15.132</td>\n",
       "      <td>25.053600</td>\n",
       "      <td>6.762756</td>\n",
       "      <td>46.094879</td>\n",
       "      <td>22.058401</td>\n",
       "    </tr>\n",
       "    <tr>\n",
       "      <td>50%</td>\n",
       "      <td>1619.000000</td>\n",
       "      <td>100.158234</td>\n",
       "      <td>40.142956</td>\n",
       "      <td>235.194977</td>\n",
       "      <td>45.234282</td>\n",
       "      <td>15.132</td>\n",
       "      <td>42.076324</td>\n",
       "      <td>9.017009</td>\n",
       "      <td>46.279999</td>\n",
       "      <td>30.066399</td>\n",
       "    </tr>\n",
       "    <tr>\n",
       "      <td>75%</td>\n",
       "      <td>2434.000000</td>\n",
       "      <td>126.060484</td>\n",
       "      <td>70.227558</td>\n",
       "      <td>276.252014</td>\n",
       "      <td>76.124619</td>\n",
       "      <td>15.132</td>\n",
       "      <td>64.212723</td>\n",
       "      <td>11.886057</td>\n",
       "      <td>48.089603</td>\n",
       "      <td>43.862003</td>\n",
       "    </tr>\n",
       "    <tr>\n",
       "      <td>max</td>\n",
       "      <td>3241.000000</td>\n",
       "      <td>330.314424</td>\n",
       "      <td>282.780152</td>\n",
       "      <td>385.008668</td>\n",
       "      <td>113.231044</td>\n",
       "      <td>15.132</td>\n",
       "      <td>180.454575</td>\n",
       "      <td>32.847674</td>\n",
       "      <td>102.762401</td>\n",
       "      <td>90.053604</td>\n",
       "    </tr>\n",
       "  </tbody>\n",
       "</table>\n",
       "</div>"
      ],
      "text/plain": [
       "               key       Wire 1       Wire 2      Wire 3      Wire 4  Wire 5  \\\n",
       "count  3081.000000  3055.000000  1079.000000   63.000000   14.000000   1.000   \n",
       "mean   1623.426485   100.895853    50.577323  189.482681   57.442841  15.132   \n",
       "std     932.996726    42.012518    39.320216   99.513444   28.824667     NaN   \n",
       "min       1.000000     1.918800     0.030160    0.144144   24.148801  15.132   \n",
       "25%     823.000000    72.115684    20.193680   95.135044   40.807002  15.132   \n",
       "50%    1619.000000   100.158234    40.142956  235.194977   45.234282  15.132   \n",
       "75%    2434.000000   126.060484    70.227558  276.252014   76.124619  15.132   \n",
       "max    3241.000000   330.314424   282.780152  385.008668  113.231044  15.132   \n",
       "\n",
       "           Wire 6     Wire 7      Wire 8     Wire 9  \n",
       "count   73.000000  11.000000   19.000000  29.000000  \n",
       "mean    48.016974  10.039007   53.625193  34.155752  \n",
       "std     33.919845   8.610584   16.881728  19.931616  \n",
       "min      0.034320   0.234208   45.076721   4.622800  \n",
       "25%     25.053600   6.762756   46.094879  22.058401  \n",
       "50%     42.076324   9.017009   46.279999  30.066399  \n",
       "75%     64.212723  11.886057   48.089603  43.862003  \n",
       "max    180.454575  32.847674  102.762401  90.053604  "
      ]
     },
     "execution_count": 16,
     "metadata": {},
     "output_type": "execute_result"
    }
   ],
   "source": [
    "data_wire.describe()"
   ]
  },
  {
   "cell_type": "code",
   "execution_count": 17,
   "metadata": {},
   "outputs": [
    {
     "name": "stdout",
     "output_type": "stream",
     "text": [
      "[   1    2    3 ... 3239 3240 3241]\n",
      "<class 'pandas.core.frame.DataFrame'>\n",
      "RangeIndex: 3081 entries, 0 to 3080\n",
      "Data columns (total 10 columns):\n",
      "key       3081 non-null int64\n",
      "Wire 1    3055 non-null float64\n",
      "Wire 2    1079 non-null float64\n",
      "Wire 3    63 non-null float64\n",
      "Wire 4    14 non-null float64\n",
      "Wire 5    1 non-null float64\n",
      "Wire 6    73 non-null float64\n",
      "Wire 7    11 non-null float64\n",
      "Wire 8    19 non-null float64\n",
      "Wire 9    29 non-null float64\n",
      "dtypes: float64(9), int64(1)\n",
      "memory usage: 240.8 KB\n"
     ]
    }
   ],
   "source": [
    "print(data_wire['key'].unique())\n",
    "data_wire.info()"
   ]
  },
  {
   "cell_type": "markdown",
   "metadata": {},
   "source": [
    "### Изучение данных о проволочных материалах по времени - data_wire_time.csv"
   ]
  },
  {
   "cell_type": "code",
   "execution_count": 18,
   "metadata": {},
   "outputs": [
    {
     "name": "stdout",
     "output_type": "stream",
     "text": [
      "<class 'pandas.core.frame.DataFrame'>\n",
      "RangeIndex: 3081 entries, 0 to 3080\n",
      "Data columns (total 10 columns):\n",
      "key       3081 non-null int64\n",
      "Wire 1    3055 non-null object\n",
      "Wire 2    1079 non-null object\n",
      "Wire 3    63 non-null object\n",
      "Wire 4    14 non-null object\n",
      "Wire 5    1 non-null object\n",
      "Wire 6    73 non-null object\n",
      "Wire 7    11 non-null object\n",
      "Wire 8    19 non-null object\n",
      "Wire 9    29 non-null object\n",
      "dtypes: int64(1), object(9)\n",
      "memory usage: 240.8+ KB\n"
     ]
    }
   ],
   "source": [
    "data_wire_time = pd.read_csv('/datasets/final_steel/data_wire_time.csv')\n",
    "data_wire_time.info()"
   ]
  },
  {
   "cell_type": "code",
   "execution_count": 19,
   "metadata": {},
   "outputs": [
    {
     "data": {
      "text/html": [
       "<div>\n",
       "<style scoped>\n",
       "    .dataframe tbody tr th:only-of-type {\n",
       "        vertical-align: middle;\n",
       "    }\n",
       "\n",
       "    .dataframe tbody tr th {\n",
       "        vertical-align: top;\n",
       "    }\n",
       "\n",
       "    .dataframe thead th {\n",
       "        text-align: right;\n",
       "    }\n",
       "</style>\n",
       "<table border=\"1\" class=\"dataframe\">\n",
       "  <thead>\n",
       "    <tr style=\"text-align: right;\">\n",
       "      <th></th>\n",
       "      <th>key</th>\n",
       "      <th>Wire 1</th>\n",
       "      <th>Wire 2</th>\n",
       "      <th>Wire 3</th>\n",
       "      <th>Wire 4</th>\n",
       "      <th>Wire 5</th>\n",
       "      <th>Wire 6</th>\n",
       "      <th>Wire 7</th>\n",
       "      <th>Wire 8</th>\n",
       "      <th>Wire 9</th>\n",
       "    </tr>\n",
       "  </thead>\n",
       "  <tbody>\n",
       "    <tr>\n",
       "      <td>0</td>\n",
       "      <td>1</td>\n",
       "      <td>2019-05-03 11:11:41</td>\n",
       "      <td>NaN</td>\n",
       "      <td>NaN</td>\n",
       "      <td>NaN</td>\n",
       "      <td>NaN</td>\n",
       "      <td>NaN</td>\n",
       "      <td>NaN</td>\n",
       "      <td>NaN</td>\n",
       "      <td>NaN</td>\n",
       "    </tr>\n",
       "    <tr>\n",
       "      <td>1</td>\n",
       "      <td>2</td>\n",
       "      <td>2019-05-03 11:46:10</td>\n",
       "      <td>NaN</td>\n",
       "      <td>NaN</td>\n",
       "      <td>NaN</td>\n",
       "      <td>NaN</td>\n",
       "      <td>NaN</td>\n",
       "      <td>NaN</td>\n",
       "      <td>NaN</td>\n",
       "      <td>NaN</td>\n",
       "    </tr>\n",
       "    <tr>\n",
       "      <td>2</td>\n",
       "      <td>3</td>\n",
       "      <td>2019-05-03 12:13:47</td>\n",
       "      <td>NaN</td>\n",
       "      <td>NaN</td>\n",
       "      <td>NaN</td>\n",
       "      <td>NaN</td>\n",
       "      <td>NaN</td>\n",
       "      <td>NaN</td>\n",
       "      <td>NaN</td>\n",
       "      <td>NaN</td>\n",
       "    </tr>\n",
       "    <tr>\n",
       "      <td>3</td>\n",
       "      <td>4</td>\n",
       "      <td>2019-05-03 12:48:05</td>\n",
       "      <td>NaN</td>\n",
       "      <td>NaN</td>\n",
       "      <td>NaN</td>\n",
       "      <td>NaN</td>\n",
       "      <td>NaN</td>\n",
       "      <td>NaN</td>\n",
       "      <td>NaN</td>\n",
       "      <td>NaN</td>\n",
       "    </tr>\n",
       "    <tr>\n",
       "      <td>4</td>\n",
       "      <td>5</td>\n",
       "      <td>2019-05-03 13:18:15</td>\n",
       "      <td>2019-05-03 13:32:06</td>\n",
       "      <td>NaN</td>\n",
       "      <td>NaN</td>\n",
       "      <td>NaN</td>\n",
       "      <td>NaN</td>\n",
       "      <td>NaN</td>\n",
       "      <td>NaN</td>\n",
       "      <td>NaN</td>\n",
       "    </tr>\n",
       "  </tbody>\n",
       "</table>\n",
       "</div>"
      ],
      "text/plain": [
       "   key               Wire 1               Wire 2 Wire 3 Wire 4 Wire 5 Wire 6  \\\n",
       "0    1  2019-05-03 11:11:41                  NaN    NaN    NaN    NaN    NaN   \n",
       "1    2  2019-05-03 11:46:10                  NaN    NaN    NaN    NaN    NaN   \n",
       "2    3  2019-05-03 12:13:47                  NaN    NaN    NaN    NaN    NaN   \n",
       "3    4  2019-05-03 12:48:05                  NaN    NaN    NaN    NaN    NaN   \n",
       "4    5  2019-05-03 13:18:15  2019-05-03 13:32:06    NaN    NaN    NaN    NaN   \n",
       "\n",
       "  Wire 7 Wire 8 Wire 9  \n",
       "0    NaN    NaN    NaN  \n",
       "1    NaN    NaN    NaN  \n",
       "2    NaN    NaN    NaN  \n",
       "3    NaN    NaN    NaN  \n",
       "4    NaN    NaN    NaN  "
      ]
     },
     "execution_count": 19,
     "metadata": {},
     "output_type": "execute_result"
    }
   ],
   "source": [
    "data_wire_time.head()"
   ]
  },
  {
   "cell_type": "markdown",
   "metadata": {},
   "source": [
    "### Изучение данных о продувке сплава газом - data_gas.csv"
   ]
  },
  {
   "cell_type": "code",
   "execution_count": 20,
   "metadata": {},
   "outputs": [
    {
     "name": "stdout",
     "output_type": "stream",
     "text": [
      "<class 'pandas.core.frame.DataFrame'>\n",
      "RangeIndex: 3239 entries, 0 to 3238\n",
      "Data columns (total 2 columns):\n",
      "key      3239 non-null int64\n",
      "Газ 1    3239 non-null float64\n",
      "dtypes: float64(1), int64(1)\n",
      "memory usage: 50.7 KB\n"
     ]
    }
   ],
   "source": [
    "data_gas = pd.read_csv('/datasets/final_steel/data_gas.csv')\n",
    "data_gas.info()"
   ]
  },
  {
   "cell_type": "code",
   "execution_count": 21,
   "metadata": {},
   "outputs": [
    {
     "data": {
      "text/html": [
       "<div>\n",
       "<style scoped>\n",
       "    .dataframe tbody tr th:only-of-type {\n",
       "        vertical-align: middle;\n",
       "    }\n",
       "\n",
       "    .dataframe tbody tr th {\n",
       "        vertical-align: top;\n",
       "    }\n",
       "\n",
       "    .dataframe thead th {\n",
       "        text-align: right;\n",
       "    }\n",
       "</style>\n",
       "<table border=\"1\" class=\"dataframe\">\n",
       "  <thead>\n",
       "    <tr style=\"text-align: right;\">\n",
       "      <th></th>\n",
       "      <th>key</th>\n",
       "      <th>Газ 1</th>\n",
       "    </tr>\n",
       "  </thead>\n",
       "  <tbody>\n",
       "    <tr>\n",
       "      <td>0</td>\n",
       "      <td>1</td>\n",
       "      <td>29.749986</td>\n",
       "    </tr>\n",
       "    <tr>\n",
       "      <td>1</td>\n",
       "      <td>2</td>\n",
       "      <td>12.555561</td>\n",
       "    </tr>\n",
       "    <tr>\n",
       "      <td>2</td>\n",
       "      <td>3</td>\n",
       "      <td>28.554793</td>\n",
       "    </tr>\n",
       "    <tr>\n",
       "      <td>3</td>\n",
       "      <td>4</td>\n",
       "      <td>18.841219</td>\n",
       "    </tr>\n",
       "    <tr>\n",
       "      <td>4</td>\n",
       "      <td>5</td>\n",
       "      <td>5.413692</td>\n",
       "    </tr>\n",
       "  </tbody>\n",
       "</table>\n",
       "</div>"
      ],
      "text/plain": [
       "   key      Газ 1\n",
       "0    1  29.749986\n",
       "1    2  12.555561\n",
       "2    3  28.554793\n",
       "3    4  18.841219\n",
       "4    5   5.413692"
      ]
     },
     "execution_count": 21,
     "metadata": {},
     "output_type": "execute_result"
    }
   ],
   "source": [
    "data_gas.head()"
   ]
  },
  {
   "cell_type": "code",
   "execution_count": 22,
   "metadata": {},
   "outputs": [
    {
     "data": {
      "text/plain": [
       "count    3239.000000\n",
       "mean       11.002062\n",
       "std         6.220327\n",
       "min         0.008399\n",
       "25%         7.043089\n",
       "50%         9.836267\n",
       "75%        13.769915\n",
       "max        77.995040\n",
       "Name: Газ 1, dtype: float64"
      ]
     },
     "execution_count": 22,
     "metadata": {},
     "output_type": "execute_result"
    }
   ],
   "source": [
    "data_gas['Газ 1'].describe()"
   ]
  },
  {
   "cell_type": "code",
   "execution_count": 23,
   "metadata": {},
   "outputs": [
    {
     "data": {
      "text/plain": [
       "0"
      ]
     },
     "execution_count": 23,
     "metadata": {},
     "output_type": "execute_result"
    }
   ],
   "source": [
    "data_gas['Газ 1'].isnull().sum()"
   ]
  },
  {
   "cell_type": "code",
   "execution_count": 24,
   "metadata": {},
   "outputs": [
    {
     "data": {
      "text/plain": [
       "<matplotlib.axes._subplots.AxesSubplot at 0x7f53017bdfd0>"
      ]
     },
     "execution_count": 24,
     "metadata": {},
     "output_type": "execute_result"
    },
    {
     "data": {
      "image/png": "[encoded data removed]",
      "text/plain": [
       "<Figure size 1440x720 with 1 Axes>"
      ]
     },
     "metadata": {
      "needs_background": "light"
     },
     "output_type": "display_data"
    }
   ],
   "source": [
    "data_gas.groupby('key')['Газ 1'].sum().hist(bins = 80, figsize = (20,10))"
   ]
  },
  {
   "cell_type": "code",
   "execution_count": 25,
   "metadata": {},
   "outputs": [
    {
     "data": {
      "text/plain": [
       "2047    1\n",
       "2580    1\n",
       "2600    1\n",
       "549     1\n",
       "2596    1\n",
       "       ..\n",
       "3119    1\n",
       "1070    1\n",
       "3115    1\n",
       "1066    1\n",
       "2049    1\n",
       "Name: key, Length: 3239, dtype: int64"
      ]
     },
     "execution_count": 25,
     "metadata": {},
     "output_type": "execute_result"
    }
   ],
   "source": [
    "data_gas['key'].value_counts()"
   ]
  },
  {
   "cell_type": "code",
   "execution_count": 26,
   "metadata": {},
   "outputs": [],
   "source": [
    "data_gas.columns = ['key','Объем газа']"
   ]
  },
  {
   "cell_type": "markdown",
   "metadata": {},
   "source": [
    "По гистограмме видно, что объемы газа в большей степени находятся в районе 10. Весь газ распределен на уникальные итерации."
   ]
  },
  {
   "cell_type": "markdown",
   "metadata": {},
   "source": [
    "### Изучение данных результатов измерения температуры - data_temp.csv"
   ]
  },
  {
   "cell_type": "code",
   "execution_count": 27,
   "metadata": {},
   "outputs": [
    {
     "name": "stdout",
     "output_type": "stream",
     "text": [
      "<class 'pandas.core.frame.DataFrame'>\n",
      "RangeIndex: 15907 entries, 0 to 15906\n",
      "Data columns (total 3 columns):\n",
      "key             15907 non-null int64\n",
      "Время замера    15907 non-null object\n",
      "Температура     13006 non-null float64\n",
      "dtypes: float64(1), int64(1), object(1)\n",
      "memory usage: 372.9+ KB\n"
     ]
    }
   ],
   "source": [
    "data_temp = pd.read_csv('/datasets/final_steel/data_temp.csv')\n",
    "data_temp.info()"
   ]
  },
  {
   "cell_type": "markdown",
   "metadata": {},
   "source": [
    "Количество данных по температуре меньше, чем количество времени замера, проверим на пустоты."
   ]
  },
  {
   "cell_type": "code",
   "execution_count": 28,
   "metadata": {},
   "outputs": [
    {
     "data": {
      "text/plain": [
       "array([1571., 1604., 1618., 1601., 1613., 1581., 1577., 1589., 1608.,\n",
       "       1602., 1596., 1597., 1598., 1599., 1623., 1625., 1576., 1543.,\n",
       "       1600., 1586., 1582., 1595., 1587., 1592., 1574., 1580., 1585.,\n",
       "       1588., 1593., 1616., 1583., 1606., 1584., 1591., 1610., 1621.,\n",
       "       1615., 1619., 1605., 1607., 1611., 1590., 1609., 1603., 1579.,\n",
       "       1626., 1617., 1560., 1563., 1594., 1612., 1578., 1566., 1572.,\n",
       "       1575., 1614., 1567., 1562., 1564., 1636., 1570., 1538., 1556.,\n",
       "       1629., 1542., 1565., 1573., 1660., 1690., 1652., 1666., 1667.,\n",
       "       1669., 1668., 1642., 1658., 1671., 1665., 1674., 1676., 1630.,\n",
       "       1654., 1655., 1663., 1635., 1656., 1631., 1653., 1648., 1659.,\n",
       "       1641., 1645., 1675., 1569., 1559., 1558., 1548., 1541., 1553.,\n",
       "       1662., 1679., 1637., 1622., 1644., 1649., 1643., 1526., 1550.,\n",
       "       1561., 1557., 1544., 1568., 1620., 1647., 1638., 1547., 1627.,\n",
       "       1628., 1551., 1549., 1624., 1650., 1684., 1634., 1646., 1651.,\n",
       "       1633., 1640., 1554., 1532., 1632., 1704., 1705., 1700., 1673.,\n",
       "       1661., 1672., 1657., 1552., 1520., 1555., 1529., 1545., 1530.,\n",
       "       1539., 1540., 1546., 1531., 1639., 1670., 1683., 1678., 1191.,\n",
       "       1537., 1533., 1208., 1527., 1525., 1535., 1681., 1536., 1218.,\n",
       "       1519., 1534., 1691., 1702., 1694., 1696., 1383., 1680., 1664.,\n",
       "       1682., 1227., 1528.,   nan, 1204.])"
      ]
     },
     "execution_count": 28,
     "metadata": {},
     "output_type": "execute_result"
    }
   ],
   "source": [
    "data_temp['Температура'].unique()"
   ]
  },
  {
   "cell_type": "code",
   "execution_count": 29,
   "metadata": {},
   "outputs": [
    {
     "data": {
      "text/plain": [
       "2901"
      ]
     },
     "execution_count": 29,
     "metadata": {},
     "output_type": "execute_result"
    }
   ],
   "source": [
    "data_temp['Температура'].isna().sum()"
   ]
  },
  {
   "cell_type": "markdown",
   "metadata": {},
   "source": [
    "Количество пустых значений достаточно много, их будет необходимо обработать, но для начала посмотрим, сколько из них относится к необходимым нам данным."
   ]
  },
  {
   "cell_type": "code",
   "execution_count": 30,
   "metadata": {},
   "outputs": [
    {
     "data": {
      "text/html": [
       "<div>\n",
       "<style scoped>\n",
       "    .dataframe tbody tr th:only-of-type {\n",
       "        vertical-align: middle;\n",
       "    }\n",
       "\n",
       "    .dataframe tbody tr th {\n",
       "        vertical-align: top;\n",
       "    }\n",
       "\n",
       "    .dataframe thead th {\n",
       "        text-align: right;\n",
       "    }\n",
       "</style>\n",
       "<table border=\"1\" class=\"dataframe\">\n",
       "  <thead>\n",
       "    <tr style=\"text-align: right;\">\n",
       "      <th></th>\n",
       "      <th>key</th>\n",
       "      <th>Время замера</th>\n",
       "      <th>Температура</th>\n",
       "    </tr>\n",
       "  </thead>\n",
       "  <tbody>\n",
       "    <tr>\n",
       "      <td>0</td>\n",
       "      <td>1</td>\n",
       "      <td>2019-05-03 11:16:18</td>\n",
       "      <td>1571.0</td>\n",
       "    </tr>\n",
       "    <tr>\n",
       "      <td>1</td>\n",
       "      <td>1</td>\n",
       "      <td>2019-05-03 11:25:53</td>\n",
       "      <td>1604.0</td>\n",
       "    </tr>\n",
       "    <tr>\n",
       "      <td>2</td>\n",
       "      <td>1</td>\n",
       "      <td>2019-05-03 11:29:11</td>\n",
       "      <td>1618.0</td>\n",
       "    </tr>\n",
       "    <tr>\n",
       "      <td>3</td>\n",
       "      <td>1</td>\n",
       "      <td>2019-05-03 11:30:01</td>\n",
       "      <td>1601.0</td>\n",
       "    </tr>\n",
       "    <tr>\n",
       "      <td>4</td>\n",
       "      <td>1</td>\n",
       "      <td>2019-05-03 11:30:39</td>\n",
       "      <td>1613.0</td>\n",
       "    </tr>\n",
       "  </tbody>\n",
       "</table>\n",
       "</div>"
      ],
      "text/plain": [
       "   key         Время замера  Температура\n",
       "0    1  2019-05-03 11:16:18       1571.0\n",
       "1    1  2019-05-03 11:25:53       1604.0\n",
       "2    1  2019-05-03 11:29:11       1618.0\n",
       "3    1  2019-05-03 11:30:01       1601.0\n",
       "4    1  2019-05-03 11:30:39       1613.0"
      ]
     },
     "execution_count": 30,
     "metadata": {},
     "output_type": "execute_result"
    }
   ],
   "source": [
    "data_temp.head()"
   ]
  },
  {
   "cell_type": "code",
   "execution_count": 31,
   "metadata": {},
   "outputs": [
    {
     "data": {
      "text/html": [
       "<div>\n",
       "<style scoped>\n",
       "    .dataframe tbody tr th:only-of-type {\n",
       "        vertical-align: middle;\n",
       "    }\n",
       "\n",
       "    .dataframe tbody tr th {\n",
       "        vertical-align: top;\n",
       "    }\n",
       "\n",
       "    .dataframe thead th {\n",
       "        text-align: right;\n",
       "    }\n",
       "</style>\n",
       "<table border=\"1\" class=\"dataframe\">\n",
       "  <thead>\n",
       "    <tr style=\"text-align: right;\">\n",
       "      <th></th>\n",
       "      <th>key</th>\n",
       "      <th>Время замера</th>\n",
       "      <th>Температура</th>\n",
       "    </tr>\n",
       "  </thead>\n",
       "  <tbody>\n",
       "    <tr>\n",
       "      <td>0</td>\n",
       "      <td>1</td>\n",
       "      <td>2019-05-03 11:16:18</td>\n",
       "      <td>1571.0</td>\n",
       "    </tr>\n",
       "    <tr>\n",
       "      <td>1</td>\n",
       "      <td>1</td>\n",
       "      <td>2019-05-03 11:25:53</td>\n",
       "      <td>1604.0</td>\n",
       "    </tr>\n",
       "    <tr>\n",
       "      <td>2</td>\n",
       "      <td>1</td>\n",
       "      <td>2019-05-03 11:29:11</td>\n",
       "      <td>1618.0</td>\n",
       "    </tr>\n",
       "    <tr>\n",
       "      <td>3</td>\n",
       "      <td>1</td>\n",
       "      <td>2019-05-03 11:30:01</td>\n",
       "      <td>1601.0</td>\n",
       "    </tr>\n",
       "    <tr>\n",
       "      <td>4</td>\n",
       "      <td>1</td>\n",
       "      <td>2019-05-03 11:30:39</td>\n",
       "      <td>1613.0</td>\n",
       "    </tr>\n",
       "  </tbody>\n",
       "</table>\n",
       "</div>"
      ],
      "text/plain": [
       "   key         Время замера  Температура\n",
       "0    1  2019-05-03 11:16:18       1571.0\n",
       "1    1  2019-05-03 11:25:53       1604.0\n",
       "2    1  2019-05-03 11:29:11       1618.0\n",
       "3    1  2019-05-03 11:30:01       1601.0\n",
       "4    1  2019-05-03 11:30:39       1613.0"
      ]
     },
     "execution_count": 31,
     "metadata": {},
     "output_type": "execute_result"
    }
   ],
   "source": [
    "data_temp[data_temp['key'] == 1].head(10)"
   ]
  },
  {
   "cell_type": "code",
   "execution_count": 32,
   "metadata": {},
   "outputs": [
    {
     "data": {
      "text/html": [
       "<div>\n",
       "<style scoped>\n",
       "    .dataframe tbody tr th:only-of-type {\n",
       "        vertical-align: middle;\n",
       "    }\n",
       "\n",
       "    .dataframe tbody tr th {\n",
       "        vertical-align: top;\n",
       "    }\n",
       "\n",
       "    .dataframe thead th {\n",
       "        text-align: right;\n",
       "    }\n",
       "</style>\n",
       "<table border=\"1\" class=\"dataframe\">\n",
       "  <thead>\n",
       "    <tr style=\"text-align: right;\">\n",
       "      <th></th>\n",
       "      <th>key</th>\n",
       "      <th>Температура</th>\n",
       "    </tr>\n",
       "  </thead>\n",
       "  <tbody>\n",
       "    <tr>\n",
       "      <td>count</td>\n",
       "      <td>15907.000000</td>\n",
       "      <td>13006.000000</td>\n",
       "    </tr>\n",
       "    <tr>\n",
       "      <td>mean</td>\n",
       "      <td>1607.880870</td>\n",
       "      <td>1591.840920</td>\n",
       "    </tr>\n",
       "    <tr>\n",
       "      <td>std</td>\n",
       "      <td>942.212073</td>\n",
       "      <td>21.375851</td>\n",
       "    </tr>\n",
       "    <tr>\n",
       "      <td>min</td>\n",
       "      <td>1.000000</td>\n",
       "      <td>1191.000000</td>\n",
       "    </tr>\n",
       "    <tr>\n",
       "      <td>25%</td>\n",
       "      <td>790.000000</td>\n",
       "      <td>1581.000000</td>\n",
       "    </tr>\n",
       "    <tr>\n",
       "      <td>50%</td>\n",
       "      <td>1618.000000</td>\n",
       "      <td>1591.000000</td>\n",
       "    </tr>\n",
       "    <tr>\n",
       "      <td>75%</td>\n",
       "      <td>2427.000000</td>\n",
       "      <td>1601.000000</td>\n",
       "    </tr>\n",
       "    <tr>\n",
       "      <td>max</td>\n",
       "      <td>3241.000000</td>\n",
       "      <td>1705.000000</td>\n",
       "    </tr>\n",
       "  </tbody>\n",
       "</table>\n",
       "</div>"
      ],
      "text/plain": [
       "                key   Температура\n",
       "count  15907.000000  13006.000000\n",
       "mean    1607.880870   1591.840920\n",
       "std      942.212073     21.375851\n",
       "min        1.000000   1191.000000\n",
       "25%      790.000000   1581.000000\n",
       "50%     1618.000000   1591.000000\n",
       "75%     2427.000000   1601.000000\n",
       "max     3241.000000   1705.000000"
      ]
     },
     "execution_count": 32,
     "metadata": {},
     "output_type": "execute_result"
    }
   ],
   "source": [
    "data_temp.describe()"
   ]
  },
  {
   "cell_type": "code",
   "execution_count": 33,
   "metadata": {},
   "outputs": [
    {
     "data": {
      "text/plain": [
       "44      16\n",
       "1214    16\n",
       "1513    16\n",
       "46      16\n",
       "1689    15\n",
       "        ..\n",
       "1106     2\n",
       "1424     2\n",
       "3156     2\n",
       "279      1\n",
       "195      1\n",
       "Name: key, Length: 3216, dtype: int64"
      ]
     },
     "execution_count": 33,
     "metadata": {},
     "output_type": "execute_result"
    }
   ],
   "source": [
    "data_temp['key'].value_counts()"
   ]
  },
  {
   "cell_type": "code",
   "execution_count": 34,
   "metadata": {},
   "outputs": [
    {
     "data": {
      "text/plain": [
       "<matplotlib.axes._subplots.AxesSubplot at 0x7f5309eb9b10>"
      ]
     },
     "execution_count": 34,
     "metadata": {},
     "output_type": "execute_result"
    },
    {
     "data": {
      "image/png": "[encoded data removed]",
      "text/plain": [
       "<Figure size 1440x720 with 1 Axes>"
      ]
     },
     "metadata": {
      "needs_background": "light"
     },
     "output_type": "display_data"
    }
   ],
   "source": [
    "data_temp.groupby('key')['Температура'].count().hist( figsize = (20,10), bins = 16)"
   ]
  },
  {
   "cell_type": "code",
   "execution_count": 35,
   "metadata": {},
   "outputs": [
    {
     "name": "stdout",
     "output_type": "stream",
     "text": [
      "2\n"
     ]
    }
   ],
   "source": [
    "print((data_temp.groupby('key')['Время замера'].count() == 1 ).sum())"
   ]
  },
  {
   "cell_type": "markdown",
   "metadata": {},
   "source": [
    "На гистограмме видно, что более 700 партий имеют два и менее замеров.Это может негативно сказываться при обучении модели, поскольку основная масса находится от 3 до 6 и поэтому потребуется тестирование изменений качества модели и, возможно, потребуется удалить значения с 2 замерами."
   ]
  },
  {
   "cell_type": "markdown",
   "metadata": {},
   "source": [
    "<div style=\"background: #cceeaa; padding: 5px; border: 1px solid green; border-radius: 5px;\">\n",
    "    <font color='green'> <b><u>КОММЕНТАРИЙ РЕВЬЮЕРА</u></b>\n",
    "</font>\n",
    "<font color='green'><br>да, это важный момент проекта."
   ]
  },
  {
   "cell_type": "code",
   "execution_count": 36,
   "metadata": {},
   "outputs": [
    {
     "data": {
      "text/plain": [
       "<matplotlib.axes._subplots.AxesSubplot at 0x7f53014e9550>"
      ]
     },
     "execution_count": 36,
     "metadata": {},
     "output_type": "execute_result"
    },
    {
     "data": {
      "image/png": "[encoded data removed]",
      "text/plain": [
       "<Figure size 1440x720 with 1 Axes>"
      ]
     },
     "metadata": {
      "needs_background": "light"
     },
     "output_type": "display_data"
    }
   ],
   "source": [
    "data_temp['Температура'].hist(bins = 100, figsize = (20,10))"
   ]
  },
  {
   "cell_type": "markdown",
   "metadata": {},
   "source": [
    "#### Вывод по изучению данных результатов измерения температуры"
   ]
  },
  {
   "cell_type": "markdown",
   "metadata": {},
   "source": [
    "    1) При просмотре уникальных подсчетов видно, что пристуствуют разовые замеры, которые следует удалить\n",
    "    2) Столбец \"Время замера\" необходимо перевести в формат datetime\n",
    "    3) Поскольку нам необходимо делать просчет по оптимальной температуре плавки на финальном замере, то начальные замеры пойдут в признаки.\n",
    "    4) Температуру с float лучше перевести в int\n",
    "    5) По данным начальных и финальных замеров можно вычислить общее время плавления\n",
    "    6) Удалить или заменить пустые значения температуры"
   ]
  },
  {
   "cell_type": "markdown",
   "metadata": {},
   "source": [
    "Посмотрим уникальные значения партий в таблицах:"
   ]
  },
  {
   "cell_type": "code",
   "execution_count": 37,
   "metadata": {},
   "outputs": [
    {
     "name": "stdout",
     "output_type": "stream",
     "text": [
      "данные об электродах - 3214\n",
      "данные о подаче сыпучих материалов (объём) - 3129\n",
      "данные о подаче сыпучих материалов (время) - 3129\n",
      "данные о продувке сплава газом - 3239\n",
      "результаты измерения температуры - 3216\n",
      "данные о проволочных материалах (объём) - 3081\n",
      "данные о проволочных материалах (время) - 3081\n"
     ]
    }
   ],
   "source": [
    "print('данные об электродах -', len(data_arc['key'].unique()))\n",
    "print('данные о подаче сыпучих материалов (объём) -', len(data_bulk['key'].unique()))\n",
    "print('данные о подаче сыпучих материалов (время) -', len(data_bulk_time['key'].unique()))\n",
    "print('данные о продувке сплава газом -', len(data_gas['key'].unique()))\n",
    "print('результаты измерения температуры -', len(data_temp['key'].unique()))\n",
    "print('данные о проволочных материалах (объём) -', len(data_wire['key'].unique()))\n",
    "print('данные о проволочных материалах (время) -', len(data_wire_time['key'].unique()))"
   ]
  },
  {
   "cell_type": "markdown",
   "metadata": {},
   "source": [
    "Данные по партиям разнятся. Это может говорить о том, что некоторые этапы не использовались при обработке стали или есть лишние показатели."
   ]
  },
  {
   "cell_type": "markdown",
   "metadata": {},
   "source": [
    "### Общий итог по изучению данных"
   ]
  },
  {
   "cell_type": "markdown",
   "metadata": {},
   "source": [
    "По итогам изучения данных были выявлены следующие проблемы, требующие проработки:\n",
    "\n",
    "        1) Стоит перевести форматы некоторых столбцов , например, из float в int или из object в datetime\n",
    "        2) Данные по партиям разнятся. Это может говорить о том, что некоторые этапы не использовались при обработке стали или есть лишние показатели.\n",
    "        3) Присутствуют аномальные значения во фреймах, которые стоит удалить или проверить, чтобы улучишть исходные данные подаваемые для обучения.\n",
    "        4) Следует заполнить значения NaN на другие, например 0.\n",
    "\n",
    "Исходя из данных всех таблиц выше и описания задачи мы видим, что фрейм data_temp.csv является основным признаком и модели потребуется больше всевозможных данных по разным этапам, чтобы формировать более точные прогнозы. Для этого необходимо сформировать итоговую таблицу со всеми признакми, предварительно создав их в каждом из доступных фреймов, например, посчитать длительности этапов или используемую полную мощность. "
   ]
  },
  {
   "cell_type": "markdown",
   "metadata": {},
   "source": [
    "<div style=\"background: #cceeaa; padding: 5px; border: 1px solid green; border-radius: 5px;\">\n",
    "    <font color='green'> <b><u>КОММЕНТАРИЙ РЕВЬЮЕРА</u></b>\n",
    "</font>\n",
    "<font color='green'><br>отлично, данные на базе и есть первичный аналитический осмотр))"
   ]
  },
  {
   "cell_type": "markdown",
   "metadata": {},
   "source": [
    "## Материалы, найденные для ознакомления с темой и рекомандации после встречи с ТЛ: \n",
    "    "
   ]
  },
  {
   "cell_type": "markdown",
   "metadata": {},
   "source": [
    "    1) http://electrokaprizam.net/content/35-chto-takoe-kva-kwt-kvar\n",
    "    2) https://patonpublishinghouse.com/sem/pdf/2016/pdfarticles/01/10.pdf\n",
    "    3) https://pstu.ru/files/2/file/kafedra/mtf/kafedry/MTO/MU/Metallurgicheskie_tehnologii.pdf\n",
    "    4) https://edrid.ru/rid/216.013.20fa.html\n",
    "    5) https://alexanderdyakonov.files.wordpress.com/2017/06/book_boosting_pdf.pdf\n",
    "    6) http://khomovelectro.kz/article/aktivnaya-reaktivnaya-i-polnaya-kazhushchayasya-moshchnosti.html"
   ]
  },
  {
   "cell_type": "markdown",
   "metadata": {},
   "source": [
    "В результате общения с ТЛ были определены следующие технологические особенности производства:\n",
    "\n",
    "    1) Важно сократить \"лестницу\" изменения температур\n",
    "    2) Прогнозируем финальную температуру плавления\n",
    "    3) Если в рамках партии только одно изменение температуры, то её отбрасываем. Во всех остальных партиях берем за целевой признак финальное изменение температуры.\n",
    "    4) Данные о нагреве использовать не стоит, кроме суммарной. Аналогично и с временем подачи сыпучих материалов.\n",
    "    5) Значения по примесях можно суммировать\n",
    "    6) Стоит посчитать полную мощность и заменить два параметра на один.\n",
    "    7) Данные агрегируем, а потом проверяем на их эффективность в модели\n",
    "\n",
    "А так же определены обязательные этапы при формировании кода и построении отчета:\n",
    "\n",
    "    1) Ответы на приведенные вопросы\n",
    "    2) Подробное описание преобразования данных\n",
    "    3) Определение Feature importances "
   ]
  },
  {
   "cell_type": "markdown",
   "metadata": {},
   "source": [
    "## Предвариательная обработка данных"
   ]
  },
  {
   "cell_type": "markdown",
   "metadata": {},
   "source": [
    "### Обработка пропусков"
   ]
  },
  {
   "cell_type": "code",
   "execution_count": 38,
   "metadata": {},
   "outputs": [],
   "source": [
    "# Заполним nan значения на 0, чтобы в дальнейшем сделать после просчет сумм\n",
    "data_bulk.fillna(0, inplace=True)\n",
    "data_wire.fillna(0, inplace=True)"
   ]
  },
  {
   "cell_type": "markdown",
   "metadata": {},
   "source": [
    " <div style=\"background: #cceeaa; padding: 5px; border: 1px solid green; border-radius: 5px;\">\n",
    "    <font color='green'> <b><u>КОММЕНТАРИЙ РЕВЬЮЕРА</u></b>\n",
    "</font>\n",
    "<font color='green'><br>\n",
    " 👍"
   ]
  },
  {
   "cell_type": "code",
   "execution_count": 39,
   "metadata": {},
   "outputs": [],
   "source": [
    "#удалим пустые значения из ключевых данных по температуре\n",
    "data_temp = data_temp.dropna()"
   ]
  },
  {
   "cell_type": "code",
   "execution_count": 40,
   "metadata": {},
   "outputs": [
    {
     "name": "stdout",
     "output_type": "stream",
     "text": [
      "741\n"
     ]
    }
   ],
   "source": [
    "print((data_temp.groupby('key')['Время замера'].count() == 1 ).sum())"
   ]
  },
  {
   "cell_type": "markdown",
   "metadata": {},
   "source": [
    "741 строка имеет всего лишь один замер. Их необходимо удалить, сделаем это после разделения данных по времени."
   ]
  },
  {
   "cell_type": "markdown",
   "metadata": {},
   "source": [
    " <div style=\"background: #cceeaa; padding: 5px; border: 1px solid green; border-radius: 5px;\">\n",
    "    <font color='green'> <b><u>КОММЕНТАРИЙ РЕВЬЮЕРА</u></b>\n",
    "</font>\n",
    "<font color='green'><br>\n",
    " 👍 👍"
   ]
  },
  {
   "cell_type": "markdown",
   "metadata": {},
   "source": [
    "### Изменение форматов данных"
   ]
  },
  {
   "cell_type": "code",
   "execution_count": 41,
   "metadata": {},
   "outputs": [
    {
     "name": "stdout",
     "output_type": "stream",
     "text": [
      "<class 'pandas.core.frame.DataFrame'>\n",
      "RangeIndex: 3129 entries, 0 to 3128\n",
      "Data columns (total 16 columns):\n",
      "key        3129 non-null int64\n",
      "Bulk 1     252 non-null datetime64[ns]\n",
      "Bulk 2     22 non-null datetime64[ns]\n",
      "Bulk 3     1298 non-null datetime64[ns]\n",
      "Bulk 4     1014 non-null datetime64[ns]\n",
      "Bulk 5     77 non-null datetime64[ns]\n",
      "Bulk 6     576 non-null datetime64[ns]\n",
      "Bulk 7     25 non-null datetime64[ns]\n",
      "Bulk 8     1 non-null datetime64[ns]\n",
      "Bulk 9     19 non-null datetime64[ns]\n",
      "Bulk 10    176 non-null datetime64[ns]\n",
      "Bulk 11    177 non-null datetime64[ns]\n",
      "Bulk 12    2450 non-null datetime64[ns]\n",
      "Bulk 13    18 non-null datetime64[ns]\n",
      "Bulk 14    2806 non-null datetime64[ns]\n",
      "Bulk 15    2248 non-null datetime64[ns]\n",
      "dtypes: datetime64[ns](15), int64(1)\n",
      "memory usage: 391.2 KB\n"
     ]
    }
   ],
   "source": [
    "data_bulk_time_columns = ['Bulk 1' ,'Bulk 2','Bulk 3','Bulk 4',\n",
    "                          'Bulk 5','Bulk 6','Bulk 7','Bulk 8',\n",
    "                          'Bulk 9','Bulk 10','Bulk 11','Bulk 12',\n",
    "                          'Bulk 13','Bulk 14','Bulk 15']\n",
    "data_bulk_time[data_bulk_time_columns] = data_bulk_time[data_bulk_time_columns].astype('datetime64')\n",
    "data_bulk_time.info()"
   ]
  },
  {
   "cell_type": "code",
   "execution_count": 42,
   "metadata": {
    "scrolled": true
   },
   "outputs": [
    {
     "name": "stdout",
     "output_type": "stream",
     "text": [
      "<class 'pandas.core.frame.DataFrame'>\n",
      "RangeIndex: 3081 entries, 0 to 3080\n",
      "Data columns (total 10 columns):\n",
      "key       3081 non-null int64\n",
      "Wire 1    3055 non-null datetime64[ns]\n",
      "Wire 2    1079 non-null datetime64[ns]\n",
      "Wire 3    63 non-null datetime64[ns]\n",
      "Wire 4    14 non-null datetime64[ns]\n",
      "Wire 5    1 non-null datetime64[ns]\n",
      "Wire 6    73 non-null datetime64[ns]\n",
      "Wire 7    11 non-null datetime64[ns]\n",
      "Wire 8    19 non-null datetime64[ns]\n",
      "Wire 9    29 non-null datetime64[ns]\n",
      "dtypes: datetime64[ns](9), int64(1)\n",
      "memory usage: 240.8 KB\n"
     ]
    }
   ],
   "source": [
    "data_wire_time_columns = ['Wire 1',\t'Wire 2',\t'Wire 3',\t'Wire 4',\n",
    "                          'Wire 5',\t'Wire 6',\t'Wire 7',\t'Wire 8',\t'Wire 9']\n",
    "data_wire_time[data_wire_time_columns] = data_wire_time[data_wire_time_columns].astype('datetime64')\n",
    "data_wire_time.info()"
   ]
  },
  {
   "cell_type": "code",
   "execution_count": 43,
   "metadata": {
    "scrolled": true
   },
   "outputs": [
    {
     "name": "stdout",
     "output_type": "stream",
     "text": [
      "<class 'pandas.core.frame.DataFrame'>\n",
      "Int64Index: 13006 entries, 0 to 15902\n",
      "Data columns (total 3 columns):\n",
      "key             13006 non-null int64\n",
      "Время замера    13006 non-null datetime64[ns]\n",
      "Температура     13006 non-null int64\n",
      "dtypes: datetime64[ns](1), int64(2)\n",
      "memory usage: 406.4 KB\n"
     ]
    }
   ],
   "source": [
    "data_temp['Температура'] = data_temp['Температура'].astype('int')\n",
    "data_temp['Время замера'] = data_temp['Время замера'].astype('datetime64')\n",
    "data_temp.info()"
   ]
  },
  {
   "cell_type": "markdown",
   "metadata": {},
   "source": [
    "### Преобразование существущих данных и создание новых значений"
   ]
  },
  {
   "cell_type": "markdown",
   "metadata": {},
   "source": [
    "#### Вычисление полной мощности"
   ]
  },
  {
   "cell_type": "code",
   "execution_count": 44,
   "metadata": {},
   "outputs": [],
   "source": [
    "data_arc['Полная мощность'] = (data_arc['Активная мощность']**2 +  data_arc['Реактивная мощность']**2)**0.5"
   ]
  },
  {
   "cell_type": "code",
   "execution_count": 45,
   "metadata": {},
   "outputs": [
    {
     "data": {
      "text/html": [
       "<div>\n",
       "<style scoped>\n",
       "    .dataframe tbody tr th:only-of-type {\n",
       "        vertical-align: middle;\n",
       "    }\n",
       "\n",
       "    .dataframe tbody tr th {\n",
       "        vertical-align: top;\n",
       "    }\n",
       "\n",
       "    .dataframe thead th {\n",
       "        text-align: right;\n",
       "    }\n",
       "</style>\n",
       "<table border=\"1\" class=\"dataframe\">\n",
       "  <thead>\n",
       "    <tr style=\"text-align: right;\">\n",
       "      <th></th>\n",
       "      <th>key</th>\n",
       "      <th>Начало нагрева дугой</th>\n",
       "      <th>Конец нагрева дугой</th>\n",
       "      <th>Активная мощность</th>\n",
       "      <th>Реактивная мощность</th>\n",
       "      <th>Полная мощность</th>\n",
       "    </tr>\n",
       "  </thead>\n",
       "  <tbody>\n",
       "    <tr>\n",
       "      <td>0</td>\n",
       "      <td>1</td>\n",
       "      <td>2019-05-03 11:02:14</td>\n",
       "      <td>2019-05-03 11:06:02</td>\n",
       "      <td>0.976059</td>\n",
       "      <td>0.687084</td>\n",
       "      <td>1.193639</td>\n",
       "    </tr>\n",
       "    <tr>\n",
       "      <td>1</td>\n",
       "      <td>1</td>\n",
       "      <td>2019-05-03 11:07:28</td>\n",
       "      <td>2019-05-03 11:10:33</td>\n",
       "      <td>0.805607</td>\n",
       "      <td>0.520285</td>\n",
       "      <td>0.959010</td>\n",
       "    </tr>\n",
       "    <tr>\n",
       "      <td>2</td>\n",
       "      <td>1</td>\n",
       "      <td>2019-05-03 11:11:44</td>\n",
       "      <td>2019-05-03 11:14:36</td>\n",
       "      <td>0.744363</td>\n",
       "      <td>0.498805</td>\n",
       "      <td>0.896038</td>\n",
       "    </tr>\n",
       "    <tr>\n",
       "      <td>3</td>\n",
       "      <td>1</td>\n",
       "      <td>2019-05-03 11:18:14</td>\n",
       "      <td>2019-05-03 11:24:19</td>\n",
       "      <td>1.659363</td>\n",
       "      <td>1.062669</td>\n",
       "      <td>1.970470</td>\n",
       "    </tr>\n",
       "    <tr>\n",
       "      <td>4</td>\n",
       "      <td>1</td>\n",
       "      <td>2019-05-03 11:26:09</td>\n",
       "      <td>2019-05-03 11:28:37</td>\n",
       "      <td>0.692755</td>\n",
       "      <td>0.414397</td>\n",
       "      <td>0.807239</td>\n",
       "    </tr>\n",
       "  </tbody>\n",
       "</table>\n",
       "</div>"
      ],
      "text/plain": [
       "   key Начало нагрева дугой  Конец нагрева дугой  Активная мощность  \\\n",
       "0    1  2019-05-03 11:02:14  2019-05-03 11:06:02           0.976059   \n",
       "1    1  2019-05-03 11:07:28  2019-05-03 11:10:33           0.805607   \n",
       "2    1  2019-05-03 11:11:44  2019-05-03 11:14:36           0.744363   \n",
       "3    1  2019-05-03 11:18:14  2019-05-03 11:24:19           1.659363   \n",
       "4    1  2019-05-03 11:26:09  2019-05-03 11:28:37           0.692755   \n",
       "\n",
       "   Реактивная мощность  Полная мощность  \n",
       "0             0.687084         1.193639  \n",
       "1             0.520285         0.959010  \n",
       "2             0.498805         0.896038  \n",
       "3             1.062669         1.970470  \n",
       "4             0.414397         0.807239  "
      ]
     },
     "execution_count": 45,
     "metadata": {},
     "output_type": "execute_result"
    }
   ],
   "source": [
    "data_arc.head()"
   ]
  },
  {
   "cell_type": "code",
   "execution_count": 46,
   "metadata": {},
   "outputs": [],
   "source": [
    "#произведем подсчет суммарной мощности, для каждого нагрева\n",
    "data_arc_new = data_arc[['key', 'Полная мощность']]"
   ]
  },
  {
   "cell_type": "code",
   "execution_count": 47,
   "metadata": {},
   "outputs": [],
   "source": [
    "data_arc_new = data_arc_new.groupby('key')['Полная мощность'].sum()"
   ]
  },
  {
   "cell_type": "code",
   "execution_count": 48,
   "metadata": {},
   "outputs": [
    {
     "data": {
      "text/plain": [
       "key\n",
       "1    5.826395\n",
       "2    3.649216\n",
       "3    2.989534\n",
       "4    3.814962\n",
       "5    4.035758\n",
       "Name: Полная мощность, dtype: float64"
      ]
     },
     "execution_count": 48,
     "metadata": {},
     "output_type": "execute_result"
    }
   ],
   "source": [
    "data_arc_new.head()"
   ]
  },
  {
   "cell_type": "markdown",
   "metadata": {},
   "source": [
    " <div style=\"background: #cceeaa; padding: 5px; border: 1px solid green; border-radius: 5px;\">\n",
    "    <font color='green'> <b><u>КОММЕНТАРИЙ РЕВЬЮЕРА</u></b>\n",
    "</font>\n",
    "<font color='green'><br>\n",
    "понятно."
   ]
  },
  {
   "cell_type": "markdown",
   "metadata": {},
   "source": [
    "#### Вычисление суммарных значений примесей "
   ]
  },
  {
   "cell_type": "code",
   "execution_count": 49,
   "metadata": {},
   "outputs": [],
   "source": [
    "data_wire.set_index('key', inplace=True)"
   ]
  },
  {
   "cell_type": "code",
   "execution_count": 50,
   "metadata": {},
   "outputs": [
    {
     "name": "stdout",
     "output_type": "stream",
     "text": [
      "<class 'pandas.core.frame.DataFrame'>\n",
      "Int64Index: 3081 entries, 1 to 3241\n",
      "Data columns (total 9 columns):\n",
      "Wire 1    3081 non-null float64\n",
      "Wire 2    3081 non-null float64\n",
      "Wire 3    3081 non-null float64\n",
      "Wire 4    3081 non-null float64\n",
      "Wire 5    3081 non-null float64\n",
      "Wire 6    3081 non-null float64\n",
      "Wire 7    3081 non-null float64\n",
      "Wire 8    3081 non-null float64\n",
      "Wire 9    3081 non-null float64\n",
      "dtypes: float64(9)\n",
      "memory usage: 240.7 KB\n"
     ]
    }
   ],
   "source": [
    "data_wire.info()"
   ]
  },
  {
   "cell_type": "code",
   "execution_count": 51,
   "metadata": {},
   "outputs": [],
   "source": [
    "data_wire['wire_sum'] = data_wire.sum(axis=1)"
   ]
  },
  {
   "cell_type": "code",
   "execution_count": 52,
   "metadata": {},
   "outputs": [
    {
     "data": {
      "text/html": [
       "<div>\n",
       "<style scoped>\n",
       "    .dataframe tbody tr th:only-of-type {\n",
       "        vertical-align: middle;\n",
       "    }\n",
       "\n",
       "    .dataframe tbody tr th {\n",
       "        vertical-align: top;\n",
       "    }\n",
       "\n",
       "    .dataframe thead th {\n",
       "        text-align: right;\n",
       "    }\n",
       "</style>\n",
       "<table border=\"1\" class=\"dataframe\">\n",
       "  <thead>\n",
       "    <tr style=\"text-align: right;\">\n",
       "      <th></th>\n",
       "      <th>Wire 1</th>\n",
       "      <th>Wire 2</th>\n",
       "      <th>Wire 3</th>\n",
       "      <th>Wire 4</th>\n",
       "      <th>Wire 5</th>\n",
       "      <th>Wire 6</th>\n",
       "      <th>Wire 7</th>\n",
       "      <th>Wire 8</th>\n",
       "      <th>Wire 9</th>\n",
       "      <th>wire_sum</th>\n",
       "    </tr>\n",
       "    <tr>\n",
       "      <th>key</th>\n",
       "      <th></th>\n",
       "      <th></th>\n",
       "      <th></th>\n",
       "      <th></th>\n",
       "      <th></th>\n",
       "      <th></th>\n",
       "      <th></th>\n",
       "      <th></th>\n",
       "      <th></th>\n",
       "      <th></th>\n",
       "    </tr>\n",
       "  </thead>\n",
       "  <tbody>\n",
       "    <tr>\n",
       "      <td>1</td>\n",
       "      <td>60.059998</td>\n",
       "      <td>0.00000</td>\n",
       "      <td>0.0</td>\n",
       "      <td>0.0</td>\n",
       "      <td>0.0</td>\n",
       "      <td>0.0</td>\n",
       "      <td>0.0</td>\n",
       "      <td>0.0</td>\n",
       "      <td>0.0</td>\n",
       "      <td>60.059998</td>\n",
       "    </tr>\n",
       "    <tr>\n",
       "      <td>2</td>\n",
       "      <td>96.052315</td>\n",
       "      <td>0.00000</td>\n",
       "      <td>0.0</td>\n",
       "      <td>0.0</td>\n",
       "      <td>0.0</td>\n",
       "      <td>0.0</td>\n",
       "      <td>0.0</td>\n",
       "      <td>0.0</td>\n",
       "      <td>0.0</td>\n",
       "      <td>96.052315</td>\n",
       "    </tr>\n",
       "    <tr>\n",
       "      <td>3</td>\n",
       "      <td>91.160157</td>\n",
       "      <td>0.00000</td>\n",
       "      <td>0.0</td>\n",
       "      <td>0.0</td>\n",
       "      <td>0.0</td>\n",
       "      <td>0.0</td>\n",
       "      <td>0.0</td>\n",
       "      <td>0.0</td>\n",
       "      <td>0.0</td>\n",
       "      <td>91.160157</td>\n",
       "    </tr>\n",
       "    <tr>\n",
       "      <td>4</td>\n",
       "      <td>89.063515</td>\n",
       "      <td>0.00000</td>\n",
       "      <td>0.0</td>\n",
       "      <td>0.0</td>\n",
       "      <td>0.0</td>\n",
       "      <td>0.0</td>\n",
       "      <td>0.0</td>\n",
       "      <td>0.0</td>\n",
       "      <td>0.0</td>\n",
       "      <td>89.063515</td>\n",
       "    </tr>\n",
       "    <tr>\n",
       "      <td>5</td>\n",
       "      <td>89.238236</td>\n",
       "      <td>9.11456</td>\n",
       "      <td>0.0</td>\n",
       "      <td>0.0</td>\n",
       "      <td>0.0</td>\n",
       "      <td>0.0</td>\n",
       "      <td>0.0</td>\n",
       "      <td>0.0</td>\n",
       "      <td>0.0</td>\n",
       "      <td>98.352796</td>\n",
       "    </tr>\n",
       "  </tbody>\n",
       "</table>\n",
       "</div>"
      ],
      "text/plain": [
       "        Wire 1   Wire 2  Wire 3  Wire 4  Wire 5  Wire 6  Wire 7  Wire 8  \\\n",
       "key                                                                       \n",
       "1    60.059998  0.00000     0.0     0.0     0.0     0.0     0.0     0.0   \n",
       "2    96.052315  0.00000     0.0     0.0     0.0     0.0     0.0     0.0   \n",
       "3    91.160157  0.00000     0.0     0.0     0.0     0.0     0.0     0.0   \n",
       "4    89.063515  0.00000     0.0     0.0     0.0     0.0     0.0     0.0   \n",
       "5    89.238236  9.11456     0.0     0.0     0.0     0.0     0.0     0.0   \n",
       "\n",
       "     Wire 9   wire_sum  \n",
       "key                     \n",
       "1       0.0  60.059998  \n",
       "2       0.0  96.052315  \n",
       "3       0.0  91.160157  \n",
       "4       0.0  89.063515  \n",
       "5       0.0  98.352796  "
      ]
     },
     "execution_count": 52,
     "metadata": {},
     "output_type": "execute_result"
    }
   ],
   "source": [
    "data_wire.head()"
   ]
  },
  {
   "cell_type": "code",
   "execution_count": 53,
   "metadata": {},
   "outputs": [],
   "source": [
    "data_bulk.set_index('key', inplace=True)"
   ]
  },
  {
   "cell_type": "code",
   "execution_count": 54,
   "metadata": {},
   "outputs": [],
   "source": [
    "data_bulk['bulk_sum'] = data_bulk.sum(axis=1)"
   ]
  },
  {
   "cell_type": "code",
   "execution_count": 55,
   "metadata": {},
   "outputs": [
    {
     "data": {
      "text/html": [
       "<div>\n",
       "<style scoped>\n",
       "    .dataframe tbody tr th:only-of-type {\n",
       "        vertical-align: middle;\n",
       "    }\n",
       "\n",
       "    .dataframe tbody tr th {\n",
       "        vertical-align: top;\n",
       "    }\n",
       "\n",
       "    .dataframe thead th {\n",
       "        text-align: right;\n",
       "    }\n",
       "</style>\n",
       "<table border=\"1\" class=\"dataframe\">\n",
       "  <thead>\n",
       "    <tr style=\"text-align: right;\">\n",
       "      <th></th>\n",
       "      <th>Bulk 1</th>\n",
       "      <th>Bulk 2</th>\n",
       "      <th>Bulk 3</th>\n",
       "      <th>Bulk 4</th>\n",
       "      <th>Bulk 5</th>\n",
       "      <th>Bulk 6</th>\n",
       "      <th>Bulk 7</th>\n",
       "      <th>Bulk 8</th>\n",
       "      <th>Bulk 9</th>\n",
       "      <th>Bulk 10</th>\n",
       "      <th>Bulk 11</th>\n",
       "      <th>Bulk 12</th>\n",
       "      <th>Bulk 13</th>\n",
       "      <th>Bulk 14</th>\n",
       "      <th>Bulk 15</th>\n",
       "      <th>bulk_sum</th>\n",
       "    </tr>\n",
       "    <tr>\n",
       "      <th>key</th>\n",
       "      <th></th>\n",
       "      <th></th>\n",
       "      <th></th>\n",
       "      <th></th>\n",
       "      <th></th>\n",
       "      <th></th>\n",
       "      <th></th>\n",
       "      <th></th>\n",
       "      <th></th>\n",
       "      <th></th>\n",
       "      <th></th>\n",
       "      <th></th>\n",
       "      <th></th>\n",
       "      <th></th>\n",
       "      <th></th>\n",
       "      <th></th>\n",
       "    </tr>\n",
       "  </thead>\n",
       "  <tbody>\n",
       "    <tr>\n",
       "      <td>1</td>\n",
       "      <td>0.0</td>\n",
       "      <td>0.0</td>\n",
       "      <td>0.0</td>\n",
       "      <td>43.0</td>\n",
       "      <td>0.0</td>\n",
       "      <td>0.0</td>\n",
       "      <td>0.0</td>\n",
       "      <td>0.0</td>\n",
       "      <td>0.0</td>\n",
       "      <td>0.0</td>\n",
       "      <td>0.0</td>\n",
       "      <td>206.0</td>\n",
       "      <td>0.0</td>\n",
       "      <td>150.0</td>\n",
       "      <td>154.0</td>\n",
       "      <td>553.0</td>\n",
       "    </tr>\n",
       "    <tr>\n",
       "      <td>2</td>\n",
       "      <td>0.0</td>\n",
       "      <td>0.0</td>\n",
       "      <td>0.0</td>\n",
       "      <td>73.0</td>\n",
       "      <td>0.0</td>\n",
       "      <td>0.0</td>\n",
       "      <td>0.0</td>\n",
       "      <td>0.0</td>\n",
       "      <td>0.0</td>\n",
       "      <td>0.0</td>\n",
       "      <td>0.0</td>\n",
       "      <td>206.0</td>\n",
       "      <td>0.0</td>\n",
       "      <td>149.0</td>\n",
       "      <td>154.0</td>\n",
       "      <td>582.0</td>\n",
       "    </tr>\n",
       "    <tr>\n",
       "      <td>3</td>\n",
       "      <td>0.0</td>\n",
       "      <td>0.0</td>\n",
       "      <td>0.0</td>\n",
       "      <td>34.0</td>\n",
       "      <td>0.0</td>\n",
       "      <td>0.0</td>\n",
       "      <td>0.0</td>\n",
       "      <td>0.0</td>\n",
       "      <td>0.0</td>\n",
       "      <td>0.0</td>\n",
       "      <td>0.0</td>\n",
       "      <td>205.0</td>\n",
       "      <td>0.0</td>\n",
       "      <td>152.0</td>\n",
       "      <td>153.0</td>\n",
       "      <td>544.0</td>\n",
       "    </tr>\n",
       "    <tr>\n",
       "      <td>4</td>\n",
       "      <td>0.0</td>\n",
       "      <td>0.0</td>\n",
       "      <td>0.0</td>\n",
       "      <td>81.0</td>\n",
       "      <td>0.0</td>\n",
       "      <td>0.0</td>\n",
       "      <td>0.0</td>\n",
       "      <td>0.0</td>\n",
       "      <td>0.0</td>\n",
       "      <td>0.0</td>\n",
       "      <td>0.0</td>\n",
       "      <td>207.0</td>\n",
       "      <td>0.0</td>\n",
       "      <td>153.0</td>\n",
       "      <td>154.0</td>\n",
       "      <td>595.0</td>\n",
       "    </tr>\n",
       "    <tr>\n",
       "      <td>5</td>\n",
       "      <td>0.0</td>\n",
       "      <td>0.0</td>\n",
       "      <td>0.0</td>\n",
       "      <td>78.0</td>\n",
       "      <td>0.0</td>\n",
       "      <td>0.0</td>\n",
       "      <td>0.0</td>\n",
       "      <td>0.0</td>\n",
       "      <td>0.0</td>\n",
       "      <td>0.0</td>\n",
       "      <td>0.0</td>\n",
       "      <td>203.0</td>\n",
       "      <td>0.0</td>\n",
       "      <td>151.0</td>\n",
       "      <td>152.0</td>\n",
       "      <td>584.0</td>\n",
       "    </tr>\n",
       "  </tbody>\n",
       "</table>\n",
       "</div>"
      ],
      "text/plain": [
       "     Bulk 1  Bulk 2  Bulk 3  Bulk 4  Bulk 5  Bulk 6  Bulk 7  Bulk 8  Bulk 9  \\\n",
       "key                                                                           \n",
       "1       0.0     0.0     0.0    43.0     0.0     0.0     0.0     0.0     0.0   \n",
       "2       0.0     0.0     0.0    73.0     0.0     0.0     0.0     0.0     0.0   \n",
       "3       0.0     0.0     0.0    34.0     0.0     0.0     0.0     0.0     0.0   \n",
       "4       0.0     0.0     0.0    81.0     0.0     0.0     0.0     0.0     0.0   \n",
       "5       0.0     0.0     0.0    78.0     0.0     0.0     0.0     0.0     0.0   \n",
       "\n",
       "     Bulk 10  Bulk 11  Bulk 12  Bulk 13  Bulk 14  Bulk 15  bulk_sum  \n",
       "key                                                                  \n",
       "1        0.0      0.0    206.0      0.0    150.0    154.0     553.0  \n",
       "2        0.0      0.0    206.0      0.0    149.0    154.0     582.0  \n",
       "3        0.0      0.0    205.0      0.0    152.0    153.0     544.0  \n",
       "4        0.0      0.0    207.0      0.0    153.0    154.0     595.0  \n",
       "5        0.0      0.0    203.0      0.0    151.0    152.0     584.0  "
      ]
     },
     "execution_count": 55,
     "metadata": {},
     "output_type": "execute_result"
    }
   ],
   "source": [
    "data_bulk.head()"
   ]
  },
  {
   "cell_type": "markdown",
   "metadata": {},
   "source": [
    "#### Вычисление начала и конца времени замера температуры"
   ]
  },
  {
   "cell_type": "code",
   "execution_count": 56,
   "metadata": {},
   "outputs": [],
   "source": [
    "data_temp_min = data_temp.loc[data_temp.groupby('key')['Время замера'].idxmin()].copy()\n",
    "data_temp_max = data_temp.loc[data_temp.groupby('key')['Время замера'].idxmax()].copy()"
   ]
  },
  {
   "cell_type": "code",
   "execution_count": 57,
   "metadata": {},
   "outputs": [],
   "source": [
    "data_temp_new = data_temp_min.merge(data_temp_max, on='key')"
   ]
  },
  {
   "cell_type": "code",
   "execution_count": 58,
   "metadata": {},
   "outputs": [
    {
     "data": {
      "text/html": [
       "<div>\n",
       "<style scoped>\n",
       "    .dataframe tbody tr th:only-of-type {\n",
       "        vertical-align: middle;\n",
       "    }\n",
       "\n",
       "    .dataframe tbody tr th {\n",
       "        vertical-align: top;\n",
       "    }\n",
       "\n",
       "    .dataframe thead th {\n",
       "        text-align: right;\n",
       "    }\n",
       "</style>\n",
       "<table border=\"1\" class=\"dataframe\">\n",
       "  <thead>\n",
       "    <tr style=\"text-align: right;\">\n",
       "      <th></th>\n",
       "      <th>key</th>\n",
       "      <th>Время замера_x</th>\n",
       "      <th>Температура_x</th>\n",
       "      <th>Время замера_y</th>\n",
       "      <th>Температура_y</th>\n",
       "    </tr>\n",
       "  </thead>\n",
       "  <tbody>\n",
       "    <tr>\n",
       "      <td>0</td>\n",
       "      <td>1</td>\n",
       "      <td>2019-05-03 11:16:18</td>\n",
       "      <td>1571</td>\n",
       "      <td>2019-05-03 11:30:39</td>\n",
       "      <td>1613</td>\n",
       "    </tr>\n",
       "    <tr>\n",
       "      <td>1</td>\n",
       "      <td>2</td>\n",
       "      <td>2019-05-03 11:37:27</td>\n",
       "      <td>1581</td>\n",
       "      <td>2019-05-03 11:59:12</td>\n",
       "      <td>1602</td>\n",
       "    </tr>\n",
       "    <tr>\n",
       "      <td>2</td>\n",
       "      <td>3</td>\n",
       "      <td>2019-05-03 12:13:17</td>\n",
       "      <td>1596</td>\n",
       "      <td>2019-05-03 12:34:57</td>\n",
       "      <td>1599</td>\n",
       "    </tr>\n",
       "    <tr>\n",
       "      <td>3</td>\n",
       "      <td>4</td>\n",
       "      <td>2019-05-03 12:52:57</td>\n",
       "      <td>1601</td>\n",
       "      <td>2019-05-03 12:59:25</td>\n",
       "      <td>1625</td>\n",
       "    </tr>\n",
       "    <tr>\n",
       "      <td>4</td>\n",
       "      <td>5</td>\n",
       "      <td>2019-05-03 13:23:19</td>\n",
       "      <td>1576</td>\n",
       "      <td>2019-05-03 13:36:01</td>\n",
       "      <td>1602</td>\n",
       "    </tr>\n",
       "  </tbody>\n",
       "</table>\n",
       "</div>"
      ],
      "text/plain": [
       "   key      Время замера_x  Температура_x      Время замера_y  Температура_y\n",
       "0    1 2019-05-03 11:16:18           1571 2019-05-03 11:30:39           1613\n",
       "1    2 2019-05-03 11:37:27           1581 2019-05-03 11:59:12           1602\n",
       "2    3 2019-05-03 12:13:17           1596 2019-05-03 12:34:57           1599\n",
       "3    4 2019-05-03 12:52:57           1601 2019-05-03 12:59:25           1625\n",
       "4    5 2019-05-03 13:23:19           1576 2019-05-03 13:36:01           1602"
      ]
     },
     "execution_count": 58,
     "metadata": {},
     "output_type": "execute_result"
    }
   ],
   "source": [
    "data_temp_new.head()"
   ]
  },
  {
   "cell_type": "code",
   "execution_count": 59,
   "metadata": {},
   "outputs": [],
   "source": [
    "data_temp_new.columns=['key', 'Время первого замера','Начальная температура','Время последнего замера','Финальная температура']"
   ]
  },
  {
   "cell_type": "code",
   "execution_count": 60,
   "metadata": {},
   "outputs": [
    {
     "name": "stdout",
     "output_type": "stream",
     "text": [
      "<class 'pandas.core.frame.DataFrame'>\n",
      "Int64Index: 3216 entries, 0 to 3215\n",
      "Data columns (total 5 columns):\n",
      "key                        3216 non-null int64\n",
      "Время первого замера       3216 non-null datetime64[ns]\n",
      "Начальная температура      3216 non-null int64\n",
      "Время последнего замера    3216 non-null datetime64[ns]\n",
      "Финальная температура      3216 non-null int64\n",
      "dtypes: datetime64[ns](2), int64(3)\n",
      "memory usage: 150.8 KB\n"
     ]
    }
   ],
   "source": [
    "data_temp_new.info()"
   ]
  },
  {
   "cell_type": "code",
   "execution_count": 61,
   "metadata": {},
   "outputs": [],
   "source": [
    "data_temp_last = data_temp_new.loc[data_temp_new['Время первого замера'] < data_temp_new['Время последнего замера']]"
   ]
  },
  {
   "cell_type": "code",
   "execution_count": 62,
   "metadata": {},
   "outputs": [
    {
     "name": "stdout",
     "output_type": "stream",
     "text": [
      "<class 'pandas.core.frame.DataFrame'>\n",
      "Int64Index: 2475 entries, 0 to 2476\n",
      "Data columns (total 5 columns):\n",
      "key                        2475 non-null int64\n",
      "Время первого замера       2475 non-null datetime64[ns]\n",
      "Начальная температура      2475 non-null int64\n",
      "Время последнего замера    2475 non-null datetime64[ns]\n",
      "Финальная температура      2475 non-null int64\n",
      "dtypes: datetime64[ns](2), int64(3)\n",
      "memory usage: 116.0 KB\n"
     ]
    }
   ],
   "source": [
    "data_temp_last.info()"
   ]
  },
  {
   "cell_type": "code",
   "execution_count": 63,
   "metadata": {},
   "outputs": [
    {
     "name": "stderr",
     "output_type": "stream",
     "text": [
      "/opt/conda/lib/python3.7/site-packages/ipykernel_launcher.py:1: SettingWithCopyWarning: \n",
      "A value is trying to be set on a copy of a slice from a DataFrame.\n",
      "Try using .loc[row_indexer,col_indexer] = value instead\n",
      "\n",
      "See the caveats in the documentation: http://pandas.pydata.org/pandas-docs/stable/user_guide/indexing.html#returning-a-view-versus-a-copy\n",
      "  \"\"\"Entry point for launching an IPython kernel.\n"
     ]
    }
   ],
   "source": [
    "data_temp_last['Время плавления'] = (data_temp_last['Время первого замера'] - data_temp_last['Время последнего замера']).apply(lambda x: x.seconds)"
   ]
  },
  {
   "cell_type": "code",
   "execution_count": 64,
   "metadata": {},
   "outputs": [
    {
     "data": {
      "text/html": [
       "<div>\n",
       "<style scoped>\n",
       "    .dataframe tbody tr th:only-of-type {\n",
       "        vertical-align: middle;\n",
       "    }\n",
       "\n",
       "    .dataframe tbody tr th {\n",
       "        vertical-align: top;\n",
       "    }\n",
       "\n",
       "    .dataframe thead th {\n",
       "        text-align: right;\n",
       "    }\n",
       "</style>\n",
       "<table border=\"1\" class=\"dataframe\">\n",
       "  <thead>\n",
       "    <tr style=\"text-align: right;\">\n",
       "      <th></th>\n",
       "      <th>key</th>\n",
       "      <th>Время первого замера</th>\n",
       "      <th>Начальная температура</th>\n",
       "      <th>Время последнего замера</th>\n",
       "      <th>Финальная температура</th>\n",
       "      <th>Время плавления</th>\n",
       "    </tr>\n",
       "  </thead>\n",
       "  <tbody>\n",
       "    <tr>\n",
       "      <td>0</td>\n",
       "      <td>1</td>\n",
       "      <td>2019-05-03 11:16:18</td>\n",
       "      <td>1571</td>\n",
       "      <td>2019-05-03 11:30:39</td>\n",
       "      <td>1613</td>\n",
       "      <td>85539</td>\n",
       "    </tr>\n",
       "    <tr>\n",
       "      <td>1</td>\n",
       "      <td>2</td>\n",
       "      <td>2019-05-03 11:37:27</td>\n",
       "      <td>1581</td>\n",
       "      <td>2019-05-03 11:59:12</td>\n",
       "      <td>1602</td>\n",
       "      <td>85095</td>\n",
       "    </tr>\n",
       "    <tr>\n",
       "      <td>2</td>\n",
       "      <td>3</td>\n",
       "      <td>2019-05-03 12:13:17</td>\n",
       "      <td>1596</td>\n",
       "      <td>2019-05-03 12:34:57</td>\n",
       "      <td>1599</td>\n",
       "      <td>85100</td>\n",
       "    </tr>\n",
       "    <tr>\n",
       "      <td>3</td>\n",
       "      <td>4</td>\n",
       "      <td>2019-05-03 12:52:57</td>\n",
       "      <td>1601</td>\n",
       "      <td>2019-05-03 12:59:25</td>\n",
       "      <td>1625</td>\n",
       "      <td>86012</td>\n",
       "    </tr>\n",
       "    <tr>\n",
       "      <td>4</td>\n",
       "      <td>5</td>\n",
       "      <td>2019-05-03 13:23:19</td>\n",
       "      <td>1576</td>\n",
       "      <td>2019-05-03 13:36:01</td>\n",
       "      <td>1602</td>\n",
       "      <td>85638</td>\n",
       "    </tr>\n",
       "  </tbody>\n",
       "</table>\n",
       "</div>"
      ],
      "text/plain": [
       "   key Время первого замера  Начальная температура Время последнего замера  \\\n",
       "0    1  2019-05-03 11:16:18                   1571     2019-05-03 11:30:39   \n",
       "1    2  2019-05-03 11:37:27                   1581     2019-05-03 11:59:12   \n",
       "2    3  2019-05-03 12:13:17                   1596     2019-05-03 12:34:57   \n",
       "3    4  2019-05-03 12:52:57                   1601     2019-05-03 12:59:25   \n",
       "4    5  2019-05-03 13:23:19                   1576     2019-05-03 13:36:01   \n",
       "\n",
       "   Финальная температура  Время плавления  \n",
       "0                   1613            85539  \n",
       "1                   1602            85095  \n",
       "2                   1599            85100  \n",
       "3                   1625            86012  \n",
       "4                   1602            85638  "
      ]
     },
     "execution_count": 64,
     "metadata": {},
     "output_type": "execute_result"
    }
   ],
   "source": [
    "data_temp_last.head()"
   ]
  },
  {
   "cell_type": "markdown",
   "metadata": {},
   "source": [
    " <div style=\"background: #cceeaa; padding: 5px; border: 1px solid green; border-radius: 5px;\">\n",
    "    <font color='green'> <b><u>КОММЕНТАРИЙ РЕВЬЮЕРА</u></b>\n",
    "</font>\n",
    "<font color='green'><br>\n",
    "чётко. Единственное - время плавления в виде числа, видимо... сложно воспринимать будет всем)"
   ]
  },
  {
   "cell_type": "markdown",
   "metadata": {},
   "source": [
    "## Формирование единого дата фрейма, обучающей и тестовой выборки"
   ]
  },
  {
   "cell_type": "markdown",
   "metadata": {},
   "source": [
    "Поскольку в data_temp_last находится целевой признак, то все остальные значения будем присоединять к нему по ключу \"key\""
   ]
  },
  {
   "cell_type": "code",
   "execution_count": 65,
   "metadata": {},
   "outputs": [],
   "source": [
    "data =  data_temp_last.merge(data_gas, on='key', how='left')"
   ]
  },
  {
   "cell_type": "code",
   "execution_count": 66,
   "metadata": {},
   "outputs": [
    {
     "data": {
      "text/html": [
       "<div>\n",
       "<style scoped>\n",
       "    .dataframe tbody tr th:only-of-type {\n",
       "        vertical-align: middle;\n",
       "    }\n",
       "\n",
       "    .dataframe tbody tr th {\n",
       "        vertical-align: top;\n",
       "    }\n",
       "\n",
       "    .dataframe thead th {\n",
       "        text-align: right;\n",
       "    }\n",
       "</style>\n",
       "<table border=\"1\" class=\"dataframe\">\n",
       "  <thead>\n",
       "    <tr style=\"text-align: right;\">\n",
       "      <th></th>\n",
       "      <th>key</th>\n",
       "      <th>Время первого замера</th>\n",
       "      <th>Начальная температура</th>\n",
       "      <th>Время последнего замера</th>\n",
       "      <th>Финальная температура</th>\n",
       "      <th>Время плавления</th>\n",
       "      <th>Объем газа</th>\n",
       "    </tr>\n",
       "  </thead>\n",
       "  <tbody>\n",
       "    <tr>\n",
       "      <td>0</td>\n",
       "      <td>1</td>\n",
       "      <td>2019-05-03 11:16:18</td>\n",
       "      <td>1571</td>\n",
       "      <td>2019-05-03 11:30:39</td>\n",
       "      <td>1613</td>\n",
       "      <td>85539</td>\n",
       "      <td>29.749986</td>\n",
       "    </tr>\n",
       "    <tr>\n",
       "      <td>1</td>\n",
       "      <td>2</td>\n",
       "      <td>2019-05-03 11:37:27</td>\n",
       "      <td>1581</td>\n",
       "      <td>2019-05-03 11:59:12</td>\n",
       "      <td>1602</td>\n",
       "      <td>85095</td>\n",
       "      <td>12.555561</td>\n",
       "    </tr>\n",
       "    <tr>\n",
       "      <td>2</td>\n",
       "      <td>3</td>\n",
       "      <td>2019-05-03 12:13:17</td>\n",
       "      <td>1596</td>\n",
       "      <td>2019-05-03 12:34:57</td>\n",
       "      <td>1599</td>\n",
       "      <td>85100</td>\n",
       "      <td>28.554793</td>\n",
       "    </tr>\n",
       "    <tr>\n",
       "      <td>3</td>\n",
       "      <td>4</td>\n",
       "      <td>2019-05-03 12:52:57</td>\n",
       "      <td>1601</td>\n",
       "      <td>2019-05-03 12:59:25</td>\n",
       "      <td>1625</td>\n",
       "      <td>86012</td>\n",
       "      <td>18.841219</td>\n",
       "    </tr>\n",
       "    <tr>\n",
       "      <td>4</td>\n",
       "      <td>5</td>\n",
       "      <td>2019-05-03 13:23:19</td>\n",
       "      <td>1576</td>\n",
       "      <td>2019-05-03 13:36:01</td>\n",
       "      <td>1602</td>\n",
       "      <td>85638</td>\n",
       "      <td>5.413692</td>\n",
       "    </tr>\n",
       "  </tbody>\n",
       "</table>\n",
       "</div>"
      ],
      "text/plain": [
       "   key Время первого замера  Начальная температура Время последнего замера  \\\n",
       "0    1  2019-05-03 11:16:18                   1571     2019-05-03 11:30:39   \n",
       "1    2  2019-05-03 11:37:27                   1581     2019-05-03 11:59:12   \n",
       "2    3  2019-05-03 12:13:17                   1596     2019-05-03 12:34:57   \n",
       "3    4  2019-05-03 12:52:57                   1601     2019-05-03 12:59:25   \n",
       "4    5  2019-05-03 13:23:19                   1576     2019-05-03 13:36:01   \n",
       "\n",
       "   Финальная температура  Время плавления  Объем газа  \n",
       "0                   1613            85539   29.749986  \n",
       "1                   1602            85095   12.555561  \n",
       "2                   1599            85100   28.554793  \n",
       "3                   1625            86012   18.841219  \n",
       "4                   1602            85638    5.413692  "
      ]
     },
     "execution_count": 66,
     "metadata": {},
     "output_type": "execute_result"
    }
   ],
   "source": [
    "data.head()"
   ]
  },
  {
   "cell_type": "code",
   "execution_count": 67,
   "metadata": {},
   "outputs": [
    {
     "name": "stdout",
     "output_type": "stream",
     "text": [
      "<class 'pandas.core.frame.DataFrame'>\n",
      "Int64Index: 2475 entries, 0 to 2474\n",
      "Data columns (total 7 columns):\n",
      "key                        2475 non-null int64\n",
      "Время первого замера       2475 non-null datetime64[ns]\n",
      "Начальная температура      2475 non-null int64\n",
      "Время последнего замера    2475 non-null datetime64[ns]\n",
      "Финальная температура      2475 non-null int64\n",
      "Время плавления            2475 non-null int64\n",
      "Объем газа                 2473 non-null float64\n",
      "dtypes: datetime64[ns](2), float64(1), int64(4)\n",
      "memory usage: 154.7 KB\n"
     ]
    }
   ],
   "source": [
    "data.info()"
   ]
  },
  {
   "cell_type": "code",
   "execution_count": 68,
   "metadata": {},
   "outputs": [
    {
     "data": {
      "text/html": [
       "<div>\n",
       "<style scoped>\n",
       "    .dataframe tbody tr th:only-of-type {\n",
       "        vertical-align: middle;\n",
       "    }\n",
       "\n",
       "    .dataframe tbody tr th {\n",
       "        vertical-align: top;\n",
       "    }\n",
       "\n",
       "    .dataframe thead th {\n",
       "        text-align: right;\n",
       "    }\n",
       "</style>\n",
       "<table border=\"1\" class=\"dataframe\">\n",
       "  <thead>\n",
       "    <tr style=\"text-align: right;\">\n",
       "      <th></th>\n",
       "      <th>key</th>\n",
       "      <th>Полная мощность</th>\n",
       "    </tr>\n",
       "  </thead>\n",
       "  <tbody>\n",
       "    <tr>\n",
       "      <td>0</td>\n",
       "      <td>1</td>\n",
       "      <td>5.826395</td>\n",
       "    </tr>\n",
       "    <tr>\n",
       "      <td>1</td>\n",
       "      <td>2</td>\n",
       "      <td>3.649216</td>\n",
       "    </tr>\n",
       "    <tr>\n",
       "      <td>2</td>\n",
       "      <td>3</td>\n",
       "      <td>2.989534</td>\n",
       "    </tr>\n",
       "    <tr>\n",
       "      <td>3</td>\n",
       "      <td>4</td>\n",
       "      <td>3.814962</td>\n",
       "    </tr>\n",
       "    <tr>\n",
       "      <td>4</td>\n",
       "      <td>5</td>\n",
       "      <td>4.035758</td>\n",
       "    </tr>\n",
       "    <tr>\n",
       "      <td>...</td>\n",
       "      <td>...</td>\n",
       "      <td>...</td>\n",
       "    </tr>\n",
       "    <tr>\n",
       "      <td>3209</td>\n",
       "      <td>3237</td>\n",
       "      <td>4.844982</td>\n",
       "    </tr>\n",
       "    <tr>\n",
       "      <td>3210</td>\n",
       "      <td>3238</td>\n",
       "      <td>2.696542</td>\n",
       "    </tr>\n",
       "    <tr>\n",
       "      <td>3211</td>\n",
       "      <td>3239</td>\n",
       "      <td>5.611883</td>\n",
       "    </tr>\n",
       "    <tr>\n",
       "      <td>3212</td>\n",
       "      <td>3240</td>\n",
       "      <td>3.891856</td>\n",
       "    </tr>\n",
       "    <tr>\n",
       "      <td>3213</td>\n",
       "      <td>3241</td>\n",
       "      <td>2.999516</td>\n",
       "    </tr>\n",
       "  </tbody>\n",
       "</table>\n",
       "<p>3214 rows × 2 columns</p>\n",
       "</div>"
      ],
      "text/plain": [
       "       key  Полная мощность\n",
       "0        1         5.826395\n",
       "1        2         3.649216\n",
       "2        3         2.989534\n",
       "3        4         3.814962\n",
       "4        5         4.035758\n",
       "...    ...              ...\n",
       "3209  3237         4.844982\n",
       "3210  3238         2.696542\n",
       "3211  3239         5.611883\n",
       "3212  3240         3.891856\n",
       "3213  3241         2.999516\n",
       "\n",
       "[3214 rows x 2 columns]"
      ]
     },
     "execution_count": 68,
     "metadata": {},
     "output_type": "execute_result"
    }
   ],
   "source": [
    "data_arc_new.reset_index()"
   ]
  },
  {
   "cell_type": "code",
   "execution_count": 69,
   "metadata": {},
   "outputs": [
    {
     "name": "stdout",
     "output_type": "stream",
     "text": [
      "<class 'pandas.core.frame.DataFrame'>\n",
      "Int64Index: 2475 entries, 0 to 2474\n",
      "Data columns (total 8 columns):\n",
      "key                        2475 non-null int64\n",
      "Время первого замера       2475 non-null datetime64[ns]\n",
      "Начальная температура      2475 non-null int64\n",
      "Время последнего замера    2475 non-null datetime64[ns]\n",
      "Финальная температура      2475 non-null int64\n",
      "Время плавления            2475 non-null int64\n",
      "Объем газа                 2473 non-null float64\n",
      "Полная мощность            2475 non-null float64\n",
      "dtypes: datetime64[ns](2), float64(2), int64(4)\n",
      "memory usage: 174.0 KB\n"
     ]
    }
   ],
   "source": [
    "data =  data.merge(data_arc_new, on='key', how='left')\n",
    "data.info()"
   ]
  },
  {
   "cell_type": "code",
   "execution_count": 70,
   "metadata": {},
   "outputs": [
    {
     "name": "stdout",
     "output_type": "stream",
     "text": [
      "<class 'pandas.core.frame.DataFrame'>\n",
      "Int64Index: 2475 entries, 0 to 2474\n",
      "Data columns (total 9 columns):\n",
      "key                        2475 non-null int64\n",
      "Время первого замера       2475 non-null datetime64[ns]\n",
      "Начальная температура      2475 non-null int64\n",
      "Время последнего замера    2475 non-null datetime64[ns]\n",
      "Финальная температура      2475 non-null int64\n",
      "Время плавления            2475 non-null int64\n",
      "Объем газа                 2473 non-null float64\n",
      "Полная мощность            2475 non-null float64\n",
      "wire_sum                   2372 non-null float64\n",
      "dtypes: datetime64[ns](2), float64(3), int64(4)\n",
      "memory usage: 193.4 KB\n"
     ]
    }
   ],
   "source": [
    "data_wire.reset_index()\n",
    "data =  data.merge(data_wire['wire_sum'], on='key', how='left')\n",
    "data.info()"
   ]
  },
  {
   "cell_type": "code",
   "execution_count": 71,
   "metadata": {},
   "outputs": [
    {
     "name": "stdout",
     "output_type": "stream",
     "text": [
      "<class 'pandas.core.frame.DataFrame'>\n",
      "Int64Index: 2475 entries, 0 to 2474\n",
      "Data columns (total 10 columns):\n",
      "key                        2475 non-null int64\n",
      "Время первого замера       2475 non-null datetime64[ns]\n",
      "Начальная температура      2475 non-null int64\n",
      "Время последнего замера    2475 non-null datetime64[ns]\n",
      "Финальная температура      2475 non-null int64\n",
      "Время плавления            2475 non-null int64\n",
      "Объем газа                 2473 non-null float64\n",
      "Полная мощность            2475 non-null float64\n",
      "wire_sum                   2372 non-null float64\n",
      "bulk_sum                   2407 non-null float64\n",
      "dtypes: datetime64[ns](2), float64(4), int64(4)\n",
      "memory usage: 212.7 KB\n"
     ]
    }
   ],
   "source": [
    "data_bulk.reset_index()\n",
    "data =  data.merge(data_bulk['bulk_sum'], on='key', how='left')\n",
    "data.info()"
   ]
  },
  {
   "cell_type": "code",
   "execution_count": 72,
   "metadata": {},
   "outputs": [],
   "source": [
    "data.columns = ['key','Время первого замера','Начальная температура','Время последнего замера','Финальная температура',\n",
    "                'Время плавления', 'Объем газа', 'Полная мощность', 'Объем проволочных материалов', 'Объем сыпучих материалов']"
   ]
  },
  {
   "cell_type": "code",
   "execution_count": 73,
   "metadata": {},
   "outputs": [
    {
     "data": {
      "text/plain": [
       "key                               0\n",
       "Время первого замера              0\n",
       "Начальная температура             0\n",
       "Время последнего замера           0\n",
       "Финальная температура             0\n",
       "Время плавления                   0\n",
       "Объем газа                        2\n",
       "Полная мощность                   0\n",
       "Объем проволочных материалов    103\n",
       "Объем сыпучих материалов         68\n",
       "dtype: int64"
      ]
     },
     "execution_count": 73,
     "metadata": {},
     "output_type": "execute_result"
    }
   ],
   "source": [
    "data.isnull().sum()"
   ]
  },
  {
   "cell_type": "markdown",
   "metadata": {},
   "source": [
    "При обсуждении NaN c ТЛ было определено, что эти данные в примесях можно заменить на 0. Т.е. добавления примесей не было. Поэтому заменим все получившиеся пропуски еще раз на 0."
   ]
  },
  {
   "cell_type": "code",
   "execution_count": 74,
   "metadata": {},
   "outputs": [],
   "source": [
    "data.fillna(0, inplace=True)"
   ]
  },
  {
   "cell_type": "code",
   "execution_count": 75,
   "metadata": {},
   "outputs": [
    {
     "data": {
      "text/plain": [
       "key                             0\n",
       "Время первого замера            0\n",
       "Начальная температура           0\n",
       "Время последнего замера         0\n",
       "Финальная температура           0\n",
       "Время плавления                 0\n",
       "Объем газа                      0\n",
       "Полная мощность                 0\n",
       "Объем проволочных материалов    0\n",
       "Объем сыпучих материалов        0\n",
       "dtype: int64"
      ]
     },
     "execution_count": 75,
     "metadata": {},
     "output_type": "execute_result"
    }
   ],
   "source": [
    "data.isnull().sum()"
   ]
  },
  {
   "cell_type": "code",
   "execution_count": 76,
   "metadata": {},
   "outputs": [
    {
     "data": {
      "text/html": [
       "<div>\n",
       "<style scoped>\n",
       "    .dataframe tbody tr th:only-of-type {\n",
       "        vertical-align: middle;\n",
       "    }\n",
       "\n",
       "    .dataframe tbody tr th {\n",
       "        vertical-align: top;\n",
       "    }\n",
       "\n",
       "    .dataframe thead th {\n",
       "        text-align: right;\n",
       "    }\n",
       "</style>\n",
       "<table border=\"1\" class=\"dataframe\">\n",
       "  <thead>\n",
       "    <tr style=\"text-align: right;\">\n",
       "      <th></th>\n",
       "      <th>key</th>\n",
       "      <th>Время первого замера</th>\n",
       "      <th>Начальная температура</th>\n",
       "      <th>Время последнего замера</th>\n",
       "      <th>Финальная температура</th>\n",
       "      <th>Время плавления</th>\n",
       "      <th>Объем газа</th>\n",
       "      <th>Полная мощность</th>\n",
       "      <th>Объем проволочных материалов</th>\n",
       "      <th>Объем сыпучих материалов</th>\n",
       "    </tr>\n",
       "  </thead>\n",
       "  <tbody>\n",
       "    <tr>\n",
       "      <td>0</td>\n",
       "      <td>1</td>\n",
       "      <td>2019-05-03 11:16:18</td>\n",
       "      <td>1571</td>\n",
       "      <td>2019-05-03 11:30:39</td>\n",
       "      <td>1613</td>\n",
       "      <td>85539</td>\n",
       "      <td>29.749986</td>\n",
       "      <td>5.826395</td>\n",
       "      <td>60.059998</td>\n",
       "      <td>553.0</td>\n",
       "    </tr>\n",
       "    <tr>\n",
       "      <td>1</td>\n",
       "      <td>2</td>\n",
       "      <td>2019-05-03 11:37:27</td>\n",
       "      <td>1581</td>\n",
       "      <td>2019-05-03 11:59:12</td>\n",
       "      <td>1602</td>\n",
       "      <td>85095</td>\n",
       "      <td>12.555561</td>\n",
       "      <td>3.649216</td>\n",
       "      <td>96.052315</td>\n",
       "      <td>582.0</td>\n",
       "    </tr>\n",
       "    <tr>\n",
       "      <td>2</td>\n",
       "      <td>3</td>\n",
       "      <td>2019-05-03 12:13:17</td>\n",
       "      <td>1596</td>\n",
       "      <td>2019-05-03 12:34:57</td>\n",
       "      <td>1599</td>\n",
       "      <td>85100</td>\n",
       "      <td>28.554793</td>\n",
       "      <td>2.989534</td>\n",
       "      <td>91.160157</td>\n",
       "      <td>544.0</td>\n",
       "    </tr>\n",
       "    <tr>\n",
       "      <td>3</td>\n",
       "      <td>4</td>\n",
       "      <td>2019-05-03 12:52:57</td>\n",
       "      <td>1601</td>\n",
       "      <td>2019-05-03 12:59:25</td>\n",
       "      <td>1625</td>\n",
       "      <td>86012</td>\n",
       "      <td>18.841219</td>\n",
       "      <td>3.814962</td>\n",
       "      <td>89.063515</td>\n",
       "      <td>595.0</td>\n",
       "    </tr>\n",
       "    <tr>\n",
       "      <td>4</td>\n",
       "      <td>5</td>\n",
       "      <td>2019-05-03 13:23:19</td>\n",
       "      <td>1576</td>\n",
       "      <td>2019-05-03 13:36:01</td>\n",
       "      <td>1602</td>\n",
       "      <td>85638</td>\n",
       "      <td>5.413692</td>\n",
       "      <td>4.035758</td>\n",
       "      <td>98.352796</td>\n",
       "      <td>584.0</td>\n",
       "    </tr>\n",
       "  </tbody>\n",
       "</table>\n",
       "</div>"
      ],
      "text/plain": [
       "   key Время первого замера  Начальная температура Время последнего замера  \\\n",
       "0    1  2019-05-03 11:16:18                   1571     2019-05-03 11:30:39   \n",
       "1    2  2019-05-03 11:37:27                   1581     2019-05-03 11:59:12   \n",
       "2    3  2019-05-03 12:13:17                   1596     2019-05-03 12:34:57   \n",
       "3    4  2019-05-03 12:52:57                   1601     2019-05-03 12:59:25   \n",
       "4    5  2019-05-03 13:23:19                   1576     2019-05-03 13:36:01   \n",
       "\n",
       "   Финальная температура  Время плавления  Объем газа  Полная мощность  \\\n",
       "0                   1613            85539   29.749986         5.826395   \n",
       "1                   1602            85095   12.555561         3.649216   \n",
       "2                   1599            85100   28.554793         2.989534   \n",
       "3                   1625            86012   18.841219         3.814962   \n",
       "4                   1602            85638    5.413692         4.035758   \n",
       "\n",
       "   Объем проволочных материалов  Объем сыпучих материалов  \n",
       "0                     60.059998                     553.0  \n",
       "1                     96.052315                     582.0  \n",
       "2                     91.160157                     544.0  \n",
       "3                     89.063515                     595.0  \n",
       "4                     98.352796                     584.0  "
      ]
     },
     "execution_count": 76,
     "metadata": {},
     "output_type": "execute_result"
    }
   ],
   "source": [
    "data.head()"
   ]
  },
  {
   "cell_type": "markdown",
   "metadata": {},
   "source": [
    "Чтобы избавиться от ошибки \"Do not support non-ASCII characters in feature name.\" переведем все столбцы в латиницу."
   ]
  },
  {
   "cell_type": "code",
   "execution_count": 77,
   "metadata": {},
   "outputs": [],
   "source": [
    "data.columns = ['key','time_start','temp_start','time_finish',\n",
    "                'temp_finish','melting_time','gas_volume','full_power','wire_materials','bulk_materials']"
   ]
  },
  {
   "cell_type": "markdown",
   "metadata": {},
   "source": [
    "Разобьем полученные значения на обучающую и тестовую выборку. \n",
    "\n",
    "В features попадут:\n",
    "\n",
    "    1) Начальная температура\n",
    "    2) Время плавления\n",
    "    3) Объем газа\n",
    "    4) Суммарная полная мощность\n",
    "    5) Суммарный объем сыпучих материалов\n",
    "    6) Суммарный объем проволочных материалов\n",
    "   \n",
    "В target, исходя из цели берем:\n",
    "    \n",
    "    1)Финальная температура\n",
    "    \n",
    "    \n"
   ]
  },
  {
   "cell_type": "code",
   "execution_count": 84,
   "metadata": {},
   "outputs": [
    {
     "data": {
      "text/html": [
       "<div>\n",
       "<style scoped>\n",
       "    .dataframe tbody tr th:only-of-type {\n",
       "        vertical-align: middle;\n",
       "    }\n",
       "\n",
       "    .dataframe tbody tr th {\n",
       "        vertical-align: top;\n",
       "    }\n",
       "\n",
       "    .dataframe thead th {\n",
       "        text-align: right;\n",
       "    }\n",
       "</style>\n",
       "<table border=\"1\" class=\"dataframe\">\n",
       "  <thead>\n",
       "    <tr style=\"text-align: right;\">\n",
       "      <th></th>\n",
       "      <th>temp_start</th>\n",
       "      <th>melting_time</th>\n",
       "      <th>gas_volume</th>\n",
       "      <th>full_power</th>\n",
       "      <th>wire_materials</th>\n",
       "      <th>bulk_materials</th>\n",
       "    </tr>\n",
       "  </thead>\n",
       "  <tbody>\n",
       "    <tr>\n",
       "      <td>0</td>\n",
       "      <td>1571</td>\n",
       "      <td>85539</td>\n",
       "      <td>29.749986</td>\n",
       "      <td>5.826395</td>\n",
       "      <td>60.059998</td>\n",
       "      <td>553.0</td>\n",
       "    </tr>\n",
       "    <tr>\n",
       "      <td>1</td>\n",
       "      <td>1581</td>\n",
       "      <td>85095</td>\n",
       "      <td>12.555561</td>\n",
       "      <td>3.649216</td>\n",
       "      <td>96.052315</td>\n",
       "      <td>582.0</td>\n",
       "    </tr>\n",
       "    <tr>\n",
       "      <td>2</td>\n",
       "      <td>1596</td>\n",
       "      <td>85100</td>\n",
       "      <td>28.554793</td>\n",
       "      <td>2.989534</td>\n",
       "      <td>91.160157</td>\n",
       "      <td>544.0</td>\n",
       "    </tr>\n",
       "    <tr>\n",
       "      <td>3</td>\n",
       "      <td>1601</td>\n",
       "      <td>86012</td>\n",
       "      <td>18.841219</td>\n",
       "      <td>3.814962</td>\n",
       "      <td>89.063515</td>\n",
       "      <td>595.0</td>\n",
       "    </tr>\n",
       "    <tr>\n",
       "      <td>4</td>\n",
       "      <td>1576</td>\n",
       "      <td>85638</td>\n",
       "      <td>5.413692</td>\n",
       "      <td>4.035758</td>\n",
       "      <td>98.352796</td>\n",
       "      <td>584.0</td>\n",
       "    </tr>\n",
       "    <tr>\n",
       "      <td>...</td>\n",
       "      <td>...</td>\n",
       "      <td>...</td>\n",
       "      <td>...</td>\n",
       "      <td>...</td>\n",
       "      <td>...</td>\n",
       "      <td>...</td>\n",
       "    </tr>\n",
       "    <tr>\n",
       "      <td>2470</td>\n",
       "      <td>1570</td>\n",
       "      <td>85263</td>\n",
       "      <td>7.125735</td>\n",
       "      <td>3.986869</td>\n",
       "      <td>89.150879</td>\n",
       "      <td>719.0</td>\n",
       "    </tr>\n",
       "    <tr>\n",
       "      <td>2471</td>\n",
       "      <td>1554</td>\n",
       "      <td>84782</td>\n",
       "      <td>9.412616</td>\n",
       "      <td>5.057033</td>\n",
       "      <td>114.179527</td>\n",
       "      <td>796.0</td>\n",
       "    </tr>\n",
       "    <tr>\n",
       "      <td>2472</td>\n",
       "      <td>1571</td>\n",
       "      <td>85683</td>\n",
       "      <td>6.271699</td>\n",
       "      <td>2.885017</td>\n",
       "      <td>103.134723</td>\n",
       "      <td>665.0</td>\n",
       "    </tr>\n",
       "    <tr>\n",
       "      <td>2473</td>\n",
       "      <td>1591</td>\n",
       "      <td>85098</td>\n",
       "      <td>14.953657</td>\n",
       "      <td>4.143749</td>\n",
       "      <td>118.110717</td>\n",
       "      <td>733.0</td>\n",
       "    </tr>\n",
       "    <tr>\n",
       "      <td>2474</td>\n",
       "      <td>1569</td>\n",
       "      <td>85197</td>\n",
       "      <td>11.336151</td>\n",
       "      <td>4.953010</td>\n",
       "      <td>160.166238</td>\n",
       "      <td>633.0</td>\n",
       "    </tr>\n",
       "  </tbody>\n",
       "</table>\n",
       "<p>2475 rows × 6 columns</p>\n",
       "</div>"
      ],
      "text/plain": [
       "      temp_start  melting_time  gas_volume  full_power  wire_materials  \\\n",
       "0           1571         85539   29.749986    5.826395       60.059998   \n",
       "1           1581         85095   12.555561    3.649216       96.052315   \n",
       "2           1596         85100   28.554793    2.989534       91.160157   \n",
       "3           1601         86012   18.841219    3.814962       89.063515   \n",
       "4           1576         85638    5.413692    4.035758       98.352796   \n",
       "...          ...           ...         ...         ...             ...   \n",
       "2470        1570         85263    7.125735    3.986869       89.150879   \n",
       "2471        1554         84782    9.412616    5.057033      114.179527   \n",
       "2472        1571         85683    6.271699    2.885017      103.134723   \n",
       "2473        1591         85098   14.953657    4.143749      118.110717   \n",
       "2474        1569         85197   11.336151    4.953010      160.166238   \n",
       "\n",
       "      bulk_materials  \n",
       "0              553.0  \n",
       "1              582.0  \n",
       "2              544.0  \n",
       "3              595.0  \n",
       "4              584.0  \n",
       "...              ...  \n",
       "2470           719.0  \n",
       "2471           796.0  \n",
       "2472           665.0  \n",
       "2473           733.0  \n",
       "2474           633.0  \n",
       "\n",
       "[2475 rows x 6 columns]"
      ]
     },
     "execution_count": 84,
     "metadata": {},
     "output_type": "execute_result"
    }
   ],
   "source": [
    "data[['temp_start','melting_time','gas_volume',\n",
    "                                          'full_power','wire_materials','bulk_materials']]"
   ]
  },
  {
   "cell_type": "code",
   "execution_count": 78,
   "metadata": {},
   "outputs": [],
   "source": [
    "features_train, features_test, target_train, target_test  = train_test_split(\n",
    "                                    data[['temp_start','melting_time','gas_volume',\n",
    "                                          'full_power','wire_materials','bulk_materials']], \n",
    "                                    data['temp_finish'],\n",
    "                                    test_size=0.2, random_state = 12345)"
   ]
  },
  {
   "cell_type": "code",
   "execution_count": 79,
   "metadata": {},
   "outputs": [
    {
     "name": "stdout",
     "output_type": "stream",
     "text": [
      "(1980, 6) (1980,) (495, 6) (495,)\n"
     ]
    }
   ],
   "source": [
    "#проверим размерность\n",
    "print( features_train.shape, target_train.shape, features_test.shape,  target_test.shape )"
   ]
  },
  {
   "cell_type": "markdown",
   "metadata": {},
   "source": [
    "Выборки для обучения моделей сформированы. Можно приступать к её реализации. Исходя из встречи с ТЛ определили предпочитаемые для обучения модели:\n",
    "    \n",
    "    1) RandomForestRegressor\n",
    "    2) LGBM\n",
    "    3) CatBoostRegressor\n",
    "    \n",
    "    \n",
    "И естественно сделаем проверку с Dummy моделью.\n",
    "    "
   ]
  },
  {
   "cell_type": "markdown",
   "metadata": {},
   "source": [
    " <div style=\"background: #cceeaa; padding: 5px; border: 1px solid green; border-radius: 5px;\">\n",
    "    <font color='green'> <b><u>КОММЕНТАРИЙ РЕВЬЮЕРА</u></b>\n",
    "</font>\n",
    "<font color='green'><br>\n",
    "таааак, с табличкой всё в тему вышло). Важно, что удалил лишние факторы. Как и писал - со значением температуры только сложнова-то воспринимать."
   ]
  },
  {
   "cell_type": "markdown",
   "metadata": {},
   "source": [
    "## Обучение и тестирование моделей"
   ]
  },
  {
   "cell_type": "markdown",
   "metadata": {},
   "source": [
    "### Dummy"
   ]
  },
  {
   "cell_type": "code",
   "execution_count": 80,
   "metadata": {},
   "outputs": [
    {
     "name": "stdout",
     "output_type": "stream",
     "text": [
      "Качество модели Dummy на тренировочной выборке: 9.96\n",
      "Качество модели Dummy на тестовой выборке: 9.64\n"
     ]
    }
   ],
   "source": [
    "dummy_model = DummyRegressor(strategy='median')\n",
    "dummy_model.fit(features_train, target_train)\n",
    "dummy_model_predict_train = dummy_model.predict(features_train)\n",
    "dummy_model_predict_test = dummy_model.predict(features_test)\n",
    "\n",
    "dummy_mae_train = mean_absolute_error(target_train, dummy_model_predict_train)\n",
    "dummy_mae_test = mean_absolute_error(target_test, dummy_model_predict_test)\n",
    "\n",
    "print('Качество модели Dummy на тренировочной выборке: {:.2f}'.format(dummy_mae_train))\n",
    "print('Качество модели Dummy на тестовой выборке: {:.2f}'.format(dummy_mae_test))"
   ]
  },
  {
   "cell_type": "markdown",
   "metadata": {},
   "source": [
    " <div style=\"background: #cceeaa; padding: 5px; border: 1px solid green; border-radius: 5px;\">\n",
    "    <font color='green'> <b><u>КОММЕНТАРИЙ РЕВЬЮЕРА</u></b>\n",
    "</font>\n",
    "<font color='green'><br>\n",
    "ориентир задан."
   ]
  },
  {
   "cell_type": "markdown",
   "metadata": {},
   "source": [
    "### RandomForestRegressor"
   ]
  },
  {
   "cell_type": "code",
   "execution_count": 81,
   "metadata": {},
   "outputs": [
    {
     "name": "stdout",
     "output_type": "stream",
     "text": [
      "Fitting 5 folds for each of 36 candidates, totalling 180 fits\n"
     ]
    },
    {
     "name": "stderr",
     "output_type": "stream",
     "text": [
      "[Parallel(n_jobs=10)]: Using backend LokyBackend with 10 concurrent workers.\n",
      "[Parallel(n_jobs=10)]: Done  30 tasks      | elapsed:  2.4min\n",
      "[Parallel(n_jobs=10)]: Done 180 out of 180 | elapsed:  7.2min finished\n"
     ]
    },
    {
     "name": "stdout",
     "output_type": "stream",
     "text": [
      "Лучшие подобранные параметры для модели RandomForestRegressor: {'max_depth': 14, 'min_samples_leaf': 2, 'n_estimators': 250}\n",
      "\n",
      "Качество модели RandomForest на тренировочной выборке: 6.39\n",
      "Качество модели RandomForest на тестовой выборке: 6.36\n",
      "\n",
      "CPU times: user 2.66 s, sys: 161 ms, total: 2.82 s\n",
      "Wall time: 7min 16s\n"
     ]
    }
   ],
   "source": [
    "%%time\n",
    "RF = RandomForestRegressor(random_state = 12345)\n",
    "\n",
    "params_RF = {    \n",
    "    'max_depth': range(14, 20, 2),\n",
    "    'n_estimators': range(140, 260, 10),\n",
    "    'min_samples_leaf' : [2]   \n",
    "}\n",
    "\n",
    "model_RandomForest = GridSearchCV(RF, params_RF, \n",
    "                                  scoring = 'neg_mean_absolute_error',\n",
    "                                  cv=5, return_train_score=True, verbose=1,n_jobs = 10)\n",
    "\n",
    "model_RandomForest.fit(features_train, target_train)      \n",
    "print('Лучшие подобранные параметры для модели RandomForestRegressor:', model_RandomForest.best_params_)\n",
    "print()\n",
    "\n",
    "RandomForest_mae_train = model_RandomForest.best_score_  * -1\n",
    "RandomForest_mae_test = mean_absolute_error(target_test, model_RandomForest.predict(features_test))\n",
    "\n",
    "print('Качество модели RandomForest на тренировочной выборке: {:.2f}'.format(RandomForest_mae_train))\n",
    "print('Качество модели RandomForest на тестовой выборке: {:.2f}'.format(RandomForest_mae_test))\n",
    "print()"
   ]
  },
  {
   "cell_type": "markdown",
   "metadata": {},
   "source": [
    "### LGBMRegressor"
   ]
  },
  {
   "cell_type": "markdown",
   "metadata": {},
   "source": [
    "С целью сокращения времени обучения модели, были просчитаны лучшие параметры и зафиксированы:\n",
    "\n",
    "      'boosting_type': 'gbdt',\n",
    "     'learning_rate': 0.06,\n",
    "     'max_bin': 100,\n",
    "     'max_depth': 14,\n",
    "     'min_data_in_leaf': 12,\n",
    "     'num_leaves': 37,\n",
    "     'objective': 'regression'"
   ]
  },
  {
   "cell_type": "code",
   "execution_count": 82,
   "metadata": {},
   "outputs": [],
   "source": [
    "#lgbm = LGBMRegressor(random_state=12345)\n",
    "#params_lgbm = { \n",
    "#    'objective': ['regression'],\n",
    "#    'boosting_type': ['gbdt'],\n",
    "#    'max_depth': range(10, 20, 2),    \n",
    "#    'num_leaves': range(20, 41, 1),\n",
    "#    'min_data_in_leaf': range(12, 15, 1),   \n",
    "#    'max_bin': range(80, 121, 10),\n",
    "#    'learning_rate': [0.01, 0.02, 0.05, 0.06],\n",
    "#}    \n",
    "#\n",
    "#model_lgbm = GridSearchCV(lgbm, params_lgbm, cv=5, scoring='neg_mean_absolute_error',\n",
    "#                          verbose=1, n_jobs=10)                 \n",
    "#model_lgbm.fit(features_train, target_train)\n",
    "#print('Лушчие параметры для LGBMRegressor:')\n",
    "#display(model_lgbm.best_params_, model_lgbm.best_score_) "
   ]
  },
  {
   "cell_type": "code",
   "execution_count": 83,
   "metadata": {},
   "outputs": [
    {
     "name": "stdout",
     "output_type": "stream",
     "text": [
      "Fitting 10 folds for each of 1 candidates, totalling 10 fits\n"
     ]
    },
    {
     "name": "stderr",
     "output_type": "stream",
     "text": [
      "[Parallel(n_jobs=10)]: Using backend LokyBackend with 10 concurrent workers.\n",
      "[Parallel(n_jobs=10)]: Done   2 out of  10 | elapsed:    0.4s remaining:    1.5s\n",
      "[Parallel(n_jobs=10)]: Done  10 out of  10 | elapsed:    2.0s finished\n"
     ]
    },
    {
     "name": "stdout",
     "output_type": "stream",
     "text": [
      "\n",
      "Качество модели LightGBM на тренировочной выборке: 6.43\n",
      "Качество модели LightGBM на тестовой выборке: 6.31\n"
     ]
    }
   ],
   "source": [
    "lgbm = LGBMRegressor(random_state=12345)\n",
    "params_lgbm = { \n",
    "    'objective': ['regression'],\n",
    "    'boosting_type': ['gbdt'],\n",
    "    'max_depth': [14],    \n",
    "    'num_leaves': [37],\n",
    "    'min_data_in_leaf': [12],   \n",
    "    'max_bin': [100],\n",
    "    'learning_rate': [0.06],\n",
    "}    \n",
    "\n",
    "model_lgbm = GridSearchCV(lgbm, params_lgbm, cv=10, scoring='neg_mean_absolute_error', verbose=1, n_jobs=10, refit=True)                 \n",
    "model_lgbm.fit(features_train, target_train)\n",
    "#print('Лучшие параметры для LGBMRegressor:')\n",
    "#display(model_lgbm.best_params_, model_lgbm.best_score_) \n",
    "print()\n",
    "\n",
    "LightGBM_mae_train = model_lgbm.best_score_ * -1\n",
    "LightGBM_mae_test = mean_absolute_error(target_test, model_lgbm.predict(features_test))\n",
    "\n",
    "print('Качество модели LightGBM на тренировочной выборке: {:.2f}'.format(LightGBM_mae_train))\n",
    "print('Качество модели LightGBM на тестовой выборке: {:.2f}'.format(LightGBM_mae_test))"
   ]
  },
  {
   "cell_type": "markdown",
   "metadata": {},
   "source": [
    "### CatBoostRegressor"
   ]
  },
  {
   "cell_type": "code",
   "execution_count": 84,
   "metadata": {},
   "outputs": [
    {
     "name": "stdout",
     "output_type": "stream",
     "text": [
      "\n",
      "Качество CatBoostRegressor модели на тренировочной выборке: 6.20\n",
      "Качество CatBoostRegressor модели на тестовой выборке: 6.36\n",
      "\n",
      "CPU times: user 56.4 s, sys: 5.03 s, total: 1min 1s\n",
      "Wall time: 1min 7s\n"
     ]
    }
   ],
   "source": [
    "%%time\n",
    "\n",
    "CBR = CatBoostRegressor(verbose=False, random_state=12345)\n",
    "\n",
    "cross_val_catboost = (cross_val_score(CBR, features_train, target_train,cv=5, scoring='neg_mean_absolute_error').mean() * -1)\n",
    "\n",
    "model_catboost = CatBoostRegressor(verbose=False)\n",
    "params_catboost = CatBoostRegressor(verbose=False, random_state=12345).fit(features_train, target_train).get_all_params()\n",
    "\n",
    "model_catboost.set_params(**params_catboost)\n",
    "model_catboost.fit(features_train, target_train)\n",
    "target_predict = model_catboost.predict(features_test)\n",
    "mae_test_cbr= mean_absolute_error(target_predict, target_test)\n",
    "print()\n",
    "print('Качество CatBoostRegressor модели на тренировочной выборке: {:.2f}'.format(cross_val_catboost))\n",
    "print('Качество CatBoostRegressor модели на тестовой выборке: {:.2f}'.format(mae_test_cbr))\n",
    "print()"
   ]
  },
  {
   "cell_type": "code",
   "execution_count": 85,
   "metadata": {},
   "outputs": [
    {
     "data": {
      "text/plain": [
       "(array([0.5, 1.5, 2.5, 3.5]), <a list of 4 Text yticklabel objects>)"
      ]
     },
     "execution_count": 85,
     "metadata": {},
     "output_type": "execute_result"
    },
    {
     "data": {
      "image/png": "[encoded data removed]",
      "text/plain": [
       "<Figure size 720x432 with 2 Axes>"
      ]
     },
     "metadata": {
      "needs_background": "light"
     },
     "output_type": "display_data"
    }
   ],
   "source": [
    "all_metrics = {\"Тренировочная выборка\":pd.Series([dummy_mae_train, RandomForest_mae_train, LightGBM_mae_train, cross_val_catboost],\n",
    "                                                 index=['Dummy', 'RandomForest', 'LightGBM', 'CatBoostRegressor']),\n",
    "              \"Тестовая выборка\":pd.Series([dummy_mae_test, RandomForest_mae_test, LightGBM_mae_test, mae_test_cbr], index=['Dummy', 'RandomForest', 'LightGBM', 'CatBoostRegressor'])}\n",
    "\n",
    "data_metrics = pd.DataFrame(all_metrics)\n",
    "\n",
    "plt.figure(figsize=(10,6))\n",
    "sns.heatmap(data_metrics,  annot=data_metrics, fmt='.2f', linewidths=2 , cmap=\"Blues_r\")\n",
    "plt.suptitle('Целевая метрика обученных моделей ', fontsize=25)\n",
    "plt.yticks( rotation=0, fontsize=14)"
   ]
  },
  {
   "cell_type": "markdown",
   "metadata": {},
   "source": [
    "## Сравнение значимости признаков в моделях"
   ]
  },
  {
   "cell_type": "markdown",
   "metadata": {},
   "source": [
    "Сравним все построенные модели, приведя их к единому формату"
   ]
  },
  {
   "cell_type": "code",
   "execution_count": 86,
   "metadata": {},
   "outputs": [
    {
     "data": {
      "text/plain": [
       "(array([0.5, 1.5, 2.5, 3.5, 4.5, 5.5]), <a list of 6 Text yticklabel objects>)"
      ]
     },
     "execution_count": 86,
     "metadata": {},
     "output_type": "execute_result"
    },
    {
     "data": {
      "image/png": "[encoded data removed]",
      "text/plain": [
       "<Figure size 1080x720 with 2 Axes>"
      ]
     },
     "metadata": {
      "needs_background": "light"
     },
     "output_type": "display_data"
    }
   ],
   "source": [
    "feature_importances = pd.DataFrame(index=features_train.columns,\n",
    "                                     data={\n",
    "                                    'LightGBM': model_lgbm.best_estimator_.feature_importances_,\n",
    "                                    'RandomForest':   model_RandomForest.best_estimator_.feature_importances_,\n",
    "                                    'CatBoostRegressor':   model_catboost.get_feature_importance(type=catboost.EFstrType.FeatureImportance)\n",
    "                                     })\n",
    "                                           \n",
    "feature_importances = feature_importances.sort_values(by='LightGBM', ascending=False)\n",
    "feature_importances[:] = MinMaxScaler().fit_transform(feature_importances)\n",
    "\n",
    "plt.figure(figsize=(15,10))\n",
    "sns.heatmap(feature_importances,  annot=feature_importances, fmt='.2f', linewidths=2 , cmap=\"Blues_r\")\n",
    "plt.suptitle('Значимость признаков в обученных моделях', fontsize=25)\n",
    "plt.yticks( rotation=0, fontsize=14)\n"
   ]
  },
  {
   "cell_type": "markdown",
   "metadata": {},
   "source": [
    "По степени влияния признаков видно, что объемы газа и сыпучие материалы меньше всего влияют на качество модели. Поэтому для тестирования мы создадим новый набор признаков и обучим на них модели снова."
   ]
  },
  {
   "cell_type": "markdown",
   "metadata": {},
   "source": [
    "<div style=\"background: #cceeaa; padding: 5px; border: 1px solid green; border-radius: 5px;\">\n",
    "    <font color='green'> <b><u>КОММЕНТАРИЙ РЕВЬЮЕРА</u></b>\n",
    "</font>\n",
    "<font color='green'><br>КЛАССССНО оформил!! хорошо, что используешь этот инструмент. На начальном этапе мы можем нагенерить множество разных фич, в том чтисле и лишних. И вот этот инструмент, вкупе с анализом мультиколлинеарности позволяет избавляться от \"балласта\")"
   ]
  },
  {
   "cell_type": "markdown",
   "metadata": {},
   "source": [
    "## Обучение моделей с учетом корректировок признаков в выборках"
   ]
  },
  {
   "cell_type": "code",
   "execution_count": 87,
   "metadata": {},
   "outputs": [],
   "source": [
    "features_train_2, features_test_2, target_train_2, target_test_2  = train_test_split(\n",
    "                                    data[['temp_start','melting_time',\n",
    "                                          'full_power','wire_materials']], \n",
    "                                    data['temp_finish'],\n",
    "                                    test_size=0.2, random_state = 12345)"
   ]
  },
  {
   "cell_type": "code",
   "execution_count": 88,
   "metadata": {},
   "outputs": [
    {
     "name": "stdout",
     "output_type": "stream",
     "text": [
      "\n",
      "Качество CatBoostRegressor модели на тренировочной выборке: 6.19\n",
      "Качество CatBoostRegressor модели на тестовой выборке: 6.23\n",
      "\n",
      "CPU times: user 57.3 s, sys: 5.03 s, total: 1min 2s\n",
      "Wall time: 1min 7s\n"
     ]
    }
   ],
   "source": [
    "%%time\n",
    "\n",
    "CBR = CatBoostRegressor(verbose=False, random_state=12345)\n",
    "\n",
    "cross_val_catboost_2 = (cross_val_score(CBR, features_train_2, target_train_2,cv=5, scoring='neg_mean_absolute_error').mean() * -1)\n",
    "\n",
    "model_catboost = CatBoostRegressor(verbose=False)\n",
    "params_catboost = CatBoostRegressor(verbose=False, random_state=12345).fit(features_train_2, target_train_2).get_all_params()\n",
    "\n",
    "model_catboost.set_params(**params_catboost)\n",
    "model_catboost.fit(features_train_2, target_train_2)\n",
    "target_predict_2 = model_catboost.predict(features_test_2)\n",
    "mae_test_cbr_2 = mean_absolute_error(target_predict_2, target_test_2)\n",
    "print()\n",
    "print('Качество CatBoostRegressor модели на тренировочной выборке: {:.2f}'.format(cross_val_catboost_2))\n",
    "print('Качество CatBoostRegressor модели на тестовой выборке: {:.2f}'.format(mae_test_cbr_2))\n",
    "print()"
   ]
  },
  {
   "cell_type": "code",
   "execution_count": 89,
   "metadata": {},
   "outputs": [
    {
     "name": "stdout",
     "output_type": "stream",
     "text": [
      "Fitting 10 folds for each of 1 candidates, totalling 10 fits\n"
     ]
    },
    {
     "name": "stderr",
     "output_type": "stream",
     "text": [
      "[Parallel(n_jobs=10)]: Using backend LokyBackend with 10 concurrent workers.\n",
      "[Parallel(n_jobs=10)]: Done   2 out of  10 | elapsed:    0.3s remaining:    1.1s\n",
      "[Parallel(n_jobs=10)]: Done  10 out of  10 | elapsed:    1.0s finished\n"
     ]
    },
    {
     "name": "stdout",
     "output_type": "stream",
     "text": [
      "Качество модели LightGBM на тренировочной выборке: 6.50\n",
      "Качество модели LightGBM на тестовой выборке: 6.35\n"
     ]
    }
   ],
   "source": [
    "lgbm = LGBMRegressor(random_state=12345)\n",
    "params_lgbm = { \n",
    "    'objective': ['regression'],\n",
    "    'boosting_type': ['gbdt'],\n",
    "    'max_depth': [14],    \n",
    "    'num_leaves': [37],\n",
    "    'min_data_in_leaf': [12],   \n",
    "    'max_bin': [100],\n",
    "    'learning_rate': [0.06],\n",
    "}    \n",
    "\n",
    "model_lgbm = GridSearchCV(lgbm, params_lgbm, cv=10, scoring='neg_mean_absolute_error', verbose=1, n_jobs=10, refit=True)                 \n",
    "model_lgbm.fit(features_train_2, target_train_2)\n",
    "\n",
    "LightGBM_mae_train_2 = model_lgbm.best_score_ * -1\n",
    "LightGBM_mae_test_2 = mean_absolute_error(target_test_2, model_lgbm.predict(features_test_2))\n",
    "\n",
    "print('Качество модели LightGBM на тренировочной выборке: {:.2f}'.format(LightGBM_mae_train_2))\n",
    "print('Качество модели LightGBM на тестовой выборке: {:.2f}'.format(LightGBM_mae_test_2))"
   ]
  },
  {
   "cell_type": "code",
   "execution_count": 90,
   "metadata": {},
   "outputs": [
    {
     "name": "stdout",
     "output_type": "stream",
     "text": [
      "Fitting 5 folds for each of 36 candidates, totalling 180 fits\n"
     ]
    },
    {
     "name": "stderr",
     "output_type": "stream",
     "text": [
      "[Parallel(n_jobs=10)]: Using backend LokyBackend with 10 concurrent workers.\n",
      "[Parallel(n_jobs=10)]: Done  30 tasks      | elapsed:   34.1s\n",
      "[Parallel(n_jobs=10)]: Done 180 out of 180 | elapsed:  3.7min finished\n"
     ]
    },
    {
     "name": "stdout",
     "output_type": "stream",
     "text": [
      "Лучшие подобранные параметры для модели RandomForestRegressor: {'max_depth': 14, 'min_samples_leaf': 2, 'n_estimators': 250}\n",
      "\n",
      "Качество модели RandomForest на тренировочной выборке: 6.44\n",
      "Качество модели RandomForest на тестовой выборке: 6.39\n",
      "\n",
      "CPU times: user 1.94 s, sys: 64.7 ms, total: 2.01 s\n",
      "Wall time: 3min 41s\n"
     ]
    }
   ],
   "source": [
    "%%time\n",
    "RF = RandomForestRegressor(random_state = 12345)\n",
    "\n",
    "params_RF = {    \n",
    "    'max_depth': range(14, 20, 2),\n",
    "    'n_estimators': range(140, 260, 10),\n",
    "    'min_samples_leaf' : [2]   \n",
    "}\n",
    "\n",
    "model_RandomForest = GridSearchCV(RF, params_RF, \n",
    "                                  scoring = 'neg_mean_absolute_error',\n",
    "                                  cv=5, return_train_score=True, verbose=1,n_jobs = 10)\n",
    "\n",
    "model_RandomForest.fit(features_train_2, target_train_2)      \n",
    "print('Лучшие подобранные параметры для модели RandomForestRegressor:', model_RandomForest.best_params_)\n",
    "print()\n",
    "\n",
    "RandomForest_mae_train_2 = model_RandomForest.best_score_  * -1\n",
    "RandomForest_mae_test_2 = mean_absolute_error(target_test_2, model_RandomForest.predict(features_test_2))\n",
    "\n",
    "print('Качество модели RandomForest на тренировочной выборке: {:.2f}'.format(RandomForest_mae_train_2))\n",
    "print('Качество модели RandomForest на тестовой выборке: {:.2f}'.format(RandomForest_mae_test_2))\n",
    "print()"
   ]
  },
  {
   "cell_type": "code",
   "execution_count": 91,
   "metadata": {},
   "outputs": [
    {
     "name": "stdout",
     "output_type": "stream",
     "text": [
      "Качество модели Dummy на тренировочной выборке: 9.96\n",
      "Качество модели Dummy на тестовой выборке: 9.64\n"
     ]
    }
   ],
   "source": [
    "dummy_model = DummyRegressor(strategy='median')\n",
    "dummy_model.fit(features_train_2, target_train_2)\n",
    "dummy_model_predict_train = dummy_model.predict(features_train_2)\n",
    "dummy_model_predict_test = dummy_model.predict(features_test_2)\n",
    "\n",
    "dummy_mae_train_2 = mean_absolute_error(target_train, dummy_model_predict_train)\n",
    "dummy_mae_test_2 = mean_absolute_error(target_test, dummy_model_predict_test)\n",
    "\n",
    "print('Качество модели Dummy на тренировочной выборке: {:.2f}'.format(dummy_mae_train_2))\n",
    "print('Качество модели Dummy на тестовой выборке: {:.2f}'.format(dummy_mae_test_2))"
   ]
  },
  {
   "cell_type": "code",
   "execution_count": 92,
   "metadata": {},
   "outputs": [
    {
     "data": {
      "text/plain": [
       "(array([0.5, 1.5, 2.5, 3.5]), <a list of 4 Text yticklabel objects>)"
      ]
     },
     "execution_count": 92,
     "metadata": {},
     "output_type": "execute_result"
    },
    {
     "data": {
      "image/png": "[encoded data removed]",
      "text/plain": [
       "<Figure size 720x432 with 2 Axes>"
      ]
     },
     "metadata": {
      "needs_background": "light"
     },
     "output_type": "display_data"
    }
   ],
   "source": [
    "all_metrics_2 = {\"Тренировочная выборка\":pd.Series([dummy_mae_train_2, RandomForest_mae_train_2, LightGBM_mae_train_2, cross_val_catboost_2],\n",
    "                                                 index=['Dummy', 'RandomForest', 'LightGBM', 'CatBoostRegressor']),\n",
    "              \"Тестовая выборка\":pd.Series([dummy_mae_test_2, RandomForest_mae_test_2, LightGBM_mae_test_2, mae_test_cbr_2], index=['Dummy', 'RandomForest', 'LightGBM', 'CatBoostRegressor'])}\n",
    "\n",
    "data_metrics_2 = pd.DataFrame(all_metrics_2)\n",
    "\n",
    "plt.figure(figsize=(10,6))\n",
    "sns.heatmap(data_metrics_2,  annot=data_metrics_2, fmt='.2f', linewidths=2 , cmap=\"Blues_r\")\n",
    "plt.suptitle('Целевая метрика новых обученных моделей ', fontsize=25)\n",
    "plt.yticks( rotation=0, fontsize=14)"
   ]
  },
  {
   "cell_type": "markdown",
   "metadata": {},
   "source": [
    "Видим, что связь с удаленными признаками была самая высокая у CatBoostRegressor, что помогло сильно улучишть её качество и достигнуть показателей МАЕ 6.19 на тренировочной и 6.23 на тестовой выборке."
   ]
  },
  {
   "cell_type": "markdown",
   "metadata": {},
   "source": [
    "## Общий вывод"
   ]
  },
  {
   "cell_type": "markdown",
   "metadata": {},
   "source": [
    "Лучший показатель целевой метрики был достигнут у CatBoostRegressor и равен 6.19 на тренировочной и 6.23 на тестовой выборке. Значение было достигнуто с использованием следующих признаков:\n",
    "\n",
    "    Первый замер температуры\n",
    "    Длительность плавления\n",
    "    Полная температура\n",
    "    Объем добавленной проволоки\n",
    "\n",
    "Остальные признаки показали низкое влияние на качество модели при анализе их значимости. "
   ]
  },
  {
   "cell_type": "markdown",
   "metadata": {},
   "source": [
    "<div style=\"background: #cceeaa; padding: 5px; border: 1px solid green; border-radius: 5px;\">\n",
    "    <font color='green'> <b><u>КОММЕНТАРИЙ РЕВЬЮЕРА 2</u></b>\n",
    "</font>\n",
    "<font color='green'><br>\n",
    "Александр, однозначно сильная работа!!!<br>\n",
    "Я бы привёл ещё такие эпитеты: смелый, аналитический, вдумчивый проект.<br>\n",
    "Правда, было интерсно погружать в твои рассуждения и следить  за ними.<br>\n",
    "C позиции логики построения модели - мне всё понятно.<br>\n",
    "    \n",
    "Если говорить об очитске данных ещё: есть партии, которые начинались и заканчивались не измерением температуры а нагревом или засыпкой материала - это можно увидеть по времени, если разложить его на временной оси. И таких партий, по идее, надо избегать. Этот момент не обязательно было в проекте делать, НО лучше об этом помнить: всегда, кроме аномалий и пропусков - нужно проверять данные на адекватность данному бизнесу и данной задаче.<br>   \n",
    "    \n",
    "Также и теорией по электричеству: можно ли мощности суммировать? рекомендуют суммировать только работу. Но здесь это не критично. НО в реальных зазадачах - надо обязательно помнить, что могут быть вот такие \"особенности\" - т.е. нужно будет получить консультацию и других специалистов.<br>\n",
    " \n",
    "Технически - очень добротная работа. <br>\n",
    "Всегда стараюсь на этом проекте сказать всем вот ещё что: цель заказчика - экономия энергоресурсов.<br>\n",
    "И в этом проекте искали как раз способ точно предсказывать температуру. И круто использовали для этого весь арсенал<br>\n",
    "А если рассудать с позиции такой: а что нужно сделать, чтобы снизить энергопотребление?<br>\n",
    "Судя по модели, самым важным фактором является первая температура. Это значит, что управляя ею, мы сможем управлять энергозатратами. Вывод понятен. Теперь надо разработать мероприятия для этого решения. И тут вопрос возникает скм собой: а это так точно? мы можем управлять первой температурой? В общем, наша модель - только начало работы над энергоэффективностью.<br>\n",
    "    \n",
    "Так же есть ещё одна идея, которую хотел предложить тебе на обсуждение.<br>\n",
    "Возможно, покажется интересным<br><br> \n",
    "\n",
    "Дело касается принципиально иного подхода к поиску решения для снижения энергопотребления на производстве<br>\n",
    "Смотри, Создание данной модели (таково было задание) двигалось по пути \"угадывания\" температуры<br>\n",
    "Но мы же знаем жизнь)) лёгкие колебания температур (как и нашего настроения, нашего веса.....)<br>\n",
    "есть всегда. Более того - будут вегда! И нам что, стараться угадывать их?<br>\n",
    "Не угонимся, \"пупок\" развяжется))))) <br>\n",
    "Предложу для подобных проектов подумать вот в какую сторону<br>\n",
    "    \n",
    "Итак, разброс в измерениях - есть, был и будет!! (т.к. этому благоприятствует разнообразие факторов самого проиозводства)<br>\n",
    "    Тогда задачу можно поставить так: <u>надо уменьшить разброс в измерениях</u>. В данном случае в температуре.<br>\n",
    "Один из подходов такой: Наверняка есть границы, в пределах которых колебания температур - дело нормальное.<br>\n",
    "А что, если фикировать случаи, когда температура выходит за эти границы?<br>\n",
    "Скажем, как \"1\". И тогда для таких моментов времени собирать инфо по производству: <br>\n",
    "а что был за материал (химия материала), что был за газ (химический состав газа), какая бригада работала, <br>\n",
    "что там было с электродами, ограничения только в фантазиях ну и в знаниях самого производства..... <br>\n",
    "И вот тут можем реально находить причины (через корреляции, проверки гипотез, разные модельки...), фиксировать эти причины. <br>\n",
    "Ну и разрабатывать энергосберегательные мероприятия.<br><br>\n",
    " \n",
    "<font color='green'>\n",
    "\n",
    "Возмоно, что у тебя остались/ появились вопросы? У меня вот только про температуру плавления)"
   ]
  },
  {
   "cell_type": "markdown",
   "metadata": {},
   "source": [
    "<div     style = 'color: #FFFFFF;\n",
    "    background-color: #3E94C9;\n",
    "    border-color: #d6e9c6; padding: 15px;\n",
    "    margin-bottom: 18px;\n",
    "    border: 1px solid transparent;\n",
    "    border-radius: 2px;'>\n",
    "<h2> Ответ исполнителя <a class=\"tocSkip\"> </h2>\n",
    "\n",
    "Немного не понял про температуру плавления) Там были сомнения выше, что сложно считывается информация по `длительность плавления` , а про температуру не видел вопроса. У длительности, думаю, стоит добавить в заголовке (сек.), чтобы заказчик мог понимать разрядность данных.\n",
    "    \n",
    "По поводу `есть партии, которые начинались и заканчивались не измерением температуры а нагревом или засыпкой материала - это можно увидеть по времени, если разложить его на временной оси.` - интересная информация, я об этом не подумал даже.\n",
    "    \n",
    "Хоть и МАЕ достаточно неплохой получился, меня всё же смущает, что мы отбрасываем так много данных, а если еще откинуть некорректные финальные или начальные замеры, то их и вовсе мало станет. До этого учили, что мы можем терять не более 10% данных. Как часто в реальности это будет происходить иначе? И нужно ли в таком случае просить у заказчика более крупные выборки, объясняя это возможной ростом ошибки предсказаний. Я просто тестирую для себя прогнозы на временных рядах и очень сильно заметил корреляцию роста качества модели с количеством объема данных. Из той зависимости что нашел - чем больше данных, тем более точный прогноз на длинной дистанции.\n",
    "    \n",
    "В остальном я прочитал, что нашел, по производственным процессам, но так и не смог для себя понять, почему газ и сыпучие материалы так плохо влияли на модель. Возможно, если бы мы знали более точные исходные данные: что плавим, что добавляем и т.д. , то можно было бы построить модель с большим количеством признаков и ошибка в предсказаниях снизилась еще больше. Сейчас могу только предположить, что влияние wire - материалов оказалось более значимым из-за обучаемых данных. Есть подозрения, что модель может ошибаться на других сплавах, а значит нужно еще какую нибудь первичную классификацию делать...Но у нас такого сейчас нет, просто лежал думал над этим) \n",
    "    \n",
    "Сократить время работы очень сильно помогло общение с ТЛ. Обсудили технологические процессы, что можно \\ что лучше не брать и сразу как по маслу поехало :)\n",
    "    \n",
    "И еще вопросик, возможно у вас есть какой нибудь интересный видео-материал того, что происходит с моделью после её реализации? Как её внедряют в систему? Мне ТЛ скинул крутую ссылку на гит, но я продолжаю искать в видео-формате. У меня жена очень хочет посмотреть как это всё потом...)))\n",
    "</div>"
   ]
  },
  {
   "cell_type": "markdown",
   "metadata": {},
   "source": [
    "<div style=\"background: #cceeaa; padding: 5px; border: 1px solid green; border-radius: 5px;\">\n",
    "<font color='green'><u><b>КОММЕНТАРИЙ РЕВЬЮЕРА 2</b></u>\n",
    "<font color='green'><br>Привет, Александр!<br>\n",
    "Точно, не температура) Извини. ОК, предложение добавить секунды - рабочее)<br>\n",
    "\n",
    "По твоему вопросу о точности:<br>\n",
    "Когда мы говорим о много/мало данных, например для линейной регрессии, то тут критерий такой: На один фатор влияния должно быть не менее 10-20 строк наблюдений. Т.е. если у нас 10 факторов, то строк должно быть не менн 100-200. В нашем случае 20 факторов, скажем. Значит строк - не менее 400. А остальное - запас) Почему так? это связано с расчётом коэффициентов модели. Грубо говоря, (когда 20 строк на один фактор) - мы расчитываем это коэффициент по 20-и значениям. А из начальной статистики знаем, чем больше данных, тем точнее среднее. С более сложными моделями - чуть иначе. Там сама математика требует большого количества данных, что заложенный мат.аппарат сработал. И если возвращаться к вопросу: сколько данных урезать? Самое главное - здравый смысл всегда!!! И риски, которые мы несём, отдавая решение. Если чувствуем/доказали/увидели, что данные неадекватные и с ними нельзя считаться, то смело режем. А уже с оставшиемся работаем, как можем. Зато всё будет \"по чеснаку\"))) ВО главе угла - достижение эффектвиности для закзачика. А если ему выгодно, то т нам честь и хвала))<br>\n",
    "А с временными рядами - там ещё интреснее. Там надо опираться на горизонт прогноза. Если прогноз нужен на день вперёд. То, положа руку на сердце, нам достаточно 5-6 недель данных. (чем больше тем лучше, конечно же).. Но, боюсь, времени нет для этой темы сейчас(<br>\n",
    "    \n",
    "Про влияние газа и сыпучих материалов:<br>\n",
    "Тут лучше так сказать: на текущих данных влияние газа и сыпучих - не высокое. Другими словами - влияяние первой температуры на столько сильное, что \"гасит\" иные факторы. А если убрать превую температуру - там может всё поменяться. А если ещё данные по хим.составу дадут (это к твоим размышлениям в догунку)) - там и заиграют другой \"марш\" все:))<br>\n",
    "    \n",
    "Эх, видео нет у меня(((<br>\n",
    "Такие же вещи, как правило, позволяют изменять процесс управления в компании, в системе и т.д. Эти изменения отражаются в корректировке инструкций, технологических регламентов, сценариев работы и т.д. Т.е. так видео-то и не заснять...<br>\n",
    "    \n",
    "Спасибо за этот труд и за совместную работу на других проектах)<br>\n",
    "Искренне желаю покорить ещё не один аналитический Эверест)<br>"
   ]
  },
  {
   "cell_type": "code",
   "execution_count": null,
   "metadata": {},
   "outputs": [],
   "source": []
  }
 ],
 "metadata": {
  "ExecuteTimeLog": [
   {
    "duration": 539,
    "start_time": "2021-11-18T12:41:36.292Z"
   },
   {
    "duration": 45,
    "start_time": "2021-11-18T12:41:36.832Z"
   },
   {
    "duration": 12,
    "start_time": "2021-11-18T12:41:36.879Z"
   },
   {
    "duration": 9,
    "start_time": "2021-11-18T12:41:36.892Z"
   },
   {
    "duration": 476,
    "start_time": "2021-11-18T12:41:36.902Z"
   },
   {
    "duration": 9,
    "start_time": "2021-11-18T12:41:37.387Z"
   },
   {
    "duration": 399,
    "start_time": "2021-11-18T12:41:37.397Z"
   },
   {
    "duration": 20,
    "start_time": "2021-11-18T12:41:37.798Z"
   },
   {
    "duration": 11,
    "start_time": "2021-11-18T12:41:37.820Z"
   },
   {
    "duration": 558,
    "start_time": "2021-11-18T12:41:37.832Z"
   },
   {
    "duration": 381,
    "start_time": "2021-11-18T12:41:38.391Z"
   },
   {
    "duration": 37,
    "start_time": "2021-11-18T12:41:38.773Z"
   },
   {
    "duration": 12,
    "start_time": "2021-11-18T12:41:38.811Z"
   },
   {
    "duration": 21,
    "start_time": "2021-11-18T12:41:38.825Z"
   },
   {
    "duration": 18,
    "start_time": "2021-11-18T12:41:38.847Z"
   },
   {
    "duration": 8,
    "start_time": "2021-11-18T12:41:38.867Z"
   },
   {
    "duration": 39,
    "start_time": "2021-11-18T12:41:38.876Z"
   },
   {
    "duration": 20,
    "start_time": "2021-11-18T12:41:38.916Z"
   },
   {
    "duration": 9,
    "start_time": "2021-11-18T12:41:38.937Z"
   },
   {
    "duration": 5,
    "start_time": "2021-11-18T12:41:38.947Z"
   },
   {
    "duration": 12,
    "start_time": "2021-11-18T12:41:38.953Z"
   },
   {
    "duration": 35,
    "start_time": "2021-11-18T12:41:38.966Z"
   },
   {
    "duration": 7,
    "start_time": "2021-11-18T12:41:39.004Z"
   },
   {
    "duration": 8,
    "start_time": "2021-11-18T12:41:39.013Z"
   },
   {
    "duration": 410,
    "start_time": "2021-11-18T12:41:39.022Z"
   },
   {
    "duration": 25,
    "start_time": "2021-11-18T12:41:39.434Z"
   },
   {
    "duration": 7,
    "start_time": "2021-11-18T12:41:39.460Z"
   },
   {
    "duration": 7,
    "start_time": "2021-11-18T12:41:39.469Z"
   },
   {
    "duration": 6,
    "start_time": "2021-11-18T12:41:39.488Z"
   },
   {
    "duration": 8,
    "start_time": "2021-11-18T12:41:39.496Z"
   },
   {
    "duration": 14,
    "start_time": "2021-11-18T12:41:39.505Z"
   },
   {
    "duration": 4,
    "start_time": "2021-11-18T12:41:39.521Z"
   },
   {
    "duration": 344,
    "start_time": "2021-11-18T12:41:39.526Z"
   },
   {
    "duration": 4,
    "start_time": "2021-11-18T12:41:39.872Z"
   },
   {
    "duration": 431,
    "start_time": "2021-11-18T12:41:39.878Z"
   },
   {
    "duration": 8,
    "start_time": "2021-11-18T12:41:40.310Z"
   },
   {
    "duration": 596,
    "start_time": "2021-11-20T10:57:33.367Z"
   },
   {
    "duration": 50,
    "start_time": "2021-11-20T10:57:33.965Z"
   },
   {
    "duration": 13,
    "start_time": "2021-11-20T10:57:34.017Z"
   },
   {
    "duration": 12,
    "start_time": "2021-11-20T10:57:34.032Z"
   },
   {
    "duration": 419,
    "start_time": "2021-11-20T10:57:34.046Z"
   },
   {
    "duration": 8,
    "start_time": "2021-11-20T10:57:34.466Z"
   },
   {
    "duration": 409,
    "start_time": "2021-11-20T10:57:34.476Z"
   },
   {
    "duration": 22,
    "start_time": "2021-11-20T10:57:34.888Z"
   },
   {
    "duration": 12,
    "start_time": "2021-11-20T10:57:34.912Z"
   },
   {
    "duration": 614,
    "start_time": "2021-11-20T10:57:34.926Z"
   },
   {
    "duration": 409,
    "start_time": "2021-11-20T10:57:35.542Z"
   },
   {
    "duration": 40,
    "start_time": "2021-11-20T10:57:35.952Z"
   },
   {
    "duration": 13,
    "start_time": "2021-11-20T10:57:35.994Z"
   },
   {
    "duration": 36,
    "start_time": "2021-11-20T10:57:36.009Z"
   },
   {
    "duration": 26,
    "start_time": "2021-11-20T10:57:36.046Z"
   },
   {
    "duration": 11,
    "start_time": "2021-11-20T10:57:36.075Z"
   },
   {
    "duration": 59,
    "start_time": "2021-11-20T10:57:36.087Z"
   },
   {
    "duration": 24,
    "start_time": "2021-11-20T10:57:36.148Z"
   },
   {
    "duration": 13,
    "start_time": "2021-11-20T10:57:36.174Z"
   },
   {
    "duration": 24,
    "start_time": "2021-11-20T10:57:36.188Z"
   },
   {
    "duration": 27,
    "start_time": "2021-11-20T10:57:36.214Z"
   },
   {
    "duration": 42,
    "start_time": "2021-11-20T10:57:36.243Z"
   },
   {
    "duration": 22,
    "start_time": "2021-11-20T10:57:36.287Z"
   },
   {
    "duration": 27,
    "start_time": "2021-11-20T10:57:36.311Z"
   },
   {
    "duration": 487,
    "start_time": "2021-11-20T10:57:36.340Z"
   },
   {
    "duration": 29,
    "start_time": "2021-11-20T10:57:36.829Z"
   },
   {
    "duration": 7,
    "start_time": "2021-11-20T10:57:36.860Z"
   },
   {
    "duration": 7,
    "start_time": "2021-11-20T10:57:36.869Z"
   },
   {
    "duration": 11,
    "start_time": "2021-11-20T10:57:36.878Z"
   },
   {
    "duration": 14,
    "start_time": "2021-11-20T10:57:36.891Z"
   },
   {
    "duration": 16,
    "start_time": "2021-11-20T10:57:36.906Z"
   },
   {
    "duration": 6,
    "start_time": "2021-11-20T10:57:36.924Z"
   },
   {
    "duration": 481,
    "start_time": "2021-11-20T10:57:36.932Z"
   },
   {
    "duration": 5,
    "start_time": "2021-11-20T10:57:37.415Z"
   },
   {
    "duration": 504,
    "start_time": "2021-11-20T10:57:37.422Z"
   },
   {
    "duration": 8,
    "start_time": "2021-11-20T10:57:37.927Z"
   },
   {
    "duration": 3,
    "start_time": "2021-11-20T11:12:12.509Z"
   },
   {
    "duration": 3,
    "start_time": "2021-11-20T11:31:40.411Z"
   },
   {
    "duration": 12,
    "start_time": "2021-11-20T12:40:35.117Z"
   },
   {
    "duration": 10,
    "start_time": "2021-11-20T12:40:44.329Z"
   },
   {
    "duration": 298,
    "start_time": "2021-11-20T12:40:48.701Z"
   },
   {
    "duration": 7,
    "start_time": "2021-11-20T12:47:48.439Z"
   },
   {
    "duration": 5,
    "start_time": "2021-11-20T12:48:42.970Z"
   },
   {
    "duration": 243,
    "start_time": "2021-11-20T13:00:15.082Z"
   },
   {
    "duration": 234,
    "start_time": "2021-11-20T13:13:07.620Z"
   },
   {
    "duration": 582,
    "start_time": "2021-11-20T13:13:19.710Z"
   },
   {
    "duration": 57,
    "start_time": "2021-11-20T13:13:20.294Z"
   },
   {
    "duration": 16,
    "start_time": "2021-11-20T13:13:20.353Z"
   },
   {
    "duration": 11,
    "start_time": "2021-11-20T13:13:20.372Z"
   },
   {
    "duration": 462,
    "start_time": "2021-11-20T13:13:20.385Z"
   },
   {
    "duration": 15,
    "start_time": "2021-11-20T13:13:20.849Z"
   },
   {
    "duration": 444,
    "start_time": "2021-11-20T13:13:20.866Z"
   },
   {
    "duration": 36,
    "start_time": "2021-11-20T13:13:21.313Z"
   },
   {
    "duration": 16,
    "start_time": "2021-11-20T13:13:21.352Z"
   },
   {
    "duration": 653,
    "start_time": "2021-11-20T13:13:21.370Z"
   },
   {
    "duration": 440,
    "start_time": "2021-11-20T13:13:22.025Z"
   },
   {
    "duration": 41,
    "start_time": "2021-11-20T13:13:22.467Z"
   },
   {
    "duration": 14,
    "start_time": "2021-11-20T13:13:22.510Z"
   },
   {
    "duration": 22,
    "start_time": "2021-11-20T13:13:22.526Z"
   },
   {
    "duration": 12,
    "start_time": "2021-11-20T13:13:22.550Z"
   },
   {
    "duration": 37,
    "start_time": "2021-11-20T13:13:22.564Z"
   },
   {
    "duration": 25,
    "start_time": "2021-11-20T13:13:22.603Z"
   },
   {
    "duration": 11,
    "start_time": "2021-11-20T13:13:22.630Z"
   },
   {
    "duration": 61,
    "start_time": "2021-11-20T13:13:22.643Z"
   },
   {
    "duration": 6,
    "start_time": "2021-11-20T13:13:22.706Z"
   },
   {
    "duration": 9,
    "start_time": "2021-11-20T13:13:22.714Z"
   },
   {
    "duration": 484,
    "start_time": "2021-11-20T13:13:22.726Z"
   },
   {
    "duration": 29,
    "start_time": "2021-11-20T13:13:23.213Z"
   },
   {
    "duration": 6,
    "start_time": "2021-11-20T13:13:23.244Z"
   },
   {
    "duration": 15,
    "start_time": "2021-11-20T13:13:23.251Z"
   },
   {
    "duration": 8,
    "start_time": "2021-11-20T13:13:23.267Z"
   },
   {
    "duration": 10,
    "start_time": "2021-11-20T13:13:23.276Z"
   },
   {
    "duration": 13,
    "start_time": "2021-11-20T13:13:23.288Z"
   },
   {
    "duration": 5,
    "start_time": "2021-11-20T13:13:23.303Z"
   },
   {
    "duration": 405,
    "start_time": "2021-11-20T13:13:23.309Z"
   },
   {
    "duration": 6,
    "start_time": "2021-11-20T13:13:23.716Z"
   },
   {
    "duration": 515,
    "start_time": "2021-11-20T13:13:23.724Z"
   },
   {
    "duration": 23,
    "start_time": "2021-11-20T13:13:24.242Z"
   },
   {
    "duration": 458,
    "start_time": "2021-11-20T13:13:24.266Z"
   },
   {
    "duration": -2070,
    "start_time": "2021-11-20T13:13:26.796Z"
   },
   {
    "duration": -2070,
    "start_time": "2021-11-20T13:13:26.797Z"
   },
   {
    "duration": -2072,
    "start_time": "2021-11-20T13:13:26.799Z"
   },
   {
    "duration": -2075,
    "start_time": "2021-11-20T13:13:26.803Z"
   },
   {
    "duration": 8,
    "start_time": "2021-11-20T13:13:47.356Z"
   },
   {
    "duration": 7,
    "start_time": "2021-11-20T13:13:49.711Z"
   },
   {
    "duration": 278,
    "start_time": "2021-11-20T13:14:02.579Z"
   },
   {
    "duration": 582,
    "start_time": "2021-11-20T13:15:39.373Z"
   },
   {
    "duration": 56,
    "start_time": "2021-11-20T13:15:39.957Z"
   },
   {
    "duration": 16,
    "start_time": "2021-11-20T13:15:40.015Z"
   },
   {
    "duration": 10,
    "start_time": "2021-11-20T13:15:40.033Z"
   },
   {
    "duration": 434,
    "start_time": "2021-11-20T13:15:40.044Z"
   },
   {
    "duration": 9,
    "start_time": "2021-11-20T13:15:40.479Z"
   },
   {
    "duration": 418,
    "start_time": "2021-11-20T13:15:40.489Z"
   },
   {
    "duration": 24,
    "start_time": "2021-11-20T13:15:40.909Z"
   },
   {
    "duration": 13,
    "start_time": "2021-11-20T13:15:40.935Z"
   },
   {
    "duration": 621,
    "start_time": "2021-11-20T13:15:40.950Z"
   },
   {
    "duration": 426,
    "start_time": "2021-11-20T13:15:41.573Z"
   },
   {
    "duration": 39,
    "start_time": "2021-11-20T13:15:42.001Z"
   },
   {
    "duration": 14,
    "start_time": "2021-11-20T13:15:42.042Z"
   },
   {
    "duration": 24,
    "start_time": "2021-11-20T13:15:42.057Z"
   },
   {
    "duration": 10,
    "start_time": "2021-11-20T13:15:42.083Z"
   },
   {
    "duration": 36,
    "start_time": "2021-11-20T13:15:42.095Z"
   },
   {
    "duration": 23,
    "start_time": "2021-11-20T13:15:42.133Z"
   },
   {
    "duration": 15,
    "start_time": "2021-11-20T13:15:42.158Z"
   },
   {
    "duration": 41,
    "start_time": "2021-11-20T13:15:42.175Z"
   },
   {
    "duration": 7,
    "start_time": "2021-11-20T13:15:42.218Z"
   },
   {
    "duration": 13,
    "start_time": "2021-11-20T13:15:42.227Z"
   },
   {
    "duration": 568,
    "start_time": "2021-11-20T13:15:42.242Z"
   },
   {
    "duration": 28,
    "start_time": "2021-11-20T13:15:42.814Z"
   },
   {
    "duration": 5,
    "start_time": "2021-11-20T13:15:42.844Z"
   },
   {
    "duration": 13,
    "start_time": "2021-11-20T13:15:42.851Z"
   },
   {
    "duration": 7,
    "start_time": "2021-11-20T13:15:42.865Z"
   },
   {
    "duration": 15,
    "start_time": "2021-11-20T13:15:42.874Z"
   },
   {
    "duration": 16,
    "start_time": "2021-11-20T13:15:42.890Z"
   },
   {
    "duration": 7,
    "start_time": "2021-11-20T13:15:42.908Z"
   },
   {
    "duration": 498,
    "start_time": "2021-11-20T13:15:42.916Z"
   },
   {
    "duration": 8,
    "start_time": "2021-11-20T13:15:43.416Z"
   },
   {
    "duration": 506,
    "start_time": "2021-11-20T13:15:43.426Z"
   },
   {
    "duration": 10,
    "start_time": "2021-11-20T13:15:43.934Z"
   },
   {
    "duration": 24,
    "start_time": "2021-11-20T13:15:43.945Z"
   },
   {
    "duration": 2,
    "start_time": "2021-11-20T13:15:43.972Z"
   },
   {
    "duration": 12,
    "start_time": "2021-11-20T13:15:43.976Z"
   },
   {
    "duration": 27,
    "start_time": "2021-11-20T13:15:43.990Z"
   },
   {
    "duration": 45,
    "start_time": "2021-11-20T13:15:44.019Z"
   },
   {
    "duration": 11,
    "start_time": "2021-11-20T13:15:44.066Z"
   },
   {
    "duration": 6,
    "start_time": "2021-11-20T13:16:30.886Z"
   },
   {
    "duration": 300,
    "start_time": "2021-11-20T13:28:55.097Z"
   },
   {
    "duration": 279,
    "start_time": "2021-11-20T13:29:03.394Z"
   },
   {
    "duration": 421,
    "start_time": "2021-11-20T13:29:12.982Z"
   },
   {
    "duration": 6,
    "start_time": "2021-11-20T13:29:20.849Z"
   },
   {
    "duration": 8,
    "start_time": "2021-11-20T13:29:36.139Z"
   },
   {
    "duration": 250,
    "start_time": "2021-11-20T13:33:34.875Z"
   },
   {
    "duration": 367,
    "start_time": "2021-11-20T13:33:41.748Z"
   },
   {
    "duration": 8,
    "start_time": "2021-11-20T13:33:42.607Z"
   },
   {
    "duration": 6,
    "start_time": "2021-11-20T13:33:44.982Z"
   },
   {
    "duration": 6,
    "start_time": "2021-11-20T13:33:59.203Z"
   },
   {
    "duration": 254,
    "start_time": "2021-11-20T13:43:21.085Z"
   },
   {
    "duration": 79,
    "start_time": "2021-11-20T13:43:53.029Z"
   },
   {
    "duration": 6,
    "start_time": "2021-11-20T13:44:27.463Z"
   },
   {
    "duration": 255,
    "start_time": "2021-11-20T13:44:28.995Z"
   },
   {
    "duration": 243,
    "start_time": "2021-11-20T13:45:46.516Z"
   },
   {
    "duration": 5,
    "start_time": "2021-11-20T13:45:59.555Z"
   },
   {
    "duration": 369,
    "start_time": "2021-11-20T14:15:02.125Z"
   },
   {
    "duration": 6,
    "start_time": "2021-11-20T14:15:07.125Z"
   },
   {
    "duration": 6,
    "start_time": "2021-11-20T14:15:14.767Z"
   },
   {
    "duration": 241,
    "start_time": "2021-11-20T14:15:15.250Z"
   },
   {
    "duration": 294,
    "start_time": "2021-11-20T14:17:09.127Z"
   },
   {
    "duration": 3,
    "start_time": "2021-11-20T14:19:27.369Z"
   },
   {
    "duration": 261,
    "start_time": "2021-11-20T14:19:36.692Z"
   },
   {
    "duration": 632,
    "start_time": "2021-11-20T14:19:53.978Z"
   },
   {
    "duration": 53,
    "start_time": "2021-11-20T14:19:54.612Z"
   },
   {
    "duration": 14,
    "start_time": "2021-11-20T14:19:54.668Z"
   },
   {
    "duration": 11,
    "start_time": "2021-11-20T14:19:54.684Z"
   },
   {
    "duration": 569,
    "start_time": "2021-11-20T14:19:54.697Z"
   },
   {
    "duration": 10,
    "start_time": "2021-11-20T14:19:55.269Z"
   },
   {
    "duration": 444,
    "start_time": "2021-11-20T14:19:55.282Z"
   },
   {
    "duration": 34,
    "start_time": "2021-11-20T14:19:55.730Z"
   },
   {
    "duration": 14,
    "start_time": "2021-11-20T14:19:55.767Z"
   },
   {
    "duration": 632,
    "start_time": "2021-11-20T14:19:55.783Z"
   },
   {
    "duration": 449,
    "start_time": "2021-11-20T14:19:56.417Z"
   },
   {
    "duration": 43,
    "start_time": "2021-11-20T14:19:56.868Z"
   },
   {
    "duration": 15,
    "start_time": "2021-11-20T14:19:56.913Z"
   },
   {
    "duration": 45,
    "start_time": "2021-11-20T14:19:56.930Z"
   },
   {
    "duration": 17,
    "start_time": "2021-11-20T14:19:56.977Z"
   },
   {
    "duration": 62,
    "start_time": "2021-11-20T14:19:56.996Z"
   },
   {
    "duration": 23,
    "start_time": "2021-11-20T14:19:57.060Z"
   },
   {
    "duration": 22,
    "start_time": "2021-11-20T14:19:57.085Z"
   },
   {
    "duration": 49,
    "start_time": "2021-11-20T14:19:57.109Z"
   },
   {
    "duration": 15,
    "start_time": "2021-11-20T14:19:57.160Z"
   },
   {
    "duration": 27,
    "start_time": "2021-11-20T14:19:57.177Z"
   },
   {
    "duration": 593,
    "start_time": "2021-11-20T14:19:57.206Z"
   },
   {
    "duration": 29,
    "start_time": "2021-11-20T14:19:57.803Z"
   },
   {
    "duration": 7,
    "start_time": "2021-11-20T14:19:57.834Z"
   },
   {
    "duration": 8,
    "start_time": "2021-11-20T14:19:57.842Z"
   },
   {
    "duration": 13,
    "start_time": "2021-11-20T14:19:57.852Z"
   },
   {
    "duration": 11,
    "start_time": "2021-11-20T14:19:57.867Z"
   },
   {
    "duration": 15,
    "start_time": "2021-11-20T14:19:57.880Z"
   },
   {
    "duration": 7,
    "start_time": "2021-11-20T14:19:57.897Z"
   },
   {
    "duration": 461,
    "start_time": "2021-11-20T14:19:57.905Z"
   },
   {
    "duration": 7,
    "start_time": "2021-11-20T14:19:58.367Z"
   },
   {
    "duration": 599,
    "start_time": "2021-11-20T14:19:58.376Z"
   },
   {
    "duration": 10,
    "start_time": "2021-11-20T14:19:58.977Z"
   },
   {
    "duration": 8,
    "start_time": "2021-11-20T14:19:58.989Z"
   },
   {
    "duration": 6,
    "start_time": "2021-11-20T14:19:58.999Z"
   },
   {
    "duration": 300,
    "start_time": "2021-11-20T14:19:59.007Z"
   },
   {
    "duration": -2274,
    "start_time": "2021-11-20T14:20:01.583Z"
   },
   {
    "duration": -2277,
    "start_time": "2021-11-20T14:20:01.587Z"
   },
   {
    "duration": -2278,
    "start_time": "2021-11-20T14:20:01.589Z"
   },
   {
    "duration": -2281,
    "start_time": "2021-11-20T14:20:01.593Z"
   },
   {
    "duration": -2282,
    "start_time": "2021-11-20T14:20:01.595Z"
   },
   {
    "duration": -2282,
    "start_time": "2021-11-20T14:20:01.596Z"
   },
   {
    "duration": -2283,
    "start_time": "2021-11-20T14:20:01.598Z"
   },
   {
    "duration": -2287,
    "start_time": "2021-11-20T14:20:01.603Z"
   },
   {
    "duration": -2288,
    "start_time": "2021-11-20T14:20:01.605Z"
   },
   {
    "duration": 12,
    "start_time": "2021-11-20T14:20:15.556Z"
   },
   {
    "duration": 11,
    "start_time": "2021-11-20T14:20:41.921Z"
   },
   {
    "duration": 10,
    "start_time": "2021-11-20T14:21:08.765Z"
   },
   {
    "duration": 10,
    "start_time": "2021-11-20T14:21:33.360Z"
   },
   {
    "duration": 8,
    "start_time": "2021-11-20T14:22:17.669Z"
   },
   {
    "duration": 8,
    "start_time": "2021-11-20T14:22:19.543Z"
   },
   {
    "duration": 7,
    "start_time": "2021-11-20T14:22:28.043Z"
   },
   {
    "duration": 8,
    "start_time": "2021-11-20T14:22:50.479Z"
   },
   {
    "duration": 6,
    "start_time": "2021-11-20T14:24:18.365Z"
   },
   {
    "duration": 9,
    "start_time": "2021-11-20T14:26:02.942Z"
   },
   {
    "duration": 9,
    "start_time": "2021-11-20T14:33:42.226Z"
   },
   {
    "duration": 346,
    "start_time": "2021-11-20T14:34:00.036Z"
   },
   {
    "duration": 842,
    "start_time": "2021-11-20T14:34:41.953Z"
   },
   {
    "duration": 70,
    "start_time": "2021-11-20T14:34:42.799Z"
   },
   {
    "duration": 23,
    "start_time": "2021-11-20T14:34:42.875Z"
   },
   {
    "duration": 12,
    "start_time": "2021-11-20T14:34:42.901Z"
   },
   {
    "duration": 481,
    "start_time": "2021-11-20T14:34:42.914Z"
   },
   {
    "duration": 10,
    "start_time": "2021-11-20T14:34:43.397Z"
   },
   {
    "duration": 807,
    "start_time": "2021-11-20T14:34:43.415Z"
   },
   {
    "duration": 43,
    "start_time": "2021-11-20T14:34:44.226Z"
   },
   {
    "duration": 27,
    "start_time": "2021-11-20T14:34:44.273Z"
   },
   {
    "duration": 1022,
    "start_time": "2021-11-20T14:34:44.303Z"
   },
   {
    "duration": 627,
    "start_time": "2021-11-20T14:34:45.328Z"
   },
   {
    "duration": 53,
    "start_time": "2021-11-20T14:34:45.962Z"
   },
   {
    "duration": 26,
    "start_time": "2021-11-20T14:34:46.017Z"
   },
   {
    "duration": 27,
    "start_time": "2021-11-20T14:34:46.046Z"
   },
   {
    "duration": 17,
    "start_time": "2021-11-20T14:34:46.075Z"
   },
   {
    "duration": 53,
    "start_time": "2021-11-20T14:34:46.094Z"
   },
   {
    "duration": 43,
    "start_time": "2021-11-20T14:34:46.149Z"
   },
   {
    "duration": 18,
    "start_time": "2021-11-20T14:34:46.194Z"
   },
   {
    "duration": 47,
    "start_time": "2021-11-20T14:34:46.214Z"
   },
   {
    "duration": 10,
    "start_time": "2021-11-20T14:34:46.264Z"
   },
   {
    "duration": 10,
    "start_time": "2021-11-20T14:34:46.276Z"
   },
   {
    "duration": 475,
    "start_time": "2021-11-20T14:34:46.288Z"
   },
   {
    "duration": 31,
    "start_time": "2021-11-20T14:34:46.764Z"
   },
   {
    "duration": 7,
    "start_time": "2021-11-20T14:34:46.797Z"
   },
   {
    "duration": 10,
    "start_time": "2021-11-20T14:34:46.806Z"
   },
   {
    "duration": 8,
    "start_time": "2021-11-20T14:34:46.821Z"
   },
   {
    "duration": 32,
    "start_time": "2021-11-20T14:34:46.832Z"
   },
   {
    "duration": 18,
    "start_time": "2021-11-20T14:34:46.866Z"
   },
   {
    "duration": 8,
    "start_time": "2021-11-20T14:34:46.886Z"
   },
   {
    "duration": 386,
    "start_time": "2021-11-20T14:34:46.896Z"
   },
   {
    "duration": 7,
    "start_time": "2021-11-20T14:34:47.284Z"
   },
   {
    "duration": 490,
    "start_time": "2021-11-20T14:34:47.292Z"
   },
   {
    "duration": 8,
    "start_time": "2021-11-20T14:34:47.784Z"
   },
   {
    "duration": 25,
    "start_time": "2021-11-20T14:34:47.794Z"
   },
   {
    "duration": 6,
    "start_time": "2021-11-20T14:34:47.821Z"
   },
   {
    "duration": 20,
    "start_time": "2021-11-20T14:34:47.829Z"
   },
   {
    "duration": 16,
    "start_time": "2021-11-20T14:34:47.851Z"
   },
   {
    "duration": 24,
    "start_time": "2021-11-20T14:34:47.869Z"
   },
   {
    "duration": 18,
    "start_time": "2021-11-20T14:34:47.895Z"
   },
   {
    "duration": 29,
    "start_time": "2021-11-20T14:34:47.915Z"
   },
   {
    "duration": 14,
    "start_time": "2021-11-20T14:34:47.946Z"
   },
   {
    "duration": 27,
    "start_time": "2021-11-20T14:34:47.962Z"
   },
   {
    "duration": 379,
    "start_time": "2021-11-20T14:34:47.992Z"
   },
   {
    "duration": 9,
    "start_time": "2021-11-20T14:34:48.373Z"
   },
   {
    "duration": 27,
    "start_time": "2021-11-20T14:34:48.384Z"
   },
   {
    "duration": 20,
    "start_time": "2021-11-20T14:34:48.414Z"
   },
   {
    "duration": 651,
    "start_time": "2021-11-20T14:35:46.331Z"
   },
   {
    "duration": 57,
    "start_time": "2021-11-20T14:35:46.984Z"
   },
   {
    "duration": 16,
    "start_time": "2021-11-20T14:35:47.043Z"
   },
   {
    "duration": 19,
    "start_time": "2021-11-20T14:35:47.061Z"
   },
   {
    "duration": 458,
    "start_time": "2021-11-20T14:35:47.082Z"
   },
   {
    "duration": 23,
    "start_time": "2021-11-20T14:35:47.541Z"
   },
   {
    "duration": 439,
    "start_time": "2021-11-20T14:35:47.566Z"
   },
   {
    "duration": 34,
    "start_time": "2021-11-20T14:35:48.008Z"
   },
   {
    "duration": 15,
    "start_time": "2021-11-20T14:35:48.044Z"
   },
   {
    "duration": 646,
    "start_time": "2021-11-20T14:35:48.061Z"
   },
   {
    "duration": 446,
    "start_time": "2021-11-20T14:35:48.709Z"
   },
   {
    "duration": 47,
    "start_time": "2021-11-20T14:35:49.157Z"
   },
   {
    "duration": 15,
    "start_time": "2021-11-20T14:35:49.206Z"
   },
   {
    "duration": 35,
    "start_time": "2021-11-20T14:35:49.223Z"
   },
   {
    "duration": 29,
    "start_time": "2021-11-20T14:35:49.260Z"
   },
   {
    "duration": 58,
    "start_time": "2021-11-20T14:35:49.291Z"
   },
   {
    "duration": 29,
    "start_time": "2021-11-20T14:35:49.352Z"
   },
   {
    "duration": 17,
    "start_time": "2021-11-20T14:35:49.383Z"
   },
   {
    "duration": 49,
    "start_time": "2021-11-20T14:35:49.403Z"
   },
   {
    "duration": 22,
    "start_time": "2021-11-20T14:35:49.455Z"
   },
   {
    "duration": 13,
    "start_time": "2021-11-20T14:35:49.480Z"
   },
   {
    "duration": 476,
    "start_time": "2021-11-20T14:35:49.495Z"
   },
   {
    "duration": 29,
    "start_time": "2021-11-20T14:35:49.975Z"
   },
   {
    "duration": 5,
    "start_time": "2021-11-20T14:35:50.007Z"
   },
   {
    "duration": 5,
    "start_time": "2021-11-20T14:35:50.014Z"
   },
   {
    "duration": 14,
    "start_time": "2021-11-20T14:35:50.021Z"
   },
   {
    "duration": 28,
    "start_time": "2021-11-20T14:35:50.037Z"
   },
   {
    "duration": 16,
    "start_time": "2021-11-20T14:35:50.067Z"
   },
   {
    "duration": 7,
    "start_time": "2021-11-20T14:35:50.085Z"
   },
   {
    "duration": 400,
    "start_time": "2021-11-20T14:35:50.094Z"
   },
   {
    "duration": 5,
    "start_time": "2021-11-20T14:35:50.496Z"
   },
   {
    "duration": 503,
    "start_time": "2021-11-20T14:35:50.503Z"
   },
   {
    "duration": 12,
    "start_time": "2021-11-20T14:35:51.009Z"
   },
   {
    "duration": 8,
    "start_time": "2021-11-20T14:35:51.024Z"
   },
   {
    "duration": 57,
    "start_time": "2021-11-20T14:35:51.033Z"
   },
   {
    "duration": 26,
    "start_time": "2021-11-20T14:35:51.092Z"
   },
   {
    "duration": 7,
    "start_time": "2021-11-20T14:35:51.120Z"
   },
   {
    "duration": 14,
    "start_time": "2021-11-20T14:35:51.129Z"
   },
   {
    "duration": 5,
    "start_time": "2021-11-20T14:35:51.145Z"
   },
   {
    "duration": 5,
    "start_time": "2021-11-20T14:35:51.152Z"
   },
   {
    "duration": 27,
    "start_time": "2021-11-20T14:35:51.158Z"
   },
   {
    "duration": 16,
    "start_time": "2021-11-20T14:35:51.187Z"
   },
   {
    "duration": 12,
    "start_time": "2021-11-20T14:35:51.205Z"
   },
   {
    "duration": 487,
    "start_time": "2021-11-20T14:35:51.219Z"
   },
   {
    "duration": 7,
    "start_time": "2021-11-20T14:35:51.708Z"
   },
   {
    "duration": 8,
    "start_time": "2021-11-20T14:35:51.717Z"
   },
   {
    "duration": 8,
    "start_time": "2021-11-20T14:35:51.726Z"
   },
   {
    "duration": 620,
    "start_time": "2021-11-20T14:36:25.388Z"
   },
   {
    "duration": 54,
    "start_time": "2021-11-20T14:36:26.011Z"
   },
   {
    "duration": 16,
    "start_time": "2021-11-20T14:36:26.067Z"
   },
   {
    "duration": 11,
    "start_time": "2021-11-20T14:36:26.086Z"
   },
   {
    "duration": 494,
    "start_time": "2021-11-20T14:36:26.099Z"
   },
   {
    "duration": 11,
    "start_time": "2021-11-20T14:36:26.595Z"
   },
   {
    "duration": 442,
    "start_time": "2021-11-20T14:36:26.608Z"
   },
   {
    "duration": 33,
    "start_time": "2021-11-20T14:36:27.053Z"
   },
   {
    "duration": 15,
    "start_time": "2021-11-20T14:36:27.088Z"
   },
   {
    "duration": 717,
    "start_time": "2021-11-20T14:36:27.105Z"
   },
   {
    "duration": 512,
    "start_time": "2021-11-20T14:36:27.824Z"
   },
   {
    "duration": 42,
    "start_time": "2021-11-20T14:36:28.339Z"
   },
   {
    "duration": 15,
    "start_time": "2021-11-20T14:36:28.383Z"
   },
   {
    "duration": 24,
    "start_time": "2021-11-20T14:36:28.401Z"
   },
   {
    "duration": 12,
    "start_time": "2021-11-20T14:36:28.428Z"
   },
   {
    "duration": 37,
    "start_time": "2021-11-20T14:36:28.464Z"
   },
   {
    "duration": 27,
    "start_time": "2021-11-20T14:36:28.503Z"
   },
   {
    "duration": 32,
    "start_time": "2021-11-20T14:36:28.532Z"
   },
   {
    "duration": 42,
    "start_time": "2021-11-20T14:36:28.566Z"
   },
   {
    "duration": 7,
    "start_time": "2021-11-20T14:36:28.610Z"
   },
   {
    "duration": 10,
    "start_time": "2021-11-20T14:36:28.619Z"
   },
   {
    "duration": 516,
    "start_time": "2021-11-20T14:36:28.630Z"
   },
   {
    "duration": 45,
    "start_time": "2021-11-20T14:36:29.150Z"
   },
   {
    "duration": 9,
    "start_time": "2021-11-20T14:36:29.198Z"
   },
   {
    "duration": 7,
    "start_time": "2021-11-20T14:36:29.209Z"
   },
   {
    "duration": 9,
    "start_time": "2021-11-20T14:36:29.218Z"
   },
   {
    "duration": 16,
    "start_time": "2021-11-20T14:36:29.230Z"
   },
   {
    "duration": 28,
    "start_time": "2021-11-20T14:36:29.249Z"
   },
   {
    "duration": 7,
    "start_time": "2021-11-20T14:36:29.278Z"
   },
   {
    "duration": 461,
    "start_time": "2021-11-20T14:36:29.287Z"
   },
   {
    "duration": 18,
    "start_time": "2021-11-20T14:36:29.751Z"
   },
   {
    "duration": 850,
    "start_time": "2021-11-20T14:36:29.772Z"
   },
   {
    "duration": 13,
    "start_time": "2021-11-20T14:36:30.624Z"
   },
   {
    "duration": 26,
    "start_time": "2021-11-20T14:36:30.639Z"
   },
   {
    "duration": 8,
    "start_time": "2021-11-20T14:36:30.667Z"
   },
   {
    "duration": 17,
    "start_time": "2021-11-20T14:36:30.676Z"
   },
   {
    "duration": 27,
    "start_time": "2021-11-20T14:36:30.695Z"
   },
   {
    "duration": 30,
    "start_time": "2021-11-20T14:36:30.724Z"
   },
   {
    "duration": 23,
    "start_time": "2021-11-20T14:36:30.756Z"
   },
   {
    "duration": 109,
    "start_time": "2021-11-20T14:36:30.781Z"
   },
   {
    "duration": -2331,
    "start_time": "2021-11-20T14:36:33.224Z"
   },
   {
    "duration": -2332,
    "start_time": "2021-11-20T14:36:33.226Z"
   },
   {
    "duration": -2332,
    "start_time": "2021-11-20T14:36:33.228Z"
   },
   {
    "duration": -2332,
    "start_time": "2021-11-20T14:36:33.229Z"
   },
   {
    "duration": -2334,
    "start_time": "2021-11-20T14:36:33.231Z"
   },
   {
    "duration": -2334,
    "start_time": "2021-11-20T14:36:33.232Z"
   },
   {
    "duration": -2335,
    "start_time": "2021-11-20T14:36:33.234Z"
   },
   {
    "duration": 604,
    "start_time": "2021-11-20T14:48:22.378Z"
   },
   {
    "duration": 55,
    "start_time": "2021-11-20T14:48:22.984Z"
   },
   {
    "duration": 15,
    "start_time": "2021-11-20T14:48:23.044Z"
   },
   {
    "duration": 10,
    "start_time": "2021-11-20T14:48:23.062Z"
   },
   {
    "duration": 794,
    "start_time": "2021-11-20T14:48:23.075Z"
   },
   {
    "duration": 13,
    "start_time": "2021-11-20T14:48:23.872Z"
   },
   {
    "duration": 481,
    "start_time": "2021-11-20T14:48:23.889Z"
   },
   {
    "duration": 36,
    "start_time": "2021-11-20T14:48:24.373Z"
   },
   {
    "duration": 23,
    "start_time": "2021-11-20T14:48:24.412Z"
   },
   {
    "duration": 647,
    "start_time": "2021-11-20T14:48:24.437Z"
   },
   {
    "duration": 437,
    "start_time": "2021-11-20T14:48:25.086Z"
   },
   {
    "duration": 41,
    "start_time": "2021-11-20T14:48:25.525Z"
   },
   {
    "duration": 13,
    "start_time": "2021-11-20T14:48:25.568Z"
   },
   {
    "duration": 44,
    "start_time": "2021-11-20T14:48:25.584Z"
   },
   {
    "duration": 13,
    "start_time": "2021-11-20T14:48:25.630Z"
   },
   {
    "duration": 49,
    "start_time": "2021-11-20T14:48:25.645Z"
   },
   {
    "duration": 35,
    "start_time": "2021-11-20T14:48:25.696Z"
   },
   {
    "duration": 11,
    "start_time": "2021-11-20T14:48:25.733Z"
   },
   {
    "duration": 47,
    "start_time": "2021-11-20T14:48:25.747Z"
   },
   {
    "duration": 14,
    "start_time": "2021-11-20T14:48:25.796Z"
   },
   {
    "duration": 18,
    "start_time": "2021-11-20T14:48:25.812Z"
   },
   {
    "duration": 470,
    "start_time": "2021-11-20T14:48:25.835Z"
   },
   {
    "duration": 30,
    "start_time": "2021-11-20T14:48:26.308Z"
   },
   {
    "duration": 6,
    "start_time": "2021-11-20T14:48:26.339Z"
   },
   {
    "duration": 22,
    "start_time": "2021-11-20T14:48:26.347Z"
   },
   {
    "duration": 21,
    "start_time": "2021-11-20T14:48:26.371Z"
   },
   {
    "duration": 11,
    "start_time": "2021-11-20T14:48:26.394Z"
   },
   {
    "duration": 22,
    "start_time": "2021-11-20T14:48:26.406Z"
   },
   {
    "duration": 6,
    "start_time": "2021-11-20T14:48:26.430Z"
   },
   {
    "duration": 387,
    "start_time": "2021-11-20T14:48:26.438Z"
   },
   {
    "duration": 8,
    "start_time": "2021-11-20T14:48:26.827Z"
   },
   {
    "duration": 564,
    "start_time": "2021-11-20T14:48:26.836Z"
   },
   {
    "duration": 12,
    "start_time": "2021-11-20T14:48:27.403Z"
   },
   {
    "duration": 65,
    "start_time": "2021-11-20T14:48:27.417Z"
   },
   {
    "duration": 30,
    "start_time": "2021-11-20T14:48:27.484Z"
   },
   {
    "duration": 3,
    "start_time": "2021-11-20T14:48:27.517Z"
   },
   {
    "duration": 11,
    "start_time": "2021-11-20T14:48:27.523Z"
   },
   {
    "duration": 23,
    "start_time": "2021-11-20T14:48:27.537Z"
   },
   {
    "duration": 106,
    "start_time": "2021-11-20T14:48:27.564Z"
   },
   {
    "duration": -2364,
    "start_time": "2021-11-20T14:48:30.036Z"
   },
   {
    "duration": -2367,
    "start_time": "2021-11-20T14:48:30.041Z"
   },
   {
    "duration": -2367,
    "start_time": "2021-11-20T14:48:30.042Z"
   },
   {
    "duration": -2369,
    "start_time": "2021-11-20T14:48:30.044Z"
   },
   {
    "duration": -2369,
    "start_time": "2021-11-20T14:48:30.045Z"
   },
   {
    "duration": -2369,
    "start_time": "2021-11-20T14:48:30.046Z"
   },
   {
    "duration": -2370,
    "start_time": "2021-11-20T14:48:30.048Z"
   },
   {
    "duration": 26,
    "start_time": "2021-11-20T14:48:36.016Z"
   },
   {
    "duration": 15,
    "start_time": "2021-11-20T14:48:36.871Z"
   },
   {
    "duration": 13,
    "start_time": "2021-11-20T14:48:38.613Z"
   },
   {
    "duration": 793,
    "start_time": "2021-11-20T14:56:14.541Z"
   },
   {
    "duration": 8,
    "start_time": "2021-11-20T14:56:16.251Z"
   },
   {
    "duration": 10,
    "start_time": "2021-11-20T14:56:19.910Z"
   },
   {
    "duration": 8,
    "start_time": "2021-11-20T14:57:44.300Z"
   },
   {
    "duration": 6,
    "start_time": "2021-11-20T15:00:28.127Z"
   },
   {
    "duration": 9,
    "start_time": "2021-11-20T15:00:29.273Z"
   },
   {
    "duration": 4,
    "start_time": "2021-11-20T15:26:09.066Z"
   },
   {
    "duration": 7,
    "start_time": "2021-11-20T15:26:09.902Z"
   },
   {
    "duration": 5,
    "start_time": "2021-11-20T15:26:11.782Z"
   },
   {
    "duration": 10,
    "start_time": "2021-11-20T15:26:12.993Z"
   },
   {
    "duration": 544,
    "start_time": "2021-11-20T15:37:31.518Z"
   },
   {
    "duration": 52,
    "start_time": "2021-11-20T15:37:32.064Z"
   },
   {
    "duration": 14,
    "start_time": "2021-11-20T15:37:32.118Z"
   },
   {
    "duration": 21,
    "start_time": "2021-11-20T15:37:32.134Z"
   },
   {
    "duration": 421,
    "start_time": "2021-11-20T15:37:32.157Z"
   },
   {
    "duration": 8,
    "start_time": "2021-11-20T15:37:32.579Z"
   },
   {
    "duration": 411,
    "start_time": "2021-11-20T15:37:32.589Z"
   },
   {
    "duration": 22,
    "start_time": "2021-11-20T15:37:33.002Z"
   },
   {
    "duration": 28,
    "start_time": "2021-11-20T15:37:33.026Z"
   },
   {
    "duration": 622,
    "start_time": "2021-11-20T15:37:33.056Z"
   },
   {
    "duration": 420,
    "start_time": "2021-11-20T15:37:33.679Z"
   },
   {
    "duration": 40,
    "start_time": "2021-11-20T15:37:34.100Z"
   },
   {
    "duration": 12,
    "start_time": "2021-11-20T15:37:34.142Z"
   },
   {
    "duration": 26,
    "start_time": "2021-11-20T15:37:34.156Z"
   },
   {
    "duration": 10,
    "start_time": "2021-11-20T15:37:34.184Z"
   },
   {
    "duration": 33,
    "start_time": "2021-11-20T15:37:34.195Z"
   },
   {
    "duration": 24,
    "start_time": "2021-11-20T15:37:34.230Z"
   },
   {
    "duration": 9,
    "start_time": "2021-11-20T15:37:34.256Z"
   },
   {
    "duration": 40,
    "start_time": "2021-11-20T15:37:34.267Z"
   },
   {
    "duration": 6,
    "start_time": "2021-11-20T15:37:34.309Z"
   },
   {
    "duration": 8,
    "start_time": "2021-11-20T15:37:34.317Z"
   },
   {
    "duration": 444,
    "start_time": "2021-11-20T15:37:34.326Z"
   },
   {
    "duration": 28,
    "start_time": "2021-11-20T15:37:34.774Z"
   },
   {
    "duration": 7,
    "start_time": "2021-11-20T15:37:34.804Z"
   },
   {
    "duration": 20,
    "start_time": "2021-11-20T15:37:34.812Z"
   },
   {
    "duration": 28,
    "start_time": "2021-11-20T15:37:34.834Z"
   },
   {
    "duration": 16,
    "start_time": "2021-11-20T15:37:34.864Z"
   },
   {
    "duration": 34,
    "start_time": "2021-11-20T15:37:34.882Z"
   },
   {
    "duration": 6,
    "start_time": "2021-11-20T15:37:34.918Z"
   },
   {
    "duration": 391,
    "start_time": "2021-11-20T15:37:34.926Z"
   },
   {
    "duration": 6,
    "start_time": "2021-11-20T15:37:35.319Z"
   },
   {
    "duration": 478,
    "start_time": "2021-11-20T15:37:35.327Z"
   },
   {
    "duration": 8,
    "start_time": "2021-11-20T15:37:35.807Z"
   },
   {
    "duration": 18,
    "start_time": "2021-11-20T15:37:35.816Z"
   },
   {
    "duration": 10,
    "start_time": "2021-11-20T15:37:35.836Z"
   },
   {
    "duration": 25,
    "start_time": "2021-11-20T15:37:35.848Z"
   },
   {
    "duration": 12,
    "start_time": "2021-11-20T15:37:35.875Z"
   },
   {
    "duration": 12,
    "start_time": "2021-11-20T15:37:35.889Z"
   },
   {
    "duration": 900,
    "start_time": "2021-11-20T15:37:35.903Z"
   },
   {
    "duration": 7,
    "start_time": "2021-11-20T15:37:36.805Z"
   },
   {
    "duration": 12,
    "start_time": "2021-11-20T15:37:36.813Z"
   },
   {
    "duration": 10,
    "start_time": "2021-11-20T15:37:36.827Z"
   },
   {
    "duration": 8,
    "start_time": "2021-11-20T15:37:36.839Z"
   },
   {
    "duration": 3,
    "start_time": "2021-11-20T15:37:36.849Z"
   },
   {
    "duration": 6,
    "start_time": "2021-11-20T15:37:36.863Z"
   },
   {
    "duration": 33,
    "start_time": "2021-11-20T15:37:36.871Z"
   },
   {
    "duration": 7,
    "start_time": "2021-11-20T15:38:14.646Z"
   },
   {
    "duration": 10,
    "start_time": "2021-11-20T15:38:25.464Z"
   },
   {
    "duration": 16,
    "start_time": "2021-11-20T15:50:02.009Z"
   },
   {
    "duration": 8,
    "start_time": "2021-11-20T15:50:14.034Z"
   },
   {
    "duration": 14,
    "start_time": "2021-11-20T15:50:48.388Z"
   },
   {
    "duration": 11,
    "start_time": "2021-11-20T15:51:06.562Z"
   },
   {
    "duration": 4,
    "start_time": "2021-11-20T15:51:32.379Z"
   },
   {
    "duration": 15,
    "start_time": "2021-11-20T15:51:36.637Z"
   },
   {
    "duration": 3,
    "start_time": "2021-11-20T15:53:30.168Z"
   },
   {
    "duration": 9,
    "start_time": "2021-11-20T15:53:50.662Z"
   },
   {
    "duration": 11,
    "start_time": "2021-11-20T15:56:47.511Z"
   },
   {
    "duration": 10,
    "start_time": "2021-11-20T15:56:48.527Z"
   },
   {
    "duration": 7,
    "start_time": "2021-11-20T16:00:25.815Z"
   },
   {
    "duration": 3,
    "start_time": "2021-11-20T16:08:51.214Z"
   },
   {
    "duration": 8794,
    "start_time": "2021-11-20T16:16:26.892Z"
   },
   {
    "duration": 13,
    "start_time": "2021-11-20T16:16:54.689Z"
   },
   {
    "duration": 8,
    "start_time": "2021-11-20T16:17:47.331Z"
   },
   {
    "duration": 8056,
    "start_time": "2021-11-20T16:19:24.335Z"
   },
   {
    "duration": 8,
    "start_time": "2021-11-20T16:21:20.320Z"
   },
   {
    "duration": 3,
    "start_time": "2021-11-20T16:24:00.601Z"
   },
   {
    "duration": 8,
    "start_time": "2021-11-20T16:24:01.666Z"
   },
   {
    "duration": 641,
    "start_time": "2021-11-20T16:24:32.735Z"
   },
   {
    "duration": 53,
    "start_time": "2021-11-20T16:24:33.377Z"
   },
   {
    "duration": 14,
    "start_time": "2021-11-20T16:24:33.432Z"
   },
   {
    "duration": 18,
    "start_time": "2021-11-20T16:24:33.448Z"
   },
   {
    "duration": 452,
    "start_time": "2021-11-20T16:24:33.468Z"
   },
   {
    "duration": 8,
    "start_time": "2021-11-20T16:24:33.921Z"
   },
   {
    "duration": 419,
    "start_time": "2021-11-20T16:24:33.931Z"
   },
   {
    "duration": 22,
    "start_time": "2021-11-20T16:24:34.352Z"
   },
   {
    "duration": 13,
    "start_time": "2021-11-20T16:24:34.376Z"
   },
   {
    "duration": 611,
    "start_time": "2021-11-20T16:24:34.391Z"
   },
   {
    "duration": 432,
    "start_time": "2021-11-20T16:24:35.004Z"
   },
   {
    "duration": 41,
    "start_time": "2021-11-20T16:24:35.438Z"
   },
   {
    "duration": 15,
    "start_time": "2021-11-20T16:24:35.480Z"
   },
   {
    "duration": 23,
    "start_time": "2021-11-20T16:24:35.497Z"
   },
   {
    "duration": 11,
    "start_time": "2021-11-20T16:24:35.522Z"
   },
   {
    "duration": 44,
    "start_time": "2021-11-20T16:24:35.535Z"
   },
   {
    "duration": 6,
    "start_time": "2021-11-20T16:24:35.581Z"
   },
   {
    "duration": 34,
    "start_time": "2021-11-20T16:24:35.589Z"
   },
   {
    "duration": 11,
    "start_time": "2021-11-20T16:24:35.625Z"
   },
   {
    "duration": 45,
    "start_time": "2021-11-20T16:24:35.637Z"
   },
   {
    "duration": 7,
    "start_time": "2021-11-20T16:24:35.684Z"
   },
   {
    "duration": 8,
    "start_time": "2021-11-20T16:24:35.693Z"
   },
   {
    "duration": 458,
    "start_time": "2021-11-20T16:24:35.705Z"
   },
   {
    "duration": 28,
    "start_time": "2021-11-20T16:24:36.165Z"
   },
   {
    "duration": 5,
    "start_time": "2021-11-20T16:24:36.195Z"
   },
   {
    "duration": 5,
    "start_time": "2021-11-20T16:24:36.203Z"
   },
   {
    "duration": 9,
    "start_time": "2021-11-20T16:24:36.210Z"
   },
   {
    "duration": 10,
    "start_time": "2021-11-20T16:24:36.221Z"
   },
   {
    "duration": 36,
    "start_time": "2021-11-20T16:24:36.232Z"
   },
   {
    "duration": 6,
    "start_time": "2021-11-20T16:24:36.270Z"
   },
   {
    "duration": 388,
    "start_time": "2021-11-20T16:24:36.277Z"
   },
   {
    "duration": 7,
    "start_time": "2021-11-20T16:24:36.667Z"
   },
   {
    "duration": 489,
    "start_time": "2021-11-20T16:24:36.675Z"
   },
   {
    "duration": 9,
    "start_time": "2021-11-20T16:24:37.166Z"
   },
   {
    "duration": 4,
    "start_time": "2021-11-20T16:24:37.176Z"
   },
   {
    "duration": 9,
    "start_time": "2021-11-20T16:24:37.182Z"
   },
   {
    "duration": 7,
    "start_time": "2021-11-20T16:24:37.193Z"
   },
   {
    "duration": 25,
    "start_time": "2021-11-20T16:24:37.202Z"
   },
   {
    "duration": 43,
    "start_time": "2021-11-20T16:24:37.229Z"
   },
   {
    "duration": 11,
    "start_time": "2021-11-20T16:24:37.273Z"
   },
   {
    "duration": 9,
    "start_time": "2021-11-20T16:24:37.286Z"
   },
   {
    "duration": 10,
    "start_time": "2021-11-20T16:24:37.297Z"
   },
   {
    "duration": 5,
    "start_time": "2021-11-20T16:24:37.308Z"
   },
   {
    "duration": 86,
    "start_time": "2021-11-20T16:24:37.315Z"
   },
   {
    "duration": -2652,
    "start_time": "2021-11-20T16:24:40.055Z"
   },
   {
    "duration": -2653,
    "start_time": "2021-11-20T16:24:40.057Z"
   },
   {
    "duration": -2660,
    "start_time": "2021-11-20T16:24:40.065Z"
   },
   {
    "duration": -2661,
    "start_time": "2021-11-20T16:24:40.067Z"
   },
   {
    "duration": -2660,
    "start_time": "2021-11-20T16:24:40.068Z"
   },
   {
    "duration": -2661,
    "start_time": "2021-11-20T16:24:40.070Z"
   },
   {
    "duration": -2661,
    "start_time": "2021-11-20T16:24:40.071Z"
   },
   {
    "duration": -2663,
    "start_time": "2021-11-20T16:24:40.073Z"
   },
   {
    "duration": -2662,
    "start_time": "2021-11-20T16:24:40.074Z"
   },
   {
    "duration": -2663,
    "start_time": "2021-11-20T16:24:40.076Z"
   },
   {
    "duration": -2669,
    "start_time": "2021-11-20T16:24:40.082Z"
   },
   {
    "duration": 8,
    "start_time": "2021-11-20T16:24:43.527Z"
   },
   {
    "duration": 3,
    "start_time": "2021-11-20T16:27:43.461Z"
   },
   {
    "duration": 7,
    "start_time": "2021-11-20T16:27:44.312Z"
   },
   {
    "duration": 5,
    "start_time": "2021-11-20T16:27:53.106Z"
   },
   {
    "duration": 13,
    "start_time": "2021-11-20T16:27:54.578Z"
   },
   {
    "duration": 3,
    "start_time": "2021-11-20T16:29:31.612Z"
   },
   {
    "duration": 5,
    "start_time": "2021-11-20T16:29:32.624Z"
   },
   {
    "duration": 16,
    "start_time": "2021-11-20T16:29:34.217Z"
   },
   {
    "duration": 639,
    "start_time": "2021-11-20T16:30:33.689Z"
   },
   {
    "duration": 59,
    "start_time": "2021-11-20T16:30:34.330Z"
   },
   {
    "duration": 16,
    "start_time": "2021-11-20T16:30:34.390Z"
   },
   {
    "duration": 11,
    "start_time": "2021-11-20T16:30:34.408Z"
   },
   {
    "duration": 589,
    "start_time": "2021-11-20T16:30:34.420Z"
   },
   {
    "duration": 9,
    "start_time": "2021-11-20T16:30:35.011Z"
   },
   {
    "duration": 466,
    "start_time": "2021-11-20T16:30:35.022Z"
   },
   {
    "duration": 34,
    "start_time": "2021-11-20T16:30:35.490Z"
   },
   {
    "duration": 14,
    "start_time": "2021-11-20T16:30:35.526Z"
   },
   {
    "duration": 640,
    "start_time": "2021-11-20T16:30:35.542Z"
   },
   {
    "duration": 437,
    "start_time": "2021-11-20T16:30:36.184Z"
   },
   {
    "duration": 41,
    "start_time": "2021-11-20T16:30:36.623Z"
   },
   {
    "duration": 15,
    "start_time": "2021-11-20T16:30:36.666Z"
   },
   {
    "duration": 22,
    "start_time": "2021-11-20T16:30:36.683Z"
   },
   {
    "duration": 11,
    "start_time": "2021-11-20T16:30:36.707Z"
   },
   {
    "duration": 45,
    "start_time": "2021-11-20T16:30:36.720Z"
   },
   {
    "duration": 6,
    "start_time": "2021-11-20T16:30:36.767Z"
   },
   {
    "duration": 27,
    "start_time": "2021-11-20T16:30:36.775Z"
   },
   {
    "duration": 11,
    "start_time": "2021-11-20T16:30:36.804Z"
   },
   {
    "duration": 42,
    "start_time": "2021-11-20T16:30:36.817Z"
   },
   {
    "duration": 6,
    "start_time": "2021-11-20T16:30:36.861Z"
   },
   {
    "duration": 13,
    "start_time": "2021-11-20T16:30:36.869Z"
   },
   {
    "duration": 471,
    "start_time": "2021-11-20T16:30:36.887Z"
   },
   {
    "duration": 30,
    "start_time": "2021-11-20T16:30:37.362Z"
   },
   {
    "duration": 6,
    "start_time": "2021-11-20T16:30:37.393Z"
   },
   {
    "duration": 21,
    "start_time": "2021-11-20T16:30:37.401Z"
   },
   {
    "duration": 9,
    "start_time": "2021-11-20T16:30:37.424Z"
   },
   {
    "duration": 12,
    "start_time": "2021-11-20T16:30:37.435Z"
   },
   {
    "duration": 23,
    "start_time": "2021-11-20T16:30:37.448Z"
   },
   {
    "duration": 5,
    "start_time": "2021-11-20T16:30:37.473Z"
   },
   {
    "duration": 390,
    "start_time": "2021-11-20T16:30:37.480Z"
   },
   {
    "duration": 9,
    "start_time": "2021-11-20T16:30:37.872Z"
   },
   {
    "duration": 497,
    "start_time": "2021-11-20T16:30:37.883Z"
   },
   {
    "duration": 10,
    "start_time": "2021-11-20T16:30:38.383Z"
   },
   {
    "duration": 7,
    "start_time": "2021-11-20T16:30:38.395Z"
   },
   {
    "duration": 9,
    "start_time": "2021-11-20T16:30:38.404Z"
   },
   {
    "duration": 8,
    "start_time": "2021-11-20T16:30:38.415Z"
   },
   {
    "duration": 56,
    "start_time": "2021-11-20T16:30:38.425Z"
   },
   {
    "duration": 15,
    "start_time": "2021-11-20T16:30:38.483Z"
   },
   {
    "duration": 12,
    "start_time": "2021-11-20T16:30:38.500Z"
   },
   {
    "duration": 11,
    "start_time": "2021-11-20T16:30:38.514Z"
   },
   {
    "duration": 44,
    "start_time": "2021-11-20T16:30:38.527Z"
   },
   {
    "duration": 5,
    "start_time": "2021-11-20T16:30:38.574Z"
   },
   {
    "duration": 9,
    "start_time": "2021-11-20T16:30:38.581Z"
   },
   {
    "duration": 6,
    "start_time": "2021-11-20T16:30:38.592Z"
   },
   {
    "duration": 17,
    "start_time": "2021-11-20T16:30:38.599Z"
   },
   {
    "duration": 7,
    "start_time": "2021-11-20T16:30:38.619Z"
   },
   {
    "duration": 35,
    "start_time": "2021-11-20T16:30:38.628Z"
   },
   {
    "duration": 19,
    "start_time": "2021-11-20T16:30:38.665Z"
   },
   {
    "duration": 839,
    "start_time": "2021-11-20T16:30:38.686Z"
   },
   {
    "duration": 9,
    "start_time": "2021-11-20T16:30:39.527Z"
   },
   {
    "duration": 26,
    "start_time": "2021-11-20T16:30:39.538Z"
   },
   {
    "duration": 4,
    "start_time": "2021-11-20T16:30:39.566Z"
   },
   {
    "duration": 9,
    "start_time": "2021-11-20T16:30:39.572Z"
   },
   {
    "duration": 5,
    "start_time": "2021-11-20T16:30:39.584Z"
   },
   {
    "duration": 8,
    "start_time": "2021-11-20T16:30:39.591Z"
   },
   {
    "duration": 29,
    "start_time": "2021-11-20T16:30:39.601Z"
   },
   {
    "duration": 11,
    "start_time": "2021-11-20T16:30:39.663Z"
   },
   {
    "duration": 8,
    "start_time": "2021-11-20T16:40:47.505Z"
   },
   {
    "duration": 9,
    "start_time": "2021-11-20T16:40:52.418Z"
   },
   {
    "duration": 7,
    "start_time": "2021-11-20T17:06:07.991Z"
   },
   {
    "duration": 5,
    "start_time": "2021-11-20T17:06:58.546Z"
   },
   {
    "duration": 302,
    "start_time": "2021-11-20T17:07:26.676Z"
   },
   {
    "duration": 243,
    "start_time": "2021-11-20T17:07:34.715Z"
   },
   {
    "duration": 8,
    "start_time": "2021-11-20T17:07:40.951Z"
   },
   {
    "duration": 5,
    "start_time": "2021-11-20T17:08:17.687Z"
   },
   {
    "duration": 334,
    "start_time": "2021-11-20T17:08:23.704Z"
   },
   {
    "duration": 5,
    "start_time": "2021-11-20T17:08:34.279Z"
   },
   {
    "duration": 243,
    "start_time": "2021-11-20T17:08:49.932Z"
   },
   {
    "duration": 8,
    "start_time": "2021-11-20T17:08:55.839Z"
   },
   {
    "duration": 932,
    "start_time": "2021-11-20T17:10:33.162Z"
   },
   {
    "duration": 3,
    "start_time": "2021-11-20T17:10:42.954Z"
   },
   {
    "duration": 603,
    "start_time": "2021-11-20T17:11:08.084Z"
   },
   {
    "duration": 51,
    "start_time": "2021-11-20T17:11:08.689Z"
   },
   {
    "duration": 15,
    "start_time": "2021-11-20T17:11:08.742Z"
   },
   {
    "duration": 9,
    "start_time": "2021-11-20T17:11:08.758Z"
   },
   {
    "duration": 441,
    "start_time": "2021-11-20T17:11:08.769Z"
   },
   {
    "duration": 8,
    "start_time": "2021-11-20T17:11:09.212Z"
   },
   {
    "duration": 405,
    "start_time": "2021-11-20T17:11:09.221Z"
   },
   {
    "duration": 22,
    "start_time": "2021-11-20T17:11:09.629Z"
   },
   {
    "duration": 16,
    "start_time": "2021-11-20T17:11:09.654Z"
   },
   {
    "duration": 615,
    "start_time": "2021-11-20T17:11:09.671Z"
   },
   {
    "duration": 424,
    "start_time": "2021-11-20T17:11:10.287Z"
   },
   {
    "duration": 42,
    "start_time": "2021-11-20T17:11:10.713Z"
   },
   {
    "duration": 13,
    "start_time": "2021-11-20T17:11:10.757Z"
   },
   {
    "duration": 23,
    "start_time": "2021-11-20T17:11:10.771Z"
   },
   {
    "duration": 11,
    "start_time": "2021-11-20T17:11:10.795Z"
   },
   {
    "duration": 32,
    "start_time": "2021-11-20T17:11:10.808Z"
   },
   {
    "duration": 26,
    "start_time": "2021-11-20T17:11:10.842Z"
   },
   {
    "duration": 26,
    "start_time": "2021-11-20T17:11:10.870Z"
   },
   {
    "duration": 11,
    "start_time": "2021-11-20T17:11:10.898Z"
   },
   {
    "duration": 42,
    "start_time": "2021-11-20T17:11:10.911Z"
   },
   {
    "duration": 7,
    "start_time": "2021-11-20T17:11:10.955Z"
   },
   {
    "duration": 10,
    "start_time": "2021-11-20T17:11:10.964Z"
   },
   {
    "duration": 457,
    "start_time": "2021-11-20T17:11:10.978Z"
   },
   {
    "duration": 7,
    "start_time": "2021-11-20T17:11:11.438Z"
   },
   {
    "duration": 16,
    "start_time": "2021-11-20T17:11:11.447Z"
   },
   {
    "duration": 28,
    "start_time": "2021-11-20T17:11:11.464Z"
   },
   {
    "duration": 6,
    "start_time": "2021-11-20T17:11:11.494Z"
   },
   {
    "duration": 7,
    "start_time": "2021-11-20T17:11:11.502Z"
   },
   {
    "duration": 7,
    "start_time": "2021-11-20T17:11:11.511Z"
   },
   {
    "duration": 10,
    "start_time": "2021-11-20T17:11:11.520Z"
   },
   {
    "duration": 41,
    "start_time": "2021-11-20T17:11:11.532Z"
   },
   {
    "duration": 8,
    "start_time": "2021-11-20T17:11:11.575Z"
   },
   {
    "duration": 373,
    "start_time": "2021-11-20T17:11:11.585Z"
   },
   {
    "duration": 7,
    "start_time": "2021-11-20T17:11:11.959Z"
   },
   {
    "duration": 467,
    "start_time": "2021-11-20T17:11:11.968Z"
   },
   {
    "duration": 9,
    "start_time": "2021-11-20T17:11:12.437Z"
   },
   {
    "duration": 17,
    "start_time": "2021-11-20T17:11:12.448Z"
   },
   {
    "duration": 9,
    "start_time": "2021-11-20T17:11:12.467Z"
   },
   {
    "duration": 6,
    "start_time": "2021-11-20T17:11:12.478Z"
   },
   {
    "duration": 25,
    "start_time": "2021-11-20T17:11:12.486Z"
   },
   {
    "duration": 12,
    "start_time": "2021-11-20T17:11:12.514Z"
   },
   {
    "duration": 40,
    "start_time": "2021-11-20T17:11:12.528Z"
   },
   {
    "duration": 10,
    "start_time": "2021-11-20T17:11:12.569Z"
   },
   {
    "duration": 14,
    "start_time": "2021-11-20T17:11:12.581Z"
   },
   {
    "duration": 6,
    "start_time": "2021-11-20T17:11:12.596Z"
   },
   {
    "duration": 9,
    "start_time": "2021-11-20T17:11:12.603Z"
   },
   {
    "duration": 6,
    "start_time": "2021-11-20T17:11:12.614Z"
   },
   {
    "duration": 18,
    "start_time": "2021-11-20T17:11:12.622Z"
   },
   {
    "duration": 21,
    "start_time": "2021-11-20T17:11:12.642Z"
   },
   {
    "duration": 5,
    "start_time": "2021-11-20T17:11:12.665Z"
   },
   {
    "duration": 20,
    "start_time": "2021-11-20T17:11:12.672Z"
   },
   {
    "duration": 819,
    "start_time": "2021-11-20T17:11:12.694Z"
   },
   {
    "duration": 8,
    "start_time": "2021-11-20T17:11:13.515Z"
   },
   {
    "duration": 20,
    "start_time": "2021-11-20T17:11:13.525Z"
   },
   {
    "duration": 9,
    "start_time": "2021-11-20T17:11:13.547Z"
   },
   {
    "duration": 11,
    "start_time": "2021-11-20T17:11:13.558Z"
   },
   {
    "duration": 4,
    "start_time": "2021-11-20T17:11:13.571Z"
   },
   {
    "duration": 7,
    "start_time": "2021-11-20T17:11:13.577Z"
   },
   {
    "duration": 24,
    "start_time": "2021-11-20T17:11:13.586Z"
   },
   {
    "duration": 11,
    "start_time": "2021-11-20T17:11:13.611Z"
   },
   {
    "duration": 9,
    "start_time": "2021-11-20T17:11:13.624Z"
   },
   {
    "duration": 38,
    "start_time": "2021-11-20T17:11:13.635Z"
   },
   {
    "duration": 8,
    "start_time": "2021-11-20T17:11:37.851Z"
   },
   {
    "duration": 6573,
    "start_time": "2021-11-20T17:15:48.345Z"
   },
   {
    "duration": 7875,
    "start_time": "2021-11-20T17:16:25.648Z"
   },
   {
    "duration": 5,
    "start_time": "2021-11-20T17:17:15.795Z"
   },
   {
    "duration": 6,
    "start_time": "2021-11-20T17:17:28.184Z"
   },
   {
    "duration": 5,
    "start_time": "2021-11-20T17:18:10.106Z"
   },
   {
    "duration": 5,
    "start_time": "2021-11-20T17:18:16.417Z"
   },
   {
    "duration": 6,
    "start_time": "2021-11-20T21:13:22.689Z"
   },
   {
    "duration": 243,
    "start_time": "2021-11-20T21:14:05.692Z"
   },
   {
    "duration": 11,
    "start_time": "2021-11-20T21:17:35.346Z"
   },
   {
    "duration": 12,
    "start_time": "2021-11-20T21:18:27.828Z"
   },
   {
    "duration": 7765,
    "start_time": "2021-11-20T21:20:10.875Z"
   },
   {
    "duration": 583,
    "start_time": "2021-11-20T21:20:31.680Z"
   },
   {
    "duration": 53,
    "start_time": "2021-11-20T21:20:32.265Z"
   },
   {
    "duration": 14,
    "start_time": "2021-11-20T21:20:32.320Z"
   },
   {
    "duration": 16,
    "start_time": "2021-11-20T21:20:32.336Z"
   },
   {
    "duration": 434,
    "start_time": "2021-11-20T21:20:32.354Z"
   },
   {
    "duration": 9,
    "start_time": "2021-11-20T21:20:32.789Z"
   },
   {
    "duration": 421,
    "start_time": "2021-11-20T21:20:32.800Z"
   },
   {
    "duration": 23,
    "start_time": "2021-11-20T21:20:33.223Z"
   },
   {
    "duration": 15,
    "start_time": "2021-11-20T21:20:33.249Z"
   },
   {
    "duration": 768,
    "start_time": "2021-11-20T21:20:33.266Z"
   },
   {
    "duration": 619,
    "start_time": "2021-11-20T21:20:34.036Z"
   },
   {
    "duration": 46,
    "start_time": "2021-11-20T21:20:34.657Z"
   },
   {
    "duration": 13,
    "start_time": "2021-11-20T21:20:34.705Z"
   },
   {
    "duration": 22,
    "start_time": "2021-11-20T21:20:34.720Z"
   },
   {
    "duration": 10,
    "start_time": "2021-11-20T21:20:34.744Z"
   },
   {
    "duration": 35,
    "start_time": "2021-11-20T21:20:34.755Z"
   },
   {
    "duration": 6,
    "start_time": "2021-11-20T21:20:34.792Z"
   },
   {
    "duration": 24,
    "start_time": "2021-11-20T21:20:34.799Z"
   },
   {
    "duration": 10,
    "start_time": "2021-11-20T21:20:34.825Z"
   },
   {
    "duration": 39,
    "start_time": "2021-11-20T21:20:34.837Z"
   },
   {
    "duration": 21,
    "start_time": "2021-11-20T21:20:34.878Z"
   },
   {
    "duration": 11,
    "start_time": "2021-11-20T21:20:34.901Z"
   },
   {
    "duration": 83,
    "start_time": "2021-11-20T21:20:34.917Z"
   },
   {
    "duration": -3537,
    "start_time": "2021-11-20T21:20:38.541Z"
   },
   {
    "duration": -3539,
    "start_time": "2021-11-20T21:20:38.544Z"
   },
   {
    "duration": -3540,
    "start_time": "2021-11-20T21:20:38.546Z"
   },
   {
    "duration": -3539,
    "start_time": "2021-11-20T21:20:38.547Z"
   },
   {
    "duration": -3545,
    "start_time": "2021-11-20T21:20:38.554Z"
   },
   {
    "duration": -3545,
    "start_time": "2021-11-20T21:20:38.556Z"
   },
   {
    "duration": -3546,
    "start_time": "2021-11-20T21:20:38.558Z"
   },
   {
    "duration": -3546,
    "start_time": "2021-11-20T21:20:38.560Z"
   },
   {
    "duration": -3547,
    "start_time": "2021-11-20T21:20:38.562Z"
   },
   {
    "duration": -3547,
    "start_time": "2021-11-20T21:20:38.564Z"
   },
   {
    "duration": -3547,
    "start_time": "2021-11-20T21:20:38.565Z"
   },
   {
    "duration": -3547,
    "start_time": "2021-11-20T21:20:38.567Z"
   },
   {
    "duration": -3552,
    "start_time": "2021-11-20T21:20:38.573Z"
   },
   {
    "duration": -3552,
    "start_time": "2021-11-20T21:20:38.575Z"
   },
   {
    "duration": -3553,
    "start_time": "2021-11-20T21:20:38.577Z"
   },
   {
    "duration": -3553,
    "start_time": "2021-11-20T21:20:38.579Z"
   },
   {
    "duration": -3563,
    "start_time": "2021-11-20T21:20:38.590Z"
   },
   {
    "duration": -3563,
    "start_time": "2021-11-20T21:20:38.592Z"
   },
   {
    "duration": -3564,
    "start_time": "2021-11-20T21:20:38.594Z"
   },
   {
    "duration": -3563,
    "start_time": "2021-11-20T21:20:38.595Z"
   },
   {
    "duration": -3576,
    "start_time": "2021-11-20T21:20:38.609Z"
   },
   {
    "duration": -3577,
    "start_time": "2021-11-20T21:20:38.611Z"
   },
   {
    "duration": -3577,
    "start_time": "2021-11-20T21:20:38.613Z"
   },
   {
    "duration": -3578,
    "start_time": "2021-11-20T21:20:38.615Z"
   },
   {
    "duration": -3578,
    "start_time": "2021-11-20T21:20:38.617Z"
   },
   {
    "duration": -3579,
    "start_time": "2021-11-20T21:20:38.619Z"
   },
   {
    "duration": -3580,
    "start_time": "2021-11-20T21:20:38.621Z"
   },
   {
    "duration": -3580,
    "start_time": "2021-11-20T21:20:38.623Z"
   },
   {
    "duration": -3585,
    "start_time": "2021-11-20T21:20:38.629Z"
   },
   {
    "duration": -3587,
    "start_time": "2021-11-20T21:20:38.632Z"
   },
   {
    "duration": -3571,
    "start_time": "2021-11-20T21:20:38.634Z"
   },
   {
    "duration": -3572,
    "start_time": "2021-11-20T21:20:38.636Z"
   },
   {
    "duration": -3571,
    "start_time": "2021-11-20T21:20:38.637Z"
   },
   {
    "duration": -3571,
    "start_time": "2021-11-20T21:20:38.639Z"
   },
   {
    "duration": -3572,
    "start_time": "2021-11-20T21:20:38.641Z"
   },
   {
    "duration": -3572,
    "start_time": "2021-11-20T21:20:38.643Z"
   },
   {
    "duration": -3573,
    "start_time": "2021-11-20T21:20:38.645Z"
   },
   {
    "duration": -3573,
    "start_time": "2021-11-20T21:20:38.647Z"
   },
   {
    "duration": -3574,
    "start_time": "2021-11-20T21:20:38.649Z"
   },
   {
    "duration": -3573,
    "start_time": "2021-11-20T21:20:38.650Z"
   },
   {
    "duration": -3574,
    "start_time": "2021-11-20T21:20:38.652Z"
   },
   {
    "duration": -3576,
    "start_time": "2021-11-20T21:20:38.655Z"
   },
   {
    "duration": -3576,
    "start_time": "2021-11-20T21:20:38.657Z"
   },
   {
    "duration": -3577,
    "start_time": "2021-11-20T21:20:38.659Z"
   },
   {
    "duration": -3577,
    "start_time": "2021-11-20T21:20:38.661Z"
   },
   {
    "duration": -3578,
    "start_time": "2021-11-20T21:20:38.663Z"
   },
   {
    "duration": -3577,
    "start_time": "2021-11-20T21:20:38.664Z"
   },
   {
    "duration": -3578,
    "start_time": "2021-11-20T21:20:38.666Z"
   },
   {
    "duration": -3578,
    "start_time": "2021-11-20T21:20:38.668Z"
   },
   {
    "duration": 5,
    "start_time": "2021-11-20T21:20:40.583Z"
   },
   {
    "duration": 596,
    "start_time": "2021-11-20T21:20:58.013Z"
   },
   {
    "duration": 52,
    "start_time": "2021-11-20T21:20:58.611Z"
   },
   {
    "duration": 14,
    "start_time": "2021-11-20T21:20:58.666Z"
   },
   {
    "duration": 8,
    "start_time": "2021-11-20T21:20:58.681Z"
   },
   {
    "duration": 428,
    "start_time": "2021-11-20T21:20:58.691Z"
   },
   {
    "duration": 8,
    "start_time": "2021-11-20T21:20:59.121Z"
   },
   {
    "duration": 406,
    "start_time": "2021-11-20T21:20:59.130Z"
   },
   {
    "duration": 22,
    "start_time": "2021-11-20T21:20:59.540Z"
   },
   {
    "duration": 13,
    "start_time": "2021-11-20T21:20:59.565Z"
   },
   {
    "duration": 614,
    "start_time": "2021-11-20T21:20:59.580Z"
   },
   {
    "duration": 431,
    "start_time": "2021-11-20T21:21:00.196Z"
   },
   {
    "duration": 41,
    "start_time": "2021-11-20T21:21:00.629Z"
   },
   {
    "duration": 14,
    "start_time": "2021-11-20T21:21:00.671Z"
   },
   {
    "duration": 24,
    "start_time": "2021-11-20T21:21:00.687Z"
   },
   {
    "duration": 20,
    "start_time": "2021-11-20T21:21:00.713Z"
   },
   {
    "duration": 40,
    "start_time": "2021-11-20T21:21:00.735Z"
   },
   {
    "duration": 6,
    "start_time": "2021-11-20T21:21:00.777Z"
   },
   {
    "duration": 32,
    "start_time": "2021-11-20T21:21:00.785Z"
   },
   {
    "duration": 10,
    "start_time": "2021-11-20T21:21:00.819Z"
   },
   {
    "duration": 47,
    "start_time": "2021-11-20T21:21:00.831Z"
   },
   {
    "duration": 26,
    "start_time": "2021-11-20T21:21:00.879Z"
   },
   {
    "duration": 25,
    "start_time": "2021-11-20T21:21:00.907Z"
   },
   {
    "duration": 21,
    "start_time": "2021-11-20T21:21:00.936Z"
   },
   {
    "duration": 480,
    "start_time": "2021-11-20T21:21:00.960Z"
   },
   {
    "duration": 7,
    "start_time": "2021-11-20T21:21:01.442Z"
   },
   {
    "duration": 18,
    "start_time": "2021-11-20T21:21:01.451Z"
   },
   {
    "duration": 36,
    "start_time": "2021-11-20T21:21:01.471Z"
   },
   {
    "duration": 5,
    "start_time": "2021-11-20T21:21:01.509Z"
   },
   {
    "duration": 14,
    "start_time": "2021-11-20T21:21:01.516Z"
   },
   {
    "duration": 15,
    "start_time": "2021-11-20T21:21:01.531Z"
   },
   {
    "duration": 11,
    "start_time": "2021-11-20T21:21:01.548Z"
   },
   {
    "duration": 22,
    "start_time": "2021-11-20T21:21:01.561Z"
   },
   {
    "duration": 7,
    "start_time": "2021-11-20T21:21:01.585Z"
   },
   {
    "duration": 379,
    "start_time": "2021-11-20T21:21:01.594Z"
   },
   {
    "duration": 6,
    "start_time": "2021-11-20T21:21:01.975Z"
   },
   {
    "duration": 492,
    "start_time": "2021-11-20T21:21:01.983Z"
   },
   {
    "duration": 9,
    "start_time": "2021-11-20T21:21:02.476Z"
   },
   {
    "duration": 78,
    "start_time": "2021-11-20T21:21:02.486Z"
   },
   {
    "duration": 23,
    "start_time": "2021-11-20T21:21:02.566Z"
   },
   {
    "duration": 17,
    "start_time": "2021-11-20T21:21:02.591Z"
   },
   {
    "duration": 34,
    "start_time": "2021-11-20T21:21:02.610Z"
   },
   {
    "duration": 47,
    "start_time": "2021-11-20T21:21:02.646Z"
   },
   {
    "duration": 26,
    "start_time": "2021-11-20T21:21:02.695Z"
   },
   {
    "duration": 10,
    "start_time": "2021-11-20T21:21:02.724Z"
   },
   {
    "duration": 14,
    "start_time": "2021-11-20T21:21:02.736Z"
   },
   {
    "duration": 45,
    "start_time": "2021-11-20T21:21:02.752Z"
   },
   {
    "duration": 34,
    "start_time": "2021-11-20T21:21:02.799Z"
   },
   {
    "duration": 9,
    "start_time": "2021-11-20T21:21:02.835Z"
   },
   {
    "duration": 16,
    "start_time": "2021-11-20T21:21:02.846Z"
   },
   {
    "duration": 64,
    "start_time": "2021-11-20T21:21:02.863Z"
   },
   {
    "duration": 26,
    "start_time": "2021-11-20T21:21:02.929Z"
   },
   {
    "duration": 31,
    "start_time": "2021-11-20T21:21:02.957Z"
   },
   {
    "duration": 68,
    "start_time": "2021-11-20T21:21:02.990Z"
   },
   {
    "duration": 68,
    "start_time": "2021-11-20T21:21:03.060Z"
   },
   {
    "duration": 125,
    "start_time": "2021-11-20T21:21:03.130Z"
   },
   {
    "duration": 816,
    "start_time": "2021-11-20T21:21:03.256Z"
   },
   {
    "duration": 7,
    "start_time": "2021-11-20T21:21:04.074Z"
   },
   {
    "duration": 73,
    "start_time": "2021-11-20T21:21:04.082Z"
   },
   {
    "duration": 80,
    "start_time": "2021-11-20T21:21:04.157Z"
   },
   {
    "duration": 139,
    "start_time": "2021-11-20T21:21:04.238Z"
   },
   {
    "duration": 4,
    "start_time": "2021-11-20T21:21:04.379Z"
   },
   {
    "duration": 11,
    "start_time": "2021-11-20T21:21:04.384Z"
   },
   {
    "duration": 30,
    "start_time": "2021-11-20T21:21:04.396Z"
   },
   {
    "duration": 22,
    "start_time": "2021-11-20T21:21:04.428Z"
   },
   {
    "duration": 13,
    "start_time": "2021-11-20T21:21:04.452Z"
   },
   {
    "duration": 17,
    "start_time": "2021-11-20T21:21:04.467Z"
   },
   {
    "duration": 7,
    "start_time": "2021-11-20T21:21:04.485Z"
   },
   {
    "duration": 10,
    "start_time": "2021-11-20T21:21:04.497Z"
   },
   {
    "duration": 18,
    "start_time": "2021-11-20T21:21:04.509Z"
   },
   {
    "duration": 8,
    "start_time": "2021-11-20T21:21:04.529Z"
   },
   {
    "duration": 30,
    "start_time": "2021-11-20T21:21:04.539Z"
   },
   {
    "duration": 9,
    "start_time": "2021-11-20T21:21:04.571Z"
   },
   {
    "duration": 12,
    "start_time": "2021-11-20T21:22:27.156Z"
   },
   {
    "duration": 12,
    "start_time": "2021-11-20T21:23:16.465Z"
   },
   {
    "duration": 6,
    "start_time": "2021-11-20T21:25:12.466Z"
   },
   {
    "duration": 11,
    "start_time": "2021-11-20T21:25:27.925Z"
   },
   {
    "duration": 3,
    "start_time": "2021-11-20T21:37:24.339Z"
   },
   {
    "duration": 7,
    "start_time": "2021-11-20T21:37:25.087Z"
   },
   {
    "duration": 11,
    "start_time": "2021-11-20T21:37:26.931Z"
   },
   {
    "duration": 295,
    "start_time": "2021-11-20T21:38:09.455Z"
   },
   {
    "duration": 521,
    "start_time": "2021-11-20T21:38:43.033Z"
   },
   {
    "duration": 7,
    "start_time": "2021-11-20T21:38:47.667Z"
   },
   {
    "duration": 3,
    "start_time": "2021-11-20T21:39:46.424Z"
   },
   {
    "duration": 944,
    "start_time": "2021-11-21T11:37:46.738Z"
   },
   {
    "duration": 30,
    "start_time": "2021-11-21T11:37:47.684Z"
   },
   {
    "duration": 13,
    "start_time": "2021-11-21T11:37:47.716Z"
   },
   {
    "duration": 9,
    "start_time": "2021-11-21T11:37:47.731Z"
   },
   {
    "duration": 452,
    "start_time": "2021-11-21T11:37:47.742Z"
   },
   {
    "duration": 9,
    "start_time": "2021-11-21T11:37:48.196Z"
   },
   {
    "duration": 359,
    "start_time": "2021-11-21T11:37:48.207Z"
   },
   {
    "duration": 31,
    "start_time": "2021-11-21T11:37:48.570Z"
   },
   {
    "duration": 14,
    "start_time": "2021-11-21T11:37:48.603Z"
   },
   {
    "duration": 618,
    "start_time": "2021-11-21T11:37:48.619Z"
   },
   {
    "duration": 417,
    "start_time": "2021-11-21T11:37:49.238Z"
   },
   {
    "duration": 37,
    "start_time": "2021-11-21T11:37:49.657Z"
   },
   {
    "duration": 13,
    "start_time": "2021-11-21T11:37:49.696Z"
   },
   {
    "duration": 19,
    "start_time": "2021-11-21T11:37:49.710Z"
   },
   {
    "duration": 65,
    "start_time": "2021-11-21T11:37:49.731Z"
   },
   {
    "duration": 33,
    "start_time": "2021-11-21T11:37:49.797Z"
   },
   {
    "duration": 6,
    "start_time": "2021-11-21T11:37:49.832Z"
   },
   {
    "duration": 21,
    "start_time": "2021-11-21T11:37:49.840Z"
   },
   {
    "duration": 29,
    "start_time": "2021-11-21T11:37:49.862Z"
   },
   {
    "duration": 64,
    "start_time": "2021-11-21T11:37:49.893Z"
   },
   {
    "duration": 5,
    "start_time": "2021-11-21T11:37:49.959Z"
   },
   {
    "duration": 8,
    "start_time": "2021-11-21T11:37:49.966Z"
   },
   {
    "duration": 4,
    "start_time": "2021-11-21T11:37:49.977Z"
   },
   {
    "duration": 508,
    "start_time": "2021-11-21T11:37:49.983Z"
   },
   {
    "duration": 5,
    "start_time": "2021-11-21T11:37:50.493Z"
   },
   {
    "duration": 5,
    "start_time": "2021-11-21T11:37:50.500Z"
   },
   {
    "duration": 31,
    "start_time": "2021-11-21T11:37:50.506Z"
   },
   {
    "duration": 6,
    "start_time": "2021-11-21T11:37:50.538Z"
   },
   {
    "duration": 6,
    "start_time": "2021-11-21T11:37:50.545Z"
   },
   {
    "duration": 10,
    "start_time": "2021-11-21T11:37:50.553Z"
   },
   {
    "duration": 27,
    "start_time": "2021-11-21T11:37:50.564Z"
   },
   {
    "duration": 16,
    "start_time": "2021-11-21T11:37:50.593Z"
   },
   {
    "duration": 6,
    "start_time": "2021-11-21T11:37:50.610Z"
   },
   {
    "duration": 374,
    "start_time": "2021-11-21T11:37:50.617Z"
   },
   {
    "duration": 5,
    "start_time": "2021-11-21T11:37:50.993Z"
   },
   {
    "duration": 474,
    "start_time": "2021-11-21T11:37:50.999Z"
   },
   {
    "duration": 18,
    "start_time": "2021-11-21T11:37:51.475Z"
   },
   {
    "duration": 3,
    "start_time": "2021-11-21T11:37:51.494Z"
   },
   {
    "duration": 9,
    "start_time": "2021-11-21T11:37:51.499Z"
   },
   {
    "duration": 5,
    "start_time": "2021-11-21T11:37:51.509Z"
   },
   {
    "duration": 22,
    "start_time": "2021-11-21T11:37:51.515Z"
   },
   {
    "duration": 12,
    "start_time": "2021-11-21T11:37:51.538Z"
   },
   {
    "duration": 10,
    "start_time": "2021-11-21T11:37:51.551Z"
   },
   {
    "duration": 33,
    "start_time": "2021-11-21T11:37:51.562Z"
   },
   {
    "duration": 9,
    "start_time": "2021-11-21T11:37:51.597Z"
   },
   {
    "duration": 6,
    "start_time": "2021-11-21T11:37:51.607Z"
   },
   {
    "duration": 6,
    "start_time": "2021-11-21T11:37:51.614Z"
   },
   {
    "duration": 5,
    "start_time": "2021-11-21T11:37:51.621Z"
   },
   {
    "duration": 5,
    "start_time": "2021-11-21T11:37:51.627Z"
   },
   {
    "duration": 7,
    "start_time": "2021-11-21T11:37:51.633Z"
   },
   {
    "duration": 3,
    "start_time": "2021-11-21T11:37:51.642Z"
   },
   {
    "duration": 13,
    "start_time": "2021-11-21T11:37:51.646Z"
   },
   {
    "duration": 33,
    "start_time": "2021-11-21T11:37:51.660Z"
   },
   {
    "duration": 6,
    "start_time": "2021-11-21T11:37:51.694Z"
   },
   {
    "duration": 17,
    "start_time": "2021-11-21T11:37:51.701Z"
   },
   {
    "duration": 736,
    "start_time": "2021-11-21T11:37:51.719Z"
   },
   {
    "duration": 6,
    "start_time": "2021-11-21T11:37:52.457Z"
   },
   {
    "duration": 8,
    "start_time": "2021-11-21T11:37:52.465Z"
   },
   {
    "duration": 4,
    "start_time": "2021-11-21T11:37:52.474Z"
   },
   {
    "duration": 10,
    "start_time": "2021-11-21T11:37:52.492Z"
   },
   {
    "duration": 5,
    "start_time": "2021-11-21T11:37:52.504Z"
   },
   {
    "duration": 10,
    "start_time": "2021-11-21T11:37:52.511Z"
   },
   {
    "duration": 25,
    "start_time": "2021-11-21T11:37:52.523Z"
   },
   {
    "duration": 8,
    "start_time": "2021-11-21T11:37:52.549Z"
   },
   {
    "duration": 8,
    "start_time": "2021-11-21T11:37:52.559Z"
   },
   {
    "duration": 30,
    "start_time": "2021-11-21T11:37:52.568Z"
   },
   {
    "duration": 9,
    "start_time": "2021-11-21T11:37:52.600Z"
   },
   {
    "duration": 9,
    "start_time": "2021-11-21T11:37:52.613Z"
   },
   {
    "duration": 11,
    "start_time": "2021-11-21T11:37:52.624Z"
   },
   {
    "duration": 11,
    "start_time": "2021-11-21T11:37:52.636Z"
   },
   {
    "duration": 10,
    "start_time": "2021-11-21T11:37:52.648Z"
   },
   {
    "duration": 3,
    "start_time": "2021-11-21T11:37:52.692Z"
   },
   {
    "duration": 11,
    "start_time": "2021-11-21T11:37:52.697Z"
   },
   {
    "duration": 21,
    "start_time": "2021-11-21T11:37:52.709Z"
   },
   {
    "duration": 6,
    "start_time": "2021-11-21T11:37:52.732Z"
   },
   {
    "duration": 4,
    "start_time": "2021-11-21T11:37:52.740Z"
   },
   {
    "duration": 2,
    "start_time": "2021-11-21T11:39:44.553Z"
   },
   {
    "duration": 246,
    "start_time": "2021-11-21T11:41:14.024Z"
   },
   {
    "duration": 40,
    "start_time": "2021-11-21T11:42:09.934Z"
   },
   {
    "duration": 169,
    "start_time": "2021-11-21T11:44:41.034Z"
   },
   {
    "duration": 3,
    "start_time": "2021-11-21T11:45:08.582Z"
   },
   {
    "duration": 6,
    "start_time": "2021-11-21T11:45:12.451Z"
   },
   {
    "duration": 3,
    "start_time": "2021-11-21T12:03:48.623Z"
   },
   {
    "duration": 110,
    "start_time": "2021-11-21T12:09:16.891Z"
   },
   {
    "duration": 128,
    "start_time": "2021-11-21T12:10:36.417Z"
   },
   {
    "duration": 132,
    "start_time": "2021-11-21T12:12:47.671Z"
   },
   {
    "duration": 134,
    "start_time": "2021-11-21T12:19:31.479Z"
   },
   {
    "duration": 131,
    "start_time": "2021-11-21T12:19:51.256Z"
   },
   {
    "duration": 126,
    "start_time": "2021-11-21T12:20:22.605Z"
   },
   {
    "duration": 115,
    "start_time": "2021-11-21T12:48:15.122Z"
   },
   {
    "duration": 146,
    "start_time": "2021-11-21T12:48:28.883Z"
   },
   {
    "duration": 16,
    "start_time": "2021-11-21T12:50:00.135Z"
   },
   {
    "duration": 5,
    "start_time": "2021-11-21T12:50:10.093Z"
   },
   {
    "duration": 4,
    "start_time": "2021-11-21T12:51:08.475Z"
   },
   {
    "duration": 4,
    "start_time": "2021-11-21T12:52:41.431Z"
   },
   {
    "duration": 5,
    "start_time": "2021-11-21T12:52:44.166Z"
   },
   {
    "duration": 12,
    "start_time": "2021-11-21T12:52:47.053Z"
   },
   {
    "duration": 6,
    "start_time": "2021-11-21T12:54:18.020Z"
   },
   {
    "duration": 3,
    "start_time": "2021-11-21T12:54:19.023Z"
   },
   {
    "duration": 6,
    "start_time": "2021-11-21T12:54:22.488Z"
   },
   {
    "duration": 52643,
    "start_time": "2021-11-21T12:54:24.637Z"
   },
   {
    "duration": 324353,
    "start_time": "2021-11-21T12:56:24.159Z"
   },
   {
    "duration": 197885,
    "start_time": "2021-11-21T13:05:48.428Z"
   },
   {
    "duration": 5721,
    "start_time": "2021-11-21T13:19:45.772Z"
   },
   {
    "duration": 3999,
    "start_time": "2021-11-21T13:21:49.992Z"
   },
   {
    "duration": 4,
    "start_time": "2021-11-21T13:26:01.810Z"
   },
   {
    "duration": 7,
    "start_time": "2021-11-21T13:27:47.580Z"
   },
   {
    "duration": 4,
    "start_time": "2021-11-21T13:27:48.890Z"
   },
   {
    "duration": 5348627,
    "start_time": "2021-11-21T13:27:55.187Z"
   },
   {
    "duration": 13,
    "start_time": "2021-11-21T15:12:27.526Z"
   },
   {
    "duration": 122,
    "start_time": "2021-11-21T15:12:45.341Z"
   },
   {
    "duration": 57,
    "start_time": "2021-11-21T15:13:06.482Z"
   },
   {
    "duration": 120,
    "start_time": "2021-11-21T15:13:10.396Z"
   },
   {
    "duration": 3,
    "start_time": "2021-11-21T15:13:22.029Z"
   },
   {
    "duration": 54434,
    "start_time": "2021-11-21T15:13:26.635Z"
   },
   {
    "duration": 9739,
    "start_time": "2021-11-21T15:22:04.560Z"
   },
   {
    "duration": 10387,
    "start_time": "2021-11-21T15:22:18.203Z"
   },
   {
    "duration": 216,
    "start_time": "2021-11-21T17:57:19.169Z"
   },
   {
    "duration": 59,
    "start_time": "2021-11-21T17:57:54.810Z"
   },
   {
    "duration": 198,
    "start_time": "2021-11-21T17:57:59.756Z"
   },
   {
    "duration": 216,
    "start_time": "2021-11-21T17:58:07.359Z"
   },
   {
    "duration": 191,
    "start_time": "2021-11-21T18:55:43.058Z"
   },
   {
    "duration": 842,
    "start_time": "2021-11-21T19:34:55.669Z"
   },
   {
    "duration": 182,
    "start_time": "2021-11-21T20:18:48.145Z"
   },
   {
    "duration": 195,
    "start_time": "2021-11-21T20:20:10.155Z"
   },
   {
    "duration": 186,
    "start_time": "2021-11-21T20:21:01.991Z"
   },
   {
    "duration": 3,
    "start_time": "2021-11-21T20:28:18.815Z"
   },
   {
    "duration": 207,
    "start_time": "2021-11-21T20:28:24.554Z"
   },
   {
    "duration": 58,
    "start_time": "2021-11-21T20:28:33.754Z"
   },
   {
    "duration": 204,
    "start_time": "2021-11-21T20:28:41.069Z"
   },
   {
    "duration": 224,
    "start_time": "2021-11-21T20:29:15.493Z"
   },
   {
    "duration": 204,
    "start_time": "2021-11-21T20:30:04.922Z"
   },
   {
    "duration": 3,
    "start_time": "2021-11-21T20:30:42.955Z"
   },
   {
    "duration": 205,
    "start_time": "2021-11-21T20:30:50.373Z"
   },
   {
    "duration": 4,
    "start_time": "2021-11-21T20:31:10.668Z"
   },
   {
    "duration": 212,
    "start_time": "2021-11-21T20:31:14.794Z"
   },
   {
    "duration": 4,
    "start_time": "2021-11-21T20:31:53.449Z"
   },
   {
    "duration": 396,
    "start_time": "2021-11-21T20:31:55.365Z"
   },
   {
    "duration": 27,
    "start_time": "2021-11-21T20:32:09.689Z"
   },
   {
    "duration": 442,
    "start_time": "2021-11-21T20:32:13.635Z"
   },
   {
    "duration": 3,
    "start_time": "2021-11-21T20:35:10.499Z"
   },
   {
    "duration": 407,
    "start_time": "2021-11-21T20:35:13.699Z"
   },
   {
    "duration": 3,
    "start_time": "2021-11-21T20:35:37.850Z"
   },
   {
    "duration": 377,
    "start_time": "2021-11-21T20:35:39.473Z"
   },
   {
    "duration": 4,
    "start_time": "2021-11-21T20:35:56.675Z"
   },
   {
    "duration": 395,
    "start_time": "2021-11-21T20:35:57.969Z"
   },
   {
    "duration": 4,
    "start_time": "2021-11-21T20:36:10.342Z"
   },
   {
    "duration": 407,
    "start_time": "2021-11-21T20:36:11.097Z"
   },
   {
    "duration": 3,
    "start_time": "2021-11-21T20:36:42.108Z"
   },
   {
    "duration": 379,
    "start_time": "2021-11-21T20:36:42.679Z"
   },
   {
    "duration": 7,
    "start_time": "2021-11-21T20:39:44.371Z"
   },
   {
    "duration": 4,
    "start_time": "2021-11-21T20:39:46.081Z"
   },
   {
    "duration": 268262,
    "start_time": "2021-11-21T20:39:54.315Z"
   },
   {
    "duration": 180,
    "start_time": "2021-11-21T20:48:46.679Z"
   },
   {
    "duration": 221,
    "start_time": "2021-11-21T20:48:59.179Z"
   },
   {
    "duration": 16475,
    "start_time": "2021-11-21T20:49:39.424Z"
   },
   {
    "duration": 12,
    "start_time": "2021-11-21T20:50:30.490Z"
   },
   {
    "duration": 7,
    "start_time": "2021-11-21T20:50:54.423Z"
   },
   {
    "duration": 3,
    "start_time": "2021-11-21T20:50:56.960Z"
   },
   {
    "duration": 7,
    "start_time": "2021-11-21T20:50:59.930Z"
   },
   {
    "duration": 297524,
    "start_time": "2021-11-21T20:51:02.808Z"
   },
   {
    "duration": 1728,
    "start_time": "2021-11-21T20:57:58.282Z"
   },
   {
    "duration": 11,
    "start_time": "2021-11-21T21:02:30.097Z"
   },
   {
    "duration": 8315,
    "start_time": "2021-11-21T21:10:36.687Z"
   },
   {
    "duration": 12,
    "start_time": "2021-11-21T21:11:42.703Z"
   },
   {
    "duration": 4112,
    "start_time": "2021-11-21T21:11:48.689Z"
   },
   {
    "duration": 12,
    "start_time": "2021-11-21T21:12:18.871Z"
   },
   {
    "duration": 2362,
    "start_time": "2021-11-21T21:12:31.730Z"
   },
   {
    "duration": 11,
    "start_time": "2021-11-21T21:12:39.369Z"
   },
   {
    "duration": 12811,
    "start_time": "2021-11-21T21:20:36.293Z"
   },
   {
    "duration": 4,
    "start_time": "2021-11-21T21:23:19.100Z"
   },
   {
    "duration": 4,
    "start_time": "2021-11-21T21:24:37.513Z"
   },
   {
    "duration": 2,
    "start_time": "2021-11-21T21:25:19.704Z"
   },
   {
    "duration": 3,
    "start_time": "2021-11-21T21:38:32.925Z"
   },
   {
    "duration": 200,
    "start_time": "2021-11-21T21:38:33.510Z"
   },
   {
    "duration": 3,
    "start_time": "2021-11-21T21:38:41.811Z"
   },
   {
    "duration": 423,
    "start_time": "2021-11-21T21:38:42.455Z"
   },
   {
    "duration": 3,
    "start_time": "2021-11-21T21:38:59.695Z"
   },
   {
    "duration": 364,
    "start_time": "2021-11-21T21:40:10.285Z"
   },
   {
    "duration": 385,
    "start_time": "2021-11-21T21:40:24.823Z"
   },
   {
    "duration": 354,
    "start_time": "2021-11-21T21:41:14.822Z"
   },
   {
    "duration": 348,
    "start_time": "2021-11-21T21:41:32.709Z"
   },
   {
    "duration": 587,
    "start_time": "2021-11-21T21:41:53.999Z"
   },
   {
    "duration": 618,
    "start_time": "2021-11-21T21:42:07.353Z"
   },
   {
    "duration": 471,
    "start_time": "2021-11-21T21:42:17.723Z"
   },
   {
    "duration": 485,
    "start_time": "2021-11-21T21:42:32.153Z"
   },
   {
    "duration": 494,
    "start_time": "2021-11-21T21:44:25.863Z"
   },
   {
    "duration": 64,
    "start_time": "2021-11-21T21:44:57.300Z"
   },
   {
    "duration": 558,
    "start_time": "2021-11-21T21:45:03.179Z"
   },
   {
    "duration": 470,
    "start_time": "2021-11-21T21:45:09.861Z"
   },
   {
    "duration": 476,
    "start_time": "2021-11-21T21:45:46.212Z"
   },
   {
    "duration": 463,
    "start_time": "2021-11-21T21:45:51.995Z"
   },
   {
    "duration": 473,
    "start_time": "2021-11-21T21:46:38.579Z"
   },
   {
    "duration": 58181,
    "start_time": "2021-11-21T21:53:18.123Z"
   },
   {
    "duration": 57840,
    "start_time": "2021-11-21T21:54:37.558Z"
   },
   {
    "duration": 57859,
    "start_time": "2021-11-21T21:56:46.833Z"
   },
   {
    "duration": 69018,
    "start_time": "2021-11-21T22:00:02.474Z"
   },
   {
    "duration": 67892,
    "start_time": "2021-11-21T22:02:44.631Z"
   },
   {
    "duration": 6,
    "start_time": "2021-11-21T22:08:30.697Z"
   },
   {
    "duration": 1115,
    "start_time": "2021-11-21T22:09:56.460Z"
   },
   {
    "duration": 49,
    "start_time": "2021-11-21T22:09:57.577Z"
   },
   {
    "duration": 11,
    "start_time": "2021-11-21T22:09:57.628Z"
   },
   {
    "duration": 9,
    "start_time": "2021-11-21T22:09:57.641Z"
   },
   {
    "duration": 383,
    "start_time": "2021-11-21T22:09:57.652Z"
   },
   {
    "duration": 8,
    "start_time": "2021-11-21T22:09:58.037Z"
   },
   {
    "duration": 370,
    "start_time": "2021-11-21T22:09:58.047Z"
   },
   {
    "duration": 20,
    "start_time": "2021-11-21T22:09:58.420Z"
   },
   {
    "duration": 13,
    "start_time": "2021-11-21T22:09:58.442Z"
   },
   {
    "duration": 676,
    "start_time": "2021-11-21T22:09:58.457Z"
   },
   {
    "duration": 415,
    "start_time": "2021-11-21T22:09:59.135Z"
   },
   {
    "duration": 38,
    "start_time": "2021-11-21T22:09:59.551Z"
   },
   {
    "duration": 13,
    "start_time": "2021-11-21T22:09:59.590Z"
   },
   {
    "duration": 20,
    "start_time": "2021-11-21T22:09:59.604Z"
   },
   {
    "duration": 10,
    "start_time": "2021-11-21T22:09:59.626Z"
   },
   {
    "duration": 35,
    "start_time": "2021-11-21T22:09:59.638Z"
   },
   {
    "duration": 18,
    "start_time": "2021-11-21T22:09:59.674Z"
   },
   {
    "duration": 21,
    "start_time": "2021-11-21T22:09:59.693Z"
   },
   {
    "duration": 9,
    "start_time": "2021-11-21T22:09:59.716Z"
   },
   {
    "duration": 48,
    "start_time": "2021-11-21T22:09:59.726Z"
   },
   {
    "duration": 7,
    "start_time": "2021-11-21T22:09:59.776Z"
   },
   {
    "duration": 8,
    "start_time": "2021-11-21T22:09:59.785Z"
   },
   {
    "duration": 4,
    "start_time": "2021-11-21T22:09:59.797Z"
   },
   {
    "duration": 478,
    "start_time": "2021-11-21T22:09:59.804Z"
   },
   {
    "duration": 7,
    "start_time": "2021-11-21T22:10:00.291Z"
   },
   {
    "duration": 4,
    "start_time": "2021-11-21T22:10:00.300Z"
   },
   {
    "duration": 30,
    "start_time": "2021-11-21T22:10:00.305Z"
   },
   {
    "duration": 7,
    "start_time": "2021-11-21T22:10:00.337Z"
   },
   {
    "duration": 5,
    "start_time": "2021-11-21T22:10:00.346Z"
   },
   {
    "duration": 10,
    "start_time": "2021-11-21T22:10:00.353Z"
   },
   {
    "duration": 34,
    "start_time": "2021-11-21T22:10:00.365Z"
   },
   {
    "duration": 14,
    "start_time": "2021-11-21T22:10:00.401Z"
   },
   {
    "duration": 7,
    "start_time": "2021-11-21T22:10:00.417Z"
   },
   {
    "duration": 392,
    "start_time": "2021-11-21T22:10:00.426Z"
   },
   {
    "duration": 7,
    "start_time": "2021-11-21T22:10:00.820Z"
   },
   {
    "duration": 496,
    "start_time": "2021-11-21T22:10:00.829Z"
   },
   {
    "duration": 9,
    "start_time": "2021-11-21T22:10:01.327Z"
   },
   {
    "duration": 8,
    "start_time": "2021-11-21T22:10:01.337Z"
   },
   {
    "duration": 10,
    "start_time": "2021-11-21T22:10:01.347Z"
   },
   {
    "duration": 7,
    "start_time": "2021-11-21T22:10:01.358Z"
   },
   {
    "duration": 39,
    "start_time": "2021-11-21T22:10:01.367Z"
   },
   {
    "duration": 14,
    "start_time": "2021-11-21T22:10:01.408Z"
   },
   {
    "duration": 20,
    "start_time": "2021-11-21T22:10:01.424Z"
   },
   {
    "duration": 7,
    "start_time": "2021-11-21T22:10:01.446Z"
   },
   {
    "duration": 10,
    "start_time": "2021-11-21T22:10:01.455Z"
   },
   {
    "duration": 30,
    "start_time": "2021-11-21T22:10:01.466Z"
   },
   {
    "duration": 12,
    "start_time": "2021-11-21T22:10:01.497Z"
   },
   {
    "duration": 9,
    "start_time": "2021-11-21T22:10:01.511Z"
   },
   {
    "duration": 16,
    "start_time": "2021-11-21T22:10:01.521Z"
   },
   {
    "duration": 8,
    "start_time": "2021-11-21T22:10:01.539Z"
   },
   {
    "duration": 5,
    "start_time": "2021-11-21T22:10:01.549Z"
   },
   {
    "duration": 12,
    "start_time": "2021-11-21T22:10:01.556Z"
   },
   {
    "duration": 8,
    "start_time": "2021-11-21T22:10:01.569Z"
   },
   {
    "duration": 14,
    "start_time": "2021-11-21T22:10:01.578Z"
   },
   {
    "duration": 16,
    "start_time": "2021-11-21T22:10:01.594Z"
   },
   {
    "duration": 740,
    "start_time": "2021-11-21T22:10:01.612Z"
   },
   {
    "duration": 6,
    "start_time": "2021-11-21T22:10:02.354Z"
   },
   {
    "duration": 10,
    "start_time": "2021-11-21T22:10:02.361Z"
   },
   {
    "duration": 17,
    "start_time": "2021-11-21T22:10:02.373Z"
   },
   {
    "duration": 11,
    "start_time": "2021-11-21T22:10:02.393Z"
   },
   {
    "duration": 4,
    "start_time": "2021-11-21T22:10:02.406Z"
   },
   {
    "duration": 10,
    "start_time": "2021-11-21T22:10:02.411Z"
   },
   {
    "duration": 30,
    "start_time": "2021-11-21T22:10:02.423Z"
   },
   {
    "duration": 9,
    "start_time": "2021-11-21T22:10:02.455Z"
   },
   {
    "duration": 29,
    "start_time": "2021-11-21T22:10:02.465Z"
   },
   {
    "duration": 11,
    "start_time": "2021-11-21T22:10:02.496Z"
   },
   {
    "duration": 12,
    "start_time": "2021-11-21T22:10:02.508Z"
   },
   {
    "duration": 12,
    "start_time": "2021-11-21T22:10:02.525Z"
   },
   {
    "duration": 17,
    "start_time": "2021-11-21T22:10:02.539Z"
   },
   {
    "duration": 12,
    "start_time": "2021-11-21T22:10:02.558Z"
   },
   {
    "duration": 27,
    "start_time": "2021-11-21T22:10:02.571Z"
   },
   {
    "duration": 2,
    "start_time": "2021-11-21T22:10:02.599Z"
   },
   {
    "duration": 10,
    "start_time": "2021-11-21T22:10:02.603Z"
   },
   {
    "duration": 4,
    "start_time": "2021-11-21T22:10:02.614Z"
   },
   {
    "duration": 9,
    "start_time": "2021-11-21T22:10:02.620Z"
   },
   {
    "duration": 13,
    "start_time": "2021-11-21T22:10:02.631Z"
   },
   {
    "duration": 14,
    "start_time": "2021-11-21T22:10:02.645Z"
   },
   {
    "duration": 9,
    "start_time": "2021-11-21T22:10:02.660Z"
   },
   {
    "duration": 9,
    "start_time": "2021-11-21T22:10:02.671Z"
   },
   {
    "duration": 6,
    "start_time": "2021-11-21T22:10:02.691Z"
   },
   {
    "duration": 307537,
    "start_time": "2021-11-21T22:10:02.699Z"
   },
   {
    "duration": 2,
    "start_time": "2021-11-21T22:15:10.238Z"
   },
   {
    "duration": 2556,
    "start_time": "2021-11-21T22:15:10.242Z"
   },
   {
    "duration": 67831,
    "start_time": "2021-11-21T22:15:12.800Z"
   },
   {
    "duration": 552,
    "start_time": "2021-11-21T22:16:20.633Z"
   },
   {
    "duration": 472,
    "start_time": "2021-11-21T22:23:28.066Z"
   },
   {
    "duration": 573,
    "start_time": "2021-11-21T22:24:36.444Z"
   },
   {
    "duration": 478,
    "start_time": "2021-11-21T22:24:47.029Z"
   },
   {
    "duration": 6,
    "start_time": "2021-11-21T22:41:19.346Z"
   },
   {
    "duration": 1128,
    "start_time": "2021-11-21T22:43:47.034Z"
   },
   {
    "duration": 50,
    "start_time": "2021-11-21T22:43:48.164Z"
   },
   {
    "duration": 13,
    "start_time": "2021-11-21T22:43:48.216Z"
   },
   {
    "duration": 9,
    "start_time": "2021-11-21T22:43:48.230Z"
   },
   {
    "duration": 396,
    "start_time": "2021-11-21T22:43:48.241Z"
   },
   {
    "duration": 9,
    "start_time": "2021-11-21T22:43:48.639Z"
   },
   {
    "duration": 377,
    "start_time": "2021-11-21T22:43:48.649Z"
   },
   {
    "duration": 21,
    "start_time": "2021-11-21T22:43:49.028Z"
   },
   {
    "duration": 13,
    "start_time": "2021-11-21T22:43:49.051Z"
   },
   {
    "duration": 707,
    "start_time": "2021-11-21T22:43:49.066Z"
   },
   {
    "duration": 456,
    "start_time": "2021-11-21T22:43:49.775Z"
   },
   {
    "duration": 39,
    "start_time": "2021-11-21T22:43:50.233Z"
   },
   {
    "duration": 13,
    "start_time": "2021-11-21T22:43:50.274Z"
   },
   {
    "duration": 23,
    "start_time": "2021-11-21T22:43:50.289Z"
   },
   {
    "duration": 10,
    "start_time": "2021-11-21T22:43:50.313Z"
   },
   {
    "duration": 37,
    "start_time": "2021-11-21T22:43:50.325Z"
   },
   {
    "duration": 6,
    "start_time": "2021-11-21T22:43:50.364Z"
   },
   {
    "duration": 24,
    "start_time": "2021-11-21T22:43:50.372Z"
   },
   {
    "duration": 10,
    "start_time": "2021-11-21T22:43:50.398Z"
   },
   {
    "duration": 50,
    "start_time": "2021-11-21T22:43:50.409Z"
   },
   {
    "duration": 6,
    "start_time": "2021-11-21T22:43:50.461Z"
   },
   {
    "duration": 8,
    "start_time": "2021-11-21T22:43:50.469Z"
   },
   {
    "duration": 4,
    "start_time": "2021-11-21T22:43:50.481Z"
   },
   {
    "duration": 466,
    "start_time": "2021-11-21T22:43:50.487Z"
   },
   {
    "duration": 6,
    "start_time": "2021-11-21T22:43:50.955Z"
   },
   {
    "duration": 3,
    "start_time": "2021-11-21T22:43:50.962Z"
   },
   {
    "duration": 32,
    "start_time": "2021-11-21T22:43:50.967Z"
   },
   {
    "duration": 5,
    "start_time": "2021-11-21T22:43:51.001Z"
   },
   {
    "duration": 11,
    "start_time": "2021-11-21T22:43:51.007Z"
   },
   {
    "duration": 11,
    "start_time": "2021-11-21T22:43:51.019Z"
   },
   {
    "duration": 13,
    "start_time": "2021-11-21T22:43:51.031Z"
   },
   {
    "duration": 14,
    "start_time": "2021-11-21T22:43:51.046Z"
   },
   {
    "duration": 5,
    "start_time": "2021-11-21T22:43:51.061Z"
   },
   {
    "duration": 378,
    "start_time": "2021-11-21T22:43:51.068Z"
   },
   {
    "duration": 7,
    "start_time": "2021-11-21T22:43:51.447Z"
   },
   {
    "duration": 495,
    "start_time": "2021-11-21T22:43:51.456Z"
   },
   {
    "duration": 9,
    "start_time": "2021-11-21T22:43:51.953Z"
   },
   {
    "duration": 3,
    "start_time": "2021-11-21T22:43:51.964Z"
   },
   {
    "duration": 25,
    "start_time": "2021-11-21T22:43:51.969Z"
   },
   {
    "duration": 5,
    "start_time": "2021-11-21T22:43:51.995Z"
   },
   {
    "duration": 22,
    "start_time": "2021-11-21T22:43:52.002Z"
   },
   {
    "duration": 12,
    "start_time": "2021-11-21T22:43:52.025Z"
   },
   {
    "duration": 9,
    "start_time": "2021-11-21T22:43:52.039Z"
   },
   {
    "duration": 6,
    "start_time": "2021-11-21T22:43:52.049Z"
   },
   {
    "duration": 39,
    "start_time": "2021-11-21T22:43:52.056Z"
   },
   {
    "duration": 8,
    "start_time": "2021-11-21T22:43:52.096Z"
   },
   {
    "duration": 5,
    "start_time": "2021-11-21T22:43:52.105Z"
   },
   {
    "duration": 6,
    "start_time": "2021-11-21T22:43:52.112Z"
   },
   {
    "duration": 6,
    "start_time": "2021-11-21T22:43:52.119Z"
   },
   {
    "duration": 8,
    "start_time": "2021-11-21T22:43:52.127Z"
   },
   {
    "duration": 5,
    "start_time": "2021-11-21T22:43:52.136Z"
   },
   {
    "duration": 13,
    "start_time": "2021-11-21T22:43:52.143Z"
   },
   {
    "duration": 33,
    "start_time": "2021-11-21T22:43:52.158Z"
   },
   {
    "duration": 7,
    "start_time": "2021-11-21T22:43:52.193Z"
   },
   {
    "duration": 17,
    "start_time": "2021-11-21T22:43:52.201Z"
   },
   {
    "duration": 749,
    "start_time": "2021-11-21T22:43:52.220Z"
   },
   {
    "duration": 7,
    "start_time": "2021-11-21T22:43:52.971Z"
   },
   {
    "duration": 16,
    "start_time": "2021-11-21T22:43:52.980Z"
   },
   {
    "duration": 4,
    "start_time": "2021-11-21T22:43:52.998Z"
   },
   {
    "duration": 11,
    "start_time": "2021-11-21T22:43:53.004Z"
   },
   {
    "duration": 4,
    "start_time": "2021-11-21T22:43:53.017Z"
   },
   {
    "duration": 8,
    "start_time": "2021-11-21T22:43:53.022Z"
   },
   {
    "duration": 24,
    "start_time": "2021-11-21T22:43:53.032Z"
   },
   {
    "duration": 33,
    "start_time": "2021-11-21T22:43:53.058Z"
   },
   {
    "duration": 7,
    "start_time": "2021-11-21T22:43:53.094Z"
   },
   {
    "duration": 11,
    "start_time": "2021-11-21T22:43:53.103Z"
   },
   {
    "duration": 9,
    "start_time": "2021-11-21T22:43:53.116Z"
   },
   {
    "duration": 11,
    "start_time": "2021-11-21T22:43:53.130Z"
   },
   {
    "duration": 11,
    "start_time": "2021-11-21T22:43:53.143Z"
   },
   {
    "duration": 12,
    "start_time": "2021-11-21T22:43:53.191Z"
   },
   {
    "duration": 11,
    "start_time": "2021-11-21T22:43:53.204Z"
   },
   {
    "duration": 3,
    "start_time": "2021-11-21T22:43:53.216Z"
   },
   {
    "duration": 7,
    "start_time": "2021-11-21T22:43:53.220Z"
   },
   {
    "duration": 3,
    "start_time": "2021-11-21T22:43:53.229Z"
   },
   {
    "duration": 7,
    "start_time": "2021-11-21T22:43:53.233Z"
   },
   {
    "duration": 11,
    "start_time": "2021-11-21T22:43:53.241Z"
   },
   {
    "duration": 39,
    "start_time": "2021-11-21T22:43:53.253Z"
   },
   {
    "duration": 9,
    "start_time": "2021-11-21T22:43:53.294Z"
   },
   {
    "duration": 5,
    "start_time": "2021-11-21T22:43:53.305Z"
   },
   {
    "duration": 7,
    "start_time": "2021-11-21T22:43:53.312Z"
   },
   {
    "duration": 307642,
    "start_time": "2021-11-21T22:43:53.321Z"
   },
   {
    "duration": 3,
    "start_time": "2021-11-21T22:49:00.966Z"
   },
   {
    "duration": 2831,
    "start_time": "2021-11-21T22:49:00.971Z"
   },
   {
    "duration": 67224,
    "start_time": "2021-11-21T22:49:03.803Z"
   },
   {
    "duration": 562,
    "start_time": "2021-11-21T22:50:11.029Z"
   },
   {
    "duration": 3,
    "start_time": "2021-11-21T22:50:11.593Z"
   },
   {
    "duration": 275,
    "start_time": "2021-11-21T22:50:11.597Z"
   },
   {
    "duration": -1354,
    "start_time": "2021-11-21T22:50:13.228Z"
   },
   {
    "duration": -1356,
    "start_time": "2021-11-21T22:50:13.231Z"
   },
   {
    "duration": -1358,
    "start_time": "2021-11-21T22:50:13.234Z"
   },
   {
    "duration": -1360,
    "start_time": "2021-11-21T22:50:13.236Z"
   },
   {
    "duration": 5,
    "start_time": "2021-11-21T22:54:14.187Z"
   },
   {
    "duration": 8,
    "start_time": "2021-11-21T22:54:24.085Z"
   },
   {
    "duration": 447,
    "start_time": "2021-11-21T22:56:23.804Z"
   },
   {
    "duration": 529,
    "start_time": "2021-11-21T22:56:49.267Z"
   },
   {
    "duration": 342,
    "start_time": "2021-11-21T22:57:08.075Z"
   },
   {
    "duration": 7,
    "start_time": "2021-11-21T23:11:18.882Z"
   },
   {
    "duration": 18340,
    "start_time": "2021-11-21T23:11:23.236Z"
   },
   {
    "duration": 5327,
    "start_time": "2021-11-21T23:12:01.374Z"
   },
   {
    "duration": 1182,
    "start_time": "2021-11-21T23:12:11.265Z"
   },
   {
    "duration": 49,
    "start_time": "2021-11-21T23:12:12.448Z"
   },
   {
    "duration": 12,
    "start_time": "2021-11-21T23:12:12.499Z"
   },
   {
    "duration": 16,
    "start_time": "2021-11-21T23:12:12.513Z"
   },
   {
    "duration": 379,
    "start_time": "2021-11-21T23:12:12.531Z"
   },
   {
    "duration": 10,
    "start_time": "2021-11-21T23:12:12.912Z"
   },
   {
    "duration": 365,
    "start_time": "2021-11-21T23:12:12.924Z"
   },
   {
    "duration": 23,
    "start_time": "2021-11-21T23:12:13.293Z"
   },
   {
    "duration": 14,
    "start_time": "2021-11-21T23:12:13.319Z"
   },
   {
    "duration": 682,
    "start_time": "2021-11-21T23:12:13.335Z"
   },
   {
    "duration": 420,
    "start_time": "2021-11-21T23:12:14.019Z"
   },
   {
    "duration": 39,
    "start_time": "2021-11-21T23:12:14.442Z"
   },
   {
    "duration": 14,
    "start_time": "2021-11-21T23:12:14.483Z"
   },
   {
    "duration": 21,
    "start_time": "2021-11-21T23:12:14.498Z"
   },
   {
    "duration": 11,
    "start_time": "2021-11-21T23:12:14.521Z"
   },
   {
    "duration": 35,
    "start_time": "2021-11-21T23:12:14.533Z"
   },
   {
    "duration": 6,
    "start_time": "2021-11-21T23:12:14.570Z"
   },
   {
    "duration": 34,
    "start_time": "2021-11-21T23:12:14.578Z"
   },
   {
    "duration": 10,
    "start_time": "2021-11-21T23:12:14.614Z"
   },
   {
    "duration": 78,
    "start_time": "2021-11-21T23:12:14.625Z"
   },
   {
    "duration": 5,
    "start_time": "2021-11-21T23:12:14.705Z"
   },
   {
    "duration": 9,
    "start_time": "2021-11-21T23:12:14.712Z"
   },
   {
    "duration": 3,
    "start_time": "2021-11-21T23:12:14.725Z"
   },
   {
    "duration": 474,
    "start_time": "2021-11-21T23:12:14.730Z"
   },
   {
    "duration": 6,
    "start_time": "2021-11-21T23:12:15.206Z"
   },
   {
    "duration": 7,
    "start_time": "2021-11-21T23:12:15.213Z"
   },
   {
    "duration": 31,
    "start_time": "2021-11-21T23:12:15.221Z"
   },
   {
    "duration": 5,
    "start_time": "2021-11-21T23:12:15.254Z"
   },
   {
    "duration": 6,
    "start_time": "2021-11-21T23:12:15.260Z"
   },
   {
    "duration": 8,
    "start_time": "2021-11-21T23:12:15.267Z"
   },
   {
    "duration": 21,
    "start_time": "2021-11-21T23:12:15.277Z"
   },
   {
    "duration": 15,
    "start_time": "2021-11-21T23:12:15.300Z"
   },
   {
    "duration": 7,
    "start_time": "2021-11-21T23:12:15.316Z"
   },
   {
    "duration": 384,
    "start_time": "2021-11-21T23:12:15.324Z"
   },
   {
    "duration": 5,
    "start_time": "2021-11-21T23:12:15.710Z"
   },
   {
    "duration": 480,
    "start_time": "2021-11-21T23:12:15.717Z"
   },
   {
    "duration": 8,
    "start_time": "2021-11-21T23:12:16.198Z"
   },
   {
    "duration": 3,
    "start_time": "2021-11-21T23:12:16.208Z"
   },
   {
    "duration": 7,
    "start_time": "2021-11-21T23:12:16.213Z"
   },
   {
    "duration": 6,
    "start_time": "2021-11-21T23:12:16.221Z"
   },
   {
    "duration": 22,
    "start_time": "2021-11-21T23:12:16.228Z"
   },
   {
    "duration": 49,
    "start_time": "2021-11-21T23:12:16.252Z"
   },
   {
    "duration": 10,
    "start_time": "2021-11-21T23:12:16.302Z"
   },
   {
    "duration": 15,
    "start_time": "2021-11-21T23:12:16.313Z"
   },
   {
    "duration": 18,
    "start_time": "2021-11-21T23:12:16.330Z"
   },
   {
    "duration": 13,
    "start_time": "2021-11-21T23:12:16.349Z"
   },
   {
    "duration": 7,
    "start_time": "2021-11-21T23:12:16.364Z"
   },
   {
    "duration": 15,
    "start_time": "2021-11-21T23:12:16.373Z"
   },
   {
    "duration": 16,
    "start_time": "2021-11-21T23:12:16.389Z"
   },
   {
    "duration": 22,
    "start_time": "2021-11-21T23:12:16.406Z"
   },
   {
    "duration": 23,
    "start_time": "2021-11-21T23:12:16.430Z"
   },
   {
    "duration": 30,
    "start_time": "2021-11-21T23:12:16.454Z"
   },
   {
    "duration": 16,
    "start_time": "2021-11-21T23:12:16.486Z"
   },
   {
    "duration": 24,
    "start_time": "2021-11-21T23:12:16.503Z"
   },
   {
    "duration": 42,
    "start_time": "2021-11-21T23:12:16.528Z"
   },
   {
    "duration": 762,
    "start_time": "2021-11-21T23:12:16.572Z"
   },
   {
    "duration": 7,
    "start_time": "2021-11-21T23:12:17.335Z"
   },
   {
    "duration": 29,
    "start_time": "2021-11-21T23:12:17.344Z"
   },
   {
    "duration": 25,
    "start_time": "2021-11-21T23:12:17.375Z"
   },
   {
    "duration": 37,
    "start_time": "2021-11-21T23:12:17.401Z"
   },
   {
    "duration": 25,
    "start_time": "2021-11-21T23:12:17.440Z"
   },
   {
    "duration": 27,
    "start_time": "2021-11-21T23:12:17.467Z"
   },
   {
    "duration": 29,
    "start_time": "2021-11-21T23:12:17.495Z"
   },
   {
    "duration": 18,
    "start_time": "2021-11-21T23:12:17.526Z"
   },
   {
    "duration": 31,
    "start_time": "2021-11-21T23:12:17.546Z"
   },
   {
    "duration": 17,
    "start_time": "2021-11-21T23:12:17.578Z"
   },
   {
    "duration": 16,
    "start_time": "2021-11-21T23:12:17.597Z"
   },
   {
    "duration": 16,
    "start_time": "2021-11-21T23:12:17.618Z"
   },
   {
    "duration": 10,
    "start_time": "2021-11-21T23:12:17.636Z"
   },
   {
    "duration": 23,
    "start_time": "2021-11-21T23:12:17.648Z"
   },
   {
    "duration": 23,
    "start_time": "2021-11-21T23:12:17.672Z"
   },
   {
    "duration": 5,
    "start_time": "2021-11-21T23:12:17.696Z"
   },
   {
    "duration": 19,
    "start_time": "2021-11-21T23:12:17.702Z"
   },
   {
    "duration": 12,
    "start_time": "2021-11-21T23:12:17.723Z"
   },
   {
    "duration": 11,
    "start_time": "2021-11-21T23:12:17.737Z"
   },
   {
    "duration": 28,
    "start_time": "2021-11-21T23:12:17.750Z"
   },
   {
    "duration": 37,
    "start_time": "2021-11-21T23:12:17.780Z"
   },
   {
    "duration": 33,
    "start_time": "2021-11-21T23:12:17.819Z"
   },
   {
    "duration": 26,
    "start_time": "2021-11-21T23:12:17.853Z"
   },
   {
    "duration": 12,
    "start_time": "2021-11-21T23:12:17.881Z"
   },
   {
    "duration": 307398,
    "start_time": "2021-11-21T23:12:17.894Z"
   },
   {
    "duration": 2,
    "start_time": "2021-11-21T23:17:25.294Z"
   },
   {
    "duration": 2703,
    "start_time": "2021-11-21T23:17:25.297Z"
   },
   {
    "duration": 68005,
    "start_time": "2021-11-21T23:17:28.001Z"
   },
   {
    "duration": 378,
    "start_time": "2021-11-21T23:18:36.008Z"
   },
   {
    "duration": 464,
    "start_time": "2021-11-21T23:18:36.387Z"
   },
   {
    "duration": 6,
    "start_time": "2021-11-21T23:18:36.853Z"
   },
   {
    "duration": 65204,
    "start_time": "2021-11-21T23:18:36.861Z"
   },
   {
    "duration": 12878,
    "start_time": "2021-11-21T23:23:54.410Z"
   },
   {
    "duration": 3513,
    "start_time": "2021-11-21T23:24:18.379Z"
   },
   {
    "duration": 221938,
    "start_time": "2021-11-21T23:25:19.344Z"
   },
   {
    "duration": 7,
    "start_time": "2021-11-21T23:32:42.412Z"
   },
   {
    "duration": 395,
    "start_time": "2021-11-21T23:33:54.674Z"
   },
   {
    "duration": 325,
    "start_time": "2021-11-21T23:36:29.198Z"
   },
   {
    "duration": 346,
    "start_time": "2021-11-21T23:37:33.377Z"
   },
   {
    "duration": 1176,
    "start_time": "2021-11-21T23:52:57.281Z"
   },
   {
    "duration": 47,
    "start_time": "2021-11-21T23:52:58.459Z"
   },
   {
    "duration": 11,
    "start_time": "2021-11-21T23:52:58.510Z"
   },
   {
    "duration": 10,
    "start_time": "2021-11-21T23:52:58.522Z"
   },
   {
    "duration": 386,
    "start_time": "2021-11-21T23:52:58.534Z"
   },
   {
    "duration": 8,
    "start_time": "2021-11-21T23:52:58.922Z"
   },
   {
    "duration": 365,
    "start_time": "2021-11-21T23:52:58.932Z"
   },
   {
    "duration": 21,
    "start_time": "2021-11-21T23:52:59.299Z"
   },
   {
    "duration": 13,
    "start_time": "2021-11-21T23:52:59.321Z"
   },
   {
    "duration": 674,
    "start_time": "2021-11-21T23:52:59.336Z"
   },
   {
    "duration": 423,
    "start_time": "2021-11-21T23:53:00.011Z"
   },
   {
    "duration": 40,
    "start_time": "2021-11-21T23:53:00.436Z"
   },
   {
    "duration": 12,
    "start_time": "2021-11-21T23:53:00.478Z"
   },
   {
    "duration": 23,
    "start_time": "2021-11-21T23:53:00.492Z"
   },
   {
    "duration": 18,
    "start_time": "2021-11-21T23:53:00.516Z"
   },
   {
    "duration": 45,
    "start_time": "2021-11-21T23:53:00.535Z"
   },
   {
    "duration": 6,
    "start_time": "2021-11-21T23:53:00.581Z"
   },
   {
    "duration": 30,
    "start_time": "2021-11-21T23:53:00.589Z"
   },
   {
    "duration": 16,
    "start_time": "2021-11-21T23:53:00.621Z"
   },
   {
    "duration": 75,
    "start_time": "2021-11-21T23:53:00.639Z"
   },
   {
    "duration": 14,
    "start_time": "2021-11-21T23:53:00.716Z"
   },
   {
    "duration": 21,
    "start_time": "2021-11-21T23:53:00.733Z"
   },
   {
    "duration": 22,
    "start_time": "2021-11-21T23:53:00.756Z"
   },
   {
    "duration": 466,
    "start_time": "2021-11-21T23:53:00.780Z"
   },
   {
    "duration": 6,
    "start_time": "2021-11-21T23:53:01.248Z"
   },
   {
    "duration": 3,
    "start_time": "2021-11-21T23:53:01.256Z"
   },
   {
    "duration": 35,
    "start_time": "2021-11-21T23:53:01.261Z"
   },
   {
    "duration": 5,
    "start_time": "2021-11-21T23:53:01.297Z"
   },
   {
    "duration": 9,
    "start_time": "2021-11-21T23:53:01.304Z"
   },
   {
    "duration": 11,
    "start_time": "2021-11-21T23:53:01.315Z"
   },
   {
    "duration": 15,
    "start_time": "2021-11-21T23:53:01.328Z"
   },
   {
    "duration": 15,
    "start_time": "2021-11-21T23:53:01.344Z"
   },
   {
    "duration": 5,
    "start_time": "2021-11-21T23:53:01.361Z"
   },
   {
    "duration": 385,
    "start_time": "2021-11-21T23:53:01.368Z"
   },
   {
    "duration": 7,
    "start_time": "2021-11-21T23:53:01.754Z"
   },
   {
    "duration": 488,
    "start_time": "2021-11-21T23:53:01.762Z"
   },
   {
    "duration": 8,
    "start_time": "2021-11-21T23:53:02.252Z"
   },
   {
    "duration": 5,
    "start_time": "2021-11-21T23:53:02.262Z"
   },
   {
    "duration": 23,
    "start_time": "2021-11-21T23:53:02.268Z"
   },
   {
    "duration": 5,
    "start_time": "2021-11-21T23:53:02.293Z"
   },
   {
    "duration": 26,
    "start_time": "2021-11-21T23:53:02.299Z"
   },
   {
    "duration": 12,
    "start_time": "2021-11-21T23:53:02.326Z"
   },
   {
    "duration": 9,
    "start_time": "2021-11-21T23:53:02.340Z"
   },
   {
    "duration": 5,
    "start_time": "2021-11-21T23:53:02.351Z"
   },
   {
    "duration": 39,
    "start_time": "2021-11-21T23:53:02.357Z"
   },
   {
    "duration": 9,
    "start_time": "2021-11-21T23:53:02.397Z"
   },
   {
    "duration": 12,
    "start_time": "2021-11-21T23:53:02.407Z"
   },
   {
    "duration": 6,
    "start_time": "2021-11-21T23:53:02.420Z"
   },
   {
    "duration": 5,
    "start_time": "2021-11-21T23:53:02.428Z"
   },
   {
    "duration": 9,
    "start_time": "2021-11-21T23:53:02.435Z"
   },
   {
    "duration": 5,
    "start_time": "2021-11-21T23:53:02.446Z"
   },
   {
    "duration": 15,
    "start_time": "2021-11-21T23:53:02.453Z"
   },
   {
    "duration": 23,
    "start_time": "2021-11-21T23:53:02.470Z"
   },
   {
    "duration": 7,
    "start_time": "2021-11-21T23:53:02.494Z"
   },
   {
    "duration": 17,
    "start_time": "2021-11-21T23:53:02.503Z"
   },
   {
    "duration": 722,
    "start_time": "2021-11-21T23:53:02.521Z"
   },
   {
    "duration": 6,
    "start_time": "2021-11-21T23:53:03.244Z"
   },
   {
    "duration": 9,
    "start_time": "2021-11-21T23:53:03.252Z"
   },
   {
    "duration": 3,
    "start_time": "2021-11-21T23:53:03.262Z"
   },
   {
    "duration": 7,
    "start_time": "2021-11-21T23:53:03.266Z"
   },
   {
    "duration": 4,
    "start_time": "2021-11-21T23:53:03.290Z"
   },
   {
    "duration": 7,
    "start_time": "2021-11-21T23:53:03.295Z"
   },
   {
    "duration": 25,
    "start_time": "2021-11-21T23:53:03.303Z"
   },
   {
    "duration": 7,
    "start_time": "2021-11-21T23:53:03.330Z"
   },
   {
    "duration": 8,
    "start_time": "2021-11-21T23:53:03.339Z"
   },
   {
    "duration": 8,
    "start_time": "2021-11-21T23:53:03.348Z"
   },
   {
    "duration": 30,
    "start_time": "2021-11-21T23:53:03.361Z"
   },
   {
    "duration": 9,
    "start_time": "2021-11-21T23:53:03.394Z"
   },
   {
    "duration": 9,
    "start_time": "2021-11-21T23:53:03.405Z"
   },
   {
    "duration": 10,
    "start_time": "2021-11-21T23:53:03.416Z"
   },
   {
    "duration": 10,
    "start_time": "2021-11-21T23:53:03.428Z"
   },
   {
    "duration": 2,
    "start_time": "2021-11-21T23:53:03.440Z"
   },
   {
    "duration": 8,
    "start_time": "2021-11-21T23:53:03.444Z"
   },
   {
    "duration": 38,
    "start_time": "2021-11-21T23:53:03.453Z"
   },
   {
    "duration": 9,
    "start_time": "2021-11-21T23:53:03.493Z"
   },
   {
    "duration": 12,
    "start_time": "2021-11-21T23:53:03.504Z"
   },
   {
    "duration": 5,
    "start_time": "2021-11-21T23:53:03.518Z"
   },
   {
    "duration": 9,
    "start_time": "2021-11-21T23:53:03.525Z"
   },
   {
    "duration": 4,
    "start_time": "2021-11-21T23:53:03.535Z"
   },
   {
    "duration": 7,
    "start_time": "2021-11-21T23:53:03.541Z"
   },
   {
    "duration": 307717,
    "start_time": "2021-11-21T23:53:03.549Z"
   },
   {
    "duration": 3,
    "start_time": "2021-11-21T23:58:11.268Z"
   },
   {
    "duration": 14229,
    "start_time": "2021-11-21T23:58:11.273Z"
   },
   {
    "duration": 67698,
    "start_time": "2021-11-21T23:58:25.504Z"
   },
   {
    "duration": 373,
    "start_time": "2021-11-21T23:59:33.204Z"
   },
   {
    "duration": 478,
    "start_time": "2021-11-21T23:59:33.579Z"
   },
   {
    "duration": 6,
    "start_time": "2021-11-21T23:59:34.058Z"
   },
   {
    "duration": 67664,
    "start_time": "2021-11-21T23:59:34.066Z"
   },
   {
    "duration": 1773,
    "start_time": "2021-11-22T00:00:41.731Z"
   },
   {
    "duration": 221413,
    "start_time": "2021-11-22T00:00:43.506Z"
   },
   {
    "duration": 6,
    "start_time": "2021-11-22T00:04:24.921Z"
   },
   {
    "duration": 334,
    "start_time": "2021-11-22T00:04:24.929Z"
   },
   {
    "duration": 4610,
    "start_time": "2021-11-22T10:38:41.989Z"
   },
   {
    "duration": 279,
    "start_time": "2021-11-22T10:38:46.610Z"
   },
   {
    "duration": 98,
    "start_time": "2021-11-22T10:38:46.891Z"
   },
   {
    "duration": 9,
    "start_time": "2021-11-22T10:38:46.991Z"
   },
   {
    "duration": 1888,
    "start_time": "2021-11-22T10:38:47.002Z"
   },
   {
    "duration": 9,
    "start_time": "2021-11-22T10:38:48.892Z"
   },
   {
    "duration": 1995,
    "start_time": "2021-11-22T10:38:48.902Z"
   },
   {
    "duration": 97,
    "start_time": "2021-11-22T10:38:50.899Z"
   },
   {
    "duration": 106,
    "start_time": "2021-11-22T10:38:50.998Z"
   },
   {
    "duration": 3789,
    "start_time": "2021-11-22T10:38:51.106Z"
   },
   {
    "duration": 2291,
    "start_time": "2021-11-22T10:38:54.897Z"
   },
   {
    "duration": 116,
    "start_time": "2021-11-22T10:38:57.190Z"
   },
   {
    "duration": 95,
    "start_time": "2021-11-22T10:38:57.307Z"
   },
   {
    "duration": 99,
    "start_time": "2021-11-22T10:38:57.488Z"
   },
   {
    "duration": 99,
    "start_time": "2021-11-22T10:38:57.590Z"
   },
   {
    "duration": 196,
    "start_time": "2021-11-22T10:38:57.692Z"
   },
   {
    "duration": 9,
    "start_time": "2021-11-22T10:38:57.891Z"
   },
   {
    "duration": 99,
    "start_time": "2021-11-22T10:38:57.901Z"
   },
   {
    "duration": 96,
    "start_time": "2021-11-22T10:38:58.002Z"
   },
   {
    "duration": 106,
    "start_time": "2021-11-22T10:38:58.188Z"
   },
   {
    "duration": 7,
    "start_time": "2021-11-22T10:38:58.297Z"
   },
   {
    "duration": 9,
    "start_time": "2021-11-22T10:38:58.389Z"
   },
   {
    "duration": 5,
    "start_time": "2021-11-22T10:38:58.400Z"
   },
   {
    "duration": 2385,
    "start_time": "2021-11-22T10:38:58.407Z"
   },
   {
    "duration": 8,
    "start_time": "2021-11-22T10:39:00.796Z"
   },
   {
    "duration": 4,
    "start_time": "2021-11-22T10:39:00.888Z"
   },
   {
    "duration": 106,
    "start_time": "2021-11-22T10:39:00.894Z"
   },
   {
    "duration": 86,
    "start_time": "2021-11-22T10:39:01.002Z"
   },
   {
    "duration": 5,
    "start_time": "2021-11-22T10:39:01.090Z"
   },
   {
    "duration": 8,
    "start_time": "2021-11-22T10:39:01.097Z"
   },
   {
    "duration": 9,
    "start_time": "2021-11-22T10:39:01.189Z"
   },
   {
    "duration": 91,
    "start_time": "2021-11-22T10:39:01.200Z"
   },
   {
    "duration": 6,
    "start_time": "2021-11-22T10:39:01.293Z"
   },
   {
    "duration": 1991,
    "start_time": "2021-11-22T10:39:01.301Z"
   },
   {
    "duration": 6,
    "start_time": "2021-11-22T10:39:03.294Z"
   },
   {
    "duration": 1295,
    "start_time": "2021-11-22T10:39:03.308Z"
   },
   {
    "duration": 8,
    "start_time": "2021-11-22T10:39:04.605Z"
   },
   {
    "duration": 4,
    "start_time": "2021-11-22T10:39:04.614Z"
   },
   {
    "duration": 7,
    "start_time": "2021-11-22T10:39:04.619Z"
   },
   {
    "duration": 6,
    "start_time": "2021-11-22T10:39:04.628Z"
   },
   {
    "duration": 65,
    "start_time": "2021-11-22T10:39:04.635Z"
   },
   {
    "duration": 12,
    "start_time": "2021-11-22T10:39:04.703Z"
   },
   {
    "duration": 10,
    "start_time": "2021-11-22T10:39:04.717Z"
   },
   {
    "duration": 7,
    "start_time": "2021-11-22T10:39:04.729Z"
   },
   {
    "duration": 8,
    "start_time": "2021-11-22T10:39:04.738Z"
   },
   {
    "duration": 42,
    "start_time": "2021-11-22T10:39:04.748Z"
   },
   {
    "duration": 22,
    "start_time": "2021-11-22T10:39:04.791Z"
   },
   {
    "duration": 16,
    "start_time": "2021-11-22T10:39:04.815Z"
   },
   {
    "duration": 4,
    "start_time": "2021-11-22T10:39:04.832Z"
   },
   {
    "duration": 10,
    "start_time": "2021-11-22T10:39:04.838Z"
   },
   {
    "duration": 4,
    "start_time": "2021-11-22T10:39:04.850Z"
   },
   {
    "duration": 12,
    "start_time": "2021-11-22T10:39:04.855Z"
   },
   {
    "duration": 6,
    "start_time": "2021-11-22T10:39:04.868Z"
   },
   {
    "duration": 6,
    "start_time": "2021-11-22T10:39:04.875Z"
   },
   {
    "duration": 15,
    "start_time": "2021-11-22T10:39:04.882Z"
   },
   {
    "duration": 3002,
    "start_time": "2021-11-22T10:39:04.898Z"
   },
   {
    "duration": 87,
    "start_time": "2021-11-22T10:39:07.901Z"
   },
   {
    "duration": 10,
    "start_time": "2021-11-22T10:39:07.990Z"
   },
   {
    "duration": 87,
    "start_time": "2021-11-22T10:39:08.002Z"
   },
   {
    "duration": 12,
    "start_time": "2021-11-22T10:39:08.091Z"
   },
   {
    "duration": 5,
    "start_time": "2021-11-22T10:39:08.189Z"
   },
   {
    "duration": 9,
    "start_time": "2021-11-22T10:39:08.195Z"
   },
   {
    "duration": 186,
    "start_time": "2021-11-22T10:39:08.206Z"
   },
   {
    "duration": 9,
    "start_time": "2021-11-22T10:39:08.394Z"
   },
   {
    "duration": 87,
    "start_time": "2021-11-22T10:39:08.404Z"
   },
   {
    "duration": 10,
    "start_time": "2021-11-22T10:39:08.494Z"
   },
   {
    "duration": 6,
    "start_time": "2021-11-22T10:39:08.507Z"
   },
   {
    "duration": 81,
    "start_time": "2021-11-22T10:39:08.514Z"
   },
   {
    "duration": 96,
    "start_time": "2021-11-22T10:39:08.597Z"
   },
   {
    "duration": 11,
    "start_time": "2021-11-22T10:39:08.695Z"
   },
   {
    "duration": 90,
    "start_time": "2021-11-22T10:39:08.708Z"
   },
   {
    "duration": 3,
    "start_time": "2021-11-22T10:39:08.800Z"
   },
   {
    "duration": 94,
    "start_time": "2021-11-22T10:39:08.805Z"
   },
   {
    "duration": 4,
    "start_time": "2021-11-22T10:39:08.900Z"
   },
   {
    "duration": 87,
    "start_time": "2021-11-22T10:39:08.905Z"
   },
   {
    "duration": 11,
    "start_time": "2021-11-22T10:39:08.994Z"
   },
   {
    "duration": 81,
    "start_time": "2021-11-22T10:39:09.007Z"
   },
   {
    "duration": 11,
    "start_time": "2021-11-22T10:39:09.090Z"
   },
   {
    "duration": 88,
    "start_time": "2021-11-22T10:39:09.103Z"
   },
   {
    "duration": 12,
    "start_time": "2021-11-22T10:39:09.193Z"
   },
   {
    "duration": 436924,
    "start_time": "2021-11-22T10:39:11.288Z"
   },
   {
    "duration": 3,
    "start_time": "2021-11-22T10:46:28.214Z"
   },
   {
    "duration": 281079,
    "start_time": "2021-11-22T10:46:28.220Z"
   },
   {
    "duration": 16,
    "start_time": "2021-11-22T10:53:17.188Z"
   },
   {
    "duration": 136,
    "start_time": "2021-11-22T14:21:27.655Z"
   }
  ],
  "kernelspec": {
   "display_name": "Python 3 (ipykernel)",
   "language": "python",
   "name": "python3"
  },
  "language_info": {
   "codemirror_mode": {
    "name": "ipython",
    "version": 3
   },
   "file_extension": ".py",
   "mimetype": "text/x-python",
   "name": "python",
   "nbconvert_exporter": "python",
   "pygments_lexer": "ipython3",
   "version": "3.9.5"
  },
  "toc": {
   "base_numbering": 1,
   "nav_menu": {},
   "number_sections": false,
   "sideBar": true,
   "skip_h1_title": true,
   "title_cell": "Table of Contents",
   "title_sidebar": "Contents",
   "toc_cell": false,
   "toc_position": {
    "height": "calc(100% - 180px)",
    "left": "10px",
    "top": "150px",
    "width": "212.021px"
   },
   "toc_section_display": true,
   "toc_window_display": true
  }
 },
 "nbformat": 4,
 "nbformat_minor": 2
}
