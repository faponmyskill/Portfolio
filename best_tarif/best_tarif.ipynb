{
 "cells": [
  {
   "cell_type": "markdown",
   "metadata": {},
   "source": [
    "<div style=\"border:solid green 2px; padding: 20px\">\n",
    "<b>Александр, привет!</b>\n",
    "\n",
    "Меня зовут Марина К, и я буду проверять твой проект. Предлагаю общаться на «ты» :) Но если это не удобно - дай мне знать, и мы перейдем на «вы». \n",
    "\n",
    "Ты проделал большую работу над проектом, но давай сделаем его еще лучше! Ниже ты найдешь мои комментарии - пожалуйста, не перемещай, не изменяй и не удаляй их. Я буду использовать цветовую разметку:\n",
    "\n",
    "<div class=\"alert alert-danger\">\n",
    "<b>Комментарии ревьюера:</b> Так выделены самые важные замечания. Без их отработки проект не будет принят. </div>\n",
    "\n",
    "<div class=\"alert alert-warning\">\n",
    "<b>Комментарии ревьюера:</b> Так выделены небольшие замечания. Одно-два таких замечания в проекте допустимы, но если их будет больше - тебе будет необходимо внести исправления.  </div>\n",
    "\n",
    "<div class=\"alert alert-success\">\n",
    "<b>Комментарии ревьюера:</b> Так я выделяю все остальные комментарии, твои удачные решения, комментарии по твоим промежуточным выводам и даю подсказки, как можно улучшить твоё решение.</div>\n",
    "\n",
    "Давай работать над проектом в диалоге: если ты что-то меняешь в проекте или отвечаешь на мои комментарии — пиши об этом. Мне будет легче отследить изменения, если ты выделишь свои комментарии:\n",
    "<div class=\"alert alert-info\"> <b>Комментарии студента:</b> Например, вот так.</div>\n",
    "\n",
    "Всё это поможет выполнить повторную проверку твоего проекта оперативнее. Если будут какие-нибудь вопросы по моим комментариям, пиши, будем разбираться вместе :)"
   ]
  },
  {
   "cell_type": "markdown",
   "metadata": {},
   "source": []
  },
  {
   "cell_type": "markdown",
   "metadata": {},
   "source": [
    "# Определение перспективного тарифа для телеком компании"
   ]
  },
  {
   "cell_type": "markdown",
   "metadata": {},
   "source": [
    "<div class=\"alert alert-warning\">\n",
    "<b>Комментарии ревьюера:</b> <s>Было бы здорово поработать над введением в проект. Это очень важно - ты знакомишь читателя со своей работой. Твой отчет может читать человек, который плохо понимает код, поэтому важно в начале проекта обозначить, что мы будем делать, какие цели ставим. \n",
    "\n",
    "Можно сделать краткое описание проекта, отдельно зафиксировать цель, сделать описание входных данных и план (желательно ссылками). Подробнее про оформление проектов можно прочитать в ноушн. Если будут проблемы с доступом в ноушн, можно обратиться к куратору :) </s>\n",
    "    \n",
    "Теперь все супер!\n",
    "</div>"
   ]
  },
  {
   "cell_type": "markdown",
   "metadata": {},
   "source": [
    "**Описание проекта**\n",
    "\n",
    "Клиентам предлагают два тарифных плана: «Смарт» и «Ультра». Чтобы скорректировать рекламный бюджет, коммерческий департамент хочет понять, какой тариф приносит больше денег.\n",
    "\n",
    "Для этого мы возьмем данные 500 пользователей «Мегалайна»: кто они, откуда, каким тарифом пользуются, сколько звонков и сообщений каждый отправил за 2018 год. Проанализируем их поведение сделаем вывод — какой тариф лучше.\n",
    "\n",
    "Но предварительно ознакомимся со всеми таблицами и произведем предобработку данных."
   ]
  },
  {
   "cell_type": "markdown",
   "metadata": {
    "toc": true
   },
   "source": [
    "<h1>Содержание<span class=\"tocSkip\"></span></h1>\n",
    "<div class=\"toc\"><ul class=\"toc-item\"><li><span><a href=\"#Изучение-данных\" data-toc-modified-id=\"Изучение-данных-1\">Изучение данных</a></span><ul class=\"toc-item\"><li><span><a href=\"#Вывод\" data-toc-modified-id=\"Вывод-1.1\">Вывод</a></span></li></ul></li><li><span><a href=\"#Подготовка-данных\" data-toc-modified-id=\"Подготовка-данных-2\">Подготовка данных</a></span><ul class=\"toc-item\"><li><span><a href=\"#Перевод-данных-к-нужным-типам\" data-toc-modified-id=\"Перевод-данных-к-нужным-типам-2.1\">Перевод данных к нужным типам</a></span></li><li><span><a href=\"#Округление-значений\" data-toc-modified-id=\"Округление-значений-2.2\">Округление значений</a></span></li><li><span><a href=\"#Поиск,-удаление-и-исправление-некорретных-значений\" data-toc-modified-id=\"Поиск,-удаление-и-исправление-некорретных-значений-2.3\">Поиск, удаление и исправление некорретных значений</a></span><ul class=\"toc-item\"><li><span><a href=\"#Предобработка-таблицы-с-информацией-о-звонках\" data-toc-modified-id=\"Предобработка-таблицы-с-информацией-о-звонках-2.3.1\">Предобработка таблицы с информацией о звонках</a></span><ul class=\"toc-item\"><li><span><a href=\"#Анализ-странного-количества-созвонов-на-1-пользователя\" data-toc-modified-id=\"Анализ-странного-количества-созвонов-на-1-пользователя-2.3.1.1\">Анализ странного количества созвонов на 1 пользователя</a></span></li><li><span><a href=\"#Анализ-продолжительности-звонка-и-0-значений.\" data-toc-modified-id=\"Анализ-продолжительности-звонка-и-0-значений.-2.3.1.2\">Анализ продолжительности звонка и 0 значений.</a></span></li></ul></li><li><span><a href=\"#Предобработка-таблицы-с-информацией-о-интернет-сессиях\" data-toc-modified-id=\"Предобработка-таблицы-с-информацией-о-интернет-сессиях-2.3.2\">Предобработка таблицы с информацией о интернет сессиях</a></span></li><li><span><a href=\"#Переименование-id-в-таблицах-о-звонках,-интернет-трафике-и-сообщениях\" data-toc-modified-id=\"Переименование-id-в-таблицах-о-звонках,-интернет-трафике-и-сообщениях-2.3.3\">Переименование id в таблицах о звонках, интернет трафике и сообщениях</a></span></li></ul></li><li><span><a href=\"#Подсчет-для-каждого-пользователя-количества-сделанных-звонков-и-израсходованных-минут-разговора-по-месяцам\" data-toc-modified-id=\"Подсчет-для-каждого-пользователя-количества-сделанных-звонков-и-израсходованных-минут-разговора-по-месяцам-2.4\">Подсчет для каждого пользователя количества сделанных звонков и израсходованных минут разговора по месяцам</a></span></li><li><span><a href=\"#Подсчет-для-каждого-пользователя-количества-отправленных-сообщений-по-месяцам\" data-toc-modified-id=\"Подсчет-для-каждого-пользователя-количества-отправленных-сообщений-по-месяцам-2.5\">Подсчет для каждого пользователя количества отправленных сообщений по месяцам</a></span></li><li><span><a href=\"#Подсчет-для-каждого-пользователя-объема-израсходованного-интернет-трафика-по-месяцам\" data-toc-modified-id=\"Подсчет-для-каждого-пользователя-объема-израсходованного-интернет-трафика-по-месяцам-2.6\">Подсчет для каждого пользователя объема израсходованного интернет-трафика по месяцам</a></span></li><li><span><a href=\"#Сделаем-единую-таблицу-по-всем-подсчитанным-параметрам\" data-toc-modified-id=\"Сделаем-единую-таблицу-по-всем-подсчитанным-параметрам-2.7\">Сделаем единую таблицу по всем подсчитанным параметрам</a></span></li><li><span><a href=\"#Подсчет-для-каждого-пользователя-помесячной-выручки\" data-toc-modified-id=\"Подсчет-для-каждого-пользователя-помесячной-выручки-2.8\">Подсчет для каждого пользователя помесячной выручки</a></span></li></ul></li><li><span><a href=\"#Анализ-поведения-клиентов\" data-toc-modified-id=\"Анализ-поведения-клиентов-3\">Анализ поведения клиентов</a></span><ul class=\"toc-item\"><li><span><a href=\"#Показатели-по-количеству-минут-разговора\" data-toc-modified-id=\"Показатели-по-количеству-минут-разговора-3.1\">Показатели по количеству минут разговора</a></span></li><li><span><a href=\"#Показатели-по-количеству-сообщений\" data-toc-modified-id=\"Показатели-по-количеству-сообщений-3.2\">Показатели по количеству сообщений</a></span></li><li><span><a href=\"#Показатели-по-количеству-трафика\" data-toc-modified-id=\"Показатели-по-количеству-трафика-3.3\">Показатели по количеству трафика</a></span></li></ul></li><li><span><a href=\"#Проверка-гипотез\" data-toc-modified-id=\"Проверка-гипотез-4\">Проверка гипотез</a></span><ul class=\"toc-item\"><li><span><a href=\"#Cредняя-выручка-пользователей-тарифов-«Ультра»-и-«Смарт»-различается\" data-toc-modified-id=\"Cредняя-выручка-пользователей-тарифов-«Ультра»-и-«Смарт»-различается-4.1\">Cредняя выручка пользователей тарифов «Ультра» и «Смарт» различается</a></span></li><li><span><a href=\"#Cредняя-выручка-пользователей-из-Москвы-отличается-от-выручки-пользователей-из-других-регионов\" data-toc-modified-id=\"Cредняя-выручка-пользователей-из-Москвы-отличается-от-выручки-пользователей-из-других-регионов-4.2\">Cредняя выручка пользователей из Москвы отличается от выручки пользователей из других регионов</a></span></li></ul></li><li><span><a href=\"#Общий-вывод:\" data-toc-modified-id=\"Общий-вывод:-5\">Общий вывод:</a></span></li></ul></div>"
   ]
  },
  {
   "cell_type": "markdown",
   "metadata": {},
   "source": [
    "## Изучение данных"
   ]
  },
  {
   "cell_type": "markdown",
   "metadata": {},
   "source": [
    "Изучим все представленные данные по всем таблицам"
   ]
  },
  {
   "cell_type": "code",
   "execution_count": 1,
   "metadata": {},
   "outputs": [],
   "source": [
    "import pandas as pd\n",
    "import matplotlib.pyplot as plt\n",
    "import numpy as np\n",
    "import seaborn as sns\n",
    "from scipy import stats as st\n",
    "\n",
    "calls = pd.read_csv('/datasets/calls.csv')\n",
    "internet = pd.read_csv('/datasets/internet.csv', index_col=0)\n",
    "messages = pd.read_csv('/datasets/messages.csv')\n",
    "tariffs = pd.read_csv('/datasets/tariffs.csv')\n",
    "users = pd.read_csv('/datasets/users.csv')\n",
    "\n"
   ]
  },
  {
   "cell_type": "code",
   "execution_count": 2,
   "metadata": {},
   "outputs": [],
   "source": [
    "#добавим красок :) \n",
    "def highlight_max(s):\n",
    "    '''\n",
    "    highlight the maximum in a Series yellow.\n",
    "    '''\n",
    "    is_max = s == s.max()\n",
    "    return ['background-color: yellow' if v else '' for v in is_max]\n",
    "\n",
    "def highlight_min(s):\n",
    "    '''\n",
    "    highlight the minimum in a Series Green.\n",
    "    '''\n",
    "    is_min = s == s.min()\n",
    "    return ['background-color: green' if v else '' for v in is_min]"
   ]
  },
  {
   "cell_type": "markdown",
   "metadata": {},
   "source": [
    "<div class=\"alert alert-success\">\n",
    "<b>Комментарии ревьюера:</b> Здорово, что делаешь отдельные функции для оформления.</div>"
   ]
  },
  {
   "cell_type": "code",
   "execution_count": 3,
   "metadata": {},
   "outputs": [
    {
     "name": "stdout",
     "output_type": "stream",
     "text": [
      "<class 'pandas.core.frame.DataFrame'>\n",
      "RangeIndex: 202607 entries, 0 to 202606\n",
      "Data columns (total 4 columns):\n",
      "id           202607 non-null object\n",
      "call_date    202607 non-null object\n",
      "duration     202607 non-null float64\n",
      "user_id      202607 non-null int64\n",
      "dtypes: float64(1), int64(1), object(2)\n",
      "memory usage: 6.2+ MB\n"
     ]
    },
    {
     "data": {
      "text/html": [
       "<div>\n",
       "<style scoped>\n",
       "    .dataframe tbody tr th:only-of-type {\n",
       "        vertical-align: middle;\n",
       "    }\n",
       "\n",
       "    .dataframe tbody tr th {\n",
       "        vertical-align: top;\n",
       "    }\n",
       "\n",
       "    .dataframe thead th {\n",
       "        text-align: right;\n",
       "    }\n",
       "</style>\n",
       "<table border=\"1\" class=\"dataframe\">\n",
       "  <thead>\n",
       "    <tr style=\"text-align: right;\">\n",
       "      <th></th>\n",
       "      <th>id</th>\n",
       "      <th>call_date</th>\n",
       "      <th>duration</th>\n",
       "      <th>user_id</th>\n",
       "    </tr>\n",
       "  </thead>\n",
       "  <tbody>\n",
       "    <tr>\n",
       "      <td>0</td>\n",
       "      <td>1000_0</td>\n",
       "      <td>2018-07-25</td>\n",
       "      <td>0.00</td>\n",
       "      <td>1000</td>\n",
       "    </tr>\n",
       "    <tr>\n",
       "      <td>1</td>\n",
       "      <td>1000_1</td>\n",
       "      <td>2018-08-17</td>\n",
       "      <td>0.00</td>\n",
       "      <td>1000</td>\n",
       "    </tr>\n",
       "    <tr>\n",
       "      <td>2</td>\n",
       "      <td>1000_2</td>\n",
       "      <td>2018-06-11</td>\n",
       "      <td>2.85</td>\n",
       "      <td>1000</td>\n",
       "    </tr>\n",
       "    <tr>\n",
       "      <td>3</td>\n",
       "      <td>1000_3</td>\n",
       "      <td>2018-09-21</td>\n",
       "      <td>13.80</td>\n",
       "      <td>1000</td>\n",
       "    </tr>\n",
       "    <tr>\n",
       "      <td>4</td>\n",
       "      <td>1000_4</td>\n",
       "      <td>2018-12-15</td>\n",
       "      <td>5.18</td>\n",
       "      <td>1000</td>\n",
       "    </tr>\n",
       "  </tbody>\n",
       "</table>\n",
       "</div>"
      ],
      "text/plain": [
       "       id   call_date  duration  user_id\n",
       "0  1000_0  2018-07-25      0.00     1000\n",
       "1  1000_1  2018-08-17      0.00     1000\n",
       "2  1000_2  2018-06-11      2.85     1000\n",
       "3  1000_3  2018-09-21     13.80     1000\n",
       "4  1000_4  2018-12-15      5.18     1000"
      ]
     },
     "execution_count": 3,
     "metadata": {},
     "output_type": "execute_result"
    }
   ],
   "source": [
    "calls.info()\n",
    "calls.head()"
   ]
  },
  {
   "cell_type": "markdown",
   "metadata": {},
   "source": [
    "Таблица calls (информация о звонках):\n",
    "id — уникальный номер звонка\n",
    "call_date — дата звонка\n",
    "duration — длительность звонка в минутах\n",
    "user_id — идентификатор пользователя, сделавшего звонок"
   ]
  },
  {
   "cell_type": "code",
   "execution_count": 4,
   "metadata": {},
   "outputs": [
    {
     "data": {
      "text/plain": [
       "<matplotlib.axes._subplots.AxesSubplot at 0x7f1d161bb390>"
      ]
     },
     "execution_count": 4,
     "metadata": {},
     "output_type": "execute_result"
    },
    {
     "data": {
      "image/png": "[encoded data removed]",
      "text/plain": [
       "<Figure size 432x288 with 1 Axes>"
      ]
     },
     "metadata": {
      "needs_background": "light"
     },
     "output_type": "display_data"
    }
   ],
   "source": [
    "calls.boxplot(column = 'duration')"
   ]
  },
  {
   "cell_type": "code",
   "execution_count": 5,
   "metadata": {},
   "outputs": [
    {
     "data": {
      "text/plain": [
       "(32, 40)"
      ]
     },
     "execution_count": 5,
     "metadata": {},
     "output_type": "execute_result"
    },
    {
     "data": {
      "image/png": "[encoded data removed]",
      "text/plain": [
       "<Figure size 432x288 with 1 Axes>"
      ]
     },
     "metadata": {
      "needs_background": "light"
     },
     "output_type": "display_data"
    }
   ],
   "source": [
    "calls.boxplot(column = 'duration')\n",
    "plt.ylim(32,40)"
   ]
  },
  {
   "cell_type": "markdown",
   "metadata": {},
   "source": [
    "Таблица с информациоей о звонках содержит некоторые артефактные данные, которые нужно будет детально проверить, а так же необходимо перевести call_date в тип \"дата\". "
   ]
  },
  {
   "cell_type": "code",
   "execution_count": 6,
   "metadata": {},
   "outputs": [
    {
     "name": "stdout",
     "output_type": "stream",
     "text": [
      "<class 'pandas.core.frame.DataFrame'>\n",
      "Int64Index: 149396 entries, 0 to 149395\n",
      "Data columns (total 4 columns):\n",
      "id              149396 non-null object\n",
      "mb_used         149396 non-null float64\n",
      "session_date    149396 non-null object\n",
      "user_id         149396 non-null int64\n",
      "dtypes: float64(1), int64(1), object(2)\n",
      "memory usage: 5.7+ MB\n"
     ]
    },
    {
     "data": {
      "text/html": [
       "<div>\n",
       "<style scoped>\n",
       "    .dataframe tbody tr th:only-of-type {\n",
       "        vertical-align: middle;\n",
       "    }\n",
       "\n",
       "    .dataframe tbody tr th {\n",
       "        vertical-align: top;\n",
       "    }\n",
       "\n",
       "    .dataframe thead th {\n",
       "        text-align: right;\n",
       "    }\n",
       "</style>\n",
       "<table border=\"1\" class=\"dataframe\">\n",
       "  <thead>\n",
       "    <tr style=\"text-align: right;\">\n",
       "      <th></th>\n",
       "      <th>id</th>\n",
       "      <th>mb_used</th>\n",
       "      <th>session_date</th>\n",
       "      <th>user_id</th>\n",
       "    </tr>\n",
       "  </thead>\n",
       "  <tbody>\n",
       "    <tr>\n",
       "      <td>0</td>\n",
       "      <td>1000_0</td>\n",
       "      <td>112.95</td>\n",
       "      <td>2018-11-25</td>\n",
       "      <td>1000</td>\n",
       "    </tr>\n",
       "    <tr>\n",
       "      <td>1</td>\n",
       "      <td>1000_1</td>\n",
       "      <td>1052.81</td>\n",
       "      <td>2018-09-07</td>\n",
       "      <td>1000</td>\n",
       "    </tr>\n",
       "    <tr>\n",
       "      <td>2</td>\n",
       "      <td>1000_2</td>\n",
       "      <td>1197.26</td>\n",
       "      <td>2018-06-25</td>\n",
       "      <td>1000</td>\n",
       "    </tr>\n",
       "    <tr>\n",
       "      <td>3</td>\n",
       "      <td>1000_3</td>\n",
       "      <td>550.27</td>\n",
       "      <td>2018-08-22</td>\n",
       "      <td>1000</td>\n",
       "    </tr>\n",
       "    <tr>\n",
       "      <td>4</td>\n",
       "      <td>1000_4</td>\n",
       "      <td>302.56</td>\n",
       "      <td>2018-09-24</td>\n",
       "      <td>1000</td>\n",
       "    </tr>\n",
       "  </tbody>\n",
       "</table>\n",
       "</div>"
      ],
      "text/plain": [
       "       id  mb_used session_date  user_id\n",
       "0  1000_0   112.95   2018-11-25     1000\n",
       "1  1000_1  1052.81   2018-09-07     1000\n",
       "2  1000_2  1197.26   2018-06-25     1000\n",
       "3  1000_3   550.27   2018-08-22     1000\n",
       "4  1000_4   302.56   2018-09-24     1000"
      ]
     },
     "execution_count": 6,
     "metadata": {},
     "output_type": "execute_result"
    }
   ],
   "source": [
    "internet.info()\n",
    "internet.head()"
   ]
  },
  {
   "cell_type": "markdown",
   "metadata": {},
   "source": [
    "Таблица internet (информация об интернет-сессиях):\n",
    "id — уникальный номер сессии\n",
    "mb_used — объём потраченного за сессию интернет-трафика (в мегабайтах)\n",
    "session_date — дата интернет-сессии\n",
    "user_id — идентификатор пользователя"
   ]
  },
  {
   "cell_type": "code",
   "execution_count": 7,
   "metadata": {},
   "outputs": [
    {
     "data": {
      "text/plain": [
       "count    149396.000000\n",
       "mean        370.192426\n",
       "std         278.300951\n",
       "min           0.000000\n",
       "25%         138.187500\n",
       "50%         348.015000\n",
       "75%         559.552500\n",
       "max        1724.830000\n",
       "Name: mb_used, dtype: float64"
      ]
     },
     "execution_count": 7,
     "metadata": {},
     "output_type": "execute_result"
    }
   ],
   "source": [
    "internet['mb_used'].describe()"
   ]
  },
  {
   "cell_type": "markdown",
   "metadata": {},
   "source": [
    "В таблице с данными по интернет - сессиям основная доля потраченного интернет - трафика находится в значениях до 560. При этом есть сессии, в котороых пользователи потратели более 1200 мб, достигая значений в 1724 мб , а так же - не потратили ничего. Значение \"session_date\" переведем в DataType"
   ]
  },
  {
   "cell_type": "code",
   "execution_count": 8,
   "metadata": {},
   "outputs": [
    {
     "name": "stdout",
     "output_type": "stream",
     "text": [
      "<class 'pandas.core.frame.DataFrame'>\n",
      "RangeIndex: 123036 entries, 0 to 123035\n",
      "Data columns (total 3 columns):\n",
      "id              123036 non-null object\n",
      "message_date    123036 non-null object\n",
      "user_id         123036 non-null int64\n",
      "dtypes: int64(1), object(2)\n",
      "memory usage: 2.8+ MB\n"
     ]
    },
    {
     "data": {
      "text/html": [
       "<div>\n",
       "<style scoped>\n",
       "    .dataframe tbody tr th:only-of-type {\n",
       "        vertical-align: middle;\n",
       "    }\n",
       "\n",
       "    .dataframe tbody tr th {\n",
       "        vertical-align: top;\n",
       "    }\n",
       "\n",
       "    .dataframe thead th {\n",
       "        text-align: right;\n",
       "    }\n",
       "</style>\n",
       "<table border=\"1\" class=\"dataframe\">\n",
       "  <thead>\n",
       "    <tr style=\"text-align: right;\">\n",
       "      <th></th>\n",
       "      <th>id</th>\n",
       "      <th>message_date</th>\n",
       "      <th>user_id</th>\n",
       "    </tr>\n",
       "  </thead>\n",
       "  <tbody>\n",
       "    <tr>\n",
       "      <td>0</td>\n",
       "      <td>1000_0</td>\n",
       "      <td>2018-06-27</td>\n",
       "      <td>1000</td>\n",
       "    </tr>\n",
       "    <tr>\n",
       "      <td>1</td>\n",
       "      <td>1000_1</td>\n",
       "      <td>2018-10-08</td>\n",
       "      <td>1000</td>\n",
       "    </tr>\n",
       "    <tr>\n",
       "      <td>2</td>\n",
       "      <td>1000_2</td>\n",
       "      <td>2018-08-04</td>\n",
       "      <td>1000</td>\n",
       "    </tr>\n",
       "    <tr>\n",
       "      <td>3</td>\n",
       "      <td>1000_3</td>\n",
       "      <td>2018-06-16</td>\n",
       "      <td>1000</td>\n",
       "    </tr>\n",
       "    <tr>\n",
       "      <td>4</td>\n",
       "      <td>1000_4</td>\n",
       "      <td>2018-12-05</td>\n",
       "      <td>1000</td>\n",
       "    </tr>\n",
       "  </tbody>\n",
       "</table>\n",
       "</div>"
      ],
      "text/plain": [
       "       id message_date  user_id\n",
       "0  1000_0   2018-06-27     1000\n",
       "1  1000_1   2018-10-08     1000\n",
       "2  1000_2   2018-08-04     1000\n",
       "3  1000_3   2018-06-16     1000\n",
       "4  1000_4   2018-12-05     1000"
      ]
     },
     "execution_count": 8,
     "metadata": {},
     "output_type": "execute_result"
    }
   ],
   "source": [
    "messages.info()\n",
    "messages.head()"
   ]
  },
  {
   "cell_type": "markdown",
   "metadata": {},
   "source": [
    "Таблица messages (информация о сообщениях):\n",
    "id — уникальный номер сообщения\n",
    "message_date — дата сообщения\n",
    "user_id — идентификатор пользователя, отправившего сообщение"
   ]
  },
  {
   "cell_type": "code",
   "execution_count": 9,
   "metadata": {},
   "outputs": [
    {
     "name": "stdout",
     "output_type": "stream",
     "text": [
      "<class 'pandas.core.frame.DataFrame'>\n",
      "RangeIndex: 2 entries, 0 to 1\n",
      "Data columns (total 8 columns):\n",
      "messages_included        2 non-null int64\n",
      "mb_per_month_included    2 non-null int64\n",
      "minutes_included         2 non-null int64\n",
      "rub_monthly_fee          2 non-null int64\n",
      "rub_per_gb               2 non-null int64\n",
      "rub_per_message          2 non-null int64\n",
      "rub_per_minute           2 non-null int64\n",
      "tariff_name              2 non-null object\n",
      "dtypes: int64(7), object(1)\n",
      "memory usage: 256.0+ bytes\n"
     ]
    },
    {
     "data": {
      "text/html": [
       "<div>\n",
       "<style scoped>\n",
       "    .dataframe tbody tr th:only-of-type {\n",
       "        vertical-align: middle;\n",
       "    }\n",
       "\n",
       "    .dataframe tbody tr th {\n",
       "        vertical-align: top;\n",
       "    }\n",
       "\n",
       "    .dataframe thead th {\n",
       "        text-align: right;\n",
       "    }\n",
       "</style>\n",
       "<table border=\"1\" class=\"dataframe\">\n",
       "  <thead>\n",
       "    <tr style=\"text-align: right;\">\n",
       "      <th></th>\n",
       "      <th>messages_included</th>\n",
       "      <th>mb_per_month_included</th>\n",
       "      <th>minutes_included</th>\n",
       "      <th>rub_monthly_fee</th>\n",
       "      <th>rub_per_gb</th>\n",
       "      <th>rub_per_message</th>\n",
       "      <th>rub_per_minute</th>\n",
       "      <th>tariff_name</th>\n",
       "    </tr>\n",
       "  </thead>\n",
       "  <tbody>\n",
       "    <tr>\n",
       "      <td>0</td>\n",
       "      <td>50</td>\n",
       "      <td>15360</td>\n",
       "      <td>500</td>\n",
       "      <td>550</td>\n",
       "      <td>200</td>\n",
       "      <td>3</td>\n",
       "      <td>3</td>\n",
       "      <td>smart</td>\n",
       "    </tr>\n",
       "    <tr>\n",
       "      <td>1</td>\n",
       "      <td>1000</td>\n",
       "      <td>30720</td>\n",
       "      <td>3000</td>\n",
       "      <td>1950</td>\n",
       "      <td>150</td>\n",
       "      <td>1</td>\n",
       "      <td>1</td>\n",
       "      <td>ultra</td>\n",
       "    </tr>\n",
       "  </tbody>\n",
       "</table>\n",
       "</div>"
      ],
      "text/plain": [
       "   messages_included  mb_per_month_included  minutes_included  \\\n",
       "0                 50                  15360               500   \n",
       "1               1000                  30720              3000   \n",
       "\n",
       "   rub_monthly_fee  rub_per_gb  rub_per_message  rub_per_minute tariff_name  \n",
       "0              550         200                3               3       smart  \n",
       "1             1950         150                1               1       ultra  "
      ]
     },
     "execution_count": 9,
     "metadata": {},
     "output_type": "execute_result"
    }
   ],
   "source": [
    "tariffs.info()\n",
    "tariffs.head()"
   ]
  },
  {
   "cell_type": "markdown",
   "metadata": {},
   "source": [
    "Таблица tariffs (информация о тарифах):\n",
    "tariff_name — название тарифа\n",
    "rub_monthly_fee — ежемесячная абонентская плата в рублях\n",
    "minutes_included — количество минут разговора в месяц, включённых в абонентскую плату\n",
    "messages_included — количество сообщений в месяц, включённых в абонентскую плату\n",
    "mb_per_month_included — объём интернет-трафика, включённого в абонентскую плату (в мегабайтах)\n",
    "rub_per_minute — стоимость минуты разговора сверх тарифного пакета (например, если в тарифе 100 минут разговора в месяц, то со 101 минуты будет взиматься плата)\n",
    "rub_per_message — стоимость отправки сообщения сверх тарифного пакета\n",
    "rub_per_gb — стоимость дополнительного гигабайта интернет-трафика сверх тарифного пакета (1 гигабайт = 1024 мегабайта)"
   ]
  },
  {
   "cell_type": "code",
   "execution_count": 10,
   "metadata": {},
   "outputs": [
    {
     "name": "stdout",
     "output_type": "stream",
     "text": [
      "<class 'pandas.core.frame.DataFrame'>\n",
      "RangeIndex: 500 entries, 0 to 499\n",
      "Data columns (total 8 columns):\n",
      "user_id       500 non-null int64\n",
      "age           500 non-null int64\n",
      "churn_date    38 non-null object\n",
      "city          500 non-null object\n",
      "first_name    500 non-null object\n",
      "last_name     500 non-null object\n",
      "reg_date      500 non-null object\n",
      "tariff        500 non-null object\n",
      "dtypes: int64(2), object(6)\n",
      "memory usage: 31.4+ KB\n"
     ]
    },
    {
     "data": {
      "text/html": [
       "<div>\n",
       "<style scoped>\n",
       "    .dataframe tbody tr th:only-of-type {\n",
       "        vertical-align: middle;\n",
       "    }\n",
       "\n",
       "    .dataframe tbody tr th {\n",
       "        vertical-align: top;\n",
       "    }\n",
       "\n",
       "    .dataframe thead th {\n",
       "        text-align: right;\n",
       "    }\n",
       "</style>\n",
       "<table border=\"1\" class=\"dataframe\">\n",
       "  <thead>\n",
       "    <tr style=\"text-align: right;\">\n",
       "      <th></th>\n",
       "      <th>user_id</th>\n",
       "      <th>age</th>\n",
       "      <th>churn_date</th>\n",
       "      <th>city</th>\n",
       "      <th>first_name</th>\n",
       "      <th>last_name</th>\n",
       "      <th>reg_date</th>\n",
       "      <th>tariff</th>\n",
       "    </tr>\n",
       "  </thead>\n",
       "  <tbody>\n",
       "    <tr>\n",
       "      <td>0</td>\n",
       "      <td>1000</td>\n",
       "      <td>52</td>\n",
       "      <td>NaN</td>\n",
       "      <td>Краснодар</td>\n",
       "      <td>Рафаил</td>\n",
       "      <td>Верещагин</td>\n",
       "      <td>2018-05-25</td>\n",
       "      <td>ultra</td>\n",
       "    </tr>\n",
       "    <tr>\n",
       "      <td>1</td>\n",
       "      <td>1001</td>\n",
       "      <td>41</td>\n",
       "      <td>NaN</td>\n",
       "      <td>Москва</td>\n",
       "      <td>Иван</td>\n",
       "      <td>Ежов</td>\n",
       "      <td>2018-11-01</td>\n",
       "      <td>smart</td>\n",
       "    </tr>\n",
       "    <tr>\n",
       "      <td>2</td>\n",
       "      <td>1002</td>\n",
       "      <td>59</td>\n",
       "      <td>NaN</td>\n",
       "      <td>Стерлитамак</td>\n",
       "      <td>Евгений</td>\n",
       "      <td>Абрамович</td>\n",
       "      <td>2018-06-17</td>\n",
       "      <td>smart</td>\n",
       "    </tr>\n",
       "    <tr>\n",
       "      <td>3</td>\n",
       "      <td>1003</td>\n",
       "      <td>23</td>\n",
       "      <td>NaN</td>\n",
       "      <td>Москва</td>\n",
       "      <td>Белла</td>\n",
       "      <td>Белякова</td>\n",
       "      <td>2018-08-17</td>\n",
       "      <td>ultra</td>\n",
       "    </tr>\n",
       "    <tr>\n",
       "      <td>4</td>\n",
       "      <td>1004</td>\n",
       "      <td>68</td>\n",
       "      <td>NaN</td>\n",
       "      <td>Новокузнецк</td>\n",
       "      <td>Татьяна</td>\n",
       "      <td>Авдеенко</td>\n",
       "      <td>2018-05-14</td>\n",
       "      <td>ultra</td>\n",
       "    </tr>\n",
       "  </tbody>\n",
       "</table>\n",
       "</div>"
      ],
      "text/plain": [
       "   user_id  age churn_date         city first_name  last_name    reg_date  \\\n",
       "0     1000   52        NaN    Краснодар     Рафаил  Верещагин  2018-05-25   \n",
       "1     1001   41        NaN       Москва       Иван       Ежов  2018-11-01   \n",
       "2     1002   59        NaN  Стерлитамак    Евгений  Абрамович  2018-06-17   \n",
       "3     1003   23        NaN       Москва      Белла   Белякова  2018-08-17   \n",
       "4     1004   68        NaN  Новокузнецк    Татьяна   Авдеенко  2018-05-14   \n",
       "\n",
       "  tariff  \n",
       "0  ultra  \n",
       "1  smart  \n",
       "2  smart  \n",
       "3  ultra  \n",
       "4  ultra  "
      ]
     },
     "execution_count": 10,
     "metadata": {},
     "output_type": "execute_result"
    }
   ],
   "source": [
    "users.info()\n",
    "users.head()"
   ]
  },
  {
   "cell_type": "code",
   "execution_count": 11,
   "metadata": {},
   "outputs": [
    {
     "data": {
      "text/plain": [
       "149"
      ]
     },
     "execution_count": 11,
     "metadata": {},
     "output_type": "execute_result"
    }
   ],
   "source": [
    "users['tariff'][users['tariff'] == \"ultra\"].count()\n"
   ]
  },
  {
   "cell_type": "code",
   "execution_count": 12,
   "metadata": {},
   "outputs": [
    {
     "data": {
      "text/plain": [
       "351"
      ]
     },
     "execution_count": 12,
     "metadata": {},
     "output_type": "execute_result"
    }
   ],
   "source": [
    "users['tariff'][users['tariff'] == \"smart\"].count()"
   ]
  },
  {
   "cell_type": "markdown",
   "metadata": {},
   "source": [
    "Таблица users (информация о пользователях):\n",
    "user_id — уникальный идентификатор пользователя\n",
    "first_name — имя пользователя\n",
    "last_name — фамилия пользователя\n",
    "age — возраст пользователя (годы)\n",
    "reg_date — дата подключения тарифа (день, месяц, год)\n",
    "churn_date — дата прекращения пользования тарифом (если значение пропущено, то тариф ещё действовал на момент выгрузки данных)\n",
    "city — город проживания пользователя\n",
    "tariff — название тарифного плана"
   ]
  },
  {
   "cell_type": "markdown",
   "metadata": {},
   "source": [
    "Проверим, через дубликаты, могли ли пользователи перейти с одного тарифа на другой."
   ]
  },
  {
   "cell_type": "code",
   "execution_count": 13,
   "metadata": {},
   "outputs": [
    {
     "data": {
      "text/plain": [
       "0"
      ]
     },
     "execution_count": 13,
     "metadata": {},
     "output_type": "execute_result"
    }
   ],
   "source": [
    "users_change = users[['age', 'city', 'first_name', 'last_name']]\n",
    "users_change.duplicated().sum()"
   ]
  },
  {
   "cell_type": "code",
   "execution_count": 14,
   "metadata": {},
   "outputs": [
    {
     "data": {
      "text/plain": [
       "array([nan, '2018-10-05', '2018-12-18', '2018-11-21', '2018-10-03',\n",
       "       '2018-10-14', '2018-12-09', '2018-12-11', '2018-12-26',\n",
       "       '2018-08-31', '2018-12-03', '2018-12-23', '2018-11-07',\n",
       "       '2018-12-16', '2018-12-20', '2018-11-30', '2018-12-21',\n",
       "       '2018-08-17', '2018-09-02', '2018-10-04', '2018-11-13',\n",
       "       '2018-11-22', '2018-10-28', '2018-11-26', '2018-11-27',\n",
       "       '2018-11-16', '2018-10-27', '2018-12-30', '2018-09-27',\n",
       "       '2018-12-25', '2018-12-14', '2018-12-24', '2018-09-26',\n",
       "       '2018-10-25'], dtype=object)"
      ]
     },
     "execution_count": 14,
     "metadata": {},
     "output_type": "execute_result"
    }
   ],
   "source": [
    "users.churn_date.unique()"
   ]
  },
  {
   "cell_type": "markdown",
   "metadata": {},
   "source": [
    "### Вывод"
   ]
  },
  {
   "cell_type": "markdown",
   "metadata": {},
   "source": [
    "При изучении данных мы видим, что:\n",
    "<br>1) Все значения столбцов с датами стоит перевести в datetime \n",
    "<br>2) Проанализировать артефактные значения в таблицах (равные нулю и выбивающиеся из общего списка)\n",
    "<br><span style ='text-decoration:line-through'>3) Удалить лишний столбец Unnamed: 0 в интернете </span>\n",
    "<br>4) Сделать округление данных минут и мегабайт  в соответствии с описанием и перевести их в int"
   ]
  },
  {
   "cell_type": "markdown",
   "metadata": {},
   "source": [
    "<div class=\"alert alert-success\">\n",
    "<b>Комментарии ревьюера:</b> Мы кратко изучили все загруженные таблицы и обозначили некоторые проблемы, которые нужно будет решить предоработкой. Отлично! \n",
    "\n",
    "Unnamed: 0 возникает, когда данные сохраняют с указанием индекса pd.DataFrame().to_csv(..., index=column). Если при чтении указать этот столбец pd.read_csv(..., index_col=0) - данные сразу прочитаются корректно и удалять этот столбец будет не нужно.\n",
    "</div>"
   ]
  },
  {
   "cell_type": "markdown",
   "metadata": {},
   "source": [
    "<div class=\"alert alert-danger\">\n",
    "<b>Комментарии ревьюера:</b> <s> Важно еще не забывать делать проверку на наличие пропусков и дубликатов, это также важные элементы предоработки. </s>\n",
    "</div>"
   ]
  },
  {
   "cell_type": "markdown",
   "metadata": {},
   "source": [
    "<div     style = 'color: #FFFFFF;\n",
    "    background-color: #3E94C9;\n",
    "    border-color: #d6e9c6; padding: 15px;\n",
    "    margin-bottom: 18px;\n",
    "    border: 1px solid transparent;\n",
    "    border-radius: 2px;'>\n",
    "<h2> Ответ исполнителя <a class=\"tocSkip\"> </h2>\n",
    "\n",
    "Поменял код чтения таблицы на pd.read_csv(..., index_col=0), чтобы не удалять столбец.\n",
    "    \n",
    "Дубликаты всегда проверяю через .unique() и просматриваю массивы, потом их удаляю, чтобы они не занимали лишнее место, поскольку не значимые. Оставляю только те, которые нашел.  Пропуски всегда смотрю через .info и дополнительно ищу None, если вижу расхождения типов данных. Из всех представленных, выделяется только `churn_date`, но я не трогал этот столбец, изначально предполагая, что данные никак не повлияют на результат, поскольку таких пользователей 7%, а отказались они от тарифа ближе к концу года.\n",
    "    Сейчас, учитывая, что у нас нет дубликатов, даже если проверить смену тарифа никак не могу подумать, что от них нужно избавляться, поэтому оставлю как есть. У меня упертая точка зрения :)\n",
    "</div>"
   ]
  },
  {
   "cell_type": "markdown",
   "metadata": {},
   "source": [
    "<div class=\"alert alert-success\">\n",
    "<b>Комментарии ревьюера V2:</b> Наличие дубликатов проверяем с помощью df.duplicated().sum(), а с помощью unique() мы видим уникальные значения в столбцах. А в целом я согласна с твоими рассуждениями :)\n",
    "</div>"
   ]
  },
  {
   "cell_type": "markdown",
   "metadata": {},
   "source": [
    "## Подготовка данных"
   ]
  },
  {
   "cell_type": "markdown",
   "metadata": {},
   "source": [
    "### Перевод данных к нужным типам"
   ]
  },
  {
   "cell_type": "code",
   "execution_count": 15,
   "metadata": {},
   "outputs": [],
   "source": [
    "calls['call_date'] = pd.to_datetime(calls['call_date'], format='%Y-%m-%d')\n",
    "internet['session_date'] = pd.to_datetime(internet['session_date'], format='%Y-%m-%d')\n",
    "messages['message_date'] = pd.to_datetime(messages['message_date'], format='%Y-%m-%d')\n",
    "users['churn_date'] = pd.to_datetime(users['churn_date'], format='%Y-%m-%d')\n",
    "users['reg_date'] = pd.to_datetime(users['reg_date'], format='%Y-%m-%d')"
   ]
  },
  {
   "cell_type": "markdown",
   "metadata": {},
   "source": [
    "<div class=\"alert alert-success\">\n",
    "<b>Комментарии ревьюера:</b> Верное решение. Здесь мы выполняем одну и ту же операцию с разными таблицами, для удобства можно все делать в цикле. \n",
    "</div>"
   ]
  },
  {
   "cell_type": "markdown",
   "metadata": {},
   "source": [
    "### Округление значений"
   ]
  },
  {
   "cell_type": "code",
   "execution_count": 16,
   "metadata": {},
   "outputs": [
    {
     "data": {
      "text/html": [
       "<div>\n",
       "<style scoped>\n",
       "    .dataframe tbody tr th:only-of-type {\n",
       "        vertical-align: middle;\n",
       "    }\n",
       "\n",
       "    .dataframe tbody tr th {\n",
       "        vertical-align: top;\n",
       "    }\n",
       "\n",
       "    .dataframe thead th {\n",
       "        text-align: right;\n",
       "    }\n",
       "</style>\n",
       "<table border=\"1\" class=\"dataframe\">\n",
       "  <thead>\n",
       "    <tr style=\"text-align: right;\">\n",
       "      <th></th>\n",
       "      <th>id</th>\n",
       "      <th>call_date</th>\n",
       "      <th>duration</th>\n",
       "      <th>user_id</th>\n",
       "    </tr>\n",
       "  </thead>\n",
       "  <tbody>\n",
       "    <tr>\n",
       "      <td>0</td>\n",
       "      <td>1000_0</td>\n",
       "      <td>2018-07-25</td>\n",
       "      <td>0</td>\n",
       "      <td>1000</td>\n",
       "    </tr>\n",
       "    <tr>\n",
       "      <td>1</td>\n",
       "      <td>1000_1</td>\n",
       "      <td>2018-08-17</td>\n",
       "      <td>0</td>\n",
       "      <td>1000</td>\n",
       "    </tr>\n",
       "    <tr>\n",
       "      <td>2</td>\n",
       "      <td>1000_2</td>\n",
       "      <td>2018-06-11</td>\n",
       "      <td>3</td>\n",
       "      <td>1000</td>\n",
       "    </tr>\n",
       "    <tr>\n",
       "      <td>3</td>\n",
       "      <td>1000_3</td>\n",
       "      <td>2018-09-21</td>\n",
       "      <td>14</td>\n",
       "      <td>1000</td>\n",
       "    </tr>\n",
       "    <tr>\n",
       "      <td>4</td>\n",
       "      <td>1000_4</td>\n",
       "      <td>2018-12-15</td>\n",
       "      <td>6</td>\n",
       "      <td>1000</td>\n",
       "    </tr>\n",
       "  </tbody>\n",
       "</table>\n",
       "</div>"
      ],
      "text/plain": [
       "       id  call_date  duration  user_id\n",
       "0  1000_0 2018-07-25         0     1000\n",
       "1  1000_1 2018-08-17         0     1000\n",
       "2  1000_2 2018-06-11         3     1000\n",
       "3  1000_3 2018-09-21        14     1000\n",
       "4  1000_4 2018-12-15         6     1000"
      ]
     },
     "execution_count": 16,
     "metadata": {},
     "output_type": "execute_result"
    }
   ],
   "source": [
    "calls['duration'] = calls['duration'].apply(np.ceil).astype(int)\n",
    "\n",
    "calls.head()"
   ]
  },
  {
   "cell_type": "markdown",
   "metadata": {},
   "source": [
    "<div class=\"alert alert-success\">\n",
    "<b>Комментарии ревьюера:</b> Здорово, что округлил этот столбец и сразу привел к целочисленному типу. \n",
    "    \n",
    "Твоё решение можно улучшить: ceil из библиотеки  numpy может работать с векторами, поэтому его можно применять сразу ко всему столбцу без apply. \n",
    "    \n",
    "calls['duration'] = np.ceil(calls['duration']).astype('int')\n",
    "</div>"
   ]
  },
  {
   "cell_type": "code",
   "execution_count": 17,
   "metadata": {},
   "outputs": [],
   "source": [
    "internet['mb_used'] = np.ceil(internet['mb_used']).astype('int')\n"
   ]
  },
  {
   "cell_type": "markdown",
   "metadata": {},
   "source": [
    "<div class=\"alert alert-success\">\n",
    "<b>Комментарии ревьюера V2:</b> Верное решение.\n",
    "</div>"
   ]
  },
  {
   "cell_type": "code",
   "execution_count": 18,
   "metadata": {},
   "outputs": [
    {
     "data": {
      "text/plain": [
       "<matplotlib.axes._subplots.AxesSubplot at 0x7f1d14c07790>"
      ]
     },
     "execution_count": 18,
     "metadata": {},
     "output_type": "execute_result"
    },
    {
     "data": {
      "image/png": "[encoded data removed]",
      "text/plain": [
       "<Figure size 432x288 with 1 Axes>"
      ]
     },
     "metadata": {
      "needs_background": "light"
     },
     "output_type": "display_data"
    }
   ],
   "source": [
    "internet['mb_used'].hist(bins = 20)"
   ]
  },
  {
   "cell_type": "markdown",
   "metadata": {},
   "source": [
    "<div class=\"alert alert-success\">\n",
    "<b>Комментарии ревьюера V2:</b> Вот так на гистограмме лучше видно, что даже после округления вверх у нас большое количество нулей. Это та аномалия, про которую я говорила. <s>Тебе нужно подумать, откуда могло взяться столько нулевых сессий и как мы будем их обрабатывать.  </s>\n",
    "</div>"
   ]
  },
  {
   "cell_type": "markdown",
   "metadata": {},
   "source": [
    "<div     style = 'color: #FFFFFF;\n",
    "    background-color: #3E94C9;\n",
    "    border-color: #d6e9c6; padding: 15px;\n",
    "    margin-bottom: 18px;\n",
    "    border: 1px solid transparent;\n",
    "    border-radius: 2px;'>\n",
    "<h2> Ответ исполнителя 2 <a class=\"tocSkip\"> </h2>\n",
    "\n",
    "Добавил ниже код с описанием вывода по ним:\n",
    "    \n",
    "    \n",
    "     Учитывая тот факт, что количество ID практически схоже, в случаях с 0 мб по сессиям, можно предположить, что это были сессии с минимальной активностью. Например, пуш уведомление или сообщение в месенджере, что выражается в килобайтах, которые не фиксирует выгрузка. И, поскольку мы не имеем информации по округлению килобайт, то удалим их из общей базы, тем самым уменьшив её на 13% (19598 строк)\n",
    "    \n",
    "Посмотрел так же вариацию, если принять 0 за 1 мб, учитывая, что 13% достаточно много для базы, но на финальный результат они не сильно влияли по среднему, дисперсии и отклонению. \n",
    "    \n",
    "</div>"
   ]
  },
  {
   "cell_type": "markdown",
   "metadata": {},
   "source": [
    "<div class=\"alert alert-success\">\n",
    "<b>Комментарии ревьюера V3:</b> Согласна! Также, возможно это неудачные попытки войти в интернет. Мы можем удалить эти строки, они никак не повлияют на итоговый результат.</div>"
   ]
  },
  {
   "cell_type": "code",
   "execution_count": 19,
   "metadata": {},
   "outputs": [
    {
     "data": {
      "text/html": [
       "<div>\n",
       "<style scoped>\n",
       "    .dataframe tbody tr th:only-of-type {\n",
       "        vertical-align: middle;\n",
       "    }\n",
       "\n",
       "    .dataframe tbody tr th {\n",
       "        vertical-align: top;\n",
       "    }\n",
       "\n",
       "    .dataframe thead th {\n",
       "        text-align: right;\n",
       "    }\n",
       "</style>\n",
       "<table border=\"1\" class=\"dataframe\">\n",
       "  <thead>\n",
       "    <tr style=\"text-align: right;\">\n",
       "      <th></th>\n",
       "      <th>zero_traffic_count</th>\n",
       "    </tr>\n",
       "    <tr>\n",
       "      <th>user_id</th>\n",
       "      <th></th>\n",
       "    </tr>\n",
       "  </thead>\n",
       "  <tbody>\n",
       "    <tr>\n",
       "      <td>1204</td>\n",
       "      <td>144</td>\n",
       "    </tr>\n",
       "    <tr>\n",
       "      <td>1496</td>\n",
       "      <td>141</td>\n",
       "    </tr>\n",
       "    <tr>\n",
       "      <td>1429</td>\n",
       "      <td>125</td>\n",
       "    </tr>\n",
       "    <tr>\n",
       "      <td>1119</td>\n",
       "      <td>124</td>\n",
       "    </tr>\n",
       "    <tr>\n",
       "      <td>1227</td>\n",
       "      <td>121</td>\n",
       "    </tr>\n",
       "  </tbody>\n",
       "</table>\n",
       "</div>"
      ],
      "text/plain": [
       "         zero_traffic_count\n",
       "user_id                    \n",
       "1204                    144\n",
       "1496                    141\n",
       "1429                    125\n",
       "1119                    124\n",
       "1227                    121"
      ]
     },
     "execution_count": 19,
     "metadata": {},
     "output_type": "execute_result"
    }
   ],
   "source": [
    "zero_traffic = internet[internet['mb_used'] == 0].pivot_table(index = 'user_id', values = 'mb_used', aggfunc = ['count'] )\n",
    "zero_traffic.columns = ['zero_traffic_count']\n",
    "zero_traffic.sort_values(by = 'zero_traffic_count' , ascending = False).head(5)"
   ]
  },
  {
   "cell_type": "code",
   "execution_count": 20,
   "metadata": {},
   "outputs": [
    {
     "data": {
      "text/html": [
       "<div>\n",
       "<style scoped>\n",
       "    .dataframe tbody tr th:only-of-type {\n",
       "        vertical-align: middle;\n",
       "    }\n",
       "\n",
       "    .dataframe tbody tr th {\n",
       "        vertical-align: top;\n",
       "    }\n",
       "\n",
       "    .dataframe thead th {\n",
       "        text-align: right;\n",
       "    }\n",
       "</style>\n",
       "<table border=\"1\" class=\"dataframe\">\n",
       "  <thead>\n",
       "    <tr style=\"text-align: right;\">\n",
       "      <th></th>\n",
       "      <th>zero_traffic_count</th>\n",
       "    </tr>\n",
       "    <tr>\n",
       "      <th>user_id</th>\n",
       "      <th></th>\n",
       "    </tr>\n",
       "  </thead>\n",
       "  <tbody>\n",
       "    <tr>\n",
       "      <td>1240</td>\n",
       "      <td>731</td>\n",
       "    </tr>\n",
       "    <tr>\n",
       "      <td>1385</td>\n",
       "      <td>725</td>\n",
       "    </tr>\n",
       "    <tr>\n",
       "      <td>1496</td>\n",
       "      <td>693</td>\n",
       "    </tr>\n",
       "    <tr>\n",
       "      <td>1227</td>\n",
       "      <td>691</td>\n",
       "    </tr>\n",
       "    <tr>\n",
       "      <td>1180</td>\n",
       "      <td>651</td>\n",
       "    </tr>\n",
       "  </tbody>\n",
       "</table>\n",
       "</div>"
      ],
      "text/plain": [
       "         zero_traffic_count\n",
       "user_id                    \n",
       "1240                    731\n",
       "1385                    725\n",
       "1496                    693\n",
       "1227                    691\n",
       "1180                    651"
      ]
     },
     "execution_count": 20,
     "metadata": {},
     "output_type": "execute_result"
    }
   ],
   "source": [
    "no_zero_traffic = internet[internet['mb_used'] != 0].pivot_table(index = 'user_id', values = 'mb_used', aggfunc = ['count'] )\n",
    "no_zero_traffic.columns = ['zero_traffic_count']\n",
    "no_zero_traffic.sort_values(by = 'zero_traffic_count' , ascending = False).head(5)"
   ]
  },
  {
   "cell_type": "code",
   "execution_count": 21,
   "metadata": {},
   "outputs": [
    {
     "name": "stdout",
     "output_type": "stream",
     "text": [
      "             id  mb_used session_date  user_id\n",
      "64270  1219_177        0   2018-01-22     1219\n",
      "64630  1219_537        0   2018-01-25     1219\n",
      "38640  1135_120        0   2018-01-30     1135\n",
      "64639  1219_546        0   2018-01-30     1219\n",
      "64497  1219_404        0   2018-02-01     1219\n",
      "...         ...      ...          ...      ...\n",
      "38710  1135_190        0   2018-12-21     1135\n",
      "38972  1135_452        0   2018-12-22     1135\n",
      "64158   1219_65        0   2018-12-22     1219\n",
      "64248  1219_155        0   2018-12-31     1219\n",
      "64726  1219_633        0   2018-12-31     1219\n",
      "\n",
      "[230 rows x 4 columns]\n"
     ]
    }
   ],
   "source": [
    "print(internet[(internet['mb_used'] == 0) & ((internet['user_id'] == 1135) | (internet['user_id'] == 1219))].sort_values(by = 'session_date'))\n"
   ]
  },
  {
   "cell_type": "code",
   "execution_count": 22,
   "metadata": {},
   "outputs": [
    {
     "name": "stdout",
     "output_type": "stream",
     "text": [
      "Количество ID с нулями: 494\n",
      "Количество ID без нулей: 497\n"
     ]
    }
   ],
   "source": [
    "print('Количество ID с нулями:', len(zero_traffic.index))\n",
    "print('Количество ID без нулей:', len(no_zero_traffic.index))\n"
   ]
  },
  {
   "cell_type": "markdown",
   "metadata": {},
   "source": [
    "В двух послендних строчках интернет - сессий мы видим индексы с 0 мб , но в интервале за один день c разными id. Соответственно можно посмотреть изменения трафика в течении суток по этим индексам"
   ]
  },
  {
   "cell_type": "code",
   "execution_count": 23,
   "metadata": {},
   "outputs": [
    {
     "data": {
      "text/html": [
       "<div>\n",
       "<style scoped>\n",
       "    .dataframe tbody tr th:only-of-type {\n",
       "        vertical-align: middle;\n",
       "    }\n",
       "\n",
       "    .dataframe tbody tr th {\n",
       "        vertical-align: top;\n",
       "    }\n",
       "\n",
       "    .dataframe thead th {\n",
       "        text-align: right;\n",
       "    }\n",
       "</style>\n",
       "<table border=\"1\" class=\"dataframe\">\n",
       "  <thead>\n",
       "    <tr style=\"text-align: right;\">\n",
       "      <th></th>\n",
       "      <th>id</th>\n",
       "      <th>mb_used</th>\n",
       "      <th>session_date</th>\n",
       "      <th>user_id</th>\n",
       "    </tr>\n",
       "  </thead>\n",
       "  <tbody>\n",
       "    <tr>\n",
       "      <td>64323</td>\n",
       "      <td>1219_230</td>\n",
       "      <td>121</td>\n",
       "      <td>2018-01-21</td>\n",
       "      <td>1219</td>\n",
       "    </tr>\n",
       "    <tr>\n",
       "      <td>64434</td>\n",
       "      <td>1219_341</td>\n",
       "      <td>509</td>\n",
       "      <td>2018-01-21</td>\n",
       "      <td>1219</td>\n",
       "    </tr>\n",
       "    <tr>\n",
       "      <td>64280</td>\n",
       "      <td>1219_187</td>\n",
       "      <td>391</td>\n",
       "      <td>2018-01-21</td>\n",
       "      <td>1219</td>\n",
       "    </tr>\n",
       "    <tr>\n",
       "      <td>64353</td>\n",
       "      <td>1219_260</td>\n",
       "      <td>474</td>\n",
       "      <td>2018-01-22</td>\n",
       "      <td>1219</td>\n",
       "    </tr>\n",
       "    <tr>\n",
       "      <td>64496</td>\n",
       "      <td>1219_403</td>\n",
       "      <td>607</td>\n",
       "      <td>2018-01-22</td>\n",
       "      <td>1219</td>\n",
       "    </tr>\n",
       "    <tr>\n",
       "      <td>64270</td>\n",
       "      <td>1219_177</td>\n",
       "      <td>0</td>\n",
       "      <td>2018-01-22</td>\n",
       "      <td>1219</td>\n",
       "    </tr>\n",
       "    <tr>\n",
       "      <td>64439</td>\n",
       "      <td>1219_346</td>\n",
       "      <td>214</td>\n",
       "      <td>2018-01-22</td>\n",
       "      <td>1219</td>\n",
       "    </tr>\n",
       "    <tr>\n",
       "      <td>64635</td>\n",
       "      <td>1219_542</td>\n",
       "      <td>135</td>\n",
       "      <td>2018-01-23</td>\n",
       "      <td>1219</td>\n",
       "    </tr>\n",
       "    <tr>\n",
       "      <td>64673</td>\n",
       "      <td>1219_580</td>\n",
       "      <td>359</td>\n",
       "      <td>2018-01-24</td>\n",
       "      <td>1219</td>\n",
       "    </tr>\n",
       "    <tr>\n",
       "      <td>64630</td>\n",
       "      <td>1219_537</td>\n",
       "      <td>0</td>\n",
       "      <td>2018-01-25</td>\n",
       "      <td>1219</td>\n",
       "    </tr>\n",
       "    <tr>\n",
       "      <td>64544</td>\n",
       "      <td>1219_451</td>\n",
       "      <td>221</td>\n",
       "      <td>2018-01-26</td>\n",
       "      <td>1219</td>\n",
       "    </tr>\n",
       "    <tr>\n",
       "      <td>64411</td>\n",
       "      <td>1219_318</td>\n",
       "      <td>454</td>\n",
       "      <td>2018-01-27</td>\n",
       "      <td>1219</td>\n",
       "    </tr>\n",
       "    <tr>\n",
       "      <td>64409</td>\n",
       "      <td>1219_316</td>\n",
       "      <td>888</td>\n",
       "      <td>2018-01-28</td>\n",
       "      <td>1219</td>\n",
       "    </tr>\n",
       "    <tr>\n",
       "      <td>64394</td>\n",
       "      <td>1219_301</td>\n",
       "      <td>748</td>\n",
       "      <td>2018-01-28</td>\n",
       "      <td>1219</td>\n",
       "    </tr>\n",
       "    <tr>\n",
       "      <td>64342</td>\n",
       "      <td>1219_249</td>\n",
       "      <td>115</td>\n",
       "      <td>2018-01-29</td>\n",
       "      <td>1219</td>\n",
       "    </tr>\n",
       "    <tr>\n",
       "      <td>64407</td>\n",
       "      <td>1219_314</td>\n",
       "      <td>187</td>\n",
       "      <td>2018-01-29</td>\n",
       "      <td>1219</td>\n",
       "    </tr>\n",
       "    <tr>\n",
       "      <td>64623</td>\n",
       "      <td>1219_530</td>\n",
       "      <td>235</td>\n",
       "      <td>2018-01-29</td>\n",
       "      <td>1219</td>\n",
       "    </tr>\n",
       "    <tr>\n",
       "      <td>64639</td>\n",
       "      <td>1219_546</td>\n",
       "      <td>0</td>\n",
       "      <td>2018-01-30</td>\n",
       "      <td>1219</td>\n",
       "    </tr>\n",
       "    <tr>\n",
       "      <td>64649</td>\n",
       "      <td>1219_556</td>\n",
       "      <td>114</td>\n",
       "      <td>2018-02-01</td>\n",
       "      <td>1219</td>\n",
       "    </tr>\n",
       "    <tr>\n",
       "      <td>64497</td>\n",
       "      <td>1219_404</td>\n",
       "      <td>0</td>\n",
       "      <td>2018-02-01</td>\n",
       "      <td>1219</td>\n",
       "    </tr>\n",
       "    <tr>\n",
       "      <td>64591</td>\n",
       "      <td>1219_498</td>\n",
       "      <td>15</td>\n",
       "      <td>2018-02-02</td>\n",
       "      <td>1219</td>\n",
       "    </tr>\n",
       "    <tr>\n",
       "      <td>64302</td>\n",
       "      <td>1219_209</td>\n",
       "      <td>464</td>\n",
       "      <td>2018-02-03</td>\n",
       "      <td>1219</td>\n",
       "    </tr>\n",
       "    <tr>\n",
       "      <td>64333</td>\n",
       "      <td>1219_240</td>\n",
       "      <td>243</td>\n",
       "      <td>2018-02-04</td>\n",
       "      <td>1219</td>\n",
       "    </tr>\n",
       "    <tr>\n",
       "      <td>64389</td>\n",
       "      <td>1219_296</td>\n",
       "      <td>796</td>\n",
       "      <td>2018-02-06</td>\n",
       "      <td>1219</td>\n",
       "    </tr>\n",
       "    <tr>\n",
       "      <td>64560</td>\n",
       "      <td>1219_467</td>\n",
       "      <td>0</td>\n",
       "      <td>2018-02-06</td>\n",
       "      <td>1219</td>\n",
       "    </tr>\n",
       "    <tr>\n",
       "      <td>64326</td>\n",
       "      <td>1219_233</td>\n",
       "      <td>328</td>\n",
       "      <td>2018-02-07</td>\n",
       "      <td>1219</td>\n",
       "    </tr>\n",
       "    <tr>\n",
       "      <td>64286</td>\n",
       "      <td>1219_193</td>\n",
       "      <td>524</td>\n",
       "      <td>2018-02-07</td>\n",
       "      <td>1219</td>\n",
       "    </tr>\n",
       "    <tr>\n",
       "      <td>64414</td>\n",
       "      <td>1219_321</td>\n",
       "      <td>0</td>\n",
       "      <td>2018-02-08</td>\n",
       "      <td>1219</td>\n",
       "    </tr>\n",
       "    <tr>\n",
       "      <td>64325</td>\n",
       "      <td>1219_232</td>\n",
       "      <td>312</td>\n",
       "      <td>2018-02-08</td>\n",
       "      <td>1219</td>\n",
       "    </tr>\n",
       "    <tr>\n",
       "      <td>64724</td>\n",
       "      <td>1219_631</td>\n",
       "      <td>801</td>\n",
       "      <td>2018-02-08</td>\n",
       "      <td>1219</td>\n",
       "    </tr>\n",
       "  </tbody>\n",
       "</table>\n",
       "</div>"
      ],
      "text/plain": [
       "             id  mb_used session_date  user_id\n",
       "64323  1219_230      121   2018-01-21     1219\n",
       "64434  1219_341      509   2018-01-21     1219\n",
       "64280  1219_187      391   2018-01-21     1219\n",
       "64353  1219_260      474   2018-01-22     1219\n",
       "64496  1219_403      607   2018-01-22     1219\n",
       "64270  1219_177        0   2018-01-22     1219\n",
       "64439  1219_346      214   2018-01-22     1219\n",
       "64635  1219_542      135   2018-01-23     1219\n",
       "64673  1219_580      359   2018-01-24     1219\n",
       "64630  1219_537        0   2018-01-25     1219\n",
       "64544  1219_451      221   2018-01-26     1219\n",
       "64411  1219_318      454   2018-01-27     1219\n",
       "64409  1219_316      888   2018-01-28     1219\n",
       "64394  1219_301      748   2018-01-28     1219\n",
       "64342  1219_249      115   2018-01-29     1219\n",
       "64407  1219_314      187   2018-01-29     1219\n",
       "64623  1219_530      235   2018-01-29     1219\n",
       "64639  1219_546        0   2018-01-30     1219\n",
       "64649  1219_556      114   2018-02-01     1219\n",
       "64497  1219_404        0   2018-02-01     1219\n",
       "64591  1219_498       15   2018-02-02     1219\n",
       "64302  1219_209      464   2018-02-03     1219\n",
       "64333  1219_240      243   2018-02-04     1219\n",
       "64389  1219_296      796   2018-02-06     1219\n",
       "64560  1219_467        0   2018-02-06     1219\n",
       "64326  1219_233      328   2018-02-07     1219\n",
       "64286  1219_193      524   2018-02-07     1219\n",
       "64414  1219_321        0   2018-02-08     1219\n",
       "64325  1219_232      312   2018-02-08     1219\n",
       "64724  1219_631      801   2018-02-08     1219"
      ]
     },
     "execution_count": 23,
     "metadata": {},
     "output_type": "execute_result"
    }
   ],
   "source": [
    "internet[(internet.index >= 64248) & (internet.index <= 64726)].sort_values(by = 'session_date').head(30)"
   ]
  },
  {
   "cell_type": "code",
   "execution_count": 24,
   "metadata": {},
   "outputs": [
    {
     "data": {
      "text/plain": [
       "id              19598\n",
       "mb_used         19598\n",
       "session_date    19598\n",
       "user_id         19598\n",
       "dtype: int64"
      ]
     },
     "execution_count": 24,
     "metadata": {},
     "output_type": "execute_result"
    }
   ],
   "source": [
    "internet[internet['mb_used'] == 0].count()\n"
   ]
  },
  {
   "cell_type": "markdown",
   "metadata": {},
   "source": [
    "Учитывая тот факт, что количество ID практически схоже, в случаях с 0 мб по сессиям, можно предположить, что это были сессии с минимальной активностью. Например, пуш уведомление или сообщение в месенджере, что выражается в килобайтах, которые не фиксирует выгрузка. И, поскольку мы не имеем информации по округлению килобайт, то удалим их из общей базы, тем самым уменьшив её на 13% (19598 строк)"
   ]
  },
  {
   "cell_type": "code",
   "execution_count": 25,
   "metadata": {},
   "outputs": [],
   "source": [
    "#internet['mb_used'][internet['mb_used'] == 0] = 1"
   ]
  },
  {
   "cell_type": "code",
   "execution_count": 26,
   "metadata": {},
   "outputs": [
    {
     "name": "stdout",
     "output_type": "stream",
     "text": [
      "<class 'pandas.core.frame.DataFrame'>\n",
      "Int64Index: 129798 entries, 0 to 149395\n",
      "Data columns (total 4 columns):\n",
      "id              129798 non-null object\n",
      "mb_used         129798 non-null int64\n",
      "session_date    129798 non-null datetime64[ns]\n",
      "user_id         129798 non-null int64\n",
      "dtypes: datetime64[ns](1), int64(2), object(1)\n",
      "memory usage: 5.0+ MB\n"
     ]
    }
   ],
   "source": [
    "internet = internet[internet['mb_used'] != 0]\n",
    "internet.info()"
   ]
  },
  {
   "cell_type": "markdown",
   "metadata": {},
   "source": [
    "<div class=\"alert alert-success\">\n",
    "<b>Комментарии ревьюера V3:</b> Теперь к этому пункту замечаний нет. Здорово, что выше ты отметил, сколько у нас нулевых строк, какую часть датасета мы отрезаем.</div>"
   ]
  },
  {
   "cell_type": "code",
   "execution_count": 27,
   "metadata": {},
   "outputs": [
    {
     "data": {
      "text/plain": [
       "array([[<matplotlib.axes._subplots.AxesSubplot object at 0x7f1d14b19c10>,\n",
       "        <matplotlib.axes._subplots.AxesSubplot object at 0x7f1d14b47790>]],\n",
       "      dtype=object)"
      ]
     },
     "execution_count": 27,
     "metadata": {},
     "output_type": "execute_result"
    },
    {
     "data": {
      "image/png": "[encoded data removed]",
      "text/plain": [
       "<Figure size 576x432 with 2 Axes>"
      ]
     },
     "metadata": {
      "needs_background": "light"
     },
     "output_type": "display_data"
    }
   ],
   "source": [
    "internet.hist(bins = 30 ,figsize=(8, 6))"
   ]
  },
  {
   "cell_type": "code",
   "execution_count": 28,
   "metadata": {},
   "outputs": [
    {
     "data": {
      "text/plain": [
       "<matplotlib.axes._subplots.AxesSubplot at 0x7f1d34dee050>"
      ]
     },
     "execution_count": 28,
     "metadata": {},
     "output_type": "execute_result"
    },
    {
     "data": {
      "image/png": "[encoded data removed]",
      "text/plain": [
       "<Figure size 432x288 with 1 Axes>"
      ]
     },
     "metadata": {
      "needs_background": "light"
     },
     "output_type": "display_data"
    }
   ],
   "source": [
    "internet.boxplot('mb_used')"
   ]
  },
  {
   "cell_type": "code",
   "execution_count": 29,
   "metadata": {},
   "outputs": [
    {
     "data": {
      "text/plain": [
       "array([[<matplotlib.axes._subplots.AxesSubplot object at 0x7f1d1497c9d0>,\n",
       "        <matplotlib.axes._subplots.AxesSubplot object at 0x7f1d1493be10>]],\n",
       "      dtype=object)"
      ]
     },
     "execution_count": 29,
     "metadata": {},
     "output_type": "execute_result"
    },
    {
     "data": {
      "image/png": "[encoded data removed]",
      "text/plain": [
       "<Figure size 432x288 with 2 Axes>"
      ]
     },
     "metadata": {
      "needs_background": "light"
     },
     "output_type": "display_data"
    }
   ],
   "source": [
    "internet_sessions_mb_used_mean = internet.pivot_table(index = 'user_id', values= 'mb_used', aggfunc = ['mean', 'sum'])\n",
    "internet_sessions_mb_used_mean.hist()"
   ]
  },
  {
   "cell_type": "code",
   "execution_count": 30,
   "metadata": {},
   "outputs": [],
   "source": [
    "#def round_traffic(row):\n",
    "#    if (row['mb_used'] / 1024) < 1:\n",
    "#        return 1\n",
    "#    else:\n",
    "#        return (row['mb_used'] / 1024)\n",
    "        "
   ]
  },
  {
   "cell_type": "code",
   "execution_count": 31,
   "metadata": {},
   "outputs": [],
   "source": [
    "#internet['gb_used'] = internet.apply(round_traffic, axis = 1).astype(int)\n",
    "#internet.head()"
   ]
  },
  {
   "cell_type": "code",
   "execution_count": 32,
   "metadata": {},
   "outputs": [],
   "source": [
    "#internet['gb_used'].describe()"
   ]
  },
  {
   "cell_type": "code",
   "execution_count": null,
   "metadata": {},
   "outputs": [],
   "source": []
  },
  {
   "cell_type": "markdown",
   "metadata": {},
   "source": [
    "<div class=\"alert alert-danger\">\n",
    "<b>Комментарии ревьюера V2:</b> <s>Все же осталась небольшая ошибка с округлением гигабайт. Если посмотреть на эту таблицу, то видно что Юзер 1000_0\t потратил 113 мегабайт, но Мегалайн посчитал это как 0 Гб. Вряд ли Мегалайн пойдет на подобную благотворительность :) Нужно подумать, как лучше округлить :) </s>\n",
    "    \n",
    "Окей :)    \n",
    "</div>"
   ]
  },
  {
   "cell_type": "markdown",
   "metadata": {},
   "source": [
    "<div     style = 'color: #FFFFFF;\n",
    "    background-color: #3E94C9;\n",
    "    border-color: #d6e9c6; padding: 15px;\n",
    "    margin-bottom: 18px;\n",
    "    border: 1px solid transparent;\n",
    "    border-radius: 2px;'>\n",
    "<h2> Ответ исполнителя 2 <a class=\"tocSkip\"> </h2>\n",
    "\n",
    "Вообщем, сравнил расчеты по mb и gb - очень большие различия из - за округлений. Буду всё считать в мегабайтах. \n",
    "    \n",
    "\n",
    "</div>"
   ]
  },
  {
   "cell_type": "markdown",
   "metadata": {},
   "source": [
    "<div class=\"alert alert-danger\">\n",
    "<b>Комментарии ревьюера:</b> <s>Здесь вкралась небольшая ошибка. По правилам компании  вверх округляются минуты и мегабайты. Необходимо вначале выполнить округление мегабайт, а потом уже переводить в гигабайты. </s>\n",
    "</div>"
   ]
  },
  {
   "cell_type": "markdown",
   "metadata": {},
   "source": [
    "<div     style = 'color: #FFFFFF;\n",
    "    background-color: #3E94C9;\n",
    "    border-color: #d6e9c6; padding: 15px;\n",
    "    margin-bottom: 18px;\n",
    "    border: 1px solid transparent;\n",
    "    border-radius: 2px;'>\n",
    "<h2> Ответ исполнителя <a class=\"tocSkip\"> </h2>\n",
    "\n",
    "Подумал, что это нелогично, учитывая доплату за ГБ. Но я лихо округлил, да :D \n",
    "    \n",
    "    Поменял.\n",
    "</div>"
   ]
  },
  {
   "cell_type": "markdown",
   "metadata": {},
   "source": [
    "### Поиск, удаление и исправление некорретных значений"
   ]
  },
  {
   "cell_type": "markdown",
   "metadata": {},
   "source": [
    "Пройдемся по всем волнующим нас значениям и уберем артефактные данные"
   ]
  },
  {
   "cell_type": "markdown",
   "metadata": {},
   "source": [
    "#### Предобработка таблицы с информацией о звонках"
   ]
  },
  {
   "cell_type": "markdown",
   "metadata": {},
   "source": [
    "##### Анализ странного количества созвонов на 1 пользователя"
   ]
  },
  {
   "cell_type": "code",
   "execution_count": 33,
   "metadata": {},
   "outputs": [
    {
     "data": {
      "text/html": [
       "<div>\n",
       "<style scoped>\n",
       "    .dataframe tbody tr th:only-of-type {\n",
       "        vertical-align: middle;\n",
       "    }\n",
       "\n",
       "    .dataframe tbody tr th {\n",
       "        vertical-align: top;\n",
       "    }\n",
       "\n",
       "    .dataframe thead th {\n",
       "        text-align: right;\n",
       "    }\n",
       "</style>\n",
       "<table border=\"1\" class=\"dataframe\">\n",
       "  <thead>\n",
       "    <tr style=\"text-align: right;\">\n",
       "      <th></th>\n",
       "      <th>id</th>\n",
       "    </tr>\n",
       "  </thead>\n",
       "  <tbody>\n",
       "    <tr>\n",
       "      <td>count</td>\n",
       "      <td>492.000000</td>\n",
       "    </tr>\n",
       "    <tr>\n",
       "      <td>mean</td>\n",
       "      <td>411.802846</td>\n",
       "    </tr>\n",
       "    <tr>\n",
       "      <td>std</td>\n",
       "      <td>291.803375</td>\n",
       "    </tr>\n",
       "    <tr>\n",
       "      <td>min</td>\n",
       "      <td>14.000000</td>\n",
       "    </tr>\n",
       "    <tr>\n",
       "      <td>25%</td>\n",
       "      <td>180.000000</td>\n",
       "    </tr>\n",
       "    <tr>\n",
       "      <td>50%</td>\n",
       "      <td>344.500000</td>\n",
       "    </tr>\n",
       "    <tr>\n",
       "      <td>75%</td>\n",
       "      <td>589.500000</td>\n",
       "    </tr>\n",
       "    <tr>\n",
       "      <td>max</td>\n",
       "      <td>1760.000000</td>\n",
       "    </tr>\n",
       "  </tbody>\n",
       "</table>\n",
       "</div>"
      ],
      "text/plain": [
       "                id\n",
       "count   492.000000\n",
       "mean    411.802846\n",
       "std     291.803375\n",
       "min      14.000000\n",
       "25%     180.000000\n",
       "50%     344.500000\n",
       "75%     589.500000\n",
       "max    1760.000000"
      ]
     },
     "execution_count": 33,
     "metadata": {},
     "output_type": "execute_result"
    }
   ],
   "source": [
    "calls_users_count = calls.pivot_table(index = 'user_id', values = 'id', aggfunc = 'count' )\n",
    "calls_users_count.describe()"
   ]
  },
  {
   "cell_type": "code",
   "execution_count": 34,
   "metadata": {},
   "outputs": [
    {
     "data": {
      "text/plain": [
       "<matplotlib.axes._subplots.AxesSubplot at 0x7f1d13f66c90>"
      ]
     },
     "execution_count": 34,
     "metadata": {},
     "output_type": "execute_result"
    },
    {
     "data": {
      "image/png": "[encoded data removed]",
      "text/plain": [
       "<Figure size 432x288 with 1 Axes>"
      ]
     },
     "metadata": {
      "needs_background": "light"
     },
     "output_type": "display_data"
    }
   ],
   "source": [
    "calls_users_count.boxplot(column = 'id')\n",
    "#plt.ylim(32,40)"
   ]
  },
  {
   "cell_type": "code",
   "execution_count": 35,
   "metadata": {},
   "outputs": [],
   "source": [
    "calls_users_count_big = calls_users_count.query('id > 1200')"
   ]
  },
  {
   "cell_type": "code",
   "execution_count": 36,
   "metadata": {},
   "outputs": [
    {
     "data": {
      "text/html": [
       "<div>\n",
       "<style scoped>\n",
       "    .dataframe tbody tr th:only-of-type {\n",
       "        vertical-align: middle;\n",
       "    }\n",
       "\n",
       "    .dataframe tbody tr th {\n",
       "        vertical-align: top;\n",
       "    }\n",
       "\n",
       "    .dataframe thead th {\n",
       "        text-align: right;\n",
       "    }\n",
       "</style>\n",
       "<table border=\"1\" class=\"dataframe\">\n",
       "  <thead>\n",
       "    <tr style=\"text-align: right;\">\n",
       "      <th></th>\n",
       "      <th>user_id</th>\n",
       "      <th>id</th>\n",
       "      <th>age</th>\n",
       "      <th>churn_date</th>\n",
       "      <th>city</th>\n",
       "      <th>first_name</th>\n",
       "      <th>last_name</th>\n",
       "      <th>reg_date</th>\n",
       "      <th>tariff</th>\n",
       "    </tr>\n",
       "  </thead>\n",
       "  <tbody>\n",
       "    <tr>\n",
       "      <td>0</td>\n",
       "      <td>1021</td>\n",
       "      <td>1224</td>\n",
       "      <td>61</td>\n",
       "      <td>NaT</td>\n",
       "      <td>Краснодар</td>\n",
       "      <td>Святослав</td>\n",
       "      <td>Тихонов</td>\n",
       "      <td>2018-04-26</td>\n",
       "      <td>ultra</td>\n",
       "    </tr>\n",
       "    <tr>\n",
       "      <td>1</td>\n",
       "      <td>1168</td>\n",
       "      <td>1692</td>\n",
       "      <td>28</td>\n",
       "      <td>NaT</td>\n",
       "      <td>Кострома</td>\n",
       "      <td>Лилия</td>\n",
       "      <td>Ананьева</td>\n",
       "      <td>2018-01-24</td>\n",
       "      <td>ultra</td>\n",
       "    </tr>\n",
       "    <tr>\n",
       "      <td>2</td>\n",
       "      <td>1196</td>\n",
       "      <td>1240</td>\n",
       "      <td>25</td>\n",
       "      <td>NaT</td>\n",
       "      <td>Воронеж</td>\n",
       "      <td>Фёдор</td>\n",
       "      <td>Чернышев</td>\n",
       "      <td>2018-05-28</td>\n",
       "      <td>ultra</td>\n",
       "    </tr>\n",
       "    <tr>\n",
       "      <td>3</td>\n",
       "      <td>1375</td>\n",
       "      <td>1560</td>\n",
       "      <td>53</td>\n",
       "      <td>NaT</td>\n",
       "      <td>Пенза</td>\n",
       "      <td>Мария</td>\n",
       "      <td>Акимычева</td>\n",
       "      <td>2018-01-04</td>\n",
       "      <td>ultra</td>\n",
       "    </tr>\n",
       "    <tr>\n",
       "      <td>4</td>\n",
       "      <td>1377</td>\n",
       "      <td>1760</td>\n",
       "      <td>59</td>\n",
       "      <td>NaT</td>\n",
       "      <td>Брянск</td>\n",
       "      <td>Альфред</td>\n",
       "      <td>Семин</td>\n",
       "      <td>2018-02-25</td>\n",
       "      <td>ultra</td>\n",
       "    </tr>\n",
       "  </tbody>\n",
       "</table>\n",
       "</div>"
      ],
      "text/plain": [
       "   user_id    id  age churn_date       city first_name  last_name   reg_date  \\\n",
       "0     1021  1224   61        NaT  Краснодар  Святослав    Тихонов 2018-04-26   \n",
       "1     1168  1692   28        NaT   Кострома      Лилия   Ананьева 2018-01-24   \n",
       "2     1196  1240   25        NaT    Воронеж      Фёдор   Чернышев 2018-05-28   \n",
       "3     1375  1560   53        NaT      Пенза      Мария  Акимычева 2018-01-04   \n",
       "4     1377  1760   59        NaT     Брянск    Альфред      Семин 2018-02-25   \n",
       "\n",
       "  tariff  \n",
       "0  ultra  \n",
       "1  ultra  \n",
       "2  ultra  \n",
       "3  ultra  \n",
       "4  ultra  "
      ]
     },
     "execution_count": 36,
     "metadata": {},
     "output_type": "execute_result"
    }
   ],
   "source": [
    "calls_users_count_merge = calls_users_count_big.merge(users, on = 'user_id', how = 'left')\n",
    "calls_users_count_merge.head()"
   ]
  },
  {
   "cell_type": "code",
   "execution_count": 37,
   "metadata": {},
   "outputs": [
    {
     "name": "stdout",
     "output_type": "stream",
     "text": [
      "<class 'pandas.core.frame.DataFrame'>\n",
      "Int64Index: 195131 entries, 0 to 202606\n",
      "Data columns (total 4 columns):\n",
      "id           195131 non-null object\n",
      "call_date    195131 non-null datetime64[ns]\n",
      "duration     195131 non-null int64\n",
      "user_id      195131 non-null int64\n",
      "dtypes: datetime64[ns](1), int64(2), object(1)\n",
      "memory usage: 7.4+ MB\n"
     ]
    }
   ],
   "source": [
    "calls = calls.drop(calls[(calls.user_id == 1021) | (calls.user_id == 1168)\n",
    "                         | (calls.user_id == 1196) | (calls.user_id == 1375) | (calls.user_id == 1377)].index)\n",
    "#calls = calls.drop(calls[calls.user_id == [1021, 1168,1196,1375,1377]].index)\n",
    "calls.info()"
   ]
  },
  {
   "cell_type": "markdown",
   "metadata": {},
   "source": [
    "Есть всего 6 пользователей, которые формируют достаточно большой пул звонков. Эти значения очень сильно отличаются от общей группы пользователей и можно предположить, что это телефонные номера, зарегистрированные на какие нибудь агентства или телефоном пользуются несколько человек."
   ]
  },
  {
   "cell_type": "markdown",
   "metadata": {},
   "source": [
    "<div class=\"alert alert-success\">\n",
    "<b>Комментарии ревьюера:</b> Здесь можно было также использовать, например, процентили и сделать срез данных. \n",
    "</div>"
   ]
  },
  {
   "cell_type": "markdown",
   "metadata": {},
   "source": [
    "##### Анализ продолжительности звонка и 0 значений."
   ]
  },
  {
   "cell_type": "code",
   "execution_count": 38,
   "metadata": {},
   "outputs": [
    {
     "data": {
      "text/plain": [
       "id           38163\n",
       "call_date    38163\n",
       "duration     38163\n",
       "user_id      38163\n",
       "dtype: int64"
      ]
     },
     "execution_count": 38,
     "metadata": {},
     "output_type": "execute_result"
    }
   ],
   "source": [
    "calls[calls['duration'] == 0].count()"
   ]
  },
  {
   "cell_type": "markdown",
   "metadata": {},
   "source": [
    "На текущий момент видно, что звоноков с 0 длительностью 38163, что составляет 18,8% от общей базы звонков. Посмотрим, есть ли в количественном значении пользователи, которые \"генерируют\" звонки с 0 длительностью."
   ]
  },
  {
   "cell_type": "code",
   "execution_count": 39,
   "metadata": {},
   "outputs": [
    {
     "data": {
      "text/html": [
       "<div>\n",
       "<style scoped>\n",
       "    .dataframe tbody tr th:only-of-type {\n",
       "        vertical-align: middle;\n",
       "    }\n",
       "\n",
       "    .dataframe tbody tr th {\n",
       "        vertical-align: top;\n",
       "    }\n",
       "\n",
       "    .dataframe thead th {\n",
       "        text-align: right;\n",
       "    }\n",
       "</style>\n",
       "<table border=\"1\" class=\"dataframe\">\n",
       "  <thead>\n",
       "    <tr style=\"text-align: right;\">\n",
       "      <th></th>\n",
       "      <th>duration</th>\n",
       "    </tr>\n",
       "    <tr>\n",
       "      <th>user_id</th>\n",
       "      <th></th>\n",
       "    </tr>\n",
       "  </thead>\n",
       "  <tbody>\n",
       "    <tr>\n",
       "      <td>1453</td>\n",
       "      <td>295</td>\n",
       "    </tr>\n",
       "    <tr>\n",
       "      <td>1363</td>\n",
       "      <td>244</td>\n",
       "    </tr>\n",
       "    <tr>\n",
       "      <td>1282</td>\n",
       "      <td>240</td>\n",
       "    </tr>\n",
       "    <tr>\n",
       "      <td>1057</td>\n",
       "      <td>216</td>\n",
       "    </tr>\n",
       "    <tr>\n",
       "      <td>1356</td>\n",
       "      <td>214</td>\n",
       "    </tr>\n",
       "  </tbody>\n",
       "</table>\n",
       "</div>"
      ],
      "text/plain": [
       "         duration\n",
       "user_id          \n",
       "1453          295\n",
       "1363          244\n",
       "1282          240\n",
       "1057          216\n",
       "1356          214"
      ]
     },
     "execution_count": 39,
     "metadata": {},
     "output_type": "execute_result"
    }
   ],
   "source": [
    "calls_users_group = calls[calls['duration'] == 0].pivot_table(index = ['user_id'], values = 'duration', aggfunc = 'count')\n",
    "calls_users_group.sort_values('duration', ascending = False).head(5)"
   ]
  },
  {
   "cell_type": "markdown",
   "metadata": {},
   "source": [
    "<div class=\"alert alert-warning\">\n",
    "<b>Комментарии ревьюера:</b> <s>Лучше выводить не всю таблицу, а выборочное количество строк. Всю таблицу целиком мы рассмотреть не сможем, а памяти для загрузки потребуется много. Можно использовать, например, sample() для вывода случайных строк. </s> Вопросов нет :)\n",
    "</div>"
   ]
  },
  {
   "cell_type": "markdown",
   "metadata": {},
   "source": [
    "<div     style = 'color: #FFFFFF;\n",
    "    background-color: #3E94C9;\n",
    "    border-color: #d6e9c6; padding: 15px;\n",
    "    margin-bottom: 18px;\n",
    "    border: 1px solid transparent;\n",
    "    border-radius: 2px;'>\n",
    "<h2> Ответ исполнителя <a class=\"tocSkip\"> </h2>\n",
    "\n",
    "Вывод был, по большей части, ознакомительный для меня, чтобы посмотреть распределение верхних значений количества 0 звонков. Скрыл лишнее.\n",
    "</div>"
   ]
  },
  {
   "cell_type": "code",
   "execution_count": 40,
   "metadata": {},
   "outputs": [
    {
     "data": {
      "text/plain": [
       "<matplotlib.axes._subplots.AxesSubplot at 0x7f1d13f7ff90>"
      ]
     },
     "execution_count": 40,
     "metadata": {},
     "output_type": "execute_result"
    },
    {
     "data": {
      "image/png": "[encoded data removed]",
      "text/plain": [
       "<Figure size 432x288 with 1 Axes>"
      ]
     },
     "metadata": {
      "needs_background": "light"
     },
     "output_type": "display_data"
    }
   ],
   "source": [
    "calls_users_group.boxplot(column = 'duration')"
   ]
  },
  {
   "cell_type": "code",
   "execution_count": 41,
   "metadata": {},
   "outputs": [
    {
     "data": {
      "text/plain": [
       "count    487.000000\n",
       "mean      78.363450\n",
       "std       53.600578\n",
       "min        5.000000\n",
       "25%       35.000000\n",
       "50%       66.000000\n",
       "75%      111.500000\n",
       "max      295.000000\n",
       "Name: duration, dtype: float64"
      ]
     },
     "execution_count": 41,
     "metadata": {},
     "output_type": "execute_result"
    }
   ],
   "source": [
    "calls_users_group['duration'].describe()"
   ]
  },
  {
   "cell_type": "markdown",
   "metadata": {},
   "source": [
    "В целом \"недозвоны\" имеют достаточно большую долю от общего количества звноков (18,8%) и их удаление сильно сократит количество строк в базе. При этом некоторые пользователи могут брать тариф только для пользования интернетом или отправкой смс, а в частных таблицах очень сильно влиять на среднее количество звонков в месяц. Все значения оставим без изменений."
   ]
  },
  {
   "cell_type": "markdown",
   "metadata": {},
   "source": [
    "<div class=\"alert alert-danger\">\n",
    "<b>Комментарии ревьюера:</b> <s>Ты верно предположил, что нулевые звонки это, вероятнее всего, недозвоны. Но по поводу их обработки есть пара замечаний:\n",
    "    \n",
    "- если говоришь о доле от общего количество, то нужно приводить цифры - рассчитай, сколько процентов составляют недозвоны от общего количества звонков. \"достаточно большое количество\" это мало информативно, а в цифрах будет уже понятнее :)\n",
    "    \n",
    "- абсолютно верное замечание, что некоторые пользователи пользуются только одной из видов связи - кто-то только звонит, кто-то только использует интернет и тд. Но такие строки никак не повлияют на объединенную  таблицу. Мы же далее будем группировать по пользователю и месяцу и суммировать длительность. Прибавление нулей ничего не изменит. </s>\n",
    "</div>"
   ]
  },
  {
   "cell_type": "markdown",
   "metadata": {},
   "source": [
    "<div     style = 'color: #FFFFFF;\n",
    "    background-color: #3E94C9;\n",
    "    border-color: #d6e9c6; padding: 15px;\n",
    "    margin-bottom: 18px;\n",
    "    border: 1px solid transparent;\n",
    "    border-radius: 2px;'>\n",
    "<h2> Ответ исполнителя <a class=\"tocSkip\"> </h2>\n",
    "\n",
    "После подсчета количества строк с 0 длительностью добавил сразу описание с ходом мыслей и соотношением:\n",
    "    \n",
    "    На текущий момент видно, что звоноков с 0 длительностью 38163, что составляет 18,8% от общей базы звонков. Посмотрим, есть ли в количественном значении пользователи, которые \"генерируют\" звонки с 0 длительностью. \n",
    "    \n",
    "Но вот сейчас смотрю на это и понимаю, что это похоже на работу ради работы, поскольку звонки с нулевой длительностью вообще не повлияют на результат относительно стоимости. Вообщем ничего не буду удалять.\n",
    "</div>"
   ]
  },
  {
   "cell_type": "markdown",
   "metadata": {},
   "source": [
    "<div class=\"alert alert-success\">\n",
    "<b>Комментарии ревьюера V2:</b> На итоговые вычисления это никак не повлияет, можно оставить. \n",
    "</div>\t"
   ]
  },
  {
   "cell_type": "code",
   "execution_count": 42,
   "metadata": {},
   "outputs": [
    {
     "data": {
      "text/plain": [
       "count    195131.000000\n",
       "mean          7.157269\n",
       "std           5.957877\n",
       "min           0.000000\n",
       "25%           2.000000\n",
       "50%           6.000000\n",
       "75%          11.000000\n",
       "max          38.000000\n",
       "Name: duration, dtype: float64"
      ]
     },
     "execution_count": 42,
     "metadata": {},
     "output_type": "execute_result"
    }
   ],
   "source": [
    "#calls = calls[calls['duration'] != 0.0]\n",
    "calls['duration'].describe()"
   ]
  },
  {
   "cell_type": "code",
   "execution_count": 43,
   "metadata": {},
   "outputs": [],
   "source": [
    "#calls.boxplot(column = 'duration')\n",
    "#plt.ylim(25,40)"
   ]
  },
  {
   "cell_type": "code",
   "execution_count": 44,
   "metadata": {},
   "outputs": [],
   "source": [
    "#calls = calls[calls['duration'] < 25]\n",
    "#calls.info()"
   ]
  },
  {
   "cell_type": "markdown",
   "metadata": {},
   "source": [
    "<div class=\"alert alert-danger\">\n",
    "<b>Комментарии ревьюера:</b> <s>Поясни, пожалуйста, почему ты решил взять такой срез данных. Когда удаляешь какие-то строки, то всегда нужно говорить, какой процент данных мы исключаем и почему. </s> Окей, поняла. \n",
    "</div>"
   ]
  },
  {
   "cell_type": "markdown",
   "metadata": {},
   "source": [
    "<div     style = 'color: #FFFFFF;\n",
    "    background-color: #3E94C9;\n",
    "    border-color: #d6e9c6; padding: 15px;\n",
    "    margin-bottom: 18px;\n",
    "    border: 1px solid transparent;\n",
    "    border-radius: 2px;'>\n",
    "<h2> Ответ исполнителя <a class=\"tocSkip\"> </h2>\n",
    "\n",
    "Ход мыслей был такой: \"Выявить аномальные значения по длительности звонка и убрать лишнее\". НО сейчас смотрю и сам не понимаю, почему я решил, что всё выше длительности в 25 минут - это аномально. Оставляем значения как есть.\n",
    "</div>"
   ]
  },
  {
   "cell_type": "markdown",
   "metadata": {},
   "source": [
    "#### Предобработка таблицы с информацией о интернет сессиях"
   ]
  },
  {
   "cell_type": "code",
   "execution_count": 45,
   "metadata": {},
   "outputs": [
    {
     "data": {
      "text/plain": [
       "count    129798.000000\n",
       "mean        426.581758\n",
       "std         255.596114\n",
       "min           1.000000\n",
       "25%         228.000000\n",
       "50%         401.000000\n",
       "75%         593.000000\n",
       "max        1725.000000\n",
       "Name: mb_used, dtype: float64"
      ]
     },
     "execution_count": 45,
     "metadata": {},
     "output_type": "execute_result"
    }
   ],
   "source": [
    "internet.mb_used.describe()"
   ]
  },
  {
   "cell_type": "markdown",
   "metadata": {},
   "source": [
    "<s>После округления перевода данных в гигабайты и округления по регламенту оператора, видно, что за сессию пользователи не тратят выше 1 гб трафика.</s>"
   ]
  },
  {
   "cell_type": "markdown",
   "metadata": {},
   "source": [
    "<div class=\"alert alert-danger\">\n",
    "<b>Комментарии ревьюера:</b> <s>Выше я уже писала, что нам вначале нужно выполнить округление мегабайт,  а уже потом переводить в гигабайты. Еще до перевода в гигабайты важно изучить распределение длительности интернет-сессий. Видно ли какие-нибудь аномалии? Удобнее всего построить гистограмму. </s> Выше оставила более подробный комментарий по этому поводу. \n",
    "    \n",
    "Я имела в виду длительность интернет-сессии - количество мегабайт :)\n",
    "</div>"
   ]
  },
  {
   "cell_type": "markdown",
   "metadata": {},
   "source": [
    "<div     style = 'color: #FFFFFF;\n",
    "    background-color: #3E94C9;\n",
    "    border-color: #d6e9c6; padding: 15px;\n",
    "    margin-bottom: 18px;\n",
    "    border: 1px solid transparent;\n",
    "    border-radius: 2px;'>\n",
    "<h2> Ответ исполнителя <a class=\"tocSkip\"> </h2>\n",
    "\n",
    "А мы же не знаем длительность интернет-сессий? У нас есть mb_used — объём потраченного за сессию интернет-трафика (в мегабайтах) и session_date — дата интернет-сессии . Я посмотрел и boxplot, и hist - ничего аномального не увидел. Вполне очевидные значения, не превышающие и 1гб за сессиию. \n",
    "</div>"
   ]
  },
  {
   "cell_type": "markdown",
   "metadata": {},
   "source": [
    "#### Переименование id в таблицах о звонках, интернет трафике и сообщениях"
   ]
  },
  {
   "cell_type": "code",
   "execution_count": 46,
   "metadata": {},
   "outputs": [],
   "source": [
    "calls = calls.rename(columns={'id': 'id_calls'})\n",
    "internet = internet.rename(columns={'id': 'id_internet'})\n",
    "messages = messages.rename(columns={'id': 'id_messages'})"
   ]
  },
  {
   "cell_type": "markdown",
   "metadata": {},
   "source": [
    "### Подсчет для каждого пользователя количества сделанных звонков и израсходованных минут разговора по месяцам"
   ]
  },
  {
   "cell_type": "code",
   "execution_count": 47,
   "metadata": {},
   "outputs": [
    {
     "name": "stdout",
     "output_type": "stream",
     "text": [
      "<class 'pandas.core.frame.DataFrame'>\n",
      "Int64Index: 195131 entries, 0 to 202606\n",
      "Data columns (total 7 columns):\n",
      "id_calls     195131 non-null object\n",
      "call_date    195131 non-null datetime64[ns]\n",
      "duration     195131 non-null int64\n",
      "user_id      195131 non-null int64\n",
      "day          195131 non-null int64\n",
      "month        195131 non-null int64\n",
      "year         195131 non-null int64\n",
      "dtypes: datetime64[ns](1), int64(5), object(1)\n",
      "memory usage: 11.9+ MB\n"
     ]
    }
   ],
   "source": [
    "calls['day'] = calls['call_date'].dt.weekday\n",
    "calls['month'] = calls['call_date'].dt.month\n",
    "calls['year'] = calls['call_date'].dt.year\n",
    "calls.info()"
   ]
  },
  {
   "cell_type": "code",
   "execution_count": 48,
   "metadata": {},
   "outputs": [],
   "source": [
    "#values_calls = calls.pivot_table(index = ['user_id','month'], values = 'id_calls', aggfunc = 'count')\n",
    "#values_calls.columns = ['all_calls']\n",
    "#values_calls.head(10)"
   ]
  },
  {
   "cell_type": "code",
   "execution_count": 49,
   "metadata": {},
   "outputs": [
    {
     "data": {
      "text/html": [
       "<div>\n",
       "<style scoped>\n",
       "    .dataframe tbody tr th:only-of-type {\n",
       "        vertical-align: middle;\n",
       "    }\n",
       "\n",
       "    .dataframe tbody tr th {\n",
       "        vertical-align: top;\n",
       "    }\n",
       "\n",
       "    .dataframe thead th {\n",
       "        text-align: right;\n",
       "    }\n",
       "</style>\n",
       "<table border=\"1\" class=\"dataframe\">\n",
       "  <thead>\n",
       "    <tr style=\"text-align: right;\">\n",
       "      <th></th>\n",
       "      <th></th>\n",
       "      <th>duration</th>\n",
       "    </tr>\n",
       "    <tr>\n",
       "      <th>user_id</th>\n",
       "      <th>month</th>\n",
       "      <th></th>\n",
       "    </tr>\n",
       "  </thead>\n",
       "  <tbody>\n",
       "    <tr>\n",
       "      <td rowspan=\"8\" valign=\"top\">1000</td>\n",
       "      <td>5</td>\n",
       "      <td>159</td>\n",
       "    </tr>\n",
       "    <tr>\n",
       "      <td>6</td>\n",
       "      <td>172</td>\n",
       "    </tr>\n",
       "    <tr>\n",
       "      <td>7</td>\n",
       "      <td>340</td>\n",
       "    </tr>\n",
       "    <tr>\n",
       "      <td>8</td>\n",
       "      <td>408</td>\n",
       "    </tr>\n",
       "    <tr>\n",
       "      <td>9</td>\n",
       "      <td>466</td>\n",
       "    </tr>\n",
       "    <tr>\n",
       "      <td>10</td>\n",
       "      <td>350</td>\n",
       "    </tr>\n",
       "    <tr>\n",
       "      <td>11</td>\n",
       "      <td>338</td>\n",
       "    </tr>\n",
       "    <tr>\n",
       "      <td>12</td>\n",
       "      <td>333</td>\n",
       "    </tr>\n",
       "    <tr>\n",
       "      <td rowspan=\"2\" valign=\"top\">1001</td>\n",
       "      <td>11</td>\n",
       "      <td>430</td>\n",
       "    </tr>\n",
       "    <tr>\n",
       "      <td>12</td>\n",
       "      <td>414</td>\n",
       "    </tr>\n",
       "  </tbody>\n",
       "</table>\n",
       "</div>"
      ],
      "text/plain": [
       "               duration\n",
       "user_id month          \n",
       "1000    5           159\n",
       "        6           172\n",
       "        7           340\n",
       "        8           408\n",
       "        9           466\n",
       "        10          350\n",
       "        11          338\n",
       "        12          333\n",
       "1001    11          430\n",
       "        12          414"
      ]
     },
     "execution_count": 49,
     "metadata": {},
     "output_type": "execute_result"
    }
   ],
   "source": [
    "duration_calls = calls.pivot_table(index = ['user_id','month'], values = 'duration', aggfunc = 'sum')\n",
    "duration_calls.head(10)"
   ]
  },
  {
   "cell_type": "markdown",
   "metadata": {},
   "source": [
    "### Подсчет для каждого пользователя количества отправленных сообщений по месяцам"
   ]
  },
  {
   "cell_type": "code",
   "execution_count": 50,
   "metadata": {},
   "outputs": [
    {
     "name": "stdout",
     "output_type": "stream",
     "text": [
      "<class 'pandas.core.frame.DataFrame'>\n",
      "RangeIndex: 123036 entries, 0 to 123035\n",
      "Data columns (total 6 columns):\n",
      "id_messages     123036 non-null object\n",
      "message_date    123036 non-null datetime64[ns]\n",
      "user_id         123036 non-null int64\n",
      "day             123036 non-null int64\n",
      "month           123036 non-null int64\n",
      "year            123036 non-null int64\n",
      "dtypes: datetime64[ns](1), int64(4), object(1)\n",
      "memory usage: 5.6+ MB\n"
     ]
    }
   ],
   "source": [
    "messages['day'] = messages['message_date'].dt.weekday\n",
    "messages['month'] = messages['message_date'].dt.month\n",
    "messages['year'] = messages['message_date'].dt.year\n",
    "messages.info()"
   ]
  },
  {
   "cell_type": "code",
   "execution_count": 51,
   "metadata": {},
   "outputs": [
    {
     "data": {
      "text/html": [
       "<div>\n",
       "<style scoped>\n",
       "    .dataframe tbody tr th:only-of-type {\n",
       "        vertical-align: middle;\n",
       "    }\n",
       "\n",
       "    .dataframe tbody tr th {\n",
       "        vertical-align: top;\n",
       "    }\n",
       "\n",
       "    .dataframe thead th {\n",
       "        text-align: right;\n",
       "    }\n",
       "</style>\n",
       "<table border=\"1\" class=\"dataframe\">\n",
       "  <thead>\n",
       "    <tr style=\"text-align: right;\">\n",
       "      <th></th>\n",
       "      <th></th>\n",
       "      <th>all_messages</th>\n",
       "    </tr>\n",
       "    <tr>\n",
       "      <th>user_id</th>\n",
       "      <th>month</th>\n",
       "      <th></th>\n",
       "    </tr>\n",
       "  </thead>\n",
       "  <tbody>\n",
       "    <tr>\n",
       "      <td rowspan=\"8\" valign=\"top\">1000</td>\n",
       "      <td>5</td>\n",
       "      <td>22</td>\n",
       "    </tr>\n",
       "    <tr>\n",
       "      <td>6</td>\n",
       "      <td>60</td>\n",
       "    </tr>\n",
       "    <tr>\n",
       "      <td>7</td>\n",
       "      <td>75</td>\n",
       "    </tr>\n",
       "    <tr>\n",
       "      <td>8</td>\n",
       "      <td>81</td>\n",
       "    </tr>\n",
       "    <tr>\n",
       "      <td>9</td>\n",
       "      <td>57</td>\n",
       "    </tr>\n",
       "    <tr>\n",
       "      <td>10</td>\n",
       "      <td>73</td>\n",
       "    </tr>\n",
       "    <tr>\n",
       "      <td>11</td>\n",
       "      <td>58</td>\n",
       "    </tr>\n",
       "    <tr>\n",
       "      <td>12</td>\n",
       "      <td>70</td>\n",
       "    </tr>\n",
       "    <tr>\n",
       "      <td rowspan=\"2\" valign=\"top\">1002</td>\n",
       "      <td>6</td>\n",
       "      <td>4</td>\n",
       "    </tr>\n",
       "    <tr>\n",
       "      <td>7</td>\n",
       "      <td>11</td>\n",
       "    </tr>\n",
       "  </tbody>\n",
       "</table>\n",
       "</div>"
      ],
      "text/plain": [
       "               all_messages\n",
       "user_id month              \n",
       "1000    5                22\n",
       "        6                60\n",
       "        7                75\n",
       "        8                81\n",
       "        9                57\n",
       "        10               73\n",
       "        11               58\n",
       "        12               70\n",
       "1002    6                 4\n",
       "        7                11"
      ]
     },
     "execution_count": 51,
     "metadata": {},
     "output_type": "execute_result"
    }
   ],
   "source": [
    "values_message = messages.pivot_table(index = ['user_id','month'], values = 'id_messages', aggfunc = 'count')\n",
    "values_message.columns = ['all_messages']\n",
    "values_message.head(10)"
   ]
  },
  {
   "cell_type": "markdown",
   "metadata": {},
   "source": [
    "### Подсчет для каждого пользователя объема израсходованного интернет-трафика по месяцам"
   ]
  },
  {
   "cell_type": "code",
   "execution_count": 52,
   "metadata": {},
   "outputs": [
    {
     "name": "stdout",
     "output_type": "stream",
     "text": [
      "<class 'pandas.core.frame.DataFrame'>\n",
      "Int64Index: 129798 entries, 0 to 149395\n",
      "Data columns (total 7 columns):\n",
      "id_internet     129798 non-null object\n",
      "mb_used         129798 non-null int64\n",
      "session_date    129798 non-null datetime64[ns]\n",
      "user_id         129798 non-null int64\n",
      "day             129798 non-null int64\n",
      "month           129798 non-null int64\n",
      "year            129798 non-null int64\n",
      "dtypes: datetime64[ns](1), int64(5), object(1)\n",
      "memory usage: 7.9+ MB\n"
     ]
    }
   ],
   "source": [
    "internet['day'] = internet['session_date'].dt.weekday\n",
    "internet['month'] = internet['session_date'].dt.month\n",
    "internet['year'] = internet['session_date'].dt.year\n",
    "internet.info()"
   ]
  },
  {
   "cell_type": "code",
   "execution_count": 53,
   "metadata": {},
   "outputs": [],
   "source": [
    "#mb_or_gb = internet.pivot_table(index = ['user_id','month'], values = ['mb_used', 'gb_used'], aggfunc = 'sum')\n",
    "#mb_or_gb['real_gb'] = (mb_or_gb['mb_used'] / 1024).astype(int)\n",
    "#mb_or_gb.head(10)\n",
    "#Разница почти в два раза!!"
   ]
  },
  {
   "cell_type": "code",
   "execution_count": 54,
   "metadata": {},
   "outputs": [
    {
     "data": {
      "text/html": [
       "<div>\n",
       "<style scoped>\n",
       "    .dataframe tbody tr th:only-of-type {\n",
       "        vertical-align: middle;\n",
       "    }\n",
       "\n",
       "    .dataframe tbody tr th {\n",
       "        vertical-align: top;\n",
       "    }\n",
       "\n",
       "    .dataframe thead th {\n",
       "        text-align: right;\n",
       "    }\n",
       "</style>\n",
       "<table border=\"1\" class=\"dataframe\">\n",
       "  <thead>\n",
       "    <tr style=\"text-align: right;\">\n",
       "      <th></th>\n",
       "      <th></th>\n",
       "      <th>all_traffic</th>\n",
       "    </tr>\n",
       "    <tr>\n",
       "      <th>user_id</th>\n",
       "      <th>month</th>\n",
       "      <th></th>\n",
       "    </tr>\n",
       "  </thead>\n",
       "  <tbody>\n",
       "    <tr>\n",
       "      <td rowspan=\"8\" valign=\"top\">1000</td>\n",
       "      <td>5</td>\n",
       "      <td>2256</td>\n",
       "    </tr>\n",
       "    <tr>\n",
       "      <td>6</td>\n",
       "      <td>23257</td>\n",
       "    </tr>\n",
       "    <tr>\n",
       "      <td>7</td>\n",
       "      <td>14016</td>\n",
       "    </tr>\n",
       "    <tr>\n",
       "      <td>8</td>\n",
       "      <td>14070</td>\n",
       "    </tr>\n",
       "    <tr>\n",
       "      <td>9</td>\n",
       "      <td>14581</td>\n",
       "    </tr>\n",
       "    <tr>\n",
       "      <td>10</td>\n",
       "      <td>14717</td>\n",
       "    </tr>\n",
       "    <tr>\n",
       "      <td>11</td>\n",
       "      <td>14768</td>\n",
       "    </tr>\n",
       "    <tr>\n",
       "      <td>12</td>\n",
       "      <td>9827</td>\n",
       "    </tr>\n",
       "    <tr>\n",
       "      <td rowspan=\"2\" valign=\"top\">1001</td>\n",
       "      <td>11</td>\n",
       "      <td>18452</td>\n",
       "    </tr>\n",
       "    <tr>\n",
       "      <td>12</td>\n",
       "      <td>14053</td>\n",
       "    </tr>\n",
       "  </tbody>\n",
       "</table>\n",
       "</div>"
      ],
      "text/plain": [
       "               all_traffic\n",
       "user_id month             \n",
       "1000    5             2256\n",
       "        6            23257\n",
       "        7            14016\n",
       "        8            14070\n",
       "        9            14581\n",
       "        10           14717\n",
       "        11           14768\n",
       "        12            9827\n",
       "1001    11           18452\n",
       "        12           14053"
      ]
     },
     "execution_count": 54,
     "metadata": {},
     "output_type": "execute_result"
    }
   ],
   "source": [
    "values_internet = internet.pivot_table(index = ['user_id','month'], values = 'mb_used', aggfunc = 'sum')\n",
    "values_internet.columns = ['all_traffic']\n",
    "values_internet.head(10)"
   ]
  },
  {
   "cell_type": "markdown",
   "metadata": {},
   "source": [
    "<div class=\"alert alert-danger\">\n",
    "<b>Комментарии ревьюера:</b> <s> Если ты решил работать с гигабайтами, то имеет смысл переименовать столбец. На всякий случай проверь, что ты округлил мегабайты вверх, перевел в гигабайты, округлил гигабайты. </s> Все супер :)\n",
    "</div>"
   ]
  },
  {
   "cell_type": "markdown",
   "metadata": {},
   "source": [
    "<div     style = 'color: #FFFFFF;\n",
    "    background-color: #3E94C9;\n",
    "    border-color: #d6e9c6; padding: 15px;\n",
    "    margin-bottom: 18px;\n",
    "    border: 1px solid transparent;\n",
    "    border-radius: 2px;'>\n",
    "<h2> Ответ исполнителя <a class=\"tocSkip\"> </h2>\n",
    "\n",
    "да, переименовал :)\n",
    "</div>"
   ]
  },
  {
   "cell_type": "markdown",
   "metadata": {},
   "source": [
    "### Сделаем единую таблицу по всем подсчитанным параметрам"
   ]
  },
  {
   "cell_type": "code",
   "execution_count": 55,
   "metadata": {},
   "outputs": [
    {
     "name": "stdout",
     "output_type": "stream",
     "text": [
      "<class 'pandas.core.frame.DataFrame'>\n",
      "MultiIndex: 3214 entries, (1000, 5) to (1499, 12)\n",
      "Data columns (total 3 columns):\n",
      "duration        3122 non-null float64\n",
      "all_messages    2717 non-null float64\n",
      "all_traffic     3201 non-null float64\n",
      "dtypes: float64(3)\n",
      "memory usage: 88.8 KB\n"
     ]
    },
    {
     "data": {
      "text/html": [
       "<div>\n",
       "<style scoped>\n",
       "    .dataframe tbody tr th:only-of-type {\n",
       "        vertical-align: middle;\n",
       "    }\n",
       "\n",
       "    .dataframe tbody tr th {\n",
       "        vertical-align: top;\n",
       "    }\n",
       "\n",
       "    .dataframe thead th {\n",
       "        text-align: right;\n",
       "    }\n",
       "</style>\n",
       "<table border=\"1\" class=\"dataframe\">\n",
       "  <thead>\n",
       "    <tr style=\"text-align: right;\">\n",
       "      <th></th>\n",
       "      <th></th>\n",
       "      <th>duration</th>\n",
       "      <th>all_messages</th>\n",
       "      <th>all_traffic</th>\n",
       "    </tr>\n",
       "    <tr>\n",
       "      <th>user_id</th>\n",
       "      <th>month</th>\n",
       "      <th></th>\n",
       "      <th></th>\n",
       "      <th></th>\n",
       "    </tr>\n",
       "  </thead>\n",
       "  <tbody>\n",
       "    <tr>\n",
       "      <td rowspan=\"5\" valign=\"top\">1000</td>\n",
       "      <td>5</td>\n",
       "      <td>159.0</td>\n",
       "      <td>22.0</td>\n",
       "      <td>2256.0</td>\n",
       "    </tr>\n",
       "    <tr>\n",
       "      <td>6</td>\n",
       "      <td>172.0</td>\n",
       "      <td>60.0</td>\n",
       "      <td>23257.0</td>\n",
       "    </tr>\n",
       "    <tr>\n",
       "      <td>7</td>\n",
       "      <td>340.0</td>\n",
       "      <td>75.0</td>\n",
       "      <td>14016.0</td>\n",
       "    </tr>\n",
       "    <tr>\n",
       "      <td>8</td>\n",
       "      <td>408.0</td>\n",
       "      <td>81.0</td>\n",
       "      <td>14070.0</td>\n",
       "    </tr>\n",
       "    <tr>\n",
       "      <td>9</td>\n",
       "      <td>466.0</td>\n",
       "      <td>57.0</td>\n",
       "      <td>14581.0</td>\n",
       "    </tr>\n",
       "  </tbody>\n",
       "</table>\n",
       "</div>"
      ],
      "text/plain": [
       "               duration  all_messages  all_traffic\n",
       "user_id month                                     \n",
       "1000    5         159.0          22.0       2256.0\n",
       "        6         172.0          60.0      23257.0\n",
       "        7         340.0          75.0      14016.0\n",
       "        8         408.0          81.0      14070.0\n",
       "        9         466.0          57.0      14581.0"
      ]
     },
     "execution_count": 55,
     "metadata": {},
     "output_type": "execute_result"
    }
   ],
   "source": [
    "data = duration_calls.join([values_message,values_internet], how = 'outer')\n",
    "data.info()\n",
    "data.head()"
   ]
  },
  {
   "cell_type": "markdown",
   "metadata": {},
   "source": [
    "<div class=\"alert alert-warning\">\n",
    "<b>Комментарии ревьюера:</b> <s>Давай подумаем, как мы можем проверить правильность объединения таблиц ? </s>\n",
    "    \n",
    "Да, теперь все верно. На самом деле проверить себя можно, если посчитаем количество уникальных пользователей в таблице. Их должно быть 498. Всего у нас 500 клиентов, но двое из них перестали пользоваться услугами меньше чем за месяц после подключения, поэтому в объединенную таблицу не попали. \n",
    "</div>"
   ]
  },
  {
   "cell_type": "code",
   "execution_count": 56,
   "metadata": {},
   "outputs": [
    {
     "data": {
      "text/plain": [
       "498"
      ]
     },
     "execution_count": 56,
     "metadata": {},
     "output_type": "execute_result"
    }
   ],
   "source": [
    "user_len = data.reset_index().groupby('user_id').agg(lambda x: x.nunique())\n",
    "len(user_len)"
   ]
  },
  {
   "cell_type": "markdown",
   "metadata": {},
   "source": [
    "<div     style = 'color: #FFFFFF;\n",
    "    background-color: #3E94C9;\n",
    "    border-color: #d6e9c6; padding: 15px;\n",
    "    margin-bottom: 18px;\n",
    "    border: 1px solid transparent;\n",
    "    border-radius: 2px;'>\n",
    "<h2> Ответ исполнителя <a class=\"tocSkip\"> </h2>\n",
    "\n",
    "Я сам себя запутал. Вообще не те таблицы объединил. Взял таблицу с значеними \"количество звонков\", а мне нужно было \"Длительность звоноков\". \n",
    "</div>"
   ]
  },
  {
   "cell_type": "code",
   "execution_count": 57,
   "metadata": {},
   "outputs": [
    {
     "data": {
      "text/html": [
       "<div>\n",
       "<style scoped>\n",
       "    .dataframe tbody tr th:only-of-type {\n",
       "        vertical-align: middle;\n",
       "    }\n",
       "\n",
       "    .dataframe tbody tr th {\n",
       "        vertical-align: top;\n",
       "    }\n",
       "\n",
       "    .dataframe thead th {\n",
       "        text-align: right;\n",
       "    }\n",
       "</style>\n",
       "<table border=\"1\" class=\"dataframe\">\n",
       "  <thead>\n",
       "    <tr style=\"text-align: right;\">\n",
       "      <th></th>\n",
       "      <th>age</th>\n",
       "      <th>churn_date</th>\n",
       "      <th>city</th>\n",
       "      <th>first_name</th>\n",
       "      <th>last_name</th>\n",
       "      <th>reg_date</th>\n",
       "      <th>tariff</th>\n",
       "    </tr>\n",
       "    <tr>\n",
       "      <th>user_id</th>\n",
       "      <th></th>\n",
       "      <th></th>\n",
       "      <th></th>\n",
       "      <th></th>\n",
       "      <th></th>\n",
       "      <th></th>\n",
       "      <th></th>\n",
       "    </tr>\n",
       "  </thead>\n",
       "  <tbody>\n",
       "    <tr>\n",
       "      <td>1000</td>\n",
       "      <td>52</td>\n",
       "      <td>NaT</td>\n",
       "      <td>Краснодар</td>\n",
       "      <td>Рафаил</td>\n",
       "      <td>Верещагин</td>\n",
       "      <td>2018-05-25</td>\n",
       "      <td>ultra</td>\n",
       "    </tr>\n",
       "    <tr>\n",
       "      <td>1001</td>\n",
       "      <td>41</td>\n",
       "      <td>NaT</td>\n",
       "      <td>Москва</td>\n",
       "      <td>Иван</td>\n",
       "      <td>Ежов</td>\n",
       "      <td>2018-11-01</td>\n",
       "      <td>smart</td>\n",
       "    </tr>\n",
       "    <tr>\n",
       "      <td>1002</td>\n",
       "      <td>59</td>\n",
       "      <td>NaT</td>\n",
       "      <td>Стерлитамак</td>\n",
       "      <td>Евгений</td>\n",
       "      <td>Абрамович</td>\n",
       "      <td>2018-06-17</td>\n",
       "      <td>smart</td>\n",
       "    </tr>\n",
       "    <tr>\n",
       "      <td>1003</td>\n",
       "      <td>23</td>\n",
       "      <td>NaT</td>\n",
       "      <td>Москва</td>\n",
       "      <td>Белла</td>\n",
       "      <td>Белякова</td>\n",
       "      <td>2018-08-17</td>\n",
       "      <td>ultra</td>\n",
       "    </tr>\n",
       "    <tr>\n",
       "      <td>1004</td>\n",
       "      <td>68</td>\n",
       "      <td>NaT</td>\n",
       "      <td>Новокузнецк</td>\n",
       "      <td>Татьяна</td>\n",
       "      <td>Авдеенко</td>\n",
       "      <td>2018-05-14</td>\n",
       "      <td>ultra</td>\n",
       "    </tr>\n",
       "  </tbody>\n",
       "</table>\n",
       "</div>"
      ],
      "text/plain": [
       "         age churn_date         city first_name  last_name   reg_date tariff\n",
       "user_id                                                                     \n",
       "1000      52        NaT    Краснодар     Рафаил  Верещагин 2018-05-25  ultra\n",
       "1001      41        NaT       Москва       Иван       Ежов 2018-11-01  smart\n",
       "1002      59        NaT  Стерлитамак    Евгений  Абрамович 2018-06-17  smart\n",
       "1003      23        NaT       Москва      Белла   Белякова 2018-08-17  ultra\n",
       "1004      68        NaT  Новокузнецк    Татьяна   Авдеенко 2018-05-14  ultra"
      ]
     },
     "execution_count": 57,
     "metadata": {},
     "output_type": "execute_result"
    }
   ],
   "source": [
    "users_tariff = users.set_index('user_id')\n",
    "users_tariff.head()"
   ]
  },
  {
   "cell_type": "code",
   "execution_count": 58,
   "metadata": {},
   "outputs": [],
   "source": [
    "data = data.join(users_tariff['tariff'])\n"
   ]
  },
  {
   "cell_type": "code",
   "execution_count": 59,
   "metadata": {},
   "outputs": [
    {
     "name": "stdout",
     "output_type": "stream",
     "text": [
      "<class 'pandas.core.frame.DataFrame'>\n",
      "MultiIndex: 3214 entries, (1000, 5) to (1499, 12)\n",
      "Data columns (total 4 columns):\n",
      "duration        3122 non-null float64\n",
      "all_messages    2717 non-null float64\n",
      "all_traffic     3201 non-null float64\n",
      "tariff          3214 non-null object\n",
      "dtypes: float64(3), object(1)\n",
      "memory usage: 133.9+ KB\n"
     ]
    },
    {
     "data": {
      "text/html": [
       "<div>\n",
       "<style scoped>\n",
       "    .dataframe tbody tr th:only-of-type {\n",
       "        vertical-align: middle;\n",
       "    }\n",
       "\n",
       "    .dataframe tbody tr th {\n",
       "        vertical-align: top;\n",
       "    }\n",
       "\n",
       "    .dataframe thead th {\n",
       "        text-align: right;\n",
       "    }\n",
       "</style>\n",
       "<table border=\"1\" class=\"dataframe\">\n",
       "  <thead>\n",
       "    <tr style=\"text-align: right;\">\n",
       "      <th></th>\n",
       "      <th></th>\n",
       "      <th>duration</th>\n",
       "      <th>all_messages</th>\n",
       "      <th>all_traffic</th>\n",
       "      <th>tariff</th>\n",
       "    </tr>\n",
       "    <tr>\n",
       "      <th>user_id</th>\n",
       "      <th>month</th>\n",
       "      <th></th>\n",
       "      <th></th>\n",
       "      <th></th>\n",
       "      <th></th>\n",
       "    </tr>\n",
       "  </thead>\n",
       "  <tbody>\n",
       "    <tr>\n",
       "      <td rowspan=\"5\" valign=\"top\">1000</td>\n",
       "      <td>5</td>\n",
       "      <td>159.0</td>\n",
       "      <td>22.0</td>\n",
       "      <td>2256.0</td>\n",
       "      <td>ultra</td>\n",
       "    </tr>\n",
       "    <tr>\n",
       "      <td>6</td>\n",
       "      <td>172.0</td>\n",
       "      <td>60.0</td>\n",
       "      <td>23257.0</td>\n",
       "      <td>ultra</td>\n",
       "    </tr>\n",
       "    <tr>\n",
       "      <td>7</td>\n",
       "      <td>340.0</td>\n",
       "      <td>75.0</td>\n",
       "      <td>14016.0</td>\n",
       "      <td>ultra</td>\n",
       "    </tr>\n",
       "    <tr>\n",
       "      <td>8</td>\n",
       "      <td>408.0</td>\n",
       "      <td>81.0</td>\n",
       "      <td>14070.0</td>\n",
       "      <td>ultra</td>\n",
       "    </tr>\n",
       "    <tr>\n",
       "      <td>9</td>\n",
       "      <td>466.0</td>\n",
       "      <td>57.0</td>\n",
       "      <td>14581.0</td>\n",
       "      <td>ultra</td>\n",
       "    </tr>\n",
       "  </tbody>\n",
       "</table>\n",
       "</div>"
      ],
      "text/plain": [
       "               duration  all_messages  all_traffic tariff\n",
       "user_id month                                            \n",
       "1000    5         159.0          22.0       2256.0  ultra\n",
       "        6         172.0          60.0      23257.0  ultra\n",
       "        7         340.0          75.0      14016.0  ultra\n",
       "        8         408.0          81.0      14070.0  ultra\n",
       "        9         466.0          57.0      14581.0  ultra"
      ]
     },
     "execution_count": 59,
     "metadata": {},
     "output_type": "execute_result"
    }
   ],
   "source": [
    "data.info()\n",
    "data.head()"
   ]
  },
  {
   "cell_type": "code",
   "execution_count": 60,
   "metadata": {},
   "outputs": [
    {
     "name": "stdout",
     "output_type": "stream",
     "text": [
      "<class 'pandas.core.frame.DataFrame'>\n",
      "MultiIndex: 3214 entries, (1000, 5) to (1499, 12)\n",
      "Data columns (total 4 columns):\n",
      "duration        3214 non-null float64\n",
      "all_messages    3214 non-null float64\n",
      "all_traffic     3214 non-null float64\n",
      "tariff          3214 non-null object\n",
      "dtypes: float64(3), object(1)\n",
      "memory usage: 133.9+ KB\n"
     ]
    }
   ],
   "source": [
    "data = data.fillna(value = 0)\n",
    "data.info()"
   ]
  },
  {
   "cell_type": "markdown",
   "metadata": {},
   "source": [
    "<div class=\"alert alert-danger\">\n",
    "<b>Комментарии ревьюера:</b> <s>Выше ты верно говорил, что у нас не все клиенты пользуются каждой услугой связи. Кто-то не пишет смс, кто-то не заходит в интернет. Поэтому в объединенной таблице у нас пропуски. Эти пропуски важно заполнить нулями, так как это в дальнейшем повлияет на расчеты. </s> Сделано.\n",
    "</div>"
   ]
  },
  {
   "cell_type": "markdown",
   "metadata": {},
   "source": [
    "<div class=\"alert alert-danger\">\n",
    "<b>Комментарии ревьюера:</b> <s>В расчетах ниже некорректные цифры, из-за ошибок, которые были допущены выше. Исправь все замечания и скорее отправляй работу на повторное ревью. Если будут вопросы, обязательно пиши :) </s>\n",
    "</div>"
   ]
  },
  {
   "cell_type": "markdown",
   "metadata": {},
   "source": [
    "<div     style = 'color: #FFFFFF;\n",
    "    background-color: #3E94C9;\n",
    "    border-color: #d6e9c6; padding: 15px;\n",
    "    margin-bottom: 18px;\n",
    "    border: 1px solid transparent;\n",
    "    border-radius: 2px;'>\n",
    "<h2> Ответ исполнителя <a class=\"tocSkip\"> </h2>\n",
    "\n",
    "Вроде как всё скорректировал и исправил значения дальше.\n",
    "</div>"
   ]
  },
  {
   "cell_type": "markdown",
   "metadata": {},
   "source": [
    "### Подсчет для каждого пользователя помесячной выручки"
   ]
  },
  {
   "cell_type": "markdown",
   "metadata": {},
   "source": [
    "1) Вычтем бесплатный лимит из суммарного количества звонков, сообщений и интернет-трафика.\n",
    "<br>2) Остаток умножим на значение из тарифного плана\n",
    "<br>3) Прибавим абонентскую плату, соответствующую тарифному плану."
   ]
  },
  {
   "cell_type": "markdown",
   "metadata": {},
   "source": [
    "**Описание тарифов**\n",
    "<br><br>\n",
    "**Тариф «Смарт»**\n",
    "<br>Ежемесячная плата: 550 рублей\n",
    "<br>Включено 500 минут разговора, 50 сообщений и 15 Гб интернет-трафика\n",
    "<br>Стоимость услуг сверх тарифного пакета:\n",
    "<br>минута разговора: 3 рубля\n",
    "<br>сообщение: 3 рубля\n",
    "<br>1 Гб интернет-трафика: 200 рублей\n",
    "<br><br>**Тариф «Ультра»**\n",
    "<br>Ежемесячная плата: 1950 рублей\n",
    "<br>Включено 3000 минут разговора, 1000 сообщений и 30 Гб интернет-трафика\n",
    "<br>Стоимость услуг сверх тарифного пакета:\n",
    "<br>минута разговора: 1 рубль\n",
    "<br>сообщение: 1 рубль\n",
    "<br>1 Гб интернет-трафика: 150 рублей"
   ]
  },
  {
   "cell_type": "code",
   "execution_count": 61,
   "metadata": {},
   "outputs": [],
   "source": [
    "def sum_profit(elem):\n",
    "    profit = 0\n",
    "    duration_debtor = 0\n",
    "    messages_debtor = 0\n",
    "    internet_debtor = 0\n",
    "    \n",
    "    if elem['tariff'] == \"smart\":\n",
    "        if (elem['duration'] - 500) > 0:\n",
    "            duration_debtor = (elem['duration'] - 500) * 3\n",
    "        if (elem['all_messages'] - 50) > 0:\n",
    "            messages_debtor = (elem['all_messages'] - 50) * 3\n",
    "        if (elem['all_traffic'] - 15360) > 0:\n",
    "            internet_debtor = ((elem['all_traffic'] - 15360) / 1024) * 200\n",
    "        profit = duration_debtor + messages_debtor + internet_debtor + 550\n",
    "        return profit\n",
    "    \n",
    "    if elem['tariff'] == \"ultra\":\n",
    "        if (elem['duration'] - 3000) > 0:\n",
    "            duration_debtor = (elem['duration'] - 3000) * 1\n",
    "        if (elem['all_messages'] - 1000) > 0:\n",
    "            messages_debtor = (elem['all_messages'] - 1000) * 1\n",
    "        if (elem['all_traffic'] - 30720) > 0:\n",
    "            internet_debtor = ((elem['all_traffic'] - 30720) / 1024) * 150\n",
    "        profit = duration_debtor + messages_debtor + internet_debtor + 1950\n",
    "        return profit\n",
    "    \n",
    "    \n",
    "    \n",
    "    \n",
    "data['profit'] = data.apply(sum_profit, axis = 1)"
   ]
  },
  {
   "cell_type": "markdown",
   "metadata": {},
   "source": [
    "<div class=\"alert alert-warning\">\n",
    "<b>Комментарии ревьюера V2:</b> Логика функции верная, но лучше не работать с константными значениями, а подтягивать тарифы напрямую из таблицы. При смене тарифов код переписывать не придется.\n",
    "</div>"
   ]
  },
  {
   "cell_type": "markdown",
   "metadata": {},
   "source": [
    "<div class=\"alert alert-success\">\n",
    "<b>Комментарии ревьюера V3:</b> Здесь ты переводишь мегабайты в гигабайты, все верно. На будущее, лучше не работать с контантами. Чтобы значения тарифов подгружались автоматически из таблиц, можно написать функцию, например, так:\n",
    "\n",
    "    def monthly_revenue(row):\n",
    "    \n",
    "    money = 0\n",
    "    \n",
    "    tariff = row['tariff']\n",
    "    calls_sum = row['calls_sum']\n",
    "    messages_count = row['messages_count']\n",
    "    mb_sum_internet = row['mb_sum_internet']\n",
    "    \n",
    "   \n",
    "    difference_calls = calls_sum - int(df_tariffs[df_tariffs['tariff_name'] == tariff]['minutes_included'])\n",
    "    difference_messages = ...\n",
    "    difference_internet = ...\n",
    "    \n",
    "    # Если пользователь вышел за пределы лимитов, обозначенных в абонентской плате, то рассчитывается дополнительная оплата\n",
    "    if (difference_calls > 0):\n",
    "        money += difference_calls * int(df_tariffs[df_tariffs['tariff_name'] == tariff]['rub_per_minute'])\n",
    "    if difference_messages > 0:\n",
    "        money += difference_messages * int(df_tariffs[df_tariffs['tariff_name'] == tariff]['rub_per_message'])\n",
    "    if difference_internet > 0:\n",
    "        money += ...\n",
    "    \n",
    "    # Добавление ежемесячной абонентской платы\n",
    "    money += int(df_tariffs[df_tariffs['tariff_name'] == tariff]['rub_monthly_fee'])\n",
    "    \n",
    "    return money\n",
    "\n",
    "</div>"
   ]
  },
  {
   "cell_type": "code",
   "execution_count": 62,
   "metadata": {},
   "outputs": [
    {
     "data": {
      "text/html": [
       "<div>\n",
       "<style scoped>\n",
       "    .dataframe tbody tr th:only-of-type {\n",
       "        vertical-align: middle;\n",
       "    }\n",
       "\n",
       "    .dataframe tbody tr th {\n",
       "        vertical-align: top;\n",
       "    }\n",
       "\n",
       "    .dataframe thead th {\n",
       "        text-align: right;\n",
       "    }\n",
       "</style>\n",
       "<table border=\"1\" class=\"dataframe\">\n",
       "  <thead>\n",
       "    <tr style=\"text-align: right;\">\n",
       "      <th></th>\n",
       "      <th></th>\n",
       "      <th>duration</th>\n",
       "      <th>all_messages</th>\n",
       "      <th>all_traffic</th>\n",
       "      <th>tariff</th>\n",
       "      <th>profit</th>\n",
       "    </tr>\n",
       "    <tr>\n",
       "      <th>user_id</th>\n",
       "      <th>month</th>\n",
       "      <th></th>\n",
       "      <th></th>\n",
       "      <th></th>\n",
       "      <th></th>\n",
       "      <th></th>\n",
       "    </tr>\n",
       "  </thead>\n",
       "  <tbody>\n",
       "    <tr>\n",
       "      <td>1486</td>\n",
       "      <td>12</td>\n",
       "      <td>1007.0</td>\n",
       "      <td>83.0</td>\n",
       "      <td>38610.0</td>\n",
       "      <td>smart</td>\n",
       "      <td>6711.015625</td>\n",
       "    </tr>\n",
       "    <tr>\n",
       "      <td>1261</td>\n",
       "      <td>12</td>\n",
       "      <td>1074.0</td>\n",
       "      <td>22.0</td>\n",
       "      <td>32697.0</td>\n",
       "      <td>smart</td>\n",
       "      <td>5658.132812</td>\n",
       "    </tr>\n",
       "    <tr>\n",
       "      <td>1042</td>\n",
       "      <td>12</td>\n",
       "      <td>728.0</td>\n",
       "      <td>75.0</td>\n",
       "      <td>37219.0</td>\n",
       "      <td>smart</td>\n",
       "      <td>5578.335938</td>\n",
       "    </tr>\n",
       "    <tr>\n",
       "      <td>1486</td>\n",
       "      <td>11</td>\n",
       "      <td>764.0</td>\n",
       "      <td>96.0</td>\n",
       "      <td>36319.0</td>\n",
       "      <td>smart</td>\n",
       "      <td>5573.554688</td>\n",
       "    </tr>\n",
       "    <tr>\n",
       "      <td>1286</td>\n",
       "      <td>12</td>\n",
       "      <td>739.0</td>\n",
       "      <td>68.0</td>\n",
       "      <td>35151.0</td>\n",
       "      <td>smart</td>\n",
       "      <td>5186.429688</td>\n",
       "    </tr>\n",
       "    <tr>\n",
       "      <td>1159</td>\n",
       "      <td>12</td>\n",
       "      <td>734.0</td>\n",
       "      <td>2.0</td>\n",
       "      <td>35178.0</td>\n",
       "      <td>smart</td>\n",
       "      <td>5122.703125</td>\n",
       "    </tr>\n",
       "    <tr>\n",
       "      <td>1098</td>\n",
       "      <td>12</td>\n",
       "      <td>588.0</td>\n",
       "      <td>14.0</td>\n",
       "      <td>36568.0</td>\n",
       "      <td>smart</td>\n",
       "      <td>4956.187500</td>\n",
       "    </tr>\n",
       "    <tr>\n",
       "      <td>1124</td>\n",
       "      <td>10</td>\n",
       "      <td>1225.0</td>\n",
       "      <td>121.0</td>\n",
       "      <td>49789.0</td>\n",
       "      <td>ultra</td>\n",
       "      <td>4743.310547</td>\n",
       "    </tr>\n",
       "    <tr>\n",
       "      <td>1261</td>\n",
       "      <td>11</td>\n",
       "      <td>738.0</td>\n",
       "      <td>25.0</td>\n",
       "      <td>32542.0</td>\n",
       "      <td>smart</td>\n",
       "      <td>4619.859375</td>\n",
       "    </tr>\n",
       "    <tr>\n",
       "      <td>1240</td>\n",
       "      <td>8</td>\n",
       "      <td>457.0</td>\n",
       "      <td>0.0</td>\n",
       "      <td>48395.0</td>\n",
       "      <td>ultra</td>\n",
       "      <td>4539.111328</td>\n",
       "    </tr>\n",
       "  </tbody>\n",
       "</table>\n",
       "</div>"
      ],
      "text/plain": [
       "               duration  all_messages  all_traffic tariff       profit\n",
       "user_id month                                                         \n",
       "1486    12       1007.0          83.0      38610.0  smart  6711.015625\n",
       "1261    12       1074.0          22.0      32697.0  smart  5658.132812\n",
       "1042    12        728.0          75.0      37219.0  smart  5578.335938\n",
       "1486    11        764.0          96.0      36319.0  smart  5573.554688\n",
       "1286    12        739.0          68.0      35151.0  smart  5186.429688\n",
       "1159    12        734.0           2.0      35178.0  smart  5122.703125\n",
       "1098    12        588.0          14.0      36568.0  smart  4956.187500\n",
       "1124    10       1225.0         121.0      49789.0  ultra  4743.310547\n",
       "1261    11        738.0          25.0      32542.0  smart  4619.859375\n",
       "1240    8         457.0           0.0      48395.0  ultra  4539.111328"
      ]
     },
     "execution_count": 62,
     "metadata": {},
     "output_type": "execute_result"
    }
   ],
   "source": [
    "data.sort_values(by = 'profit', ascending = False).head(10)"
   ]
  },
  {
   "cell_type": "code",
   "execution_count": 63,
   "metadata": {},
   "outputs": [
    {
     "data": {
      "text/html": [
       "<div>\n",
       "<style scoped>\n",
       "    .dataframe tbody tr th:only-of-type {\n",
       "        vertical-align: middle;\n",
       "    }\n",
       "\n",
       "    .dataframe tbody tr th {\n",
       "        vertical-align: top;\n",
       "    }\n",
       "\n",
       "    .dataframe thead th {\n",
       "        text-align: right;\n",
       "    }\n",
       "</style>\n",
       "<table border=\"1\" class=\"dataframe\">\n",
       "  <thead>\n",
       "    <tr style=\"text-align: right;\">\n",
       "      <th></th>\n",
       "      <th>month</th>\n",
       "      <th>duration</th>\n",
       "      <th>all_messages</th>\n",
       "      <th>all_traffic</th>\n",
       "      <th>tariff</th>\n",
       "      <th>profit</th>\n",
       "    </tr>\n",
       "    <tr>\n",
       "      <th>user_id</th>\n",
       "      <th></th>\n",
       "      <th></th>\n",
       "      <th></th>\n",
       "      <th></th>\n",
       "      <th></th>\n",
       "      <th></th>\n",
       "    </tr>\n",
       "  </thead>\n",
       "  <tbody>\n",
       "    <tr>\n",
       "      <td>1000</td>\n",
       "      <td>5</td>\n",
       "      <td>159.0</td>\n",
       "      <td>22.0</td>\n",
       "      <td>2256.0</td>\n",
       "      <td>ultra</td>\n",
       "      <td>1950.00000</td>\n",
       "    </tr>\n",
       "    <tr>\n",
       "      <td>1000</td>\n",
       "      <td>6</td>\n",
       "      <td>172.0</td>\n",
       "      <td>60.0</td>\n",
       "      <td>23257.0</td>\n",
       "      <td>ultra</td>\n",
       "      <td>1950.00000</td>\n",
       "    </tr>\n",
       "    <tr>\n",
       "      <td>1000</td>\n",
       "      <td>7</td>\n",
       "      <td>340.0</td>\n",
       "      <td>75.0</td>\n",
       "      <td>14016.0</td>\n",
       "      <td>ultra</td>\n",
       "      <td>1950.00000</td>\n",
       "    </tr>\n",
       "    <tr>\n",
       "      <td>1000</td>\n",
       "      <td>8</td>\n",
       "      <td>408.0</td>\n",
       "      <td>81.0</td>\n",
       "      <td>14070.0</td>\n",
       "      <td>ultra</td>\n",
       "      <td>1950.00000</td>\n",
       "    </tr>\n",
       "    <tr>\n",
       "      <td>1000</td>\n",
       "      <td>9</td>\n",
       "      <td>466.0</td>\n",
       "      <td>57.0</td>\n",
       "      <td>14581.0</td>\n",
       "      <td>ultra</td>\n",
       "      <td>1950.00000</td>\n",
       "    </tr>\n",
       "    <tr>\n",
       "      <td>1000</td>\n",
       "      <td>10</td>\n",
       "      <td>350.0</td>\n",
       "      <td>73.0</td>\n",
       "      <td>14717.0</td>\n",
       "      <td>ultra</td>\n",
       "      <td>1950.00000</td>\n",
       "    </tr>\n",
       "    <tr>\n",
       "      <td>1000</td>\n",
       "      <td>11</td>\n",
       "      <td>338.0</td>\n",
       "      <td>58.0</td>\n",
       "      <td>14768.0</td>\n",
       "      <td>ultra</td>\n",
       "      <td>1950.00000</td>\n",
       "    </tr>\n",
       "    <tr>\n",
       "      <td>1000</td>\n",
       "      <td>12</td>\n",
       "      <td>333.0</td>\n",
       "      <td>70.0</td>\n",
       "      <td>9827.0</td>\n",
       "      <td>ultra</td>\n",
       "      <td>1950.00000</td>\n",
       "    </tr>\n",
       "    <tr>\n",
       "      <td>1001</td>\n",
       "      <td>11</td>\n",
       "      <td>430.0</td>\n",
       "      <td>0.0</td>\n",
       "      <td>18452.0</td>\n",
       "      <td>smart</td>\n",
       "      <td>1153.90625</td>\n",
       "    </tr>\n",
       "    <tr>\n",
       "      <td>1001</td>\n",
       "      <td>12</td>\n",
       "      <td>414.0</td>\n",
       "      <td>0.0</td>\n",
       "      <td>14053.0</td>\n",
       "      <td>smart</td>\n",
       "      <td>550.00000</td>\n",
       "    </tr>\n",
       "  </tbody>\n",
       "</table>\n",
       "</div>"
      ],
      "text/plain": [
       "         month  duration  all_messages  all_traffic tariff      profit\n",
       "user_id                                                               \n",
       "1000         5     159.0          22.0       2256.0  ultra  1950.00000\n",
       "1000         6     172.0          60.0      23257.0  ultra  1950.00000\n",
       "1000         7     340.0          75.0      14016.0  ultra  1950.00000\n",
       "1000         8     408.0          81.0      14070.0  ultra  1950.00000\n",
       "1000         9     466.0          57.0      14581.0  ultra  1950.00000\n",
       "1000        10     350.0          73.0      14717.0  ultra  1950.00000\n",
       "1000        11     338.0          58.0      14768.0  ultra  1950.00000\n",
       "1000        12     333.0          70.0       9827.0  ultra  1950.00000\n",
       "1001        11     430.0           0.0      18452.0  smart  1153.90625\n",
       "1001        12     414.0           0.0      14053.0  smart   550.00000"
      ]
     },
     "execution_count": 63,
     "metadata": {},
     "output_type": "execute_result"
    }
   ],
   "source": [
    "data_final = data.reset_index(level='month')\n",
    "data_final.head(10)"
   ]
  },
  {
   "cell_type": "markdown",
   "metadata": {},
   "source": [
    "Итого, мы получили таблицу, с указанием на каждого клиента помесячного расхода количества минут, сообщений и трафика. И теперь можем оценить полученную прибыль. "
   ]
  },
  {
   "cell_type": "markdown",
   "metadata": {},
   "source": [
    "<div class=\"alert alert-danger\">\n",
    "<b>Комментарии ревьюера V2:</b> <s>Если мы посмотрим на эту таблицу, то увидим, что у всех клиентов, которые пользуются тарифом Ультра нет никаких переплат. Это явно ошибка в расчетах количества прибыли.\n",
    "    \n",
    "У тебя должно получиться примерно следующее:\n",
    "   \n",
    "Тариф Смарт:\n",
    "    \n",
    "- среднее 1290\n",
    "- медиана 1023\n",
    "- дисперсия 669786.0\n",
    "    \n",
    "Тариф Ультра:\n",
    "    \n",
    "- среднее 2070\n",
    "- медиана 1950\n",
    "- дисперсия 141517.0\n",
    " \n",
    "    \n",
    "Цифры не должны совпадать в точности, но должно получиться примерно так. Посмотри, откуда тянется ошибка. Это влияет на правильность расчетов ниже. </s>\n",
    "    \n",
    "    \n",
    "Здорово, что удалось разобраться. Ты молодец :)    \n",
    "</div>"
   ]
  },
  {
   "cell_type": "markdown",
   "metadata": {},
   "source": [
    "<div     style = 'color: #FFFFFF;\n",
    "    background-color: #3E94C9;\n",
    "    border-color: #d6e9c6; padding: 15px;\n",
    "    margin-bottom: 18px;\n",
    "    border: 1px solid transparent;\n",
    "    border-radius: 2px;'>\n",
    "<h2> Ответ исполнителя V2<a class=\"tocSkip\"> </h2>\n",
    "\n",
    "Теперь сходится :) Написал в своём выводе выше, что ошибка заключалась в расчетах через гигабайты и на округлениях завышались показатели.\n",
    "</div>"
   ]
  },
  {
   "cell_type": "code",
   "execution_count": 64,
   "metadata": {},
   "outputs": [
    {
     "data": {
      "text/html": [
       "<div>\n",
       "<style scoped>\n",
       "    .dataframe tbody tr th:only-of-type {\n",
       "        vertical-align: middle;\n",
       "    }\n",
       "\n",
       "    .dataframe tbody tr th {\n",
       "        vertical-align: top;\n",
       "    }\n",
       "\n",
       "    .dataframe thead th {\n",
       "        text-align: right;\n",
       "    }\n",
       "</style>\n",
       "<table border=\"1\" class=\"dataframe\">\n",
       "  <thead>\n",
       "    <tr style=\"text-align: right;\">\n",
       "      <th></th>\n",
       "      <th></th>\n",
       "      <th>profit</th>\n",
       "    </tr>\n",
       "    <tr>\n",
       "      <th>tariff</th>\n",
       "      <th></th>\n",
       "      <th></th>\n",
       "    </tr>\n",
       "  </thead>\n",
       "  <tbody>\n",
       "    <tr>\n",
       "      <td rowspan=\"5\" valign=\"top\">smart</td>\n",
       "      <td>mean</td>\n",
       "      <td>1233.0</td>\n",
       "    </tr>\n",
       "    <tr>\n",
       "      <td>median</td>\n",
       "      <td>960.0</td>\n",
       "    </tr>\n",
       "    <tr>\n",
       "      <td>var</td>\n",
       "      <td>620453.0</td>\n",
       "    </tr>\n",
       "    <tr>\n",
       "      <td>std</td>\n",
       "      <td>788.0</td>\n",
       "    </tr>\n",
       "    <tr>\n",
       "      <td>sum</td>\n",
       "      <td>2749136.0</td>\n",
       "    </tr>\n",
       "    <tr>\n",
       "      <td rowspan=\"5\" valign=\"top\">ultra</td>\n",
       "      <td>mean</td>\n",
       "      <td>2061.0</td>\n",
       "    </tr>\n",
       "    <tr>\n",
       "      <td>median</td>\n",
       "      <td>1950.0</td>\n",
       "    </tr>\n",
       "    <tr>\n",
       "      <td>var</td>\n",
       "      <td>126953.0</td>\n",
       "    </tr>\n",
       "    <tr>\n",
       "      <td>std</td>\n",
       "      <td>356.0</td>\n",
       "    </tr>\n",
       "    <tr>\n",
       "      <td>sum</td>\n",
       "      <td>2029622.0</td>\n",
       "    </tr>\n",
       "  </tbody>\n",
       "</table>\n",
       "</div>"
      ],
      "text/plain": [
       "                  profit\n",
       "tariff                  \n",
       "smart  mean       1233.0\n",
       "       median      960.0\n",
       "       var      620453.0\n",
       "       std         788.0\n",
       "       sum     2749136.0\n",
       "ultra  mean       2061.0\n",
       "       median     1950.0\n",
       "       var      126953.0\n",
       "       std         356.0\n",
       "       sum     2029622.0"
      ]
     },
     "execution_count": 64,
     "metadata": {},
     "output_type": "execute_result"
    }
   ],
   "source": [
    "round(data_final.groupby('tariff')[['profit']]\\\n",
    "      .agg(['mean','median','var','std','sum']).stack())\\"
   ]
  },
  {
   "cell_type": "markdown",
   "metadata": {},
   "source": [
    "<div class=\"alert alert-danger\">\n",
    "<b>Комментарии ревьюера V2:</b> <s>Я просмотрела твои расчеты в следующих пунктах. Чтобы проверка была быстрее, скажу напишу, что нужно будет оформить каждую гистограмму, добавить название и подписать оси. Все визуализации должны быть понятными без контекста. Также, можно скорректировать число корзин, чтобы все было наглядно.\n",
    "    \n",
    "    \n",
    "По поводу тестирования гипотез:\n",
    "\n",
    "- в наших проектах мы формулируем двусторонние гипотезы, поэтому тестирование методом st.ttest_1samp нужно убрать, используем только  st.ttest_ind.\n",
    "- нужно использовать параметр equal_var в зависимости от равенства дисперсий выборок.\n",
    "    \n",
    "В общем выводе нужно будет еще ответить на вопрос, в какой тариф лучше вложиться Мегалайну и почему. Здесь нет правильного ответа, важны твои рассуждения.  </s>\n",
    "    \n",
    "Отлично, увидела :)    \n",
    "</div>"
   ]
  },
  {
   "cell_type": "markdown",
   "metadata": {},
   "source": [
    "<div     style = 'color: #FFFFFF;\n",
    "    background-color: #3E94C9;\n",
    "    border-color: #d6e9c6; padding: 15px;\n",
    "    margin-bottom: 18px;\n",
    "    border: 1px solid transparent;\n",
    "    border-radius: 2px;'>\n",
    "<h2> Ответ исполнителя V2<a class=\"tocSkip\"> </h2>\n",
    "\n",
    "1) Гистограммы оформил\n",
    "2) Число корзин скорректировал\n",
    "3) st.ttest_1samp убрал\n",
    "4) equal_var добавил\n",
    "5) Дополнил свой ранее написанный вывод по вопросу вложений в РК\n",
    "</div>"
   ]
  },
  {
   "cell_type": "markdown",
   "metadata": {},
   "source": [
    "## Анализ поведения клиентов"
   ]
  },
  {
   "cell_type": "markdown",
   "metadata": {},
   "source": [
    "Сколько минут разговора, сколько сообщений и какой объём интернет-трафика требуется пользователям каждого тарифа в месяц? Посчитаем среднее количество, дисперсию и стандартное отклонение."
   ]
  },
  {
   "cell_type": "markdown",
   "metadata": {},
   "source": [
    "<div class=\"alert alert-success\">\n",
    "<b>Комментарии ревьюера V3:</b> Здорово, что ниже рассматриваешь изменения по месяцам. \n",
    "</div>\t"
   ]
  },
  {
   "cell_type": "markdown",
   "metadata": {},
   "source": [
    "### Показатели по количеству минут разговора"
   ]
  },
  {
   "cell_type": "code",
   "execution_count": 65,
   "metadata": {},
   "outputs": [
    {
     "data": {
      "text/html": [
       "<style  type=\"text/css\" >\n",
       "    #T_2693670c_aa7c_11eb_afc2_02420a39b750row0_col0 {\n",
       "            : ;\n",
       "            background-color:  green;\n",
       "        }    #T_2693670c_aa7c_11eb_afc2_02420a39b750row0_col1 {\n",
       "            : ;\n",
       "            background-color:  green;\n",
       "        }    #T_2693670c_aa7c_11eb_afc2_02420a39b750row0_col2 {\n",
       "            : ;\n",
       "            background-color:  green;\n",
       "        }    #T_2693670c_aa7c_11eb_afc2_02420a39b750row0_col3 {\n",
       "            : ;\n",
       "            background-color:  green;\n",
       "        }    #T_2693670c_aa7c_11eb_afc2_02420a39b750row11_col0 {\n",
       "            background-color:  yellow;\n",
       "            : ;\n",
       "        }    #T_2693670c_aa7c_11eb_afc2_02420a39b750row11_col1 {\n",
       "            background-color:  yellow;\n",
       "            : ;\n",
       "        }    #T_2693670c_aa7c_11eb_afc2_02420a39b750row11_col2 {\n",
       "            background-color:  yellow;\n",
       "            : ;\n",
       "        }    #T_2693670c_aa7c_11eb_afc2_02420a39b750row11_col3 {\n",
       "            background-color:  yellow;\n",
       "            : ;\n",
       "        }</style><table id=\"T_2693670c_aa7c_11eb_afc2_02420a39b750\" ><thead>    <tr>        <th class=\"blank level0\" ></th>        <th class=\"col_heading level0 col0\" >mean_duration</th>        <th class=\"col_heading level0 col1\" >var_duration</th>        <th class=\"col_heading level0 col2\" >std_duration</th>        <th class=\"col_heading level0 col3\" >adv_duration</th>    </tr>    <tr>        <th class=\"index_name level0\" >month</th>        <th class=\"blank\" ></th>        <th class=\"blank\" ></th>        <th class=\"blank\" ></th>        <th class=\"blank\" ></th>    </tr></thead><tbody>\n",
       "                <tr>\n",
       "                        <th id=\"T_2693670c_aa7c_11eb_afc2_02420a39b750level0_row0\" class=\"row_heading level0 row0\" >1</th>\n",
       "                        <td id=\"T_2693670c_aa7c_11eb_afc2_02420a39b750row0_col0\" class=\"data row0 col0\" >203.853</td>\n",
       "                        <td id=\"T_2693670c_aa7c_11eb_afc2_02420a39b750row0_col1\" class=\"data row0 col1\" >23787.3</td>\n",
       "                        <td id=\"T_2693670c_aa7c_11eb_afc2_02420a39b750row0_col2\" class=\"data row0 col2\" >154.231</td>\n",
       "                        <td id=\"T_2693670c_aa7c_11eb_afc2_02420a39b750row0_col3\" class=\"data row0 col3\" >666.547</td>\n",
       "            </tr>\n",
       "            <tr>\n",
       "                        <th id=\"T_2693670c_aa7c_11eb_afc2_02420a39b750level0_row1\" class=\"row_heading level0 row1\" >2</th>\n",
       "                        <td id=\"T_2693670c_aa7c_11eb_afc2_02420a39b750row1_col0\" class=\"data row1 col0\" >298.69</td>\n",
       "                        <td id=\"T_2693670c_aa7c_11eb_afc2_02420a39b750row1_col1\" class=\"data row1 col1\" >36412.3</td>\n",
       "                        <td id=\"T_2693670c_aa7c_11eb_afc2_02420a39b750row1_col2\" class=\"data row1 col2\" >190.82</td>\n",
       "                        <td id=\"T_2693670c_aa7c_11eb_afc2_02420a39b750row1_col3\" class=\"data row1 col3\" >871.15</td>\n",
       "            </tr>\n",
       "            <tr>\n",
       "                        <th id=\"T_2693670c_aa7c_11eb_afc2_02420a39b750level0_row2\" class=\"row_heading level0 row2\" >3</th>\n",
       "                        <td id=\"T_2693670c_aa7c_11eb_afc2_02420a39b750row2_col0\" class=\"data row2 col0\" >390.052</td>\n",
       "                        <td id=\"T_2693670c_aa7c_11eb_afc2_02420a39b750row2_col1\" class=\"data row2 col1\" >36823.2</td>\n",
       "                        <td id=\"T_2693670c_aa7c_11eb_afc2_02420a39b750row2_col2\" class=\"data row2 col2\" >191.894</td>\n",
       "                        <td id=\"T_2693670c_aa7c_11eb_afc2_02420a39b750row2_col3\" class=\"data row2 col3\" >965.733</td>\n",
       "            </tr>\n",
       "            <tr>\n",
       "                        <th id=\"T_2693670c_aa7c_11eb_afc2_02420a39b750level0_row3\" class=\"row_heading level0 row3\" >4</th>\n",
       "                        <td id=\"T_2693670c_aa7c_11eb_afc2_02420a39b750row3_col0\" class=\"data row3 col0\" >367.134</td>\n",
       "                        <td id=\"T_2693670c_aa7c_11eb_afc2_02420a39b750row3_col1\" class=\"data row3 col1\" >34778.2</td>\n",
       "                        <td id=\"T_2693670c_aa7c_11eb_afc2_02420a39b750row3_col2\" class=\"data row3 col2\" >186.489</td>\n",
       "                        <td id=\"T_2693670c_aa7c_11eb_afc2_02420a39b750row3_col3\" class=\"data row3 col3\" >926.601</td>\n",
       "            </tr>\n",
       "            <tr>\n",
       "                        <th id=\"T_2693670c_aa7c_11eb_afc2_02420a39b750level0_row4\" class=\"row_heading level0 row4\" >5</th>\n",
       "                        <td id=\"T_2693670c_aa7c_11eb_afc2_02420a39b750row4_col0\" class=\"data row4 col0\" >387.362</td>\n",
       "                        <td id=\"T_2693670c_aa7c_11eb_afc2_02420a39b750row4_col1\" class=\"data row4 col1\" >34820.1</td>\n",
       "                        <td id=\"T_2693670c_aa7c_11eb_afc2_02420a39b750row4_col2\" class=\"data row4 col2\" >186.601</td>\n",
       "                        <td id=\"T_2693670c_aa7c_11eb_afc2_02420a39b750row4_col3\" class=\"data row4 col3\" >947.166</td>\n",
       "            </tr>\n",
       "            <tr>\n",
       "                        <th id=\"T_2693670c_aa7c_11eb_afc2_02420a39b750level0_row5\" class=\"row_heading level0 row5\" >6</th>\n",
       "                        <td id=\"T_2693670c_aa7c_11eb_afc2_02420a39b750row5_col0\" class=\"data row5 col0\" >395.64</td>\n",
       "                        <td id=\"T_2693670c_aa7c_11eb_afc2_02420a39b750row5_col1\" class=\"data row5 col1\" >30742.9</td>\n",
       "                        <td id=\"T_2693670c_aa7c_11eb_afc2_02420a39b750row5_col2\" class=\"data row5 col2\" >175.337</td>\n",
       "                        <td id=\"T_2693670c_aa7c_11eb_afc2_02420a39b750row5_col3\" class=\"data row5 col3\" >921.65</td>\n",
       "            </tr>\n",
       "            <tr>\n",
       "                        <th id=\"T_2693670c_aa7c_11eb_afc2_02420a39b750level0_row6\" class=\"row_heading level0 row6\" >7</th>\n",
       "                        <td id=\"T_2693670c_aa7c_11eb_afc2_02420a39b750row6_col0\" class=\"data row6 col0\" >408.353</td>\n",
       "                        <td id=\"T_2693670c_aa7c_11eb_afc2_02420a39b750row6_col1\" class=\"data row6 col1\" >32250.3</td>\n",
       "                        <td id=\"T_2693670c_aa7c_11eb_afc2_02420a39b750row6_col2\" class=\"data row6 col2\" >179.584</td>\n",
       "                        <td id=\"T_2693670c_aa7c_11eb_afc2_02420a39b750row6_col3\" class=\"data row6 col3\" >947.104</td>\n",
       "            </tr>\n",
       "            <tr>\n",
       "                        <th id=\"T_2693670c_aa7c_11eb_afc2_02420a39b750level0_row7\" class=\"row_heading level0 row7\" >8</th>\n",
       "                        <td id=\"T_2693670c_aa7c_11eb_afc2_02420a39b750row7_col0\" class=\"data row7 col0\" >421.468</td>\n",
       "                        <td id=\"T_2693670c_aa7c_11eb_afc2_02420a39b750row7_col1\" class=\"data row7 col1\" >34793.6</td>\n",
       "                        <td id=\"T_2693670c_aa7c_11eb_afc2_02420a39b750row7_col2\" class=\"data row7 col2\" >186.53</td>\n",
       "                        <td id=\"T_2693670c_aa7c_11eb_afc2_02420a39b750row7_col3\" class=\"data row7 col3\" >981.059</td>\n",
       "            </tr>\n",
       "            <tr>\n",
       "                        <th id=\"T_2693670c_aa7c_11eb_afc2_02420a39b750level0_row8\" class=\"row_heading level0 row8\" >9</th>\n",
       "                        <td id=\"T_2693670c_aa7c_11eb_afc2_02420a39b750row8_col0\" class=\"data row8 col0\" >428.612</td>\n",
       "                        <td id=\"T_2693670c_aa7c_11eb_afc2_02420a39b750row8_col1\" class=\"data row8 col1\" >33535.3</td>\n",
       "                        <td id=\"T_2693670c_aa7c_11eb_afc2_02420a39b750row8_col2\" class=\"data row8 col2\" >183.127</td>\n",
       "                        <td id=\"T_2693670c_aa7c_11eb_afc2_02420a39b750row8_col3\" class=\"data row8 col3\" >977.991</td>\n",
       "            </tr>\n",
       "            <tr>\n",
       "                        <th id=\"T_2693670c_aa7c_11eb_afc2_02420a39b750level0_row9\" class=\"row_heading level0 row9\" >10</th>\n",
       "                        <td id=\"T_2693670c_aa7c_11eb_afc2_02420a39b750row9_col0\" class=\"data row9 col0\" >426.136</td>\n",
       "                        <td id=\"T_2693670c_aa7c_11eb_afc2_02420a39b750row9_col1\" class=\"data row9 col1\" >35392.3</td>\n",
       "                        <td id=\"T_2693670c_aa7c_11eb_afc2_02420a39b750row9_col2\" class=\"data row9 col2\" >188.129</td>\n",
       "                        <td id=\"T_2693670c_aa7c_11eb_afc2_02420a39b750row9_col3\" class=\"data row9 col3\" >990.522</td>\n",
       "            </tr>\n",
       "            <tr>\n",
       "                        <th id=\"T_2693670c_aa7c_11eb_afc2_02420a39b750level0_row10\" class=\"row_heading level0 row10\" >11</th>\n",
       "                        <td id=\"T_2693670c_aa7c_11eb_afc2_02420a39b750row10_col0\" class=\"data row10 col0\" >435.266</td>\n",
       "                        <td id=\"T_2693670c_aa7c_11eb_afc2_02420a39b750row10_col1\" class=\"data row10 col1\" >31605.2</td>\n",
       "                        <td id=\"T_2693670c_aa7c_11eb_afc2_02420a39b750row10_col2\" class=\"data row10 col2\" >177.779</td>\n",
       "                        <td id=\"T_2693670c_aa7c_11eb_afc2_02420a39b750row10_col3\" class=\"data row10 col3\" >968.602</td>\n",
       "            </tr>\n",
       "            <tr>\n",
       "                        <th id=\"T_2693670c_aa7c_11eb_afc2_02420a39b750level0_row11\" class=\"row_heading level0 row11\" >12</th>\n",
       "                        <td id=\"T_2693670c_aa7c_11eb_afc2_02420a39b750row11_col0\" class=\"data row11 col0\" >478.561</td>\n",
       "                        <td id=\"T_2693670c_aa7c_11eb_afc2_02420a39b750row11_col1\" class=\"data row11 col1\" >39698.6</td>\n",
       "                        <td id=\"T_2693670c_aa7c_11eb_afc2_02420a39b750row11_col2\" class=\"data row11 col2\" >199.245</td>\n",
       "                        <td id=\"T_2693670c_aa7c_11eb_afc2_02420a39b750row11_col3\" class=\"data row11 col3\" >1076.3</td>\n",
       "            </tr>\n",
       "    </tbody></table>"
      ],
      "text/plain": [
       "<pandas.io.formats.style.Styler at 0x7f1d13da4a50>"
      ]
     },
     "execution_count": 65,
     "metadata": {},
     "output_type": "execute_result"
    }
   ],
   "source": [
    "calls_month_smart = data_final[data_final['tariff'] == \"smart\"].pivot_table(index = 'month', values = ['duration'], \n",
    "                                                                      aggfunc = ['mean', 'var', 'std'])\n",
    "calls_month_smart.columns = ['mean_duration','var_duration', 'std_duration']\n",
    "calls_month_smart['adv_duration'] = calls_month_smart['mean_duration'] + (calls_month_smart['std_duration'] * 3)\n",
    "calls_month_smart.head(13).style.apply(highlight_max).apply(highlight_min)"
   ]
  },
  {
   "cell_type": "code",
   "execution_count": 66,
   "metadata": {},
   "outputs": [
    {
     "data": {
      "text/plain": [
       "Text(0, 0.5, 'Количество значений')"
      ]
     },
     "execution_count": 66,
     "metadata": {},
     "output_type": "execute_result"
    },
    {
     "data": {
      "image/png": "[encoded data removed]",
      "text/plain": [
       "<Figure size 432x288 with 1 Axes>"
      ]
     },
     "metadata": {
      "needs_background": "light"
     },
     "output_type": "display_data"
    }
   ],
   "source": [
    "calls_month_smart['mean_duration'].hist(bins = 5 )\n",
    "plt.title('Средняя длительность разговора по тарифу СМАРТ')\n",
    "plt.xlabel('Сумма минут')\n",
    "plt.ylabel('Количество значений')"
   ]
  },
  {
   "cell_type": "code",
   "execution_count": 67,
   "metadata": {},
   "outputs": [
    {
     "data": {
      "text/plain": [
       "count     12.000000\n",
       "mean     386.760499\n",
       "std       72.262004\n",
       "min      203.852941\n",
       "25%      382.304759\n",
       "50%      401.996739\n",
       "75%      426.754925\n",
       "max      478.560831\n",
       "Name: mean_duration, dtype: float64"
      ]
     },
     "execution_count": 67,
     "metadata": {},
     "output_type": "execute_result"
    }
   ],
   "source": [
    "calls_month_smart['mean_duration'].describe()"
   ]
  },
  {
   "cell_type": "code",
   "execution_count": 68,
   "metadata": {},
   "outputs": [
    {
     "data": {
      "text/plain": [
       "count      12.000000\n",
       "mean      936.701750\n",
       "std        98.045800\n",
       "min       666.547303\n",
       "25%       925.363560\n",
       "50%       956.449245\n",
       "75%       978.758257\n",
       "max      1076.296222\n",
       "Name: adv_duration, dtype: float64"
      ]
     },
     "execution_count": 68,
     "metadata": {},
     "output_type": "execute_result"
    }
   ],
   "source": [
    "calls_month_smart['adv_duration'].describe()"
   ]
  },
  {
   "cell_type": "markdown",
   "metadata": {},
   "source": [
    "На тарифе смарт пользователи в среднем общаются от 386 минут в месяц. При этом, чтобы удовлетворить потребности в голосовом общении большинства пользователей, в месяц должно быть в среднем 936 минут."
   ]
  },
  {
   "cell_type": "code",
   "execution_count": 69,
   "metadata": {},
   "outputs": [
    {
     "data": {
      "text/html": [
       "<style  type=\"text/css\" >\n",
       "    #T_26e62276_aa7c_11eb_afc2_02420a39b750row1_col0 {\n",
       "            : ;\n",
       "            background-color:  green;\n",
       "        }    #T_26e62276_aa7c_11eb_afc2_02420a39b750row1_col1 {\n",
       "            : ;\n",
       "            background-color:  green;\n",
       "        }    #T_26e62276_aa7c_11eb_afc2_02420a39b750row1_col2 {\n",
       "            : ;\n",
       "            background-color:  green;\n",
       "        }    #T_26e62276_aa7c_11eb_afc2_02420a39b750row1_col3 {\n",
       "            : ;\n",
       "            background-color:  green;\n",
       "        }    #T_26e62276_aa7c_11eb_afc2_02420a39b750row11_col0 {\n",
       "            background-color:  yellow;\n",
       "            : ;\n",
       "        }    #T_26e62276_aa7c_11eb_afc2_02420a39b750row11_col1 {\n",
       "            background-color:  yellow;\n",
       "            : ;\n",
       "        }    #T_26e62276_aa7c_11eb_afc2_02420a39b750row11_col2 {\n",
       "            background-color:  yellow;\n",
       "            : ;\n",
       "        }    #T_26e62276_aa7c_11eb_afc2_02420a39b750row11_col3 {\n",
       "            background-color:  yellow;\n",
       "            : ;\n",
       "        }</style><table id=\"T_26e62276_aa7c_11eb_afc2_02420a39b750\" ><thead>    <tr>        <th class=\"blank level0\" ></th>        <th class=\"col_heading level0 col0\" >mean_duration</th>        <th class=\"col_heading level0 col1\" >var_duration</th>        <th class=\"col_heading level0 col2\" >std_duration</th>        <th class=\"col_heading level0 col3\" >adv_duration</th>    </tr>    <tr>        <th class=\"index_name level0\" >month</th>        <th class=\"blank\" ></th>        <th class=\"blank\" ></th>        <th class=\"blank\" ></th>        <th class=\"blank\" ></th>    </tr></thead><tbody>\n",
       "                <tr>\n",
       "                        <th id=\"T_26e62276_aa7c_11eb_afc2_02420a39b750level0_row0\" class=\"row_heading level0 row0\" >1</th>\n",
       "                        <td id=\"T_26e62276_aa7c_11eb_afc2_02420a39b750row0_col0\" class=\"data row0 col0\" >302.667</td>\n",
       "                        <td id=\"T_26e62276_aa7c_11eb_afc2_02420a39b750row0_col1\" class=\"data row0 col1\" >75571.2</td>\n",
       "                        <td id=\"T_26e62276_aa7c_11eb_afc2_02420a39b750row0_col2\" class=\"data row0 col2\" >274.902</td>\n",
       "                        <td id=\"T_26e62276_aa7c_11eb_afc2_02420a39b750row0_col3\" class=\"data row0 col3\" >1127.37</td>\n",
       "            </tr>\n",
       "            <tr>\n",
       "                        <th id=\"T_26e62276_aa7c_11eb_afc2_02420a39b750level0_row1\" class=\"row_heading level0 row1\" >2</th>\n",
       "                        <td id=\"T_26e62276_aa7c_11eb_afc2_02420a39b750row1_col0\" class=\"data row1 col0\" >214.542</td>\n",
       "                        <td id=\"T_26e62276_aa7c_11eb_afc2_02420a39b750row1_col1\" class=\"data row1 col1\" >59922.5</td>\n",
       "                        <td id=\"T_26e62276_aa7c_11eb_afc2_02420a39b750row1_col2\" class=\"data row1 col2\" >244.791</td>\n",
       "                        <td id=\"T_26e62276_aa7c_11eb_afc2_02420a39b750row1_col3\" class=\"data row1 col3\" >948.914</td>\n",
       "            </tr>\n",
       "            <tr>\n",
       "                        <th id=\"T_26e62276_aa7c_11eb_afc2_02420a39b750level0_row2\" class=\"row_heading level0 row2\" >3</th>\n",
       "                        <td id=\"T_26e62276_aa7c_11eb_afc2_02420a39b750row2_col0\" class=\"data row2 col0\" >388.27</td>\n",
       "                        <td id=\"T_26e62276_aa7c_11eb_afc2_02420a39b750row2_col1\" class=\"data row2 col1\" >67213.3</td>\n",
       "                        <td id=\"T_26e62276_aa7c_11eb_afc2_02420a39b750row2_col2\" class=\"data row2 col2\" >259.255</td>\n",
       "                        <td id=\"T_26e62276_aa7c_11eb_afc2_02420a39b750row2_col3\" class=\"data row2 col3\" >1166.04</td>\n",
       "            </tr>\n",
       "            <tr>\n",
       "                        <th id=\"T_26e62276_aa7c_11eb_afc2_02420a39b750level0_row3\" class=\"row_heading level0 row3\" >4</th>\n",
       "                        <td id=\"T_26e62276_aa7c_11eb_afc2_02420a39b750row3_col0\" class=\"data row3 col0\" >404.036</td>\n",
       "                        <td id=\"T_26e62276_aa7c_11eb_afc2_02420a39b750row3_col1\" class=\"data row3 col1\" >67080.1</td>\n",
       "                        <td id=\"T_26e62276_aa7c_11eb_afc2_02420a39b750row3_col2\" class=\"data row3 col2\" >258.998</td>\n",
       "                        <td id=\"T_26e62276_aa7c_11eb_afc2_02420a39b750row3_col3\" class=\"data row3 col3\" >1181.03</td>\n",
       "            </tr>\n",
       "            <tr>\n",
       "                        <th id=\"T_26e62276_aa7c_11eb_afc2_02420a39b750level0_row4\" class=\"row_heading level0 row4\" >5</th>\n",
       "                        <td id=\"T_26e62276_aa7c_11eb_afc2_02420a39b750row4_col0\" class=\"data row4 col0\" >444.015</td>\n",
       "                        <td id=\"T_26e62276_aa7c_11eb_afc2_02420a39b750row4_col1\" class=\"data row4 col1\" >77663.8</td>\n",
       "                        <td id=\"T_26e62276_aa7c_11eb_afc2_02420a39b750row4_col2\" class=\"data row4 col2\" >278.682</td>\n",
       "                        <td id=\"T_26e62276_aa7c_11eb_afc2_02420a39b750row4_col3\" class=\"data row4 col3\" >1280.06</td>\n",
       "            </tr>\n",
       "            <tr>\n",
       "                        <th id=\"T_26e62276_aa7c_11eb_afc2_02420a39b750level0_row5\" class=\"row_heading level0 row5\" >6</th>\n",
       "                        <td id=\"T_26e62276_aa7c_11eb_afc2_02420a39b750row5_col0\" class=\"data row5 col0\" >412.976</td>\n",
       "                        <td id=\"T_26e62276_aa7c_11eb_afc2_02420a39b750row5_col1\" class=\"data row5 col1\" >73810.5</td>\n",
       "                        <td id=\"T_26e62276_aa7c_11eb_afc2_02420a39b750row5_col2\" class=\"data row5 col2\" >271.681</td>\n",
       "                        <td id=\"T_26e62276_aa7c_11eb_afc2_02420a39b750row5_col3\" class=\"data row5 col3\" >1228.02</td>\n",
       "            </tr>\n",
       "            <tr>\n",
       "                        <th id=\"T_26e62276_aa7c_11eb_afc2_02420a39b750level0_row6\" class=\"row_heading level0 row6\" >7</th>\n",
       "                        <td id=\"T_26e62276_aa7c_11eb_afc2_02420a39b750row6_col0\" class=\"data row6 col0\" >482.121</td>\n",
       "                        <td id=\"T_26e62276_aa7c_11eb_afc2_02420a39b750row6_col1\" class=\"data row6 col1\" >84723</td>\n",
       "                        <td id=\"T_26e62276_aa7c_11eb_afc2_02420a39b750row6_col2\" class=\"data row6 col2\" >291.072</td>\n",
       "                        <td id=\"T_26e62276_aa7c_11eb_afc2_02420a39b750row6_col3\" class=\"data row6 col3\" >1355.34</td>\n",
       "            </tr>\n",
       "            <tr>\n",
       "                        <th id=\"T_26e62276_aa7c_11eb_afc2_02420a39b750level0_row7\" class=\"row_heading level0 row7\" >8</th>\n",
       "                        <td id=\"T_26e62276_aa7c_11eb_afc2_02420a39b750row7_col0\" class=\"data row7 col0\" >457.57</td>\n",
       "                        <td id=\"T_26e62276_aa7c_11eb_afc2_02420a39b750row7_col1\" class=\"data row7 col1\" >88380.3</td>\n",
       "                        <td id=\"T_26e62276_aa7c_11eb_afc2_02420a39b750row7_col2\" class=\"data row7 col2\" >297.288</td>\n",
       "                        <td id=\"T_26e62276_aa7c_11eb_afc2_02420a39b750row7_col3\" class=\"data row7 col3\" >1349.43</td>\n",
       "            </tr>\n",
       "            <tr>\n",
       "                        <th id=\"T_26e62276_aa7c_11eb_afc2_02420a39b750level0_row8\" class=\"row_heading level0 row8\" >9</th>\n",
       "                        <td id=\"T_26e62276_aa7c_11eb_afc2_02420a39b750row8_col0\" class=\"data row8 col0\" >490.8</td>\n",
       "                        <td id=\"T_26e62276_aa7c_11eb_afc2_02420a39b750row8_col1\" class=\"data row8 col1\" >100596</td>\n",
       "                        <td id=\"T_26e62276_aa7c_11eb_afc2_02420a39b750row8_col2\" class=\"data row8 col2\" >317.169</td>\n",
       "                        <td id=\"T_26e62276_aa7c_11eb_afc2_02420a39b750row8_col3\" class=\"data row8 col3\" >1442.31</td>\n",
       "            </tr>\n",
       "            <tr>\n",
       "                        <th id=\"T_26e62276_aa7c_11eb_afc2_02420a39b750level0_row9\" class=\"row_heading level0 row9\" >10</th>\n",
       "                        <td id=\"T_26e62276_aa7c_11eb_afc2_02420a39b750row9_col0\" class=\"data row9 col0\" >510.537</td>\n",
       "                        <td id=\"T_26e62276_aa7c_11eb_afc2_02420a39b750row9_col1\" class=\"data row9 col1\" >100523</td>\n",
       "                        <td id=\"T_26e62276_aa7c_11eb_afc2_02420a39b750row9_col2\" class=\"data row9 col2\" >317.054</td>\n",
       "                        <td id=\"T_26e62276_aa7c_11eb_afc2_02420a39b750row9_col3\" class=\"data row9 col3\" >1461.7</td>\n",
       "            </tr>\n",
       "            <tr>\n",
       "                        <th id=\"T_26e62276_aa7c_11eb_afc2_02420a39b750level0_row10\" class=\"row_heading level0 row10\" >11</th>\n",
       "                        <td id=\"T_26e62276_aa7c_11eb_afc2_02420a39b750row10_col0\" class=\"data row10 col0\" >501.104</td>\n",
       "                        <td id=\"T_26e62276_aa7c_11eb_afc2_02420a39b750row10_col1\" class=\"data row10 col1\" >94758.1</td>\n",
       "                        <td id=\"T_26e62276_aa7c_11eb_afc2_02420a39b750row10_col2\" class=\"data row10 col2\" >307.828</td>\n",
       "                        <td id=\"T_26e62276_aa7c_11eb_afc2_02420a39b750row10_col3\" class=\"data row10 col3\" >1424.59</td>\n",
       "            </tr>\n",
       "            <tr>\n",
       "                        <th id=\"T_26e62276_aa7c_11eb_afc2_02420a39b750level0_row11\" class=\"row_heading level0 row11\" >12</th>\n",
       "                        <td id=\"T_26e62276_aa7c_11eb_afc2_02420a39b750row11_col0\" class=\"data row11 col0\" >553.302</td>\n",
       "                        <td id=\"T_26e62276_aa7c_11eb_afc2_02420a39b750row11_col1\" class=\"data row11 col1\" >118274</td>\n",
       "                        <td id=\"T_26e62276_aa7c_11eb_afc2_02420a39b750row11_col2\" class=\"data row11 col2\" >343.909</td>\n",
       "                        <td id=\"T_26e62276_aa7c_11eb_afc2_02420a39b750row11_col3\" class=\"data row11 col3\" >1585.03</td>\n",
       "            </tr>\n",
       "    </tbody></table>"
      ],
      "text/plain": [
       "<pandas.io.formats.style.Styler at 0x7f1d139c7950>"
      ]
     },
     "execution_count": 69,
     "metadata": {},
     "output_type": "execute_result"
    }
   ],
   "source": [
    "calls_month_ultra = data_final[data_final['tariff'] == \"ultra\"].pivot_table(index = 'month', values = ['duration'], \n",
    "                                                                      aggfunc = ['mean', 'var', 'std'])\n",
    "calls_month_ultra.columns = ['mean_duration','var_duration', 'std_duration']\n",
    "calls_month_ultra['adv_duration'] = calls_month_ultra['mean_duration'] + (calls_month_ultra['std_duration'] * 3)\n",
    "calls_month_ultra.head(13).style.apply(highlight_max).apply(highlight_min)"
   ]
  },
  {
   "cell_type": "code",
   "execution_count": 70,
   "metadata": {},
   "outputs": [
    {
     "data": {
      "text/plain": [
       "Text(0, 0.5, 'Количество значений')"
      ]
     },
     "execution_count": 70,
     "metadata": {},
     "output_type": "execute_result"
    },
    {
     "data": {
      "image/png": "[encoded data removed]",
      "text/plain": [
       "<Figure size 432x288 with 1 Axes>"
      ]
     },
     "metadata": {
      "needs_background": "light"
     },
     "output_type": "display_data"
    }
   ],
   "source": [
    "calls_month_ultra['mean_duration'].hist(bins = 5)\n",
    "plt.title('Средняя длительность разговора по тарифу УЛЬТРА')\n",
    "plt.xlabel('Сумма минут')\n",
    "plt.ylabel('Количество значений')"
   ]
  },
  {
   "cell_type": "code",
   "execution_count": 71,
   "metadata": {},
   "outputs": [
    {
     "data": {
      "text/plain": [
       "count     12.000000\n",
       "mean     430.161690\n",
       "std       95.086665\n",
       "min      214.541667\n",
       "25%      400.094840\n",
       "50%      450.792509\n",
       "75%      493.376119\n",
       "max      553.302158\n",
       "Name: mean_duration, dtype: float64"
      ]
     },
     "execution_count": 71,
     "metadata": {},
     "output_type": "execute_result"
    }
   ],
   "source": [
    "calls_month_ultra['mean_duration'].describe()"
   ]
  },
  {
   "cell_type": "code",
   "execution_count": 72,
   "metadata": {},
   "outputs": [
    {
     "data": {
      "text/plain": [
       "count      12.000000\n",
       "mean     1295.819323\n",
       "std       175.602505\n",
       "min       948.913970\n",
       "25%      1177.282292\n",
       "50%      1314.748244\n",
       "75%      1429.018139\n",
       "max      1585.029919\n",
       "Name: adv_duration, dtype: float64"
      ]
     },
     "execution_count": 72,
     "metadata": {},
     "output_type": "execute_result"
    }
   ],
   "source": [
    "calls_month_ultra['adv_duration'].describe()"
   ]
  },
  {
   "cell_type": "markdown",
   "metadata": {},
   "source": [
    "На тарифе ультра пользователи в среднем общаются 430 минут в месяц. При этом, чтобы удовлетворить потребности в голосовом общении большинства пользователей, в месяц должно быть доступно около 1300 минут."
   ]
  },
  {
   "cell_type": "markdown",
   "metadata": {},
   "source": [
    "### Показатели по количеству сообщений"
   ]
  },
  {
   "cell_type": "code",
   "execution_count": 73,
   "metadata": {},
   "outputs": [
    {
     "data": {
      "text/html": [
       "<style  type=\"text/css\" >\n",
       "    #T_272d7338_aa7c_11eb_afc2_02420a39b750row0_col0 {\n",
       "            : ;\n",
       "            background-color:  green;\n",
       "        }    #T_272d7338_aa7c_11eb_afc2_02420a39b750row0_col1 {\n",
       "            : ;\n",
       "            background-color:  green;\n",
       "        }    #T_272d7338_aa7c_11eb_afc2_02420a39b750row0_col2 {\n",
       "            : ;\n",
       "            background-color:  green;\n",
       "        }    #T_272d7338_aa7c_11eb_afc2_02420a39b750row0_col3 {\n",
       "            : ;\n",
       "            background-color:  green;\n",
       "        }    #T_272d7338_aa7c_11eb_afc2_02420a39b750row11_col0 {\n",
       "            background-color:  yellow;\n",
       "            : ;\n",
       "        }    #T_272d7338_aa7c_11eb_afc2_02420a39b750row11_col1 {\n",
       "            background-color:  yellow;\n",
       "            : ;\n",
       "        }    #T_272d7338_aa7c_11eb_afc2_02420a39b750row11_col2 {\n",
       "            background-color:  yellow;\n",
       "            : ;\n",
       "        }    #T_272d7338_aa7c_11eb_afc2_02420a39b750row11_col3 {\n",
       "            background-color:  yellow;\n",
       "            : ;\n",
       "        }</style><table id=\"T_272d7338_aa7c_11eb_afc2_02420a39b750\" ><thead>    <tr>        <th class=\"blank level0\" ></th>        <th class=\"col_heading level0 col0\" >mean_messages</th>        <th class=\"col_heading level0 col1\" >var_messages</th>        <th class=\"col_heading level0 col2\" >std_messages</th>        <th class=\"col_heading level0 col3\" >adv_messages</th>    </tr>    <tr>        <th class=\"index_name level0\" >month</th>        <th class=\"blank\" ></th>        <th class=\"blank\" ></th>        <th class=\"blank\" ></th>        <th class=\"blank\" ></th>    </tr></thead><tbody>\n",
       "                <tr>\n",
       "                        <th id=\"T_272d7338_aa7c_11eb_afc2_02420a39b750level0_row0\" class=\"row_heading level0 row0\" >1</th>\n",
       "                        <td id=\"T_272d7338_aa7c_11eb_afc2_02420a39b750row0_col0\" class=\"data row0 col0\" >18.2353</td>\n",
       "                        <td id=\"T_272d7338_aa7c_11eb_afc2_02420a39b750row0_col1\" class=\"data row0 col1\" >262.367</td>\n",
       "                        <td id=\"T_272d7338_aa7c_11eb_afc2_02420a39b750row0_col2\" class=\"data row0 col2\" >16.1978</td>\n",
       "                        <td id=\"T_272d7338_aa7c_11eb_afc2_02420a39b750row0_col3\" class=\"data row0 col3\" >66.8286</td>\n",
       "            </tr>\n",
       "            <tr>\n",
       "                        <th id=\"T_272d7338_aa7c_11eb_afc2_02420a39b750level0_row1\" class=\"row_heading level0 row1\" >2</th>\n",
       "                        <td id=\"T_272d7338_aa7c_11eb_afc2_02420a39b750row1_col0\" class=\"data row1 col0\" >24.0862</td>\n",
       "                        <td id=\"T_272d7338_aa7c_11eb_afc2_02420a39b750row1_col1\" class=\"data row1 col1\" >473.098</td>\n",
       "                        <td id=\"T_272d7338_aa7c_11eb_afc2_02420a39b750row1_col2\" class=\"data row1 col2\" >21.7508</td>\n",
       "                        <td id=\"T_272d7338_aa7c_11eb_afc2_02420a39b750row1_col3\" class=\"data row1 col3\" >89.3386</td>\n",
       "            </tr>\n",
       "            <tr>\n",
       "                        <th id=\"T_272d7338_aa7c_11eb_afc2_02420a39b750level0_row2\" class=\"row_heading level0 row2\" >3</th>\n",
       "                        <td id=\"T_272d7338_aa7c_11eb_afc2_02420a39b750row2_col0\" class=\"data row2 col0\" >31.8571</td>\n",
       "                        <td id=\"T_272d7338_aa7c_11eb_afc2_02420a39b750row2_col1\" class=\"data row2 col1\" >718.492</td>\n",
       "                        <td id=\"T_272d7338_aa7c_11eb_afc2_02420a39b750row2_col2\" class=\"data row2 col2\" >26.8047</td>\n",
       "                        <td id=\"T_272d7338_aa7c_11eb_afc2_02420a39b750row2_col3\" class=\"data row2 col3\" >112.271</td>\n",
       "            </tr>\n",
       "            <tr>\n",
       "                        <th id=\"T_272d7338_aa7c_11eb_afc2_02420a39b750level0_row3\" class=\"row_heading level0 row3\" >4</th>\n",
       "                        <td id=\"T_272d7338_aa7c_11eb_afc2_02420a39b750row3_col0\" class=\"data row3 col0\" >30.7411</td>\n",
       "                        <td id=\"T_272d7338_aa7c_11eb_afc2_02420a39b750row3_col1\" class=\"data row3 col1\" >602.14</td>\n",
       "                        <td id=\"T_272d7338_aa7c_11eb_afc2_02420a39b750row3_col2\" class=\"data row3 col2\" >24.5385</td>\n",
       "                        <td id=\"T_272d7338_aa7c_11eb_afc2_02420a39b750row3_col3\" class=\"data row3 col3\" >104.357</td>\n",
       "            </tr>\n",
       "            <tr>\n",
       "                        <th id=\"T_272d7338_aa7c_11eb_afc2_02420a39b750level0_row4\" class=\"row_heading level0 row4\" >5</th>\n",
       "                        <td id=\"T_272d7338_aa7c_11eb_afc2_02420a39b750row4_col0\" class=\"data row4 col0\" >33.773</td>\n",
       "                        <td id=\"T_272d7338_aa7c_11eb_afc2_02420a39b750row4_col1\" class=\"data row4 col1\" >730.991</td>\n",
       "                        <td id=\"T_272d7338_aa7c_11eb_afc2_02420a39b750row4_col2\" class=\"data row4 col2\" >27.0368</td>\n",
       "                        <td id=\"T_272d7338_aa7c_11eb_afc2_02420a39b750row4_col3\" class=\"data row4 col3\" >114.884</td>\n",
       "            </tr>\n",
       "            <tr>\n",
       "                        <th id=\"T_272d7338_aa7c_11eb_afc2_02420a39b750level0_row5\" class=\"row_heading level0 row5\" >6</th>\n",
       "                        <td id=\"T_272d7338_aa7c_11eb_afc2_02420a39b750row5_col0\" class=\"data row5 col0\" >33.4024</td>\n",
       "                        <td id=\"T_272d7338_aa7c_11eb_afc2_02420a39b750row5_col1\" class=\"data row5 col1\" >806.806</td>\n",
       "                        <td id=\"T_272d7338_aa7c_11eb_afc2_02420a39b750row5_col2\" class=\"data row5 col2\" >28.4043</td>\n",
       "                        <td id=\"T_272d7338_aa7c_11eb_afc2_02420a39b750row5_col3\" class=\"data row5 col3\" >118.615</td>\n",
       "            </tr>\n",
       "            <tr>\n",
       "                        <th id=\"T_272d7338_aa7c_11eb_afc2_02420a39b750level0_row6\" class=\"row_heading level0 row6\" >7</th>\n",
       "                        <td id=\"T_272d7338_aa7c_11eb_afc2_02420a39b750row6_col0\" class=\"data row6 col0\" >33.7512</td>\n",
       "                        <td id=\"T_272d7338_aa7c_11eb_afc2_02420a39b750row6_col1\" class=\"data row6 col1\" >799.888</td>\n",
       "                        <td id=\"T_272d7338_aa7c_11eb_afc2_02420a39b750row6_col2\" class=\"data row6 col2\" >28.2823</td>\n",
       "                        <td id=\"T_272d7338_aa7c_11eb_afc2_02420a39b750row6_col3\" class=\"data row6 col3\" >118.598</td>\n",
       "            </tr>\n",
       "            <tr>\n",
       "                        <th id=\"T_272d7338_aa7c_11eb_afc2_02420a39b750level0_row7\" class=\"row_heading level0 row7\" >8</th>\n",
       "                        <td id=\"T_272d7338_aa7c_11eb_afc2_02420a39b750row7_col0\" class=\"data row7 col0\" >33.6383</td>\n",
       "                        <td id=\"T_272d7338_aa7c_11eb_afc2_02420a39b750row7_col1\" class=\"data row7 col1\" >838.258</td>\n",
       "                        <td id=\"T_272d7338_aa7c_11eb_afc2_02420a39b750row7_col2\" class=\"data row7 col2\" >28.9527</td>\n",
       "                        <td id=\"T_272d7338_aa7c_11eb_afc2_02420a39b750row7_col3\" class=\"data row7 col3\" >120.496</td>\n",
       "            </tr>\n",
       "            <tr>\n",
       "                        <th id=\"T_272d7338_aa7c_11eb_afc2_02420a39b750level0_row8\" class=\"row_heading level0 row8\" >9</th>\n",
       "                        <td id=\"T_272d7338_aa7c_11eb_afc2_02420a39b750row8_col0\" class=\"data row8 col0\" >33.6385</td>\n",
       "                        <td id=\"T_272d7338_aa7c_11eb_afc2_02420a39b750row8_col1\" class=\"data row8 col1\" >790.618</td>\n",
       "                        <td id=\"T_272d7338_aa7c_11eb_afc2_02420a39b750row8_col2\" class=\"data row8 col2\" >28.1179</td>\n",
       "                        <td id=\"T_272d7338_aa7c_11eb_afc2_02420a39b750row8_col3\" class=\"data row8 col3\" >117.992</td>\n",
       "            </tr>\n",
       "            <tr>\n",
       "                        <th id=\"T_272d7338_aa7c_11eb_afc2_02420a39b750level0_row9\" class=\"row_heading level0 row9\" >10</th>\n",
       "                        <td id=\"T_272d7338_aa7c_11eb_afc2_02420a39b750row9_col0\" class=\"data row9 col0\" >33.7653</td>\n",
       "                        <td id=\"T_272d7338_aa7c_11eb_afc2_02420a39b750row9_col1\" class=\"data row9 col1\" >816.112</td>\n",
       "                        <td id=\"T_272d7338_aa7c_11eb_afc2_02420a39b750row9_col2\" class=\"data row9 col2\" >28.5677</td>\n",
       "                        <td id=\"T_272d7338_aa7c_11eb_afc2_02420a39b750row9_col3\" class=\"data row9 col3\" >119.468</td>\n",
       "            </tr>\n",
       "            <tr>\n",
       "                        <th id=\"T_272d7338_aa7c_11eb_afc2_02420a39b750level0_row10\" class=\"row_heading level0 row10\" >11</th>\n",
       "                        <td id=\"T_272d7338_aa7c_11eb_afc2_02420a39b750row10_col0\" class=\"data row10 col0\" >34.0759</td>\n",
       "                        <td id=\"T_272d7338_aa7c_11eb_afc2_02420a39b750row10_col1\" class=\"data row10 col1\" >805.937</td>\n",
       "                        <td id=\"T_272d7338_aa7c_11eb_afc2_02420a39b750row10_col2\" class=\"data row10 col2\" >28.389</td>\n",
       "                        <td id=\"T_272d7338_aa7c_11eb_afc2_02420a39b750row10_col3\" class=\"data row10 col3\" >119.243</td>\n",
       "            </tr>\n",
       "            <tr>\n",
       "                        <th id=\"T_272d7338_aa7c_11eb_afc2_02420a39b750level0_row11\" class=\"row_heading level0 row11\" >12</th>\n",
       "                        <td id=\"T_272d7338_aa7c_11eb_afc2_02420a39b750row11_col0\" class=\"data row11 col0\" >35.9941</td>\n",
       "                        <td id=\"T_272d7338_aa7c_11eb_afc2_02420a39b750row11_col1\" class=\"data row11 col1\" >934.952</td>\n",
       "                        <td id=\"T_272d7338_aa7c_11eb_afc2_02420a39b750row11_col2\" class=\"data row11 col2\" >30.577</td>\n",
       "                        <td id=\"T_272d7338_aa7c_11eb_afc2_02420a39b750row11_col3\" class=\"data row11 col3\" >127.725</td>\n",
       "            </tr>\n",
       "    </tbody></table>"
      ],
      "text/plain": [
       "<pandas.io.formats.style.Styler at 0x7f1d909369d0>"
      ]
     },
     "execution_count": 73,
     "metadata": {},
     "output_type": "execute_result"
    }
   ],
   "source": [
    "messages_month_smart = data_final[data_final['tariff'] == \"smart\"].pivot_table(index = 'month', values = ['all_messages'], \n",
    "                                                                      aggfunc = ['mean', 'var', 'std'])\n",
    "messages_month_smart.columns = ['mean_messages','var_messages', 'std_messages']\n",
    "messages_month_smart['adv_messages'] = messages_month_smart['mean_messages'] + (messages_month_smart['std_messages'] * 3)\n",
    "messages_month_smart.head(13).style.apply(highlight_max).apply(highlight_min)"
   ]
  },
  {
   "cell_type": "code",
   "execution_count": 74,
   "metadata": {},
   "outputs": [
    {
     "data": {
      "text/plain": [
       "Text(0, 0.5, 'Количество значений')"
      ]
     },
     "execution_count": 74,
     "metadata": {},
     "output_type": "execute_result"
    },
    {
     "data": {
      "image/png": "[encoded data removed]",
      "text/plain": [
       "<Figure size 432x288 with 1 Axes>"
      ]
     },
     "metadata": {
      "needs_background": "light"
     },
     "output_type": "display_data"
    }
   ],
   "source": [
    "messages_month_smart['mean_messages'].hist(bins = 5)\n",
    "plt.title('Среднее количество смс за месяц по тарифу СМАРТ')\n",
    "plt.xlabel('Количество смс за месяц')\n",
    "plt.ylabel('Количество значений')"
   ]
  },
  {
   "cell_type": "code",
   "execution_count": 75,
   "metadata": {},
   "outputs": [
    {
     "data": {
      "text/plain": [
       "count    12.000000\n",
       "mean     31.413211\n",
       "std       5.103413\n",
       "min      18.235294\n",
       "25%      31.578125\n",
       "50%      33.638380\n",
       "75%      33.767242\n",
       "max      35.994065\n",
       "Name: mean_messages, dtype: float64"
      ]
     },
     "execution_count": 75,
     "metadata": {},
     "output_type": "execute_result"
    }
   ],
   "source": [
    "messages_month_smart['mean_messages'].describe()"
   ]
  },
  {
   "cell_type": "code",
   "execution_count": 76,
   "metadata": {},
   "outputs": [
    {
     "data": {
      "text/plain": [
       "count     12.000000\n",
       "mean     110.818104\n",
       "std       16.935578\n",
       "min       66.828553\n",
       "25%      110.292622\n",
       "50%      118.295175\n",
       "75%      119.299363\n",
       "max      127.725037\n",
       "Name: adv_messages, dtype: float64"
      ]
     },
     "execution_count": 76,
     "metadata": {},
     "output_type": "execute_result"
    }
   ],
   "source": [
    "messages_month_smart['adv_messages'].describe()"
   ]
  },
  {
   "cell_type": "markdown",
   "metadata": {},
   "source": [
    "На тарифе смарт пользователи в среднем отправляют 31 сообщение в месяц. При этом, чтобы удовлетворить потребности большинства пользователей, в месяц должно быть доступно в среднем 110 сообщений."
   ]
  },
  {
   "cell_type": "code",
   "execution_count": 77,
   "metadata": {},
   "outputs": [
    {
     "data": {
      "text/html": [
       "<style  type=\"text/css\" >\n",
       "    #T_277888aa_aa7c_11eb_afc2_02420a39b750row1_col0 {\n",
       "            : ;\n",
       "            background-color:  green;\n",
       "        }    #T_277888aa_aa7c_11eb_afc2_02420a39b750row1_col1 {\n",
       "            : ;\n",
       "            background-color:  green;\n",
       "        }    #T_277888aa_aa7c_11eb_afc2_02420a39b750row1_col2 {\n",
       "            : ;\n",
       "            background-color:  green;\n",
       "        }    #T_277888aa_aa7c_11eb_afc2_02420a39b750row1_col3 {\n",
       "            : ;\n",
       "            background-color:  green;\n",
       "        }    #T_277888aa_aa7c_11eb_afc2_02420a39b750row9_col1 {\n",
       "            background-color:  yellow;\n",
       "            : ;\n",
       "        }    #T_277888aa_aa7c_11eb_afc2_02420a39b750row9_col2 {\n",
       "            background-color:  yellow;\n",
       "            : ;\n",
       "        }    #T_277888aa_aa7c_11eb_afc2_02420a39b750row11_col0 {\n",
       "            background-color:  yellow;\n",
       "            : ;\n",
       "        }    #T_277888aa_aa7c_11eb_afc2_02420a39b750row11_col3 {\n",
       "            background-color:  yellow;\n",
       "            : ;\n",
       "        }</style><table id=\"T_277888aa_aa7c_11eb_afc2_02420a39b750\" ><thead>    <tr>        <th class=\"blank level0\" ></th>        <th class=\"col_heading level0 col0\" >mean_messages</th>        <th class=\"col_heading level0 col1\" >var_messages</th>        <th class=\"col_heading level0 col2\" >std_messages</th>        <th class=\"col_heading level0 col3\" >adv_messages</th>    </tr>    <tr>        <th class=\"index_name level0\" >month</th>        <th class=\"blank\" ></th>        <th class=\"blank\" ></th>        <th class=\"blank\" ></th>        <th class=\"blank\" ></th>    </tr></thead><tbody>\n",
       "                <tr>\n",
       "                        <th id=\"T_277888aa_aa7c_11eb_afc2_02420a39b750level0_row0\" class=\"row_heading level0 row0\" >1</th>\n",
       "                        <td id=\"T_277888aa_aa7c_11eb_afc2_02420a39b750row0_col0\" class=\"data row0 col0\" >33.7778</td>\n",
       "                        <td id=\"T_277888aa_aa7c_11eb_afc2_02420a39b750row0_col1\" class=\"data row0 col1\" >940.694</td>\n",
       "                        <td id=\"T_277888aa_aa7c_11eb_afc2_02420a39b750row0_col2\" class=\"data row0 col2\" >30.6707</td>\n",
       "                        <td id=\"T_277888aa_aa7c_11eb_afc2_02420a39b750row0_col3\" class=\"data row0 col3\" >125.79</td>\n",
       "            </tr>\n",
       "            <tr>\n",
       "                        <th id=\"T_277888aa_aa7c_11eb_afc2_02420a39b750level0_row1\" class=\"row_heading level0 row1\" >2</th>\n",
       "                        <td id=\"T_277888aa_aa7c_11eb_afc2_02420a39b750row1_col0\" class=\"data row1 col0\" >21.9583</td>\n",
       "                        <td id=\"T_277888aa_aa7c_11eb_afc2_02420a39b750row1_col1\" class=\"data row1 col1\" >716.824</td>\n",
       "                        <td id=\"T_277888aa_aa7c_11eb_afc2_02420a39b750row1_col2\" class=\"data row1 col2\" >26.7736</td>\n",
       "                        <td id=\"T_277888aa_aa7c_11eb_afc2_02420a39b750row1_col3\" class=\"data row1 col3\" >102.279</td>\n",
       "            </tr>\n",
       "            <tr>\n",
       "                        <th id=\"T_277888aa_aa7c_11eb_afc2_02420a39b750level0_row2\" class=\"row_heading level0 row2\" >3</th>\n",
       "                        <td id=\"T_277888aa_aa7c_11eb_afc2_02420a39b750row2_col0\" class=\"data row2 col0\" >32.2973</td>\n",
       "                        <td id=\"T_277888aa_aa7c_11eb_afc2_02420a39b750row2_col1\" class=\"data row2 col1\" >1732.38</td>\n",
       "                        <td id=\"T_277888aa_aa7c_11eb_afc2_02420a39b750row2_col2\" class=\"data row2 col2\" >41.6219</td>\n",
       "                        <td id=\"T_277888aa_aa7c_11eb_afc2_02420a39b750row2_col3\" class=\"data row2 col3\" >157.163</td>\n",
       "            </tr>\n",
       "            <tr>\n",
       "                        <th id=\"T_277888aa_aa7c_11eb_afc2_02420a39b750level0_row3\" class=\"row_heading level0 row3\" >4</th>\n",
       "                        <td id=\"T_277888aa_aa7c_11eb_afc2_02420a39b750row3_col0\" class=\"data row3 col0\" >31.5636</td>\n",
       "                        <td id=\"T_277888aa_aa7c_11eb_afc2_02420a39b750row3_col1\" class=\"data row3 col1\" >1407.29</td>\n",
       "                        <td id=\"T_277888aa_aa7c_11eb_afc2_02420a39b750row3_col2\" class=\"data row3 col2\" >37.5138</td>\n",
       "                        <td id=\"T_277888aa_aa7c_11eb_afc2_02420a39b750row3_col3\" class=\"data row3 col3\" >144.105</td>\n",
       "            </tr>\n",
       "            <tr>\n",
       "                        <th id=\"T_277888aa_aa7c_11eb_afc2_02420a39b750level0_row4\" class=\"row_heading level0 row4\" >5</th>\n",
       "                        <td id=\"T_277888aa_aa7c_11eb_afc2_02420a39b750row4_col0\" class=\"data row4 col0\" >37.8507</td>\n",
       "                        <td id=\"T_277888aa_aa7c_11eb_afc2_02420a39b750row4_col1\" class=\"data row4 col1\" >1624.64</td>\n",
       "                        <td id=\"T_277888aa_aa7c_11eb_afc2_02420a39b750row4_col2\" class=\"data row4 col2\" >40.3069</td>\n",
       "                        <td id=\"T_277888aa_aa7c_11eb_afc2_02420a39b750row4_col3\" class=\"data row4 col3\" >158.771</td>\n",
       "            </tr>\n",
       "            <tr>\n",
       "                        <th id=\"T_277888aa_aa7c_11eb_afc2_02420a39b750level0_row5\" class=\"row_heading level0 row5\" >6</th>\n",
       "                        <td id=\"T_277888aa_aa7c_11eb_afc2_02420a39b750row5_col0\" class=\"data row5 col0\" >41.7262</td>\n",
       "                        <td id=\"T_277888aa_aa7c_11eb_afc2_02420a39b750row5_col1\" class=\"data row5 col1\" >1986.3</td>\n",
       "                        <td id=\"T_277888aa_aa7c_11eb_afc2_02420a39b750row5_col2\" class=\"data row5 col2\" >44.5679</td>\n",
       "                        <td id=\"T_277888aa_aa7c_11eb_afc2_02420a39b750row5_col3\" class=\"data row5 col3\" >175.43</td>\n",
       "            </tr>\n",
       "            <tr>\n",
       "                        <th id=\"T_277888aa_aa7c_11eb_afc2_02420a39b750level0_row6\" class=\"row_heading level0 row6\" >7</th>\n",
       "                        <td id=\"T_277888aa_aa7c_11eb_afc2_02420a39b750row6_col0\" class=\"data row6 col0\" >49.8462</td>\n",
       "                        <td id=\"T_277888aa_aa7c_11eb_afc2_02420a39b750row6_col1\" class=\"data row6 col1\" >2372.04</td>\n",
       "                        <td id=\"T_277888aa_aa7c_11eb_afc2_02420a39b750row6_col2\" class=\"data row6 col2\" >48.7036</td>\n",
       "                        <td id=\"T_277888aa_aa7c_11eb_afc2_02420a39b750row6_col3\" class=\"data row6 col3\" >195.957</td>\n",
       "            </tr>\n",
       "            <tr>\n",
       "                        <th id=\"T_277888aa_aa7c_11eb_afc2_02420a39b750level0_row7\" class=\"row_heading level0 row7\" >8</th>\n",
       "                        <td id=\"T_277888aa_aa7c_11eb_afc2_02420a39b750row7_col0\" class=\"data row7 col0\" >48.4393</td>\n",
       "                        <td id=\"T_277888aa_aa7c_11eb_afc2_02420a39b750row7_col1\" class=\"data row7 col1\" >2171.74</td>\n",
       "                        <td id=\"T_277888aa_aa7c_11eb_afc2_02420a39b750row7_col2\" class=\"data row7 col2\" >46.6019</td>\n",
       "                        <td id=\"T_277888aa_aa7c_11eb_afc2_02420a39b750row7_col3\" class=\"data row7 col3\" >188.245</td>\n",
       "            </tr>\n",
       "            <tr>\n",
       "                        <th id=\"T_277888aa_aa7c_11eb_afc2_02420a39b750level0_row8\" class=\"row_heading level0 row8\" >9</th>\n",
       "                        <td id=\"T_277888aa_aa7c_11eb_afc2_02420a39b750row8_col0\" class=\"data row8 col0\" >52.287</td>\n",
       "                        <td id=\"T_277888aa_aa7c_11eb_afc2_02420a39b750row8_col1\" class=\"data row8 col1\" >2152.86</td>\n",
       "                        <td id=\"T_277888aa_aa7c_11eb_afc2_02420a39b750row8_col2\" class=\"data row8 col2\" >46.3989</td>\n",
       "                        <td id=\"T_277888aa_aa7c_11eb_afc2_02420a39b750row8_col3\" class=\"data row8 col3\" >191.484</td>\n",
       "            </tr>\n",
       "            <tr>\n",
       "                        <th id=\"T_277888aa_aa7c_11eb_afc2_02420a39b750level0_row9\" class=\"row_heading level0 row9\" >10</th>\n",
       "                        <td id=\"T_277888aa_aa7c_11eb_afc2_02420a39b750row9_col0\" class=\"data row9 col0\" >58.4309</td>\n",
       "                        <td id=\"T_277888aa_aa7c_11eb_afc2_02420a39b750row9_col1\" class=\"data row9 col1\" >2697.18</td>\n",
       "                        <td id=\"T_277888aa_aa7c_11eb_afc2_02420a39b750row9_col2\" class=\"data row9 col2\" >51.9344</td>\n",
       "                        <td id=\"T_277888aa_aa7c_11eb_afc2_02420a39b750row9_col3\" class=\"data row9 col3\" >214.234</td>\n",
       "            </tr>\n",
       "            <tr>\n",
       "                        <th id=\"T_277888aa_aa7c_11eb_afc2_02420a39b750level0_row10\" class=\"row_heading level0 row10\" >11</th>\n",
       "                        <td id=\"T_277888aa_aa7c_11eb_afc2_02420a39b750row10_col0\" class=\"data row10 col0\" >55.791</td>\n",
       "                        <td id=\"T_277888aa_aa7c_11eb_afc2_02420a39b750row10_col1\" class=\"data row10 col1\" >2476.95</td>\n",
       "                        <td id=\"T_277888aa_aa7c_11eb_afc2_02420a39b750row10_col2\" class=\"data row10 col2\" >49.769</td>\n",
       "                        <td id=\"T_277888aa_aa7c_11eb_afc2_02420a39b750row10_col3\" class=\"data row10 col3\" >205.098</td>\n",
       "            </tr>\n",
       "            <tr>\n",
       "                        <th id=\"T_277888aa_aa7c_11eb_afc2_02420a39b750level0_row11\" class=\"row_heading level0 row11\" >12</th>\n",
       "                        <td id=\"T_277888aa_aa7c_11eb_afc2_02420a39b750row11_col0\" class=\"data row11 col0\" >60.6115</td>\n",
       "                        <td id=\"T_277888aa_aa7c_11eb_afc2_02420a39b750row11_col1\" class=\"data row11 col1\" >2681.98</td>\n",
       "                        <td id=\"T_277888aa_aa7c_11eb_afc2_02420a39b750row11_col2\" class=\"data row11 col2\" >51.7878</td>\n",
       "                        <td id=\"T_277888aa_aa7c_11eb_afc2_02420a39b750row11_col3\" class=\"data row11 col3\" >215.975</td>\n",
       "            </tr>\n",
       "    </tbody></table>"
      ],
      "text/plain": [
       "<pandas.io.formats.style.Styler at 0x7f1d909576d0>"
      ]
     },
     "execution_count": 77,
     "metadata": {},
     "output_type": "execute_result"
    }
   ],
   "source": [
    "messages_month_ultra = data_final[data_final['tariff'] == \"ultra\"].pivot_table(index = 'month', values = ['all_messages'], \n",
    "                                                                      aggfunc = ['mean', 'var', 'std'])\n",
    "messages_month_ultra.columns = ['mean_messages','var_messages', 'std_messages']\n",
    "messages_month_ultra['adv_messages'] = messages_month_ultra['mean_messages'] + (messages_month_ultra['std_messages'] * 3)\n",
    "messages_month_ultra.head(13).style.apply(highlight_max).apply(highlight_min)"
   ]
  },
  {
   "cell_type": "code",
   "execution_count": 78,
   "metadata": {},
   "outputs": [
    {
     "data": {
      "text/plain": [
       "Text(0, 0.5, 'Количество значений')"
      ]
     },
     "execution_count": 78,
     "metadata": {},
     "output_type": "execute_result"
    },
    {
     "data": {
      "image/png": "[encoded data removed]",
      "text/plain": [
       "<Figure size 432x288 with 1 Axes>"
      ]
     },
     "metadata": {
      "needs_background": "light"
     },
     "output_type": "display_data"
    }
   ],
   "source": [
    "messages_month_ultra['mean_messages'].hist(bins = 4)\n",
    "plt.title('Среднее количество смс за месяц по тарифу УЛЬТРА')\n",
    "plt.xlabel('Количество смс за месяц')\n",
    "plt.ylabel('Количество значений')"
   ]
  },
  {
   "cell_type": "code",
   "execution_count": 79,
   "metadata": {},
   "outputs": [
    {
     "data": {
      "text/plain": [
       "count    12.000000\n",
       "mean     43.714983\n",
       "std      12.320470\n",
       "min      21.958333\n",
       "25%      33.407658\n",
       "50%      45.082721\n",
       "75%      53.162979\n",
       "max      60.611511\n",
       "Name: mean_messages, dtype: float64"
      ]
     },
     "execution_count": 79,
     "metadata": {},
     "output_type": "execute_result"
    }
   ],
   "source": [
    "messages_month_ultra['mean_messages'].describe()"
   ]
  },
  {
   "cell_type": "code",
   "execution_count": 80,
   "metadata": {},
   "outputs": [],
   "source": [
    "#messages_month_ultra['adv_messages'].hist(bins = 5)"
   ]
  },
  {
   "cell_type": "code",
   "execution_count": 81,
   "metadata": {},
   "outputs": [
    {
     "data": {
      "text/plain": [
       "count     12.000000\n",
       "mean     172.877581\n",
       "std       35.932501\n",
       "min      102.279056\n",
       "25%      153.898499\n",
       "50%      181.837454\n",
       "75%      198.242238\n",
       "max      215.974974\n",
       "Name: adv_messages, dtype: float64"
      ]
     },
     "execution_count": 81,
     "metadata": {},
     "output_type": "execute_result"
    }
   ],
   "source": [
    "messages_month_ultra['adv_messages'].describe()"
   ]
  },
  {
   "cell_type": "markdown",
   "metadata": {},
   "source": [
    "На тарифе ультра пользователи в среднем отправляют 43 сообщения в месяц. При этом, чтобы удовлетворить потребности большинства пользователей, в месяц должно быть доступно 172 смс."
   ]
  },
  {
   "cell_type": "markdown",
   "metadata": {},
   "source": [
    "### Показатели по количеству трафика"
   ]
  },
  {
   "cell_type": "code",
   "execution_count": 82,
   "metadata": {},
   "outputs": [
    {
     "data": {
      "text/html": [
       "<style  type=\"text/css\" >\n",
       "    #T_27cbdfc8_aa7c_11eb_afc2_02420a39b750row0_col0 {\n",
       "            : ;\n",
       "            background-color:  green;\n",
       "        }    #T_27cbdfc8_aa7c_11eb_afc2_02420a39b750row0_col1 {\n",
       "            background-color:  yellow;\n",
       "            : ;\n",
       "        }    #T_27cbdfc8_aa7c_11eb_afc2_02420a39b750row0_col2 {\n",
       "            background-color:  yellow;\n",
       "            : ;\n",
       "        }    #T_27cbdfc8_aa7c_11eb_afc2_02420a39b750row0_col3 {\n",
       "            : ;\n",
       "            background-color:  green;\n",
       "        }    #T_27cbdfc8_aa7c_11eb_afc2_02420a39b750row8_col1 {\n",
       "            : ;\n",
       "            background-color:  green;\n",
       "        }    #T_27cbdfc8_aa7c_11eb_afc2_02420a39b750row8_col2 {\n",
       "            : ;\n",
       "            background-color:  green;\n",
       "        }    #T_27cbdfc8_aa7c_11eb_afc2_02420a39b750row11_col0 {\n",
       "            background-color:  yellow;\n",
       "            : ;\n",
       "        }    #T_27cbdfc8_aa7c_11eb_afc2_02420a39b750row11_col3 {\n",
       "            background-color:  yellow;\n",
       "            : ;\n",
       "        }</style><table id=\"T_27cbdfc8_aa7c_11eb_afc2_02420a39b750\" ><thead>    <tr>        <th class=\"blank level0\" ></th>        <th class=\"col_heading level0 col0\" >mean_traffic</th>        <th class=\"col_heading level0 col1\" >var_traffic</th>        <th class=\"col_heading level0 col2\" >std_traffic</th>        <th class=\"col_heading level0 col3\" >adv_traffic</th>    </tr>    <tr>        <th class=\"index_name level0\" >month</th>        <th class=\"blank\" ></th>        <th class=\"blank\" ></th>        <th class=\"blank\" ></th>        <th class=\"blank\" ></th>    </tr></thead><tbody>\n",
       "                <tr>\n",
       "                        <th id=\"T_27cbdfc8_aa7c_11eb_afc2_02420a39b750level0_row0\" class=\"row_heading level0 row0\" >1</th>\n",
       "                        <td id=\"T_27cbdfc8_aa7c_11eb_afc2_02420a39b750row0_col0\" class=\"data row0 col0\" >8.32465</td>\n",
       "                        <td id=\"T_27cbdfc8_aa7c_11eb_afc2_02420a39b750row0_col1\" class=\"data row0 col1\" >39.6979</td>\n",
       "                        <td id=\"T_27cbdfc8_aa7c_11eb_afc2_02420a39b750row0_col2\" class=\"data row0 col2\" >6.30062</td>\n",
       "                        <td id=\"T_27cbdfc8_aa7c_11eb_afc2_02420a39b750row0_col3\" class=\"data row0 col3\" >27.2265</td>\n",
       "            </tr>\n",
       "            <tr>\n",
       "                        <th id=\"T_27cbdfc8_aa7c_11eb_afc2_02420a39b750level0_row1\" class=\"row_heading level0 row1\" >2</th>\n",
       "                        <td id=\"T_27cbdfc8_aa7c_11eb_afc2_02420a39b750row1_col0\" class=\"data row1 col0\" >11.3393</td>\n",
       "                        <td id=\"T_27cbdfc8_aa7c_11eb_afc2_02420a39b750row1_col1\" class=\"data row1 col1\" >37.3071</td>\n",
       "                        <td id=\"T_27cbdfc8_aa7c_11eb_afc2_02420a39b750row1_col2\" class=\"data row1 col2\" >6.10796</td>\n",
       "                        <td id=\"T_27cbdfc8_aa7c_11eb_afc2_02420a39b750row1_col3\" class=\"data row1 col3\" >29.6631</td>\n",
       "            </tr>\n",
       "            <tr>\n",
       "                        <th id=\"T_27cbdfc8_aa7c_11eb_afc2_02420a39b750level0_row2\" class=\"row_heading level0 row2\" >3</th>\n",
       "                        <td id=\"T_27cbdfc8_aa7c_11eb_afc2_02420a39b750row2_col0\" class=\"data row2 col0\" >14.7694</td>\n",
       "                        <td id=\"T_27cbdfc8_aa7c_11eb_afc2_02420a39b750row2_col1\" class=\"data row2 col1\" >32.4751</td>\n",
       "                        <td id=\"T_27cbdfc8_aa7c_11eb_afc2_02420a39b750row2_col2\" class=\"data row2 col2\" >5.69869</td>\n",
       "                        <td id=\"T_27cbdfc8_aa7c_11eb_afc2_02420a39b750row2_col3\" class=\"data row2 col3\" >31.8655</td>\n",
       "            </tr>\n",
       "            <tr>\n",
       "                        <th id=\"T_27cbdfc8_aa7c_11eb_afc2_02420a39b750level0_row3\" class=\"row_heading level0 row3\" >4</th>\n",
       "                        <td id=\"T_27cbdfc8_aa7c_11eb_afc2_02420a39b750row3_col0\" class=\"data row3 col0\" >13.1636</td>\n",
       "                        <td id=\"T_27cbdfc8_aa7c_11eb_afc2_02420a39b750row3_col1\" class=\"data row3 col1\" >31.0396</td>\n",
       "                        <td id=\"T_27cbdfc8_aa7c_11eb_afc2_02420a39b750row3_col2\" class=\"data row3 col2\" >5.57132</td>\n",
       "                        <td id=\"T_27cbdfc8_aa7c_11eb_afc2_02420a39b750row3_col3\" class=\"data row3 col3\" >29.8775</td>\n",
       "            </tr>\n",
       "            <tr>\n",
       "                        <th id=\"T_27cbdfc8_aa7c_11eb_afc2_02420a39b750level0_row4\" class=\"row_heading level0 row4\" >5</th>\n",
       "                        <td id=\"T_27cbdfc8_aa7c_11eb_afc2_02420a39b750row4_col0\" class=\"data row4 col0\" >15.4543</td>\n",
       "                        <td id=\"T_27cbdfc8_aa7c_11eb_afc2_02420a39b750row4_col1\" class=\"data row4 col1\" >34.1629</td>\n",
       "                        <td id=\"T_27cbdfc8_aa7c_11eb_afc2_02420a39b750row4_col2\" class=\"data row4 col2\" >5.8449</td>\n",
       "                        <td id=\"T_27cbdfc8_aa7c_11eb_afc2_02420a39b750row4_col3\" class=\"data row4 col3\" >32.989</td>\n",
       "            </tr>\n",
       "            <tr>\n",
       "                        <th id=\"T_27cbdfc8_aa7c_11eb_afc2_02420a39b750level0_row5\" class=\"row_heading level0 row5\" >6</th>\n",
       "                        <td id=\"T_27cbdfc8_aa7c_11eb_afc2_02420a39b750row5_col0\" class=\"data row5 col0\" >15.4441</td>\n",
       "                        <td id=\"T_27cbdfc8_aa7c_11eb_afc2_02420a39b750row5_col1\" class=\"data row5 col1\" >32.0591</td>\n",
       "                        <td id=\"T_27cbdfc8_aa7c_11eb_afc2_02420a39b750row5_col2\" class=\"data row5 col2\" >5.66208</td>\n",
       "                        <td id=\"T_27cbdfc8_aa7c_11eb_afc2_02420a39b750row5_col3\" class=\"data row5 col3\" >32.4303</td>\n",
       "            </tr>\n",
       "            <tr>\n",
       "                        <th id=\"T_27cbdfc8_aa7c_11eb_afc2_02420a39b750level0_row6\" class=\"row_heading level0 row6\" >7</th>\n",
       "                        <td id=\"T_27cbdfc8_aa7c_11eb_afc2_02420a39b750row6_col0\" class=\"data row6 col0\" >15.3941</td>\n",
       "                        <td id=\"T_27cbdfc8_aa7c_11eb_afc2_02420a39b750row6_col1\" class=\"data row6 col1\" >33.2461</td>\n",
       "                        <td id=\"T_27cbdfc8_aa7c_11eb_afc2_02420a39b750row6_col2\" class=\"data row6 col2\" >5.76595</td>\n",
       "                        <td id=\"T_27cbdfc8_aa7c_11eb_afc2_02420a39b750row6_col3\" class=\"data row6 col3\" >32.6919</td>\n",
       "            </tr>\n",
       "            <tr>\n",
       "                        <th id=\"T_27cbdfc8_aa7c_11eb_afc2_02420a39b750level0_row7\" class=\"row_heading level0 row7\" >8</th>\n",
       "                        <td id=\"T_27cbdfc8_aa7c_11eb_afc2_02420a39b750row7_col0\" class=\"data row7 col0\" >16.2424</td>\n",
       "                        <td id=\"T_27cbdfc8_aa7c_11eb_afc2_02420a39b750row7_col1\" class=\"data row7 col1\" >29.9106</td>\n",
       "                        <td id=\"T_27cbdfc8_aa7c_11eb_afc2_02420a39b750row7_col2\" class=\"data row7 col2\" >5.46906</td>\n",
       "                        <td id=\"T_27cbdfc8_aa7c_11eb_afc2_02420a39b750row7_col3\" class=\"data row7 col3\" >32.6495</td>\n",
       "            </tr>\n",
       "            <tr>\n",
       "                        <th id=\"T_27cbdfc8_aa7c_11eb_afc2_02420a39b750level0_row8\" class=\"row_heading level0 row8\" >9</th>\n",
       "                        <td id=\"T_27cbdfc8_aa7c_11eb_afc2_02420a39b750row8_col0\" class=\"data row8 col0\" >15.9419</td>\n",
       "                        <td id=\"T_27cbdfc8_aa7c_11eb_afc2_02420a39b750row8_col1\" class=\"data row8 col1\" >25.8085</td>\n",
       "                        <td id=\"T_27cbdfc8_aa7c_11eb_afc2_02420a39b750row8_col2\" class=\"data row8 col2\" >5.0802</td>\n",
       "                        <td id=\"T_27cbdfc8_aa7c_11eb_afc2_02420a39b750row8_col3\" class=\"data row8 col3\" >31.1825</td>\n",
       "            </tr>\n",
       "            <tr>\n",
       "                        <th id=\"T_27cbdfc8_aa7c_11eb_afc2_02420a39b750level0_row9\" class=\"row_heading level0 row9\" >10</th>\n",
       "                        <td id=\"T_27cbdfc8_aa7c_11eb_afc2_02420a39b750row9_col0\" class=\"data row9 col0\" >16.3853</td>\n",
       "                        <td id=\"T_27cbdfc8_aa7c_11eb_afc2_02420a39b750row9_col1\" class=\"data row9 col1\" >32.8227</td>\n",
       "                        <td id=\"T_27cbdfc8_aa7c_11eb_afc2_02420a39b750row9_col2\" class=\"data row9 col2\" >5.72911</td>\n",
       "                        <td id=\"T_27cbdfc8_aa7c_11eb_afc2_02420a39b750row9_col3\" class=\"data row9 col3\" >33.5727</td>\n",
       "            </tr>\n",
       "            <tr>\n",
       "                        <th id=\"T_27cbdfc8_aa7c_11eb_afc2_02420a39b750level0_row10\" class=\"row_heading level0 row10\" >11</th>\n",
       "                        <td id=\"T_27cbdfc8_aa7c_11eb_afc2_02420a39b750row10_col0\" class=\"data row10 col0\" >16.521</td>\n",
       "                        <td id=\"T_27cbdfc8_aa7c_11eb_afc2_02420a39b750row10_col1\" class=\"data row10 col1\" >27.2641</td>\n",
       "                        <td id=\"T_27cbdfc8_aa7c_11eb_afc2_02420a39b750row10_col2\" class=\"data row10 col2\" >5.22151</td>\n",
       "                        <td id=\"T_27cbdfc8_aa7c_11eb_afc2_02420a39b750row10_col3\" class=\"data row10 col3\" >32.1855</td>\n",
       "            </tr>\n",
       "            <tr>\n",
       "                        <th id=\"T_27cbdfc8_aa7c_11eb_afc2_02420a39b750level0_row11\" class=\"row_heading level0 row11\" >12</th>\n",
       "                        <td id=\"T_27cbdfc8_aa7c_11eb_afc2_02420a39b750row11_col0\" class=\"data row11 col0\" >17.7118</td>\n",
       "                        <td id=\"T_27cbdfc8_aa7c_11eb_afc2_02420a39b750row11_col1\" class=\"data row11 col1\" >29.6982</td>\n",
       "                        <td id=\"T_27cbdfc8_aa7c_11eb_afc2_02420a39b750row11_col2\" class=\"data row11 col2\" >5.44961</td>\n",
       "                        <td id=\"T_27cbdfc8_aa7c_11eb_afc2_02420a39b750row11_col3\" class=\"data row11 col3\" >34.0606</td>\n",
       "            </tr>\n",
       "    </tbody></table>"
      ],
      "text/plain": [
       "<pandas.io.formats.style.Styler at 0x7f1d90948410>"
      ]
     },
     "execution_count": 82,
     "metadata": {},
     "output_type": "execute_result"
    }
   ],
   "source": [
    "data_final['gb_traffic'] = (data_final['all_traffic'] / 1024)\n",
    "internet_month_smart = data_final[data_final['tariff'] == \"smart\"].pivot_table(index = 'month', values = ['gb_traffic'], \n",
    "                                                                      aggfunc = ['mean', 'var', 'std'])\n",
    "internet_month_smart.columns = ['mean_traffic','var_traffic', 'std_traffic']\n",
    "internet_month_smart['adv_traffic'] = internet_month_smart['mean_traffic'] + (internet_month_smart['std_traffic'] * 3)\n",
    "internet_month_smart.head(13).style.apply(highlight_max).apply(highlight_min)"
   ]
  },
  {
   "cell_type": "code",
   "execution_count": 83,
   "metadata": {},
   "outputs": [
    {
     "data": {
      "text/plain": [
       "Text(0, 0.5, 'Количество значений')"
      ]
     },
     "execution_count": 83,
     "metadata": {},
     "output_type": "execute_result"
    },
    {
     "data": {
      "image/png": "[encoded data removed]",
      "text/plain": [
       "<Figure size 432x288 with 1 Axes>"
      ]
     },
     "metadata": {
      "needs_background": "light"
     },
     "output_type": "display_data"
    }
   ],
   "source": [
    "internet_month_smart['mean_traffic'].hist(bins = 5)\n",
    "plt.title('Среднее количество гигабайт за месяц по тарифу СМАРТ')\n",
    "plt.xlabel('Количество Гб за месяц')\n",
    "plt.ylabel('Количество значений')"
   ]
  },
  {
   "cell_type": "code",
   "execution_count": 84,
   "metadata": {},
   "outputs": [
    {
     "data": {
      "text/plain": [
       "count    12.000000\n",
       "mean     14.724307\n",
       "std       2.612049\n",
       "min       8.324650\n",
       "25%      14.367933\n",
       "50%      15.449203\n",
       "75%      16.278098\n",
       "max      17.711752\n",
       "Name: mean_traffic, dtype: float64"
      ]
     },
     "execution_count": 84,
     "metadata": {},
     "output_type": "execute_result"
    }
   ],
   "source": [
    "internet_month_smart['mean_traffic'].describe()"
   ]
  },
  {
   "cell_type": "code",
   "execution_count": 85,
   "metadata": {},
   "outputs": [],
   "source": [
    "#internet_month_smart['adv_traffic'].hist(bins = 4)"
   ]
  },
  {
   "cell_type": "code",
   "execution_count": 86,
   "metadata": {},
   "outputs": [
    {
     "data": {
      "text/plain": [
       "count    12.000000\n",
       "mean     31.699556\n",
       "std       1.934678\n",
       "min      27.226519\n",
       "25%      30.856277\n",
       "50%      32.307945\n",
       "75%      32.766169\n",
       "max      34.060572\n",
       "Name: adv_traffic, dtype: float64"
      ]
     },
     "execution_count": 86,
     "metadata": {},
     "output_type": "execute_result"
    }
   ],
   "source": [
    "internet_month_smart['adv_traffic'].describe()"
   ]
  },
  {
   "cell_type": "markdown",
   "metadata": {},
   "source": [
    "На тарифе smart пользователи в среднем тратят 14 гб трафика в месяц. При этом, чтобы удовлетворить потребности большинства пользователей, в месяц должно быть доступно не менее 31 гб"
   ]
  },
  {
   "cell_type": "code",
   "execution_count": 87,
   "metadata": {},
   "outputs": [
    {
     "data": {
      "text/html": [
       "<style  type=\"text/css\" >\n",
       "    #T_2823b7ca_aa7c_11eb_afc2_02420a39b750row0_col1 {\n",
       "            : ;\n",
       "            background-color:  green;\n",
       "        }    #T_2823b7ca_aa7c_11eb_afc2_02420a39b750row0_col2 {\n",
       "            : ;\n",
       "            background-color:  green;\n",
       "        }    #T_2823b7ca_aa7c_11eb_afc2_02420a39b750row0_col3 {\n",
       "            : ;\n",
       "            background-color:  green;\n",
       "        }    #T_2823b7ca_aa7c_11eb_afc2_02420a39b750row1_col0 {\n",
       "            : ;\n",
       "            background-color:  green;\n",
       "        }    #T_2823b7ca_aa7c_11eb_afc2_02420a39b750row2_col1 {\n",
       "            background-color:  yellow;\n",
       "            : ;\n",
       "        }    #T_2823b7ca_aa7c_11eb_afc2_02420a39b750row2_col2 {\n",
       "            background-color:  yellow;\n",
       "            : ;\n",
       "        }    #T_2823b7ca_aa7c_11eb_afc2_02420a39b750row11_col0 {\n",
       "            background-color:  yellow;\n",
       "            : ;\n",
       "        }    #T_2823b7ca_aa7c_11eb_afc2_02420a39b750row11_col3 {\n",
       "            background-color:  yellow;\n",
       "            : ;\n",
       "        }</style><table id=\"T_2823b7ca_aa7c_11eb_afc2_02420a39b750\" ><thead>    <tr>        <th class=\"blank level0\" ></th>        <th class=\"col_heading level0 col0\" >mean_traffic</th>        <th class=\"col_heading level0 col1\" >var_traffic</th>        <th class=\"col_heading level0 col2\" >std_traffic</th>        <th class=\"col_heading level0 col3\" >adv_traffic</th>    </tr>    <tr>        <th class=\"index_name level0\" >month</th>        <th class=\"blank\" ></th>        <th class=\"blank\" ></th>        <th class=\"blank\" ></th>        <th class=\"blank\" ></th>    </tr></thead><tbody>\n",
       "                <tr>\n",
       "                        <th id=\"T_2823b7ca_aa7c_11eb_afc2_02420a39b750level0_row0\" class=\"row_heading level0 row0\" >1</th>\n",
       "                        <td id=\"T_2823b7ca_aa7c_11eb_afc2_02420a39b750row0_col0\" class=\"data row0 col0\" >12.8453</td>\n",
       "                        <td id=\"T_2823b7ca_aa7c_11eb_afc2_02420a39b750row0_col1\" class=\"data row0 col1\" >45.0386</td>\n",
       "                        <td id=\"T_2823b7ca_aa7c_11eb_afc2_02420a39b750row0_col2\" class=\"data row0 col2\" >6.71108</td>\n",
       "                        <td id=\"T_2823b7ca_aa7c_11eb_afc2_02420a39b750row0_col3\" class=\"data row0 col3\" >32.9785</td>\n",
       "            </tr>\n",
       "            <tr>\n",
       "                        <th id=\"T_2823b7ca_aa7c_11eb_afc2_02420a39b750level0_row1\" class=\"row_heading level0 row1\" >2</th>\n",
       "                        <td id=\"T_2823b7ca_aa7c_11eb_afc2_02420a39b750row1_col0\" class=\"data row1 col0\" >11.5107</td>\n",
       "                        <td id=\"T_2823b7ca_aa7c_11eb_afc2_02420a39b750row1_col1\" class=\"data row1 col1\" >108.256</td>\n",
       "                        <td id=\"T_2823b7ca_aa7c_11eb_afc2_02420a39b750row1_col2\" class=\"data row1 col2\" >10.4046</td>\n",
       "                        <td id=\"T_2823b7ca_aa7c_11eb_afc2_02420a39b750row1_col3\" class=\"data row1 col3\" >42.7246</td>\n",
       "            </tr>\n",
       "            <tr>\n",
       "                        <th id=\"T_2823b7ca_aa7c_11eb_afc2_02420a39b750level0_row2\" class=\"row_heading level0 row2\" >3</th>\n",
       "                        <td id=\"T_2823b7ca_aa7c_11eb_afc2_02420a39b750row2_col0\" class=\"data row2 col0\" >17.1406</td>\n",
       "                        <td id=\"T_2823b7ca_aa7c_11eb_afc2_02420a39b750row2_col1\" class=\"data row2 col1\" >114.597</td>\n",
       "                        <td id=\"T_2823b7ca_aa7c_11eb_afc2_02420a39b750row2_col2\" class=\"data row2 col2\" >10.705</td>\n",
       "                        <td id=\"T_2823b7ca_aa7c_11eb_afc2_02420a39b750row2_col3\" class=\"data row2 col3\" >49.2556</td>\n",
       "            </tr>\n",
       "            <tr>\n",
       "                        <th id=\"T_2823b7ca_aa7c_11eb_afc2_02420a39b750level0_row3\" class=\"row_heading level0 row3\" >4</th>\n",
       "                        <td id=\"T_2823b7ca_aa7c_11eb_afc2_02420a39b750row3_col0\" class=\"data row3 col0\" >16.449</td>\n",
       "                        <td id=\"T_2823b7ca_aa7c_11eb_afc2_02420a39b750row3_col1\" class=\"data row3 col1\" >90.2404</td>\n",
       "                        <td id=\"T_2823b7ca_aa7c_11eb_afc2_02420a39b750row3_col2\" class=\"data row3 col2\" >9.4995</td>\n",
       "                        <td id=\"T_2823b7ca_aa7c_11eb_afc2_02420a39b750row3_col3\" class=\"data row3 col3\" >44.9475</td>\n",
       "            </tr>\n",
       "            <tr>\n",
       "                        <th id=\"T_2823b7ca_aa7c_11eb_afc2_02420a39b750level0_row4\" class=\"row_heading level0 row4\" >5</th>\n",
       "                        <td id=\"T_2823b7ca_aa7c_11eb_afc2_02420a39b750row4_col0\" class=\"data row4 col0\" >18.9269</td>\n",
       "                        <td id=\"T_2823b7ca_aa7c_11eb_afc2_02420a39b750row4_col1\" class=\"data row4 col1\" >96.4315</td>\n",
       "                        <td id=\"T_2823b7ca_aa7c_11eb_afc2_02420a39b750row4_col2\" class=\"data row4 col2\" >9.81996</td>\n",
       "                        <td id=\"T_2823b7ca_aa7c_11eb_afc2_02420a39b750row4_col3\" class=\"data row4 col3\" >48.3868</td>\n",
       "            </tr>\n",
       "            <tr>\n",
       "                        <th id=\"T_2823b7ca_aa7c_11eb_afc2_02420a39b750level0_row5\" class=\"row_heading level0 row5\" >6</th>\n",
       "                        <td id=\"T_2823b7ca_aa7c_11eb_afc2_02420a39b750row5_col0\" class=\"data row5 col0\" >18.4983</td>\n",
       "                        <td id=\"T_2823b7ca_aa7c_11eb_afc2_02420a39b750row5_col1\" class=\"data row5 col1\" >82.5143</td>\n",
       "                        <td id=\"T_2823b7ca_aa7c_11eb_afc2_02420a39b750row5_col2\" class=\"data row5 col2\" >9.08374</td>\n",
       "                        <td id=\"T_2823b7ca_aa7c_11eb_afc2_02420a39b750row5_col3\" class=\"data row5 col3\" >45.7495</td>\n",
       "            </tr>\n",
       "            <tr>\n",
       "                        <th id=\"T_2823b7ca_aa7c_11eb_afc2_02420a39b750level0_row6\" class=\"row_heading level0 row6\" >7</th>\n",
       "                        <td id=\"T_2823b7ca_aa7c_11eb_afc2_02420a39b750row6_col0\" class=\"data row6 col0\" >20.0338</td>\n",
       "                        <td id=\"T_2823b7ca_aa7c_11eb_afc2_02420a39b750row6_col1\" class=\"data row6 col1\" >96.7765</td>\n",
       "                        <td id=\"T_2823b7ca_aa7c_11eb_afc2_02420a39b750row6_col2\" class=\"data row6 col2\" >9.83751</td>\n",
       "                        <td id=\"T_2823b7ca_aa7c_11eb_afc2_02420a39b750row6_col3\" class=\"data row6 col3\" >49.5464</td>\n",
       "            </tr>\n",
       "            <tr>\n",
       "                        <th id=\"T_2823b7ca_aa7c_11eb_afc2_02420a39b750level0_row7\" class=\"row_heading level0 row7\" >8</th>\n",
       "                        <td id=\"T_2823b7ca_aa7c_11eb_afc2_02420a39b750row7_col0\" class=\"data row7 col0\" >19.1348</td>\n",
       "                        <td id=\"T_2823b7ca_aa7c_11eb_afc2_02420a39b750row7_col1\" class=\"data row7 col1\" >104.862</td>\n",
       "                        <td id=\"T_2823b7ca_aa7c_11eb_afc2_02420a39b750row7_col2\" class=\"data row7 col2\" >10.2402</td>\n",
       "                        <td id=\"T_2823b7ca_aa7c_11eb_afc2_02420a39b750row7_col3\" class=\"data row7 col3\" >49.8555</td>\n",
       "            </tr>\n",
       "            <tr>\n",
       "                        <th id=\"T_2823b7ca_aa7c_11eb_afc2_02420a39b750level0_row8\" class=\"row_heading level0 row8\" >9</th>\n",
       "                        <td id=\"T_2823b7ca_aa7c_11eb_afc2_02420a39b750row8_col0\" class=\"data row8 col0\" >18.7717</td>\n",
       "                        <td id=\"T_2823b7ca_aa7c_11eb_afc2_02420a39b750row8_col1\" class=\"data row8 col1\" >85.9726</td>\n",
       "                        <td id=\"T_2823b7ca_aa7c_11eb_afc2_02420a39b750row8_col2\" class=\"data row8 col2\" >9.27214</td>\n",
       "                        <td id=\"T_2823b7ca_aa7c_11eb_afc2_02420a39b750row8_col3\" class=\"data row8 col3\" >46.5881</td>\n",
       "            </tr>\n",
       "            <tr>\n",
       "                        <th id=\"T_2823b7ca_aa7c_11eb_afc2_02420a39b750level0_row9\" class=\"row_heading level0 row9\" >10</th>\n",
       "                        <td id=\"T_2823b7ca_aa7c_11eb_afc2_02420a39b750row9_col0\" class=\"data row9 col0\" >19.5936</td>\n",
       "                        <td id=\"T_2823b7ca_aa7c_11eb_afc2_02420a39b750row9_col1\" class=\"data row9 col1\" >91.8119</td>\n",
       "                        <td id=\"T_2823b7ca_aa7c_11eb_afc2_02420a39b750row9_col2\" class=\"data row9 col2\" >9.58185</td>\n",
       "                        <td id=\"T_2823b7ca_aa7c_11eb_afc2_02420a39b750row9_col3\" class=\"data row9 col3\" >48.3392</td>\n",
       "            </tr>\n",
       "            <tr>\n",
       "                        <th id=\"T_2823b7ca_aa7c_11eb_afc2_02420a39b750level0_row10\" class=\"row_heading level0 row10\" >11</th>\n",
       "                        <td id=\"T_2823b7ca_aa7c_11eb_afc2_02420a39b750row10_col0\" class=\"data row10 col0\" >19.3411</td>\n",
       "                        <td id=\"T_2823b7ca_aa7c_11eb_afc2_02420a39b750row10_col1\" class=\"data row10 col1\" >93.7847</td>\n",
       "                        <td id=\"T_2823b7ca_aa7c_11eb_afc2_02420a39b750row10_col2\" class=\"data row10 col2\" >9.68425</td>\n",
       "                        <td id=\"T_2823b7ca_aa7c_11eb_afc2_02420a39b750row10_col3\" class=\"data row10 col3\" >48.3939</td>\n",
       "            </tr>\n",
       "            <tr>\n",
       "                        <th id=\"T_2823b7ca_aa7c_11eb_afc2_02420a39b750level0_row11\" class=\"row_heading level0 row11\" >12</th>\n",
       "                        <td id=\"T_2823b7ca_aa7c_11eb_afc2_02420a39b750row11_col0\" class=\"data row11 col0\" >21.3023</td>\n",
       "                        <td id=\"T_2823b7ca_aa7c_11eb_afc2_02420a39b750row11_col1\" class=\"data row11 col1\" >102.906</td>\n",
       "                        <td id=\"T_2823b7ca_aa7c_11eb_afc2_02420a39b750row11_col2\" class=\"data row11 col2\" >10.1443</td>\n",
       "                        <td id=\"T_2823b7ca_aa7c_11eb_afc2_02420a39b750row11_col3\" class=\"data row11 col3\" >51.7352</td>\n",
       "            </tr>\n",
       "    </tbody></table>"
      ],
      "text/plain": [
       "<pandas.io.formats.style.Styler at 0x7f1d90862f90>"
      ]
     },
     "execution_count": 87,
     "metadata": {},
     "output_type": "execute_result"
    }
   ],
   "source": [
    "internet_month_ultra = data_final[data_final['tariff'] == \"ultra\"].pivot_table(index = 'month', values = ['gb_traffic'], \n",
    "                                                                      aggfunc = ['mean', 'var', 'std'])\n",
    "internet_month_ultra.columns = ['mean_traffic','var_traffic', 'std_traffic']\n",
    "internet_month_ultra['adv_traffic'] = internet_month_ultra['mean_traffic'] + (internet_month_ultra['std_traffic'] * 3)\n",
    "internet_month_ultra.head(13).style.apply(highlight_max).apply(highlight_min)"
   ]
  },
  {
   "cell_type": "code",
   "execution_count": 88,
   "metadata": {},
   "outputs": [
    {
     "data": {
      "text/plain": [
       "Text(0, 0.5, 'Количество значений')"
      ]
     },
     "execution_count": 88,
     "metadata": {},
     "output_type": "execute_result"
    },
    {
     "data": {
      "image/png": "[encoded data removed]",
      "text/plain": [
       "<Figure size 432x288 with 1 Axes>"
      ]
     },
     "metadata": {
      "needs_background": "light"
     },
     "output_type": "display_data"
    }
   ],
   "source": [
    "internet_month_ultra['mean_traffic'].hist(bins = 3)\n",
    "plt.title('Среднее количество гигабайт за месяц по тарифу УЛЬТРА')\n",
    "plt.xlabel('Количество Гб за месяц')\n",
    "plt.ylabel('Количество значений')"
   ]
  },
  {
   "cell_type": "code",
   "execution_count": 89,
   "metadata": {},
   "outputs": [
    {
     "data": {
      "text/plain": [
       "count    12.000000\n",
       "mean     17.795688\n",
       "std       2.918537\n",
       "min      11.510701\n",
       "25%      16.967705\n",
       "50%      18.849318\n",
       "75%      19.404251\n",
       "max      21.302334\n",
       "Name: mean_traffic, dtype: float64"
      ]
     },
     "execution_count": 89,
     "metadata": {},
     "output_type": "execute_result"
    }
   ],
   "source": [
    "internet_month_ultra['mean_traffic'].describe()"
   ]
  },
  {
   "cell_type": "code",
   "execution_count": 90,
   "metadata": {
    "scrolled": true
   },
   "outputs": [],
   "source": [
    "#internet_month_ultra['adv_traffic'].hist(bins = 5)"
   ]
  },
  {
   "cell_type": "code",
   "execution_count": 91,
   "metadata": {},
   "outputs": [
    {
     "data": {
      "text/plain": [
       "count    12.000000\n",
       "mean     46.541730\n",
       "std       4.918558\n",
       "min      32.978512\n",
       "25%      45.548993\n",
       "50%      48.362993\n",
       "75%      49.328324\n",
       "max      51.735162\n",
       "Name: adv_traffic, dtype: float64"
      ]
     },
     "execution_count": 91,
     "metadata": {},
     "output_type": "execute_result"
    }
   ],
   "source": [
    "internet_month_ultra['adv_traffic'].describe()"
   ]
  },
  {
   "cell_type": "markdown",
   "metadata": {},
   "source": [
    "На тарифе ультра пользователи в среднем тратят 17 гб трафика в месяц. При этом, чтобы удовлетворить потребности большинства пользователей, в месяц должно быть доступно не менее 46 гб"
   ]
  },
  {
   "cell_type": "markdown",
   "metadata": {},
   "source": [
    "**Значения идеального тарифа (с точки зрения пользователей оператора)**\n",
    "<br><br>\n",
    "**Тариф «Смарт»**\n",
    "\n",
    "<br>936 минут разговора\n",
    "<br>110  сообщений \n",
    "<br>31 ГБ интернет-трафика\n",
    "\n",
    "<br><br>**Тариф «Ультра»**\n",
    "\n",
    "<br>1300 минут разговора\n",
    "<br>172 сообщения\n",
    "<br>46 Гб интернет-трафика\n"
   ]
  },
  {
   "cell_type": "markdown",
   "metadata": {},
   "source": [
    "**Средние значения тарифных планов**\n",
    "<br><br>\n",
    "**Тариф «Смарт»**\n",
    "<br>386 минут разговора\n",
    "<br>31 смс\n",
    "<br>14 Гб интернет-трафика\n",
    "\n",
    "<br><br>**Тариф «Ультра»**\n",
    "<br>430 минут разговора\n",
    "<br>43  смс\n",
    "<br>17 Гб интернет-трафика\n"
   ]
  },
  {
   "cell_type": "markdown",
   "metadata": {},
   "source": [
    "<div class=\"alert alert-success\">\n",
    "<b>Комментарии ревьюера V3:</b> Интересное предложение. Здесь есть один интересный момент, данный тариф был бы идеален для пользователя, но Мегалайн заботится прежде всего о своей прибыли. Возможно, компании выгодны переплаты по тарифу, она зарабатывает на этом. \n",
    "</div>\t"
   ]
  },
  {
   "cell_type": "markdown",
   "metadata": {},
   "source": [
    "<div class=\"alert alert-success\">\n",
    "<b>Комментарии ревьюера V3:</b> Можно еще сделать общую табличку со всеми характеристиками: </div>\t"
   ]
  },
  {
   "cell_type": "code",
   "execution_count": 92,
   "metadata": {},
   "outputs": [
    {
     "data": {
      "text/html": [
       "<div>\n",
       "<style scoped>\n",
       "    .dataframe tbody tr th:only-of-type {\n",
       "        vertical-align: middle;\n",
       "    }\n",
       "\n",
       "    .dataframe tbody tr th {\n",
       "        vertical-align: top;\n",
       "    }\n",
       "\n",
       "    .dataframe thead th {\n",
       "        text-align: right;\n",
       "    }\n",
       "</style>\n",
       "<table border=\"1\" class=\"dataframe\">\n",
       "  <thead>\n",
       "    <tr style=\"text-align: right;\">\n",
       "      <th></th>\n",
       "      <th></th>\n",
       "      <th>duration</th>\n",
       "      <th>all_messages</th>\n",
       "      <th>all_traffic</th>\n",
       "    </tr>\n",
       "    <tr>\n",
       "      <th>tariff</th>\n",
       "      <th></th>\n",
       "      <th></th>\n",
       "      <th></th>\n",
       "      <th></th>\n",
       "    </tr>\n",
       "  </thead>\n",
       "  <tbody>\n",
       "    <tr>\n",
       "      <td rowspan=\"4\" valign=\"top\">smart</td>\n",
       "      <td>mean</td>\n",
       "      <td>418.0</td>\n",
       "      <td>33.0</td>\n",
       "      <td>16229.0</td>\n",
       "    </tr>\n",
       "    <tr>\n",
       "      <td>median</td>\n",
       "      <td>422.0</td>\n",
       "      <td>28.0</td>\n",
       "      <td>16531.0</td>\n",
       "    </tr>\n",
       "    <tr>\n",
       "      <td>var</td>\n",
       "      <td>36219.0</td>\n",
       "      <td>797.0</td>\n",
       "      <td>34545911.0</td>\n",
       "    </tr>\n",
       "    <tr>\n",
       "      <td>std</td>\n",
       "      <td>190.0</td>\n",
       "      <td>28.0</td>\n",
       "      <td>5878.0</td>\n",
       "    </tr>\n",
       "    <tr>\n",
       "      <td rowspan=\"4\" valign=\"top\">ultra</td>\n",
       "      <td>mean</td>\n",
       "      <td>472.0</td>\n",
       "      <td>49.0</td>\n",
       "      <td>19487.0</td>\n",
       "    </tr>\n",
       "    <tr>\n",
       "      <td>median</td>\n",
       "      <td>477.0</td>\n",
       "      <td>38.0</td>\n",
       "      <td>19324.0</td>\n",
       "    </tr>\n",
       "    <tr>\n",
       "      <td>var</td>\n",
       "      <td>94432.0</td>\n",
       "      <td>2285.0</td>\n",
       "      <td>101935621.0</td>\n",
       "    </tr>\n",
       "    <tr>\n",
       "      <td>std</td>\n",
       "      <td>307.0</td>\n",
       "      <td>48.0</td>\n",
       "      <td>10096.0</td>\n",
       "    </tr>\n",
       "  </tbody>\n",
       "</table>\n",
       "</div>"
      ],
      "text/plain": [
       "               duration  all_messages  all_traffic\n",
       "tariff                                            \n",
       "smart  mean       418.0          33.0      16229.0\n",
       "       median     422.0          28.0      16531.0\n",
       "       var      36219.0         797.0   34545911.0\n",
       "       std        190.0          28.0       5878.0\n",
       "ultra  mean       472.0          49.0      19487.0\n",
       "       median     477.0          38.0      19324.0\n",
       "       var      94432.0        2285.0  101935621.0\n",
       "       std        307.0          48.0      10096.0"
      ]
     },
     "execution_count": 92,
     "metadata": {},
     "output_type": "execute_result"
    }
   ],
   "source": [
    "round(data_final.groupby('tariff')[['duration', 'all_messages', 'all_traffic']]\\\n",
    "      .agg(['mean','median','var','std']).stack())\\"
   ]
  },
  {
   "cell_type": "markdown",
   "metadata": {},
   "source": [
    "## Проверка гипотез"
   ]
  },
  {
   "cell_type": "markdown",
   "metadata": {},
   "source": [
    "### Cредняя выручка пользователей тарифов «Ультра» и «Смарт» различается"
   ]
  },
  {
   "cell_type": "code",
   "execution_count": 93,
   "metadata": {},
   "outputs": [],
   "source": [
    "#Рассчитаем среднюю вырочку на каждого пользователя\n",
    "#mean_profit = data_final.pivot_table(index = 'user_id', values = 'profit')\n",
    "#mean_profit = mean_profit.join(users_tariff['tariff'])\n",
    "#mean_profit['profit'] = mean_profit['profit'].astype(int)\n",
    "#mean_profit.head(10)"
   ]
  },
  {
   "cell_type": "code",
   "execution_count": 94,
   "metadata": {},
   "outputs": [
    {
     "data": {
      "text/html": [
       "<div>\n",
       "<style scoped>\n",
       "    .dataframe tbody tr th:only-of-type {\n",
       "        vertical-align: middle;\n",
       "    }\n",
       "\n",
       "    .dataframe tbody tr th {\n",
       "        vertical-align: top;\n",
       "    }\n",
       "\n",
       "    .dataframe thead th {\n",
       "        text-align: right;\n",
       "    }\n",
       "</style>\n",
       "<table border=\"1\" class=\"dataframe\">\n",
       "  <thead>\n",
       "    <tr style=\"text-align: right;\">\n",
       "      <th></th>\n",
       "      <th>profit</th>\n",
       "    </tr>\n",
       "    <tr>\n",
       "      <th>tariff</th>\n",
       "      <th></th>\n",
       "    </tr>\n",
       "  </thead>\n",
       "  <tbody>\n",
       "    <tr>\n",
       "      <td>smart</td>\n",
       "      <td>2.749136e+06</td>\n",
       "    </tr>\n",
       "    <tr>\n",
       "      <td>ultra</td>\n",
       "      <td>2.029622e+06</td>\n",
       "    </tr>\n",
       "  </tbody>\n",
       "</table>\n",
       "</div>"
      ],
      "text/plain": [
       "              profit\n",
       "tariff              \n",
       "smart   2.749136e+06\n",
       "ultra   2.029622e+06"
      ]
     },
     "execution_count": 94,
     "metadata": {},
     "output_type": "execute_result"
    }
   ],
   "source": [
    "#smart_users = 351, ultra_users = 149\n",
    "sum_profit = data_final.pivot_table(index = 'tariff', values = 'profit', aggfunc = 'sum')\n",
    "sum_profit.head(10)"
   ]
  },
  {
   "cell_type": "markdown",
   "metadata": {},
   "source": [
    "Проведем сравнение двух совокупностей и проверим нулевую гипотезу: \"Cредняя выручка пользователей тарифов «Ультра» и «Смарт» равна\". Тогда альтернативная: \"Cредняя выручка пользователей тарифов «Ультра» и «Смарт» не равны\". И по скольку у нас есть исходные данные двух сравниваемых массивов, установим параметр equal_var = False под расчет дисперсий."
   ]
  },
  {
   "cell_type": "markdown",
   "metadata": {},
   "source": [
    "<div class=\"alert alert-success\">\n",
    "<b>Комментарии ревьюера V3:</b> Гипотезы сформулированы верно. "
   ]
  },
  {
   "cell_type": "markdown",
   "metadata": {},
   "source": [
    "<div class=\"alert alert-danger\">\n",
    "<b>Комментарии ревьюера V3:</b> <s>Ниже есть одна ошибка. Нам не нужно делать группировку по пользователям и рассчитывать среднюю выручку. Сам метод st.ttest_ind вычислит средние и будет работать с ними, предварительное усреденение не нужно. Нужно сделать только два среза данных. </s>\n",
    "\n",
    "Теперь все верно, ты используешь .values, чтобы оставить только значения.  Тест также сработал бы корректно, если бы просто отправил два датасета без удаления индексов.\n",
    "</div>\t"
   ]
  },
  {
   "cell_type": "markdown",
   "metadata": {},
   "source": [
    "<div     style = 'color: #FFFFFF;\n",
    "    background-color: #3E94C9;\n",
    "    border-color: #d6e9c6; padding: 15px;\n",
    "    margin-bottom: 18px;\n",
    "    border: 1px solid transparent;\n",
    "    border-radius: 2px;'>\n",
    "<h2> Ответ исполнителя V3:<a class=\"tocSkip\"> </h2>\n",
    "\n",
    "Заменил срезы в двух расчетах. Надо будет детальней изучить принцип работы ttest. \n",
    "</div>"
   ]
  },
  {
   "cell_type": "code",
   "execution_count": 95,
   "metadata": {},
   "outputs": [
    {
     "name": "stdout",
     "output_type": "stream",
     "text": [
      "p-значение: 8.931402711366754e-296\n",
      "Отвергаем нулевую гипотезу\n"
     ]
    }
   ],
   "source": [
    "users_smart = data_final['profit'][data_final['tariff'] == \"smart\"].values\n",
    "users_ultra = data_final['profit'][data_final['tariff'] == \"ultra\"].values\n",
    "\n",
    "\n",
    "alpha = 0.05 # уровень статистической значимости\n",
    "\n",
    "results = st.ttest_ind(users_smart, users_ultra, equal_var = False)\n",
    "\n",
    "print('p-значение:', results.pvalue)\n",
    "\n",
    "if results.pvalue < alpha:\n",
    "    print(\"Отвергаем нулевую гипотезу\")\n",
    "else:\n",
    "    print(\"Не получилось отвергнуть нулевую гипотезу\")"
   ]
  },
  {
   "cell_type": "markdown",
   "metadata": {},
   "source": [
    "Полученное значение p-value говорит о том, что средняя выручка пользователей из разных тарифов, с крайне низкой вероятностью может быть равна между собой."
   ]
  },
  {
   "cell_type": "markdown",
   "metadata": {},
   "source": [
    "### Cредняя выручка пользователей из Москвы отличается от выручки пользователей из других регионов"
   ]
  },
  {
   "cell_type": "markdown",
   "metadata": {},
   "source": [
    "<div class=\"alert alert-danger\">\n",
    "<b>Комментарии ревьюера V3:</b> <s>Здесь также не нужно усреднять по пользователям, просто два среза. Примерно так:\n",
    "    \n",
    "sample_1 = revenue[revenue['city'] == 'Москва']['profit'] \n",
    "\n",
    "sample_2 = revenue[revenue['city'] != 'Москва']['profit']</s> </div>\t"
   ]
  },
  {
   "cell_type": "code",
   "execution_count": 96,
   "metadata": {},
   "outputs": [
    {
     "name": "stdout",
     "output_type": "stream",
     "text": [
      "<class 'pandas.core.frame.DataFrame'>\n",
      "Int64Index: 3214 entries, 1000 to 1499\n",
      "Data columns (total 8 columns):\n",
      "month           3214 non-null int64\n",
      "duration        3214 non-null float64\n",
      "all_messages    3214 non-null float64\n",
      "all_traffic     3214 non-null float64\n",
      "tariff          3214 non-null object\n",
      "profit          3214 non-null float64\n",
      "gb_traffic      3214 non-null float64\n",
      "city            3214 non-null object\n",
      "dtypes: float64(5), int64(1), object(2)\n",
      "memory usage: 226.0+ KB\n"
     ]
    }
   ],
   "source": [
    "profit_users = data_final.join(users_tariff['city'])\n",
    "profit_users.info()"
   ]
  },
  {
   "cell_type": "markdown",
   "metadata": {},
   "source": [
    "Проведем статистический тест двух совокупностей и проверим нулевую гипотезу: \"Cредняя выручка пользователей из Москвы равна выручке пользователей из других регионов\". Тогда альтернативная: \"Cредняя выручка пользователей из Москвы отличается от выручки пользователей из других регионов\". И по скольку у нас есть исходные данные двух сравниваемых массивов, установим параметр equal_var = False под расчет дисперсий."
   ]
  },
  {
   "cell_type": "code",
   "execution_count": 97,
   "metadata": {},
   "outputs": [
    {
     "name": "stdout",
     "output_type": "stream",
     "text": [
      "Среднее по Москве 1507.276761968085\n",
      "Среднее по другим городам 1482.0637267996062\n",
      "p-значение: 0.4549775646471024\n",
      "Не получилось отвергнуть нулевую гипотезу\n"
     ]
    }
   ],
   "source": [
    "users_moscow = profit_users['profit'][profit_users['city'] == \"Москва\"].values\n",
    "users_other = profit_users['profit'][profit_users['city'] != \"Москва\"].values\n",
    "\n",
    "alpha = 0.05 # уровень статистической значимости\n",
    "\n",
    "results = st.ttest_ind(users_moscow, users_other, equal_var = False)\n",
    "print('Среднее по Москве', users_moscow.mean())\n",
    "print('Среднее по другим городам', users_other.mean())\n",
    "\n",
    "print('p-значение:', results.pvalue)\n",
    "\n",
    "if results.pvalue < alpha:\n",
    "    print(\"Отвергаем нулевую гипотезу\")\n",
    "else:\n",
    "    print(\"Не получилось отвергнуть нулевую гипотезу\")"
   ]
  },
  {
   "cell_type": "markdown",
   "metadata": {},
   "source": [
    "Исходя из теста можем предположить, что гипотеза \"Cредняя выручка пользователей из Москвы равна выручке пользователей из других регионов\" - верна, однако, полученное значение p-value говорит о том, что хотя средняя выручка неодинакова, с вероятностью в 45% такое или большее различие можно получить случайно. Это явно слишком большая вероятность, чтобы делать вывод о значимом различии между средними чеками."
   ]
  },
  {
   "cell_type": "markdown",
   "metadata": {},
   "source": [
    "<div class=\"alert alert-success\">\n",
    "<b>Комментарии ревьюера V4:</b> Т-тест проведен корректно. Действительно, это слишком высокая вероятность для того, чтобы делать выводы о значимом различии между средними значениями выручки. </div>\t"
   ]
  },
  {
   "cell_type": "markdown",
   "metadata": {},
   "source": [
    "## Общий вывод:"
   ]
  },
  {
   "cell_type": "markdown",
   "metadata": {},
   "source": [
    "Проанализировав данные 500 пользователей \"Мегалайна\", были проанализированы и выявлены основные потербности пользователей в условиях тарифов \"Смарт\" и \"Ультра\". По оснвным показателям (длительность разговора, сообщения и интернет - трафика) были просчитаны средние показатели востребованности тарифного плана:\n",
    "\n",
    "<br><br>\n",
    "**Тариф «Смарт»**\n",
    "<br>386 минут разговора\n",
    "<br>31 смс\n",
    "<br>14 Гб интернет-трафика\n",
    "\n",
    "<br><br>**Тариф «Ультра»**\n",
    "<br>430 минут разговора\n",
    "<br>43  смс\n",
    "<br>17 Гб интернет-трафика\n",
    "\n",
    "<br><br>\n",
    "А так же были просчитаны общие показатели выручки по двум тарифам (**медиана, среднее и итоговая выручка**):\n",
    "<table>\n",
    "    <tr>\n",
    "        <td>tariff</td>\n",
    "        <td></td>\n",
    "        <td>profit</td>\n",
    "    </tr>\n",
    "    <tr>\n",
    "        <td rowspan=\"3\">smart</td>\n",
    "        <td>Средняя выручка на пользователя</td>\n",
    "        <td>1233</td>\n",
    "    </tr>\n",
    "    <tr>\n",
    "        <td>Медианное значение выручки</td>\n",
    "        <td>960</td>\n",
    "    </tr>\n",
    "    <tr>\n",
    "        <td>Итоговая выручка</td>\n",
    "        <td>2749136<br></td>\n",
    "    </tr>\n",
    "    <tr>\n",
    "        <td rowspan=\"3\">ultra</td>\n",
    "        <td>Средняя выручка на пользователя</td>\n",
    "        <td>2061</td>\n",
    "    </tr>\n",
    "    <tr>\n",
    "        <td>Медианное значение выручки</td>\n",
    "        <td>1950</td>\n",
    "    </tr>\n",
    "    <tr>\n",
    "        <td>Итоговая выручка</td>\n",
    "        <td>2029622</td>\n",
    "    </tr>\n",
    "</table>\n",
    "\n",
    "\n",
    "\n",
    "\n",
    "<br><br>\n",
    "В проанализированной базе данных, пользователей по тарифу \"Смарт\" - 351, а по тарифу \"Ультра\" - 149 , а так же суммарная доходность тарифа \"СМАРТ\" выше на 719 514 р.. Однако, мы видим, что на текущий момент средняя выручка на одного пользователя гораздо выше у тарифа УЛЬТРА. Это значение либо является закономерностью, либо случайностью. ЧТобы определить на сколько низкая вероятность получить эти средние показатели - случайно, были проведены статистические тесты, которые показали, что средняя выручка пользователей из разных тарифов, с крайне низкой вероятностью может быть равна между собой. А сравнение всех пользователей по принадлежности к МСК или другим городам показала, что гипотеза \"Cредняя выручка пользователей из Москвы равна выручке пользователей из других регионов\" - верна, однако, полученное значение p-value говорит о том, что хотя средняя выручка неодинакова, с вероятностью в 45% такое или большее различие можно получить случайно. Это явно слишком большая вероятность, чтобы делать вывод о значимом различии между средними чеками в Москве и других городах.\n",
    "<br><br>\n",
    "Исходя из совокупности обозначенных факторов выше, можно сделать вывод, что тариф \"Ультра\" приносит больше денег, не зависимо от геопозиционирования клиента. В связи с этим, оператору \"Мегалайн\" рекомендуется производить вложения в данный тариф, для увеличения выручки."
   ]
  },
  {
   "cell_type": "markdown",
   "metadata": {},
   "source": [
    "<div class=\"alert alert-success\">\n",
    "<b>Комментарии ревьюера V3:</b> Классно, что сделал очень подробный вывод!\n",
    "\n",
    "\n",
    "<s>Ты уже выполнил основную часть работы. Осталось совсем немного - исправь проверку гипотез и работа будет принята. Я постараюсь сделать следующую проверку максимально быстро. Буду ждать твою работу. </s>\n",
    "</div>\t"
   ]
  },
  {
   "cell_type": "markdown",
   "metadata": {},
   "source": [
    "<div     style = 'color: #FFFFFF;\n",
    "    background-color: #3E94C9;\n",
    "    border-color: #d6e9c6; padding: 15px;\n",
    "    margin-bottom: 18px;\n",
    "    border: 1px solid transparent;\n",
    "    border-radius: 2px;'>\n",
    "<h2> Ответ исполнителя V3:<a class=\"tocSkip\"> </h2>\n",
    "\n",
    "теперь должно быть корректно :) Интересный проект получился, более детально разобрался с тестами. В целом, множество ошибок можно было избежать сразу. Невнимательность и округления без детальных проверок показали свою \"мощь\" :D \n",
    "    \n",
    "Спасибо, Марин, за проверку. С натупающими праздниками! Жду финального ревью :)\n",
    "</div>"
   ]
  },
  {
   "cell_type": "markdown",
   "metadata": {},
   "source": [
    "<div class=\"alert alert-success\">\n",
    "<b>Комментарии ревьюера V4:</b> Ты устранил все замечания. Получилась очень хорошая работа. Ты прав, что окруления могут сильно повлиять на итоговый результат, но ты исправил все неточности. Здорово, что удалось разобраться. На будущее - при написании функций было бы классно подгружать все необходимые значения из таблиц, а не работать с константами. Возможно тебе пригодится: https://towardsdatascience.com/a-python-beginners-look-at-loc-part-1-cb1e1e565ec2 \n",
    "    \n",
    "Также, если хочешь побольше узнать про тест Стьдента, рекомендую два этих видео:\n",
    "    \n",
    "https://www.coursera.org/lecture/stats-for-data-analysis/primier-primienieniie-kritieriiev-st-iudienta-AiIlr\n",
    "    \n",
    "https://www.coursera.org/lecture/python-for-data-science/provierka-ghipotiez-i-raspriedielieniie-st-iudienta-FOVmh\n",
    "    \n",
    "Здесь разбираются одновыборочные и двухвыборочные критерии.\n",
    "    \n",
    "Удачи в следующих проектах!\n",
    "</div>\t"
   ]
  },
  {
   "cell_type": "code",
   "execution_count": null,
   "metadata": {},
   "outputs": [],
   "source": []
  }
 ],
 "metadata": {
  "kernelspec": {
   "display_name": "Python 3 (ipykernel)",
   "language": "python",
   "name": "python3"
  },
  "language_info": {
   "codemirror_mode": {
    "name": "ipython",
    "version": 3
   },
   "file_extension": ".py",
   "mimetype": "text/x-python",
   "name": "python",
   "nbconvert_exporter": "python",
   "pygments_lexer": "ipython3",
   "version": "3.9.5"
  },
  "toc": {
   "base_numbering": 1,
   "nav_menu": {},
   "number_sections": false,
   "sideBar": true,
   "skip_h1_title": true,
   "title_cell": "Содержание",
   "title_sidebar": "Содержание",
   "toc_cell": true,
   "toc_position": {
    "height": "700px",
    "left": "940px",
    "top": "269px",
    "width": "552.378px"
   },
   "toc_section_display": true,
   "toc_window_display": false
  }
 },
 "nbformat": 4,
 "nbformat_minor": 2
}
